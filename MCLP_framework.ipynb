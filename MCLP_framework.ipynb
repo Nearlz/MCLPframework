{
  "cells": [
    {
      "cell_type": "code",
      "execution_count": 21,
      "metadata": {
        "colab": {
          "base_uri": "https://localhost:8080/"
        },
        "id": "I0nlZKgpCP3o",
        "outputId": "8f377390-ebd5-4f14-cd9b-bf486d8894f9"
      },
      "outputs": [
        {
          "name": "stdout",
          "output_type": "stream",
          "text": [
            "b1: Block: l: 4 w: 2 h: True weight: 1 stacking_weight_resistance: 1000 volume: 8 occupied_volume: 8 items: {<src.base.Boxtype object at 0x132aaa190>: 1} ratio:1.0\n",
            "b2: Block: l: 2 w: 3 h: True weight: 1 stacking_weight_resistance: 1000 volume: 6 occupied_volume: 6 items: {<src.base.Boxtype object at 0x102ed9340>: 1} ratio:1.0\n",
            "b3: Block: l: True w: 2 h: 1 weight: 1 stacking_weight_resistance: 1000 volume: 2 occupied_volume: 2 items: {<src.base.Boxtype object at 0x102ed9d90>: 1} ratio:1.0\n",
            "False b1+b2: Block: l: 4 w: 2 h: True weight: 1 stacking_weight_resistance: 1000 volume: 8 occupied_volume: 8 items: {<src.base.Boxtype object at 0x132aaa190>: 1} ratio:1.0\n",
            "False b1+b3: Block: l: 4 w: 2 h: True weight: 1 stacking_weight_resistance: 1000 volume: 8 occupied_volume: 8 items: {<src.base.Boxtype object at 0x132aaa190>: 1} ratio:1.0\n",
            "True b1+b1: Block: l: 8 w: 2 h: True weight: 2 stacking_weight_resistance: 1000 volume: 16 occupied_volume: 16 items: {<src.base.Boxtype object at 0x132aaa190>: 2} ratio:1.0\n"
          ]
        }
      ],
      "source": [
        "from src.base import Block, Boxtype\n",
        "import src.vcs_function as eval\n",
        "import src.box_plotter as bxplot\n",
        "import time\n",
        "import pandas as pd\n",
        "\n",
        "#test Blocks\n",
        "b1 = Block(boxtype=Boxtype(1,2,4,True,True,True,1), rot='wlh')\n",
        "b2 = Block(boxtype=Boxtype(1,2,3,True,True,True,1), rot='lwh')\n",
        "b3 = Block(boxtype=Boxtype(1,1,2,True,True,True,1), rot='hwl')\n",
        "\n",
        "#test join\n",
        "print(\"b1:\",b1); print(\"b2:\",b2); print(\"b3:\",b3)\n",
        "t=b1.join(b2, 'y'); print(t,\"b1+b2:\",b1)\n",
        "t=b1.join(b3, 'z'); print(t,\"b1+b3:\",b1)\n",
        "t=b1.join(b1, 'x'); print(t,\"b1+b1:\",b1)"
      ]
    },
    {
      "attachments": {},
      "cell_type": "markdown",
      "metadata": {
        "id": "fkcg_ZG9ijg_"
      },
      "source": [
        "## Plot container"
      ]
    },
    {
      "cell_type": "code",
      "execution_count": 22,
      "metadata": {
        "id": "Y1ePisniGkvs"
      },
      "outputs": [],
      "source": [
        "def load_instance(filename = \"instancia.txt\", type=\"BF\", id_instance=5):\n",
        "    with open(filename, \"r\") as file:\n",
        "        #discard first line\n",
        "        file.readline()\n",
        "      \n",
        "        for j in range(100):\n",
        "            file.readline()\n",
        "            L, W, H, WEIGHT,SUPPORTED_WEIGHT = [int(x) for x in file.readline().split()]\n",
        "\n",
        "            #read second line\n",
        "            n = int(file.readline())\n",
        "            #read n lines\n",
        "            items = Itemdict()\n",
        "            for i in range(n):\n",
        "                id, l, rotx, w, roty, h, rotz, n, weight, supported_weight = [int(x) for x in file.readline().split()]    \n",
        "                item = Boxtype(id, l, w, h, rotx, roty, rotz, weight, supported_weight)\n",
        "                items[item]=n\n",
        "            \n",
        "            if j == id_instance: return  items, L, W, H, WEIGHT, SUPPORTED_WEIGHT"
      ]
    },
    {
      "cell_type": "code",
      "execution_count": 23,
      "metadata": {},
      "outputs": [],
      "source": [
        "def adyacent_blocks(blocks,container,p):\n",
        "    last = blocks[-1]\n",
        "    adyacent = list()\n",
        "    box_dims = []\n",
        "    \n",
        "    for block in blocks[:-1]:\n",
        "        \n",
        "        if abs(block.xmax - last.xmin) <= (block.xmax - block.xmin) * p and ((block.zmin < last.zmax and block.zmax > last.zmin ) and (block.ymin < last.ymax and block.ymax > last.ymin )):\n",
        "            z_diff_max = max([block.zmin,last.zmin])\n",
        "            z_diff_min = min([block.zmax,last.zmax])\n",
        "            y_diff_max = max([block.ymin,last.ymin])\n",
        "            y_diff_min = min([block.ymax,last.ymax])\n",
        "            adyacent.append(block)\n",
        "            block.covered_surface+= (z_diff_min-z_diff_max) * (y_diff_min-y_diff_max)\n",
        "            block.covered_surface_face['X1']+= (z_diff_min-z_diff_max) * (y_diff_min-y_diff_max)\n",
        "            last.covered_surface+= (z_diff_min-z_diff_max) * (y_diff_min-y_diff_max)\n",
        "            last.covered_surface_face['X2']+= (z_diff_min-z_diff_max) * (y_diff_min-y_diff_max)\n",
        "\n",
        "        elif abs(block.xmin - last.xmax) <= (block.xmax - block.xmin) * p and ((block.zmin < last.zmax and block.zmax > last.zmin ) and (block.ymin < last.ymax and block.ymax > last.ymin )):\n",
        "            z_diff_max = max([block.zmin,last.zmin])\n",
        "            z_diff_min = min([block.zmax,last.zmax])\n",
        "            y_diff_max = max([block.ymin,last.ymin])\n",
        "            y_diff_min = min([block.ymax,last.ymax])\n",
        "            adyacent.append(block)\n",
        "            block.covered_surface+= (z_diff_min-z_diff_max) * (y_diff_min-y_diff_max)\n",
        "            block.covered_surface_face['X2']+= (z_diff_min-z_diff_max) * (y_diff_min-y_diff_max)\n",
        "            last.covered_surface+= (z_diff_min-z_diff_max) * (y_diff_min-y_diff_max)\n",
        "            last.covered_surface_face['X1']+= (z_diff_min-z_diff_max) * (y_diff_min-y_diff_max)\n",
        "\n",
        "        elif abs(block.ymax - last.ymin) <= (block.ymax - block.ymin) * p and ((block.zmin < last.zmax and block.zmax > last.zmin ) and (block.xmin < last.xmax and block.xmax > last.xmin )):\n",
        "            z_diff_max = max([block.zmin,last.zmin])\n",
        "            z_diff_min = min([block.zmax,last.zmax])\n",
        "            x_diff_max = max([block.xmin,last.xmin])\n",
        "            x_diff_min = min([block.xmax,last.xmax])\n",
        "            adyacent.append(block)\n",
        "            block.covered_surface+= (z_diff_min-z_diff_max) * (x_diff_min-x_diff_max)\n",
        "            block.covered_surface_face['Y1']+= (z_diff_min-z_diff_max) * (x_diff_min-x_diff_max)\n",
        "            last.covered_surface+= (z_diff_min-z_diff_max) * (x_diff_min-x_diff_max)\n",
        "            last.covered_surface_face['Y2']+= (z_diff_min-z_diff_max) * (x_diff_min-x_diff_max)\n",
        "\n",
        "        elif abs(block.ymin - last.ymax) <= (block.ymax - block.ymin) * p and ((block.zmin < last.zmax and block.zmax > last.zmin ) and (block.xmin < last.xmax and block.xmax > last.xmin )):\n",
        "            z_diff_max = max([block.zmin,last.zmin])\n",
        "            z_diff_min = min([block.zmax,last.zmax])\n",
        "            x_diff_max = max([block.xmin,last.xmin])\n",
        "            x_diff_min = min([block.xmax,last.xmax])\n",
        "            adyacent.append(block)\n",
        "            block.covered_surface+= (z_diff_min-z_diff_max) * (x_diff_min-x_diff_max)\n",
        "            block.covered_surface_face['Y2']+= (z_diff_min-z_diff_max) * (x_diff_min-x_diff_max)\n",
        "            last.covered_surface+= (z_diff_min-z_diff_max) * (x_diff_min-x_diff_max)\n",
        "            last.covered_surface_face['Y1']+= (z_diff_min-z_diff_max) * (x_diff_min-x_diff_max)\n",
        "\n",
        "        if block.xmin <= (block.xmax - block.xmin) * p or abs(block.xmax - container.l) <= (block.xmax - block.xmin) * p:\n",
        "            block.covered_surface+= ((block.ymax-block.ymin) * (block.zmax-block.zmin))\n",
        "        if block.ymin <= (block.ymax - block.ymin) * p or abs(block.ymax - container.w) <= (block.ymax - block.ymin) * p:\n",
        "            block.covered_surface+= ((block.xmax-block.xmin) * (block.zmax-block.zmin))\n",
        "            \n",
        "    # if(len(adyacent)!=0):\n",
        "        # print(last.covered_surface_face)\n",
        "        # box_dims.append([last.xmin,last.ymin,last.zmin,last.xmax,last.ymax,last.zmax])\n",
        "        # for aabb in adyacent:\n",
        "        #     box_dims.append([aabb.xmin,aabb.ymin,aabb.zmin,aabb.xmax,aabb.ymax,aabb.zmax])\n",
        "        # bxplot.plot_container([L,W,H], box_dims)\n",
        "    pass"
      ]
    },
    {
      "attachments": {},
      "cell_type": "markdown",
      "metadata": {
        "id": "7uoXha4GlgGj"
      },
      "source": [
        "# The main code"
      ]
    },
    {
      "cell_type": "code",
      "execution_count": 24,
      "metadata": {
        "colab": {
          "base_uri": "https://localhost:8080/"
        },
        "id": "j43GfNpc5eiS",
        "outputId": "81cbc06a-4aca-4c48-f89b-cd27ac5f0753"
      },
      "outputs": [],
      "source": [
        "\n",
        "from src.base import Itemdict, BlockList, Aabb, Space\n",
        "from src.restrictions import center_of_gravity\n",
        "# alpha,beta,gamma,delta,p,epsilon\n",
        "params = [4,2,1,0.05,0.05,0.2,0.2]\n",
        "\n",
        "def MLCP_function(params,instance,filename = 'data/BR4.txt',weight_restriction=False, max_distance_cg=-1):\n",
        "\n",
        "  start_time = time.time()\n",
        "\n",
        "  Space.filling = \"bottom-up\" #\"bottom-up\" # spaces are filled from bottom to top\n",
        "  Space.vertical_stability = True#False # boxes must be completly supported\n",
        "\n",
        "  items, L, W, H, WEIGHT,SUPPORTED_WEIGHT = load_instance(filename = filename, type=\"BF\", id_instance=instance)\n",
        "\n",
        "  cont = Block(l=L,w=W,h=H,weight=WEIGHT,stacking_weight_resistance=SUPPORTED_WEIGHT)\n",
        "\n",
        "  # print(\"generating blocks...\")\n",
        "  blocks = BlockList(items, type=\"general_blocks\", cont=cont, min_fr=1.0, max_bl=1000) \n",
        "\n",
        "  # for x in blocks:\n",
        "  #    print(x.items.values())\n",
        "\n",
        "  import csv\n",
        "  TOTAL_VOLUME = []\n",
        "  history_CG = []\n",
        "\n",
        "  # greedy for single CLP\n",
        "  while True:\n",
        "      space = cont.free_space.closest_space() #cuboide mas cercano a un vertice inferior del contenedor\n",
        "\n",
        "      if space is not None:\n",
        "        # print(\"?????????????\")\n",
        "        # print(\"volumen space: \", space.volume)\n",
        "        csv_filename = \"HISTORIAL_SPACEEEEE.csv\"\n",
        "        with open(csv_filename, mode='a', newline='') as csv_file:\n",
        "            csv_writer = csv.writer(csv_file)\n",
        "            csv_writer.writerow([space.volume])\n",
        "\n",
        "        block = eval.eval_function(blocks,space,params=params,container=cont,items=items, weight_restriction=weight_restriction,  max_distance_cg=max_distance_cg)\n",
        "\n",
        "        if block is None: #si es none es porque no se cumple la restriccion CG o Stacking\n",
        "          # print(\"block is None !!!!!!!!\")\n",
        "          break\n",
        "\n",
        "        # print(\"adding block...\", block)\n",
        "        if block is not None:\n",
        "          cont.add_block(block, space) #Aabb\n",
        "          # p = params[4]\n",
        "          # adyacent_blocks(cont.aabbs,cont,p)\n",
        "          items -= block.items\n",
        "          blocks.remove_unconstructable(items)\n",
        "          cont.free_space.filter(items)\n",
        "          # total_volume = sum([x.volume for x in cont.aabbs])\n",
        "          TOTAL_VOLUME.append(block.occupied_volume)\n",
        "          history_CG.append(center_of_gravity(cont,None,None))\n",
        "      else:\n",
        "          break\n",
        "  gap = params[4]\n",
        "  DS = eval.dynamic_stability(blocks=None,space=None,gap=gap,container=cont,final=True)\n",
        "  end_time = time.time()\n",
        "\n",
        "  execution_time = end_time - start_time\n",
        "\n",
        "  total_volume = [x.volume for x in cont.aabbs]\n",
        "  # TOTAL_VOLUME = sum(TOTAL_VOLUME)\n",
        "\n",
        "  return cont,execution_time,total_volume,TOTAL_VOLUME,DS,history_CG\n",
        "\n",
        "  # print(f'tiempo: {execution_time} s ; volumen total: {cont.l * cont.w * cont.h} ; volumen ocupado: {total_volume} ; centro de gravedad: {center_of_gravity(cont)}')\n"
      ]
    },
    {
      "cell_type": "code",
      "execution_count": 32,
      "metadata": {},
      "outputs": [
        {
          "name": "stdout",
          "output_type": "stream",
          "text": [
            "cont despues de ejecutar MLCP\n"
          ]
        },
        {
          "data": {
            "application/vnd.plotly.v1+json": {
              "config": {
                "linkText": "Export to plot.ly",
                "plotlyServerURL": "https://plot.ly",
                "showLink": false
              },
              "data": [
                {
                  "color": "rgb(203.9266540573255,125.50481790358921,157.1072917421114)",
                  "i": [
                    7,
                    0,
                    0,
                    0,
                    4,
                    4,
                    2,
                    6,
                    4,
                    0,
                    3,
                    7
                  ],
                  "j": [
                    3,
                    4,
                    1,
                    2,
                    5,
                    6,
                    5,
                    5,
                    0,
                    1,
                    2,
                    2
                  ],
                  "k": [
                    0,
                    7,
                    2,
                    3,
                    6,
                    7,
                    1,
                    2,
                    5,
                    5,
                    7,
                    6
                  ],
                  "opacity": 1,
                  "type": "mesh3d",
                  "x": [
                    0,
                    0,
                    412,
                    412,
                    0,
                    0,
                    412,
                    412
                  ],
                  "y": [
                    0,
                    76,
                    76,
                    0,
                    0,
                    76,
                    76,
                    0
                  ],
                  "z": [
                    0,
                    0,
                    0,
                    0,
                    64,
                    64,
                    64,
                    64
                  ]
                },
                {
                  "color": "rgb(7.020927541925015,80.61168959249409,73.74424400156875)",
                  "i": [
                    7,
                    0,
                    0,
                    0,
                    4,
                    4,
                    2,
                    6,
                    4,
                    0,
                    3,
                    7
                  ],
                  "j": [
                    3,
                    4,
                    1,
                    2,
                    5,
                    6,
                    5,
                    5,
                    0,
                    1,
                    2,
                    2
                  ],
                  "k": [
                    0,
                    7,
                    2,
                    3,
                    6,
                    7,
                    1,
                    2,
                    5,
                    5,
                    7,
                    6
                  ],
                  "opacity": 1,
                  "type": "mesh3d",
                  "x": [
                    0,
                    0,
                    340,
                    340,
                    0,
                    0,
                    340,
                    340
                  ],
                  "y": [
                    149,
                    233,
                    233,
                    149,
                    149,
                    233,
                    233,
                    149
                  ],
                  "z": [
                    0,
                    0,
                    0,
                    0,
                    72,
                    72,
                    72,
                    72
                  ]
                },
                {
                  "color": "rgb(136.34382390367597,151.6270117612044,173.25373892383018)",
                  "i": [
                    7,
                    0,
                    0,
                    0,
                    4,
                    4,
                    2,
                    6,
                    4,
                    0,
                    3,
                    7
                  ],
                  "j": [
                    3,
                    4,
                    1,
                    2,
                    5,
                    6,
                    5,
                    5,
                    0,
                    1,
                    2,
                    2
                  ],
                  "k": [
                    0,
                    7,
                    2,
                    3,
                    6,
                    7,
                    1,
                    2,
                    5,
                    5,
                    7,
                    6
                  ],
                  "opacity": 1,
                  "type": "mesh3d",
                  "x": [
                    417,
                    417,
                    587,
                    587,
                    417,
                    417,
                    587,
                    587
                  ],
                  "y": [
                    0,
                    168,
                    168,
                    0,
                    0,
                    168,
                    168,
                    0
                  ],
                  "z": [
                    0,
                    0,
                    0,
                    0,
                    72,
                    72,
                    72,
                    72
                  ]
                },
                {
                  "color": "rgb(59.97997343204263,49.905581927083055,118.15658131244322)",
                  "i": [
                    7,
                    0,
                    0,
                    0,
                    4,
                    4,
                    2,
                    6,
                    4,
                    0,
                    3,
                    7
                  ],
                  "j": [
                    3,
                    4,
                    1,
                    2,
                    5,
                    6,
                    5,
                    5,
                    0,
                    1,
                    2,
                    2
                  ],
                  "k": [
                    0,
                    7,
                    2,
                    3,
                    6,
                    7,
                    1,
                    2,
                    5,
                    5,
                    7,
                    6
                  ],
                  "opacity": 1,
                  "type": "mesh3d",
                  "x": [
                    359,
                    359,
                    587,
                    587,
                    359,
                    359,
                    587,
                    587
                  ],
                  "y": [
                    169,
                    233,
                    233,
                    169,
                    169,
                    233,
                    233,
                    169
                  ],
                  "z": [
                    0,
                    0,
                    0,
                    0,
                    103,
                    103,
                    103,
                    103
                  ]
                },
                {
                  "color": "rgb(191.76220632553677,17.00158094765902,128.73476697151145)",
                  "i": [
                    7,
                    0,
                    0,
                    0,
                    4,
                    4,
                    2,
                    6,
                    4,
                    0,
                    3,
                    7
                  ],
                  "j": [
                    3,
                    4,
                    1,
                    2,
                    5,
                    6,
                    5,
                    5,
                    0,
                    1,
                    2,
                    2
                  ],
                  "k": [
                    0,
                    7,
                    2,
                    3,
                    6,
                    7,
                    1,
                    2,
                    5,
                    5,
                    7,
                    6
                  ],
                  "opacity": 1,
                  "type": "mesh3d",
                  "x": [
                    0,
                    0,
                    380,
                    380,
                    0,
                    0,
                    380,
                    380
                  ],
                  "y": [
                    76,
                    146,
                    146,
                    76,
                    76,
                    146,
                    146,
                    76
                  ],
                  "z": [
                    0,
                    0,
                    0,
                    0,
                    62,
                    62,
                    62,
                    62
                  ]
                },
                {
                  "color": "rgb(223.19597435356386,55.74134746151657,235.78351969398506)",
                  "i": [
                    7,
                    0,
                    0,
                    0,
                    4,
                    4,
                    2,
                    6,
                    4,
                    0,
                    3,
                    7
                  ],
                  "j": [
                    3,
                    4,
                    1,
                    2,
                    5,
                    6,
                    5,
                    5,
                    0,
                    1,
                    2,
                    2
                  ],
                  "k": [
                    0,
                    7,
                    2,
                    3,
                    6,
                    7,
                    1,
                    2,
                    5,
                    5,
                    7,
                    6
                  ],
                  "opacity": 1,
                  "type": "mesh3d",
                  "x": [
                    0,
                    0,
                    380,
                    380,
                    0,
                    0,
                    380,
                    380
                  ],
                  "y": [
                    76,
                    146,
                    146,
                    76,
                    76,
                    146,
                    146,
                    76
                  ],
                  "z": [
                    62,
                    62,
                    62,
                    62,
                    124,
                    124,
                    124,
                    124
                  ]
                },
                {
                  "color": "rgb(68.29718433002813,129.32027242493433,136.74757772387176)",
                  "i": [
                    7,
                    0,
                    0,
                    0,
                    4,
                    4,
                    2,
                    6,
                    4,
                    0,
                    3,
                    7
                  ],
                  "j": [
                    3,
                    4,
                    1,
                    2,
                    5,
                    6,
                    5,
                    5,
                    0,
                    1,
                    2,
                    2
                  ],
                  "k": [
                    0,
                    7,
                    2,
                    3,
                    6,
                    7,
                    1,
                    2,
                    5,
                    5,
                    7,
                    6
                  ],
                  "opacity": 1,
                  "type": "mesh3d",
                  "x": [
                    0,
                    0,
                    344,
                    344,
                    0,
                    0,
                    344,
                    344
                  ],
                  "y": [
                    0,
                    76,
                    76,
                    0,
                    0,
                    76,
                    76,
                    0
                  ],
                  "z": [
                    64,
                    64,
                    64,
                    64,
                    102,
                    102,
                    102,
                    102
                  ]
                },
                {
                  "color": "rgb(196.36360093631828,125.64697725116443,109.4183510490661)",
                  "i": [
                    7,
                    0,
                    0,
                    0,
                    4,
                    4,
                    2,
                    6,
                    4,
                    0,
                    3,
                    7
                  ],
                  "j": [
                    3,
                    4,
                    1,
                    2,
                    5,
                    6,
                    5,
                    5,
                    0,
                    1,
                    2,
                    2
                  ],
                  "k": [
                    0,
                    7,
                    2,
                    3,
                    6,
                    7,
                    1,
                    2,
                    5,
                    5,
                    7,
                    6
                  ],
                  "opacity": 1,
                  "type": "mesh3d",
                  "x": [
                    352,
                    352,
                    412,
                    412,
                    352,
                    352,
                    412,
                    412
                  ],
                  "y": [
                    0,
                    41,
                    41,
                    0,
                    0,
                    41,
                    41,
                    0
                  ],
                  "z": [
                    64,
                    64,
                    64,
                    64,
                    217,
                    217,
                    217,
                    217
                  ]
                },
                {
                  "color": "rgb(93.83379927664488,226.04378692752192,22.525775872802175)",
                  "i": [
                    7,
                    0,
                    0,
                    0,
                    4,
                    4,
                    2,
                    6,
                    4,
                    0,
                    3,
                    7
                  ],
                  "j": [
                    3,
                    4,
                    1,
                    2,
                    5,
                    6,
                    5,
                    5,
                    0,
                    1,
                    2,
                    2
                  ],
                  "k": [
                    0,
                    7,
                    2,
                    3,
                    6,
                    7,
                    1,
                    2,
                    5,
                    5,
                    7,
                    6
                  ],
                  "opacity": 1,
                  "type": "mesh3d",
                  "x": [
                    363,
                    363,
                    412,
                    412,
                    363,
                    363,
                    412,
                    412
                  ],
                  "y": [
                    41,
                    62,
                    62,
                    41,
                    41,
                    62,
                    62,
                    41
                  ],
                  "z": [
                    64,
                    64,
                    64,
                    64,
                    214,
                    214,
                    214,
                    214
                  ]
                },
                {
                  "color": "rgb(253.70981464709757,230.58467203621896,247.95751654058535)",
                  "i": [
                    7,
                    0,
                    0,
                    0,
                    4,
                    4,
                    2,
                    6,
                    4,
                    0,
                    3,
                    7
                  ],
                  "j": [
                    3,
                    4,
                    1,
                    2,
                    5,
                    6,
                    5,
                    5,
                    0,
                    1,
                    2,
                    2
                  ],
                  "k": [
                    0,
                    7,
                    2,
                    3,
                    6,
                    7,
                    1,
                    2,
                    5,
                    5,
                    7,
                    6
                  ],
                  "opacity": 1,
                  "type": "mesh3d",
                  "x": [
                    0,
                    0,
                    258,
                    258,
                    0,
                    0,
                    258,
                    258
                  ],
                  "y": [
                    157,
                    233,
                    233,
                    157,
                    157,
                    233,
                    233,
                    157
                  ],
                  "z": [
                    72,
                    72,
                    72,
                    72,
                    110,
                    110,
                    110,
                    110
                  ]
                },
                {
                  "color": "rgb(210.38976062528099,238.0012854559944,116.2357086381277)",
                  "i": [
                    7,
                    0,
                    0,
                    0,
                    4,
                    4,
                    2,
                    6,
                    4,
                    0,
                    3,
                    7
                  ],
                  "j": [
                    3,
                    4,
                    1,
                    2,
                    5,
                    6,
                    5,
                    5,
                    0,
                    1,
                    2,
                    2
                  ],
                  "k": [
                    0,
                    7,
                    2,
                    3,
                    6,
                    7,
                    1,
                    2,
                    5,
                    5,
                    7,
                    6
                  ],
                  "opacity": 1,
                  "type": "mesh3d",
                  "x": [
                    445,
                    445,
                    587,
                    587,
                    445,
                    445,
                    587,
                    587
                  ],
                  "y": [
                    0,
                    96,
                    96,
                    0,
                    0,
                    96,
                    96,
                    0
                  ],
                  "z": [
                    72,
                    72,
                    72,
                    72,
                    119,
                    119,
                    119,
                    119
                  ]
                },
                {
                  "color": "rgb(152.8717935119788,1.9129681136173515,118.21429440527498)",
                  "i": [
                    7,
                    0,
                    0,
                    0,
                    4,
                    4,
                    2,
                    6,
                    4,
                    0,
                    3,
                    7
                  ],
                  "j": [
                    3,
                    4,
                    1,
                    2,
                    5,
                    6,
                    5,
                    5,
                    0,
                    1,
                    2,
                    2
                  ],
                  "k": [
                    0,
                    7,
                    2,
                    3,
                    6,
                    7,
                    1,
                    2,
                    5,
                    5,
                    7,
                    6
                  ],
                  "opacity": 1,
                  "type": "mesh3d",
                  "x": [
                    443,
                    443,
                    587,
                    587,
                    443,
                    443,
                    587,
                    587
                  ],
                  "y": [
                    97,
                    168,
                    168,
                    97,
                    97,
                    168,
                    168,
                    97
                  ],
                  "z": [
                    72,
                    72,
                    72,
                    72,
                    119,
                    119,
                    119,
                    119
                  ]
                },
                {
                  "color": "rgb(1.6369517578130726,62.171983205489035,89.81314150779225)",
                  "i": [
                    7,
                    0,
                    0,
                    0,
                    4,
                    4,
                    2,
                    6,
                    4,
                    0,
                    3,
                    7
                  ],
                  "j": [
                    3,
                    4,
                    1,
                    2,
                    5,
                    6,
                    5,
                    5,
                    0,
                    1,
                    2,
                    2
                  ],
                  "k": [
                    0,
                    7,
                    2,
                    3,
                    6,
                    7,
                    1,
                    2,
                    5,
                    5,
                    7,
                    6
                  ],
                  "opacity": 1,
                  "type": "mesh3d",
                  "x": [
                    258,
                    258,
                    340,
                    340,
                    258,
                    258,
                    340,
                    340
                  ],
                  "y": [
                    173,
                    233,
                    233,
                    173,
                    173,
                    233,
                    233,
                    173
                  ],
                  "z": [
                    72,
                    72,
                    72,
                    72,
                    123,
                    123,
                    123,
                    123
                  ]
                },
                {
                  "color": "rgb(57.95727154454036,30.14372605266051,42.62659550115584)",
                  "i": [
                    7,
                    0,
                    0,
                    0,
                    4,
                    4,
                    2,
                    6,
                    4,
                    0,
                    3,
                    7
                  ],
                  "j": [
                    3,
                    4,
                    1,
                    2,
                    5,
                    6,
                    5,
                    5,
                    0,
                    1,
                    2,
                    2
                  ],
                  "k": [
                    0,
                    7,
                    2,
                    3,
                    6,
                    7,
                    1,
                    2,
                    5,
                    5,
                    7,
                    6
                  ],
                  "opacity": 1,
                  "type": "mesh3d",
                  "x": [
                    0,
                    0,
                    333,
                    333,
                    0,
                    0,
                    333,
                    333
                  ],
                  "y": [
                    0,
                    49,
                    49,
                    0,
                    0,
                    49,
                    49,
                    0
                  ],
                  "z": [
                    102,
                    102,
                    102,
                    102,
                    128,
                    128,
                    128,
                    128
                  ]
                },
                {
                  "color": "rgb(162.23647700429632,37.10671265033001,251.81090166861304)",
                  "i": [
                    7,
                    0,
                    0,
                    0,
                    4,
                    4,
                    2,
                    6,
                    4,
                    0,
                    3,
                    7
                  ],
                  "j": [
                    3,
                    4,
                    1,
                    2,
                    5,
                    6,
                    5,
                    5,
                    0,
                    1,
                    2,
                    2
                  ],
                  "k": [
                    0,
                    7,
                    2,
                    3,
                    6,
                    7,
                    1,
                    2,
                    5,
                    5,
                    7,
                    6
                  ],
                  "opacity": 1,
                  "type": "mesh3d",
                  "x": [
                    0,
                    0,
                    333,
                    333,
                    0,
                    0,
                    333,
                    333
                  ],
                  "y": [
                    49,
                    75,
                    75,
                    49,
                    49,
                    75,
                    75,
                    49
                  ],
                  "z": [
                    102,
                    102,
                    102,
                    102,
                    151,
                    151,
                    151,
                    151
                  ]
                },
                {
                  "color": "rgb(98.67410523512936,188.32679280274346,246.01139505174933)",
                  "i": [
                    7,
                    0,
                    0,
                    0,
                    4,
                    4,
                    2,
                    6,
                    4,
                    0,
                    3,
                    7
                  ],
                  "j": [
                    3,
                    4,
                    1,
                    2,
                    5,
                    6,
                    5,
                    5,
                    0,
                    1,
                    2,
                    2
                  ],
                  "k": [
                    0,
                    7,
                    2,
                    3,
                    6,
                    7,
                    1,
                    2,
                    5,
                    5,
                    7,
                    6
                  ],
                  "opacity": 1,
                  "type": "mesh3d",
                  "x": [
                    407,
                    407,
                    587,
                    587,
                    407,
                    407,
                    587,
                    587
                  ],
                  "y": [
                    190,
                    233,
                    233,
                    190,
                    190,
                    233,
                    233,
                    190
                  ],
                  "z": [
                    103,
                    103,
                    103,
                    103,
                    169,
                    169,
                    169,
                    169
                  ]
                },
                {
                  "color": "rgb(199.64463832522847,237.96871031049832,206.72734954474416)",
                  "i": [
                    7,
                    0,
                    0,
                    0,
                    4,
                    4,
                    2,
                    6,
                    4,
                    0,
                    3,
                    7
                  ],
                  "j": [
                    3,
                    4,
                    1,
                    2,
                    5,
                    6,
                    5,
                    5,
                    0,
                    1,
                    2,
                    2
                  ],
                  "k": [
                    0,
                    7,
                    2,
                    3,
                    6,
                    7,
                    1,
                    2,
                    5,
                    5,
                    7,
                    6
                  ],
                  "opacity": 1,
                  "type": "mesh3d",
                  "x": [
                    359,
                    359,
                    407,
                    407,
                    359,
                    359,
                    407,
                    407
                  ],
                  "y": [
                    186,
                    233,
                    233,
                    186,
                    186,
                    233,
                    233,
                    186
                  ],
                  "z": [
                    103,
                    103,
                    103,
                    103,
                    174,
                    174,
                    174,
                    174
                  ]
                },
                {
                  "color": "rgb(159.17643997770668,171.9747581630446,27.00690305937853)",
                  "i": [
                    7,
                    0,
                    0,
                    0,
                    4,
                    4,
                    2,
                    6,
                    4,
                    0,
                    3,
                    7
                  ],
                  "j": [
                    3,
                    4,
                    1,
                    2,
                    5,
                    6,
                    5,
                    5,
                    0,
                    1,
                    2,
                    2
                  ],
                  "k": [
                    0,
                    7,
                    2,
                    3,
                    6,
                    7,
                    1,
                    2,
                    5,
                    5,
                    7,
                    6
                  ],
                  "opacity": 1,
                  "type": "mesh3d",
                  "x": [
                    0,
                    0,
                    192,
                    192,
                    0,
                    0,
                    192,
                    192
                  ],
                  "y": [
                    197,
                    233,
                    233,
                    197,
                    197,
                    233,
                    233,
                    197
                  ],
                  "z": [
                    110,
                    110,
                    110,
                    110,
                    141,
                    141,
                    141,
                    141
                  ]
                },
                {
                  "color": "rgb(17.634689150613838,126.93679186013513,202.6084807326792)",
                  "i": [
                    7,
                    0,
                    0,
                    0,
                    4,
                    4,
                    2,
                    6,
                    4,
                    0,
                    3,
                    7
                  ],
                  "j": [
                    3,
                    4,
                    1,
                    2,
                    5,
                    6,
                    5,
                    5,
                    0,
                    1,
                    2,
                    2
                  ],
                  "k": [
                    0,
                    7,
                    2,
                    3,
                    6,
                    7,
                    1,
                    2,
                    5,
                    5,
                    7,
                    6
                  ],
                  "opacity": 1,
                  "type": "mesh3d",
                  "x": [
                    0,
                    0,
                    192,
                    192,
                    0,
                    0,
                    192,
                    192
                  ],
                  "y": [
                    161,
                    197,
                    197,
                    161,
                    161,
                    197,
                    197,
                    161
                  ],
                  "z": [
                    110,
                    110,
                    110,
                    110,
                    141,
                    141,
                    141,
                    141
                  ]
                },
                {
                  "color": "rgb(31.648753840898763,106.97805219249672,235.9071614669581)",
                  "i": [
                    7,
                    0,
                    0,
                    0,
                    4,
                    4,
                    2,
                    6,
                    4,
                    0,
                    3,
                    7
                  ],
                  "j": [
                    3,
                    4,
                    1,
                    2,
                    5,
                    6,
                    5,
                    5,
                    0,
                    1,
                    2,
                    2
                  ],
                  "k": [
                    0,
                    7,
                    2,
                    3,
                    6,
                    7,
                    1,
                    2,
                    5,
                    5,
                    7,
                    6
                  ],
                  "opacity": 1,
                  "type": "mesh3d",
                  "x": [
                    192,
                    192,
                    241,
                    241,
                    192,
                    192,
                    241,
                    241
                  ],
                  "y": [
                    208,
                    233,
                    233,
                    208,
                    208,
                    233,
                    233,
                    208
                  ],
                  "z": [
                    110,
                    110,
                    110,
                    110,
                    131,
                    131,
                    131,
                    131
                  ]
                },
                {
                  "color": "rgb(31.203318619004,75.57742966810127,204.9897797552431)",
                  "i": [
                    7,
                    0,
                    0,
                    0,
                    4,
                    4,
                    2,
                    6,
                    4,
                    0,
                    3,
                    7
                  ],
                  "j": [
                    3,
                    4,
                    1,
                    2,
                    5,
                    6,
                    5,
                    5,
                    0,
                    1,
                    2,
                    2
                  ],
                  "k": [
                    0,
                    7,
                    2,
                    3,
                    6,
                    7,
                    1,
                    2,
                    5,
                    5,
                    7,
                    6
                  ],
                  "opacity": 1,
                  "type": "mesh3d",
                  "x": [
                    476,
                    476,
                    587,
                    587,
                    476,
                    476,
                    587,
                    587
                  ],
                  "y": [
                    0,
                    49,
                    49,
                    0,
                    0,
                    49,
                    49,
                    0
                  ],
                  "z": [
                    119,
                    119,
                    119,
                    119,
                    145,
                    145,
                    145,
                    145
                  ]
                },
                {
                  "color": "rgb(45.742109219617184,55.52813405607056,241.46939068352737)",
                  "i": [
                    7,
                    0,
                    0,
                    0,
                    4,
                    4,
                    2,
                    6,
                    4,
                    0,
                    3,
                    7
                  ],
                  "j": [
                    3,
                    4,
                    1,
                    2,
                    5,
                    6,
                    5,
                    5,
                    0,
                    1,
                    2,
                    2
                  ],
                  "k": [
                    0,
                    7,
                    2,
                    3,
                    6,
                    7,
                    1,
                    2,
                    5,
                    5,
                    7,
                    6
                  ],
                  "opacity": 0,
                  "type": "mesh3d",
                  "x": [
                    0,
                    0,
                    587,
                    587,
                    0,
                    0,
                    587,
                    587
                  ],
                  "y": [
                    0,
                    233,
                    233,
                    0,
                    0,
                    233,
                    233,
                    0
                  ],
                  "z": [
                    0,
                    0,
                    0,
                    0,
                    220,
                    220,
                    220,
                    220
                  ]
                }
              ],
              "layout": {
                "autosize": false,
                "margin": {
                  "b": 0,
                  "l": 0,
                  "r": 0,
                  "t": 0
                },
                "paper_bgcolor": "rgba(0,0,0,0)",
                "scene": {
                  "camera": {
                    "center": {
                      "x": 0,
                      "y": 0,
                      "z": 0
                    },
                    "eye": {
                      "x": -2,
                      "y": 2,
                      "z": 1.5
                    },
                    "up": {
                      "x": 0,
                      "y": 0,
                      "z": 1
                    }
                  },
                  "xaxis": {
                    "nticks": 10,
                    "range": [
                      0,
                      587
                    ],
                    "showspikes": false
                  },
                  "yaxis": {
                    "nticks": 5,
                    "range": [
                      0,
                      233
                    ],
                    "showspikes": false
                  },
                  "zaxis": {
                    "nticks": 5,
                    "range": [
                      0,
                      220
                    ],
                    "tickfont": {
                      "size": 15
                    }
                  }
                },
                "template": {
                  "data": {
                    "bar": [
                      {
                        "error_x": {
                          "color": "#2a3f5f"
                        },
                        "error_y": {
                          "color": "#2a3f5f"
                        },
                        "marker": {
                          "line": {
                            "color": "#E5ECF6",
                            "width": 0.5
                          },
                          "pattern": {
                            "fillmode": "overlay",
                            "size": 10,
                            "solidity": 0.2
                          }
                        },
                        "type": "bar"
                      }
                    ],
                    "barpolar": [
                      {
                        "marker": {
                          "line": {
                            "color": "#E5ECF6",
                            "width": 0.5
                          },
                          "pattern": {
                            "fillmode": "overlay",
                            "size": 10,
                            "solidity": 0.2
                          }
                        },
                        "type": "barpolar"
                      }
                    ],
                    "carpet": [
                      {
                        "aaxis": {
                          "endlinecolor": "#2a3f5f",
                          "gridcolor": "white",
                          "linecolor": "white",
                          "minorgridcolor": "white",
                          "startlinecolor": "#2a3f5f"
                        },
                        "baxis": {
                          "endlinecolor": "#2a3f5f",
                          "gridcolor": "white",
                          "linecolor": "white",
                          "minorgridcolor": "white",
                          "startlinecolor": "#2a3f5f"
                        },
                        "type": "carpet"
                      }
                    ],
                    "choropleth": [
                      {
                        "colorbar": {
                          "outlinewidth": 0,
                          "ticks": ""
                        },
                        "type": "choropleth"
                      }
                    ],
                    "contour": [
                      {
                        "colorbar": {
                          "outlinewidth": 0,
                          "ticks": ""
                        },
                        "colorscale": [
                          [
                            0,
                            "#0d0887"
                          ],
                          [
                            0.1111111111111111,
                            "#46039f"
                          ],
                          [
                            0.2222222222222222,
                            "#7201a8"
                          ],
                          [
                            0.3333333333333333,
                            "#9c179e"
                          ],
                          [
                            0.4444444444444444,
                            "#bd3786"
                          ],
                          [
                            0.5555555555555556,
                            "#d8576b"
                          ],
                          [
                            0.6666666666666666,
                            "#ed7953"
                          ],
                          [
                            0.7777777777777778,
                            "#fb9f3a"
                          ],
                          [
                            0.8888888888888888,
                            "#fdca26"
                          ],
                          [
                            1,
                            "#f0f921"
                          ]
                        ],
                        "type": "contour"
                      }
                    ],
                    "contourcarpet": [
                      {
                        "colorbar": {
                          "outlinewidth": 0,
                          "ticks": ""
                        },
                        "type": "contourcarpet"
                      }
                    ],
                    "heatmap": [
                      {
                        "colorbar": {
                          "outlinewidth": 0,
                          "ticks": ""
                        },
                        "colorscale": [
                          [
                            0,
                            "#0d0887"
                          ],
                          [
                            0.1111111111111111,
                            "#46039f"
                          ],
                          [
                            0.2222222222222222,
                            "#7201a8"
                          ],
                          [
                            0.3333333333333333,
                            "#9c179e"
                          ],
                          [
                            0.4444444444444444,
                            "#bd3786"
                          ],
                          [
                            0.5555555555555556,
                            "#d8576b"
                          ],
                          [
                            0.6666666666666666,
                            "#ed7953"
                          ],
                          [
                            0.7777777777777778,
                            "#fb9f3a"
                          ],
                          [
                            0.8888888888888888,
                            "#fdca26"
                          ],
                          [
                            1,
                            "#f0f921"
                          ]
                        ],
                        "type": "heatmap"
                      }
                    ],
                    "heatmapgl": [
                      {
                        "colorbar": {
                          "outlinewidth": 0,
                          "ticks": ""
                        },
                        "colorscale": [
                          [
                            0,
                            "#0d0887"
                          ],
                          [
                            0.1111111111111111,
                            "#46039f"
                          ],
                          [
                            0.2222222222222222,
                            "#7201a8"
                          ],
                          [
                            0.3333333333333333,
                            "#9c179e"
                          ],
                          [
                            0.4444444444444444,
                            "#bd3786"
                          ],
                          [
                            0.5555555555555556,
                            "#d8576b"
                          ],
                          [
                            0.6666666666666666,
                            "#ed7953"
                          ],
                          [
                            0.7777777777777778,
                            "#fb9f3a"
                          ],
                          [
                            0.8888888888888888,
                            "#fdca26"
                          ],
                          [
                            1,
                            "#f0f921"
                          ]
                        ],
                        "type": "heatmapgl"
                      }
                    ],
                    "histogram": [
                      {
                        "marker": {
                          "pattern": {
                            "fillmode": "overlay",
                            "size": 10,
                            "solidity": 0.2
                          }
                        },
                        "type": "histogram"
                      }
                    ],
                    "histogram2d": [
                      {
                        "colorbar": {
                          "outlinewidth": 0,
                          "ticks": ""
                        },
                        "colorscale": [
                          [
                            0,
                            "#0d0887"
                          ],
                          [
                            0.1111111111111111,
                            "#46039f"
                          ],
                          [
                            0.2222222222222222,
                            "#7201a8"
                          ],
                          [
                            0.3333333333333333,
                            "#9c179e"
                          ],
                          [
                            0.4444444444444444,
                            "#bd3786"
                          ],
                          [
                            0.5555555555555556,
                            "#d8576b"
                          ],
                          [
                            0.6666666666666666,
                            "#ed7953"
                          ],
                          [
                            0.7777777777777778,
                            "#fb9f3a"
                          ],
                          [
                            0.8888888888888888,
                            "#fdca26"
                          ],
                          [
                            1,
                            "#f0f921"
                          ]
                        ],
                        "type": "histogram2d"
                      }
                    ],
                    "histogram2dcontour": [
                      {
                        "colorbar": {
                          "outlinewidth": 0,
                          "ticks": ""
                        },
                        "colorscale": [
                          [
                            0,
                            "#0d0887"
                          ],
                          [
                            0.1111111111111111,
                            "#46039f"
                          ],
                          [
                            0.2222222222222222,
                            "#7201a8"
                          ],
                          [
                            0.3333333333333333,
                            "#9c179e"
                          ],
                          [
                            0.4444444444444444,
                            "#bd3786"
                          ],
                          [
                            0.5555555555555556,
                            "#d8576b"
                          ],
                          [
                            0.6666666666666666,
                            "#ed7953"
                          ],
                          [
                            0.7777777777777778,
                            "#fb9f3a"
                          ],
                          [
                            0.8888888888888888,
                            "#fdca26"
                          ],
                          [
                            1,
                            "#f0f921"
                          ]
                        ],
                        "type": "histogram2dcontour"
                      }
                    ],
                    "mesh3d": [
                      {
                        "colorbar": {
                          "outlinewidth": 0,
                          "ticks": ""
                        },
                        "type": "mesh3d"
                      }
                    ],
                    "parcoords": [
                      {
                        "line": {
                          "colorbar": {
                            "outlinewidth": 0,
                            "ticks": ""
                          }
                        },
                        "type": "parcoords"
                      }
                    ],
                    "pie": [
                      {
                        "automargin": true,
                        "type": "pie"
                      }
                    ],
                    "scatter": [
                      {
                        "fillpattern": {
                          "fillmode": "overlay",
                          "size": 10,
                          "solidity": 0.2
                        },
                        "type": "scatter"
                      }
                    ],
                    "scatter3d": [
                      {
                        "line": {
                          "colorbar": {
                            "outlinewidth": 0,
                            "ticks": ""
                          }
                        },
                        "marker": {
                          "colorbar": {
                            "outlinewidth": 0,
                            "ticks": ""
                          }
                        },
                        "type": "scatter3d"
                      }
                    ],
                    "scattercarpet": [
                      {
                        "marker": {
                          "colorbar": {
                            "outlinewidth": 0,
                            "ticks": ""
                          }
                        },
                        "type": "scattercarpet"
                      }
                    ],
                    "scattergeo": [
                      {
                        "marker": {
                          "colorbar": {
                            "outlinewidth": 0,
                            "ticks": ""
                          }
                        },
                        "type": "scattergeo"
                      }
                    ],
                    "scattergl": [
                      {
                        "marker": {
                          "colorbar": {
                            "outlinewidth": 0,
                            "ticks": ""
                          }
                        },
                        "type": "scattergl"
                      }
                    ],
                    "scattermapbox": [
                      {
                        "marker": {
                          "colorbar": {
                            "outlinewidth": 0,
                            "ticks": ""
                          }
                        },
                        "type": "scattermapbox"
                      }
                    ],
                    "scatterpolar": [
                      {
                        "marker": {
                          "colorbar": {
                            "outlinewidth": 0,
                            "ticks": ""
                          }
                        },
                        "type": "scatterpolar"
                      }
                    ],
                    "scatterpolargl": [
                      {
                        "marker": {
                          "colorbar": {
                            "outlinewidth": 0,
                            "ticks": ""
                          }
                        },
                        "type": "scatterpolargl"
                      }
                    ],
                    "scatterternary": [
                      {
                        "marker": {
                          "colorbar": {
                            "outlinewidth": 0,
                            "ticks": ""
                          }
                        },
                        "type": "scatterternary"
                      }
                    ],
                    "surface": [
                      {
                        "colorbar": {
                          "outlinewidth": 0,
                          "ticks": ""
                        },
                        "colorscale": [
                          [
                            0,
                            "#0d0887"
                          ],
                          [
                            0.1111111111111111,
                            "#46039f"
                          ],
                          [
                            0.2222222222222222,
                            "#7201a8"
                          ],
                          [
                            0.3333333333333333,
                            "#9c179e"
                          ],
                          [
                            0.4444444444444444,
                            "#bd3786"
                          ],
                          [
                            0.5555555555555556,
                            "#d8576b"
                          ],
                          [
                            0.6666666666666666,
                            "#ed7953"
                          ],
                          [
                            0.7777777777777778,
                            "#fb9f3a"
                          ],
                          [
                            0.8888888888888888,
                            "#fdca26"
                          ],
                          [
                            1,
                            "#f0f921"
                          ]
                        ],
                        "type": "surface"
                      }
                    ],
                    "table": [
                      {
                        "cells": {
                          "fill": {
                            "color": "#EBF0F8"
                          },
                          "line": {
                            "color": "white"
                          }
                        },
                        "header": {
                          "fill": {
                            "color": "#C8D4E3"
                          },
                          "line": {
                            "color": "white"
                          }
                        },
                        "type": "table"
                      }
                    ]
                  },
                  "layout": {
                    "annotationdefaults": {
                      "arrowcolor": "#2a3f5f",
                      "arrowhead": 0,
                      "arrowwidth": 1
                    },
                    "autotypenumbers": "strict",
                    "coloraxis": {
                      "colorbar": {
                        "outlinewidth": 0,
                        "ticks": ""
                      }
                    },
                    "colorscale": {
                      "diverging": [
                        [
                          0,
                          "#8e0152"
                        ],
                        [
                          0.1,
                          "#c51b7d"
                        ],
                        [
                          0.2,
                          "#de77ae"
                        ],
                        [
                          0.3,
                          "#f1b6da"
                        ],
                        [
                          0.4,
                          "#fde0ef"
                        ],
                        [
                          0.5,
                          "#f7f7f7"
                        ],
                        [
                          0.6,
                          "#e6f5d0"
                        ],
                        [
                          0.7,
                          "#b8e186"
                        ],
                        [
                          0.8,
                          "#7fbc41"
                        ],
                        [
                          0.9,
                          "#4d9221"
                        ],
                        [
                          1,
                          "#276419"
                        ]
                      ],
                      "sequential": [
                        [
                          0,
                          "#0d0887"
                        ],
                        [
                          0.1111111111111111,
                          "#46039f"
                        ],
                        [
                          0.2222222222222222,
                          "#7201a8"
                        ],
                        [
                          0.3333333333333333,
                          "#9c179e"
                        ],
                        [
                          0.4444444444444444,
                          "#bd3786"
                        ],
                        [
                          0.5555555555555556,
                          "#d8576b"
                        ],
                        [
                          0.6666666666666666,
                          "#ed7953"
                        ],
                        [
                          0.7777777777777778,
                          "#fb9f3a"
                        ],
                        [
                          0.8888888888888888,
                          "#fdca26"
                        ],
                        [
                          1,
                          "#f0f921"
                        ]
                      ],
                      "sequentialminus": [
                        [
                          0,
                          "#0d0887"
                        ],
                        [
                          0.1111111111111111,
                          "#46039f"
                        ],
                        [
                          0.2222222222222222,
                          "#7201a8"
                        ],
                        [
                          0.3333333333333333,
                          "#9c179e"
                        ],
                        [
                          0.4444444444444444,
                          "#bd3786"
                        ],
                        [
                          0.5555555555555556,
                          "#d8576b"
                        ],
                        [
                          0.6666666666666666,
                          "#ed7953"
                        ],
                        [
                          0.7777777777777778,
                          "#fb9f3a"
                        ],
                        [
                          0.8888888888888888,
                          "#fdca26"
                        ],
                        [
                          1,
                          "#f0f921"
                        ]
                      ]
                    },
                    "colorway": [
                      "#636efa",
                      "#EF553B",
                      "#00cc96",
                      "#ab63fa",
                      "#FFA15A",
                      "#19d3f3",
                      "#FF6692",
                      "#B6E880",
                      "#FF97FF",
                      "#FECB52"
                    ],
                    "font": {
                      "color": "#2a3f5f"
                    },
                    "geo": {
                      "bgcolor": "white",
                      "lakecolor": "white",
                      "landcolor": "#E5ECF6",
                      "showlakes": true,
                      "showland": true,
                      "subunitcolor": "white"
                    },
                    "hoverlabel": {
                      "align": "left"
                    },
                    "hovermode": "closest",
                    "mapbox": {
                      "style": "light"
                    },
                    "paper_bgcolor": "white",
                    "plot_bgcolor": "#E5ECF6",
                    "polar": {
                      "angularaxis": {
                        "gridcolor": "white",
                        "linecolor": "white",
                        "ticks": ""
                      },
                      "bgcolor": "#E5ECF6",
                      "radialaxis": {
                        "gridcolor": "white",
                        "linecolor": "white",
                        "ticks": ""
                      }
                    },
                    "scene": {
                      "xaxis": {
                        "backgroundcolor": "#E5ECF6",
                        "gridcolor": "white",
                        "gridwidth": 2,
                        "linecolor": "white",
                        "showbackground": true,
                        "ticks": "",
                        "zerolinecolor": "white"
                      },
                      "yaxis": {
                        "backgroundcolor": "#E5ECF6",
                        "gridcolor": "white",
                        "gridwidth": 2,
                        "linecolor": "white",
                        "showbackground": true,
                        "ticks": "",
                        "zerolinecolor": "white"
                      },
                      "zaxis": {
                        "backgroundcolor": "#E5ECF6",
                        "gridcolor": "white",
                        "gridwidth": 2,
                        "linecolor": "white",
                        "showbackground": true,
                        "ticks": "",
                        "zerolinecolor": "white"
                      }
                    },
                    "shapedefaults": {
                      "line": {
                        "color": "#2a3f5f"
                      }
                    },
                    "ternary": {
                      "aaxis": {
                        "gridcolor": "white",
                        "linecolor": "white",
                        "ticks": ""
                      },
                      "baxis": {
                        "gridcolor": "white",
                        "linecolor": "white",
                        "ticks": ""
                      },
                      "bgcolor": "#E5ECF6",
                      "caxis": {
                        "gridcolor": "white",
                        "linecolor": "white",
                        "ticks": ""
                      }
                    },
                    "title": {
                      "x": 0.05
                    },
                    "xaxis": {
                      "automargin": true,
                      "gridcolor": "white",
                      "linecolor": "white",
                      "ticks": "",
                      "title": {
                        "standoff": 15
                      },
                      "zerolinecolor": "white",
                      "zerolinewidth": 2
                    },
                    "yaxis": {
                      "automargin": true,
                      "gridcolor": "white",
                      "linecolor": "white",
                      "ticks": "",
                      "title": {
                        "standoff": 15
                      },
                      "zerolinecolor": "white",
                      "zerolinewidth": 2
                    }
                  }
                }
              }
            }
          },
          "metadata": {},
          "output_type": "display_data"
        },
        {
          "data": {
            "image/png": "[encoded data removed]",
            "text/plain": [
              "<Figure size 640x480 with 2 Axes>"
            ]
          },
          "metadata": {},
          "output_type": "display_data"
        },
        {
          "name": "stdout",
          "output_type": "stream",
          "text": [
            "587 233 220\n",
            "L * W * H = 30089620\n",
            "total_volume = 16674625\n",
            "TOTAL_VOLUME = 21\n",
            "%DS = 0.9907434200169419\n",
            "% = 0.5541653566911114\n"
          ]
        }
      ],
      "source": [
        "ALPHA_CS   = 4\n",
        "BETA_LOSS  = 1\n",
        "GAMMA_NB   = 0.2\n",
        "DELTA_DS   = 0\n",
        "P          = 0.04\n",
        "EPSILON_GC = 0\n",
        "ZETA_RS    = 0\n",
        "\n",
        "params = ALPHA_CS, BETA_LOSS, GAMMA_NB, DELTA_DS, P, EPSILON_GC, ZETA_RS \n",
        "\n",
        "cont, execution_time,total_volume,TOTAL_VOLUME,DS,history_CG = MLCP_function(params=params,instance=1,weight_restriction=True, max_distance_cg=10000)\n",
        "print(\"cont despues de ejecutar MLCP\")\n",
        "L = cont.l;W = cont.w; H = cont.h\n",
        "\n",
        "box_dims = []\n",
        "for aabb in cont.aabbs:\n",
        "  box_dims.append([aabb.xmin,aabb.ymin,aabb.zmin,aabb.xmax,aabb.ymax,aabb.zmax])\n",
        "box_dims.append([0,0,0,L,W,H])\n",
        "bxplot.plot_container([L,W,H], box_dims) \n",
        "\n",
        "import matplotlib.pyplot as plt\n",
        "import numpy as np\n",
        "\n",
        "\n",
        "# Gráfico 1 - Centro de Gravedad\n",
        "x_cg = list(range(1, len(history_CG) + 1))\n",
        "plt.subplot(2, 1, 1)\n",
        "plt.plot(x_cg, history_CG)\n",
        "plt.title('Centro de Gravedad')\n",
        "\n",
        "# Gráfico 2 - Volumen acumulado\n",
        "acum_volume = np.cumsum(total_volume)\n",
        "x_volume = list(range(1, len(total_volume) + 1))\n",
        "plt.subplot(2, 1, 2)\n",
        "plt.plot(x_volume, acum_volume)\n",
        "plt.title('Volumen Ocupado')\n",
        "\n",
        "plt.tight_layout()\n",
        "plt.show()\n",
        "\n",
        "\n",
        "print(f'{L} {W} {H}')\n",
        "print(f'L * W * H = {L * W * H}')\n",
        "print(f'total_volume = {sum(total_volume)}')\n",
        "print(f'TOTAL_VOLUME = {len(TOTAL_VOLUME)}')\n",
        "print(f'%DS = {DS /sum(total_volume)}')\n",
        "print(f'% = {sum(total_volume)/(L * W * H)}')"
      ]
    },
    {
      "attachments": {},
      "cell_type": "markdown",
      "metadata": {
        "id": "jHxosWYplHgN"
      },
      "source": [
        "# Plot the solution"
      ]
    },
    {
      "cell_type": "code",
      "execution_count": 33,
      "metadata": {},
      "outputs": [
        {
          "data": {
            "text/plain": [
              "[<matplotlib.lines.Line2D at 0x131db45e0>]"
            ]
          },
          "execution_count": 33,
          "metadata": {},
          "output_type": "execute_result"
        },
        {
          "data": {
            "image/png": "[encoded data removed]",
            "text/plain": [
              "<Figure size 640x480 with 1 Axes>"
            ]
          },
          "metadata": {},
          "output_type": "display_data"
        }
      ],
      "source": [
        "import matplotlib.pyplot as plt\n",
        "fig,ax = plt.subplots()\n",
        "ax.plot(range(len(TOTAL_VOLUME)),TOTAL_VOLUME)"
      ]
    },
    {
      "cell_type": "code",
      "execution_count": 28,
      "metadata": {},
      "outputs": [],
      "source": [
        "ALPHA = [0.0,1.0,2.0,3.0]\n",
        "BETA = [0.0,1.0,2.0,3.0]\n",
        "GAMMA = [0.0,0.1,0.2,0.3]\n",
        "DELTA = [0.0,0.2,0.4,0.6]\n",
        "P = [0.00,0.01,0.02,0.03]\n",
        "INSTANCE = range(0,100)"
      ]
    },
    {
      "cell_type": "code",
      "execution_count": 29,
      "metadata": {},
      "outputs": [],
      "source": [
        "#data = []\n",
        "#for i in INSTANCE:\n",
        "#    cont, execution_time,total_volume = MLCP_function(alpha=1,beta=0,gamma=0,delta=1,p=0,instance=i)\n",
        " #   data.append([i,execution_time,total_volume,center_of_gravity(cont),1,0,0,1,0])\n"
      ]
    },
    {
      "cell_type": "code",
      "execution_count": 30,
      "metadata": {},
      "outputs": [
        {
          "ename": "NameError",
          "evalue": "name 'data' is not defined",
          "output_type": "error",
          "traceback": [
            "\u001b[0;31m---------------------------------------------------------------------------\u001b[0m",
            "\u001b[0;31mNameError\u001b[0m                                 Traceback (most recent call last)",
            "\u001b[1;32m/Users/eduardogutierrez/Documents/3D Bin Packing Tesis/MCLPframework/MCLP_framework.ipynb Cell 13\u001b[0m line \u001b[0;36m1\n\u001b[0;32m----> <a href='vscode-notebook-cell:/Users/eduardogutierrez/Documents/3D%20Bin%20Packing%20Tesis/MCLPframework/MCLP_framework.ipynb#X15sZmlsZQ%3D%3D?line=0'>1</a>\u001b[0m df \u001b[39m=\u001b[39m pd\u001b[39m.\u001b[39mDataFrame(data,columns\u001b[39m=\u001b[39m[\u001b[39m'\u001b[39m\u001b[39mInstancia\u001b[39m\u001b[39m'\u001b[39m,\u001b[39m'\u001b[39m\u001b[39mTiempo ejecucion\u001b[39m\u001b[39m'\u001b[39m,\u001b[39m'\u001b[39m\u001b[39mVolumen Ocupado\u001b[39m\u001b[39m'\u001b[39m,\u001b[39m'\u001b[39m\u001b[39mDiferencia centro\u001b[39m\u001b[39m'\u001b[39m,\u001b[39m'\u001b[39m\u001b[39malpha\u001b[39m\u001b[39m'\u001b[39m,\u001b[39m'\u001b[39m\u001b[39mbeta\u001b[39m\u001b[39m'\u001b[39m,\u001b[39m'\u001b[39m\u001b[39mgamma\u001b[39m\u001b[39m'\u001b[39m,\u001b[39m'\u001b[39m\u001b[39mdelta\u001b[39m\u001b[39m'\u001b[39m,\u001b[39m'\u001b[39m\u001b[39mp\u001b[39m\u001b[39m'\u001b[39m])\n",
            "\u001b[0;31mNameError\u001b[0m: name 'data' is not defined"
          ]
        }
      ],
      "source": [
        "df = pd.DataFrame(data,columns=['Instancia','Tiempo ejecucion','Volumen Ocupado','Diferencia centro','alpha','beta','gamma','delta','p'])"
      ]
    },
    {
      "cell_type": "code",
      "execution_count": null,
      "metadata": {},
      "outputs": [],
      "source": [
        "df"
      ]
    },
    {
      "cell_type": "code",
      "execution_count": null,
      "metadata": {},
      "outputs": [],
      "source": [
        "print(f'{df[\"Volumen Ocupado\"].mean()}  {df[\"Diferencia centro\"].mean()}')"
      ]
    },
    {
      "cell_type": "code",
      "execution_count": null,
      "metadata": {},
      "outputs": [],
      "source": [
        "import matplotlib.pyplot as plt\n",
        "\n",
        "fig,ax = plt.subplots()\n",
        "ax.plot(df['Instancia'],df['Volumen Ocupado'])\n",
        "plt.savefig('InstanciaVSVolumen.jpg')"
      ]
    },
    {
      "cell_type": "code",
      "execution_count": null,
      "metadata": {},
      "outputs": [],
      "source": [
        "fig,ax = plt.subplots()\n",
        "ax.plot(df['Instancia'],df['Diferencia centro'])\n",
        "plt.savefig('InstanciaVSCentro.jpg')"
      ]
    },
    {
      "cell_type": "code",
      "execution_count": null,
      "metadata": {},
      "outputs": [],
      "source": [
        "df.to_csv('resultados_parametros2.csv')"
      ]
    },
    {
      "cell_type": "code",
      "execution_count": null,
      "metadata": {},
      "outputs": [],
      "source": [
        "# cont, execution_time,total_volume = MLCP_function(alpha=1,beta=0.0,gamma=0,delta=0,p=0,instance=2)\n",
        "# cont, execution_time,total_volume = MLCP_function(alpha=1.0,beta=3.0,gamma=0.1,delta=0.2,p=0.02,instance=2)\n",
        "\n",
        "L = cont.l;W = cont.w; H = cont.h\n",
        "\n",
        "box_dims = []\n",
        "for aabb in cont.aabbs:\n",
        "  box_dims.append([aabb.xmin,aabb.ymin,aabb.zmin,aabb.xmax,aabb.ymax,aabb.zmax])\n",
        "\n",
        "bxplot.plot_container([L,W,H], box_dims)\n"
      ]
    },
    {
      "cell_type": "code",
      "execution_count": null,
      "metadata": {},
      "outputs": [],
      "source": [
        "#data = []\n",
        "#for i in INSTANCE:\n",
        "#    cont, execution_time,total_volume = MLCP_function(alpha=1.0,beta=3.0,gamma=0.1,delta=0.2,p=0.02,instance=i)\n",
        "#    data.append([i,execution_time,total_volume,center_of_gravity(cont),1,0,0,1,0])"
      ]
    },
    {
      "cell_type": "code",
      "execution_count": null,
      "metadata": {},
      "outputs": [],
      "source": [
        "df_2 = pd.DataFrame(data,columns=['Instancia','Tiempo ejecucion','Volumen Ocupado','Diferencia centro','alpha','beta','gamma','delta','p'])"
      ]
    },
    {
      "cell_type": "code",
      "execution_count": null,
      "metadata": {},
      "outputs": [],
      "source": [
        "print(f'{df_2[\"Volumen Ocupado\"].mean()}  {df_2[\"Diferencia centro\"].mean()}')"
      ]
    },
    {
      "cell_type": "code",
      "execution_count": null,
      "metadata": {},
      "outputs": [],
      "source": [
        "import matplotlib.pyplot as plt\n",
        "\n",
        "fig,ax = plt.subplots()\n",
        "ax.plot(df['Instancia'],df['Volumen Ocupado'],label='CS + R')\n",
        "ax.plot(df_2['Instancia'],df_2['Volumen Ocupado'],label='VCS + R')\n",
        "plt.title('Volumen ocupado por instancia')\n",
        "plt.xlabel('Instancias')\n",
        "plt.ylabel('Volumen ocupado')\n",
        "fig.legend()\n",
        "plt.savefig('InstanciaVSVolumen.jpg')"
      ]
    },
    {
      "cell_type": "code",
      "execution_count": null,
      "metadata": {},
      "outputs": [],
      "source": [
        "fig,ax = plt.subplots()\n",
        "ax.plot(df['Instancia'],df['Diferencia centro'],label='CS + R')\n",
        "ax.plot(df_2['Instancia'],df_2['Diferencia centro'],label = 'VCS + R')\n",
        "plt.xlabel('Instancias')\n",
        "plt.ylabel('Distancia centro')\n",
        "plt.title('Distancia centro por instancia')\n",
        "fig.legend()\n",
        "plt.savefig('InstanciaVSCentro.jpg')"
      ]
    },
    {
      "cell_type": "code",
      "execution_count": null,
      "metadata": {},
      "outputs": [],
      "source": [
        "fig,ax = plt.subplots()\n",
        "ax.plot(df['Instancia'],df['Tiempo ejecucion'],label='CS + R')\n",
        "ax.plot(df_2['Instancia'],df_2['Tiempo ejecucion'],label = 'VCS + R')\n",
        "\n",
        "plt.xlabel('Instancias')\n",
        "plt.ylabel('Tiempo ejecución')\n",
        "plt.title('Tiempo de ejecución por instancia')\n",
        "fig.legend()\n",
        "plt.savefig('InstanciaVSTiempo.jpg')"
      ]
    },
    {
      "cell_type": "code",
      "execution_count": null,
      "metadata": {},
      "outputs": [],
      "source": [
        "matriz = [[0,1,2],[3,4,5],[6,7,8]]\n",
        "print(matriz[-1])"
      ]
    },
    {
      "cell_type": "code",
      "execution_count": null,
      "metadata": {},
      "outputs": [],
      "source": [
        "import pandas as pd\n",
        "import numpy as np\n",
        "\n",
        "# Create a DataFrame with a datetime column\n",
        "df = pd.DataFrame({'date': ['2023-01-01', '2023-01-02', np.nan, '2023-01-04']})\n",
        "df['date'] = pd.to_datetime(df['date'], errors='coerce')\n",
        "\n",
        "# Check if each value in the 'date' column is NaT\n",
        "df['is_nat'] = df['date'].isna()\n",
        "\n",
        "# Print the DataFrame\n",
        "print(df)"
      ]
    },
    {
      "cell_type": "code",
      "execution_count": null,
      "metadata": {},
      "outputs": [
        {
          "data": {
            "text/plain": [
              "6"
            ]
          },
          "execution_count": 14,
          "metadata": {},
          "output_type": "execute_result"
        }
      ],
      "source": [
        "lista = [1,2,3]\n",
        "sum(lista)"
      ]
    }
  ],
  "metadata": {
    "colab": {
      "provenance": []
    },
    "kernelspec": {
      "display_name": "Python 3",
      "name": "python3"
    },
    "language_info": {
      "codemirror_mode": {
        "name": "ipython",
        "version": 3
      },
      "file_extension": ".py",
      "mimetype": "text/x-python",
      "name": "python",
      "nbconvert_exporter": "python",
      "pygments_lexer": "ipython3",
      "version": "3.9.6"
    }
  },
  "nbformat": 4,
  "nbformat_minor": 0
}
