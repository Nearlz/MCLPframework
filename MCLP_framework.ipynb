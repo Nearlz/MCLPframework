{
  "cells": [
    {
      "attachments": {},
      "cell_type": "markdown",
      "metadata": {
        "id": "iwgTtM6Hiedx"
      },
      "source": [
        "# Clone from repo"
      ]
    },
    {
      "attachments": {},
      "cell_type": "markdown",
      "metadata": {
        "id": "aN2wSlJMHw9j"
      },
      "source": [
        "# TESTs\n",
        "\n",
        "## Create and join blocks"
      ]
    },
    {
      "cell_type": "code",
      "execution_count": 1,
      "metadata": {
        "colab": {
          "base_uri": "https://localhost:8080/"
        },
        "id": "I0nlZKgpCP3o",
        "outputId": "8f377390-ebd5-4f14-cd9b-bf486d8894f9"
      },
      "outputs": [
        {
          "name": "stdout",
          "output_type": "stream",
          "text": [
            "b1: Block: l: 4 w: 2 h: True weight: 1 volume: 8 occupied_volume: 8 items: {<src.base.Boxtype object at 0x0000020C0ABE31F0>: 1} ratio:1.0\n",
            "b2: Block: l: 2 w: 3 h: True weight: 1 volume: 6 occupied_volume: 6 items: {<src.base.Boxtype object at 0x0000020C0ABE2020>: 1} ratio:1.0\n",
            "b3: Block: l: True w: 2 h: 1 weight: 1 volume: 2 occupied_volume: 2 items: {<src.base.Boxtype object at 0x0000020C0ABE0D00>: 1} ratio:1.0\n",
            "False b1+b2: Block: l: 4 w: 2 h: True weight: 1 volume: 8 occupied_volume: 8 items: {<src.base.Boxtype object at 0x0000020C0ABE31F0>: 1} ratio:1.0\n",
            "False b1+b3: Block: l: 4 w: 2 h: True weight: 1 volume: 8 occupied_volume: 8 items: {<src.base.Boxtype object at 0x0000020C0ABE31F0>: 1} ratio:1.0\n",
            "True b1+b1: Block: l: 8 w: 2 h: True weight: 2 volume: 16 occupied_volume: 16 items: {<src.base.Boxtype object at 0x0000020C0ABE31F0>: 2} ratio:1.0\n"
          ]
        }
      ],
      "source": [
        "from src.base import Block, Boxtype\n",
        "import src.vcs_function as eval\n",
        "import src.box_plotter as bxplot\n",
        "\n",
        "#test Blocks\n",
        "b1 = Block(boxtype=Boxtype(1,2,4,True,True,True,1), rot='wlh')\n",
        "b2 = Block(boxtype=Boxtype(1,2,3,True,True,True,1), rot='lwh')\n",
        "b3 = Block(boxtype=Boxtype(1,1,2,True,True,True,1), rot='hwl')\n",
        "\n",
        "#test join\n",
        "print(\"b1:\",b1); print(\"b2:\",b2); print(\"b3:\",b3)\n",
        "t=b1.join(b2, 'y'); print(t,\"b1+b2:\",b1)\n",
        "t=b1.join(b3, 'z'); print(t,\"b1+b3:\",b1)\n",
        "t=b1.join(b1, 'x'); print(t,\"b1+b1:\",b1)"
      ]
    },
    {
      "attachments": {},
      "cell_type": "markdown",
      "metadata": {
        "id": "fkcg_ZG9ijg_"
      },
      "source": [
        "## Plot container"
      ]
    },
    {
      "cell_type": "code",
      "execution_count": 2,
      "metadata": {
        "id": "Y1ePisniGkvs"
      },
      "outputs": [],
      "source": [
        "def load_instance(filename = \"instancia.txt\", type=\"BF\", id_instance=0):\n",
        "    with open(filename, \"r\") as file:\n",
        "        #discard first line\n",
        "        file.readline()\n",
        "      \n",
        "        for j in range(100):\n",
        "            file.readline()\n",
        "            L, W, H = [int(x) for x in file.readline().split()]\n",
        "\n",
        "            #read second line\n",
        "            n = int(file.readline())\n",
        "            #read n lines\n",
        "            items = Itemdict()\n",
        "            for i in range(n):\n",
        "                id, l, rotx, w, roty, h, rotz, n = [int(x) for x in file.readline().split()]    \n",
        "                item = Boxtype(id, l, w, h, rotx, roty, rotz, 1)\n",
        "                items[item]=n\n",
        "            \n",
        "            if j == id_instance: return  items, L, W, H\n"
      ]
    },
    {
      "cell_type": "code",
      "execution_count": 3,
      "metadata": {},
      "outputs": [],
      "source": [
        "def adyacent_blocks(cont,L,W,H,space,p):\n",
        "    blocks = cont.aabbs\n",
        "    last = blocks[-1]\n",
        "    \n",
        "    for block in blocks[:-1]:\n",
        "        x_diff_max = max([block.xmin,last.xmin])\n",
        "        x_diff_min = min([block.xmax,last.xmax])\n",
        "        y_diff_max = max([block.ymin,last.ymin])\n",
        "        y_diff_min = min([block.ymax,last.ymax])\n",
        "        z_diff_max = max([block.zmin,last.zmin])\n",
        "        z_diff_min = min([block.zmax,last.zmax])\n",
        "        \n",
        "        if abs(block.xmax - last.xmin) <= (last.xmax - last.xmin) * p and ((block.zmin < last.zmax and block.zmax > last.zmin ) and (block.ymin < last.ymax and block.ymax > last.ymin )):\n",
        "\n",
        "            block.covered_surface+= (z_diff_min-z_diff_max) * (y_diff_min-y_diff_max)\n",
        "            block.covered_surface_face['X1']+= (z_diff_min-z_diff_max) * (y_diff_min-y_diff_max)\n",
        "            last.covered_surface+= (z_diff_min-z_diff_max) * (y_diff_min-y_diff_max)\n",
        "            last.covered_surface_face['X2']+= (z_diff_min-z_diff_max) * (y_diff_min-y_diff_max)\n",
        "\n",
        "        elif abs(block.xmin - last.xmax) <= (last.xmax - last.xmin) * p and ((block.zmin < last.zmax and block.zmax > last.zmin ) and (block.ymin < last.ymax and block.ymax > last.ymin )):\n",
        "\n",
        "            block.covered_surface+= (z_diff_min-z_diff_max) * (y_diff_min-y_diff_max)\n",
        "            block.covered_surface_face['X2']+= (z_diff_min-z_diff_max) * (y_diff_min-y_diff_max)\n",
        "            last.covered_surface+= (z_diff_min-z_diff_max) * (y_diff_min-y_diff_max)\n",
        "            last.covered_surface_face['X1']+= (z_diff_min-z_diff_max) * (y_diff_min-y_diff_max)\n",
        "\n",
        "        elif abs(block.ymax - last.ymin) <= (last.ymax - last.ymin) * p and ((block.zmin < last.zmax and block.zmax > last.zmin ) and (block.xmin < last.xmax and block.xmax > last.xmin )):\n",
        "\n",
        "            block.covered_surface+= (z_diff_min-z_diff_max) * (x_diff_min-x_diff_max)\n",
        "            block.covered_surface_face['Y1']+= (z_diff_min-z_diff_max) * (x_diff_min-x_diff_max)\n",
        "            last.covered_surface+= (z_diff_min-z_diff_max) * (x_diff_min-x_diff_max)\n",
        "            last.covered_surface_face['Y2']+= (z_diff_min-z_diff_max) * (x_diff_min-x_diff_max)\n",
        "\n",
        "        elif abs(block.ymin - last.ymax) <= (last.ymax - last.ymin) * p and ((block.zmin < last.zmax and block.zmax > last.zmin ) and (block.xmin < last.xmax and block.xmax > last.xmin )):\n",
        "\n",
        "            block.covered_surface+= (z_diff_min-z_diff_max) * (x_diff_min-x_diff_max)\n",
        "            block.covered_surface_face['Y2']+= (z_diff_min-z_diff_max) * (x_diff_min-x_diff_max)\n",
        "            last.covered_surface+= (z_diff_min-z_diff_max) * (x_diff_min-x_diff_max)\n",
        "            last.covered_surface_face['Y1']+= (z_diff_min-z_diff_max) * (x_diff_min-x_diff_max)\n",
        "\n",
        "        elif block.xmin <= (block.xmax - block.xmin) * p:\n",
        "            last.covered_surface+= ((last.ymax-last.ymin) * (last.zmax-last.zmin))\n",
        "            last.covered_surface_face['X1']+= ((last.ymax-last.ymin) * (last.zmax-last.zmin))\n",
        "        elif abs(block.xmax - space.l) <= (block.xmax - block.xmin) * p:\n",
        "            last.covered_surface+= ((last.ymax-last.ymin) * (last.zmax-last.zmin))\n",
        "            last.covered_surface_face['X2']+= ((last.ymax-last.ymin) * (last.zmax-last.zmin))\n",
        "        elif block.ymin <= (block.ymax - block.ymin) * p:\n",
        "            last.covered_surface+= ((last.xmax-last.xmin) * (last.zmax-last.zmin))\n",
        "            last.covered_surface_face['Y1']+= ((last.xmax-last.xmin) * (last.zmax-last.zmin))\n",
        "        elif abs(block.ymax - space.w) <= (block.ymax - block.ymin) * p:\n",
        "            last.covered_surface+= ((last.xmax-last.xmin) * (last.zmax-last.zmin))\n",
        "            last.covered_surface_face['Y2']+= ((last.xmax-last.xmin) * (last.zmax-last.zmin))\n",
        "\n",
        "    print(type(cont))\n",
        "    pass"
      ]
    },
    {
      "cell_type": "code",
      "execution_count": 4,
      "metadata": {},
      "outputs": [],
      "source": [
        "def supported_blocks(blocks):\n",
        "    X1 = 0; X2 = 0; Y1 = 0; Y2 = 0\n",
        "    for block in blocks:\n",
        "        if block.covered_surface_face['X1'] != 0:\n",
        "            X1 += 1\n",
        "        if block.covered_surface_face['X2'] != 0:\n",
        "            X2 += 1\n",
        "        if block.covered_surface_face['Y1'] != 0:\n",
        "            Y1 += 1\n",
        "        if block.covered_surface_face['Y2'] != 0:\n",
        "            Y2 += 1\n",
        "    X1/= len(blocks); X2/= len(blocks); Y1/= len(blocks); Y2/= len(blocks)\n",
        "    print(f'{X1}  {X2}  {Y1}  {Y2} total: {(X1+X2+Y1+Y2)/4}')"
      ]
    },
    {
      "attachments": {},
      "cell_type": "markdown",
      "metadata": {
        "id": "7uoXha4GlgGj"
      },
      "source": [
        "# The main code"
      ]
    },
    {
      "cell_type": "code",
      "execution_count": 5,
      "metadata": {
        "colab": {
          "base_uri": "https://localhost:8080/"
        },
        "id": "j43GfNpc5eiS",
        "outputId": "81cbc06a-4aca-4c48-f89b-cd27ac5f0753"
      },
      "outputs": [
        {
          "name": "stdout",
          "output_type": "stream",
          "text": [
            "<class 'src.base.Block'>\n",
            "0.0  0.0  0.0  0.0\n",
            "<class 'src.base.Block'>\n",
            "0.5  0.0  0.0  0.0\n",
            "<class 'src.base.Block'>\n",
            "0.6666666666666666  0.3333333333333333  0.0  0.0\n",
            "<class 'src.base.Block'>\n",
            "0.75  0.25  0.25  0.0\n",
            "<class 'src.base.Block'>\n",
            "0.8  0.2  0.4  0.0\n",
            "<class 'src.base.Block'>\n",
            "0.8333333333333334  0.16666666666666666  0.6666666666666666  0.16666666666666666\n",
            "<class 'src.base.Block'>\n",
            "1.0  0.2857142857142857  0.7142857142857143  0.14285714285714285\n",
            "<class 'src.base.Block'>\n",
            "1.0  0.25  0.875  0.375\n",
            "<class 'src.base.Block'>\n",
            "1.0  0.3333333333333333  0.8888888888888888  0.3333333333333333\n",
            "<class 'src.base.Block'>\n",
            "1.0  0.3  0.9  0.3\n",
            "<class 'src.base.Block'>\n",
            "1.0  0.36363636363636365  0.9090909090909091  0.36363636363636365\n",
            "<class 'src.base.Block'>\n",
            "1.0  0.3333333333333333  0.9166666666666666  0.3333333333333333\n",
            "<class 'src.base.Block'>\n",
            "1.0  0.3076923076923077  0.9230769230769231  0.38461538461538464\n",
            "<class 'src.base.Block'>\n",
            "1.0  0.2857142857142857  0.9285714285714286  0.35714285714285715\n",
            "<class 'src.base.Block'>\n",
            "1.0  0.3333333333333333  0.9333333333333333  0.3333333333333333\n",
            "<class 'src.base.Block'>\n",
            "1.0  0.3125  0.9375  0.3125\n",
            "<class 'src.base.Block'>\n",
            "1.0  0.29411764705882354  0.9411764705882353  0.29411764705882354\n",
            "<class 'src.base.Block'>\n",
            "1.0  0.2777777777777778  0.9444444444444444  0.3333333333333333\n",
            "<class 'src.base.Block'>\n",
            "1.0  0.3157894736842105  0.9473684210526315  0.3157894736842105\n",
            "<class 'src.base.Block'>\n",
            "1.0  0.35  0.95  0.3\n",
            "<class 'src.base.Block'>\n",
            "1.0  0.38095238095238093  0.9523809523809523  0.2857142857142857\n",
            "<class 'src.base.Block'>\n",
            "1.0  0.4090909090909091  0.9545454545454546  0.3181818181818182\n",
            "<class 'src.base.Block'>\n",
            "1.0  0.43478260869565216  0.9565217391304348  0.30434782608695654\n",
            "<class 'src.base.Block'>\n",
            "1.0  0.4583333333333333  0.9583333333333334  0.3333333333333333\n",
            "<class 'src.base.Block'>\n",
            "1.0  0.56  0.96  0.36\n",
            "<class 'src.base.Block'>\n",
            "1.0  0.5769230769230769  0.9615384615384616  0.34615384615384615\n",
            "<class 'src.base.Block'>\n",
            "1.0  0.5925925925925926  0.9629629629629629  0.37037037037037035\n",
            "<class 'src.base.Block'>\n",
            "1.0  0.6071428571428571  0.9642857142857143  0.35714285714285715\n",
            "<class 'src.base.Block'>\n",
            "1.0  0.5862068965517241  0.9655172413793104  0.3793103448275862\n",
            "Block: l: 587 w: 233 h: 220 weight: 90 volume: 30089620 occupied_volume: 23683767 items: {<src.base.Boxtype object at 0x0000020C211C2FB0>: 13, <src.base.Boxtype object at 0x0000020C211C2F50>: 11, <src.base.Boxtype object at 0x0000020C211C2C80>: 16, <src.base.Boxtype object at 0x0000020C211C2B00>: 9, <src.base.Boxtype object at 0x0000020C211C0D90>: 10, <src.base.Boxtype object at 0x0000020C211C2F80>: 9, <src.base.Boxtype object at 0x0000020C211C34C0>: 5, <src.base.Boxtype object at 0x0000020C211C2BF0>: 12, <src.base.Boxtype object at 0x0000020C211C2710>: 5} ratio:0.7871075473867732\n"
          ]
        }
      ],
      "source": [
        "\n",
        "from src.base import Itemdict, BlockList, Aabb, Space\n",
        "\n",
        "Space.filling = \"bottom-up\" # spaces are filled from bottom to top\n",
        "Space.vertical_stability = True # boxes must be completly supported\n",
        "\n",
        "items, L, W, H = load_instance(filename = \"src/BR4.txt\", type=\"BF\", id_instance=1)\n",
        "\n",
        "cont = Block(l=L,w=W,h=H)\n",
        "\n",
        "# print(\"generating blocks...\")\n",
        "blocks = BlockList(items, type=\"general_blocks\", cont=cont, min_fr=1.0, max_bl=1000) \n",
        "\n",
        "# greedy for single CLP\n",
        "while True:\n",
        "    space = cont.free_space.closest_space() #cuboide mas cercano a un vertice inferior del contenedor\n",
        "\n",
        "    if space is not None:\n",
        "      block = eval.eval_function(blocks,space,p=0.05,stored_blocks=cont.aabbs)\n",
        "      # print(\"adding block...\", block)\n",
        "      \n",
        "      cont.add_block(block, space)\n",
        "      adyacent_blocks(cont,L,W,H,space,p=0.05)\n",
        "      supported_blocks(cont.aabbs)\n",
        "      items -= block.items\n",
        "      blocks.remove_unconstructable(items)\n",
        "      cont.free_space.filter(items)\n",
        "    else:\n",
        "        break\n",
        "\n",
        "print(cont)\n"
      ]
    },
    {
      "attachments": {},
      "cell_type": "markdown",
      "metadata": {
        "id": "jHxosWYplHgN"
      },
      "source": [
        "# Plot the solution"
      ]
    },
    {
      "cell_type": "code",
      "execution_count": 6,
      "metadata": {
        "colab": {
          "base_uri": "https://localhost:8080/",
          "height": 562
        },
        "id": "CkjIfgmeTSs6",
        "outputId": "71414d7e-c2d6-4d90-8422-d921419051ce"
      },
      "outputs": [
        {
          "data": {
            "application/vnd.plotly.v1+json": {
              "config": {
                "linkText": "Export to plot.ly",
                "plotlyServerURL": "https://plot.ly",
                "showLink": false
              },
              "data": [
                {
                  "color": "rgb(25.513817282715078,230.35261233725632,60.28603918904194)",
                  "i": [
                    7,
                    0,
                    0,
                    0,
                    4,
                    4,
                    2,
                    6,
                    4,
                    0,
                    3,
                    7
                  ],
                  "j": [
                    3,
                    4,
                    1,
                    2,
                    5,
                    6,
                    5,
                    5,
                    0,
                    1,
                    2,
                    2
                  ],
                  "k": [
                    0,
                    7,
                    2,
                    3,
                    6,
                    7,
                    1,
                    2,
                    5,
                    5,
                    7,
                    6
                  ],
                  "opacity": 1,
                  "type": "mesh3d",
                  "x": [
                    0,
                    0,
                    49,
                    49,
                    0,
                    0,
                    49,
                    49
                  ],
                  "y": [
                    0,
                    25,
                    25,
                    0,
                    0,
                    25,
                    25,
                    0
                  ],
                  "z": [
                    0,
                    0,
                    0,
                    0,
                    21,
                    21,
                    21,
                    21
                  ]
                },
                {
                  "color": "rgb(239.66585197282222,26.971388163484495,130.36850891456967)",
                  "i": [
                    7,
                    0,
                    0,
                    0,
                    4,
                    4,
                    2,
                    6,
                    4,
                    0,
                    3,
                    7
                  ],
                  "j": [
                    3,
                    4,
                    1,
                    2,
                    5,
                    6,
                    5,
                    5,
                    0,
                    1,
                    2,
                    2
                  ],
                  "k": [
                    0,
                    7,
                    2,
                    3,
                    6,
                    7,
                    1,
                    2,
                    5,
                    5,
                    7,
                    6
                  ],
                  "opacity": 1,
                  "type": "mesh3d",
                  "x": [
                    283,
                    283,
                    587,
                    587,
                    283,
                    283,
                    587,
                    587
                  ],
                  "y": [
                    0,
                    64,
                    64,
                    0,
                    0,
                    64,
                    64,
                    0
                  ],
                  "z": [
                    0,
                    0,
                    0,
                    0,
                    103,
                    103,
                    103,
                    103
                  ]
                },
                {
                  "color": "rgb(142.89950646029047,207.25898391625455,73.28457081920625)",
                  "i": [
                    7,
                    0,
                    0,
                    0,
                    4,
                    4,
                    2,
                    6,
                    4,
                    0,
                    3,
                    7
                  ],
                  "j": [
                    3,
                    4,
                    1,
                    2,
                    5,
                    6,
                    5,
                    5,
                    0,
                    1,
                    2,
                    2
                  ],
                  "k": [
                    0,
                    7,
                    2,
                    3,
                    6,
                    7,
                    1,
                    2,
                    5,
                    5,
                    7,
                    6
                  ],
                  "opacity": 1,
                  "type": "mesh3d",
                  "x": [
                    0,
                    0,
                    64,
                    64,
                    0,
                    0,
                    64,
                    64
                  ],
                  "y": [
                    81,
                    233,
                    233,
                    81,
                    81,
                    233,
                    233,
                    81
                  ],
                  "z": [
                    0,
                    0,
                    0,
                    0,
                    206,
                    206,
                    206,
                    206
                  ]
                },
                {
                  "color": "rgb(180.76292415768324,158.1881173244952,222.77721725448316)",
                  "i": [
                    7,
                    0,
                    0,
                    0,
                    4,
                    4,
                    2,
                    6,
                    4,
                    0,
                    3,
                    7
                  ],
                  "j": [
                    3,
                    4,
                    1,
                    2,
                    5,
                    6,
                    5,
                    5,
                    0,
                    1,
                    2,
                    2
                  ],
                  "k": [
                    0,
                    7,
                    2,
                    3,
                    6,
                    7,
                    1,
                    2,
                    5,
                    5,
                    7,
                    6
                  ],
                  "opacity": 1,
                  "type": "mesh3d",
                  "x": [
                    247,
                    247,
                    587,
                    587,
                    247,
                    247,
                    587,
                    587
                  ],
                  "y": [
                    149,
                    233,
                    233,
                    149,
                    149,
                    233,
                    233,
                    149
                  ],
                  "z": [
                    0,
                    0,
                    0,
                    0,
                    72,
                    72,
                    72,
                    72
                  ]
                },
                {
                  "color": "rgb(141.41885127056096,166.84742705739063,231.9621513957087)",
                  "i": [
                    7,
                    0,
                    0,
                    0,
                    4,
                    4,
                    2,
                    6,
                    4,
                    0,
                    3,
                    7
                  ],
                  "j": [
                    3,
                    4,
                    1,
                    2,
                    5,
                    6,
                    5,
                    5,
                    0,
                    1,
                    2,
                    2
                  ],
                  "k": [
                    0,
                    7,
                    2,
                    3,
                    6,
                    7,
                    1,
                    2,
                    5,
                    5,
                    7,
                    6
                  ],
                  "opacity": 1,
                  "type": "mesh3d",
                  "x": [
                    0,
                    0,
                    49,
                    49,
                    0,
                    0,
                    49,
                    49
                  ],
                  "y": [
                    0,
                    25,
                    25,
                    0,
                    0,
                    25,
                    25,
                    0
                  ],
                  "z": [
                    21,
                    21,
                    21,
                    21,
                    189,
                    189,
                    189,
                    189
                  ]
                },
                {
                  "color": "rgb(90.64722851716752,196.40027507946405,72.00218134626576)",
                  "i": [
                    7,
                    0,
                    0,
                    0,
                    4,
                    4,
                    2,
                    6,
                    4,
                    0,
                    3,
                    7
                  ],
                  "j": [
                    3,
                    4,
                    1,
                    2,
                    5,
                    6,
                    5,
                    5,
                    0,
                    1,
                    2,
                    2
                  ],
                  "k": [
                    0,
                    7,
                    2,
                    3,
                    6,
                    7,
                    1,
                    2,
                    5,
                    5,
                    7,
                    6
                  ],
                  "opacity": 1,
                  "type": "mesh3d",
                  "x": [
                    0,
                    0,
                    47,
                    47,
                    0,
                    0,
                    47,
                    47
                  ],
                  "y": [
                    25,
                    73,
                    73,
                    25,
                    25,
                    73,
                    73,
                    25
                  ],
                  "z": [
                    0,
                    0,
                    0,
                    0,
                    213,
                    213,
                    213,
                    213
                  ]
                },
                {
                  "color": "rgb(137.36600884035033,83.34266712247752,167.14818132418438)",
                  "i": [
                    7,
                    0,
                    0,
                    0,
                    4,
                    4,
                    2,
                    6,
                    4,
                    0,
                    3,
                    7
                  ],
                  "j": [
                    3,
                    4,
                    1,
                    2,
                    5,
                    6,
                    5,
                    5,
                    0,
                    1,
                    2,
                    2
                  ],
                  "k": [
                    0,
                    7,
                    2,
                    3,
                    6,
                    7,
                    1,
                    2,
                    5,
                    5,
                    7,
                    6
                  ],
                  "opacity": 1,
                  "type": "mesh3d",
                  "x": [
                    49,
                    49,
                    217,
                    217,
                    49,
                    49,
                    217,
                    217
                  ],
                  "y": [
                    0,
                    72,
                    72,
                    0,
                    0,
                    72,
                    72,
                    0
                  ],
                  "z": [
                    0,
                    0,
                    0,
                    0,
                    170,
                    170,
                    170,
                    170
                  ]
                },
                {
                  "color": "rgb(8.23578226891612,163.00797172485534,206.41785529048033)",
                  "i": [
                    7,
                    0,
                    0,
                    0,
                    4,
                    4,
                    2,
                    6,
                    4,
                    0,
                    3,
                    7
                  ],
                  "j": [
                    3,
                    4,
                    1,
                    2,
                    5,
                    6,
                    5,
                    5,
                    0,
                    1,
                    2,
                    2
                  ],
                  "k": [
                    0,
                    7,
                    2,
                    3,
                    6,
                    7,
                    1,
                    2,
                    5,
                    5,
                    7,
                    6
                  ],
                  "opacity": 1,
                  "type": "mesh3d",
                  "x": [
                    247,
                    247,
                    587,
                    587,
                    247,
                    247,
                    587,
                    587
                  ],
                  "y": [
                    64,
                    148,
                    148,
                    64,
                    64,
                    148,
                    148,
                    64
                  ],
                  "z": [
                    0,
                    0,
                    0,
                    0,
                    72,
                    72,
                    72,
                    72
                  ]
                },
                {
                  "color": "rgb(49.34508191599888,27.152669668739286,16.352040848394196)",
                  "i": [
                    7,
                    0,
                    0,
                    0,
                    4,
                    4,
                    2,
                    6,
                    4,
                    0,
                    3,
                    7
                  ],
                  "j": [
                    3,
                    4,
                    1,
                    2,
                    5,
                    6,
                    5,
                    5,
                    0,
                    1,
                    2,
                    2
                  ],
                  "k": [
                    0,
                    7,
                    2,
                    3,
                    6,
                    7,
                    1,
                    2,
                    5,
                    5,
                    7,
                    6
                  ],
                  "opacity": 1,
                  "type": "mesh3d",
                  "x": [
                    64,
                    64,
                    236,
                    236,
                    64,
                    64,
                    236,
                    236
                  ],
                  "y": [
                    81,
                    233,
                    233,
                    81,
                    81,
                    233,
                    233,
                    81
                  ],
                  "z": [
                    0,
                    0,
                    0,
                    0,
                    38,
                    38,
                    38,
                    38
                  ]
                },
                {
                  "color": "rgb(192.2862191064883,17.45722129945522,62.55309459569556)",
                  "i": [
                    7,
                    0,
                    0,
                    0,
                    4,
                    4,
                    2,
                    6,
                    4,
                    0,
                    3,
                    7
                  ],
                  "j": [
                    3,
                    4,
                    1,
                    2,
                    5,
                    6,
                    5,
                    5,
                    0,
                    1,
                    2,
                    2
                  ],
                  "k": [
                    0,
                    7,
                    2,
                    3,
                    6,
                    7,
                    1,
                    2,
                    5,
                    5,
                    7,
                    6
                  ],
                  "opacity": 1,
                  "type": "mesh3d",
                  "x": [
                    278,
                    278,
                    587,
                    587,
                    278,
                    278,
                    587,
                    587
                  ],
                  "y": [
                    169,
                    233,
                    233,
                    169,
                    169,
                    233,
                    233,
                    169
                  ],
                  "z": [
                    72,
                    72,
                    72,
                    72,
                    148,
                    148,
                    148,
                    148
                  ]
                },
                {
                  "color": "rgb(16.9953781632382,177.10239575300932,167.2918546091651)",
                  "i": [
                    7,
                    0,
                    0,
                    0,
                    4,
                    4,
                    2,
                    6,
                    4,
                    0,
                    3,
                    7
                  ],
                  "j": [
                    3,
                    4,
                    1,
                    2,
                    5,
                    6,
                    5,
                    5,
                    0,
                    1,
                    2,
                    2
                  ],
                  "k": [
                    0,
                    7,
                    2,
                    3,
                    6,
                    7,
                    1,
                    2,
                    5,
                    5,
                    7,
                    6
                  ],
                  "opacity": 1,
                  "type": "mesh3d",
                  "x": [
                    64,
                    64,
                    232,
                    232,
                    64,
                    64,
                    232,
                    232
                  ],
                  "y": [
                    148,
                    233,
                    233,
                    148,
                    148,
                    233,
                    233,
                    148
                  ],
                  "z": [
                    38,
                    38,
                    38,
                    38,
                    182,
                    182,
                    182,
                    182
                  ]
                },
                {
                  "color": "rgb(2.6887226316411543,18.28843159387867,248.01935898655134)",
                  "i": [
                    7,
                    0,
                    0,
                    0,
                    4,
                    4,
                    2,
                    6,
                    4,
                    0,
                    3,
                    7
                  ],
                  "j": [
                    3,
                    4,
                    1,
                    2,
                    5,
                    6,
                    5,
                    5,
                    0,
                    1,
                    2,
                    2
                  ],
                  "k": [
                    0,
                    7,
                    2,
                    3,
                    6,
                    7,
                    1,
                    2,
                    5,
                    5,
                    7,
                    6
                  ],
                  "opacity": 1,
                  "type": "mesh3d",
                  "x": [
                    307,
                    307,
                    587,
                    587,
                    307,
                    307,
                    587,
                    587
                  ],
                  "y": [
                    0,
                    62,
                    62,
                    0,
                    0,
                    62,
                    62,
                    0
                  ],
                  "z": [
                    103,
                    103,
                    103,
                    103,
                    198,
                    198,
                    198,
                    198
                  ]
                },
                {
                  "color": "rgb(5.797348084510628,190.42552679553478,43.21891932983044)",
                  "i": [
                    7,
                    0,
                    0,
                    0,
                    4,
                    4,
                    2,
                    6,
                    4,
                    0,
                    3,
                    7
                  ],
                  "j": [
                    3,
                    4,
                    1,
                    2,
                    5,
                    6,
                    5,
                    5,
                    0,
                    1,
                    2,
                    2
                  ],
                  "k": [
                    0,
                    7,
                    2,
                    3,
                    6,
                    7,
                    1,
                    2,
                    5,
                    5,
                    7,
                    6
                  ],
                  "opacity": 1,
                  "type": "mesh3d",
                  "x": [
                    415,
                    415,
                    587,
                    587,
                    415,
                    415,
                    587,
                    587
                  ],
                  "y": [
                    64,
                    140,
                    140,
                    64,
                    64,
                    140,
                    140,
                    64
                  ],
                  "z": [
                    72,
                    72,
                    72,
                    72,
                    148,
                    148,
                    148,
                    148
                  ]
                },
                {
                  "color": "rgb(195.52019901444325,236.5321219807539,243.2213602798544)",
                  "i": [
                    7,
                    0,
                    0,
                    0,
                    4,
                    4,
                    2,
                    6,
                    4,
                    0,
                    3,
                    7
                  ],
                  "j": [
                    3,
                    4,
                    1,
                    2,
                    5,
                    6,
                    5,
                    5,
                    0,
                    1,
                    2,
                    2
                  ],
                  "k": [
                    0,
                    7,
                    2,
                    3,
                    6,
                    7,
                    1,
                    2,
                    5,
                    5,
                    7,
                    6
                  ],
                  "opacity": 1,
                  "type": "mesh3d",
                  "x": [
                    302,
                    302,
                    587,
                    587,
                    302,
                    302,
                    587,
                    587
                  ],
                  "y": [
                    171,
                    233,
                    233,
                    171,
                    171,
                    233,
                    233,
                    171
                  ],
                  "z": [
                    148,
                    148,
                    148,
                    148,
                    218,
                    218,
                    218,
                    218
                  ]
                },
                {
                  "color": "rgb(141.2571601237049,16.359348768640334,36.749372211178276)",
                  "i": [
                    7,
                    0,
                    0,
                    0,
                    4,
                    4,
                    2,
                    6,
                    4,
                    0,
                    3,
                    7
                  ],
                  "j": [
                    3,
                    4,
                    1,
                    2,
                    5,
                    6,
                    5,
                    5,
                    0,
                    1,
                    2,
                    2
                  ],
                  "k": [
                    0,
                    7,
                    2,
                    3,
                    6,
                    7,
                    1,
                    2,
                    5,
                    5,
                    7,
                    6
                  ],
                  "opacity": 1,
                  "type": "mesh3d",
                  "x": [
                    64,
                    64,
                    159,
                    159,
                    64,
                    64,
                    159,
                    159
                  ],
                  "y": [
                    81,
                    143,
                    143,
                    81,
                    81,
                    143,
                    143,
                    81
                  ],
                  "z": [
                    38,
                    38,
                    38,
                    38,
                    178,
                    178,
                    178,
                    178
                  ]
                },
                {
                  "color": "rgb(183.98403200186632,37.46545332389177,173.83898169787227)",
                  "i": [
                    7,
                    0,
                    0,
                    0,
                    4,
                    4,
                    2,
                    6,
                    4,
                    0,
                    3,
                    7
                  ],
                  "j": [
                    3,
                    4,
                    1,
                    2,
                    5,
                    6,
                    5,
                    5,
                    0,
                    1,
                    2,
                    2
                  ],
                  "k": [
                    0,
                    7,
                    2,
                    3,
                    6,
                    7,
                    1,
                    2,
                    5,
                    5,
                    7,
                    6
                  ],
                  "opacity": 1,
                  "type": "mesh3d",
                  "x": [
                    0,
                    0,
                    49,
                    49,
                    0,
                    0,
                    49,
                    49
                  ],
                  "y": [
                    0,
                    25,
                    25,
                    0,
                    0,
                    25,
                    25,
                    0
                  ],
                  "z": [
                    189,
                    189,
                    189,
                    189,
                    210,
                    210,
                    210,
                    210
                  ]
                },
                {
                  "color": "rgb(5.895881891987595,174.01227155864078,195.22898249515978)",
                  "i": [
                    7,
                    0,
                    0,
                    0,
                    4,
                    4,
                    2,
                    6,
                    4,
                    0,
                    3,
                    7
                  ],
                  "j": [
                    3,
                    4,
                    1,
                    2,
                    5,
                    6,
                    5,
                    5,
                    0,
                    1,
                    2,
                    2
                  ],
                  "k": [
                    0,
                    7,
                    2,
                    3,
                    6,
                    7,
                    1,
                    2,
                    5,
                    5,
                    7,
                    6
                  ],
                  "opacity": 1,
                  "type": "mesh3d",
                  "x": [
                    440,
                    440,
                    587,
                    587,
                    440,
                    440,
                    587,
                    587
                  ],
                  "y": [
                    0,
                    25,
                    25,
                    0,
                    0,
                    25,
                    25,
                    0
                  ],
                  "z": [
                    198,
                    198,
                    198,
                    198,
                    219,
                    219,
                    219,
                    219
                  ]
                },
                {
                  "color": "rgb(66.29081085243193,250.99926407178916,143.65558638567404)",
                  "i": [
                    7,
                    0,
                    0,
                    0,
                    4,
                    4,
                    2,
                    6,
                    4,
                    0,
                    3,
                    7
                  ],
                  "j": [
                    3,
                    4,
                    1,
                    2,
                    5,
                    6,
                    5,
                    5,
                    0,
                    1,
                    2,
                    2
                  ],
                  "k": [
                    0,
                    7,
                    2,
                    3,
                    6,
                    7,
                    1,
                    2,
                    5,
                    5,
                    7,
                    6
                  ],
                  "opacity": 1,
                  "type": "mesh3d",
                  "x": [
                    415,
                    415,
                    587,
                    587,
                    415,
                    415,
                    587,
                    587
                  ],
                  "y": [
                    64,
                    140,
                    140,
                    64,
                    64,
                    140,
                    140,
                    64
                  ],
                  "z": [
                    148,
                    148,
                    148,
                    148,
                    186,
                    186,
                    186,
                    186
                  ]
                },
                {
                  "color": "rgb(246.32018977856944,162.3299386078865,130.82313548874603)",
                  "i": [
                    7,
                    0,
                    0,
                    0,
                    4,
                    4,
                    2,
                    6,
                    4,
                    0,
                    3,
                    7
                  ],
                  "j": [
                    3,
                    4,
                    1,
                    2,
                    5,
                    6,
                    5,
                    5,
                    0,
                    1,
                    2,
                    2
                  ],
                  "k": [
                    0,
                    7,
                    2,
                    3,
                    6,
                    7,
                    1,
                    2,
                    5,
                    5,
                    7,
                    6
                  ],
                  "opacity": 1,
                  "type": "mesh3d",
                  "x": [
                    217,
                    217,
                    277,
                    277,
                    217,
                    217,
                    277,
                    277
                  ],
                  "y": [
                    0,
                    41,
                    41,
                    0,
                    0,
                    41,
                    41,
                    0
                  ],
                  "z": [
                    0,
                    0,
                    0,
                    0,
                    204,
                    204,
                    204,
                    204
                  ]
                },
                {
                  "color": "rgb(230.1695685181788,217.7108627420097,18.18379653468324)",
                  "i": [
                    7,
                    0,
                    0,
                    0,
                    4,
                    4,
                    2,
                    6,
                    4,
                    0,
                    3,
                    7
                  ],
                  "j": [
                    3,
                    4,
                    1,
                    2,
                    5,
                    6,
                    5,
                    5,
                    0,
                    1,
                    2,
                    2
                  ],
                  "k": [
                    0,
                    7,
                    2,
                    3,
                    6,
                    7,
                    1,
                    2,
                    5,
                    5,
                    7,
                    6
                  ],
                  "opacity": 1,
                  "type": "mesh3d",
                  "x": [
                    49,
                    49,
                    193,
                    193,
                    49,
                    49,
                    193,
                    193
                  ],
                  "y": [
                    0,
                    71,
                    71,
                    0,
                    0,
                    71,
                    71,
                    0
                  ],
                  "z": [
                    170,
                    170,
                    170,
                    170,
                    217,
                    217,
                    217,
                    217
                  ]
                },
                {
                  "color": "rgb(185.73672290325288,202.9876111486996,74.20358559917767)",
                  "i": [
                    7,
                    0,
                    0,
                    0,
                    4,
                    4,
                    2,
                    6,
                    4,
                    0,
                    3,
                    7
                  ],
                  "j": [
                    3,
                    4,
                    1,
                    2,
                    5,
                    6,
                    5,
                    5,
                    0,
                    1,
                    2,
                    2
                  ],
                  "k": [
                    0,
                    7,
                    2,
                    3,
                    6,
                    7,
                    1,
                    2,
                    5,
                    5,
                    7,
                    6
                  ],
                  "opacity": 1,
                  "type": "mesh3d",
                  "x": [
                    64,
                    64,
                    172,
                    172,
                    64,
                    64,
                    172,
                    172
                  ],
                  "y": [
                    185,
                    233,
                    233,
                    185,
                    185,
                    233,
                    233,
                    185
                  ],
                  "z": [
                    182,
                    182,
                    182,
                    182,
                    213,
                    213,
                    213,
                    213
                  ]
                },
                {
                  "color": "rgb(8.123605805349301,106.35104439133592,179.55480688134935)",
                  "i": [
                    7,
                    0,
                    0,
                    0,
                    4,
                    4,
                    2,
                    6,
                    4,
                    0,
                    3,
                    7
                  ],
                  "j": [
                    3,
                    4,
                    1,
                    2,
                    5,
                    6,
                    5,
                    5,
                    0,
                    1,
                    2,
                    2
                  ],
                  "k": [
                    0,
                    7,
                    2,
                    3,
                    6,
                    7,
                    1,
                    2,
                    5,
                    5,
                    7,
                    6
                  ],
                  "opacity": 1,
                  "type": "mesh3d",
                  "x": [
                    443,
                    443,
                    587,
                    587,
                    443,
                    443,
                    587,
                    587
                  ],
                  "y": [
                    64,
                    112,
                    112,
                    64,
                    64,
                    112,
                    112,
                    64
                  ],
                  "z": [
                    186,
                    186,
                    186,
                    186,
                    217,
                    217,
                    217,
                    217
                  ]
                },
                {
                  "color": "rgb(244.787649307569,46.43585755021862,42.325794675214404)",
                  "i": [
                    7,
                    0,
                    0,
                    0,
                    4,
                    4,
                    2,
                    6,
                    4,
                    0,
                    3,
                    7
                  ],
                  "j": [
                    3,
                    4,
                    1,
                    2,
                    5,
                    6,
                    5,
                    5,
                    0,
                    1,
                    2,
                    2
                  ],
                  "k": [
                    0,
                    7,
                    2,
                    3,
                    6,
                    7,
                    1,
                    2,
                    5,
                    5,
                    7,
                    6
                  ],
                  "opacity": 1,
                  "type": "mesh3d",
                  "x": [
                    159,
                    159,
                    230,
                    230,
                    159,
                    159,
                    230,
                    230
                  ],
                  "y": [
                    81,
                    129,
                    129,
                    81,
                    81,
                    129,
                    129,
                    81
                  ],
                  "z": [
                    38,
                    38,
                    38,
                    38,
                    179,
                    179,
                    179,
                    179
                  ]
                },
                {
                  "color": "rgb(40.58477986256395,103.24401654987503,217.80709095231933)",
                  "i": [
                    7,
                    0,
                    0,
                    0,
                    4,
                    4,
                    2,
                    6,
                    4,
                    0,
                    3,
                    7
                  ],
                  "j": [
                    3,
                    4,
                    1,
                    2,
                    5,
                    6,
                    5,
                    5,
                    0,
                    1,
                    2,
                    2
                  ],
                  "k": [
                    0,
                    7,
                    2,
                    3,
                    6,
                    7,
                    1,
                    2,
                    5,
                    5,
                    7,
                    6
                  ],
                  "opacity": 1,
                  "type": "mesh3d",
                  "x": [
                    64,
                    64,
                    208,
                    208,
                    64,
                    64,
                    208,
                    208
                  ],
                  "y": [
                    149,
                    185,
                    185,
                    149,
                    149,
                    185,
                    185,
                    149
                  ],
                  "z": [
                    182,
                    182,
                    182,
                    182,
                    213,
                    213,
                    213,
                    213
                  ]
                },
                {
                  "color": "rgb(15.315043430572253,102.80341939586613,208.55737172603887)",
                  "i": [
                    7,
                    0,
                    0,
                    0,
                    4,
                    4,
                    2,
                    6,
                    4,
                    0,
                    3,
                    7
                  ],
                  "j": [
                    3,
                    4,
                    1,
                    2,
                    5,
                    6,
                    5,
                    5,
                    0,
                    1,
                    2,
                    2
                  ],
                  "k": [
                    0,
                    7,
                    2,
                    3,
                    6,
                    7,
                    1,
                    2,
                    5,
                    5,
                    7,
                    6
                  ],
                  "opacity": 1,
                  "type": "mesh3d",
                  "x": [
                    304,
                    304,
                    415,
                    415,
                    304,
                    304,
                    415,
                    415
                  ],
                  "y": [
                    64,
                    113,
                    113,
                    64,
                    64,
                    113,
                    113,
                    64
                  ],
                  "z": [
                    72,
                    72,
                    72,
                    72,
                    150,
                    150,
                    150,
                    150
                  ]
                },
                {
                  "color": "rgb(247.9487881137857,139.48826236740547,123.37950266304138)",
                  "i": [
                    7,
                    0,
                    0,
                    0,
                    4,
                    4,
                    2,
                    6,
                    4,
                    0,
                    3,
                    7
                  ],
                  "j": [
                    3,
                    4,
                    1,
                    2,
                    5,
                    6,
                    5,
                    5,
                    0,
                    1,
                    2,
                    2
                  ],
                  "k": [
                    0,
                    7,
                    2,
                    3,
                    6,
                    7,
                    1,
                    2,
                    5,
                    5,
                    7,
                    6
                  ],
                  "opacity": 1,
                  "type": "mesh3d",
                  "x": [
                    64,
                    64,
                    95,
                    95,
                    64,
                    64,
                    95,
                    95
                  ],
                  "y": [
                    81,
                    129,
                    129,
                    81,
                    81,
                    129,
                    129,
                    81
                  ],
                  "z": [
                    178,
                    178,
                    178,
                    178,
                    214,
                    214,
                    214,
                    214
                  ]
                },
                {
                  "color": "rgb(138.8852142763391,253.69444290952433,135.30294236559072)",
                  "i": [
                    7,
                    0,
                    0,
                    0,
                    4,
                    4,
                    2,
                    6,
                    4,
                    0,
                    3,
                    7
                  ],
                  "j": [
                    3,
                    4,
                    1,
                    2,
                    5,
                    6,
                    5,
                    5,
                    0,
                    1,
                    2,
                    2
                  ],
                  "k": [
                    0,
                    7,
                    2,
                    3,
                    6,
                    7,
                    1,
                    2,
                    5,
                    5,
                    7,
                    6
                  ],
                  "opacity": 1,
                  "type": "mesh3d",
                  "x": [
                    172,
                    172,
                    208,
                    208,
                    172,
                    172,
                    208,
                    208
                  ],
                  "y": [
                    185,
                    233,
                    233,
                    185,
                    185,
                    233,
                    233,
                    185
                  ],
                  "z": [
                    182,
                    182,
                    182,
                    182,
                    213,
                    213,
                    213,
                    213
                  ]
                },
                {
                  "color": "rgb(52.567579972063776,205.33898616120916,104.41820744553827)",
                  "i": [
                    7,
                    0,
                    0,
                    0,
                    4,
                    4,
                    2,
                    6,
                    4,
                    0,
                    3,
                    7
                  ],
                  "j": [
                    3,
                    4,
                    1,
                    2,
                    5,
                    6,
                    5,
                    5,
                    0,
                    1,
                    2,
                    2
                  ],
                  "k": [
                    0,
                    7,
                    2,
                    3,
                    6,
                    7,
                    1,
                    2,
                    5,
                    5,
                    7,
                    6
                  ],
                  "opacity": 1,
                  "type": "mesh3d",
                  "x": [
                    95,
                    95,
                    155,
                    155,
                    95,
                    95,
                    155,
                    155
                  ],
                  "y": [
                    81,
                    132,
                    132,
                    81,
                    81,
                    132,
                    132,
                    81
                  ],
                  "z": [
                    178,
                    178,
                    178,
                    178,
                    219,
                    219,
                    219,
                    219
                  ]
                },
                {
                  "color": "rgb(114.85730413240333,30.92553272559316,250.87536727806787)",
                  "i": [
                    7,
                    0,
                    0,
                    0,
                    4,
                    4,
                    2,
                    6,
                    4,
                    0,
                    3,
                    7
                  ],
                  "j": [
                    3,
                    4,
                    1,
                    2,
                    5,
                    6,
                    5,
                    5,
                    0,
                    1,
                    2,
                    2
                  ],
                  "k": [
                    0,
                    7,
                    2,
                    3,
                    6,
                    7,
                    1,
                    2,
                    5,
                    5,
                    7,
                    6
                  ],
                  "opacity": 1,
                  "type": "mesh3d",
                  "x": [
                    304,
                    304,
                    415,
                    415,
                    304,
                    304,
                    415,
                    415
                  ],
                  "y": [
                    64,
                    113,
                    113,
                    64,
                    64,
                    113,
                    113,
                    64
                  ],
                  "z": [
                    150,
                    150,
                    150,
                    150,
                    202,
                    202,
                    202,
                    202
                  ]
                }
              ],
              "layout": {
                "autosize": false,
                "margin": {
                  "b": 0,
                  "l": 0,
                  "r": 0,
                  "t": 0
                },
                "paper_bgcolor": "rgba(0,0,0,0)",
                "scene": {
                  "camera": {
                    "center": {
                      "x": 0,
                      "y": 0,
                      "z": 0
                    },
                    "eye": {
                      "x": -2,
                      "y": 2,
                      "z": 1.5
                    },
                    "up": {
                      "x": 0,
                      "y": 0,
                      "z": 1
                    }
                  },
                  "xaxis": {
                    "nticks": 10,
                    "range": [
                      0,
                      587
                    ],
                    "showspikes": false
                  },
                  "yaxis": {
                    "nticks": 5,
                    "range": [
                      0,
                      233
                    ],
                    "showspikes": false
                  },
                  "zaxis": {
                    "nticks": 5,
                    "range": [
                      0,
                      220
                    ],
                    "tickfont": {
                      "size": 15
                    }
                  }
                },
                "template": {
                  "data": {
                    "bar": [
                      {
                        "error_x": {
                          "color": "#2a3f5f"
                        },
                        "error_y": {
                          "color": "#2a3f5f"
                        },
                        "marker": {
                          "line": {
                            "color": "#E5ECF6",
                            "width": 0.5
                          },
                          "pattern": {
                            "fillmode": "overlay",
                            "size": 10,
                            "solidity": 0.2
                          }
                        },
                        "type": "bar"
                      }
                    ],
                    "barpolar": [
                      {
                        "marker": {
                          "line": {
                            "color": "#E5ECF6",
                            "width": 0.5
                          },
                          "pattern": {
                            "fillmode": "overlay",
                            "size": 10,
                            "solidity": 0.2
                          }
                        },
                        "type": "barpolar"
                      }
                    ],
                    "carpet": [
                      {
                        "aaxis": {
                          "endlinecolor": "#2a3f5f",
                          "gridcolor": "white",
                          "linecolor": "white",
                          "minorgridcolor": "white",
                          "startlinecolor": "#2a3f5f"
                        },
                        "baxis": {
                          "endlinecolor": "#2a3f5f",
                          "gridcolor": "white",
                          "linecolor": "white",
                          "minorgridcolor": "white",
                          "startlinecolor": "#2a3f5f"
                        },
                        "type": "carpet"
                      }
                    ],
                    "choropleth": [
                      {
                        "colorbar": {
                          "outlinewidth": 0,
                          "ticks": ""
                        },
                        "type": "choropleth"
                      }
                    ],
                    "contour": [
                      {
                        "colorbar": {
                          "outlinewidth": 0,
                          "ticks": ""
                        },
                        "colorscale": [
                          [
                            0,
                            "#0d0887"
                          ],
                          [
                            0.1111111111111111,
                            "#46039f"
                          ],
                          [
                            0.2222222222222222,
                            "#7201a8"
                          ],
                          [
                            0.3333333333333333,
                            "#9c179e"
                          ],
                          [
                            0.4444444444444444,
                            "#bd3786"
                          ],
                          [
                            0.5555555555555556,
                            "#d8576b"
                          ],
                          [
                            0.6666666666666666,
                            "#ed7953"
                          ],
                          [
                            0.7777777777777778,
                            "#fb9f3a"
                          ],
                          [
                            0.8888888888888888,
                            "#fdca26"
                          ],
                          [
                            1,
                            "#f0f921"
                          ]
                        ],
                        "type": "contour"
                      }
                    ],
                    "contourcarpet": [
                      {
                        "colorbar": {
                          "outlinewidth": 0,
                          "ticks": ""
                        },
                        "type": "contourcarpet"
                      }
                    ],
                    "heatmap": [
                      {
                        "colorbar": {
                          "outlinewidth": 0,
                          "ticks": ""
                        },
                        "colorscale": [
                          [
                            0,
                            "#0d0887"
                          ],
                          [
                            0.1111111111111111,
                            "#46039f"
                          ],
                          [
                            0.2222222222222222,
                            "#7201a8"
                          ],
                          [
                            0.3333333333333333,
                            "#9c179e"
                          ],
                          [
                            0.4444444444444444,
                            "#bd3786"
                          ],
                          [
                            0.5555555555555556,
                            "#d8576b"
                          ],
                          [
                            0.6666666666666666,
                            "#ed7953"
                          ],
                          [
                            0.7777777777777778,
                            "#fb9f3a"
                          ],
                          [
                            0.8888888888888888,
                            "#fdca26"
                          ],
                          [
                            1,
                            "#f0f921"
                          ]
                        ],
                        "type": "heatmap"
                      }
                    ],
                    "heatmapgl": [
                      {
                        "colorbar": {
                          "outlinewidth": 0,
                          "ticks": ""
                        },
                        "colorscale": [
                          [
                            0,
                            "#0d0887"
                          ],
                          [
                            0.1111111111111111,
                            "#46039f"
                          ],
                          [
                            0.2222222222222222,
                            "#7201a8"
                          ],
                          [
                            0.3333333333333333,
                            "#9c179e"
                          ],
                          [
                            0.4444444444444444,
                            "#bd3786"
                          ],
                          [
                            0.5555555555555556,
                            "#d8576b"
                          ],
                          [
                            0.6666666666666666,
                            "#ed7953"
                          ],
                          [
                            0.7777777777777778,
                            "#fb9f3a"
                          ],
                          [
                            0.8888888888888888,
                            "#fdca26"
                          ],
                          [
                            1,
                            "#f0f921"
                          ]
                        ],
                        "type": "heatmapgl"
                      }
                    ],
                    "histogram": [
                      {
                        "marker": {
                          "pattern": {
                            "fillmode": "overlay",
                            "size": 10,
                            "solidity": 0.2
                          }
                        },
                        "type": "histogram"
                      }
                    ],
                    "histogram2d": [
                      {
                        "colorbar": {
                          "outlinewidth": 0,
                          "ticks": ""
                        },
                        "colorscale": [
                          [
                            0,
                            "#0d0887"
                          ],
                          [
                            0.1111111111111111,
                            "#46039f"
                          ],
                          [
                            0.2222222222222222,
                            "#7201a8"
                          ],
                          [
                            0.3333333333333333,
                            "#9c179e"
                          ],
                          [
                            0.4444444444444444,
                            "#bd3786"
                          ],
                          [
                            0.5555555555555556,
                            "#d8576b"
                          ],
                          [
                            0.6666666666666666,
                            "#ed7953"
                          ],
                          [
                            0.7777777777777778,
                            "#fb9f3a"
                          ],
                          [
                            0.8888888888888888,
                            "#fdca26"
                          ],
                          [
                            1,
                            "#f0f921"
                          ]
                        ],
                        "type": "histogram2d"
                      }
                    ],
                    "histogram2dcontour": [
                      {
                        "colorbar": {
                          "outlinewidth": 0,
                          "ticks": ""
                        },
                        "colorscale": [
                          [
                            0,
                            "#0d0887"
                          ],
                          [
                            0.1111111111111111,
                            "#46039f"
                          ],
                          [
                            0.2222222222222222,
                            "#7201a8"
                          ],
                          [
                            0.3333333333333333,
                            "#9c179e"
                          ],
                          [
                            0.4444444444444444,
                            "#bd3786"
                          ],
                          [
                            0.5555555555555556,
                            "#d8576b"
                          ],
                          [
                            0.6666666666666666,
                            "#ed7953"
                          ],
                          [
                            0.7777777777777778,
                            "#fb9f3a"
                          ],
                          [
                            0.8888888888888888,
                            "#fdca26"
                          ],
                          [
                            1,
                            "#f0f921"
                          ]
                        ],
                        "type": "histogram2dcontour"
                      }
                    ],
                    "mesh3d": [
                      {
                        "colorbar": {
                          "outlinewidth": 0,
                          "ticks": ""
                        },
                        "type": "mesh3d"
                      }
                    ],
                    "parcoords": [
                      {
                        "line": {
                          "colorbar": {
                            "outlinewidth": 0,
                            "ticks": ""
                          }
                        },
                        "type": "parcoords"
                      }
                    ],
                    "pie": [
                      {
                        "automargin": true,
                        "type": "pie"
                      }
                    ],
                    "scatter": [
                      {
                        "fillpattern": {
                          "fillmode": "overlay",
                          "size": 10,
                          "solidity": 0.2
                        },
                        "type": "scatter"
                      }
                    ],
                    "scatter3d": [
                      {
                        "line": {
                          "colorbar": {
                            "outlinewidth": 0,
                            "ticks": ""
                          }
                        },
                        "marker": {
                          "colorbar": {
                            "outlinewidth": 0,
                            "ticks": ""
                          }
                        },
                        "type": "scatter3d"
                      }
                    ],
                    "scattercarpet": [
                      {
                        "marker": {
                          "colorbar": {
                            "outlinewidth": 0,
                            "ticks": ""
                          }
                        },
                        "type": "scattercarpet"
                      }
                    ],
                    "scattergeo": [
                      {
                        "marker": {
                          "colorbar": {
                            "outlinewidth": 0,
                            "ticks": ""
                          }
                        },
                        "type": "scattergeo"
                      }
                    ],
                    "scattergl": [
                      {
                        "marker": {
                          "colorbar": {
                            "outlinewidth": 0,
                            "ticks": ""
                          }
                        },
                        "type": "scattergl"
                      }
                    ],
                    "scattermapbox": [
                      {
                        "marker": {
                          "colorbar": {
                            "outlinewidth": 0,
                            "ticks": ""
                          }
                        },
                        "type": "scattermapbox"
                      }
                    ],
                    "scatterpolar": [
                      {
                        "marker": {
                          "colorbar": {
                            "outlinewidth": 0,
                            "ticks": ""
                          }
                        },
                        "type": "scatterpolar"
                      }
                    ],
                    "scatterpolargl": [
                      {
                        "marker": {
                          "colorbar": {
                            "outlinewidth": 0,
                            "ticks": ""
                          }
                        },
                        "type": "scatterpolargl"
                      }
                    ],
                    "scatterternary": [
                      {
                        "marker": {
                          "colorbar": {
                            "outlinewidth": 0,
                            "ticks": ""
                          }
                        },
                        "type": "scatterternary"
                      }
                    ],
                    "surface": [
                      {
                        "colorbar": {
                          "outlinewidth": 0,
                          "ticks": ""
                        },
                        "colorscale": [
                          [
                            0,
                            "#0d0887"
                          ],
                          [
                            0.1111111111111111,
                            "#46039f"
                          ],
                          [
                            0.2222222222222222,
                            "#7201a8"
                          ],
                          [
                            0.3333333333333333,
                            "#9c179e"
                          ],
                          [
                            0.4444444444444444,
                            "#bd3786"
                          ],
                          [
                            0.5555555555555556,
                            "#d8576b"
                          ],
                          [
                            0.6666666666666666,
                            "#ed7953"
                          ],
                          [
                            0.7777777777777778,
                            "#fb9f3a"
                          ],
                          [
                            0.8888888888888888,
                            "#fdca26"
                          ],
                          [
                            1,
                            "#f0f921"
                          ]
                        ],
                        "type": "surface"
                      }
                    ],
                    "table": [
                      {
                        "cells": {
                          "fill": {
                            "color": "#EBF0F8"
                          },
                          "line": {
                            "color": "white"
                          }
                        },
                        "header": {
                          "fill": {
                            "color": "#C8D4E3"
                          },
                          "line": {
                            "color": "white"
                          }
                        },
                        "type": "table"
                      }
                    ]
                  },
                  "layout": {
                    "annotationdefaults": {
                      "arrowcolor": "#2a3f5f",
                      "arrowhead": 0,
                      "arrowwidth": 1
                    },
                    "autotypenumbers": "strict",
                    "coloraxis": {
                      "colorbar": {
                        "outlinewidth": 0,
                        "ticks": ""
                      }
                    },
                    "colorscale": {
                      "diverging": [
                        [
                          0,
                          "#8e0152"
                        ],
                        [
                          0.1,
                          "#c51b7d"
                        ],
                        [
                          0.2,
                          "#de77ae"
                        ],
                        [
                          0.3,
                          "#f1b6da"
                        ],
                        [
                          0.4,
                          "#fde0ef"
                        ],
                        [
                          0.5,
                          "#f7f7f7"
                        ],
                        [
                          0.6,
                          "#e6f5d0"
                        ],
                        [
                          0.7,
                          "#b8e186"
                        ],
                        [
                          0.8,
                          "#7fbc41"
                        ],
                        [
                          0.9,
                          "#4d9221"
                        ],
                        [
                          1,
                          "#276419"
                        ]
                      ],
                      "sequential": [
                        [
                          0,
                          "#0d0887"
                        ],
                        [
                          0.1111111111111111,
                          "#46039f"
                        ],
                        [
                          0.2222222222222222,
                          "#7201a8"
                        ],
                        [
                          0.3333333333333333,
                          "#9c179e"
                        ],
                        [
                          0.4444444444444444,
                          "#bd3786"
                        ],
                        [
                          0.5555555555555556,
                          "#d8576b"
                        ],
                        [
                          0.6666666666666666,
                          "#ed7953"
                        ],
                        [
                          0.7777777777777778,
                          "#fb9f3a"
                        ],
                        [
                          0.8888888888888888,
                          "#fdca26"
                        ],
                        [
                          1,
                          "#f0f921"
                        ]
                      ],
                      "sequentialminus": [
                        [
                          0,
                          "#0d0887"
                        ],
                        [
                          0.1111111111111111,
                          "#46039f"
                        ],
                        [
                          0.2222222222222222,
                          "#7201a8"
                        ],
                        [
                          0.3333333333333333,
                          "#9c179e"
                        ],
                        [
                          0.4444444444444444,
                          "#bd3786"
                        ],
                        [
                          0.5555555555555556,
                          "#d8576b"
                        ],
                        [
                          0.6666666666666666,
                          "#ed7953"
                        ],
                        [
                          0.7777777777777778,
                          "#fb9f3a"
                        ],
                        [
                          0.8888888888888888,
                          "#fdca26"
                        ],
                        [
                          1,
                          "#f0f921"
                        ]
                      ]
                    },
                    "colorway": [
                      "#636efa",
                      "#EF553B",
                      "#00cc96",
                      "#ab63fa",
                      "#FFA15A",
                      "#19d3f3",
                      "#FF6692",
                      "#B6E880",
                      "#FF97FF",
                      "#FECB52"
                    ],
                    "font": {
                      "color": "#2a3f5f"
                    },
                    "geo": {
                      "bgcolor": "white",
                      "lakecolor": "white",
                      "landcolor": "#E5ECF6",
                      "showlakes": true,
                      "showland": true,
                      "subunitcolor": "white"
                    },
                    "hoverlabel": {
                      "align": "left"
                    },
                    "hovermode": "closest",
                    "mapbox": {
                      "style": "light"
                    },
                    "paper_bgcolor": "white",
                    "plot_bgcolor": "#E5ECF6",
                    "polar": {
                      "angularaxis": {
                        "gridcolor": "white",
                        "linecolor": "white",
                        "ticks": ""
                      },
                      "bgcolor": "#E5ECF6",
                      "radialaxis": {
                        "gridcolor": "white",
                        "linecolor": "white",
                        "ticks": ""
                      }
                    },
                    "scene": {
                      "xaxis": {
                        "backgroundcolor": "#E5ECF6",
                        "gridcolor": "white",
                        "gridwidth": 2,
                        "linecolor": "white",
                        "showbackground": true,
                        "ticks": "",
                        "zerolinecolor": "white"
                      },
                      "yaxis": {
                        "backgroundcolor": "#E5ECF6",
                        "gridcolor": "white",
                        "gridwidth": 2,
                        "linecolor": "white",
                        "showbackground": true,
                        "ticks": "",
                        "zerolinecolor": "white"
                      },
                      "zaxis": {
                        "backgroundcolor": "#E5ECF6",
                        "gridcolor": "white",
                        "gridwidth": 2,
                        "linecolor": "white",
                        "showbackground": true,
                        "ticks": "",
                        "zerolinecolor": "white"
                      }
                    },
                    "shapedefaults": {
                      "line": {
                        "color": "#2a3f5f"
                      }
                    },
                    "ternary": {
                      "aaxis": {
                        "gridcolor": "white",
                        "linecolor": "white",
                        "ticks": ""
                      },
                      "baxis": {
                        "gridcolor": "white",
                        "linecolor": "white",
                        "ticks": ""
                      },
                      "bgcolor": "#E5ECF6",
                      "caxis": {
                        "gridcolor": "white",
                        "linecolor": "white",
                        "ticks": ""
                      }
                    },
                    "title": {
                      "x": 0.05
                    },
                    "xaxis": {
                      "automargin": true,
                      "gridcolor": "white",
                      "linecolor": "white",
                      "ticks": "",
                      "title": {
                        "standoff": 15
                      },
                      "zerolinecolor": "white",
                      "zerolinewidth": 2
                    },
                    "yaxis": {
                      "automargin": true,
                      "gridcolor": "white",
                      "linecolor": "white",
                      "ticks": "",
                      "title": {
                        "standoff": 15
                      },
                      "zerolinecolor": "white",
                      "zerolinewidth": 2
                    }
                  }
                }
              }
            }
          },
          "metadata": {},
          "output_type": "display_data"
        }
      ],
      "source": [
        "\n",
        "\n",
        "box_dims = []\n",
        "for aabb in cont.aabbs:\n",
        "  box_dims.append([aabb.xmin,aabb.ymin,aabb.zmin,aabb.xmax,aabb.ymax,aabb.zmax])\n",
        "\n",
        "bxplot.plot_container([L,W,H], box_dims)\n",
        "\n"
      ]
    },
    {
      "attachments": {},
      "cell_type": "markdown",
      "metadata": {
        "id": "HoUnjGqKB_vr"
      },
      "source": [
        "# Push to repo"
      ]
    }
  ],
  "metadata": {
    "colab": {
      "provenance": []
    },
    "kernelspec": {
      "display_name": "Python 3",
      "name": "python3"
    },
    "language_info": {
      "codemirror_mode": {
        "name": "ipython",
        "version": 3
      },
      "file_extension": ".py",
      "mimetype": "text/x-python",
      "name": "python",
      "nbconvert_exporter": "python",
      "pygments_lexer": "ipython3",
      "version": "3.10.11"
    }
  },
  "nbformat": 4,
  "nbformat_minor": 0
}
