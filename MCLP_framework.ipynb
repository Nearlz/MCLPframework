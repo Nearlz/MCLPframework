{
  "cells": [
    {
      "cell_type": "code",
      "execution_count": 32,
      "metadata": {
        "colab": {
          "base_uri": "https://localhost:8080/"
        },
        "id": "I0nlZKgpCP3o",
        "outputId": "8f377390-ebd5-4f14-cd9b-bf486d8894f9"
      },
      "outputs": [
        {
          "name": "stdout",
          "output_type": "stream",
          "text": [
            "b1: Block: l: 4 w: 2 h: True weight: 1 volume: 8 occupied_volume: 8 items: {<src.base.Boxtype object at 0x14fb54f70>: 1} ratio:1.0\n",
            "b2: Block: l: 2 w: 3 h: True weight: 1 volume: 6 occupied_volume: 6 items: {<src.base.Boxtype object at 0x14e4afbe0>: 1} ratio:1.0\n",
            "b3: Block: l: True w: 2 h: 1 weight: 1 volume: 2 occupied_volume: 2 items: {<src.base.Boxtype object at 0x14f951760>: 1} ratio:1.0\n",
            "False b1+b2: Block: l: 4 w: 2 h: True weight: 1 volume: 8 occupied_volume: 8 items: {<src.base.Boxtype object at 0x14fb54f70>: 1} ratio:1.0\n",
            "False b1+b3: Block: l: 4 w: 2 h: True weight: 1 volume: 8 occupied_volume: 8 items: {<src.base.Boxtype object at 0x14fb54f70>: 1} ratio:1.0\n",
            "True b1+b1: Block: l: 8 w: 2 h: True weight: 2 volume: 16 occupied_volume: 16 items: {<src.base.Boxtype object at 0x14fb54f70>: 2} ratio:1.0\n"
          ]
        }
      ],
      "source": [
        "from src.base import Block, Boxtype\n",
        "import src.vcs_function as eval\n",
        "import src.box_plotter as bxplot\n",
        "import time\n",
        "import pandas as pd\n",
        "\n",
        "#test Blocks\n",
        "b1 = Block(boxtype=Boxtype(1,2,4,True,True,True,1), rot='wlh')\n",
        "b2 = Block(boxtype=Boxtype(1,2,3,True,True,True,1), rot='lwh')\n",
        "b3 = Block(boxtype=Boxtype(1,1,2,True,True,True,1), rot='hwl')\n",
        "\n",
        "#test join\n",
        "print(\"b1:\",b1); print(\"b2:\",b2); print(\"b3:\",b3)\n",
        "t=b1.join(b2, 'y'); print(t,\"b1+b2:\",b1)\n",
        "t=b1.join(b3, 'z'); print(t,\"b1+b3:\",b1)\n",
        "t=b1.join(b1, 'x'); print(t,\"b1+b1:\",b1)"
      ]
    },
    {
      "attachments": {},
      "cell_type": "markdown",
      "metadata": {
        "id": "fkcg_ZG9ijg_"
      },
      "source": [
        "## Plot container"
      ]
    },
    {
      "cell_type": "code",
      "execution_count": 33,
      "metadata": {
        "id": "Y1ePisniGkvs"
      },
      "outputs": [],
      "source": [
        "def load_instance(filename = \"instancia.txt\", type=\"BF\", id_instance=5):\n",
        "    with open(filename, \"r\") as file:\n",
        "        #discard first line\n",
        "        file.readline()\n",
        "      \n",
        "        for j in range(100):\n",
        "            file.readline()\n",
        "            L, W, H = [int(x) for x in file.readline().split()]\n",
        "\n",
        "            #read second line\n",
        "            n = int(file.readline())\n",
        "            #read n lines\n",
        "            items = Itemdict()\n",
        "            for i in range(n):\n",
        "                id, l, rotx, w, roty, h, rotz, n = [int(x) for x in file.readline().split()]    \n",
        "                item = Boxtype(id, l, w, h, rotx, roty, rotz, 1)\n",
        "                items[item]=n\n",
        "            \n",
        "            if j == id_instance: return  items, L, W, H\n"
      ]
    },
    {
      "cell_type": "code",
      "execution_count": 34,
      "metadata": {},
      "outputs": [],
      "source": [
        "def adyacent_blocks(blocks,L,W,H):\n",
        "    last = blocks[-1]\n",
        "    adyacent = list()\n",
        "    box_dims = []\n",
        "    \n",
        "    for block in blocks[:-1]:\n",
        "        \n",
        "        if block.xmax == last.xmin and ((block.zmin < last.zmax and block.zmax > last.zmin ) and (block.ymin < last.ymax and block.ymax > last.ymin )):\n",
        "            z_diff_max = max([block.zmin,last.zmin])\n",
        "            z_diff_min = min([block.zmax,last.zmax])\n",
        "            y_diff_max = max([block.ymin,last.ymin])\n",
        "            y_diff_min = min([block.ymax,last.ymax])\n",
        "            adyacent.append(block)\n",
        "            block.covered_surface+= (z_diff_min-z_diff_max) * (y_diff_min-y_diff_max)\n",
        "            block.covered_surface_face['X1']+= (z_diff_min-z_diff_max) * (y_diff_min-y_diff_max)\n",
        "            last.covered_surface+= (z_diff_min-z_diff_max) * (y_diff_min-y_diff_max)\n",
        "            last.covered_surface_face['X2']+= (z_diff_min-z_diff_max) * (y_diff_min-y_diff_max)\n",
        "\n",
        "        elif block.xmin == last.xmax and ((block.zmin < last.zmax and block.zmax > last.zmin ) and (block.ymin < last.ymax and block.ymax > last.ymin )):\n",
        "            z_diff_max = max([block.zmin,last.zmin])\n",
        "            z_diff_min = min([block.zmax,last.zmax])\n",
        "            y_diff_max = max([block.ymin,last.ymin])\n",
        "            y_diff_min = min([block.ymax,last.ymax])\n",
        "            adyacent.append(block)\n",
        "            block.covered_surface+= (z_diff_min-z_diff_max) * (y_diff_min-y_diff_max)\n",
        "            block.covered_surface_face['X2']+= (z_diff_min-z_diff_max) * (y_diff_min-y_diff_max)\n",
        "            last.covered_surface+= (z_diff_min-z_diff_max) * (y_diff_min-y_diff_max)\n",
        "            last.covered_surface_face['X1']+= (z_diff_min-z_diff_max) * (y_diff_min-y_diff_max)\n",
        "\n",
        "        elif block.ymax == last.ymin and ((block.zmin < last.zmax and block.zmax > last.zmin ) and (block.xmin < last.xmax and block.xmax > last.xmin )):\n",
        "            z_diff_max = max([block.zmin,last.zmin])\n",
        "            z_diff_min = min([block.zmax,last.zmax])\n",
        "            x_diff_max = max([block.xmin,last.xmin])\n",
        "            x_diff_min = min([block.xmax,last.xmax])\n",
        "            adyacent.append(block)\n",
        "            block.covered_surface+= (z_diff_min-z_diff_max) * (x_diff_min-x_diff_max)\n",
        "            block.covered_surface_face['Y1']+= (z_diff_min-z_diff_max) * (x_diff_min-x_diff_max)\n",
        "            last.covered_surface+= (z_diff_min-z_diff_max) * (x_diff_min-x_diff_max)\n",
        "            last.covered_surface_face['Y2']+= (z_diff_min-z_diff_max) * (x_diff_min-x_diff_max)\n",
        "\n",
        "        elif block.ymin == last.ymax and ((block.zmin < last.zmax and block.zmax > last.zmin ) and (block.xmin < last.xmax and block.xmax > last.xmin )):\n",
        "            z_diff_max = max([block.zmin,last.zmin])\n",
        "            z_diff_min = min([block.zmax,last.zmax])\n",
        "            x_diff_max = max([block.xmin,last.xmin])\n",
        "            x_diff_min = min([block.xmax,last.xmax])\n",
        "            adyacent.append(block)\n",
        "            block.covered_surface+= (z_diff_min-z_diff_max) * (x_diff_min-x_diff_max)\n",
        "            block.covered_surface_face['Y2']+= (z_diff_min-z_diff_max) * (x_diff_min-x_diff_max)\n",
        "            last.covered_surface+= (z_diff_min-z_diff_max) * (x_diff_min-x_diff_max)\n",
        "            last.covered_surface_face['Y1']+= (z_diff_min-z_diff_max) * (x_diff_min-x_diff_max)\n",
        "\n",
        "        elif block.zmax == last.zmin and ((block.ymin < last.ymax and block.ymax > last.ymin ) and (block.xmin < last.xmax and block.xmax > last.xmin )):\n",
        "            y_diff_max = max([block.ymin,last.ymin])\n",
        "            y_diff_min = min([block.ymax,last.ymax])\n",
        "            x_diff_max = max([block.xmin,last.xmin])\n",
        "            x_diff_min = min([block.xmax,last.xmax])\n",
        "            adyacent.append(block)\n",
        "            block.covered_surface+= (y_diff_min-y_diff_max) * (x_diff_min-x_diff_max)\n",
        "            # block.covered_surface_face['Z1']+= (y_diff_min-y_diff_max) * (x_diff_min-x_diff_max)\n",
        "            last.covered_surface+= (y_diff_min-y_diff_max) * (x_diff_min-x_diff_max)\n",
        "            # last.covered_surface_face['Z2']+= (y_diff_min-y_diff_max) * (x_diff_min-x_diff_max)\n",
        "\n",
        "        elif block.zmin == last.zmax and ((block.ymin < last.ymax and block.ymax > last.ymin ) and (block.xmin < last.xmax and block.xmax > last.xmin )):\n",
        "            y_diff_max = max([block.ymin,last.ymin])\n",
        "            y_diff_min = min([block.ymax,last.ymax])\n",
        "            x_diff_max = max([block.xmin,last.xmin])\n",
        "            x_diff_min = min([block.xmax,last.xmax])\n",
        "            adyacent.append(block)\n",
        "            block.covered_surface+= (y_diff_min-y_diff_max) * (x_diff_min-x_diff_max)\n",
        "            # block.covered_surface_face['Z2']+= (y_diff_min-y_diff_max) * (x_diff_min-x_diff_max)\n",
        "            last.covered_surface+= (y_diff_min-y_diff_max) * (x_diff_min-x_diff_max)\n",
        "            # last.covered_surface_face['Z1']+= (y_diff_min-y_diff_max) * (x_diff_min-x_diff_max)\n",
        "            \n",
        "    # if(len(adyacent)!=0):\n",
        "        # print(last.covered_surface_face)\n",
        "        # box_dims.append([last.xmin,last.ymin,last.zmin,last.xmax,last.ymax,last.zmax])\n",
        "        # for aabb in adyacent:\n",
        "        #     box_dims.append([aabb.xmin,aabb.ymin,aabb.zmin,aabb.xmax,aabb.ymax,aabb.zmax])\n",
        "        # bxplot.plot_container([L,W,H], box_dims)\n",
        "    pass"
      ]
    },
    {
      "attachments": {},
      "cell_type": "markdown",
      "metadata": {
        "id": "7uoXha4GlgGj"
      },
      "source": [
        "# The main code"
      ]
    },
    {
      "cell_type": "code",
      "execution_count": 35,
      "metadata": {
        "colab": {
          "base_uri": "https://localhost:8080/"
        },
        "id": "j43GfNpc5eiS",
        "outputId": "81cbc06a-4aca-4c48-f89b-cd27ac5f0753"
      },
      "outputs": [],
      "source": [
        "\n",
        "from src.base import Itemdict, BlockList, Aabb, Space\n",
        "from src.restrictions import center_of_gravity\n",
        "\n",
        "def MLCP_function(alpha,beta,gamma,delta,p,instance):\n",
        "\n",
        "  start_time = time.time()\n",
        "\n",
        "  params = [alpha,beta,gamma,delta,p]\n",
        "\n",
        "  Space.filling = \"bottom-up\" # spaces are filled from bottom to top\n",
        "  Space.vertical_stability = True # boxes must be completly supported\n",
        "\n",
        "  items, L, W, H = load_instance(filename = \"src/BR4.txt\", type=\"BF\", id_instance=instance)\n",
        "\n",
        "  cont = Block(l=L,w=W,h=H)\n",
        "\n",
        "  # print(\"generating blocks...\")\n",
        "  blocks = BlockList(items, type=\"general_blocks\", cont=cont, min_fr=1.0, max_bl=1000) \n",
        "\n",
        "  # for x in blocks:\n",
        "  #    print(x.items.values())\n",
        "\n",
        "  # greedy for single CLP\n",
        "  while True:\n",
        "      space = cont.free_space.closest_space() #cuboide mas cercano a un vertice inferior del contenedor\n",
        "\n",
        "      if space is not None:\n",
        "        block = eval.eval_function(blocks,space,params=params,container=cont,items=items)\n",
        "        # print(\"adding block...\", block)\n",
        "        \n",
        "        cont.add_block(block, space)\n",
        "        adyacent_blocks(cont.aabbs,L,W,H)\n",
        "        items -= block.items\n",
        "        blocks.remove_unconstructable(items)\n",
        "        cont.free_space.filter(items)\n",
        "      else:\n",
        "          break\n",
        "\n",
        "  end_time = time.time()\n",
        "\n",
        "  execution_time = end_time - start_time\n",
        "\n",
        "  total_volume = sum([x.volume for x in cont.aabbs])\n",
        "\n",
        "  return cont,execution_time,total_volume\n",
        "\n",
        "  # print(f'tiempo: {execution_time} s ; volumen total: {cont.l * cont.w * cont.h} ; volumen ocupado: {total_volume} ; centro de gravedad: {center_of_gravity(cont)}')\n"
      ]
    },
    {
      "attachments": {},
      "cell_type": "markdown",
      "metadata": {
        "id": "jHxosWYplHgN"
      },
      "source": [
        "# Plot the solution"
      ]
    },
    {
      "cell_type": "code",
      "execution_count": 36,
      "metadata": {
        "colab": {
          "base_uri": "https://localhost:8080/",
          "height": 562
        },
        "id": "CkjIfgmeTSs6",
        "outputId": "71414d7e-c2d6-4d90-8422-d921419051ce"
      },
      "outputs": [
        {
          "name": "stdout",
          "output_type": "stream",
          "text": [
            "XDDDDDDDDDDDDDXDDDDDDDDDDDDDXDDDDDDDDDDDDDXDDDDDDDDDDDDD\n",
            "XDDDDDDDDDDDDDXDDDDDDDDDDDDDXDDDDDDDDDDDDDXDDDDDDDDDDDDD\n",
            "XDDDDDDDDDDDDDXDDDDDDDDDDDDDXDDDDDDDDDDDDDXDDDDDDDDDDDDD\n",
            "XDDDDDDDDDDDDDXDDDDDDDDDDDDDXDDDDDDDDDDDDDXDDDDDDDDDDDDD\n",
            "XDDDDDDDDDDDDDXDDDDDDDDDDDDDXDDDDDDDDDDDDDXDDDDDDDDDDDDD\n",
            "XDDDDDDDDDDDDDXDDDDDDDDDDDDDXDDDDDDDDDDDDDXDDDDDDDDDDDDD\n",
            "XDDDDDDDDDDDDDXDDDDDDDDDDDDDXDDDDDDDDDDDDDXDDDDDDDDDDDDD\n",
            "XDDDDDDDDDDDDDXDDDDDDDDDDDDDXDDDDDDDDDDDDDXDDDDDDDDDDDDD\n",
            "XDDDDDDDDDDDDDXDDDDDDDDDDDDDXDDDDDDDDDDDDDXDDDDDDDDDDDDD\n",
            "XDDDDDDDDDDDDDXDDDDDDDDDDDDDXDDDDDDDDDDDDDXDDDDDDDDDDDDD\n",
            "XDDDDDDDDDDDDDXDDDDDDDDDDDDDXDDDDDDDDDDDDDXDDDDDDDDDDDDD\n",
            "XDDDDDDDDDDDDDXDDDDDDDDDDDDDXDDDDDDDDDDDDDXDDDDDDDDDDDDD\n",
            "XDDDDDDDDDDDDDXDDDDDDDDDDDDDXDDDDDDDDDDDDDXDDDDDDDDDDDDD\n",
            "XDDDDDDDDDDDDDXDDDDDDDDDDDDDXDDDDDDDDDDDDDXDDDDDDDDDDDDD\n",
            "XDDDDDDDDDDDDDXDDDDDDDDDDDDDXDDDDDDDDDDDDDXDDDDDDDDDDDDD\n",
            "XDDDDDDDDDDDDDXDDDDDDDDDDDDDXDDDDDDDDDDDDDXDDDDDDDDDDDDD\n",
            "XDDDDDDDDDDDDDXDDDDDDDDDDDDDXDDDDDDDDDDDDDXDDDDDDDDDDDDD\n",
            "XDDDDDDDDDDDDDXDDDDDDDDDDDDDXDDDDDDDDDDDDDXDDDDDDDDDDDDD\n",
            "XDDDDDDDDDDDDDXDDDDDDDDDDDDDXDDDDDDDDDDDDDXDDDDDDDDDDDDD\n",
            "XDDDDDDDDDDDDDXDDDDDDDDDDDDDXDDDDDDDDDDDDDXDDDDDDDDDDDDD\n",
            "XDDDDDDDDDDDDDXDDDDDDDDDDDDDXDDDDDDDDDDDDDXDDDDDDDDDDDDD\n",
            "XDDDDDDDDDDDDDXDDDDDDDDDDDDDXDDDDDDDDDDDDDXDDDDDDDDDDDDD\n",
            "XDDDDDDDDDDDDDXDDDDDDDDDDDDDXDDDDDDDDDDDDDXDDDDDDDDDDDDD\n",
            "XDDDDDDDDDDDDDXDDDDDDDDDDDDDXDDDDDDDDDDDDDXDDDDDDDDDDDDD\n",
            "XDDDDDDDDDDDDDXDDDDDDDDDDDDDXDDDDDDDDDDDDDXDDDDDDDDDDDDD\n",
            "XDDDDDDDDDDDDDXDDDDDDDDDDDDDXDDDDDDDDDDDDDXDDDDDDDDDDDDD\n",
            "XDDDDDDDDDDDDDXDDDDDDDDDDDDDXDDDDDDDDDDDDDXDDDDDDDDDDDDD\n",
            "XDDDDDDDDDDDDDXDDDDDDDDDDDDDXDDDDDDDDDDDDDXDDDDDDDDDDDDD\n",
            "XDDDDDDDDDDDDDXDDDDDDDDDDDDDXDDDDDDDDDDDDDXDDDDDDDDDDDDD\n",
            "XDDDDDDDDDDDDDXDDDDDDDDDDDDDXDDDDDDDDDDDDDXDDDDDDDDDDDDD\n",
            "XDDDDDDDDDDDDDXDDDDDDDDDDDDDXDDDDDDDDDDDDDXDDDDDDDDDDDDD\n",
            "XDDDDDDDDDDDDDXDDDDDDDDDDDDDXDDDDDDDDDDDDDXDDDDDDDDDDDDD\n",
            "XDDDDDDDDDDDDDXDDDDDDDDDDDDDXDDDDDDDDDDDDDXDDDDDDDDDDDDD\n",
            "XDDDDDDDDDDDDDXDDDDDDDDDDDDDXDDDDDDDDDDDDDXDDDDDDDDDDDDD\n",
            "XDDDDDDDDDDDDDXDDDDDDDDDDDDDXDDDDDDDDDDDDDXDDDDDDDDDDDDD\n",
            "XDDDDDDDDDDDDDXDDDDDDDDDDDDDXDDDDDDDDDDDDDXDDDDDDDDDDDDD\n",
            "XDDDDDDDDDDDDDXDDDDDDDDDDDDDXDDDDDDDDDDDDDXDDDDDDDDDDDDD\n",
            "XDDDDDDDDDDDDDXDDDDDDDDDDDDDXDDDDDDDDDDDDDXDDDDDDDDDDDDD\n",
            "XDDDDDDDDDDDDDXDDDDDDDDDDDDDXDDDDDDDDDDDDDXDDDDDDDDDDDDD\n",
            "XDDDDDDDDDDDDDXDDDDDDDDDDDDDXDDDDDDDDDDDDDXDDDDDDDDDDDDD\n",
            "XDDDDDDDDDDDDDXDDDDDDDDDDDDDXDDDDDDDDDDDDDXDDDDDDDDDDDDD\n",
            "XDDDDDDDDDDDDDXDDDDDDDDDDDDDXDDDDDDDDDDDDDXDDDDDDDDDDDDD\n",
            "XDDDDDDDDDDDDDXDDDDDDDDDDDDDXDDDDDDDDDDDDDXDDDDDDDDDDDDD\n",
            "XDDDDDDDDDDDDDXDDDDDDDDDDDDDXDDDDDDDDDDDDDXDDDDDDDDDDDDD\n"
          ]
        },
        {
          "data": {
            "application/vnd.plotly.v1+json": {
              "config": {
                "linkText": "Export to plot.ly",
                "plotlyServerURL": "https://plot.ly",
                "showLink": false
              },
              "data": [
                {
                  "color": "rgb(133.33307867329032,233.08933413433587,116.69487157852043)",
                  "i": [
                    7,
                    0,
                    0,
                    0,
                    4,
                    4,
                    2,
                    6,
                    4,
                    0,
                    3,
                    7
                  ],
                  "j": [
                    3,
                    4,
                    1,
                    2,
                    5,
                    6,
                    5,
                    5,
                    0,
                    1,
                    2,
                    2
                  ],
                  "k": [
                    0,
                    7,
                    2,
                    3,
                    6,
                    7,
                    1,
                    2,
                    5,
                    5,
                    7,
                    6
                  ],
                  "opacity": 1,
                  "type": "mesh3d",
                  "x": [
                    0,
                    0,
                    412,
                    412,
                    0,
                    0,
                    412,
                    412
                  ],
                  "y": [
                    0,
                    76,
                    76,
                    0,
                    0,
                    76,
                    76,
                    0
                  ],
                  "z": [
                    0,
                    0,
                    0,
                    0,
                    64,
                    64,
                    64,
                    64
                  ]
                },
                {
                  "color": "rgb(134.89328159666792,174.06494416438096,134.6497367277505)",
                  "i": [
                    7,
                    0,
                    0,
                    0,
                    4,
                    4,
                    2,
                    6,
                    4,
                    0,
                    3,
                    7
                  ],
                  "j": [
                    3,
                    4,
                    1,
                    2,
                    5,
                    6,
                    5,
                    5,
                    0,
                    1,
                    2,
                    2
                  ],
                  "k": [
                    0,
                    7,
                    2,
                    3,
                    6,
                    7,
                    1,
                    2,
                    5,
                    5,
                    7,
                    6
                  ],
                  "opacity": 1,
                  "type": "mesh3d",
                  "x": [
                    0,
                    0,
                    206,
                    206,
                    0,
                    0,
                    206,
                    206
                  ],
                  "y": [
                    81,
                    233,
                    233,
                    81,
                    81,
                    233,
                    233,
                    81
                  ],
                  "z": [
                    0,
                    0,
                    0,
                    0,
                    64,
                    64,
                    64,
                    64
                  ]
                },
                {
                  "color": "rgb(197.9498654599414,197.27390741957666,5.899141306995158)",
                  "i": [
                    7,
                    0,
                    0,
                    0,
                    4,
                    4,
                    2,
                    6,
                    4,
                    0,
                    3,
                    7
                  ],
                  "j": [
                    3,
                    4,
                    1,
                    2,
                    5,
                    6,
                    5,
                    5,
                    0,
                    1,
                    2,
                    2
                  ],
                  "k": [
                    0,
                    7,
                    2,
                    3,
                    6,
                    7,
                    1,
                    2,
                    5,
                    5,
                    7,
                    6
                  ],
                  "opacity": 1,
                  "type": "mesh3d",
                  "x": [
                    415,
                    415,
                    587,
                    587,
                    415,
                    415,
                    587,
                    587
                  ],
                  "y": [
                    0,
                    76,
                    76,
                    0,
                    0,
                    76,
                    76,
                    0
                  ],
                  "z": [
                    0,
                    0,
                    0,
                    0,
                    38,
                    38,
                    38,
                    38
                  ]
                },
                {
                  "color": "rgb(34.58806281953603,249.1025596928174,229.2164707558987)",
                  "i": [
                    7,
                    0,
                    0,
                    0,
                    4,
                    4,
                    2,
                    6,
                    4,
                    0,
                    3,
                    7
                  ],
                  "j": [
                    3,
                    4,
                    1,
                    2,
                    5,
                    6,
                    5,
                    5,
                    0,
                    1,
                    2,
                    2
                  ],
                  "k": [
                    0,
                    7,
                    2,
                    3,
                    6,
                    7,
                    1,
                    2,
                    5,
                    5,
                    7,
                    6
                  ],
                  "opacity": 1,
                  "type": "mesh3d",
                  "x": [
                    415,
                    415,
                    587,
                    587,
                    415,
                    415,
                    587,
                    587
                  ],
                  "y": [
                    81,
                    233,
                    233,
                    81,
                    81,
                    233,
                    233,
                    81
                  ],
                  "z": [
                    0,
                    0,
                    0,
                    0,
                    38,
                    38,
                    38,
                    38
                  ]
                },
                {
                  "color": "rgb(41.85001578536004,161.9880666255085,32.38443838158618)",
                  "i": [
                    7,
                    0,
                    0,
                    0,
                    4,
                    4,
                    2,
                    6,
                    4,
                    0,
                    3,
                    7
                  ],
                  "j": [
                    3,
                    4,
                    1,
                    2,
                    5,
                    6,
                    5,
                    5,
                    0,
                    1,
                    2,
                    2
                  ],
                  "k": [
                    0,
                    7,
                    2,
                    3,
                    6,
                    7,
                    1,
                    2,
                    5,
                    5,
                    7,
                    6
                  ],
                  "opacity": 1,
                  "type": "mesh3d",
                  "x": [
                    415,
                    415,
                    587,
                    587,
                    415,
                    415,
                    587,
                    587
                  ],
                  "y": [
                    0,
                    76,
                    76,
                    0,
                    0,
                    76,
                    76,
                    0
                  ],
                  "z": [
                    38,
                    38,
                    38,
                    38,
                    76,
                    76,
                    76,
                    76
                  ]
                },
                {
                  "color": "rgb(178.6221859196183,139.7213639366616,65.65384057062323)",
                  "i": [
                    7,
                    0,
                    0,
                    0,
                    4,
                    4,
                    2,
                    6,
                    4,
                    0,
                    3,
                    7
                  ],
                  "j": [
                    3,
                    4,
                    1,
                    2,
                    5,
                    6,
                    5,
                    5,
                    0,
                    1,
                    2,
                    2
                  ],
                  "k": [
                    0,
                    7,
                    2,
                    3,
                    6,
                    7,
                    1,
                    2,
                    5,
                    5,
                    7,
                    6
                  ],
                  "opacity": 1,
                  "type": "mesh3d",
                  "x": [
                    440,
                    440,
                    587,
                    587,
                    440,
                    440,
                    587,
                    587
                  ],
                  "y": [
                    122,
                    233,
                    233,
                    122,
                    122,
                    233,
                    233,
                    122
                  ],
                  "z": [
                    38,
                    38,
                    38,
                    38,
                    64,
                    64,
                    64,
                    64
                  ]
                },
                {
                  "color": "rgb(69.22684319385867,48.763765591724756,254.08552084932268)",
                  "i": [
                    7,
                    0,
                    0,
                    0,
                    4,
                    4,
                    2,
                    6,
                    4,
                    0,
                    3,
                    7
                  ],
                  "j": [
                    3,
                    4,
                    1,
                    2,
                    5,
                    6,
                    5,
                    5,
                    0,
                    1,
                    2,
                    2
                  ],
                  "k": [
                    0,
                    7,
                    2,
                    3,
                    6,
                    7,
                    1,
                    2,
                    5,
                    5,
                    7,
                    6
                  ],
                  "opacity": 1,
                  "type": "mesh3d",
                  "x": [
                    0,
                    0,
                    280,
                    280,
                    0,
                    0,
                    280,
                    280
                  ],
                  "y": [
                    0,
                    62,
                    62,
                    0,
                    0,
                    62,
                    62,
                    0
                  ],
                  "z": [
                    64,
                    64,
                    64,
                    64,
                    159,
                    159,
                    159,
                    159
                  ]
                },
                {
                  "color": "rgb(177.31376941502742,3.3426554249499802,146.6638874379206)",
                  "i": [
                    7,
                    0,
                    0,
                    0,
                    4,
                    4,
                    2,
                    6,
                    4,
                    0,
                    3,
                    7
                  ],
                  "j": [
                    3,
                    4,
                    1,
                    2,
                    5,
                    6,
                    5,
                    5,
                    0,
                    1,
                    2,
                    2
                  ],
                  "k": [
                    0,
                    7,
                    2,
                    3,
                    6,
                    7,
                    1,
                    2,
                    5,
                    5,
                    7,
                    6
                  ],
                  "opacity": 1,
                  "type": "mesh3d",
                  "x": [
                    0,
                    0,
                    124,
                    124,
                    0,
                    0,
                    124,
                    124
                  ],
                  "y": [
                    93,
                    233,
                    233,
                    93,
                    93,
                    233,
                    233,
                    93
                  ],
                  "z": [
                    64,
                    64,
                    64,
                    64,
                    159,
                    159,
                    159,
                    159
                  ]
                },
                {
                  "color": "rgb(38.605655961138055,18.594341045722288,111.79974984169736)",
                  "i": [
                    7,
                    0,
                    0,
                    0,
                    4,
                    4,
                    2,
                    6,
                    4,
                    0,
                    3,
                    7
                  ],
                  "j": [
                    3,
                    4,
                    1,
                    2,
                    5,
                    6,
                    5,
                    5,
                    0,
                    1,
                    2,
                    2
                  ],
                  "k": [
                    0,
                    7,
                    2,
                    3,
                    6,
                    7,
                    1,
                    2,
                    5,
                    5,
                    7,
                    6
                  ],
                  "opacity": 1,
                  "type": "mesh3d",
                  "x": [
                    440,
                    440,
                    587,
                    587,
                    440,
                    440,
                    587,
                    587
                  ],
                  "y": [
                    122,
                    233,
                    233,
                    122,
                    122,
                    233,
                    233,
                    122
                  ],
                  "z": [
                    64,
                    64,
                    64,
                    64,
                    90,
                    90,
                    90,
                    90
                  ]
                },
                {
                  "color": "rgb(44.362568651352234,112.72259356501336,228.89423644252332)",
                  "i": [
                    7,
                    0,
                    0,
                    0,
                    4,
                    4,
                    2,
                    6,
                    4,
                    0,
                    3,
                    7
                  ],
                  "j": [
                    3,
                    4,
                    1,
                    2,
                    5,
                    6,
                    5,
                    5,
                    0,
                    1,
                    2,
                    2
                  ],
                  "k": [
                    0,
                    7,
                    2,
                    3,
                    6,
                    7,
                    1,
                    2,
                    5,
                    5,
                    7,
                    6
                  ],
                  "opacity": 1,
                  "type": "mesh3d",
                  "x": [
                    443,
                    443,
                    587,
                    587,
                    443,
                    443,
                    587,
                    587
                  ],
                  "y": [
                    0,
                    47,
                    47,
                    0,
                    0,
                    47,
                    47,
                    0
                  ],
                  "z": [
                    76,
                    76,
                    76,
                    76,
                    147,
                    147,
                    147,
                    147
                  ]
                },
                {
                  "color": "rgb(225.7247429775334,66.11223669659182,196.65036755546322)",
                  "i": [
                    7,
                    0,
                    0,
                    0,
                    4,
                    4,
                    2,
                    6,
                    4,
                    0,
                    3,
                    7
                  ],
                  "j": [
                    3,
                    4,
                    1,
                    2,
                    5,
                    6,
                    5,
                    5,
                    0,
                    1,
                    2,
                    2
                  ],
                  "k": [
                    0,
                    7,
                    2,
                    3,
                    6,
                    7,
                    1,
                    2,
                    5,
                    5,
                    7,
                    6
                  ],
                  "opacity": 1,
                  "type": "mesh3d",
                  "x": [
                    467,
                    467,
                    587,
                    587,
                    467,
                    467,
                    587,
                    587
                  ],
                  "y": [
                    131,
                    233,
                    233,
                    131,
                    131,
                    233,
                    233,
                    131
                  ],
                  "z": [
                    90,
                    90,
                    90,
                    90,
                    131,
                    131,
                    131,
                    131
                  ]
                },
                {
                  "color": "rgb(2.765159616489724,78.0946784556938,52.20365455417989)",
                  "i": [
                    7,
                    0,
                    0,
                    0,
                    4,
                    4,
                    2,
                    6,
                    4,
                    0,
                    3,
                    7
                  ],
                  "j": [
                    3,
                    4,
                    1,
                    2,
                    5,
                    6,
                    5,
                    5,
                    0,
                    1,
                    2,
                    2
                  ],
                  "k": [
                    0,
                    7,
                    2,
                    3,
                    6,
                    7,
                    1,
                    2,
                    5,
                    5,
                    7,
                    6
                  ],
                  "opacity": 1,
                  "type": "mesh3d",
                  "x": [
                    467,
                    467,
                    587,
                    587,
                    467,
                    467,
                    587,
                    587
                  ],
                  "y": [
                    81,
                    122,
                    122,
                    81,
                    81,
                    122,
                    122,
                    81
                  ],
                  "z": [
                    38,
                    38,
                    38,
                    38,
                    89,
                    89,
                    89,
                    89
                  ]
                },
                {
                  "color": "rgb(198.36195013292232,77.93192569311803,67.05287254876995)",
                  "i": [
                    7,
                    0,
                    0,
                    0,
                    4,
                    4,
                    2,
                    6,
                    4,
                    0,
                    3,
                    7
                  ],
                  "j": [
                    3,
                    4,
                    1,
                    2,
                    5,
                    6,
                    5,
                    5,
                    0,
                    1,
                    2,
                    2
                  ],
                  "k": [
                    0,
                    7,
                    2,
                    3,
                    6,
                    7,
                    1,
                    2,
                    5,
                    5,
                    7,
                    6
                  ],
                  "opacity": 1,
                  "type": "mesh3d",
                  "x": [
                    440,
                    440,
                    587,
                    587,
                    440,
                    440,
                    587,
                    587
                  ],
                  "y": [
                    47,
                    72,
                    72,
                    47,
                    47,
                    72,
                    72,
                    47
                  ],
                  "z": [
                    76,
                    76,
                    76,
                    76,
                    97,
                    97,
                    97,
                    97
                  ]
                },
                {
                  "color": "rgb(110.06457670150674,178.89676534908432,82.9723173054242)",
                  "i": [
                    7,
                    0,
                    0,
                    0,
                    4,
                    4,
                    2,
                    6,
                    4,
                    0,
                    3,
                    7
                  ],
                  "j": [
                    3,
                    4,
                    1,
                    2,
                    5,
                    6,
                    5,
                    5,
                    0,
                    1,
                    2,
                    2
                  ],
                  "k": [
                    0,
                    7,
                    2,
                    3,
                    6,
                    7,
                    1,
                    2,
                    5,
                    5,
                    7,
                    6
                  ],
                  "opacity": 1,
                  "type": "mesh3d",
                  "x": [
                    476,
                    476,
                    587,
                    587,
                    476,
                    476,
                    587,
                    587
                  ],
                  "y": [
                    135,
                    233,
                    233,
                    135,
                    135,
                    233,
                    233,
                    135
                  ],
                  "z": [
                    131,
                    131,
                    131,
                    131,
                    157,
                    157,
                    157,
                    157
                  ]
                },
                {
                  "color": "rgb(17.334950194010972,70.20396863716836,175.82825688735605)",
                  "i": [
                    7,
                    0,
                    0,
                    0,
                    4,
                    4,
                    2,
                    6,
                    4,
                    0,
                    3,
                    7
                  ],
                  "j": [
                    3,
                    4,
                    1,
                    2,
                    5,
                    6,
                    5,
                    5,
                    0,
                    1,
                    2,
                    2
                  ],
                  "k": [
                    0,
                    7,
                    2,
                    3,
                    6,
                    7,
                    1,
                    2,
                    5,
                    5,
                    7,
                    6
                  ],
                  "opacity": 1,
                  "type": "mesh3d",
                  "x": [
                    440,
                    440,
                    587,
                    587,
                    440,
                    440,
                    587,
                    587
                  ],
                  "y": [
                    47,
                    68,
                    68,
                    47,
                    47,
                    68,
                    68,
                    47
                  ],
                  "z": [
                    97,
                    97,
                    97,
                    97,
                    122,
                    122,
                    122,
                    122
                  ]
                },
                {
                  "color": "rgb(146.5700873197152,104.11946724061538,127.63376538428903)",
                  "i": [
                    7,
                    0,
                    0,
                    0,
                    4,
                    4,
                    2,
                    6,
                    4,
                    0,
                    3,
                    7
                  ],
                  "j": [
                    3,
                    4,
                    1,
                    2,
                    5,
                    6,
                    5,
                    5,
                    0,
                    1,
                    2,
                    2
                  ],
                  "k": [
                    0,
                    7,
                    2,
                    3,
                    6,
                    7,
                    1,
                    2,
                    5,
                    5,
                    7,
                    6
                  ],
                  "opacity": 1,
                  "type": "mesh3d",
                  "x": [
                    443,
                    443,
                    587,
                    587,
                    443,
                    443,
                    587,
                    587
                  ],
                  "y": [
                    0,
                    36,
                    36,
                    0,
                    0,
                    36,
                    36,
                    0
                  ],
                  "z": [
                    147,
                    147,
                    147,
                    147,
                    178,
                    178,
                    178,
                    178
                  ]
                },
                {
                  "color": "rgb(125.7944320834784,89.28407394839874,17.426084464103493)",
                  "i": [
                    7,
                    0,
                    0,
                    0,
                    4,
                    4,
                    2,
                    6,
                    4,
                    0,
                    3,
                    7
                  ],
                  "j": [
                    3,
                    4,
                    1,
                    2,
                    5,
                    6,
                    5,
                    5,
                    0,
                    1,
                    2,
                    2
                  ],
                  "k": [
                    0,
                    7,
                    2,
                    3,
                    6,
                    7,
                    1,
                    2,
                    5,
                    5,
                    7,
                    6
                  ],
                  "opacity": 1,
                  "type": "mesh3d",
                  "x": [
                    476,
                    476,
                    587,
                    587,
                    476,
                    476,
                    587,
                    587
                  ],
                  "y": [
                    135,
                    233,
                    233,
                    135,
                    135,
                    233,
                    233,
                    135
                  ],
                  "z": [
                    157,
                    157,
                    157,
                    157,
                    183,
                    183,
                    183,
                    183
                  ]
                },
                {
                  "color": "rgb(239.2512322668098,143.28282543251643,104.11798169734764)",
                  "i": [
                    7,
                    0,
                    0,
                    0,
                    4,
                    4,
                    2,
                    6,
                    4,
                    0,
                    3,
                    7
                  ],
                  "j": [
                    3,
                    4,
                    1,
                    2,
                    5,
                    6,
                    5,
                    5,
                    0,
                    1,
                    2,
                    2
                  ],
                  "k": [
                    0,
                    7,
                    2,
                    3,
                    6,
                    7,
                    1,
                    2,
                    5,
                    5,
                    7,
                    6
                  ],
                  "opacity": 1,
                  "type": "mesh3d",
                  "x": [
                    0,
                    0,
                    270,
                    270,
                    0,
                    0,
                    270,
                    270
                  ],
                  "y": [
                    0,
                    43,
                    43,
                    0,
                    0,
                    43,
                    43,
                    0
                  ],
                  "z": [
                    159,
                    159,
                    159,
                    159,
                    192,
                    192,
                    192,
                    192
                  ]
                },
                {
                  "color": "rgb(15.862448723754433,180.46926895099384,126.25076892534386)",
                  "i": [
                    7,
                    0,
                    0,
                    0,
                    4,
                    4,
                    2,
                    6,
                    4,
                    0,
                    3,
                    7
                  ],
                  "j": [
                    3,
                    4,
                    1,
                    2,
                    5,
                    6,
                    5,
                    5,
                    0,
                    1,
                    2,
                    2
                  ],
                  "k": [
                    0,
                    7,
                    2,
                    3,
                    6,
                    7,
                    1,
                    2,
                    5,
                    5,
                    7,
                    6
                  ],
                  "opacity": 1,
                  "type": "mesh3d",
                  "x": [
                    0,
                    0,
                    111,
                    111,
                    0,
                    0,
                    111,
                    111
                  ],
                  "y": [
                    135,
                    233,
                    233,
                    135,
                    135,
                    233,
                    233,
                    135
                  ],
                  "z": [
                    159,
                    159,
                    159,
                    159,
                    185,
                    185,
                    185,
                    185
                  ]
                },
                {
                  "color": "rgb(236.75029473682204,105.501966317932,195.11815301042648)",
                  "i": [
                    7,
                    0,
                    0,
                    0,
                    4,
                    4,
                    2,
                    6,
                    4,
                    0,
                    3,
                    7
                  ],
                  "j": [
                    3,
                    4,
                    1,
                    2,
                    5,
                    6,
                    5,
                    5,
                    0,
                    1,
                    2,
                    2
                  ],
                  "k": [
                    0,
                    7,
                    2,
                    3,
                    6,
                    7,
                    1,
                    2,
                    5,
                    5,
                    7,
                    6
                  ],
                  "opacity": 1,
                  "type": "mesh3d",
                  "x": [
                    497,
                    497,
                    587,
                    587,
                    497,
                    497,
                    587,
                    587
                  ],
                  "y": [
                    81,
                    114,
                    114,
                    81,
                    81,
                    114,
                    114,
                    81
                  ],
                  "z": [
                    89,
                    89,
                    89,
                    89,
                    132,
                    132,
                    132,
                    132
                  ]
                },
                {
                  "color": "rgb(209.96690736155682,220.3419139810376,148.2059712410952)",
                  "i": [
                    7,
                    0,
                    0,
                    0,
                    4,
                    4,
                    2,
                    6,
                    4,
                    0,
                    3,
                    7
                  ],
                  "j": [
                    3,
                    4,
                    1,
                    2,
                    5,
                    6,
                    5,
                    5,
                    0,
                    1,
                    2,
                    2
                  ],
                  "k": [
                    0,
                    7,
                    2,
                    3,
                    6,
                    7,
                    1,
                    2,
                    5,
                    5,
                    7,
                    6
                  ],
                  "opacity": 1,
                  "type": "mesh3d",
                  "x": [
                    329,
                    329,
                    415,
                    415,
                    329,
                    329,
                    415,
                    415
                  ],
                  "y": [
                    81,
                    233,
                    233,
                    81,
                    81,
                    233,
                    233,
                    81
                  ],
                  "z": [
                    0,
                    0,
                    0,
                    0,
                    38,
                    38,
                    38,
                    38
                  ]
                },
                {
                  "color": "rgb(51.717325259086955,242.9825948304414,197.7484398415727)",
                  "i": [
                    7,
                    0,
                    0,
                    0,
                    4,
                    4,
                    2,
                    6,
                    4,
                    0,
                    3,
                    7
                  ],
                  "j": [
                    3,
                    4,
                    1,
                    2,
                    5,
                    6,
                    5,
                    5,
                    0,
                    1,
                    2,
                    2
                  ],
                  "k": [
                    0,
                    7,
                    2,
                    3,
                    6,
                    7,
                    1,
                    2,
                    5,
                    5,
                    7,
                    6
                  ],
                  "opacity": 1,
                  "type": "mesh3d",
                  "x": [
                    489,
                    489,
                    587,
                    587,
                    489,
                    489,
                    587,
                    587
                  ],
                  "y": [
                    0,
                    25,
                    25,
                    0,
                    0,
                    25,
                    25,
                    0
                  ],
                  "z": [
                    178,
                    178,
                    178,
                    178,
                    199,
                    199,
                    199,
                    199
                  ]
                },
                {
                  "color": "rgb(174.92752103322917,81.97143537486807,78.6498014356316)",
                  "i": [
                    7,
                    0,
                    0,
                    0,
                    4,
                    4,
                    2,
                    6,
                    4,
                    0,
                    3,
                    7
                  ],
                  "j": [
                    3,
                    4,
                    1,
                    2,
                    5,
                    6,
                    5,
                    5,
                    0,
                    1,
                    2,
                    2
                  ],
                  "k": [
                    0,
                    7,
                    2,
                    3,
                    6,
                    7,
                    1,
                    2,
                    5,
                    5,
                    7,
                    6
                  ],
                  "opacity": 1,
                  "type": "mesh3d",
                  "x": [
                    476,
                    476,
                    587,
                    587,
                    476,
                    476,
                    587,
                    587
                  ],
                  "y": [
                    184,
                    233,
                    233,
                    184,
                    184,
                    233,
                    233,
                    184
                  ],
                  "z": [
                    183,
                    183,
                    183,
                    183,
                    209,
                    209,
                    209,
                    209
                  ]
                },
                {
                  "color": "rgb(48.286120741655985,103.60617843807103,239.30214799843742)",
                  "i": [
                    7,
                    0,
                    0,
                    0,
                    4,
                    4,
                    2,
                    6,
                    4,
                    0,
                    3,
                    7
                  ],
                  "j": [
                    3,
                    4,
                    1,
                    2,
                    5,
                    6,
                    5,
                    5,
                    0,
                    1,
                    2,
                    2
                  ],
                  "k": [
                    0,
                    7,
                    2,
                    3,
                    6,
                    7,
                    1,
                    2,
                    5,
                    5,
                    7,
                    6
                  ],
                  "opacity": 1,
                  "type": "mesh3d",
                  "x": [
                    0,
                    0,
                    98,
                    98,
                    0,
                    0,
                    98,
                    98
                  ],
                  "y": [
                    183,
                    233,
                    233,
                    183,
                    183,
                    233,
                    233,
                    183
                  ],
                  "z": [
                    185,
                    185,
                    185,
                    185,
                    206,
                    206,
                    206,
                    206
                  ]
                },
                {
                  "color": "rgb(10.366768599926584,209.96813935970317,37.87857231494467)",
                  "i": [
                    7,
                    0,
                    0,
                    0,
                    4,
                    4,
                    2,
                    6,
                    4,
                    0,
                    3,
                    7
                  ],
                  "j": [
                    3,
                    4,
                    1,
                    2,
                    5,
                    6,
                    5,
                    5,
                    0,
                    1,
                    2,
                    2
                  ],
                  "k": [
                    0,
                    7,
                    2,
                    3,
                    6,
                    7,
                    1,
                    2,
                    5,
                    5,
                    7,
                    6
                  ],
                  "opacity": 1,
                  "type": "mesh3d",
                  "x": [
                    124,
                    124,
                    194,
                    194,
                    124,
                    124,
                    194,
                    194
                  ],
                  "y": [
                    109,
                    233,
                    233,
                    109,
                    109,
                    233,
                    233,
                    109
                  ],
                  "z": [
                    64,
                    64,
                    64,
                    64,
                    159,
                    159,
                    159,
                    159
                  ]
                },
                {
                  "color": "rgb(52.52543958421723,162.64082520271768,2.9843518267103564)",
                  "i": [
                    7,
                    0,
                    0,
                    0,
                    4,
                    4,
                    2,
                    6,
                    4,
                    0,
                    3,
                    7
                  ],
                  "j": [
                    3,
                    4,
                    1,
                    2,
                    5,
                    6,
                    5,
                    5,
                    0,
                    1,
                    2,
                    2
                  ],
                  "k": [
                    0,
                    7,
                    2,
                    3,
                    6,
                    7,
                    1,
                    2,
                    5,
                    5,
                    7,
                    6
                  ],
                  "opacity": 1,
                  "type": "mesh3d",
                  "x": [
                    0,
                    0,
                    49,
                    49,
                    0,
                    0,
                    49,
                    49
                  ],
                  "y": [
                    0,
                    25,
                    25,
                    0,
                    0,
                    25,
                    25,
                    0
                  ],
                  "z": [
                    192,
                    192,
                    192,
                    192,
                    213,
                    213,
                    213,
                    213
                  ]
                },
                {
                  "color": "rgb(177.2920813727833,125.75446178664238,7.675990293262199)",
                  "i": [
                    7,
                    0,
                    0,
                    0,
                    4,
                    4,
                    2,
                    6,
                    4,
                    0,
                    3,
                    7
                  ],
                  "j": [
                    3,
                    4,
                    1,
                    2,
                    5,
                    6,
                    5,
                    5,
                    0,
                    1,
                    2,
                    2
                  ],
                  "k": [
                    0,
                    7,
                    2,
                    3,
                    6,
                    7,
                    1,
                    2,
                    5,
                    5,
                    7,
                    6
                  ],
                  "opacity": 1,
                  "type": "mesh3d",
                  "x": [
                    206,
                    206,
                    309,
                    309,
                    206,
                    206,
                    309,
                    309
                  ],
                  "y": [
                    81,
                    233,
                    233,
                    81,
                    81,
                    233,
                    233,
                    81
                  ],
                  "z": [
                    0,
                    0,
                    0,
                    0,
                    64,
                    64,
                    64,
                    64
                  ]
                },
                {
                  "color": "rgb(149.43589098712096,240.50986919651194,74.93576800323667)",
                  "i": [
                    7,
                    0,
                    0,
                    0,
                    4,
                    4,
                    2,
                    6,
                    4,
                    0,
                    3,
                    7
                  ],
                  "j": [
                    3,
                    4,
                    1,
                    2,
                    5,
                    6,
                    5,
                    5,
                    0,
                    1,
                    2,
                    2
                  ],
                  "k": [
                    0,
                    7,
                    2,
                    3,
                    6,
                    7,
                    1,
                    2,
                    5,
                    5,
                    7,
                    6
                  ],
                  "opacity": 1,
                  "type": "mesh3d",
                  "x": [
                    329,
                    329,
                    415,
                    415,
                    329,
                    329,
                    415,
                    415
                  ],
                  "y": [
                    143,
                    233,
                    233,
                    143,
                    143,
                    233,
                    233,
                    143
                  ],
                  "z": [
                    38,
                    38,
                    38,
                    38,
                    71,
                    71,
                    71,
                    71
                  ]
                },
                {
                  "color": "rgb(93.79750982612856,211.68577052614822,91.47898617045409)",
                  "i": [
                    7,
                    0,
                    0,
                    0,
                    4,
                    4,
                    2,
                    6,
                    4,
                    0,
                    3,
                    7
                  ],
                  "j": [
                    3,
                    4,
                    1,
                    2,
                    5,
                    6,
                    5,
                    5,
                    0,
                    1,
                    2,
                    2
                  ],
                  "k": [
                    0,
                    7,
                    2,
                    3,
                    6,
                    7,
                    1,
                    2,
                    5,
                    5,
                    7,
                    6
                  ],
                  "opacity": 1,
                  "type": "mesh3d",
                  "x": [
                    491,
                    491,
                    587,
                    587,
                    491,
                    491,
                    587,
                    587
                  ],
                  "y": [
                    148,
                    184,
                    184,
                    148,
                    148,
                    184,
                    184,
                    148
                  ],
                  "z": [
                    183,
                    183,
                    183,
                    183,
                    214,
                    214,
                    214,
                    214
                  ]
                },
                {
                  "color": "rgb(12.043589082197732,124.95496078840554,84.74673555354833)",
                  "i": [
                    7,
                    0,
                    0,
                    0,
                    4,
                    4,
                    2,
                    6,
                    4,
                    0,
                    3,
                    7
                  ],
                  "j": [
                    3,
                    4,
                    1,
                    2,
                    5,
                    6,
                    5,
                    5,
                    0,
                    1,
                    2,
                    2
                  ],
                  "k": [
                    0,
                    7,
                    2,
                    3,
                    6,
                    7,
                    1,
                    2,
                    5,
                    5,
                    7,
                    6
                  ],
                  "opacity": 1,
                  "type": "mesh3d",
                  "x": [
                    0,
                    0,
                    96,
                    96,
                    0,
                    0,
                    96,
                    96
                  ],
                  "y": [
                    147,
                    183,
                    183,
                    147,
                    147,
                    183,
                    183,
                    147
                  ],
                  "z": [
                    185,
                    185,
                    185,
                    185,
                    216,
                    216,
                    216,
                    216
                  ]
                },
                {
                  "color": "rgb(245.03933667374864,67.92122985540455,61.70127457602717)",
                  "i": [
                    7,
                    0,
                    0,
                    0,
                    4,
                    4,
                    2,
                    6,
                    4,
                    0,
                    3,
                    7
                  ],
                  "j": [
                    3,
                    4,
                    1,
                    2,
                    5,
                    6,
                    5,
                    5,
                    0,
                    1,
                    2,
                    2
                  ],
                  "k": [
                    0,
                    7,
                    2,
                    3,
                    6,
                    7,
                    1,
                    2,
                    5,
                    5,
                    7,
                    6
                  ],
                  "opacity": 1,
                  "type": "mesh3d",
                  "x": [
                    288,
                    288,
                    412,
                    412,
                    288,
                    288,
                    412,
                    412
                  ],
                  "y": [
                    0,
                    70,
                    70,
                    0,
                    0,
                    70,
                    70,
                    0
                  ],
                  "z": [
                    64,
                    64,
                    64,
                    64,
                    159,
                    159,
                    159,
                    159
                  ]
                },
                {
                  "color": "rgb(0.471952186573385,130.3458295161388,52.526500634771715)",
                  "i": [
                    7,
                    0,
                    0,
                    0,
                    4,
                    4,
                    2,
                    6,
                    4,
                    0,
                    3,
                    7
                  ],
                  "j": [
                    3,
                    4,
                    1,
                    2,
                    5,
                    6,
                    5,
                    5,
                    0,
                    1,
                    2,
                    2
                  ],
                  "k": [
                    0,
                    7,
                    2,
                    3,
                    6,
                    7,
                    1,
                    2,
                    5,
                    5,
                    7,
                    6
                  ],
                  "opacity": 1,
                  "type": "mesh3d",
                  "x": [
                    416,
                    416,
                    467,
                    467,
                    416,
                    416,
                    467,
                    467
                  ],
                  "y": [
                    81,
                    122,
                    122,
                    81,
                    81,
                    122,
                    122,
                    81
                  ],
                  "z": [
                    38,
                    38,
                    38,
                    38,
                    98,
                    98,
                    98,
                    98
                  ]
                },
                {
                  "color": "rgb(63.53068974078473,12.438079072293963,130.58081010697543)",
                  "i": [
                    7,
                    0,
                    0,
                    0,
                    4,
                    4,
                    2,
                    6,
                    4,
                    0,
                    3,
                    7
                  ],
                  "j": [
                    3,
                    4,
                    1,
                    2,
                    5,
                    6,
                    5,
                    5,
                    0,
                    1,
                    2,
                    2
                  ],
                  "k": [
                    0,
                    7,
                    2,
                    3,
                    6,
                    7,
                    1,
                    2,
                    5,
                    5,
                    7,
                    6
                  ],
                  "opacity": 1,
                  "type": "mesh3d",
                  "x": [
                    329,
                    329,
                    415,
                    415,
                    329,
                    329,
                    415,
                    415
                  ],
                  "y": [
                    143,
                    233,
                    233,
                    143,
                    143,
                    233,
                    233,
                    143
                  ],
                  "z": [
                    71,
                    71,
                    71,
                    71,
                    104,
                    104,
                    104,
                    104
                  ]
                },
                {
                  "color": "rgb(103.49728704291256,249.427764060187,20.950119509569713)",
                  "i": [
                    7,
                    0,
                    0,
                    0,
                    4,
                    4,
                    2,
                    6,
                    4,
                    0,
                    3,
                    7
                  ],
                  "j": [
                    3,
                    4,
                    1,
                    2,
                    5,
                    6,
                    5,
                    5,
                    0,
                    1,
                    2,
                    2
                  ],
                  "k": [
                    0,
                    7,
                    2,
                    3,
                    6,
                    7,
                    1,
                    2,
                    5,
                    5,
                    7,
                    6
                  ],
                  "opacity": 1,
                  "type": "mesh3d",
                  "x": [
                    0,
                    0,
                    60,
                    60,
                    0,
                    0,
                    60,
                    60
                  ],
                  "y": [
                    93,
                    134,
                    134,
                    93,
                    93,
                    134,
                    134,
                    93
                  ],
                  "z": [
                    159,
                    159,
                    159,
                    159,
                    210,
                    210,
                    210,
                    210
                  ]
                },
                {
                  "color": "rgb(122.7240263875588,114.81947289276481,206.08423342871023)",
                  "i": [
                    7,
                    0,
                    0,
                    0,
                    4,
                    4,
                    2,
                    6,
                    4,
                    0,
                    3,
                    7
                  ],
                  "j": [
                    3,
                    4,
                    1,
                    2,
                    5,
                    6,
                    5,
                    5,
                    0,
                    1,
                    2,
                    2
                  ],
                  "k": [
                    0,
                    7,
                    2,
                    3,
                    6,
                    7,
                    1,
                    2,
                    5,
                    5,
                    7,
                    6
                  ],
                  "opacity": 1,
                  "type": "mesh3d",
                  "x": [
                    206,
                    206,
                    302,
                    302,
                    206,
                    206,
                    302,
                    302
                  ],
                  "y": [
                    91,
                    233,
                    233,
                    91,
                    91,
                    233,
                    233,
                    91
                  ],
                  "z": [
                    64,
                    64,
                    64,
                    64,
                    111,
                    111,
                    111,
                    111
                  ]
                },
                {
                  "color": "rgb(8.42754696371541,116.37070894333571,89.69893223327928)",
                  "i": [
                    7,
                    0,
                    0,
                    0,
                    4,
                    4,
                    2,
                    6,
                    4,
                    0,
                    3,
                    7
                  ],
                  "j": [
                    3,
                    4,
                    1,
                    2,
                    5,
                    6,
                    5,
                    5,
                    0,
                    1,
                    2,
                    2
                  ],
                  "k": [
                    0,
                    7,
                    2,
                    3,
                    6,
                    7,
                    1,
                    2,
                    5,
                    5,
                    7,
                    6
                  ],
                  "opacity": 1,
                  "type": "mesh3d",
                  "x": [
                    329,
                    329,
                    415,
                    415,
                    329,
                    329,
                    415,
                    415
                  ],
                  "y": [
                    157,
                    233,
                    233,
                    157,
                    157,
                    233,
                    233,
                    157
                  ],
                  "z": [
                    104,
                    104,
                    104,
                    104,
                    142,
                    142,
                    142,
                    142
                  ]
                },
                {
                  "color": "rgb(94.78196204162384,85.2821798312119,198.5267454318363)",
                  "i": [
                    7,
                    0,
                    0,
                    0,
                    4,
                    4,
                    2,
                    6,
                    4,
                    0,
                    3,
                    7
                  ],
                  "j": [
                    3,
                    4,
                    1,
                    2,
                    5,
                    6,
                    5,
                    5,
                    0,
                    1,
                    2,
                    2
                  ],
                  "k": [
                    0,
                    7,
                    2,
                    3,
                    6,
                    7,
                    1,
                    2,
                    5,
                    5,
                    7,
                    6
                  ],
                  "opacity": 1,
                  "type": "mesh3d",
                  "x": [
                    124,
                    124,
                    186,
                    186,
                    124,
                    124,
                    186,
                    186
                  ],
                  "y": [
                    137,
                    233,
                    233,
                    137,
                    137,
                    233,
                    233,
                    137
                  ],
                  "z": [
                    159,
                    159,
                    159,
                    159,
                    195,
                    195,
                    195,
                    195
                  ]
                },
                {
                  "color": "rgb(178.9986920864983,43.256121876303354,121.2349628372924)",
                  "i": [
                    7,
                    0,
                    0,
                    0,
                    4,
                    4,
                    2,
                    6,
                    4,
                    0,
                    3,
                    7
                  ],
                  "j": [
                    3,
                    4,
                    1,
                    2,
                    5,
                    6,
                    5,
                    5,
                    0,
                    1,
                    2,
                    2
                  ],
                  "k": [
                    0,
                    7,
                    2,
                    3,
                    6,
                    7,
                    1,
                    2,
                    5,
                    5,
                    7,
                    6
                  ],
                  "opacity": 1,
                  "type": "mesh3d",
                  "x": [
                    364,
                    364,
                    415,
                    415,
                    364,
                    364,
                    415,
                    415
                  ],
                  "y": [
                    81,
                    141,
                    141,
                    81,
                    81,
                    141,
                    141,
                    81
                  ],
                  "z": [
                    38,
                    38,
                    38,
                    38,
                    79,
                    79,
                    79,
                    79
                  ]
                },
                {
                  "color": "rgb(245.63070753110404,135.146304828461,92.543317092859)",
                  "i": [
                    7,
                    0,
                    0,
                    0,
                    4,
                    4,
                    2,
                    6,
                    4,
                    0,
                    3,
                    7
                  ],
                  "j": [
                    3,
                    4,
                    1,
                    2,
                    5,
                    6,
                    5,
                    5,
                    0,
                    1,
                    2,
                    2
                  ],
                  "k": [
                    0,
                    7,
                    2,
                    3,
                    6,
                    7,
                    1,
                    2,
                    5,
                    5,
                    7,
                    6
                  ],
                  "opacity": 1,
                  "type": "mesh3d",
                  "x": [
                    419,
                    419,
                    467,
                    467,
                    419,
                    419,
                    467,
                    467
                  ],
                  "y": [
                    81,
                    117,
                    117,
                    81,
                    81,
                    117,
                    117,
                    81
                  ],
                  "z": [
                    98,
                    98,
                    98,
                    98,
                    129,
                    129,
                    129,
                    129
                  ]
                },
                {
                  "color": "rgb(235.60635324276882,97.84775972338106,130.423769061707)",
                  "i": [
                    7,
                    0,
                    0,
                    0,
                    4,
                    4,
                    2,
                    6,
                    4,
                    0,
                    3,
                    7
                  ],
                  "j": [
                    3,
                    4,
                    1,
                    2,
                    5,
                    6,
                    5,
                    5,
                    0,
                    1,
                    2,
                    2
                  ],
                  "k": [
                    0,
                    7,
                    2,
                    3,
                    6,
                    7,
                    1,
                    2,
                    5,
                    5,
                    7,
                    6
                  ],
                  "opacity": 1,
                  "type": "mesh3d",
                  "x": [
                    344,
                    344,
                    415,
                    415,
                    344,
                    344,
                    415,
                    415
                  ],
                  "y": [
                    185,
                    233,
                    233,
                    185,
                    185,
                    233,
                    233,
                    185
                  ],
                  "z": [
                    142,
                    142,
                    142,
                    142,
                    189,
                    189,
                    189,
                    189
                  ]
                },
                {
                  "color": "rgb(189.29528882808196,54.14822790959889,108.34389088331439)",
                  "i": [
                    7,
                    0,
                    0,
                    0,
                    4,
                    4,
                    2,
                    6,
                    4,
                    0,
                    3,
                    7
                  ],
                  "j": [
                    3,
                    4,
                    1,
                    2,
                    5,
                    6,
                    5,
                    5,
                    0,
                    1,
                    2,
                    2
                  ],
                  "k": [
                    0,
                    7,
                    2,
                    3,
                    6,
                    7,
                    1,
                    2,
                    5,
                    5,
                    7,
                    6
                  ],
                  "opacity": 1,
                  "type": "mesh3d",
                  "x": [
                    206,
                    206,
                    302,
                    302,
                    206,
                    206,
                    302,
                    302
                  ],
                  "y": [
                    91,
                    233,
                    233,
                    91,
                    91,
                    233,
                    233,
                    91
                  ],
                  "z": [
                    111,
                    111,
                    111,
                    111,
                    158,
                    158,
                    158,
                    158
                  ]
                },
                {
                  "color": "rgb(235.8698023917215,152.88770722749396,207.96720757651235)",
                  "i": [
                    7,
                    0,
                    0,
                    0,
                    4,
                    4,
                    2,
                    6,
                    4,
                    0,
                    3,
                    7
                  ],
                  "j": [
                    3,
                    4,
                    1,
                    2,
                    5,
                    6,
                    5,
                    5,
                    0,
                    1,
                    2,
                    2
                  ],
                  "k": [
                    0,
                    7,
                    2,
                    3,
                    6,
                    7,
                    1,
                    2,
                    5,
                    5,
                    7,
                    6
                  ],
                  "opacity": 1,
                  "type": "mesh3d",
                  "x": [
                    341,
                    341,
                    412,
                    412,
                    341,
                    341,
                    412,
                    412
                  ],
                  "y": [
                    0,
                    48,
                    48,
                    0,
                    0,
                    48,
                    48,
                    0
                  ],
                  "z": [
                    159,
                    159,
                    159,
                    159,
                    206,
                    206,
                    206,
                    206
                  ]
                },
                {
                  "color": "rgb(182.9587797111556,130.5668124265975,234.11537894205208)",
                  "i": [
                    7,
                    0,
                    0,
                    0,
                    4,
                    4,
                    2,
                    6,
                    4,
                    0,
                    3,
                    7
                  ],
                  "j": [
                    3,
                    4,
                    1,
                    2,
                    5,
                    6,
                    5,
                    5,
                    0,
                    1,
                    2,
                    2
                  ],
                  "k": [
                    0,
                    7,
                    2,
                    3,
                    6,
                    7,
                    1,
                    2,
                    5,
                    5,
                    7,
                    6
                  ],
                  "opacity": 1,
                  "type": "mesh3d",
                  "x": [
                    206,
                    206,
                    302,
                    302,
                    206,
                    206,
                    302,
                    302
                  ],
                  "y": [
                    162,
                    233,
                    233,
                    162,
                    162,
                    233,
                    233,
                    162
                  ],
                  "z": [
                    158,
                    158,
                    158,
                    158,
                    205,
                    205,
                    205,
                    205
                  ]
                },
                {
                  "color": "rgb(10.488515894196173,228.25689855567458,172.71959386732834)",
                  "i": [
                    7,
                    0,
                    0,
                    0,
                    4,
                    4,
                    2,
                    6,
                    4,
                    0,
                    3,
                    7
                  ],
                  "j": [
                    3,
                    4,
                    1,
                    2,
                    5,
                    6,
                    5,
                    5,
                    0,
                    1,
                    2,
                    2
                  ],
                  "k": [
                    0,
                    7,
                    2,
                    3,
                    6,
                    7,
                    1,
                    2,
                    5,
                    5,
                    7,
                    6
                  ],
                  "opacity": 1,
                  "type": "mesh3d",
                  "x": [
                    206,
                    206,
                    277,
                    277,
                    206,
                    206,
                    277,
                    277
                  ],
                  "y": [
                    114,
                    162,
                    162,
                    114,
                    114,
                    162,
                    162,
                    114
                  ],
                  "z": [
                    158,
                    158,
                    158,
                    158,
                    205,
                    205,
                    205,
                    205
                  ]
                }
              ],
              "layout": {
                "autosize": false,
                "margin": {
                  "b": 0,
                  "l": 0,
                  "r": 0,
                  "t": 0
                },
                "paper_bgcolor": "rgba(0,0,0,0)",
                "scene": {
                  "camera": {
                    "center": {
                      "x": 0,
                      "y": 0,
                      "z": 0
                    },
                    "eye": {
                      "x": -2,
                      "y": 2,
                      "z": 1.5
                    },
                    "up": {
                      "x": 0,
                      "y": 0,
                      "z": 1
                    }
                  },
                  "xaxis": {
                    "nticks": 10,
                    "range": [
                      0,
                      587
                    ],
                    "showspikes": false
                  },
                  "yaxis": {
                    "nticks": 5,
                    "range": [
                      0,
                      233
                    ],
                    "showspikes": false
                  },
                  "zaxis": {
                    "nticks": 5,
                    "range": [
                      0,
                      220
                    ],
                    "tickfont": {
                      "size": 15
                    }
                  }
                },
                "template": {
                  "data": {
                    "bar": [
                      {
                        "error_x": {
                          "color": "#2a3f5f"
                        },
                        "error_y": {
                          "color": "#2a3f5f"
                        },
                        "marker": {
                          "line": {
                            "color": "#E5ECF6",
                            "width": 0.5
                          },
                          "pattern": {
                            "fillmode": "overlay",
                            "size": 10,
                            "solidity": 0.2
                          }
                        },
                        "type": "bar"
                      }
                    ],
                    "barpolar": [
                      {
                        "marker": {
                          "line": {
                            "color": "#E5ECF6",
                            "width": 0.5
                          },
                          "pattern": {
                            "fillmode": "overlay",
                            "size": 10,
                            "solidity": 0.2
                          }
                        },
                        "type": "barpolar"
                      }
                    ],
                    "carpet": [
                      {
                        "aaxis": {
                          "endlinecolor": "#2a3f5f",
                          "gridcolor": "white",
                          "linecolor": "white",
                          "minorgridcolor": "white",
                          "startlinecolor": "#2a3f5f"
                        },
                        "baxis": {
                          "endlinecolor": "#2a3f5f",
                          "gridcolor": "white",
                          "linecolor": "white",
                          "minorgridcolor": "white",
                          "startlinecolor": "#2a3f5f"
                        },
                        "type": "carpet"
                      }
                    ],
                    "choropleth": [
                      {
                        "colorbar": {
                          "outlinewidth": 0,
                          "ticks": ""
                        },
                        "type": "choropleth"
                      }
                    ],
                    "contour": [
                      {
                        "colorbar": {
                          "outlinewidth": 0,
                          "ticks": ""
                        },
                        "colorscale": [
                          [
                            0,
                            "#0d0887"
                          ],
                          [
                            0.1111111111111111,
                            "#46039f"
                          ],
                          [
                            0.2222222222222222,
                            "#7201a8"
                          ],
                          [
                            0.3333333333333333,
                            "#9c179e"
                          ],
                          [
                            0.4444444444444444,
                            "#bd3786"
                          ],
                          [
                            0.5555555555555556,
                            "#d8576b"
                          ],
                          [
                            0.6666666666666666,
                            "#ed7953"
                          ],
                          [
                            0.7777777777777778,
                            "#fb9f3a"
                          ],
                          [
                            0.8888888888888888,
                            "#fdca26"
                          ],
                          [
                            1,
                            "#f0f921"
                          ]
                        ],
                        "type": "contour"
                      }
                    ],
                    "contourcarpet": [
                      {
                        "colorbar": {
                          "outlinewidth": 0,
                          "ticks": ""
                        },
                        "type": "contourcarpet"
                      }
                    ],
                    "heatmap": [
                      {
                        "colorbar": {
                          "outlinewidth": 0,
                          "ticks": ""
                        },
                        "colorscale": [
                          [
                            0,
                            "#0d0887"
                          ],
                          [
                            0.1111111111111111,
                            "#46039f"
                          ],
                          [
                            0.2222222222222222,
                            "#7201a8"
                          ],
                          [
                            0.3333333333333333,
                            "#9c179e"
                          ],
                          [
                            0.4444444444444444,
                            "#bd3786"
                          ],
                          [
                            0.5555555555555556,
                            "#d8576b"
                          ],
                          [
                            0.6666666666666666,
                            "#ed7953"
                          ],
                          [
                            0.7777777777777778,
                            "#fb9f3a"
                          ],
                          [
                            0.8888888888888888,
                            "#fdca26"
                          ],
                          [
                            1,
                            "#f0f921"
                          ]
                        ],
                        "type": "heatmap"
                      }
                    ],
                    "heatmapgl": [
                      {
                        "colorbar": {
                          "outlinewidth": 0,
                          "ticks": ""
                        },
                        "colorscale": [
                          [
                            0,
                            "#0d0887"
                          ],
                          [
                            0.1111111111111111,
                            "#46039f"
                          ],
                          [
                            0.2222222222222222,
                            "#7201a8"
                          ],
                          [
                            0.3333333333333333,
                            "#9c179e"
                          ],
                          [
                            0.4444444444444444,
                            "#bd3786"
                          ],
                          [
                            0.5555555555555556,
                            "#d8576b"
                          ],
                          [
                            0.6666666666666666,
                            "#ed7953"
                          ],
                          [
                            0.7777777777777778,
                            "#fb9f3a"
                          ],
                          [
                            0.8888888888888888,
                            "#fdca26"
                          ],
                          [
                            1,
                            "#f0f921"
                          ]
                        ],
                        "type": "heatmapgl"
                      }
                    ],
                    "histogram": [
                      {
                        "marker": {
                          "pattern": {
                            "fillmode": "overlay",
                            "size": 10,
                            "solidity": 0.2
                          }
                        },
                        "type": "histogram"
                      }
                    ],
                    "histogram2d": [
                      {
                        "colorbar": {
                          "outlinewidth": 0,
                          "ticks": ""
                        },
                        "colorscale": [
                          [
                            0,
                            "#0d0887"
                          ],
                          [
                            0.1111111111111111,
                            "#46039f"
                          ],
                          [
                            0.2222222222222222,
                            "#7201a8"
                          ],
                          [
                            0.3333333333333333,
                            "#9c179e"
                          ],
                          [
                            0.4444444444444444,
                            "#bd3786"
                          ],
                          [
                            0.5555555555555556,
                            "#d8576b"
                          ],
                          [
                            0.6666666666666666,
                            "#ed7953"
                          ],
                          [
                            0.7777777777777778,
                            "#fb9f3a"
                          ],
                          [
                            0.8888888888888888,
                            "#fdca26"
                          ],
                          [
                            1,
                            "#f0f921"
                          ]
                        ],
                        "type": "histogram2d"
                      }
                    ],
                    "histogram2dcontour": [
                      {
                        "colorbar": {
                          "outlinewidth": 0,
                          "ticks": ""
                        },
                        "colorscale": [
                          [
                            0,
                            "#0d0887"
                          ],
                          [
                            0.1111111111111111,
                            "#46039f"
                          ],
                          [
                            0.2222222222222222,
                            "#7201a8"
                          ],
                          [
                            0.3333333333333333,
                            "#9c179e"
                          ],
                          [
                            0.4444444444444444,
                            "#bd3786"
                          ],
                          [
                            0.5555555555555556,
                            "#d8576b"
                          ],
                          [
                            0.6666666666666666,
                            "#ed7953"
                          ],
                          [
                            0.7777777777777778,
                            "#fb9f3a"
                          ],
                          [
                            0.8888888888888888,
                            "#fdca26"
                          ],
                          [
                            1,
                            "#f0f921"
                          ]
                        ],
                        "type": "histogram2dcontour"
                      }
                    ],
                    "mesh3d": [
                      {
                        "colorbar": {
                          "outlinewidth": 0,
                          "ticks": ""
                        },
                        "type": "mesh3d"
                      }
                    ],
                    "parcoords": [
                      {
                        "line": {
                          "colorbar": {
                            "outlinewidth": 0,
                            "ticks": ""
                          }
                        },
                        "type": "parcoords"
                      }
                    ],
                    "pie": [
                      {
                        "automargin": true,
                        "type": "pie"
                      }
                    ],
                    "scatter": [
                      {
                        "fillpattern": {
                          "fillmode": "overlay",
                          "size": 10,
                          "solidity": 0.2
                        },
                        "type": "scatter"
                      }
                    ],
                    "scatter3d": [
                      {
                        "line": {
                          "colorbar": {
                            "outlinewidth": 0,
                            "ticks": ""
                          }
                        },
                        "marker": {
                          "colorbar": {
                            "outlinewidth": 0,
                            "ticks": ""
                          }
                        },
                        "type": "scatter3d"
                      }
                    ],
                    "scattercarpet": [
                      {
                        "marker": {
                          "colorbar": {
                            "outlinewidth": 0,
                            "ticks": ""
                          }
                        },
                        "type": "scattercarpet"
                      }
                    ],
                    "scattergeo": [
                      {
                        "marker": {
                          "colorbar": {
                            "outlinewidth": 0,
                            "ticks": ""
                          }
                        },
                        "type": "scattergeo"
                      }
                    ],
                    "scattergl": [
                      {
                        "marker": {
                          "colorbar": {
                            "outlinewidth": 0,
                            "ticks": ""
                          }
                        },
                        "type": "scattergl"
                      }
                    ],
                    "scattermapbox": [
                      {
                        "marker": {
                          "colorbar": {
                            "outlinewidth": 0,
                            "ticks": ""
                          }
                        },
                        "type": "scattermapbox"
                      }
                    ],
                    "scatterpolar": [
                      {
                        "marker": {
                          "colorbar": {
                            "outlinewidth": 0,
                            "ticks": ""
                          }
                        },
                        "type": "scatterpolar"
                      }
                    ],
                    "scatterpolargl": [
                      {
                        "marker": {
                          "colorbar": {
                            "outlinewidth": 0,
                            "ticks": ""
                          }
                        },
                        "type": "scatterpolargl"
                      }
                    ],
                    "scatterternary": [
                      {
                        "marker": {
                          "colorbar": {
                            "outlinewidth": 0,
                            "ticks": ""
                          }
                        },
                        "type": "scatterternary"
                      }
                    ],
                    "surface": [
                      {
                        "colorbar": {
                          "outlinewidth": 0,
                          "ticks": ""
                        },
                        "colorscale": [
                          [
                            0,
                            "#0d0887"
                          ],
                          [
                            0.1111111111111111,
                            "#46039f"
                          ],
                          [
                            0.2222222222222222,
                            "#7201a8"
                          ],
                          [
                            0.3333333333333333,
                            "#9c179e"
                          ],
                          [
                            0.4444444444444444,
                            "#bd3786"
                          ],
                          [
                            0.5555555555555556,
                            "#d8576b"
                          ],
                          [
                            0.6666666666666666,
                            "#ed7953"
                          ],
                          [
                            0.7777777777777778,
                            "#fb9f3a"
                          ],
                          [
                            0.8888888888888888,
                            "#fdca26"
                          ],
                          [
                            1,
                            "#f0f921"
                          ]
                        ],
                        "type": "surface"
                      }
                    ],
                    "table": [
                      {
                        "cells": {
                          "fill": {
                            "color": "#EBF0F8"
                          },
                          "line": {
                            "color": "white"
                          }
                        },
                        "header": {
                          "fill": {
                            "color": "#C8D4E3"
                          },
                          "line": {
                            "color": "white"
                          }
                        },
                        "type": "table"
                      }
                    ]
                  },
                  "layout": {
                    "annotationdefaults": {
                      "arrowcolor": "#2a3f5f",
                      "arrowhead": 0,
                      "arrowwidth": 1
                    },
                    "autotypenumbers": "strict",
                    "coloraxis": {
                      "colorbar": {
                        "outlinewidth": 0,
                        "ticks": ""
                      }
                    },
                    "colorscale": {
                      "diverging": [
                        [
                          0,
                          "#8e0152"
                        ],
                        [
                          0.1,
                          "#c51b7d"
                        ],
                        [
                          0.2,
                          "#de77ae"
                        ],
                        [
                          0.3,
                          "#f1b6da"
                        ],
                        [
                          0.4,
                          "#fde0ef"
                        ],
                        [
                          0.5,
                          "#f7f7f7"
                        ],
                        [
                          0.6,
                          "#e6f5d0"
                        ],
                        [
                          0.7,
                          "#b8e186"
                        ],
                        [
                          0.8,
                          "#7fbc41"
                        ],
                        [
                          0.9,
                          "#4d9221"
                        ],
                        [
                          1,
                          "#276419"
                        ]
                      ],
                      "sequential": [
                        [
                          0,
                          "#0d0887"
                        ],
                        [
                          0.1111111111111111,
                          "#46039f"
                        ],
                        [
                          0.2222222222222222,
                          "#7201a8"
                        ],
                        [
                          0.3333333333333333,
                          "#9c179e"
                        ],
                        [
                          0.4444444444444444,
                          "#bd3786"
                        ],
                        [
                          0.5555555555555556,
                          "#d8576b"
                        ],
                        [
                          0.6666666666666666,
                          "#ed7953"
                        ],
                        [
                          0.7777777777777778,
                          "#fb9f3a"
                        ],
                        [
                          0.8888888888888888,
                          "#fdca26"
                        ],
                        [
                          1,
                          "#f0f921"
                        ]
                      ],
                      "sequentialminus": [
                        [
                          0,
                          "#0d0887"
                        ],
                        [
                          0.1111111111111111,
                          "#46039f"
                        ],
                        [
                          0.2222222222222222,
                          "#7201a8"
                        ],
                        [
                          0.3333333333333333,
                          "#9c179e"
                        ],
                        [
                          0.4444444444444444,
                          "#bd3786"
                        ],
                        [
                          0.5555555555555556,
                          "#d8576b"
                        ],
                        [
                          0.6666666666666666,
                          "#ed7953"
                        ],
                        [
                          0.7777777777777778,
                          "#fb9f3a"
                        ],
                        [
                          0.8888888888888888,
                          "#fdca26"
                        ],
                        [
                          1,
                          "#f0f921"
                        ]
                      ]
                    },
                    "colorway": [
                      "#636efa",
                      "#EF553B",
                      "#00cc96",
                      "#ab63fa",
                      "#FFA15A",
                      "#19d3f3",
                      "#FF6692",
                      "#B6E880",
                      "#FF97FF",
                      "#FECB52"
                    ],
                    "font": {
                      "color": "#2a3f5f"
                    },
                    "geo": {
                      "bgcolor": "white",
                      "lakecolor": "white",
                      "landcolor": "#E5ECF6",
                      "showlakes": true,
                      "showland": true,
                      "subunitcolor": "white"
                    },
                    "hoverlabel": {
                      "align": "left"
                    },
                    "hovermode": "closest",
                    "mapbox": {
                      "style": "light"
                    },
                    "paper_bgcolor": "white",
                    "plot_bgcolor": "#E5ECF6",
                    "polar": {
                      "angularaxis": {
                        "gridcolor": "white",
                        "linecolor": "white",
                        "ticks": ""
                      },
                      "bgcolor": "#E5ECF6",
                      "radialaxis": {
                        "gridcolor": "white",
                        "linecolor": "white",
                        "ticks": ""
                      }
                    },
                    "scene": {
                      "xaxis": {
                        "backgroundcolor": "#E5ECF6",
                        "gridcolor": "white",
                        "gridwidth": 2,
                        "linecolor": "white",
                        "showbackground": true,
                        "ticks": "",
                        "zerolinecolor": "white"
                      },
                      "yaxis": {
                        "backgroundcolor": "#E5ECF6",
                        "gridcolor": "white",
                        "gridwidth": 2,
                        "linecolor": "white",
                        "showbackground": true,
                        "ticks": "",
                        "zerolinecolor": "white"
                      },
                      "zaxis": {
                        "backgroundcolor": "#E5ECF6",
                        "gridcolor": "white",
                        "gridwidth": 2,
                        "linecolor": "white",
                        "showbackground": true,
                        "ticks": "",
                        "zerolinecolor": "white"
                      }
                    },
                    "shapedefaults": {
                      "line": {
                        "color": "#2a3f5f"
                      }
                    },
                    "ternary": {
                      "aaxis": {
                        "gridcolor": "white",
                        "linecolor": "white",
                        "ticks": ""
                      },
                      "baxis": {
                        "gridcolor": "white",
                        "linecolor": "white",
                        "ticks": ""
                      },
                      "bgcolor": "#E5ECF6",
                      "caxis": {
                        "gridcolor": "white",
                        "linecolor": "white",
                        "ticks": ""
                      }
                    },
                    "title": {
                      "x": 0.05
                    },
                    "xaxis": {
                      "automargin": true,
                      "gridcolor": "white",
                      "linecolor": "white",
                      "ticks": "",
                      "title": {
                        "standoff": 15
                      },
                      "zerolinecolor": "white",
                      "zerolinewidth": 2
                    },
                    "yaxis": {
                      "automargin": true,
                      "gridcolor": "white",
                      "linecolor": "white",
                      "ticks": "",
                      "title": {
                        "standoff": 15
                      },
                      "zerolinecolor": "white",
                      "zerolinewidth": 2
                    }
                  }
                }
              }
            }
          },
          "metadata": {},
          "output_type": "display_data"
        }
      ],
      "source": [
        "cont, execution_time,total_volume = MLCP_function(alpha=4.0,beta=1.0,gamma=0.2,delta=0.5,p=0.05,instance=1)\n",
        "\n",
        "L = cont.l;W = cont.w; H = cont.h\n",
        "\n",
        "box_dims = []\n",
        "for aabb in cont.aabbs:\n",
        "  box_dims.append([aabb.xmin,aabb.ymin,aabb.zmin,aabb.xmax,aabb.ymax,aabb.zmax])\n",
        "\n",
        "bxplot.plot_container([L,W,H], box_dims)\n"
      ]
    },
    {
      "cell_type": "code",
      "execution_count": 37,
      "metadata": {},
      "outputs": [],
      "source": [
        "ALPHA = [0.0,1.0,2.0,3.0,4.0,5.0]\n",
        "BETA = [0.0,1.0,2.0,3.0,4.0,5.0]\n",
        "GAMMA = [0.0,0.1,0.2,0.3,0.4,0.5]\n",
        "DELTA = [0.0,0.2,0.4,0.6,0.8,1.0]\n",
        "P = [0.00,0.01,0.02,0.03,0.04,0.05]\n",
        "INSTANCE = [1,2,3,4,5]"
      ]
    },
    {
      "cell_type": "code",
      "execution_count": 38,
      "metadata": {},
      "outputs": [],
      "source": [
        "# data = []\n",
        "# for i in INSTANCE:\n",
        "#     for a in ALPHA:\n",
        "#         for b in BETA:\n",
        "#             for g in GAMMA:\n",
        "#                 for d in DELTA:\n",
        "#                     for p in P:\n",
        "#                         cont, execution_time,total_volume = MLCP_function(a,b,g,d,p,i)\n",
        "#                         data.append([i,execution_time,total_volume,center_of_gravity(cont),a,b,g,d,p])\n",
        "#                         # df.append(i,execution_time,total_volume,a,b,g,d,p)"
      ]
    },
    {
      "cell_type": "code",
      "execution_count": 39,
      "metadata": {},
      "outputs": [],
      "source": [
        "df = pd.DataFrame(data,columns=['Instancia','Tiempo ejecucion','Volumen Ocupado','Diferencia centro','alpha','beta','gamma','delta','p'])"
      ]
    },
    {
      "cell_type": "code",
      "execution_count": 40,
      "metadata": {},
      "outputs": [],
      "source": [
        "df.to_csv('resultados_parametros2.csv')"
      ]
    },
    {
      "cell_type": "code",
      "execution_count": 41,
      "metadata": {},
      "outputs": [
        {
          "data": {
            "text/html": [
              "<div>\n",
              "<style scoped>\n",
              "    .dataframe tbody tr th:only-of-type {\n",
              "        vertical-align: middle;\n",
              "    }\n",
              "\n",
              "    .dataframe tbody tr th {\n",
              "        vertical-align: top;\n",
              "    }\n",
              "\n",
              "    .dataframe thead th {\n",
              "        text-align: right;\n",
              "    }\n",
              "</style>\n",
              "<table border=\"1\" class=\"dataframe\">\n",
              "  <thead>\n",
              "    <tr style=\"text-align: right;\">\n",
              "      <th></th>\n",
              "      <th>Instancia</th>\n",
              "      <th>Tiempo ejecucion</th>\n",
              "      <th>Volumen Ocupado</th>\n",
              "      <th>Diferencia centro</th>\n",
              "      <th>alpha</th>\n",
              "      <th>beta</th>\n",
              "      <th>gamma</th>\n",
              "      <th>delta</th>\n",
              "      <th>p</th>\n",
              "    </tr>\n",
              "  </thead>\n",
              "  <tbody>\n",
              "  </tbody>\n",
              "</table>\n",
              "</div>"
            ],
            "text/plain": [
              "Empty DataFrame\n",
              "Columns: [Instancia, Tiempo ejecucion, Volumen Ocupado, Diferencia centro, alpha, beta, gamma, delta, p]\n",
              "Index: []"
            ]
          },
          "execution_count": 41,
          "metadata": {},
          "output_type": "execute_result"
        }
      ],
      "source": [
        "df.loc[df['Instancia']==5].sort_values(by=['Volumen Ocupado'])"
      ]
    },
    {
      "cell_type": "code",
      "execution_count": 42,
      "metadata": {},
      "outputs": [],
      "source": [
        "best_instances = df.groupby('Instancia')['Volumen Ocupado'].max().reset_index()\n",
        "merged_df = pd.merge(best_instances,df,on=['Instancia','Volumen Ocupado'])"
      ]
    },
    {
      "cell_type": "code",
      "execution_count": 43,
      "metadata": {},
      "outputs": [
        {
          "name": "stdout",
          "output_type": "stream",
          "text": [
            "XDDDDDDDDDDDDDXDDDDDDDDDDDDDXDDDDDDDDDDDDDXDDDDDDDDDDDDD\n",
            "XDDDDDDDDDDDDDXDDDDDDDDDDDDDXDDDDDDDDDDDDDXDDDDDDDDDDDDD\n",
            "XDDDDDDDDDDDDDXDDDDDDDDDDDDDXDDDDDDDDDDDDDXDDDDDDDDDDDDD\n",
            "XDDDDDDDDDDDDDXDDDDDDDDDDDDDXDDDDDDDDDDDDDXDDDDDDDDDDDDD\n",
            "XDDDDDDDDDDDDDXDDDDDDDDDDDDDXDDDDDDDDDDDDDXDDDDDDDDDDDDD\n",
            "XDDDDDDDDDDDDDXDDDDDDDDDDDDDXDDDDDDDDDDDDDXDDDDDDDDDDDDD\n",
            "XDDDDDDDDDDDDDXDDDDDDDDDDDDDXDDDDDDDDDDDDDXDDDDDDDDDDDDD\n",
            "XDDDDDDDDDDDDDXDDDDDDDDDDDDDXDDDDDDDDDDDDDXDDDDDDDDDDDDD\n",
            "XDDDDDDDDDDDDDXDDDDDDDDDDDDDXDDDDDDDDDDDDDXDDDDDDDDDDDDD\n",
            "XDDDDDDDDDDDDDXDDDDDDDDDDDDDXDDDDDDDDDDDDDXDDDDDDDDDDDDD\n",
            "XDDDDDDDDDDDDDXDDDDDDDDDDDDDXDDDDDDDDDDDDDXDDDDDDDDDDDDD\n",
            "XDDDDDDDDDDDDDXDDDDDDDDDDDDDXDDDDDDDDDDDDDXDDDDDDDDDDDDD\n",
            "XDDDDDDDDDDDDDXDDDDDDDDDDDDDXDDDDDDDDDDDDDXDDDDDDDDDDDDD\n",
            "XDDDDDDDDDDDDDXDDDDDDDDDDDDDXDDDDDDDDDDDDDXDDDDDDDDDDDDD\n",
            "XDDDDDDDDDDDDDXDDDDDDDDDDDDDXDDDDDDDDDDDDDXDDDDDDDDDDDDD\n",
            "XDDDDDDDDDDDDDXDDDDDDDDDDDDDXDDDDDDDDDDDDDXDDDDDDDDDDDDD\n",
            "XDDDDDDDDDDDDDXDDDDDDDDDDDDDXDDDDDDDDDDDDDXDDDDDDDDDDDDD\n",
            "XDDDDDDDDDDDDDXDDDDDDDDDDDDDXDDDDDDDDDDDDDXDDDDDDDDDDDDD\n",
            "XDDDDDDDDDDDDDXDDDDDDDDDDDDDXDDDDDDDDDDDDDXDDDDDDDDDDDDD\n",
            "XDDDDDDDDDDDDDXDDDDDDDDDDDDDXDDDDDDDDDDDDDXDDDDDDDDDDDDD\n",
            "XDDDDDDDDDDDDDXDDDDDDDDDDDDDXDDDDDDDDDDDDDXDDDDDDDDDDDDD\n",
            "XDDDDDDDDDDDDDXDDDDDDDDDDDDDXDDDDDDDDDDDDDXDDDDDDDDDDDDD\n",
            "XDDDDDDDDDDDDDXDDDDDDDDDDDDDXDDDDDDDDDDDDDXDDDDDDDDDDDDD\n",
            "XDDDDDDDDDDDDDXDDDDDDDDDDDDDXDDDDDDDDDDDDDXDDDDDDDDDDDDD\n",
            "XDDDDDDDDDDDDDXDDDDDDDDDDDDDXDDDDDDDDDDDDDXDDDDDDDDDDDDD\n",
            "XDDDDDDDDDDDDDXDDDDDDDDDDDDDXDDDDDDDDDDDDDXDDDDDDDDDDDDD\n",
            "XDDDDDDDDDDDDDXDDDDDDDDDDDDDXDDDDDDDDDDDDDXDDDDDDDDDDDDD\n",
            "XDDDDDDDDDDDDDXDDDDDDDDDDDDDXDDDDDDDDDDDDDXDDDDDDDDDDDDD\n",
            "XDDDDDDDDDDDDDXDDDDDDDDDDDDDXDDDDDDDDDDDDDXDDDDDDDDDDDDD\n",
            "XDDDDDDDDDDDDDXDDDDDDDDDDDDDXDDDDDDDDDDDDDXDDDDDDDDDDDDD\n",
            "XDDDDDDDDDDDDDXDDDDDDDDDDDDDXDDDDDDDDDDDDDXDDDDDDDDDDDDD\n",
            "XDDDDDDDDDDDDDXDDDDDDDDDDDDDXDDDDDDDDDDDDDXDDDDDDDDDDDDD\n"
          ]
        },
        {
          "data": {
            "application/vnd.plotly.v1+json": {
              "config": {
                "linkText": "Export to plot.ly",
                "plotlyServerURL": "https://plot.ly",
                "showLink": false
              },
              "data": [
                {
                  "color": "rgb(74.9973284105407,176.97690172836326,3.1358007490220157)",
                  "i": [
                    7,
                    0,
                    0,
                    0,
                    4,
                    4,
                    2,
                    6,
                    4,
                    0,
                    3,
                    7
                  ],
                  "j": [
                    3,
                    4,
                    1,
                    2,
                    5,
                    6,
                    5,
                    5,
                    0,
                    1,
                    2,
                    2
                  ],
                  "k": [
                    0,
                    7,
                    2,
                    3,
                    6,
                    7,
                    1,
                    2,
                    5,
                    5,
                    7,
                    6
                  ],
                  "opacity": 1,
                  "type": "mesh3d",
                  "x": [
                    0,
                    0,
                    344,
                    344,
                    0,
                    0,
                    344,
                    344
                  ],
                  "y": [
                    0,
                    168,
                    168,
                    0,
                    0,
                    168,
                    168,
                    0
                  ],
                  "z": [
                    0,
                    0,
                    0,
                    0,
                    45,
                    45,
                    45,
                    45
                  ]
                },
                {
                  "color": "rgb(251.92735751156488,225.52552277995886,136.32387161251984)",
                  "i": [
                    7,
                    0,
                    0,
                    0,
                    4,
                    4,
                    2,
                    6,
                    4,
                    0,
                    3,
                    7
                  ],
                  "j": [
                    3,
                    4,
                    1,
                    2,
                    5,
                    6,
                    5,
                    5,
                    0,
                    1,
                    2,
                    2
                  ],
                  "k": [
                    0,
                    7,
                    2,
                    3,
                    6,
                    7,
                    1,
                    2,
                    5,
                    5,
                    7,
                    6
                  ],
                  "opacity": 1,
                  "type": "mesh3d",
                  "x": [
                    344,
                    344,
                    587,
                    587,
                    344,
                    344,
                    587,
                    587
                  ],
                  "y": [
                    0,
                    45,
                    45,
                    0,
                    0,
                    45,
                    45,
                    0
                  ],
                  "z": [
                    0,
                    0,
                    0,
                    0,
                    34,
                    34,
                    34,
                    34
                  ]
                },
                {
                  "color": "rgb(88.43195936259056,51.513386294943274,166.75794762154362)",
                  "i": [
                    7,
                    0,
                    0,
                    0,
                    4,
                    4,
                    2,
                    6,
                    4,
                    0,
                    3,
                    7
                  ],
                  "j": [
                    3,
                    4,
                    1,
                    2,
                    5,
                    6,
                    5,
                    5,
                    0,
                    1,
                    2,
                    2
                  ],
                  "k": [
                    0,
                    7,
                    2,
                    3,
                    6,
                    7,
                    1,
                    2,
                    5,
                    5,
                    7,
                    6
                  ],
                  "opacity": 1,
                  "type": "mesh3d",
                  "x": [
                    0,
                    0,
                    204,
                    204,
                    0,
                    0,
                    204,
                    204
                  ],
                  "y": [
                    168,
                    233,
                    233,
                    168,
                    168,
                    233,
                    233,
                    168
                  ],
                  "z": [
                    0,
                    0,
                    0,
                    0,
                    50,
                    50,
                    50,
                    50
                  ]
                },
                {
                  "color": "rgb(247.53974006257732,128.62111578049974,213.10458997940194)",
                  "i": [
                    7,
                    0,
                    0,
                    0,
                    4,
                    4,
                    2,
                    6,
                    4,
                    0,
                    3,
                    7
                  ],
                  "j": [
                    3,
                    4,
                    1,
                    2,
                    5,
                    6,
                    5,
                    5,
                    0,
                    1,
                    2,
                    2
                  ],
                  "k": [
                    0,
                    7,
                    2,
                    3,
                    6,
                    7,
                    1,
                    2,
                    5,
                    5,
                    7,
                    6
                  ],
                  "opacity": 1,
                  "type": "mesh3d",
                  "x": [
                    411,
                    411,
                    587,
                    587,
                    411,
                    411,
                    587,
                    587
                  ],
                  "y": [
                    45,
                    233,
                    233,
                    45,
                    45,
                    233,
                    233,
                    45
                  ],
                  "z": [
                    0,
                    0,
                    0,
                    0,
                    50,
                    50,
                    50,
                    50
                  ]
                },
                {
                  "color": "rgb(103.26059134482612,10.865021859544683,145.1826724128001)",
                  "i": [
                    7,
                    0,
                    0,
                    0,
                    4,
                    4,
                    2,
                    6,
                    4,
                    0,
                    3,
                    7
                  ],
                  "j": [
                    3,
                    4,
                    1,
                    2,
                    5,
                    6,
                    5,
                    5,
                    0,
                    1,
                    2,
                    2
                  ],
                  "k": [
                    0,
                    7,
                    2,
                    3,
                    6,
                    7,
                    1,
                    2,
                    5,
                    5,
                    7,
                    6
                  ],
                  "opacity": 1,
                  "type": "mesh3d",
                  "x": [
                    344,
                    344,
                    587,
                    587,
                    344,
                    344,
                    587,
                    587
                  ],
                  "y": [
                    0,
                    45,
                    45,
                    0,
                    0,
                    45,
                    45,
                    0
                  ],
                  "z": [
                    34,
                    34,
                    34,
                    34,
                    68,
                    68,
                    68,
                    68
                  ]
                },
                {
                  "color": "rgb(131.73259568722807,242.53713943451575,159.39658010983393)",
                  "i": [
                    7,
                    0,
                    0,
                    0,
                    4,
                    4,
                    2,
                    6,
                    4,
                    0,
                    3,
                    7
                  ],
                  "j": [
                    3,
                    4,
                    1,
                    2,
                    5,
                    6,
                    5,
                    5,
                    0,
                    1,
                    2,
                    2
                  ],
                  "k": [
                    0,
                    7,
                    2,
                    3,
                    6,
                    7,
                    1,
                    2,
                    5,
                    5,
                    7,
                    6
                  ],
                  "opacity": 1,
                  "type": "mesh3d",
                  "x": [
                    0,
                    0,
                    344,
                    344,
                    0,
                    0,
                    344,
                    344
                  ],
                  "y": [
                    0,
                    168,
                    168,
                    0,
                    0,
                    168,
                    168,
                    0
                  ],
                  "z": [
                    45,
                    45,
                    45,
                    45,
                    90,
                    90,
                    90,
                    90
                  ]
                },
                {
                  "color": "rgb(190.15998477349027,238.6977925537715,149.90284407931304)",
                  "i": [
                    7,
                    0,
                    0,
                    0,
                    4,
                    4,
                    2,
                    6,
                    4,
                    0,
                    3,
                    7
                  ],
                  "j": [
                    3,
                    4,
                    1,
                    2,
                    5,
                    6,
                    5,
                    5,
                    0,
                    1,
                    2,
                    2
                  ],
                  "k": [
                    0,
                    7,
                    2,
                    3,
                    6,
                    7,
                    1,
                    2,
                    5,
                    5,
                    7,
                    6
                  ],
                  "opacity": 1,
                  "type": "mesh3d",
                  "x": [
                    411,
                    411,
                    587,
                    587,
                    411,
                    411,
                    587,
                    587
                  ],
                  "y": [
                    45,
                    233,
                    233,
                    45,
                    45,
                    233,
                    233,
                    45
                  ],
                  "z": [
                    50,
                    50,
                    50,
                    50,
                    100,
                    100,
                    100,
                    100
                  ]
                },
                {
                  "color": "rgb(136.92516298708168,187.5243364433993,177.68932483500632)",
                  "i": [
                    7,
                    0,
                    0,
                    0,
                    4,
                    4,
                    2,
                    6,
                    4,
                    0,
                    3,
                    7
                  ],
                  "j": [
                    3,
                    4,
                    1,
                    2,
                    5,
                    6,
                    5,
                    5,
                    0,
                    1,
                    2,
                    2
                  ],
                  "k": [
                    0,
                    7,
                    2,
                    3,
                    6,
                    7,
                    1,
                    2,
                    5,
                    5,
                    7,
                    6
                  ],
                  "opacity": 1,
                  "type": "mesh3d",
                  "x": [
                    0,
                    0,
                    204,
                    204,
                    0,
                    0,
                    204,
                    204
                  ],
                  "y": [
                    168,
                    233,
                    233,
                    168,
                    168,
                    233,
                    233,
                    168
                  ],
                  "z": [
                    50,
                    50,
                    50,
                    50,
                    100,
                    100,
                    100,
                    100
                  ]
                },
                {
                  "color": "rgb(53.31318408678747,40.74088259268147,206.57025692479723)",
                  "i": [
                    7,
                    0,
                    0,
                    0,
                    4,
                    4,
                    2,
                    6,
                    4,
                    0,
                    3,
                    7
                  ],
                  "j": [
                    3,
                    4,
                    1,
                    2,
                    5,
                    6,
                    5,
                    5,
                    0,
                    1,
                    2,
                    2
                  ],
                  "k": [
                    0,
                    7,
                    2,
                    3,
                    6,
                    7,
                    1,
                    2,
                    5,
                    5,
                    7,
                    6
                  ],
                  "opacity": 1,
                  "type": "mesh3d",
                  "x": [
                    344,
                    344,
                    587,
                    587,
                    344,
                    344,
                    587,
                    587
                  ],
                  "y": [
                    0,
                    45,
                    45,
                    0,
                    0,
                    45,
                    45,
                    0
                  ],
                  "z": [
                    68,
                    68,
                    68,
                    68,
                    102,
                    102,
                    102,
                    102
                  ]
                },
                {
                  "color": "rgb(178.53688410166586,122.10041235408058,218.9308438808705)",
                  "i": [
                    7,
                    0,
                    0,
                    0,
                    4,
                    4,
                    2,
                    6,
                    4,
                    0,
                    3,
                    7
                  ],
                  "j": [
                    3,
                    4,
                    1,
                    2,
                    5,
                    6,
                    5,
                    5,
                    0,
                    1,
                    2,
                    2
                  ],
                  "k": [
                    0,
                    7,
                    2,
                    3,
                    6,
                    7,
                    1,
                    2,
                    5,
                    5,
                    7,
                    6
                  ],
                  "opacity": 1,
                  "type": "mesh3d",
                  "x": [
                    0,
                    0,
                    312,
                    312,
                    0,
                    0,
                    312,
                    312
                  ],
                  "y": [
                    0,
                    73,
                    73,
                    0,
                    0,
                    73,
                    73,
                    0
                  ],
                  "z": [
                    90,
                    90,
                    90,
                    90,
                    130,
                    130,
                    130,
                    130
                  ]
                },
                {
                  "color": "rgb(75.56093245083542,216.60154197543523,240.8280610349559)",
                  "i": [
                    7,
                    0,
                    0,
                    0,
                    4,
                    4,
                    2,
                    6,
                    4,
                    0,
                    3,
                    7
                  ],
                  "j": [
                    3,
                    4,
                    1,
                    2,
                    5,
                    6,
                    5,
                    5,
                    0,
                    1,
                    2,
                    2
                  ],
                  "k": [
                    0,
                    7,
                    2,
                    3,
                    6,
                    7,
                    1,
                    2,
                    5,
                    5,
                    7,
                    6
                  ],
                  "opacity": 1,
                  "type": "mesh3d",
                  "x": [
                    0,
                    0,
                    204,
                    204,
                    0,
                    0,
                    204,
                    204
                  ],
                  "y": [
                    168,
                    233,
                    233,
                    168,
                    168,
                    233,
                    233,
                    168
                  ],
                  "z": [
                    100,
                    100,
                    100,
                    100,
                    150,
                    150,
                    150,
                    150
                  ]
                },
                {
                  "color": "rgb(51.64432512047169,145.57215359727564,241.2336535147464)",
                  "i": [
                    7,
                    0,
                    0,
                    0,
                    4,
                    4,
                    2,
                    6,
                    4,
                    0,
                    3,
                    7
                  ],
                  "j": [
                    3,
                    4,
                    1,
                    2,
                    5,
                    6,
                    5,
                    5,
                    0,
                    1,
                    2,
                    2
                  ],
                  "k": [
                    0,
                    7,
                    2,
                    3,
                    6,
                    7,
                    1,
                    2,
                    5,
                    5,
                    7,
                    6
                  ],
                  "opacity": 1,
                  "type": "mesh3d",
                  "x": [
                    411,
                    411,
                    587,
                    587,
                    411,
                    411,
                    587,
                    587
                  ],
                  "y": [
                    45,
                    233,
                    233,
                    45,
                    45,
                    233,
                    233,
                    45
                  ],
                  "z": [
                    100,
                    100,
                    100,
                    100,
                    150,
                    150,
                    150,
                    150
                  ]
                },
                {
                  "color": "rgb(233.00080214101357,239.76538459704182,95.91849085721675)",
                  "i": [
                    7,
                    0,
                    0,
                    0,
                    4,
                    4,
                    2,
                    6,
                    4,
                    0,
                    3,
                    7
                  ],
                  "j": [
                    3,
                    4,
                    1,
                    2,
                    5,
                    6,
                    5,
                    5,
                    0,
                    1,
                    2,
                    2
                  ],
                  "k": [
                    0,
                    7,
                    2,
                    3,
                    6,
                    7,
                    1,
                    2,
                    5,
                    5,
                    7,
                    6
                  ],
                  "opacity": 1,
                  "type": "mesh3d",
                  "x": [
                    344,
                    344,
                    587,
                    587,
                    344,
                    344,
                    587,
                    587
                  ],
                  "y": [
                    0,
                    45,
                    45,
                    0,
                    0,
                    45,
                    45,
                    0
                  ],
                  "z": [
                    102,
                    102,
                    102,
                    102,
                    136,
                    136,
                    136,
                    136
                  ]
                },
                {
                  "color": "rgb(144.59635713472247,103.39297523427688,4.712864010134315)",
                  "i": [
                    7,
                    0,
                    0,
                    0,
                    4,
                    4,
                    2,
                    6,
                    4,
                    0,
                    3,
                    7
                  ],
                  "j": [
                    3,
                    4,
                    1,
                    2,
                    5,
                    6,
                    5,
                    5,
                    0,
                    1,
                    2,
                    2
                  ],
                  "k": [
                    0,
                    7,
                    2,
                    3,
                    6,
                    7,
                    1,
                    2,
                    5,
                    5,
                    7,
                    6
                  ],
                  "opacity": 1,
                  "type": "mesh3d",
                  "x": [
                    0,
                    0,
                    312,
                    312,
                    0,
                    0,
                    312,
                    312
                  ],
                  "y": [
                    0,
                    73,
                    73,
                    0,
                    0,
                    73,
                    73,
                    0
                  ],
                  "z": [
                    130,
                    130,
                    130,
                    130,
                    170,
                    170,
                    170,
                    170
                  ]
                },
                {
                  "color": "rgb(15.016065051160934,211.7597928432551,244.1367618125907)",
                  "i": [
                    7,
                    0,
                    0,
                    0,
                    4,
                    4,
                    2,
                    6,
                    4,
                    0,
                    3,
                    7
                  ],
                  "j": [
                    3,
                    4,
                    1,
                    2,
                    5,
                    6,
                    5,
                    5,
                    0,
                    1,
                    2,
                    2
                  ],
                  "k": [
                    0,
                    7,
                    2,
                    3,
                    6,
                    7,
                    1,
                    2,
                    5,
                    5,
                    7,
                    6
                  ],
                  "opacity": 1,
                  "type": "mesh3d",
                  "x": [
                    344,
                    344,
                    587,
                    587,
                    344,
                    344,
                    587,
                    587
                  ],
                  "y": [
                    0,
                    45,
                    45,
                    0,
                    0,
                    45,
                    45,
                    0
                  ],
                  "z": [
                    136,
                    136,
                    136,
                    136,
                    170,
                    170,
                    170,
                    170
                  ]
                },
                {
                  "color": "rgb(146.80449443128862,56.18459828042624,251.96410761068796)",
                  "i": [
                    7,
                    0,
                    0,
                    0,
                    4,
                    4,
                    2,
                    6,
                    4,
                    0,
                    3,
                    7
                  ],
                  "j": [
                    3,
                    4,
                    1,
                    2,
                    5,
                    6,
                    5,
                    5,
                    0,
                    1,
                    2,
                    2
                  ],
                  "k": [
                    0,
                    7,
                    2,
                    3,
                    6,
                    7,
                    1,
                    2,
                    5,
                    5,
                    7,
                    6
                  ],
                  "opacity": 1,
                  "type": "mesh3d",
                  "x": [
                    0,
                    0,
                    140,
                    140,
                    0,
                    0,
                    140,
                    140
                  ],
                  "y": [
                    179,
                    233,
                    233,
                    179,
                    179,
                    233,
                    233,
                    179
                  ],
                  "z": [
                    150,
                    150,
                    150,
                    150,
                    187,
                    187,
                    187,
                    187
                  ]
                },
                {
                  "color": "rgb(142.0164158928422,103.25418553209914,168.29266925029575)",
                  "i": [
                    7,
                    0,
                    0,
                    0,
                    4,
                    4,
                    2,
                    6,
                    4,
                    0,
                    3,
                    7
                  ],
                  "j": [
                    3,
                    4,
                    1,
                    2,
                    5,
                    6,
                    5,
                    5,
                    0,
                    1,
                    2,
                    2
                  ],
                  "k": [
                    0,
                    7,
                    2,
                    3,
                    6,
                    7,
                    1,
                    2,
                    5,
                    5,
                    7,
                    6
                  ],
                  "opacity": 1,
                  "type": "mesh3d",
                  "x": [
                    437,
                    437,
                    587,
                    587,
                    437,
                    437,
                    587,
                    587
                  ],
                  "y": [
                    83,
                    233,
                    233,
                    83,
                    83,
                    233,
                    233,
                    83
                  ],
                  "z": [
                    150,
                    150,
                    150,
                    150,
                    186,
                    186,
                    186,
                    186
                  ]
                },
                {
                  "color": "rgb(5.045394927076239,138.19707677130057,100.4486327662205)",
                  "i": [
                    7,
                    0,
                    0,
                    0,
                    4,
                    4,
                    2,
                    6,
                    4,
                    0,
                    3,
                    7
                  ],
                  "j": [
                    3,
                    4,
                    1,
                    2,
                    5,
                    6,
                    5,
                    5,
                    0,
                    1,
                    2,
                    2
                  ],
                  "k": [
                    0,
                    7,
                    2,
                    3,
                    6,
                    7,
                    1,
                    2,
                    5,
                    5,
                    7,
                    6
                  ],
                  "opacity": 1,
                  "type": "mesh3d",
                  "x": [
                    0,
                    0,
                    156,
                    156,
                    0,
                    0,
                    156,
                    156
                  ],
                  "y": [
                    95,
                    168,
                    168,
                    95,
                    95,
                    168,
                    168,
                    95
                  ],
                  "z": [
                    90,
                    90,
                    90,
                    90,
                    130,
                    130,
                    130,
                    130
                  ]
                },
                {
                  "color": "rgb(106.7118955602093,219.21400989293105,93.70029743605679)",
                  "i": [
                    7,
                    0,
                    0,
                    0,
                    4,
                    4,
                    2,
                    6,
                    4,
                    0,
                    3,
                    7
                  ],
                  "j": [
                    3,
                    4,
                    1,
                    2,
                    5,
                    6,
                    5,
                    5,
                    0,
                    1,
                    2,
                    2
                  ],
                  "k": [
                    0,
                    7,
                    2,
                    3,
                    6,
                    7,
                    1,
                    2,
                    5,
                    5,
                    7,
                    6
                  ],
                  "opacity": 1,
                  "type": "mesh3d",
                  "x": [
                    0,
                    0,
                    280,
                    280,
                    0,
                    0,
                    280,
                    280
                  ],
                  "y": [
                    0,
                    54,
                    54,
                    0,
                    0,
                    54,
                    54,
                    0
                  ],
                  "z": [
                    170,
                    170,
                    170,
                    170,
                    207,
                    207,
                    207,
                    207
                  ]
                },
                {
                  "color": "rgb(192.31670606305522,19.41755233188048,185.13570290946075)",
                  "i": [
                    7,
                    0,
                    0,
                    0,
                    4,
                    4,
                    2,
                    6,
                    4,
                    0,
                    3,
                    7
                  ],
                  "j": [
                    3,
                    4,
                    1,
                    2,
                    5,
                    6,
                    5,
                    5,
                    0,
                    1,
                    2,
                    2
                  ],
                  "k": [
                    0,
                    7,
                    2,
                    3,
                    6,
                    7,
                    1,
                    2,
                    5,
                    5,
                    7,
                    6
                  ],
                  "opacity": 1,
                  "type": "mesh3d",
                  "x": [
                    344,
                    344,
                    587,
                    587,
                    344,
                    344,
                    587,
                    587
                  ],
                  "y": [
                    0,
                    45,
                    45,
                    0,
                    0,
                    45,
                    45,
                    0
                  ],
                  "z": [
                    170,
                    170,
                    170,
                    170,
                    204,
                    204,
                    204,
                    204
                  ]
                },
                {
                  "color": "rgb(46.48136732312464,243.11184849075082,63.401111202926494)",
                  "i": [
                    7,
                    0,
                    0,
                    0,
                    4,
                    4,
                    2,
                    6,
                    4,
                    0,
                    3,
                    7
                  ],
                  "j": [
                    3,
                    4,
                    1,
                    2,
                    5,
                    6,
                    5,
                    5,
                    0,
                    1,
                    2,
                    2
                  ],
                  "k": [
                    0,
                    7,
                    2,
                    3,
                    6,
                    7,
                    1,
                    2,
                    5,
                    5,
                    7,
                    6
                  ],
                  "opacity": 1,
                  "type": "mesh3d",
                  "x": [
                    204,
                    204,
                    411,
                    411,
                    204,
                    204,
                    411,
                    411
                  ],
                  "y": [
                    170,
                    233,
                    233,
                    170,
                    170,
                    233,
                    233,
                    170
                  ],
                  "z": [
                    0,
                    0,
                    0,
                    0,
                    46,
                    46,
                    46,
                    46
                  ]
                },
                {
                  "color": "rgb(89.30236352219771,78.60164541640373,213.787797449703)",
                  "i": [
                    7,
                    0,
                    0,
                    0,
                    4,
                    4,
                    2,
                    6,
                    4,
                    0,
                    3,
                    7
                  ],
                  "j": [
                    3,
                    4,
                    1,
                    2,
                    5,
                    6,
                    5,
                    5,
                    0,
                    1,
                    2,
                    2
                  ],
                  "k": [
                    0,
                    7,
                    2,
                    3,
                    6,
                    7,
                    1,
                    2,
                    5,
                    5,
                    7,
                    6
                  ],
                  "opacity": 1,
                  "type": "mesh3d",
                  "x": [
                    506,
                    506,
                    587,
                    587,
                    506,
                    506,
                    587,
                    587
                  ],
                  "y": [
                    188,
                    233,
                    233,
                    188,
                    188,
                    233,
                    233,
                    188
                  ],
                  "z": [
                    186,
                    186,
                    186,
                    186,
                    220,
                    220,
                    220,
                    220
                  ]
                },
                {
                  "color": "rgb(98.29387549217218,225.85831239078763,225.03893298377255)",
                  "i": [
                    7,
                    0,
                    0,
                    0,
                    4,
                    4,
                    2,
                    6,
                    4,
                    0,
                    3,
                    7
                  ],
                  "j": [
                    3,
                    4,
                    1,
                    2,
                    5,
                    6,
                    5,
                    5,
                    0,
                    1,
                    2,
                    2
                  ],
                  "k": [
                    0,
                    7,
                    2,
                    3,
                    6,
                    7,
                    1,
                    2,
                    5,
                    5,
                    7,
                    6
                  ],
                  "opacity": 1,
                  "type": "mesh3d",
                  "x": [
                    0,
                    0,
                    140,
                    140,
                    0,
                    0,
                    140,
                    140
                  ],
                  "y": [
                    114,
                    168,
                    168,
                    114,
                    114,
                    168,
                    168,
                    114
                  ],
                  "z": [
                    130,
                    130,
                    130,
                    130,
                    167,
                    167,
                    167,
                    167
                  ]
                },
                {
                  "color": "rgb(140.73041335119976,209.14765538530702,190.43921662087138)",
                  "i": [
                    7,
                    0,
                    0,
                    0,
                    4,
                    4,
                    2,
                    6,
                    4,
                    0,
                    3,
                    7
                  ],
                  "j": [
                    3,
                    4,
                    1,
                    2,
                    5,
                    6,
                    5,
                    5,
                    0,
                    1,
                    2,
                    2
                  ],
                  "k": [
                    0,
                    7,
                    2,
                    3,
                    6,
                    7,
                    1,
                    2,
                    5,
                    5,
                    7,
                    6
                  ],
                  "opacity": 1,
                  "type": "mesh3d",
                  "x": [
                    344,
                    344,
                    411,
                    411,
                    344,
                    344,
                    411,
                    411
                  ],
                  "y": [
                    45,
                    157,
                    157,
                    45,
                    45,
                    157,
                    157,
                    45
                  ],
                  "z": [
                    0,
                    0,
                    0,
                    0,
                    72,
                    72,
                    72,
                    72
                  ]
                },
                {
                  "color": "rgb(112.07615149822192,206.03025764839816,242.06450614276415)",
                  "i": [
                    7,
                    0,
                    0,
                    0,
                    4,
                    4,
                    2,
                    6,
                    4,
                    0,
                    3,
                    7
                  ],
                  "j": [
                    3,
                    4,
                    1,
                    2,
                    5,
                    6,
                    5,
                    5,
                    0,
                    1,
                    2,
                    2
                  ],
                  "k": [
                    0,
                    7,
                    2,
                    3,
                    6,
                    7,
                    1,
                    2,
                    5,
                    5,
                    7,
                    6
                  ],
                  "opacity": 1,
                  "type": "mesh3d",
                  "x": [
                    204,
                    204,
                    411,
                    411,
                    204,
                    204,
                    411,
                    411
                  ],
                  "y": [
                    170,
                    233,
                    233,
                    170,
                    170,
                    233,
                    233,
                    170
                  ],
                  "z": [
                    46,
                    46,
                    46,
                    46,
                    92,
                    92,
                    92,
                    92
                  ]
                },
                {
                  "color": "rgb(235.66179895196976,195.11630663389124,247.5921055524221)",
                  "i": [
                    7,
                    0,
                    0,
                    0,
                    4,
                    4,
                    2,
                    6,
                    4,
                    0,
                    3,
                    7
                  ],
                  "j": [
                    3,
                    4,
                    1,
                    2,
                    5,
                    6,
                    5,
                    5,
                    0,
                    1,
                    2,
                    2
                  ],
                  "k": [
                    0,
                    7,
                    2,
                    3,
                    6,
                    7,
                    1,
                    2,
                    5,
                    5,
                    7,
                    6
                  ],
                  "opacity": 1,
                  "type": "mesh3d",
                  "x": [
                    0,
                    0,
                    140,
                    140,
                    0,
                    0,
                    140,
                    140
                  ],
                  "y": [
                    114,
                    168,
                    168,
                    114,
                    114,
                    168,
                    168,
                    114
                  ],
                  "z": [
                    167,
                    167,
                    167,
                    167,
                    204,
                    204,
                    204,
                    204
                  ]
                },
                {
                  "color": "rgb(187.9716325895721,212.62717050917794,102.80975736852676)",
                  "i": [
                    7,
                    0,
                    0,
                    0,
                    4,
                    4,
                    2,
                    6,
                    4,
                    0,
                    3,
                    7
                  ],
                  "j": [
                    3,
                    4,
                    1,
                    2,
                    5,
                    6,
                    5,
                    5,
                    0,
                    1,
                    2,
                    2
                  ],
                  "k": [
                    0,
                    7,
                    2,
                    3,
                    6,
                    7,
                    1,
                    2,
                    5,
                    5,
                    7,
                    6
                  ],
                  "opacity": 1,
                  "type": "mesh3d",
                  "x": [
                    204,
                    204,
                    411,
                    411,
                    204,
                    204,
                    411,
                    411
                  ],
                  "y": [
                    170,
                    233,
                    233,
                    170,
                    170,
                    233,
                    233,
                    170
                  ],
                  "z": [
                    92,
                    92,
                    92,
                    92,
                    138,
                    138,
                    138,
                    138
                  ]
                },
                {
                  "color": "rgb(22.721153357688134,254.1277763466765,250.8248054469922)",
                  "i": [
                    7,
                    0,
                    0,
                    0,
                    4,
                    4,
                    2,
                    6,
                    4,
                    0,
                    3,
                    7
                  ],
                  "j": [
                    3,
                    4,
                    1,
                    2,
                    5,
                    6,
                    5,
                    5,
                    0,
                    1,
                    2,
                    2
                  ],
                  "k": [
                    0,
                    7,
                    2,
                    3,
                    6,
                    7,
                    1,
                    2,
                    5,
                    5,
                    7,
                    6
                  ],
                  "opacity": 1,
                  "type": "mesh3d",
                  "x": [
                    355,
                    355,
                    411,
                    411,
                    355,
                    355,
                    411,
                    411
                  ],
                  "y": [
                    45,
                    112,
                    112,
                    45,
                    45,
                    112,
                    112,
                    45
                  ],
                  "z": [
                    72,
                    72,
                    72,
                    72,
                    144,
                    144,
                    144,
                    144
                  ]
                },
                {
                  "color": "rgb(84.1866497730995,12.291884979139999,28.883500394129534)",
                  "i": [
                    7,
                    0,
                    0,
                    0,
                    4,
                    4,
                    2,
                    6,
                    4,
                    0,
                    3,
                    7
                  ],
                  "j": [
                    3,
                    4,
                    1,
                    2,
                    5,
                    6,
                    5,
                    5,
                    0,
                    1,
                    2,
                    2
                  ],
                  "k": [
                    0,
                    7,
                    2,
                    3,
                    6,
                    7,
                    1,
                    2,
                    5,
                    5,
                    7,
                    6
                  ],
                  "opacity": 1,
                  "type": "mesh3d",
                  "x": [
                    156,
                    156,
                    306,
                    306,
                    156,
                    156,
                    306,
                    306
                  ],
                  "y": [
                    93,
                    168,
                    168,
                    93,
                    93,
                    168,
                    168,
                    93
                  ],
                  "z": [
                    90,
                    90,
                    90,
                    90,
                    126,
                    126,
                    126,
                    126
                  ]
                },
                {
                  "color": "rgb(206.5728925630422,51.68791857927634,158.05507881016095)",
                  "i": [
                    7,
                    0,
                    0,
                    0,
                    4,
                    4,
                    2,
                    6,
                    4,
                    0,
                    3,
                    7
                  ],
                  "j": [
                    3,
                    4,
                    1,
                    2,
                    5,
                    6,
                    5,
                    5,
                    0,
                    1,
                    2,
                    2
                  ],
                  "k": [
                    0,
                    7,
                    2,
                    3,
                    6,
                    7,
                    1,
                    2,
                    5,
                    5,
                    7,
                    6
                  ],
                  "opacity": 1,
                  "type": "mesh3d",
                  "x": [
                    204,
                    204,
                    411,
                    411,
                    204,
                    204,
                    411,
                    411
                  ],
                  "y": [
                    170,
                    233,
                    233,
                    170,
                    170,
                    233,
                    233,
                    170
                  ],
                  "z": [
                    138,
                    138,
                    138,
                    138,
                    184,
                    184,
                    184,
                    184
                  ]
                },
                {
                  "color": "rgb(254.1194859734012,132.66416699972655,154.10684081733865)",
                  "i": [
                    7,
                    0,
                    0,
                    0,
                    4,
                    4,
                    2,
                    6,
                    4,
                    0,
                    3,
                    7
                  ],
                  "j": [
                    3,
                    4,
                    1,
                    2,
                    5,
                    6,
                    5,
                    5,
                    0,
                    1,
                    2,
                    2
                  ],
                  "k": [
                    0,
                    7,
                    2,
                    3,
                    6,
                    7,
                    1,
                    2,
                    5,
                    5,
                    7,
                    6
                  ],
                  "opacity": 1,
                  "type": "mesh3d",
                  "x": [
                    156,
                    156,
                    306,
                    306,
                    156,
                    156,
                    306,
                    306
                  ],
                  "y": [
                    93,
                    168,
                    168,
                    93,
                    93,
                    168,
                    168,
                    93
                  ],
                  "z": [
                    126,
                    126,
                    126,
                    126,
                    162,
                    162,
                    162,
                    162
                  ]
                },
                {
                  "color": "rgb(224.61594559638655,72.71371692554531,131.41841584648688)",
                  "i": [
                    7,
                    0,
                    0,
                    0,
                    4,
                    4,
                    2,
                    6,
                    4,
                    0,
                    3,
                    7
                  ],
                  "j": [
                    3,
                    4,
                    1,
                    2,
                    5,
                    6,
                    5,
                    5,
                    0,
                    1,
                    2,
                    2
                  ],
                  "k": [
                    0,
                    7,
                    2,
                    3,
                    6,
                    7,
                    1,
                    2,
                    5,
                    5,
                    7,
                    6
                  ],
                  "opacity": 1,
                  "type": "mesh3d",
                  "x": [
                    156,
                    156,
                    296,
                    296,
                    156,
                    156,
                    296,
                    296
                  ],
                  "y": [
                    114,
                    168,
                    168,
                    114,
                    114,
                    168,
                    168,
                    114
                  ],
                  "z": [
                    162,
                    162,
                    162,
                    162,
                    199,
                    199,
                    199,
                    199
                  ]
                }
              ],
              "layout": {
                "autosize": false,
                "margin": {
                  "b": 0,
                  "l": 0,
                  "r": 0,
                  "t": 0
                },
                "paper_bgcolor": "rgba(0,0,0,0)",
                "scene": {
                  "camera": {
                    "center": {
                      "x": 0,
                      "y": 0,
                      "z": 0
                    },
                    "eye": {
                      "x": -2,
                      "y": 2,
                      "z": 1.5
                    },
                    "up": {
                      "x": 0,
                      "y": 0,
                      "z": 1
                    }
                  },
                  "xaxis": {
                    "nticks": 10,
                    "range": [
                      0,
                      587
                    ],
                    "showspikes": false
                  },
                  "yaxis": {
                    "nticks": 5,
                    "range": [
                      0,
                      233
                    ],
                    "showspikes": false
                  },
                  "zaxis": {
                    "nticks": 5,
                    "range": [
                      0,
                      220
                    ],
                    "tickfont": {
                      "size": 15
                    }
                  }
                },
                "template": {
                  "data": {
                    "bar": [
                      {
                        "error_x": {
                          "color": "#2a3f5f"
                        },
                        "error_y": {
                          "color": "#2a3f5f"
                        },
                        "marker": {
                          "line": {
                            "color": "#E5ECF6",
                            "width": 0.5
                          },
                          "pattern": {
                            "fillmode": "overlay",
                            "size": 10,
                            "solidity": 0.2
                          }
                        },
                        "type": "bar"
                      }
                    ],
                    "barpolar": [
                      {
                        "marker": {
                          "line": {
                            "color": "#E5ECF6",
                            "width": 0.5
                          },
                          "pattern": {
                            "fillmode": "overlay",
                            "size": 10,
                            "solidity": 0.2
                          }
                        },
                        "type": "barpolar"
                      }
                    ],
                    "carpet": [
                      {
                        "aaxis": {
                          "endlinecolor": "#2a3f5f",
                          "gridcolor": "white",
                          "linecolor": "white",
                          "minorgridcolor": "white",
                          "startlinecolor": "#2a3f5f"
                        },
                        "baxis": {
                          "endlinecolor": "#2a3f5f",
                          "gridcolor": "white",
                          "linecolor": "white",
                          "minorgridcolor": "white",
                          "startlinecolor": "#2a3f5f"
                        },
                        "type": "carpet"
                      }
                    ],
                    "choropleth": [
                      {
                        "colorbar": {
                          "outlinewidth": 0,
                          "ticks": ""
                        },
                        "type": "choropleth"
                      }
                    ],
                    "contour": [
                      {
                        "colorbar": {
                          "outlinewidth": 0,
                          "ticks": ""
                        },
                        "colorscale": [
                          [
                            0,
                            "#0d0887"
                          ],
                          [
                            0.1111111111111111,
                            "#46039f"
                          ],
                          [
                            0.2222222222222222,
                            "#7201a8"
                          ],
                          [
                            0.3333333333333333,
                            "#9c179e"
                          ],
                          [
                            0.4444444444444444,
                            "#bd3786"
                          ],
                          [
                            0.5555555555555556,
                            "#d8576b"
                          ],
                          [
                            0.6666666666666666,
                            "#ed7953"
                          ],
                          [
                            0.7777777777777778,
                            "#fb9f3a"
                          ],
                          [
                            0.8888888888888888,
                            "#fdca26"
                          ],
                          [
                            1,
                            "#f0f921"
                          ]
                        ],
                        "type": "contour"
                      }
                    ],
                    "contourcarpet": [
                      {
                        "colorbar": {
                          "outlinewidth": 0,
                          "ticks": ""
                        },
                        "type": "contourcarpet"
                      }
                    ],
                    "heatmap": [
                      {
                        "colorbar": {
                          "outlinewidth": 0,
                          "ticks": ""
                        },
                        "colorscale": [
                          [
                            0,
                            "#0d0887"
                          ],
                          [
                            0.1111111111111111,
                            "#46039f"
                          ],
                          [
                            0.2222222222222222,
                            "#7201a8"
                          ],
                          [
                            0.3333333333333333,
                            "#9c179e"
                          ],
                          [
                            0.4444444444444444,
                            "#bd3786"
                          ],
                          [
                            0.5555555555555556,
                            "#d8576b"
                          ],
                          [
                            0.6666666666666666,
                            "#ed7953"
                          ],
                          [
                            0.7777777777777778,
                            "#fb9f3a"
                          ],
                          [
                            0.8888888888888888,
                            "#fdca26"
                          ],
                          [
                            1,
                            "#f0f921"
                          ]
                        ],
                        "type": "heatmap"
                      }
                    ],
                    "heatmapgl": [
                      {
                        "colorbar": {
                          "outlinewidth": 0,
                          "ticks": ""
                        },
                        "colorscale": [
                          [
                            0,
                            "#0d0887"
                          ],
                          [
                            0.1111111111111111,
                            "#46039f"
                          ],
                          [
                            0.2222222222222222,
                            "#7201a8"
                          ],
                          [
                            0.3333333333333333,
                            "#9c179e"
                          ],
                          [
                            0.4444444444444444,
                            "#bd3786"
                          ],
                          [
                            0.5555555555555556,
                            "#d8576b"
                          ],
                          [
                            0.6666666666666666,
                            "#ed7953"
                          ],
                          [
                            0.7777777777777778,
                            "#fb9f3a"
                          ],
                          [
                            0.8888888888888888,
                            "#fdca26"
                          ],
                          [
                            1,
                            "#f0f921"
                          ]
                        ],
                        "type": "heatmapgl"
                      }
                    ],
                    "histogram": [
                      {
                        "marker": {
                          "pattern": {
                            "fillmode": "overlay",
                            "size": 10,
                            "solidity": 0.2
                          }
                        },
                        "type": "histogram"
                      }
                    ],
                    "histogram2d": [
                      {
                        "colorbar": {
                          "outlinewidth": 0,
                          "ticks": ""
                        },
                        "colorscale": [
                          [
                            0,
                            "#0d0887"
                          ],
                          [
                            0.1111111111111111,
                            "#46039f"
                          ],
                          [
                            0.2222222222222222,
                            "#7201a8"
                          ],
                          [
                            0.3333333333333333,
                            "#9c179e"
                          ],
                          [
                            0.4444444444444444,
                            "#bd3786"
                          ],
                          [
                            0.5555555555555556,
                            "#d8576b"
                          ],
                          [
                            0.6666666666666666,
                            "#ed7953"
                          ],
                          [
                            0.7777777777777778,
                            "#fb9f3a"
                          ],
                          [
                            0.8888888888888888,
                            "#fdca26"
                          ],
                          [
                            1,
                            "#f0f921"
                          ]
                        ],
                        "type": "histogram2d"
                      }
                    ],
                    "histogram2dcontour": [
                      {
                        "colorbar": {
                          "outlinewidth": 0,
                          "ticks": ""
                        },
                        "colorscale": [
                          [
                            0,
                            "#0d0887"
                          ],
                          [
                            0.1111111111111111,
                            "#46039f"
                          ],
                          [
                            0.2222222222222222,
                            "#7201a8"
                          ],
                          [
                            0.3333333333333333,
                            "#9c179e"
                          ],
                          [
                            0.4444444444444444,
                            "#bd3786"
                          ],
                          [
                            0.5555555555555556,
                            "#d8576b"
                          ],
                          [
                            0.6666666666666666,
                            "#ed7953"
                          ],
                          [
                            0.7777777777777778,
                            "#fb9f3a"
                          ],
                          [
                            0.8888888888888888,
                            "#fdca26"
                          ],
                          [
                            1,
                            "#f0f921"
                          ]
                        ],
                        "type": "histogram2dcontour"
                      }
                    ],
                    "mesh3d": [
                      {
                        "colorbar": {
                          "outlinewidth": 0,
                          "ticks": ""
                        },
                        "type": "mesh3d"
                      }
                    ],
                    "parcoords": [
                      {
                        "line": {
                          "colorbar": {
                            "outlinewidth": 0,
                            "ticks": ""
                          }
                        },
                        "type": "parcoords"
                      }
                    ],
                    "pie": [
                      {
                        "automargin": true,
                        "type": "pie"
                      }
                    ],
                    "scatter": [
                      {
                        "fillpattern": {
                          "fillmode": "overlay",
                          "size": 10,
                          "solidity": 0.2
                        },
                        "type": "scatter"
                      }
                    ],
                    "scatter3d": [
                      {
                        "line": {
                          "colorbar": {
                            "outlinewidth": 0,
                            "ticks": ""
                          }
                        },
                        "marker": {
                          "colorbar": {
                            "outlinewidth": 0,
                            "ticks": ""
                          }
                        },
                        "type": "scatter3d"
                      }
                    ],
                    "scattercarpet": [
                      {
                        "marker": {
                          "colorbar": {
                            "outlinewidth": 0,
                            "ticks": ""
                          }
                        },
                        "type": "scattercarpet"
                      }
                    ],
                    "scattergeo": [
                      {
                        "marker": {
                          "colorbar": {
                            "outlinewidth": 0,
                            "ticks": ""
                          }
                        },
                        "type": "scattergeo"
                      }
                    ],
                    "scattergl": [
                      {
                        "marker": {
                          "colorbar": {
                            "outlinewidth": 0,
                            "ticks": ""
                          }
                        },
                        "type": "scattergl"
                      }
                    ],
                    "scattermapbox": [
                      {
                        "marker": {
                          "colorbar": {
                            "outlinewidth": 0,
                            "ticks": ""
                          }
                        },
                        "type": "scattermapbox"
                      }
                    ],
                    "scatterpolar": [
                      {
                        "marker": {
                          "colorbar": {
                            "outlinewidth": 0,
                            "ticks": ""
                          }
                        },
                        "type": "scatterpolar"
                      }
                    ],
                    "scatterpolargl": [
                      {
                        "marker": {
                          "colorbar": {
                            "outlinewidth": 0,
                            "ticks": ""
                          }
                        },
                        "type": "scatterpolargl"
                      }
                    ],
                    "scatterternary": [
                      {
                        "marker": {
                          "colorbar": {
                            "outlinewidth": 0,
                            "ticks": ""
                          }
                        },
                        "type": "scatterternary"
                      }
                    ],
                    "surface": [
                      {
                        "colorbar": {
                          "outlinewidth": 0,
                          "ticks": ""
                        },
                        "colorscale": [
                          [
                            0,
                            "#0d0887"
                          ],
                          [
                            0.1111111111111111,
                            "#46039f"
                          ],
                          [
                            0.2222222222222222,
                            "#7201a8"
                          ],
                          [
                            0.3333333333333333,
                            "#9c179e"
                          ],
                          [
                            0.4444444444444444,
                            "#bd3786"
                          ],
                          [
                            0.5555555555555556,
                            "#d8576b"
                          ],
                          [
                            0.6666666666666666,
                            "#ed7953"
                          ],
                          [
                            0.7777777777777778,
                            "#fb9f3a"
                          ],
                          [
                            0.8888888888888888,
                            "#fdca26"
                          ],
                          [
                            1,
                            "#f0f921"
                          ]
                        ],
                        "type": "surface"
                      }
                    ],
                    "table": [
                      {
                        "cells": {
                          "fill": {
                            "color": "#EBF0F8"
                          },
                          "line": {
                            "color": "white"
                          }
                        },
                        "header": {
                          "fill": {
                            "color": "#C8D4E3"
                          },
                          "line": {
                            "color": "white"
                          }
                        },
                        "type": "table"
                      }
                    ]
                  },
                  "layout": {
                    "annotationdefaults": {
                      "arrowcolor": "#2a3f5f",
                      "arrowhead": 0,
                      "arrowwidth": 1
                    },
                    "autotypenumbers": "strict",
                    "coloraxis": {
                      "colorbar": {
                        "outlinewidth": 0,
                        "ticks": ""
                      }
                    },
                    "colorscale": {
                      "diverging": [
                        [
                          0,
                          "#8e0152"
                        ],
                        [
                          0.1,
                          "#c51b7d"
                        ],
                        [
                          0.2,
                          "#de77ae"
                        ],
                        [
                          0.3,
                          "#f1b6da"
                        ],
                        [
                          0.4,
                          "#fde0ef"
                        ],
                        [
                          0.5,
                          "#f7f7f7"
                        ],
                        [
                          0.6,
                          "#e6f5d0"
                        ],
                        [
                          0.7,
                          "#b8e186"
                        ],
                        [
                          0.8,
                          "#7fbc41"
                        ],
                        [
                          0.9,
                          "#4d9221"
                        ],
                        [
                          1,
                          "#276419"
                        ]
                      ],
                      "sequential": [
                        [
                          0,
                          "#0d0887"
                        ],
                        [
                          0.1111111111111111,
                          "#46039f"
                        ],
                        [
                          0.2222222222222222,
                          "#7201a8"
                        ],
                        [
                          0.3333333333333333,
                          "#9c179e"
                        ],
                        [
                          0.4444444444444444,
                          "#bd3786"
                        ],
                        [
                          0.5555555555555556,
                          "#d8576b"
                        ],
                        [
                          0.6666666666666666,
                          "#ed7953"
                        ],
                        [
                          0.7777777777777778,
                          "#fb9f3a"
                        ],
                        [
                          0.8888888888888888,
                          "#fdca26"
                        ],
                        [
                          1,
                          "#f0f921"
                        ]
                      ],
                      "sequentialminus": [
                        [
                          0,
                          "#0d0887"
                        ],
                        [
                          0.1111111111111111,
                          "#46039f"
                        ],
                        [
                          0.2222222222222222,
                          "#7201a8"
                        ],
                        [
                          0.3333333333333333,
                          "#9c179e"
                        ],
                        [
                          0.4444444444444444,
                          "#bd3786"
                        ],
                        [
                          0.5555555555555556,
                          "#d8576b"
                        ],
                        [
                          0.6666666666666666,
                          "#ed7953"
                        ],
                        [
                          0.7777777777777778,
                          "#fb9f3a"
                        ],
                        [
                          0.8888888888888888,
                          "#fdca26"
                        ],
                        [
                          1,
                          "#f0f921"
                        ]
                      ]
                    },
                    "colorway": [
                      "#636efa",
                      "#EF553B",
                      "#00cc96",
                      "#ab63fa",
                      "#FFA15A",
                      "#19d3f3",
                      "#FF6692",
                      "#B6E880",
                      "#FF97FF",
                      "#FECB52"
                    ],
                    "font": {
                      "color": "#2a3f5f"
                    },
                    "geo": {
                      "bgcolor": "white",
                      "lakecolor": "white",
                      "landcolor": "#E5ECF6",
                      "showlakes": true,
                      "showland": true,
                      "subunitcolor": "white"
                    },
                    "hoverlabel": {
                      "align": "left"
                    },
                    "hovermode": "closest",
                    "mapbox": {
                      "style": "light"
                    },
                    "paper_bgcolor": "white",
                    "plot_bgcolor": "#E5ECF6",
                    "polar": {
                      "angularaxis": {
                        "gridcolor": "white",
                        "linecolor": "white",
                        "ticks": ""
                      },
                      "bgcolor": "#E5ECF6",
                      "radialaxis": {
                        "gridcolor": "white",
                        "linecolor": "white",
                        "ticks": ""
                      }
                    },
                    "scene": {
                      "xaxis": {
                        "backgroundcolor": "#E5ECF6",
                        "gridcolor": "white",
                        "gridwidth": 2,
                        "linecolor": "white",
                        "showbackground": true,
                        "ticks": "",
                        "zerolinecolor": "white"
                      },
                      "yaxis": {
                        "backgroundcolor": "#E5ECF6",
                        "gridcolor": "white",
                        "gridwidth": 2,
                        "linecolor": "white",
                        "showbackground": true,
                        "ticks": "",
                        "zerolinecolor": "white"
                      },
                      "zaxis": {
                        "backgroundcolor": "#E5ECF6",
                        "gridcolor": "white",
                        "gridwidth": 2,
                        "linecolor": "white",
                        "showbackground": true,
                        "ticks": "",
                        "zerolinecolor": "white"
                      }
                    },
                    "shapedefaults": {
                      "line": {
                        "color": "#2a3f5f"
                      }
                    },
                    "ternary": {
                      "aaxis": {
                        "gridcolor": "white",
                        "linecolor": "white",
                        "ticks": ""
                      },
                      "baxis": {
                        "gridcolor": "white",
                        "linecolor": "white",
                        "ticks": ""
                      },
                      "bgcolor": "#E5ECF6",
                      "caxis": {
                        "gridcolor": "white",
                        "linecolor": "white",
                        "ticks": ""
                      }
                    },
                    "title": {
                      "x": 0.05
                    },
                    "xaxis": {
                      "automargin": true,
                      "gridcolor": "white",
                      "linecolor": "white",
                      "ticks": "",
                      "title": {
                        "standoff": 15
                      },
                      "zerolinecolor": "white",
                      "zerolinewidth": 2
                    },
                    "yaxis": {
                      "automargin": true,
                      "gridcolor": "white",
                      "linecolor": "white",
                      "ticks": "",
                      "title": {
                        "standoff": 15
                      },
                      "zerolinecolor": "white",
                      "zerolinewidth": 2
                    }
                  }
                }
              }
            }
          },
          "metadata": {},
          "output_type": "display_data"
        }
      ],
      "source": [
        "cont, execution_time,total_volume = MLCP_function(alpha=5.0,beta=1.0,gamma=0.1,delta=1.0,p=0.02,instance=5)\n",
        "\n",
        "L = cont.l;W = cont.w; H = cont.h\n",
        "\n",
        "box_dims = []\n",
        "for aabb in cont.aabbs:\n",
        "  box_dims.append([aabb.xmin,aabb.ymin,aabb.zmin,aabb.xmax,aabb.ymax,aabb.zmax])\n",
        "\n",
        "bxplot.plot_container([L,W,H], box_dims)"
      ]
    }
  ],
  "metadata": {
    "colab": {
      "provenance": []
    },
    "kernelspec": {
      "display_name": "Python 3",
      "name": "python3"
    },
    "language_info": {
      "codemirror_mode": {
        "name": "ipython",
        "version": 3
      },
      "file_extension": ".py",
      "mimetype": "text/x-python",
      "name": "python",
      "nbconvert_exporter": "python",
      "pygments_lexer": "ipython3",
      "version": "3.9.6"
    }
  },
  "nbformat": 4,
  "nbformat_minor": 0
}
