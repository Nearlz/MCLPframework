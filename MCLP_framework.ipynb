{
  "cells": [
    {
      "cell_type": "code",
      "execution_count": 1,
      "metadata": {
        "colab": {
          "base_uri": "https://localhost:8080/"
        },
        "id": "I0nlZKgpCP3o",
        "outputId": "8f377390-ebd5-4f14-cd9b-bf486d8894f9"
      },
      "outputs": [
        {
          "name": "stdout",
          "output_type": "stream",
          "text": [
            "b1: Block: l: 4 w: 2 h: True weight: 1 volume: 8 occupied_volume: 8 items: {<src.base.Boxtype object at 0x000002406424FEB0>: 1} ratio:1.0\n",
            "b2: Block: l: 2 w: 3 h: True weight: 1 volume: 6 occupied_volume: 6 items: {<src.base.Boxtype object at 0x000002406424FF10>: 1} ratio:1.0\n",
            "b3: Block: l: True w: 2 h: 1 weight: 1 volume: 2 occupied_volume: 2 items: {<src.base.Boxtype object at 0x000002406424FC40>: 1} ratio:1.0\n",
            "False b1+b2: Block: l: 4 w: 2 h: True weight: 1 volume: 8 occupied_volume: 8 items: {<src.base.Boxtype object at 0x000002406424FEB0>: 1} ratio:1.0\n",
            "False b1+b3: Block: l: 4 w: 2 h: True weight: 1 volume: 8 occupied_volume: 8 items: {<src.base.Boxtype object at 0x000002406424FEB0>: 1} ratio:1.0\n",
            "True b1+b1: Block: l: 8 w: 2 h: True weight: 2 volume: 16 occupied_volume: 16 items: {<src.base.Boxtype object at 0x000002406424FEB0>: 2} ratio:1.0\n"
          ]
        }
      ],
      "source": [
        "from src.base import Block, Boxtype\n",
        "import src.vcs_function as eval\n",
        "import src.box_plotter as bxplot\n",
        "\n",
        "#test Blocks\n",
        "b1 = Block(boxtype=Boxtype(1,2,4,True,True,True,1), rot='wlh')\n",
        "b2 = Block(boxtype=Boxtype(1,2,3,True,True,True,1), rot='lwh')\n",
        "b3 = Block(boxtype=Boxtype(1,1,2,True,True,True,1), rot='hwl')\n",
        "\n",
        "#test join\n",
        "print(\"b1:\",b1); print(\"b2:\",b2); print(\"b3:\",b3)\n",
        "t=b1.join(b2, 'y'); print(t,\"b1+b2:\",b1)\n",
        "t=b1.join(b3, 'z'); print(t,\"b1+b3:\",b1)\n",
        "t=b1.join(b1, 'x'); print(t,\"b1+b1:\",b1)"
      ]
    },
    {
      "attachments": {},
      "cell_type": "markdown",
      "metadata": {
        "id": "fkcg_ZG9ijg_"
      },
      "source": [
        "## Plot container"
      ]
    },
    {
      "cell_type": "code",
      "execution_count": 2,
      "metadata": {
        "id": "Y1ePisniGkvs"
      },
      "outputs": [],
      "source": [
        "def load_instance(filename = \"instancia.txt\", type=\"BF\", id_instance=0):\n",
        "    with open(filename, \"r\") as file:\n",
        "        #discard first line\n",
        "        file.readline()\n",
        "      \n",
        "        for j in range(100):\n",
        "            file.readline()\n",
        "            L, W, H = [int(x) for x in file.readline().split()]\n",
        "\n",
        "            #read second line\n",
        "            n = int(file.readline())\n",
        "            #read n lines\n",
        "            items = Itemdict()\n",
        "            for i in range(n):\n",
        "                id, l, rotx, w, roty, h, rotz, n = [int(x) for x in file.readline().split()]    \n",
        "                item = Boxtype(id, l, w, h, rotx, roty, rotz, 1)\n",
        "                items[item]=n\n",
        "            \n",
        "            if j == id_instance: return  items, L, W, H\n"
      ]
    },
    {
      "cell_type": "code",
      "execution_count": 3,
      "metadata": {},
      "outputs": [],
      "source": [
        "def adyacent_blocks(blocks,L,W,H):\n",
        "    last = blocks[-1]\n",
        "    adyacent = list()\n",
        "    box_dims = []\n",
        "    \n",
        "    for block in blocks[:-1]:\n",
        "        \n",
        "        if block.xmax == last.xmin and ((block.zmin < last.zmax and block.zmax > last.zmin ) and (block.ymin < last.ymax and block.ymax > last.ymin )):\n",
        "            z_diff_max = max([block.zmin,last.zmin])\n",
        "            z_diff_min = min([block.zmax,last.zmax])\n",
        "            y_diff_max = max([block.ymin,last.ymin])\n",
        "            y_diff_min = min([block.ymax,last.ymax])\n",
        "            adyacent.append(block)\n",
        "            block.covered_surface+= (z_diff_min-z_diff_max) * (y_diff_min-y_diff_max)\n",
        "            block.covered_surface_face['X1']+= (z_diff_min-z_diff_max) * (y_diff_min-y_diff_max)\n",
        "            last.covered_surface+= (z_diff_min-z_diff_max) * (y_diff_min-y_diff_max)\n",
        "            last.covered_surface_face['X2']+= (z_diff_min-z_diff_max) * (y_diff_min-y_diff_max)\n",
        "\n",
        "        elif block.xmin == last.xmax and ((block.zmin < last.zmax and block.zmax > last.zmin ) and (block.ymin < last.ymax and block.ymax > last.ymin )):\n",
        "            z_diff_max = max([block.zmin,last.zmin])\n",
        "            z_diff_min = min([block.zmax,last.zmax])\n",
        "            y_diff_max = max([block.ymin,last.ymin])\n",
        "            y_diff_min = min([block.ymax,last.ymax])\n",
        "            adyacent.append(block)\n",
        "            block.covered_surface+= (z_diff_min-z_diff_max) * (y_diff_min-y_diff_max)\n",
        "            block.covered_surface_face['X2']+= (z_diff_min-z_diff_max) * (y_diff_min-y_diff_max)\n",
        "            last.covered_surface+= (z_diff_min-z_diff_max) * (y_diff_min-y_diff_max)\n",
        "            last.covered_surface_face['X1']+= (z_diff_min-z_diff_max) * (y_diff_min-y_diff_max)\n",
        "\n",
        "        elif block.ymax == last.ymin and ((block.zmin < last.zmax and block.zmax > last.zmin ) and (block.xmin < last.xmax and block.xmax > last.xmin )):\n",
        "            z_diff_max = max([block.zmin,last.zmin])\n",
        "            z_diff_min = min([block.zmax,last.zmax])\n",
        "            x_diff_max = max([block.xmin,last.xmin])\n",
        "            x_diff_min = min([block.xmax,last.xmax])\n",
        "            adyacent.append(block)\n",
        "            block.covered_surface+= (z_diff_min-z_diff_max) * (x_diff_min-x_diff_max)\n",
        "            block.covered_surface_face['Y1']+= (z_diff_min-z_diff_max) * (x_diff_min-x_diff_max)\n",
        "            last.covered_surface+= (z_diff_min-z_diff_max) * (x_diff_min-x_diff_max)\n",
        "            last.covered_surface_face['Y2']+= (z_diff_min-z_diff_max) * (x_diff_min-x_diff_max)\n",
        "\n",
        "        elif block.ymin == last.ymax and ((block.zmin < last.zmax and block.zmax > last.zmin ) and (block.xmin < last.xmax and block.xmax > last.xmin )):\n",
        "            z_diff_max = max([block.zmin,last.zmin])\n",
        "            z_diff_min = min([block.zmax,last.zmax])\n",
        "            x_diff_max = max([block.xmin,last.xmin])\n",
        "            x_diff_min = min([block.xmax,last.xmax])\n",
        "            adyacent.append(block)\n",
        "            block.covered_surface+= (z_diff_min-z_diff_max) * (x_diff_min-x_diff_max)\n",
        "            block.covered_surface_face['Y2']+= (z_diff_min-z_diff_max) * (x_diff_min-x_diff_max)\n",
        "            last.covered_surface+= (z_diff_min-z_diff_max) * (x_diff_min-x_diff_max)\n",
        "            last.covered_surface_face['Y1']+= (z_diff_min-z_diff_max) * (x_diff_min-x_diff_max)\n",
        "\n",
        "        elif block.zmax == last.zmin and ((block.ymin < last.ymax and block.ymax > last.ymin ) and (block.xmin < last.xmax and block.xmax > last.xmin )):\n",
        "            y_diff_max = max([block.ymin,last.ymin])\n",
        "            y_diff_min = min([block.ymax,last.ymax])\n",
        "            x_diff_max = max([block.xmin,last.xmin])\n",
        "            x_diff_min = min([block.xmax,last.xmax])\n",
        "            adyacent.append(block)\n",
        "            block.covered_surface+= (y_diff_min-y_diff_max) * (x_diff_min-x_diff_max)\n",
        "            # block.covered_surface_face['Z1']+= (y_diff_min-y_diff_max) * (x_diff_min-x_diff_max)\n",
        "            last.covered_surface+= (y_diff_min-y_diff_max) * (x_diff_min-x_diff_max)\n",
        "            # last.covered_surface_face['Z2']+= (y_diff_min-y_diff_max) * (x_diff_min-x_diff_max)\n",
        "\n",
        "        elif block.zmin == last.zmax and ((block.ymin < last.ymax and block.ymax > last.ymin ) and (block.xmin < last.xmax and block.xmax > last.xmin )):\n",
        "            y_diff_max = max([block.ymin,last.ymin])\n",
        "            y_diff_min = min([block.ymax,last.ymax])\n",
        "            x_diff_max = max([block.xmin,last.xmin])\n",
        "            x_diff_min = min([block.xmax,last.xmax])\n",
        "            adyacent.append(block)\n",
        "            block.covered_surface+= (y_diff_min-y_diff_max) * (x_diff_min-x_diff_max)\n",
        "            # block.covered_surface_face['Z2']+= (y_diff_min-y_diff_max) * (x_diff_min-x_diff_max)\n",
        "            last.covered_surface+= (y_diff_min-y_diff_max) * (x_diff_min-x_diff_max)\n",
        "            # last.covered_surface_face['Z1']+= (y_diff_min-y_diff_max) * (x_diff_min-x_diff_max)\n",
        "            \n",
        "    # if(len(adyacent)!=0):\n",
        "        # print(last.covered_surface_face)\n",
        "        # box_dims.append([last.xmin,last.ymin,last.zmin,last.xmax,last.ymax,last.zmax])\n",
        "        # for aabb in adyacent:\n",
        "        #     box_dims.append([aabb.xmin,aabb.ymin,aabb.zmin,aabb.xmax,aabb.ymax,aabb.zmax])\n",
        "        # bxplot.plot_container([L,W,H], box_dims)\n",
        "    pass"
      ]
    },
    {
      "attachments": {},
      "cell_type": "markdown",
      "metadata": {
        "id": "7uoXha4GlgGj"
      },
      "source": [
        "# The main code"
      ]
    },
    {
      "cell_type": "code",
      "execution_count": 4,
      "metadata": {
        "colab": {
          "base_uri": "https://localhost:8080/"
        },
        "id": "j43GfNpc5eiS",
        "outputId": "81cbc06a-4aca-4c48-f89b-cd27ac5f0753"
      },
      "outputs": [
        {
          "name": "stdout",
          "output_type": "stream",
          "text": [
            "{<src.base.Boxtype object at 0x000002407AA100A0>: 1}\n",
            "{<src.base.Boxtype object at 0x000002407AA100A0>: 1}\n",
            "{<src.base.Boxtype object at 0x000002407AA100A0>: 1}\n",
            "{<src.base.Boxtype object at 0x000002407AA100A0>: 1}\n",
            "{<src.base.Boxtype object at 0x000002407AA13D90>: 1}\n",
            "{<src.base.Boxtype object at 0x000002407AA13D90>: 1}\n",
            "{<src.base.Boxtype object at 0x000002407AA13D90>: 1}\n",
            "{<src.base.Boxtype object at 0x000002407AA13D90>: 1}\n",
            "{<src.base.Boxtype object at 0x000002407AA13D90>: 1}\n",
            "{<src.base.Boxtype object at 0x000002407AA13D90>: 1}\n",
            "{<src.base.Boxtype object at 0x000002407AA12380>: 1}\n",
            "{<src.base.Boxtype object at 0x000002407AA12380>: 1}\n",
            "{<src.base.Boxtype object at 0x000002407AA12380>: 1}\n",
            "{<src.base.Boxtype object at 0x000002407AA12380>: 1}\n",
            "{<src.base.Boxtype object at 0x000002407AA12380>: 1}\n",
            "{<src.base.Boxtype object at 0x000002407AA12380>: 1}\n",
            "{<src.base.Boxtype object at 0x000002407AA12350>: 1}\n",
            "{<src.base.Boxtype object at 0x000002407AA12350>: 1}\n",
            "{<src.base.Boxtype object at 0x000002407AA12350>: 1}\n",
            "{<src.base.Boxtype object at 0x000002407AA12350>: 1}\n",
            "{<src.base.Boxtype object at 0x000002407AA12350>: 1}\n",
            "{<src.base.Boxtype object at 0x000002407AA12350>: 1}\n",
            "{<src.base.Boxtype object at 0x000002407AA12320>: 1}\n",
            "{<src.base.Boxtype object at 0x000002407AA12320>: 1}\n",
            "{<src.base.Boxtype object at 0x000002407AA12320>: 1}\n",
            "{<src.base.Boxtype object at 0x000002407AA12320>: 1}\n",
            "{<src.base.Boxtype object at 0x000002407AA122F0>: 1}\n",
            "{<src.base.Boxtype object at 0x000002407AA122F0>: 1}\n",
            "{<src.base.Boxtype object at 0x000002407AA122F0>: 1}\n",
            "{<src.base.Boxtype object at 0x000002407AA122F0>: 1}\n",
            "{<src.base.Boxtype object at 0x000002407AA122F0>: 1}\n",
            "{<src.base.Boxtype object at 0x000002407AA122F0>: 1}\n",
            "{<src.base.Boxtype object at 0x000002407AA113C0>: 1}\n",
            "{<src.base.Boxtype object at 0x000002407AA113C0>: 1}\n",
            "{<src.base.Boxtype object at 0x000002407AA113C0>: 1}\n",
            "{<src.base.Boxtype object at 0x000002407AA113C0>: 1}\n",
            "{<src.base.Boxtype object at 0x000002407AA113C0>: 1}\n",
            "{<src.base.Boxtype object at 0x000002407AA113C0>: 1}\n",
            "{<src.base.Boxtype object at 0x000002407AA11390>: 1}\n",
            "{<src.base.Boxtype object at 0x000002407AA11390>: 1}\n",
            "{<src.base.Boxtype object at 0x000002407AA12A70>: 1}\n",
            "{<src.base.Boxtype object at 0x000002407AA12A70>: 1}\n",
            "{<src.base.Boxtype object at 0x000002407AA12A70>: 1}\n",
            "{<src.base.Boxtype object at 0x000002407AA12A70>: 1}\n",
            "{<src.base.Boxtype object at 0x000002407AA12A70>: 1}\n",
            "{<src.base.Boxtype object at 0x000002407AA12A70>: 1}\n",
            "{<src.base.Boxtype object at 0x000002407AA11360>: 1}\n",
            "{<src.base.Boxtype object at 0x000002407AA11360>: 1}\n",
            "{<src.base.Boxtype object at 0x000002407AA11360>: 1}\n",
            "{<src.base.Boxtype object at 0x000002407AA11360>: 1}\n",
            "{<src.base.Boxtype object at 0x000002407AA100A0>: 2}\n",
            "{<src.base.Boxtype object at 0x000002407AA100A0>: 2}\n",
            "{<src.base.Boxtype object at 0x000002407AA100A0>: 2}\n",
            "{<src.base.Boxtype object at 0x000002407AA100A0>: 2}\n",
            "{<src.base.Boxtype object at 0x000002407AA100A0>: 2}\n",
            "{<src.base.Boxtype object at 0x000002407AA100A0>: 2}\n",
            "{<src.base.Boxtype object at 0x000002407AA100A0>: 2}\n",
            "{<src.base.Boxtype object at 0x000002407AA100A0>: 2}\n",
            "{<src.base.Boxtype object at 0x000002407AA100A0>: 2}\n",
            "{<src.base.Boxtype object at 0x000002407AA100A0>: 2}\n",
            "{<src.base.Boxtype object at 0x000002407AA100A0>: 2}\n",
            "{<src.base.Boxtype object at 0x000002407AA100A0>: 2}\n",
            "{<src.base.Boxtype object at 0x000002407AA13D90>: 2}\n",
            "{<src.base.Boxtype object at 0x000002407AA13D90>: 2}\n",
            "{<src.base.Boxtype object at 0x000002407AA13D90>: 2}\n",
            "{<src.base.Boxtype object at 0x000002407AA13D90>: 2}\n",
            "{<src.base.Boxtype object at 0x000002407AA13D90>: 2}\n",
            "{<src.base.Boxtype object at 0x000002407AA13D90>: 2}\n",
            "{<src.base.Boxtype object at 0x000002407AA13D90>: 2}\n",
            "{<src.base.Boxtype object at 0x000002407AA13D90>: 2}\n",
            "{<src.base.Boxtype object at 0x000002407AA13D90>: 2}\n",
            "{<src.base.Boxtype object at 0x000002407AA13D90>: 2}\n",
            "{<src.base.Boxtype object at 0x000002407AA13D90>: 2}\n",
            "{<src.base.Boxtype object at 0x000002407AA13D90>: 2}\n",
            "{<src.base.Boxtype object at 0x000002407AA13D90>: 2}\n",
            "{<src.base.Boxtype object at 0x000002407AA13D90>: 2}\n",
            "{<src.base.Boxtype object at 0x000002407AA13D90>: 2}\n",
            "{<src.base.Boxtype object at 0x000002407AA13D90>: 2}\n",
            "{<src.base.Boxtype object at 0x000002407AA13D90>: 2}\n",
            "{<src.base.Boxtype object at 0x000002407AA13D90>: 2}\n",
            "{<src.base.Boxtype object at 0x000002407AA12380>: 2}\n",
            "{<src.base.Boxtype object at 0x000002407AA12380>: 2}\n",
            "{<src.base.Boxtype object at 0x000002407AA12380>: 2}\n",
            "{<src.base.Boxtype object at 0x000002407AA12380>: 2}\n",
            "{<src.base.Boxtype object at 0x000002407AA12380>: 2}\n",
            "{<src.base.Boxtype object at 0x000002407AA12380>: 2}\n",
            "{<src.base.Boxtype object at 0x000002407AA12380>: 2}\n",
            "{<src.base.Boxtype object at 0x000002407AA12380>: 2}\n",
            "{<src.base.Boxtype object at 0x000002407AA12380>: 2}\n",
            "{<src.base.Boxtype object at 0x000002407AA12380>: 2}\n",
            "{<src.base.Boxtype object at 0x000002407AA12380>: 2}\n",
            "{<src.base.Boxtype object at 0x000002407AA12380>: 2}\n",
            "{<src.base.Boxtype object at 0x000002407AA12380>: 2}\n",
            "{<src.base.Boxtype object at 0x000002407AA12380>: 2}\n",
            "{<src.base.Boxtype object at 0x000002407AA12380>: 2}\n",
            "{<src.base.Boxtype object at 0x000002407AA12380>: 2}\n",
            "{<src.base.Boxtype object at 0x000002407AA12380>: 2}\n",
            "{<src.base.Boxtype object at 0x000002407AA12380>: 2}\n",
            "{<src.base.Boxtype object at 0x000002407AA12350>: 2}\n",
            "{<src.base.Boxtype object at 0x000002407AA12350>: 2}\n",
            "{<src.base.Boxtype object at 0x000002407AA12350>: 2}\n",
            "{<src.base.Boxtype object at 0x000002407AA12350>: 2}\n",
            "{<src.base.Boxtype object at 0x000002407AA12350>: 2}\n",
            "{<src.base.Boxtype object at 0x000002407AA12350>: 2}\n",
            "{<src.base.Boxtype object at 0x000002407AA12350>: 2}\n",
            "{<src.base.Boxtype object at 0x000002407AA12350>: 2}\n",
            "{<src.base.Boxtype object at 0x000002407AA12350>: 2}\n",
            "{<src.base.Boxtype object at 0x000002407AA12350>: 2}\n",
            "{<src.base.Boxtype object at 0x000002407AA12350>: 2}\n",
            "{<src.base.Boxtype object at 0x000002407AA12350>: 2}\n",
            "{<src.base.Boxtype object at 0x000002407AA12350>: 2}\n",
            "{<src.base.Boxtype object at 0x000002407AA12350>: 2}\n",
            "{<src.base.Boxtype object at 0x000002407AA12350>: 2}\n",
            "{<src.base.Boxtype object at 0x000002407AA12350>: 2}\n",
            "{<src.base.Boxtype object at 0x000002407AA12350>: 2}\n",
            "{<src.base.Boxtype object at 0x000002407AA12350>: 2}\n",
            "{<src.base.Boxtype object at 0x000002407AA12320>: 2}\n",
            "{<src.base.Boxtype object at 0x000002407AA12320>: 2}\n",
            "{<src.base.Boxtype object at 0x000002407AA12320>: 2}\n",
            "{<src.base.Boxtype object at 0x000002407AA12320>: 2}\n",
            "{<src.base.Boxtype object at 0x000002407AA12320>: 2}\n",
            "{<src.base.Boxtype object at 0x000002407AA12320>: 2}\n",
            "{<src.base.Boxtype object at 0x000002407AA12320>: 2}\n",
            "{<src.base.Boxtype object at 0x000002407AA12320>: 2}\n",
            "{<src.base.Boxtype object at 0x000002407AA12320>: 2}\n",
            "{<src.base.Boxtype object at 0x000002407AA12320>: 2}\n",
            "{<src.base.Boxtype object at 0x000002407AA12320>: 2}\n",
            "{<src.base.Boxtype object at 0x000002407AA12320>: 2}\n",
            "{<src.base.Boxtype object at 0x000002407AA122F0>: 2}\n",
            "{<src.base.Boxtype object at 0x000002407AA122F0>: 2}\n",
            "{<src.base.Boxtype object at 0x000002407AA122F0>: 2}\n",
            "{<src.base.Boxtype object at 0x000002407AA122F0>: 2}\n",
            "{<src.base.Boxtype object at 0x000002407AA122F0>: 2}\n",
            "{<src.base.Boxtype object at 0x000002407AA122F0>: 2}\n",
            "{<src.base.Boxtype object at 0x000002407AA122F0>: 2}\n",
            "{<src.base.Boxtype object at 0x000002407AA122F0>: 2}\n",
            "{<src.base.Boxtype object at 0x000002407AA122F0>: 2}\n",
            "{<src.base.Boxtype object at 0x000002407AA122F0>: 2}\n",
            "{<src.base.Boxtype object at 0x000002407AA122F0>: 2}\n",
            "{<src.base.Boxtype object at 0x000002407AA122F0>: 2}\n",
            "{<src.base.Boxtype object at 0x000002407AA122F0>: 2}\n",
            "{<src.base.Boxtype object at 0x000002407AA122F0>: 2}\n",
            "{<src.base.Boxtype object at 0x000002407AA122F0>: 2}\n",
            "{<src.base.Boxtype object at 0x000002407AA122F0>: 2}\n",
            "{<src.base.Boxtype object at 0x000002407AA122F0>: 2}\n",
            "{<src.base.Boxtype object at 0x000002407AA122F0>: 2}\n",
            "{<src.base.Boxtype object at 0x000002407AA113C0>: 2}\n",
            "{<src.base.Boxtype object at 0x000002407AA113C0>: 2}\n",
            "{<src.base.Boxtype object at 0x000002407AA113C0>: 2}\n",
            "{<src.base.Boxtype object at 0x000002407AA113C0>: 2}\n",
            "{<src.base.Boxtype object at 0x000002407AA113C0>: 2}\n",
            "{<src.base.Boxtype object at 0x000002407AA113C0>: 2}\n",
            "{<src.base.Boxtype object at 0x000002407AA113C0>: 2}\n",
            "{<src.base.Boxtype object at 0x000002407AA113C0>: 2}\n",
            "{<src.base.Boxtype object at 0x000002407AA113C0>: 2}\n",
            "{<src.base.Boxtype object at 0x000002407AA113C0>: 2}\n",
            "{<src.base.Boxtype object at 0x000002407AA113C0>: 2}\n",
            "{<src.base.Boxtype object at 0x000002407AA113C0>: 2}\n",
            "{<src.base.Boxtype object at 0x000002407AA113C0>: 2}\n",
            "{<src.base.Boxtype object at 0x000002407AA113C0>: 2}\n",
            "{<src.base.Boxtype object at 0x000002407AA113C0>: 2}\n",
            "{<src.base.Boxtype object at 0x000002407AA113C0>: 2}\n",
            "{<src.base.Boxtype object at 0x000002407AA113C0>: 2}\n",
            "{<src.base.Boxtype object at 0x000002407AA113C0>: 2}\n",
            "{<src.base.Boxtype object at 0x000002407AA11390>: 2}\n",
            "{<src.base.Boxtype object at 0x000002407AA11390>: 2}\n",
            "{<src.base.Boxtype object at 0x000002407AA11390>: 2}\n",
            "{<src.base.Boxtype object at 0x000002407AA11390>: 2}\n",
            "{<src.base.Boxtype object at 0x000002407AA11390>: 2}\n",
            "{<src.base.Boxtype object at 0x000002407AA11390>: 2}\n",
            "{<src.base.Boxtype object at 0x000002407AA12A70>: 2}\n",
            "{<src.base.Boxtype object at 0x000002407AA12A70>: 2}\n",
            "{<src.base.Boxtype object at 0x000002407AA12A70>: 2}\n",
            "{<src.base.Boxtype object at 0x000002407AA12A70>: 2}\n",
            "{<src.base.Boxtype object at 0x000002407AA12A70>: 2}\n",
            "{<src.base.Boxtype object at 0x000002407AA12A70>: 2}\n",
            "{<src.base.Boxtype object at 0x000002407AA12A70>: 2}\n",
            "{<src.base.Boxtype object at 0x000002407AA12A70>: 2}\n",
            "{<src.base.Boxtype object at 0x000002407AA12A70>: 2}\n",
            "{<src.base.Boxtype object at 0x000002407AA12A70>: 2}\n",
            "{<src.base.Boxtype object at 0x000002407AA12A70>: 2}\n",
            "{<src.base.Boxtype object at 0x000002407AA12A70>: 2}\n",
            "{<src.base.Boxtype object at 0x000002407AA12A70>: 2}\n",
            "{<src.base.Boxtype object at 0x000002407AA12A70>: 2}\n",
            "{<src.base.Boxtype object at 0x000002407AA12A70>: 2}\n",
            "{<src.base.Boxtype object at 0x000002407AA12A70>: 2}\n",
            "{<src.base.Boxtype object at 0x000002407AA12A70>: 2}\n",
            "{<src.base.Boxtype object at 0x000002407AA12A70>: 2}\n",
            "{<src.base.Boxtype object at 0x000002407AA11360>: 2}\n",
            "{<src.base.Boxtype object at 0x000002407AA11360>: 2}\n",
            "{<src.base.Boxtype object at 0x000002407AA11360>: 2}\n",
            "{<src.base.Boxtype object at 0x000002407AA11360>: 2}\n",
            "{<src.base.Boxtype object at 0x000002407AA11360>: 2}\n",
            "{<src.base.Boxtype object at 0x000002407AA11360>: 2}\n",
            "{<src.base.Boxtype object at 0x000002407AA11360>: 2}\n",
            "{<src.base.Boxtype object at 0x000002407AA11360>: 2}\n",
            "{<src.base.Boxtype object at 0x000002407AA11360>: 2}\n",
            "{<src.base.Boxtype object at 0x000002407AA11360>: 2}\n",
            "{<src.base.Boxtype object at 0x000002407AA11360>: 2}\n",
            "{<src.base.Boxtype object at 0x000002407AA11360>: 2}\n",
            "{<src.base.Boxtype object at 0x000002407AA100A0>: 3}\n",
            "{<src.base.Boxtype object at 0x000002407AA100A0>: 4}\n",
            "{<src.base.Boxtype object at 0x000002407AA100A0>: 4}\n",
            "{<src.base.Boxtype object at 0x000002407AA100A0>: 4}\n",
            "{<src.base.Boxtype object at 0x000002407AA100A0>: 3}\n",
            "{<src.base.Boxtype object at 0x000002407AA100A0>: 4}\n",
            "{<src.base.Boxtype object at 0x000002407AA100A0>: 4}\n",
            "{<src.base.Boxtype object at 0x000002407AA100A0>: 4}\n",
            "{<src.base.Boxtype object at 0x000002407AA100A0>: 3}\n",
            "{<src.base.Boxtype object at 0x000002407AA100A0>: 4}\n",
            "{<src.base.Boxtype object at 0x000002407AA100A0>: 4}\n",
            "{<src.base.Boxtype object at 0x000002407AA100A0>: 4}\n",
            "{<src.base.Boxtype object at 0x000002407AA100A0>: 3}\n",
            "{<src.base.Boxtype object at 0x000002407AA100A0>: 4}\n",
            "{<src.base.Boxtype object at 0x000002407AA100A0>: 4}\n",
            "{<src.base.Boxtype object at 0x000002407AA100A0>: 4}\n",
            "{<src.base.Boxtype object at 0x000002407AA100A0>: 3}\n",
            "{<src.base.Boxtype object at 0x000002407AA100A0>: 4}\n",
            "{<src.base.Boxtype object at 0x000002407AA100A0>: 4}\n",
            "{<src.base.Boxtype object at 0x000002407AA100A0>: 4}\n",
            "{<src.base.Boxtype object at 0x000002407AA100A0>: 3}\n",
            "{<src.base.Boxtype object at 0x000002407AA100A0>: 4}\n",
            "{<src.base.Boxtype object at 0x000002407AA100A0>: 4}\n",
            "{<src.base.Boxtype object at 0x000002407AA100A0>: 4}\n",
            "{<src.base.Boxtype object at 0x000002407AA100A0>: 3}\n",
            "{<src.base.Boxtype object at 0x000002407AA100A0>: 4}\n",
            "{<src.base.Boxtype object at 0x000002407AA100A0>: 4}\n",
            "{<src.base.Boxtype object at 0x000002407AA100A0>: 4}\n",
            "{<src.base.Boxtype object at 0x000002407AA100A0>: 3}\n",
            "{<src.base.Boxtype object at 0x000002407AA100A0>: 4}\n",
            "{<src.base.Boxtype object at 0x000002407AA100A0>: 4}\n",
            "{<src.base.Boxtype object at 0x000002407AA100A0>: 4}\n",
            "{<src.base.Boxtype object at 0x000002407AA100A0>: 3}\n",
            "{<src.base.Boxtype object at 0x000002407AA100A0>: 4}\n",
            "{<src.base.Boxtype object at 0x000002407AA100A0>: 4}\n",
            "{<src.base.Boxtype object at 0x000002407AA100A0>: 4}\n",
            "{<src.base.Boxtype object at 0x000002407AA100A0>: 3}\n",
            "{<src.base.Boxtype object at 0x000002407AA100A0>: 4}\n",
            "{<src.base.Boxtype object at 0x000002407AA100A0>: 4}\n",
            "{<src.base.Boxtype object at 0x000002407AA100A0>: 4}\n",
            "{<src.base.Boxtype object at 0x000002407AA100A0>: 3}\n",
            "{<src.base.Boxtype object at 0x000002407AA100A0>: 4}\n",
            "{<src.base.Boxtype object at 0x000002407AA100A0>: 4}\n",
            "{<src.base.Boxtype object at 0x000002407AA100A0>: 4}\n",
            "{<src.base.Boxtype object at 0x000002407AA100A0>: 3}\n",
            "{<src.base.Boxtype object at 0x000002407AA100A0>: 4}\n",
            "{<src.base.Boxtype object at 0x000002407AA100A0>: 4}\n",
            "{<src.base.Boxtype object at 0x000002407AA100A0>: 4}\n",
            "{<src.base.Boxtype object at 0x000002407AA13D90>: 3}\n",
            "{<src.base.Boxtype object at 0x000002407AA13D90>: 4}\n",
            "{<src.base.Boxtype object at 0x000002407AA13D90>: 4}\n",
            "{<src.base.Boxtype object at 0x000002407AA13D90>: 4}\n",
            "{<src.base.Boxtype object at 0x000002407AA13D90>: 3}\n",
            "{<src.base.Boxtype object at 0x000002407AA13D90>: 4}\n",
            "{<src.base.Boxtype object at 0x000002407AA13D90>: 4}\n",
            "{<src.base.Boxtype object at 0x000002407AA13D90>: 4}\n",
            "{<src.base.Boxtype object at 0x000002407AA13D90>: 3}\n",
            "{<src.base.Boxtype object at 0x000002407AA13D90>: 4}\n",
            "{<src.base.Boxtype object at 0x000002407AA13D90>: 4}\n",
            "{<src.base.Boxtype object at 0x000002407AA13D90>: 4}\n",
            "{<src.base.Boxtype object at 0x000002407AA13D90>: 3}\n",
            "{<src.base.Boxtype object at 0x000002407AA13D90>: 4}\n",
            "{<src.base.Boxtype object at 0x000002407AA13D90>: 4}\n",
            "{<src.base.Boxtype object at 0x000002407AA13D90>: 4}\n",
            "{<src.base.Boxtype object at 0x000002407AA13D90>: 3}\n",
            "{<src.base.Boxtype object at 0x000002407AA13D90>: 4}\n",
            "{<src.base.Boxtype object at 0x000002407AA13D90>: 4}\n",
            "{<src.base.Boxtype object at 0x000002407AA13D90>: 4}\n",
            "{<src.base.Boxtype object at 0x000002407AA13D90>: 3}\n",
            "{<src.base.Boxtype object at 0x000002407AA13D90>: 4}\n",
            "{<src.base.Boxtype object at 0x000002407AA13D90>: 4}\n",
            "{<src.base.Boxtype object at 0x000002407AA13D90>: 3}\n",
            "{<src.base.Boxtype object at 0x000002407AA13D90>: 4}\n",
            "{<src.base.Boxtype object at 0x000002407AA13D90>: 4}\n",
            "{<src.base.Boxtype object at 0x000002407AA13D90>: 4}\n",
            "{<src.base.Boxtype object at 0x000002407AA13D90>: 3}\n",
            "{<src.base.Boxtype object at 0x000002407AA13D90>: 4}\n",
            "{<src.base.Boxtype object at 0x000002407AA13D90>: 4}\n",
            "{<src.base.Boxtype object at 0x000002407AA13D90>: 4}\n",
            "{<src.base.Boxtype object at 0x000002407AA13D90>: 3}\n",
            "{<src.base.Boxtype object at 0x000002407AA13D90>: 4}\n",
            "{<src.base.Boxtype object at 0x000002407AA13D90>: 4}\n",
            "{<src.base.Boxtype object at 0x000002407AA13D90>: 3}\n",
            "{<src.base.Boxtype object at 0x000002407AA13D90>: 4}\n",
            "{<src.base.Boxtype object at 0x000002407AA13D90>: 4}\n",
            "{<src.base.Boxtype object at 0x000002407AA13D90>: 4}\n",
            "{<src.base.Boxtype object at 0x000002407AA13D90>: 3}\n",
            "{<src.base.Boxtype object at 0x000002407AA13D90>: 4}\n",
            "{<src.base.Boxtype object at 0x000002407AA13D90>: 4}\n",
            "{<src.base.Boxtype object at 0x000002407AA13D90>: 4}\n",
            "{<src.base.Boxtype object at 0x000002407AA13D90>: 3}\n",
            "{<src.base.Boxtype object at 0x000002407AA13D90>: 4}\n",
            "{<src.base.Boxtype object at 0x000002407AA13D90>: 4}\n",
            "{<src.base.Boxtype object at 0x000002407AA13D90>: 4}\n",
            "{<src.base.Boxtype object at 0x000002407AA13D90>: 3}\n",
            "{<src.base.Boxtype object at 0x000002407AA13D90>: 4}\n",
            "{<src.base.Boxtype object at 0x000002407AA13D90>: 4}\n",
            "{<src.base.Boxtype object at 0x000002407AA13D90>: 4}\n",
            "{<src.base.Boxtype object at 0x000002407AA13D90>: 3}\n",
            "{<src.base.Boxtype object at 0x000002407AA13D90>: 4}\n",
            "{<src.base.Boxtype object at 0x000002407AA13D90>: 4}\n",
            "{<src.base.Boxtype object at 0x000002407AA13D90>: 3}\n",
            "{<src.base.Boxtype object at 0x000002407AA13D90>: 4}\n",
            "{<src.base.Boxtype object at 0x000002407AA13D90>: 4}\n",
            "{<src.base.Boxtype object at 0x000002407AA13D90>: 4}\n",
            "{<src.base.Boxtype object at 0x000002407AA13D90>: 3}\n",
            "{<src.base.Boxtype object at 0x000002407AA13D90>: 4}\n",
            "{<src.base.Boxtype object at 0x000002407AA13D90>: 4}\n",
            "{<src.base.Boxtype object at 0x000002407AA13D90>: 4}\n",
            "{<src.base.Boxtype object at 0x000002407AA13D90>: 3}\n",
            "{<src.base.Boxtype object at 0x000002407AA13D90>: 4}\n",
            "{<src.base.Boxtype object at 0x000002407AA13D90>: 4}\n",
            "{<src.base.Boxtype object at 0x000002407AA13D90>: 3}\n",
            "{<src.base.Boxtype object at 0x000002407AA13D90>: 4}\n",
            "{<src.base.Boxtype object at 0x000002407AA13D90>: 4}\n",
            "{<src.base.Boxtype object at 0x000002407AA13D90>: 4}\n",
            "{<src.base.Boxtype object at 0x000002407AA12380>: 3}\n",
            "{<src.base.Boxtype object at 0x000002407AA12380>: 4}\n",
            "{<src.base.Boxtype object at 0x000002407AA12380>: 4}\n",
            "{<src.base.Boxtype object at 0x000002407AA12380>: 4}\n",
            "{<src.base.Boxtype object at 0x000002407AA12380>: 3}\n",
            "{<src.base.Boxtype object at 0x000002407AA12380>: 4}\n",
            "{<src.base.Boxtype object at 0x000002407AA12380>: 4}\n",
            "{<src.base.Boxtype object at 0x000002407AA12380>: 3}\n",
            "{<src.base.Boxtype object at 0x000002407AA12380>: 4}\n",
            "{<src.base.Boxtype object at 0x000002407AA12380>: 4}\n",
            "{<src.base.Boxtype object at 0x000002407AA12380>: 3}\n",
            "{<src.base.Boxtype object at 0x000002407AA12380>: 4}\n",
            "{<src.base.Boxtype object at 0x000002407AA12380>: 4}\n",
            "{<src.base.Boxtype object at 0x000002407AA12380>: 4}\n",
            "{<src.base.Boxtype object at 0x000002407AA12380>: 3}\n",
            "{<src.base.Boxtype object at 0x000002407AA12380>: 4}\n",
            "{<src.base.Boxtype object at 0x000002407AA12380>: 4}\n",
            "{<src.base.Boxtype object at 0x000002407AA12380>: 4}\n",
            "{<src.base.Boxtype object at 0x000002407AA12380>: 4}\n",
            "{<src.base.Boxtype object at 0x000002407AA12380>: 3}\n",
            "{<src.base.Boxtype object at 0x000002407AA12380>: 4}\n",
            "{<src.base.Boxtype object at 0x000002407AA12380>: 4}\n",
            "{<src.base.Boxtype object at 0x000002407AA12380>: 4}\n",
            "{<src.base.Boxtype object at 0x000002407AA12380>: 3}\n",
            "{<src.base.Boxtype object at 0x000002407AA12380>: 4}\n",
            "{<src.base.Boxtype object at 0x000002407AA12380>: 4}\n",
            "{<src.base.Boxtype object at 0x000002407AA12380>: 4}\n",
            "{<src.base.Boxtype object at 0x000002407AA12380>: 4}\n",
            "{<src.base.Boxtype object at 0x000002407AA12380>: 3}\n",
            "{<src.base.Boxtype object at 0x000002407AA12380>: 4}\n",
            "{<src.base.Boxtype object at 0x000002407AA12380>: 4}\n",
            "{<src.base.Boxtype object at 0x000002407AA12380>: 4}\n",
            "{<src.base.Boxtype object at 0x000002407AA12380>: 3}\n",
            "{<src.base.Boxtype object at 0x000002407AA12380>: 4}\n",
            "{<src.base.Boxtype object at 0x000002407AA12380>: 4}\n",
            "{<src.base.Boxtype object at 0x000002407AA12380>: 4}\n",
            "{<src.base.Boxtype object at 0x000002407AA12380>: 4}\n",
            "{<src.base.Boxtype object at 0x000002407AA12380>: 3}\n",
            "{<src.base.Boxtype object at 0x000002407AA12380>: 4}\n",
            "{<src.base.Boxtype object at 0x000002407AA12380>: 4}\n",
            "{<src.base.Boxtype object at 0x000002407AA12380>: 4}\n",
            "{<src.base.Boxtype object at 0x000002407AA12380>: 4}\n",
            "{<src.base.Boxtype object at 0x000002407AA12380>: 4}\n",
            "{<src.base.Boxtype object at 0x000002407AA12380>: 4}\n",
            "{<src.base.Boxtype object at 0x000002407AA12380>: 4}\n",
            "{<src.base.Boxtype object at 0x000002407AA12380>: 3}\n",
            "{<src.base.Boxtype object at 0x000002407AA12380>: 4}\n",
            "{<src.base.Boxtype object at 0x000002407AA12380>: 4}\n",
            "{<src.base.Boxtype object at 0x000002407AA12380>: 4}\n",
            "{<src.base.Boxtype object at 0x000002407AA12380>: 4}\n",
            "{<src.base.Boxtype object at 0x000002407AA12380>: 4}\n",
            "{<src.base.Boxtype object at 0x000002407AA12380>: 3}\n",
            "{<src.base.Boxtype object at 0x000002407AA12380>: 4}\n",
            "{<src.base.Boxtype object at 0x000002407AA12380>: 4}\n",
            "{<src.base.Boxtype object at 0x000002407AA12350>: 3}\n",
            "{<src.base.Boxtype object at 0x000002407AA12350>: 4}\n",
            "{<src.base.Boxtype object at 0x000002407AA12350>: 4}\n",
            "{<src.base.Boxtype object at 0x000002407AA12350>: 4}\n",
            "{<src.base.Boxtype object at 0x000002407AA12350>: 3}\n",
            "{<src.base.Boxtype object at 0x000002407AA12350>: 4}\n",
            "{<src.base.Boxtype object at 0x000002407AA12350>: 4}\n",
            "{<src.base.Boxtype object at 0x000002407AA12350>: 3}\n",
            "{<src.base.Boxtype object at 0x000002407AA12350>: 4}\n",
            "{<src.base.Boxtype object at 0x000002407AA12350>: 4}\n",
            "{<src.base.Boxtype object at 0x000002407AA12350>: 3}\n",
            "{<src.base.Boxtype object at 0x000002407AA12350>: 4}\n",
            "{<src.base.Boxtype object at 0x000002407AA12350>: 4}\n",
            "{<src.base.Boxtype object at 0x000002407AA12350>: 4}\n",
            "{<src.base.Boxtype object at 0x000002407AA12350>: 3}\n",
            "{<src.base.Boxtype object at 0x000002407AA12350>: 4}\n",
            "{<src.base.Boxtype object at 0x000002407AA12350>: 4}\n",
            "{<src.base.Boxtype object at 0x000002407AA12350>: 4}\n",
            "{<src.base.Boxtype object at 0x000002407AA12350>: 4}\n",
            "{<src.base.Boxtype object at 0x000002407AA12350>: 3}\n",
            "{<src.base.Boxtype object at 0x000002407AA12350>: 4}\n",
            "{<src.base.Boxtype object at 0x000002407AA12350>: 4}\n",
            "{<src.base.Boxtype object at 0x000002407AA12350>: 4}\n",
            "{<src.base.Boxtype object at 0x000002407AA12350>: 3}\n",
            "{<src.base.Boxtype object at 0x000002407AA12350>: 4}\n",
            "{<src.base.Boxtype object at 0x000002407AA12350>: 4}\n",
            "{<src.base.Boxtype object at 0x000002407AA12350>: 4}\n",
            "{<src.base.Boxtype object at 0x000002407AA12350>: 4}\n",
            "{<src.base.Boxtype object at 0x000002407AA12350>: 3}\n",
            "{<src.base.Boxtype object at 0x000002407AA12350>: 4}\n",
            "{<src.base.Boxtype object at 0x000002407AA12350>: 4}\n",
            "{<src.base.Boxtype object at 0x000002407AA12350>: 4}\n",
            "{<src.base.Boxtype object at 0x000002407AA12350>: 3}\n",
            "{<src.base.Boxtype object at 0x000002407AA12350>: 4}\n",
            "{<src.base.Boxtype object at 0x000002407AA12350>: 4}\n",
            "{<src.base.Boxtype object at 0x000002407AA12350>: 3}\n",
            "{<src.base.Boxtype object at 0x000002407AA12350>: 4}\n",
            "{<src.base.Boxtype object at 0x000002407AA12350>: 4}\n",
            "{<src.base.Boxtype object at 0x000002407AA12350>: 3}\n",
            "{<src.base.Boxtype object at 0x000002407AA12350>: 4}\n",
            "{<src.base.Boxtype object at 0x000002407AA12350>: 4}\n",
            "{<src.base.Boxtype object at 0x000002407AA12350>: 4}\n",
            "{<src.base.Boxtype object at 0x000002407AA12350>: 4}\n",
            "{<src.base.Boxtype object at 0x000002407AA12350>: 4}\n",
            "{<src.base.Boxtype object at 0x000002407AA12350>: 3}\n",
            "{<src.base.Boxtype object at 0x000002407AA12350>: 4}\n",
            "{<src.base.Boxtype object at 0x000002407AA12350>: 4}\n",
            "{<src.base.Boxtype object at 0x000002407AA12350>: 3}\n",
            "{<src.base.Boxtype object at 0x000002407AA12350>: 4}\n",
            "{<src.base.Boxtype object at 0x000002407AA12350>: 4}\n",
            "{<src.base.Boxtype object at 0x000002407AA12350>: 4}\n",
            "{<src.base.Boxtype object at 0x000002407AA12350>: 4}\n",
            "{<src.base.Boxtype object at 0x000002407AA12350>: 4}\n",
            "{<src.base.Boxtype object at 0x000002407AA12350>: 3}\n",
            "{<src.base.Boxtype object at 0x000002407AA12350>: 4}\n",
            "{<src.base.Boxtype object at 0x000002407AA12350>: 4}\n",
            "{<src.base.Boxtype object at 0x000002407AA12320>: 3}\n",
            "{<src.base.Boxtype object at 0x000002407AA12320>: 4}\n",
            "{<src.base.Boxtype object at 0x000002407AA12320>: 4}\n",
            "{<src.base.Boxtype object at 0x000002407AA12320>: 4}\n",
            "{<src.base.Boxtype object at 0x000002407AA12320>: 3}\n",
            "{<src.base.Boxtype object at 0x000002407AA12320>: 4}\n",
            "{<src.base.Boxtype object at 0x000002407AA12320>: 4}\n",
            "{<src.base.Boxtype object at 0x000002407AA12320>: 4}\n",
            "{<src.base.Boxtype object at 0x000002407AA12320>: 3}\n",
            "{<src.base.Boxtype object at 0x000002407AA12320>: 4}\n",
            "{<src.base.Boxtype object at 0x000002407AA12320>: 4}\n",
            "{<src.base.Boxtype object at 0x000002407AA12320>: 4}\n",
            "{<src.base.Boxtype object at 0x000002407AA12320>: 3}\n",
            "{<src.base.Boxtype object at 0x000002407AA12320>: 4}\n",
            "{<src.base.Boxtype object at 0x000002407AA12320>: 4}\n",
            "{<src.base.Boxtype object at 0x000002407AA12320>: 4}\n",
            "{<src.base.Boxtype object at 0x000002407AA12320>: 3}\n",
            "{<src.base.Boxtype object at 0x000002407AA12320>: 4}\n",
            "{<src.base.Boxtype object at 0x000002407AA12320>: 4}\n",
            "{<src.base.Boxtype object at 0x000002407AA12320>: 4}\n",
            "{<src.base.Boxtype object at 0x000002407AA12320>: 3}\n",
            "{<src.base.Boxtype object at 0x000002407AA12320>: 4}\n",
            "{<src.base.Boxtype object at 0x000002407AA12320>: 4}\n",
            "{<src.base.Boxtype object at 0x000002407AA12320>: 4}\n",
            "{<src.base.Boxtype object at 0x000002407AA12320>: 3}\n",
            "{<src.base.Boxtype object at 0x000002407AA12320>: 4}\n",
            "{<src.base.Boxtype object at 0x000002407AA12320>: 4}\n",
            "{<src.base.Boxtype object at 0x000002407AA12320>: 4}\n",
            "{<src.base.Boxtype object at 0x000002407AA12320>: 4}\n",
            "{<src.base.Boxtype object at 0x000002407AA12320>: 4}\n",
            "{<src.base.Boxtype object at 0x000002407AA12320>: 3}\n",
            "{<src.base.Boxtype object at 0x000002407AA12320>: 4}\n",
            "{<src.base.Boxtype object at 0x000002407AA12320>: 4}\n",
            "{<src.base.Boxtype object at 0x000002407AA12320>: 4}\n",
            "{<src.base.Boxtype object at 0x000002407AA12320>: 3}\n",
            "{<src.base.Boxtype object at 0x000002407AA12320>: 4}\n",
            "{<src.base.Boxtype object at 0x000002407AA12320>: 4}\n",
            "{<src.base.Boxtype object at 0x000002407AA12320>: 4}\n",
            "{<src.base.Boxtype object at 0x000002407AA12320>: 4}\n",
            "{<src.base.Boxtype object at 0x000002407AA12320>: 4}\n",
            "{<src.base.Boxtype object at 0x000002407AA12320>: 3}\n",
            "{<src.base.Boxtype object at 0x000002407AA12320>: 4}\n",
            "{<src.base.Boxtype object at 0x000002407AA12320>: 4}\n",
            "{<src.base.Boxtype object at 0x000002407AA12320>: 4}\n",
            "{<src.base.Boxtype object at 0x000002407AA122F0>: 3}\n",
            "{<src.base.Boxtype object at 0x000002407AA122F0>: 4}\n",
            "{<src.base.Boxtype object at 0x000002407AA122F0>: 4}\n",
            "{<src.base.Boxtype object at 0x000002407AA122F0>: 4}\n",
            "{<src.base.Boxtype object at 0x000002407AA122F0>: 4}\n",
            "{<src.base.Boxtype object at 0x000002407AA122F0>: 4}\n",
            "{<src.base.Boxtype object at 0x000002407AA122F0>: 3}\n",
            "{<src.base.Boxtype object at 0x000002407AA122F0>: 4}\n",
            "{<src.base.Boxtype object at 0x000002407AA122F0>: 4}\n",
            "{<src.base.Boxtype object at 0x000002407AA122F0>: 3}\n",
            "{<src.base.Boxtype object at 0x000002407AA122F0>: 4}\n",
            "{<src.base.Boxtype object at 0x000002407AA122F0>: 4}\n",
            "{<src.base.Boxtype object at 0x000002407AA122F0>: 4}\n",
            "{<src.base.Boxtype object at 0x000002407AA122F0>: 3}\n",
            "{<src.base.Boxtype object at 0x000002407AA122F0>: 4}\n",
            "{<src.base.Boxtype object at 0x000002407AA122F0>: 4}\n",
            "{<src.base.Boxtype object at 0x000002407AA122F0>: 4}\n",
            "{<src.base.Boxtype object at 0x000002407AA122F0>: 4}\n",
            "{<src.base.Boxtype object at 0x000002407AA122F0>: 3}\n",
            "{<src.base.Boxtype object at 0x000002407AA122F0>: 4}\n",
            "{<src.base.Boxtype object at 0x000002407AA122F0>: 4}\n",
            "{<src.base.Boxtype object at 0x000002407AA122F0>: 4}\n",
            "{<src.base.Boxtype object at 0x000002407AA122F0>: 4}\n",
            "{<src.base.Boxtype object at 0x000002407AA122F0>: 4}\n",
            "{<src.base.Boxtype object at 0x000002407AA122F0>: 4}\n",
            "{<src.base.Boxtype object at 0x000002407AA122F0>: 4}\n",
            "{<src.base.Boxtype object at 0x000002407AA122F0>: 3}\n",
            "{<src.base.Boxtype object at 0x000002407AA122F0>: 4}\n",
            "{<src.base.Boxtype object at 0x000002407AA122F0>: 4}\n",
            "{<src.base.Boxtype object at 0x000002407AA122F0>: 4}\n",
            "{<src.base.Boxtype object at 0x000002407AA122F0>: 3}\n",
            "{<src.base.Boxtype object at 0x000002407AA122F0>: 4}\n",
            "{<src.base.Boxtype object at 0x000002407AA122F0>: 4}\n",
            "{<src.base.Boxtype object at 0x000002407AA122F0>: 4}\n",
            "{<src.base.Boxtype object at 0x000002407AA122F0>: 4}\n",
            "{<src.base.Boxtype object at 0x000002407AA122F0>: 3}\n",
            "{<src.base.Boxtype object at 0x000002407AA122F0>: 4}\n",
            "{<src.base.Boxtype object at 0x000002407AA122F0>: 4}\n",
            "{<src.base.Boxtype object at 0x000002407AA122F0>: 4}\n",
            "{<src.base.Boxtype object at 0x000002407AA122F0>: 4}\n",
            "{<src.base.Boxtype object at 0x000002407AA122F0>: 4}\n",
            "{<src.base.Boxtype object at 0x000002407AA122F0>: 4}\n",
            "{<src.base.Boxtype object at 0x000002407AA122F0>: 4}\n",
            "{<src.base.Boxtype object at 0x000002407AA122F0>: 3}\n",
            "{<src.base.Boxtype object at 0x000002407AA122F0>: 4}\n",
            "{<src.base.Boxtype object at 0x000002407AA122F0>: 4}\n",
            "{<src.base.Boxtype object at 0x000002407AA122F0>: 4}\n",
            "{<src.base.Boxtype object at 0x000002407AA122F0>: 4}\n",
            "{<src.base.Boxtype object at 0x000002407AA122F0>: 4}\n",
            "{<src.base.Boxtype object at 0x000002407AA122F0>: 3}\n",
            "{<src.base.Boxtype object at 0x000002407AA122F0>: 4}\n",
            "{<src.base.Boxtype object at 0x000002407AA122F0>: 4}\n",
            "{<src.base.Boxtype object at 0x000002407AA113C0>: 3}\n",
            "{<src.base.Boxtype object at 0x000002407AA113C0>: 4}\n",
            "{<src.base.Boxtype object at 0x000002407AA113C0>: 4}\n",
            "{<src.base.Boxtype object at 0x000002407AA113C0>: 4}\n",
            "{<src.base.Boxtype object at 0x000002407AA113C0>: 3}\n",
            "{<src.base.Boxtype object at 0x000002407AA113C0>: 4}\n",
            "{<src.base.Boxtype object at 0x000002407AA113C0>: 4}\n",
            "{<src.base.Boxtype object at 0x000002407AA113C0>: 4}\n",
            "{<src.base.Boxtype object at 0x000002407AA113C0>: 3}\n",
            "{<src.base.Boxtype object at 0x000002407AA113C0>: 4}\n",
            "{<src.base.Boxtype object at 0x000002407AA113C0>: 4}\n",
            "{<src.base.Boxtype object at 0x000002407AA113C0>: 4}\n",
            "{<src.base.Boxtype object at 0x000002407AA113C0>: 3}\n",
            "{<src.base.Boxtype object at 0x000002407AA113C0>: 4}\n",
            "{<src.base.Boxtype object at 0x000002407AA113C0>: 4}\n",
            "{<src.base.Boxtype object at 0x000002407AA113C0>: 4}\n",
            "{<src.base.Boxtype object at 0x000002407AA113C0>: 3}\n",
            "{<src.base.Boxtype object at 0x000002407AA113C0>: 4}\n",
            "{<src.base.Boxtype object at 0x000002407AA113C0>: 4}\n",
            "{<src.base.Boxtype object at 0x000002407AA113C0>: 4}\n",
            "{<src.base.Boxtype object at 0x000002407AA113C0>: 3}\n",
            "{<src.base.Boxtype object at 0x000002407AA113C0>: 4}\n",
            "{<src.base.Boxtype object at 0x000002407AA113C0>: 4}\n",
            "{<src.base.Boxtype object at 0x000002407AA113C0>: 4}\n",
            "{<src.base.Boxtype object at 0x000002407AA113C0>: 3}\n",
            "{<src.base.Boxtype object at 0x000002407AA113C0>: 4}\n",
            "{<src.base.Boxtype object at 0x000002407AA113C0>: 4}\n",
            "{<src.base.Boxtype object at 0x000002407AA113C0>: 4}\n",
            "{<src.base.Boxtype object at 0x000002407AA113C0>: 3}\n",
            "{<src.base.Boxtype object at 0x000002407AA113C0>: 4}\n",
            "{<src.base.Boxtype object at 0x000002407AA113C0>: 4}\n",
            "{<src.base.Boxtype object at 0x000002407AA113C0>: 4}\n",
            "{<src.base.Boxtype object at 0x000002407AA113C0>: 3}\n",
            "{<src.base.Boxtype object at 0x000002407AA113C0>: 4}\n",
            "{<src.base.Boxtype object at 0x000002407AA113C0>: 4}\n",
            "{<src.base.Boxtype object at 0x000002407AA113C0>: 4}\n",
            "{<src.base.Boxtype object at 0x000002407AA113C0>: 3}\n",
            "{<src.base.Boxtype object at 0x000002407AA113C0>: 4}\n",
            "{<src.base.Boxtype object at 0x000002407AA113C0>: 4}\n",
            "{<src.base.Boxtype object at 0x000002407AA113C0>: 4}\n",
            "{<src.base.Boxtype object at 0x000002407AA113C0>: 3}\n",
            "{<src.base.Boxtype object at 0x000002407AA113C0>: 4}\n",
            "{<src.base.Boxtype object at 0x000002407AA113C0>: 4}\n",
            "{<src.base.Boxtype object at 0x000002407AA113C0>: 4}\n",
            "{<src.base.Boxtype object at 0x000002407AA113C0>: 3}\n",
            "{<src.base.Boxtype object at 0x000002407AA113C0>: 4}\n",
            "{<src.base.Boxtype object at 0x000002407AA113C0>: 4}\n",
            "{<src.base.Boxtype object at 0x000002407AA113C0>: 4}\n",
            "{<src.base.Boxtype object at 0x000002407AA113C0>: 3}\n",
            "{<src.base.Boxtype object at 0x000002407AA113C0>: 4}\n",
            "{<src.base.Boxtype object at 0x000002407AA113C0>: 4}\n",
            "{<src.base.Boxtype object at 0x000002407AA113C0>: 4}\n",
            "{<src.base.Boxtype object at 0x000002407AA113C0>: 3}\n",
            "{<src.base.Boxtype object at 0x000002407AA113C0>: 4}\n",
            "{<src.base.Boxtype object at 0x000002407AA113C0>: 4}\n",
            "{<src.base.Boxtype object at 0x000002407AA113C0>: 4}\n",
            "{<src.base.Boxtype object at 0x000002407AA113C0>: 3}\n",
            "{<src.base.Boxtype object at 0x000002407AA113C0>: 4}\n",
            "{<src.base.Boxtype object at 0x000002407AA113C0>: 4}\n",
            "{<src.base.Boxtype object at 0x000002407AA113C0>: 4}\n",
            "{<src.base.Boxtype object at 0x000002407AA113C0>: 3}\n",
            "{<src.base.Boxtype object at 0x000002407AA113C0>: 4}\n",
            "{<src.base.Boxtype object at 0x000002407AA113C0>: 4}\n",
            "{<src.base.Boxtype object at 0x000002407AA113C0>: 4}\n",
            "{<src.base.Boxtype object at 0x000002407AA113C0>: 3}\n",
            "{<src.base.Boxtype object at 0x000002407AA113C0>: 4}\n",
            "{<src.base.Boxtype object at 0x000002407AA113C0>: 4}\n",
            "{<src.base.Boxtype object at 0x000002407AA113C0>: 4}\n",
            "{<src.base.Boxtype object at 0x000002407AA113C0>: 3}\n",
            "{<src.base.Boxtype object at 0x000002407AA113C0>: 4}\n",
            "{<src.base.Boxtype object at 0x000002407AA113C0>: 4}\n",
            "{<src.base.Boxtype object at 0x000002407AA113C0>: 4}\n",
            "{<src.base.Boxtype object at 0x000002407AA11390>: 3}\n",
            "{<src.base.Boxtype object at 0x000002407AA11390>: 4}\n",
            "{<src.base.Boxtype object at 0x000002407AA11390>: 4}\n",
            "{<src.base.Boxtype object at 0x000002407AA11390>: 4}\n",
            "{<src.base.Boxtype object at 0x000002407AA11390>: 3}\n",
            "{<src.base.Boxtype object at 0x000002407AA11390>: 4}\n",
            "{<src.base.Boxtype object at 0x000002407AA11390>: 4}\n",
            "{<src.base.Boxtype object at 0x000002407AA11390>: 3}\n",
            "{<src.base.Boxtype object at 0x000002407AA11390>: 4}\n",
            "{<src.base.Boxtype object at 0x000002407AA11390>: 4}\n",
            "{<src.base.Boxtype object at 0x000002407AA11390>: 4}\n",
            "{<src.base.Boxtype object at 0x000002407AA11390>: 3}\n",
            "{<src.base.Boxtype object at 0x000002407AA11390>: 4}\n",
            "{<src.base.Boxtype object at 0x000002407AA11390>: 4}\n",
            "{<src.base.Boxtype object at 0x000002407AA11390>: 4}\n",
            "{<src.base.Boxtype object at 0x000002407AA11390>: 4}\n",
            "{<src.base.Boxtype object at 0x000002407AA11390>: 4}\n",
            "{<src.base.Boxtype object at 0x000002407AA11390>: 3}\n",
            "{<src.base.Boxtype object at 0x000002407AA11390>: 4}\n",
            "{<src.base.Boxtype object at 0x000002407AA11390>: 4}\n",
            "{<src.base.Boxtype object at 0x000002407AA11390>: 4}\n",
            "{<src.base.Boxtype object at 0x000002407AA12A70>: 3}\n",
            "{<src.base.Boxtype object at 0x000002407AA12A70>: 4}\n",
            "{<src.base.Boxtype object at 0x000002407AA12A70>: 4}\n",
            "{<src.base.Boxtype object at 0x000002407AA12A70>: 4}\n",
            "{<src.base.Boxtype object at 0x000002407AA12A70>: 3}\n",
            "{<src.base.Boxtype object at 0x000002407AA12A70>: 4}\n",
            "{<src.base.Boxtype object at 0x000002407AA12A70>: 4}\n",
            "{<src.base.Boxtype object at 0x000002407AA12A70>: 4}\n",
            "{<src.base.Boxtype object at 0x000002407AA12A70>: 3}\n",
            "{<src.base.Boxtype object at 0x000002407AA12A70>: 4}\n",
            "{<src.base.Boxtype object at 0x000002407AA12A70>: 4}\n",
            "{<src.base.Boxtype object at 0x000002407AA12A70>: 4}\n",
            "{<src.base.Boxtype object at 0x000002407AA12A70>: 3}\n",
            "{<src.base.Boxtype object at 0x000002407AA12A70>: 4}\n",
            "{<src.base.Boxtype object at 0x000002407AA12A70>: 4}\n",
            "{<src.base.Boxtype object at 0x000002407AA12A70>: 4}\n",
            "{<src.base.Boxtype object at 0x000002407AA12A70>: 3}\n",
            "{<src.base.Boxtype object at 0x000002407AA12A70>: 4}\n",
            "{<src.base.Boxtype object at 0x000002407AA12A70>: 4}\n",
            "{<src.base.Boxtype object at 0x000002407AA12A70>: 4}\n",
            "{<src.base.Boxtype object at 0x000002407AA12A70>: 3}\n",
            "{<src.base.Boxtype object at 0x000002407AA12A70>: 4}\n",
            "{<src.base.Boxtype object at 0x000002407AA12A70>: 4}\n",
            "{<src.base.Boxtype object at 0x000002407AA12A70>: 3}\n",
            "{<src.base.Boxtype object at 0x000002407AA12A70>: 4}\n",
            "{<src.base.Boxtype object at 0x000002407AA12A70>: 4}\n",
            "{<src.base.Boxtype object at 0x000002407AA12A70>: 4}\n",
            "{<src.base.Boxtype object at 0x000002407AA12A70>: 3}\n",
            "{<src.base.Boxtype object at 0x000002407AA12A70>: 4}\n",
            "{<src.base.Boxtype object at 0x000002407AA12A70>: 4}\n",
            "{<src.base.Boxtype object at 0x000002407AA12A70>: 4}\n",
            "{<src.base.Boxtype object at 0x000002407AA12A70>: 3}\n",
            "{<src.base.Boxtype object at 0x000002407AA12A70>: 4}\n",
            "{<src.base.Boxtype object at 0x000002407AA12A70>: 4}\n",
            "{<src.base.Boxtype object at 0x000002407AA12A70>: 3}\n",
            "{<src.base.Boxtype object at 0x000002407AA12A70>: 4}\n",
            "{<src.base.Boxtype object at 0x000002407AA12A70>: 4}\n",
            "{<src.base.Boxtype object at 0x000002407AA12A70>: 4}\n",
            "{<src.base.Boxtype object at 0x000002407AA12A70>: 3}\n",
            "{<src.base.Boxtype object at 0x000002407AA12A70>: 4}\n",
            "{<src.base.Boxtype object at 0x000002407AA12A70>: 4}\n",
            "{<src.base.Boxtype object at 0x000002407AA12A70>: 4}\n",
            "{<src.base.Boxtype object at 0x000002407AA12A70>: 3}\n",
            "{<src.base.Boxtype object at 0x000002407AA12A70>: 4}\n",
            "{<src.base.Boxtype object at 0x000002407AA12A70>: 4}\n",
            "{<src.base.Boxtype object at 0x000002407AA12A70>: 4}\n",
            "{<src.base.Boxtype object at 0x000002407AA12A70>: 3}\n",
            "{<src.base.Boxtype object at 0x000002407AA12A70>: 4}\n",
            "{<src.base.Boxtype object at 0x000002407AA12A70>: 4}\n",
            "{<src.base.Boxtype object at 0x000002407AA12A70>: 4}\n",
            "{<src.base.Boxtype object at 0x000002407AA12A70>: 3}\n",
            "{<src.base.Boxtype object at 0x000002407AA12A70>: 4}\n",
            "{<src.base.Boxtype object at 0x000002407AA12A70>: 4}\n",
            "{<src.base.Boxtype object at 0x000002407AA12A70>: 3}\n",
            "{<src.base.Boxtype object at 0x000002407AA12A70>: 4}\n",
            "{<src.base.Boxtype object at 0x000002407AA12A70>: 4}\n",
            "{<src.base.Boxtype object at 0x000002407AA12A70>: 4}\n",
            "{<src.base.Boxtype object at 0x000002407AA12A70>: 3}\n",
            "{<src.base.Boxtype object at 0x000002407AA12A70>: 4}\n",
            "{<src.base.Boxtype object at 0x000002407AA12A70>: 4}\n",
            "{<src.base.Boxtype object at 0x000002407AA12A70>: 4}\n",
            "{<src.base.Boxtype object at 0x000002407AA12A70>: 3}\n",
            "{<src.base.Boxtype object at 0x000002407AA12A70>: 4}\n",
            "{<src.base.Boxtype object at 0x000002407AA12A70>: 4}\n",
            "{<src.base.Boxtype object at 0x000002407AA12A70>: 3}\n",
            "{<src.base.Boxtype object at 0x000002407AA12A70>: 4}\n",
            "{<src.base.Boxtype object at 0x000002407AA12A70>: 4}\n",
            "{<src.base.Boxtype object at 0x000002407AA12A70>: 4}\n",
            "{<src.base.Boxtype object at 0x000002407AA11360>: 3}\n",
            "{<src.base.Boxtype object at 0x000002407AA11360>: 4}\n",
            "{<src.base.Boxtype object at 0x000002407AA11360>: 4}\n",
            "{<src.base.Boxtype object at 0x000002407AA11360>: 4}\n",
            "{<src.base.Boxtype object at 0x000002407AA11360>: 3}\n",
            "{<src.base.Boxtype object at 0x000002407AA11360>: 4}\n",
            "{<src.base.Boxtype object at 0x000002407AA11360>: 4}\n",
            "{<src.base.Boxtype object at 0x000002407AA11360>: 4}\n",
            "{<src.base.Boxtype object at 0x000002407AA11360>: 3}\n",
            "{<src.base.Boxtype object at 0x000002407AA11360>: 4}\n",
            "{<src.base.Boxtype object at 0x000002407AA11360>: 4}\n",
            "{<src.base.Boxtype object at 0x000002407AA11360>: 4}\n",
            "{<src.base.Boxtype object at 0x000002407AA11360>: 3}\n",
            "{<src.base.Boxtype object at 0x000002407AA11360>: 4}\n",
            "{<src.base.Boxtype object at 0x000002407AA11360>: 4}\n",
            "{<src.base.Boxtype object at 0x000002407AA11360>: 4}\n",
            "{<src.base.Boxtype object at 0x000002407AA11360>: 3}\n",
            "{<src.base.Boxtype object at 0x000002407AA11360>: 4}\n",
            "{<src.base.Boxtype object at 0x000002407AA11360>: 4}\n",
            "{<src.base.Boxtype object at 0x000002407AA11360>: 4}\n",
            "{<src.base.Boxtype object at 0x000002407AA11360>: 3}\n",
            "{<src.base.Boxtype object at 0x000002407AA11360>: 4}\n",
            "{<src.base.Boxtype object at 0x000002407AA11360>: 4}\n",
            "{<src.base.Boxtype object at 0x000002407AA11360>: 4}\n",
            "{<src.base.Boxtype object at 0x000002407AA11360>: 3}\n",
            "{<src.base.Boxtype object at 0x000002407AA11360>: 4}\n",
            "{<src.base.Boxtype object at 0x000002407AA11360>: 4}\n",
            "{<src.base.Boxtype object at 0x000002407AA11360>: 4}\n",
            "{<src.base.Boxtype object at 0x000002407AA11360>: 4}\n",
            "{<src.base.Boxtype object at 0x000002407AA11360>: 4}\n",
            "{<src.base.Boxtype object at 0x000002407AA11360>: 3}\n",
            "{<src.base.Boxtype object at 0x000002407AA11360>: 4}\n",
            "{<src.base.Boxtype object at 0x000002407AA11360>: 4}\n",
            "{<src.base.Boxtype object at 0x000002407AA11360>: 4}\n",
            "{<src.base.Boxtype object at 0x000002407AA11360>: 3}\n",
            "{<src.base.Boxtype object at 0x000002407AA11360>: 4}\n",
            "{<src.base.Boxtype object at 0x000002407AA11360>: 4}\n",
            "{<src.base.Boxtype object at 0x000002407AA11360>: 4}\n",
            "{<src.base.Boxtype object at 0x000002407AA11360>: 4}\n",
            "{<src.base.Boxtype object at 0x000002407AA11360>: 4}\n",
            "{<src.base.Boxtype object at 0x000002407AA11360>: 3}\n",
            "{<src.base.Boxtype object at 0x000002407AA11360>: 4}\n",
            "{<src.base.Boxtype object at 0x000002407AA11360>: 4}\n",
            "{<src.base.Boxtype object at 0x000002407AA11360>: 4}\n",
            "{<src.base.Boxtype object at 0x000002407AA100A0>: 4}\n",
            "{<src.base.Boxtype object at 0x000002407AA100A0>: 5}\n",
            "{<src.base.Boxtype object at 0x000002407AA100A0>: 6}\n",
            "{<src.base.Boxtype object at 0x000002407AA100A0>: 6}\n",
            "{<src.base.Boxtype object at 0x000002407AA100A0>: 6}\n",
            "{<src.base.Boxtype object at 0x000002407AA100A0>: 7}\n",
            "{<src.base.Boxtype object at 0x000002407AA100A0>: 5}\n",
            "{<src.base.Boxtype object at 0x000002407AA100A0>: 6}\n",
            "{<src.base.Boxtype object at 0x000002407AA100A0>: 7}\n",
            "{<src.base.Boxtype object at 0x000002407AA100A0>: 8}\n",
            "{<src.base.Boxtype object at 0x000002407AA100A0>: 8}\n",
            "{<src.base.Boxtype object at 0x000002407AA100A0>: 8}\n",
            "{<src.base.Boxtype object at 0x000002407AA100A0>: 6}\n",
            "{<src.base.Boxtype object at 0x000002407AA100A0>: 6}\n",
            "{<src.base.Boxtype object at 0x000002407AA100A0>: 8}\n",
            "{<src.base.Boxtype object at 0x000002407AA100A0>: 8}\n",
            "{<src.base.Boxtype object at 0x000002407AA100A0>: 8}\n",
            "{<src.base.Boxtype object at 0x000002407AA100A0>: 8}\n",
            "{<src.base.Boxtype object at 0x000002407AA100A0>: 8}\n",
            "{<src.base.Boxtype object at 0x000002407AA100A0>: 8}\n",
            "{<src.base.Boxtype object at 0x000002407AA100A0>: 6}\n",
            "{<src.base.Boxtype object at 0x000002407AA100A0>: 6}\n",
            "{<src.base.Boxtype object at 0x000002407AA100A0>: 8}\n",
            "{<src.base.Boxtype object at 0x000002407AA100A0>: 8}\n",
            "{<src.base.Boxtype object at 0x000002407AA100A0>: 8}\n",
            "{<src.base.Boxtype object at 0x000002407AA100A0>: 8}\n",
            "{<src.base.Boxtype object at 0x000002407AA100A0>: 8}\n",
            "{<src.base.Boxtype object at 0x000002407AA100A0>: 8}\n",
            "{<src.base.Boxtype object at 0x000002407AA100A0>: 4}\n",
            "{<src.base.Boxtype object at 0x000002407AA100A0>: 5}\n",
            "{<src.base.Boxtype object at 0x000002407AA100A0>: 6}\n",
            "{<src.base.Boxtype object at 0x000002407AA100A0>: 6}\n",
            "{<src.base.Boxtype object at 0x000002407AA100A0>: 6}\n",
            "{<src.base.Boxtype object at 0x000002407AA100A0>: 7}\n",
            "{<src.base.Boxtype object at 0x000002407AA100A0>: 6}\n",
            "{<src.base.Boxtype object at 0x000002407AA100A0>: 6}\n",
            "{<src.base.Boxtype object at 0x000002407AA100A0>: 8}\n",
            "{<src.base.Boxtype object at 0x000002407AA100A0>: 8}\n",
            "{<src.base.Boxtype object at 0x000002407AA100A0>: 8}\n",
            "{<src.base.Boxtype object at 0x000002407AA100A0>: 8}\n",
            "{<src.base.Boxtype object at 0x000002407AA100A0>: 8}\n",
            "{<src.base.Boxtype object at 0x000002407AA100A0>: 8}\n",
            "{<src.base.Boxtype object at 0x000002407AA100A0>: 5}\n",
            "{<src.base.Boxtype object at 0x000002407AA100A0>: 6}\n",
            "{<src.base.Boxtype object at 0x000002407AA100A0>: 7}\n",
            "{<src.base.Boxtype object at 0x000002407AA100A0>: 8}\n",
            "{<src.base.Boxtype object at 0x000002407AA100A0>: 8}\n",
            "{<src.base.Boxtype object at 0x000002407AA100A0>: 8}\n",
            "{<src.base.Boxtype object at 0x000002407AA100A0>: 6}\n",
            "{<src.base.Boxtype object at 0x000002407AA100A0>: 6}\n",
            "{<src.base.Boxtype object at 0x000002407AA100A0>: 8}\n",
            "{<src.base.Boxtype object at 0x000002407AA100A0>: 8}\n",
            "{<src.base.Boxtype object at 0x000002407AA100A0>: 8}\n",
            "{<src.base.Boxtype object at 0x000002407AA100A0>: 8}\n",
            "{<src.base.Boxtype object at 0x000002407AA100A0>: 8}\n",
            "{<src.base.Boxtype object at 0x000002407AA100A0>: 8}\n",
            "{<src.base.Boxtype object at 0x000002407AA100A0>: 4}\n",
            "{<src.base.Boxtype object at 0x000002407AA100A0>: 5}\n",
            "{<src.base.Boxtype object at 0x000002407AA100A0>: 6}\n",
            "{<src.base.Boxtype object at 0x000002407AA100A0>: 6}\n",
            "{<src.base.Boxtype object at 0x000002407AA100A0>: 6}\n",
            "{<src.base.Boxtype object at 0x000002407AA100A0>: 7}\n",
            "{<src.base.Boxtype object at 0x000002407AA100A0>: 6}\n",
            "{<src.base.Boxtype object at 0x000002407AA100A0>: 6}\n",
            "{<src.base.Boxtype object at 0x000002407AA100A0>: 8}\n",
            "{<src.base.Boxtype object at 0x000002407AA100A0>: 8}\n",
            "{<src.base.Boxtype object at 0x000002407AA100A0>: 8}\n",
            "{<src.base.Boxtype object at 0x000002407AA100A0>: 8}\n",
            "{<src.base.Boxtype object at 0x000002407AA100A0>: 8}\n",
            "{<src.base.Boxtype object at 0x000002407AA100A0>: 8}\n",
            "{<src.base.Boxtype object at 0x000002407AA100A0>: 6}\n",
            "{<src.base.Boxtype object at 0x000002407AA100A0>: 6}\n",
            "{<src.base.Boxtype object at 0x000002407AA100A0>: 8}\n",
            "{<src.base.Boxtype object at 0x000002407AA100A0>: 8}\n",
            "{<src.base.Boxtype object at 0x000002407AA100A0>: 8}\n",
            "{<src.base.Boxtype object at 0x000002407AA100A0>: 8}\n",
            "{<src.base.Boxtype object at 0x000002407AA100A0>: 8}\n",
            "{<src.base.Boxtype object at 0x000002407AA100A0>: 8}\n",
            "{<src.base.Boxtype object at 0x000002407AA100A0>: 5}\n",
            "{<src.base.Boxtype object at 0x000002407AA100A0>: 6}\n",
            "{<src.base.Boxtype object at 0x000002407AA100A0>: 7}\n",
            "{<src.base.Boxtype object at 0x000002407AA100A0>: 8}\n",
            "{<src.base.Boxtype object at 0x000002407AA100A0>: 8}\n",
            "{<src.base.Boxtype object at 0x000002407AA100A0>: 8}\n",
            "{<src.base.Boxtype object at 0x000002407AA100A0>: 4}\n",
            "{<src.base.Boxtype object at 0x000002407AA100A0>: 5}\n",
            "{<src.base.Boxtype object at 0x000002407AA100A0>: 6}\n",
            "{<src.base.Boxtype object at 0x000002407AA100A0>: 6}\n",
            "{<src.base.Boxtype object at 0x000002407AA100A0>: 6}\n",
            "{<src.base.Boxtype object at 0x000002407AA100A0>: 7}\n",
            "{<src.base.Boxtype object at 0x000002407AA100A0>: 5}\n",
            "{<src.base.Boxtype object at 0x000002407AA100A0>: 6}\n",
            "{<src.base.Boxtype object at 0x000002407AA100A0>: 7}\n",
            "{<src.base.Boxtype object at 0x000002407AA100A0>: 8}\n",
            "{<src.base.Boxtype object at 0x000002407AA100A0>: 8}\n",
            "{<src.base.Boxtype object at 0x000002407AA100A0>: 8}\n",
            "{<src.base.Boxtype object at 0x000002407AA100A0>: 6}\n",
            "{<src.base.Boxtype object at 0x000002407AA100A0>: 6}\n",
            "{<src.base.Boxtype object at 0x000002407AA100A0>: 8}\n",
            "{<src.base.Boxtype object at 0x000002407AA100A0>: 8}\n",
            "{<src.base.Boxtype object at 0x000002407AA100A0>: 8}\n",
            "{<src.base.Boxtype object at 0x000002407AA100A0>: 8}\n",
            "{<src.base.Boxtype object at 0x000002407AA100A0>: 8}\n",
            "{<src.base.Boxtype object at 0x000002407AA100A0>: 8}\n",
            "{<src.base.Boxtype object at 0x000002407AA100A0>: 6}\n",
            "{<src.base.Boxtype object at 0x000002407AA100A0>: 6}\n",
            "{<src.base.Boxtype object at 0x000002407AA100A0>: 8}\n",
            "{<src.base.Boxtype object at 0x000002407AA100A0>: 8}\n",
            "{<src.base.Boxtype object at 0x000002407AA100A0>: 8}\n",
            "{<src.base.Boxtype object at 0x000002407AA100A0>: 8}\n",
            "{<src.base.Boxtype object at 0x000002407AA100A0>: 8}\n",
            "{<src.base.Boxtype object at 0x000002407AA100A0>: 8}\n",
            "{<src.base.Boxtype object at 0x000002407AA100A0>: 4}\n",
            "{<src.base.Boxtype object at 0x000002407AA100A0>: 5}\n",
            "{<src.base.Boxtype object at 0x000002407AA100A0>: 6}\n",
            "{<src.base.Boxtype object at 0x000002407AA100A0>: 6}\n",
            "{<src.base.Boxtype object at 0x000002407AA100A0>: 6}\n",
            "{<src.base.Boxtype object at 0x000002407AA100A0>: 7}\n",
            "{<src.base.Boxtype object at 0x000002407AA100A0>: 6}\n",
            "{<src.base.Boxtype object at 0x000002407AA100A0>: 6}\n",
            "{<src.base.Boxtype object at 0x000002407AA100A0>: 8}\n",
            "{<src.base.Boxtype object at 0x000002407AA100A0>: 8}\n",
            "{<src.base.Boxtype object at 0x000002407AA100A0>: 8}\n",
            "{<src.base.Boxtype object at 0x000002407AA100A0>: 8}\n",
            "{<src.base.Boxtype object at 0x000002407AA100A0>: 8}\n",
            "{<src.base.Boxtype object at 0x000002407AA100A0>: 8}\n",
            "{<src.base.Boxtype object at 0x000002407AA100A0>: 5}\n",
            "{<src.base.Boxtype object at 0x000002407AA100A0>: 6}\n",
            "{<src.base.Boxtype object at 0x000002407AA100A0>: 7}\n",
            "{<src.base.Boxtype object at 0x000002407AA100A0>: 8}\n",
            "{<src.base.Boxtype object at 0x000002407AA100A0>: 8}\n",
            "{<src.base.Boxtype object at 0x000002407AA100A0>: 8}\n",
            "{<src.base.Boxtype object at 0x000002407AA100A0>: 6}\n",
            "{<src.base.Boxtype object at 0x000002407AA100A0>: 6}\n",
            "{<src.base.Boxtype object at 0x000002407AA100A0>: 8}\n",
            "{<src.base.Boxtype object at 0x000002407AA100A0>: 8}\n",
            "{<src.base.Boxtype object at 0x000002407AA100A0>: 8}\n",
            "{<src.base.Boxtype object at 0x000002407AA100A0>: 8}\n",
            "{<src.base.Boxtype object at 0x000002407AA100A0>: 8}\n",
            "{<src.base.Boxtype object at 0x000002407AA100A0>: 8}\n",
            "{<src.base.Boxtype object at 0x000002407AA100A0>: 4}\n",
            "{<src.base.Boxtype object at 0x000002407AA100A0>: 5}\n",
            "{<src.base.Boxtype object at 0x000002407AA100A0>: 6}\n",
            "{<src.base.Boxtype object at 0x000002407AA100A0>: 6}\n",
            "{<src.base.Boxtype object at 0x000002407AA100A0>: 6}\n",
            "{<src.base.Boxtype object at 0x000002407AA100A0>: 7}\n",
            "{<src.base.Boxtype object at 0x000002407AA100A0>: 6}\n",
            "{<src.base.Boxtype object at 0x000002407AA100A0>: 6}\n",
            "{<src.base.Boxtype object at 0x000002407AA100A0>: 8}\n",
            "{<src.base.Boxtype object at 0x000002407AA100A0>: 8}\n",
            "{<src.base.Boxtype object at 0x000002407AA100A0>: 8}\n",
            "{<src.base.Boxtype object at 0x000002407AA100A0>: 8}\n",
            "{<src.base.Boxtype object at 0x000002407AA100A0>: 8}\n",
            "{<src.base.Boxtype object at 0x000002407AA100A0>: 8}\n",
            "{<src.base.Boxtype object at 0x000002407AA100A0>: 6}\n",
            "{<src.base.Boxtype object at 0x000002407AA100A0>: 6}\n",
            "{<src.base.Boxtype object at 0x000002407AA100A0>: 8}\n",
            "{<src.base.Boxtype object at 0x000002407AA100A0>: 8}\n",
            "{<src.base.Boxtype object at 0x000002407AA100A0>: 8}\n",
            "{<src.base.Boxtype object at 0x000002407AA100A0>: 8}\n",
            "{<src.base.Boxtype object at 0x000002407AA100A0>: 8}\n",
            "{<src.base.Boxtype object at 0x000002407AA100A0>: 8}\n",
            "{<src.base.Boxtype object at 0x000002407AA100A0>: 5}\n",
            "{<src.base.Boxtype object at 0x000002407AA100A0>: 6}\n",
            "{<src.base.Boxtype object at 0x000002407AA100A0>: 7}\n",
            "{<src.base.Boxtype object at 0x000002407AA100A0>: 8}\n",
            "{<src.base.Boxtype object at 0x000002407AA100A0>: 8}\n",
            "{<src.base.Boxtype object at 0x000002407AA100A0>: 8}\n",
            "{<src.base.Boxtype object at 0x000002407AA100A0>: 4}\n",
            "{<src.base.Boxtype object at 0x000002407AA100A0>: 5}\n",
            "{<src.base.Boxtype object at 0x000002407AA100A0>: 6}\n",
            "{<src.base.Boxtype object at 0x000002407AA100A0>: 6}\n",
            "{<src.base.Boxtype object at 0x000002407AA100A0>: 6}\n",
            "{<src.base.Boxtype object at 0x000002407AA100A0>: 7}\n",
            "{<src.base.Boxtype object at 0x000002407AA100A0>: 5}\n",
            "{<src.base.Boxtype object at 0x000002407AA100A0>: 6}\n",
            "{<src.base.Boxtype object at 0x000002407AA100A0>: 7}\n",
            "{<src.base.Boxtype object at 0x000002407AA100A0>: 8}\n",
            "{<src.base.Boxtype object at 0x000002407AA100A0>: 8}\n",
            "{<src.base.Boxtype object at 0x000002407AA100A0>: 8}\n",
            "{<src.base.Boxtype object at 0x000002407AA100A0>: 6}\n",
            "{<src.base.Boxtype object at 0x000002407AA100A0>: 6}\n",
            "{<src.base.Boxtype object at 0x000002407AA100A0>: 8}\n",
            "{<src.base.Boxtype object at 0x000002407AA100A0>: 8}\n",
            "{<src.base.Boxtype object at 0x000002407AA100A0>: 8}\n",
            "{<src.base.Boxtype object at 0x000002407AA100A0>: 8}\n",
            "{<src.base.Boxtype object at 0x000002407AA100A0>: 8}\n",
            "{<src.base.Boxtype object at 0x000002407AA100A0>: 8}\n",
            "{<src.base.Boxtype object at 0x000002407AA100A0>: 6}\n",
            "{<src.base.Boxtype object at 0x000002407AA100A0>: 6}\n",
            "{<src.base.Boxtype object at 0x000002407AA100A0>: 8}\n",
            "{<src.base.Boxtype object at 0x000002407AA100A0>: 8}\n",
            "{<src.base.Boxtype object at 0x000002407AA100A0>: 8}\n",
            "{<src.base.Boxtype object at 0x000002407AA100A0>: 8}\n",
            "{<src.base.Boxtype object at 0x000002407AA100A0>: 8}\n",
            "{<src.base.Boxtype object at 0x000002407AA100A0>: 8}\n",
            "{<src.base.Boxtype object at 0x000002407AA100A0>: 4}\n",
            "{<src.base.Boxtype object at 0x000002407AA100A0>: 6}\n",
            "{<src.base.Boxtype object at 0x000002407AA100A0>: 6}\n",
            "{<src.base.Boxtype object at 0x000002407AA100A0>: 6}\n",
            "{<src.base.Boxtype object at 0x000002407AA100A0>: 6}\n",
            "{<src.base.Boxtype object at 0x000002407AA100A0>: 8}\n",
            "{<src.base.Boxtype object at 0x000002407AA100A0>: 8}\n",
            "{<src.base.Boxtype object at 0x000002407AA100A0>: 8}\n",
            "{<src.base.Boxtype object at 0x000002407AA100A0>: 8}\n",
            "{<src.base.Boxtype object at 0x000002407AA100A0>: 8}\n",
            "{<src.base.Boxtype object at 0x000002407AA100A0>: 8}\n",
            "{<src.base.Boxtype object at 0x000002407AA100A0>: 8}\n",
            "{<src.base.Boxtype object at 0x000002407AA100A0>: 8}\n",
            "{<src.base.Boxtype object at 0x000002407AA100A0>: 6}\n",
            "{<src.base.Boxtype object at 0x000002407AA100A0>: 6}\n",
            "{<src.base.Boxtype object at 0x000002407AA100A0>: 8}\n",
            "{<src.base.Boxtype object at 0x000002407AA100A0>: 8}\n",
            "{<src.base.Boxtype object at 0x000002407AA100A0>: 8}\n",
            "{<src.base.Boxtype object at 0x000002407AA100A0>: 8}\n",
            "{<src.base.Boxtype object at 0x000002407AA100A0>: 8}\n",
            "{<src.base.Boxtype object at 0x000002407AA100A0>: 8}\n",
            "{<src.base.Boxtype object at 0x000002407AA100A0>: 4}\n",
            "{<src.base.Boxtype object at 0x000002407AA100A0>: 5}\n",
            "{<src.base.Boxtype object at 0x000002407AA100A0>: 6}\n",
            "{<src.base.Boxtype object at 0x000002407AA100A0>: 6}\n",
            "{<src.base.Boxtype object at 0x000002407AA100A0>: 6}\n",
            "{<src.base.Boxtype object at 0x000002407AA100A0>: 7}\n",
            "{<src.base.Boxtype object at 0x000002407AA100A0>: 6}\n",
            "{<src.base.Boxtype object at 0x000002407AA100A0>: 6}\n",
            "{<src.base.Boxtype object at 0x000002407AA100A0>: 8}\n",
            "{<src.base.Boxtype object at 0x000002407AA100A0>: 8}\n",
            "{<src.base.Boxtype object at 0x000002407AA100A0>: 8}\n",
            "{<src.base.Boxtype object at 0x000002407AA100A0>: 8}\n",
            "{<src.base.Boxtype object at 0x000002407AA100A0>: 8}\n",
            "{<src.base.Boxtype object at 0x000002407AA100A0>: 8}\n",
            "{<src.base.Boxtype object at 0x000002407AA100A0>: 6}\n",
            "{<src.base.Boxtype object at 0x000002407AA100A0>: 6}\n",
            "{<src.base.Boxtype object at 0x000002407AA100A0>: 8}\n",
            "{<src.base.Boxtype object at 0x000002407AA100A0>: 8}\n",
            "{<src.base.Boxtype object at 0x000002407AA100A0>: 8}\n",
            "{<src.base.Boxtype object at 0x000002407AA100A0>: 8}\n",
            "{<src.base.Boxtype object at 0x000002407AA100A0>: 8}\n",
            "{<src.base.Boxtype object at 0x000002407AA100A0>: 8}\n",
            "{<src.base.Boxtype object at 0x000002407AA100A0>: 5}\n",
            "{<src.base.Boxtype object at 0x000002407AA100A0>: 6}\n",
            "{<src.base.Boxtype object at 0x000002407AA100A0>: 7}\n",
            "{<src.base.Boxtype object at 0x000002407AA100A0>: 8}\n",
            "{<src.base.Boxtype object at 0x000002407AA100A0>: 8}\n",
            "{<src.base.Boxtype object at 0x000002407AA100A0>: 8}\n",
            "{<src.base.Boxtype object at 0x000002407AA100A0>: 4}\n",
            "{<src.base.Boxtype object at 0x000002407AA100A0>: 5}\n",
            "{<src.base.Boxtype object at 0x000002407AA100A0>: 6}\n",
            "{<src.base.Boxtype object at 0x000002407AA100A0>: 6}\n",
            "{<src.base.Boxtype object at 0x000002407AA100A0>: 6}\n",
            "{<src.base.Boxtype object at 0x000002407AA100A0>: 7}\n",
            "{<src.base.Boxtype object at 0x000002407AA100A0>: 5}\n",
            "{<src.base.Boxtype object at 0x000002407AA100A0>: 6}\n",
            "{<src.base.Boxtype object at 0x000002407AA100A0>: 7}\n",
            "{<src.base.Boxtype object at 0x000002407AA100A0>: 8}\n",
            "{<src.base.Boxtype object at 0x000002407AA100A0>: 8}\n",
            "{<src.base.Boxtype object at 0x000002407AA100A0>: 8}\n",
            "{<src.base.Boxtype object at 0x000002407AA100A0>: 6}\n",
            "{<src.base.Boxtype object at 0x000002407AA100A0>: 6}\n",
            "{<src.base.Boxtype object at 0x000002407AA100A0>: 8}\n",
            "{<src.base.Boxtype object at 0x000002407AA100A0>: 8}\n",
            "{<src.base.Boxtype object at 0x000002407AA100A0>: 8}\n",
            "{<src.base.Boxtype object at 0x000002407AA100A0>: 8}\n",
            "{<src.base.Boxtype object at 0x000002407AA100A0>: 8}\n",
            "{<src.base.Boxtype object at 0x000002407AA100A0>: 8}\n",
            "{<src.base.Boxtype object at 0x000002407AA100A0>: 6}\n",
            "{<src.base.Boxtype object at 0x000002407AA100A0>: 6}\n",
            "{<src.base.Boxtype object at 0x000002407AA100A0>: 8}\n",
            "{<src.base.Boxtype object at 0x000002407AA100A0>: 8}\n",
            "{<src.base.Boxtype object at 0x000002407AA100A0>: 8}\n",
            "{<src.base.Boxtype object at 0x000002407AA100A0>: 8}\n",
            "{<src.base.Boxtype object at 0x000002407AA100A0>: 8}\n",
            "{<src.base.Boxtype object at 0x000002407AA100A0>: 8}\n",
            "Block: l: 587 w: 233 h: 220 weight: 101 volume: 30089620 occupied_volume: 26007619 items: {<src.base.Boxtype object at 0x000002407AA122F0>: 16, <src.base.Boxtype object at 0x000002407AA12380>: 11, <src.base.Boxtype object at 0x000002407AA12350>: 13, <src.base.Boxtype object at 0x000002407AA12320>: 11, <src.base.Boxtype object at 0x000002407AA11390>: 7, <src.base.Boxtype object at 0x000002407AA12A70>: 11, <src.base.Boxtype object at 0x000002407AA100A0>: 13, <src.base.Boxtype object at 0x000002407AA13D90>: 7, <src.base.Boxtype object at 0x000002407AA113C0>: 12} ratio:0.8643385659240629\n"
          ]
        }
      ],
      "source": [
        "\n",
        "from src.base import Itemdict, BlockList, Aabb, Space\n",
        "\n",
        "Space.filling = \"bottom-up\" # spaces are filled from bottom to top\n",
        "Space.vertical_stability = True # boxes must be completly supported\n",
        "\n",
        "items, L, W, H = load_instance(filename = \"src/BR4.txt\", type=\"BF\", id_instance=1)\n",
        "\n",
        "cont = Block(l=L,w=W,h=H)\n",
        "\n",
        "# print(\"generating blocks...\")\n",
        "blocks = BlockList(items, type=\"general_blocks\", cont=cont, min_fr=1.0, max_bl=1000) \n",
        "\n",
        "# for x in blocks:\n",
        "#    print(x.items)\n",
        "\n",
        "# greedy for single CLP\n",
        "while True:\n",
        "    space = cont.free_space.closest_space() #cuboide mas cercano a un vertice inferior del contenedor\n",
        "\n",
        "    if space is not None:\n",
        "      block = eval.eval_function(blocks,space,p=0.05,stored_blocks=cont.aabbs,items=items)\n",
        "      # print(\"adding block...\", block)\n",
        "      \n",
        "      cont.add_block(block, space)\n",
        "      adyacent_blocks(cont.aabbs,L,W,H)\n",
        "      items -= block.items\n",
        "      blocks.remove_unconstructable(items)\n",
        "      cont.free_space.filter(items)\n",
        "    else:\n",
        "        break\n",
        "\n",
        "print(cont)\n"
      ]
    },
    {
      "attachments": {},
      "cell_type": "markdown",
      "metadata": {
        "id": "jHxosWYplHgN"
      },
      "source": [
        "# Plot the solution"
      ]
    },
    {
      "cell_type": "code",
      "execution_count": 5,
      "metadata": {
        "colab": {
          "base_uri": "https://localhost:8080/",
          "height": 562
        },
        "id": "CkjIfgmeTSs6",
        "outputId": "71414d7e-c2d6-4d90-8422-d921419051ce"
      },
      "outputs": [
        {
          "data": {
            "application/vnd.plotly.v1+json": {
              "config": {
                "linkText": "Export to plot.ly",
                "plotlyServerURL": "https://plot.ly",
                "showLink": false
              },
              "data": [
                {
                  "color": "rgb(124.21702826913129,79.58035747411743,100.14282035803292)",
                  "i": [
                    7,
                    0,
                    0,
                    0,
                    4,
                    4,
                    2,
                    6,
                    4,
                    0,
                    3,
                    7
                  ],
                  "j": [
                    3,
                    4,
                    1,
                    2,
                    5,
                    6,
                    5,
                    5,
                    0,
                    1,
                    2,
                    2
                  ],
                  "k": [
                    0,
                    7,
                    2,
                    3,
                    6,
                    7,
                    1,
                    2,
                    5,
                    5,
                    7,
                    6
                  ],
                  "opacity": 1,
                  "type": "mesh3d",
                  "x": [
                    0,
                    0,
                    340,
                    340,
                    0,
                    0,
                    340,
                    340
                  ],
                  "y": [
                    0,
                    84,
                    84,
                    0,
                    0,
                    84,
                    84,
                    0
                  ],
                  "z": [
                    0,
                    0,
                    0,
                    0,
                    72,
                    72,
                    72,
                    72
                  ]
                },
                {
                  "color": "rgb(233.81927984286384,150.2806573428327,103.61325032052176)",
                  "i": [
                    7,
                    0,
                    0,
                    0,
                    4,
                    4,
                    2,
                    6,
                    4,
                    0,
                    3,
                    7
                  ],
                  "j": [
                    3,
                    4,
                    1,
                    2,
                    5,
                    6,
                    5,
                    5,
                    0,
                    1,
                    2,
                    2
                  ],
                  "k": [
                    0,
                    7,
                    2,
                    3,
                    6,
                    7,
                    1,
                    2,
                    5,
                    5,
                    7,
                    6
                  ],
                  "opacity": 1,
                  "type": "mesh3d",
                  "x": [
                    0,
                    0,
                    340,
                    340,
                    0,
                    0,
                    340,
                    340
                  ],
                  "y": [
                    149,
                    233,
                    233,
                    149,
                    149,
                    233,
                    233,
                    149
                  ],
                  "z": [
                    0,
                    0,
                    0,
                    0,
                    72,
                    72,
                    72,
                    72
                  ]
                },
                {
                  "color": "rgb(183.97823293968673,207.8868344310071,120.29686280921956)",
                  "i": [
                    7,
                    0,
                    0,
                    0,
                    4,
                    4,
                    2,
                    6,
                    4,
                    0,
                    3,
                    7
                  ],
                  "j": [
                    3,
                    4,
                    1,
                    2,
                    5,
                    6,
                    5,
                    5,
                    0,
                    1,
                    2,
                    2
                  ],
                  "k": [
                    0,
                    7,
                    2,
                    3,
                    6,
                    7,
                    1,
                    2,
                    5,
                    5,
                    7,
                    6
                  ],
                  "opacity": 1,
                  "type": "mesh3d",
                  "x": [
                    417,
                    417,
                    587,
                    587,
                    417,
                    417,
                    587,
                    587
                  ],
                  "y": [
                    0,
                    168,
                    168,
                    0,
                    0,
                    168,
                    168,
                    0
                  ],
                  "z": [
                    0,
                    0,
                    0,
                    0,
                    72,
                    72,
                    72,
                    72
                  ]
                },
                {
                  "color": "rgb(234.32844103298132,214.07119775778546,148.89262232903897)",
                  "i": [
                    7,
                    0,
                    0,
                    0,
                    4,
                    4,
                    2,
                    6,
                    4,
                    0,
                    3,
                    7
                  ],
                  "j": [
                    3,
                    4,
                    1,
                    2,
                    5,
                    6,
                    5,
                    5,
                    0,
                    1,
                    2,
                    2
                  ],
                  "k": [
                    0,
                    7,
                    2,
                    3,
                    6,
                    7,
                    1,
                    2,
                    5,
                    5,
                    7,
                    6
                  ],
                  "opacity": 1,
                  "type": "mesh3d",
                  "x": [
                    435,
                    435,
                    587,
                    587,
                    435,
                    435,
                    587,
                    587
                  ],
                  "y": [
                    169,
                    233,
                    233,
                    169,
                    169,
                    233,
                    233,
                    169
                  ],
                  "z": [
                    0,
                    0,
                    0,
                    0,
                    206,
                    206,
                    206,
                    206
                  ]
                },
                {
                  "color": "rgb(136.50554949705162,61.695414623151436,9.819067158410034)",
                  "i": [
                    7,
                    0,
                    0,
                    0,
                    4,
                    4,
                    2,
                    6,
                    4,
                    0,
                    3,
                    7
                  ],
                  "j": [
                    3,
                    4,
                    1,
                    2,
                    5,
                    6,
                    5,
                    5,
                    0,
                    1,
                    2,
                    2
                  ],
                  "k": [
                    0,
                    7,
                    2,
                    3,
                    6,
                    7,
                    1,
                    2,
                    5,
                    5,
                    7,
                    6
                  ],
                  "opacity": 1,
                  "type": "mesh3d",
                  "x": [
                    0,
                    0,
                    340,
                    340,
                    0,
                    0,
                    340,
                    340
                  ],
                  "y": [
                    0,
                    84,
                    84,
                    0,
                    0,
                    84,
                    84,
                    0
                  ],
                  "z": [
                    72,
                    72,
                    72,
                    72,
                    144,
                    144,
                    144,
                    144
                  ]
                },
                {
                  "color": "rgb(129.14749816332002,119.29113193609628,53.41647856183618)",
                  "i": [
                    7,
                    0,
                    0,
                    0,
                    4,
                    4,
                    2,
                    6,
                    4,
                    0,
                    3,
                    7
                  ],
                  "j": [
                    3,
                    4,
                    1,
                    2,
                    5,
                    6,
                    5,
                    5,
                    0,
                    1,
                    2,
                    2
                  ],
                  "k": [
                    0,
                    7,
                    2,
                    3,
                    6,
                    7,
                    1,
                    2,
                    5,
                    5,
                    7,
                    6
                  ],
                  "opacity": 1,
                  "type": "mesh3d",
                  "x": [
                    0,
                    0,
                    206,
                    206,
                    0,
                    0,
                    206,
                    206
                  ],
                  "y": [
                    157,
                    233,
                    233,
                    157,
                    157,
                    233,
                    233,
                    157
                  ],
                  "z": [
                    72,
                    72,
                    72,
                    72,
                    200,
                    200,
                    200,
                    200
                  ]
                },
                {
                  "color": "rgb(220.99343020930726,212.55068240152042,9.46958906308955)",
                  "i": [
                    7,
                    0,
                    0,
                    0,
                    4,
                    4,
                    2,
                    6,
                    4,
                    0,
                    3,
                    7
                  ],
                  "j": [
                    3,
                    4,
                    1,
                    2,
                    5,
                    6,
                    5,
                    5,
                    0,
                    1,
                    2,
                    2
                  ],
                  "k": [
                    0,
                    7,
                    2,
                    3,
                    6,
                    7,
                    1,
                    2,
                    5,
                    5,
                    7,
                    6
                  ],
                  "opacity": 1,
                  "type": "mesh3d",
                  "x": [
                    492,
                    492,
                    587,
                    587,
                    492,
                    492,
                    587,
                    587
                  ],
                  "y": [
                    0,
                    140,
                    140,
                    0,
                    0,
                    140,
                    140,
                    0
                  ],
                  "z": [
                    72,
                    72,
                    72,
                    72,
                    196,
                    196,
                    196,
                    196
                  ]
                },
                {
                  "color": "rgb(123.64369040504859,85.47848800836678,39.750661740197)",
                  "i": [
                    7,
                    0,
                    0,
                    0,
                    4,
                    4,
                    2,
                    6,
                    4,
                    0,
                    3,
                    7
                  ],
                  "j": [
                    3,
                    4,
                    1,
                    2,
                    5,
                    6,
                    5,
                    5,
                    0,
                    1,
                    2,
                    2
                  ],
                  "k": [
                    0,
                    7,
                    2,
                    3,
                    6,
                    7,
                    1,
                    2,
                    5,
                    5,
                    7,
                    6
                  ],
                  "opacity": 1,
                  "type": "mesh3d",
                  "x": [
                    0,
                    0,
                    280,
                    280,
                    0,
                    0,
                    280,
                    280
                  ],
                  "y": [
                    84,
                    146,
                    146,
                    84,
                    84,
                    146,
                    146,
                    84
                  ],
                  "z": [
                    0,
                    0,
                    0,
                    0,
                    95,
                    95,
                    95,
                    95
                  ]
                },
                {
                  "color": "rgb(20.941740835916566,118.46110619830348,253.96036171178127)",
                  "i": [
                    7,
                    0,
                    0,
                    0,
                    4,
                    4,
                    2,
                    6,
                    4,
                    0,
                    3,
                    7
                  ],
                  "j": [
                    3,
                    4,
                    1,
                    2,
                    5,
                    6,
                    5,
                    5,
                    0,
                    1,
                    2,
                    2
                  ],
                  "k": [
                    0,
                    7,
                    2,
                    3,
                    6,
                    7,
                    1,
                    2,
                    5,
                    5,
                    7,
                    6
                  ],
                  "opacity": 1,
                  "type": "mesh3d",
                  "x": [
                    476,
                    476,
                    587,
                    587,
                    476,
                    476,
                    587,
                    587
                  ],
                  "y": [
                    142,
                    168,
                    168,
                    142,
                    142,
                    168,
                    168,
                    142
                  ],
                  "z": [
                    72,
                    72,
                    72,
                    72,
                    219,
                    219,
                    219,
                    219
                  ]
                },
                {
                  "color": "rgb(95.59202179531714,218.33248822701424,34.36061721307852)",
                  "i": [
                    7,
                    0,
                    0,
                    0,
                    4,
                    4,
                    2,
                    6,
                    4,
                    0,
                    3,
                    7
                  ],
                  "j": [
                    3,
                    4,
                    1,
                    2,
                    5,
                    6,
                    5,
                    5,
                    0,
                    1,
                    2,
                    2
                  ],
                  "k": [
                    0,
                    7,
                    2,
                    3,
                    6,
                    7,
                    1,
                    2,
                    5,
                    5,
                    7,
                    6
                  ],
                  "opacity": 1,
                  "type": "mesh3d",
                  "x": [
                    0,
                    0,
                    309,
                    309,
                    0,
                    0,
                    309,
                    309
                  ],
                  "y": [
                    0,
                    76,
                    76,
                    0,
                    0,
                    76,
                    76,
                    0
                  ],
                  "z": [
                    144,
                    144,
                    144,
                    144,
                    208,
                    208,
                    208,
                    208
                  ]
                },
                {
                  "color": "rgb(5.120548367183359,59.416430665856325,167.9481343559157)",
                  "i": [
                    7,
                    0,
                    0,
                    0,
                    4,
                    4,
                    2,
                    6,
                    4,
                    0,
                    3,
                    7
                  ],
                  "j": [
                    3,
                    4,
                    1,
                    2,
                    5,
                    6,
                    5,
                    5,
                    0,
                    1,
                    2,
                    2
                  ],
                  "k": [
                    0,
                    7,
                    2,
                    3,
                    6,
                    7,
                    1,
                    2,
                    5,
                    5,
                    7,
                    6
                  ],
                  "opacity": 1,
                  "type": "mesh3d",
                  "x": [
                    340,
                    340,
                    435,
                    435,
                    340,
                    340,
                    435,
                    435
                  ],
                  "y": [
                    171,
                    233,
                    233,
                    171,
                    171,
                    233,
                    233,
                    171
                  ],
                  "z": [
                    0,
                    0,
                    0,
                    0,
                    210,
                    210,
                    210,
                    210
                  ]
                },
                {
                  "color": "rgb(179.9081042101809,202.08959214716842,8.97138958515472)",
                  "i": [
                    7,
                    0,
                    0,
                    0,
                    4,
                    4,
                    2,
                    6,
                    4,
                    0,
                    3,
                    7
                  ],
                  "j": [
                    3,
                    4,
                    1,
                    2,
                    5,
                    6,
                    5,
                    5,
                    0,
                    1,
                    2,
                    2
                  ],
                  "k": [
                    0,
                    7,
                    2,
                    3,
                    6,
                    7,
                    1,
                    2,
                    5,
                    5,
                    7,
                    6
                  ],
                  "opacity": 1,
                  "type": "mesh3d",
                  "x": [
                    422,
                    422,
                    492,
                    492,
                    422,
                    422,
                    492,
                    492
                  ],
                  "y": [
                    0,
                    124,
                    124,
                    0,
                    0,
                    124,
                    124,
                    0
                  ],
                  "z": [
                    72,
                    72,
                    72,
                    72,
                    167,
                    167,
                    167,
                    167
                  ]
                },
                {
                  "color": "rgb(57.994598031278926,65.14972101198254,0.7974691654170618)",
                  "i": [
                    7,
                    0,
                    0,
                    0,
                    4,
                    4,
                    2,
                    6,
                    4,
                    0,
                    3,
                    7
                  ],
                  "j": [
                    3,
                    4,
                    1,
                    2,
                    5,
                    6,
                    5,
                    5,
                    0,
                    1,
                    2,
                    2
                  ],
                  "k": [
                    0,
                    7,
                    2,
                    3,
                    6,
                    7,
                    1,
                    2,
                    5,
                    5,
                    7,
                    6
                  ],
                  "opacity": 1,
                  "type": "mesh3d",
                  "x": [
                    341,
                    341,
                    417,
                    417,
                    341,
                    341,
                    417,
                    417
                  ],
                  "y": [
                    0,
                    86,
                    86,
                    0,
                    0,
                    86,
                    86,
                    0
                  ],
                  "z": [
                    0,
                    0,
                    0,
                    0,
                    152,
                    152,
                    152,
                    152
                  ]
                },
                {
                  "color": "rgb(70.43995961626604,194.68985582281266,225.80126006906855)",
                  "i": [
                    7,
                    0,
                    0,
                    0,
                    4,
                    4,
                    2,
                    6,
                    4,
                    0,
                    3,
                    7
                  ],
                  "j": [
                    3,
                    4,
                    1,
                    2,
                    5,
                    6,
                    5,
                    5,
                    0,
                    1,
                    2,
                    2
                  ],
                  "k": [
                    0,
                    7,
                    2,
                    3,
                    6,
                    7,
                    1,
                    2,
                    5,
                    5,
                    7,
                    6
                  ],
                  "opacity": 1,
                  "type": "mesh3d",
                  "x": [
                    0,
                    0,
                    142,
                    142,
                    0,
                    0,
                    142,
                    142
                  ],
                  "y": [
                    84,
                    132,
                    132,
                    84,
                    84,
                    132,
                    132,
                    84
                  ],
                  "z": [
                    95,
                    95,
                    95,
                    95,
                    189,
                    189,
                    189,
                    189
                  ]
                },
                {
                  "color": "rgb(35.843021288571485,172.68513358566858,64.92909837720048)",
                  "i": [
                    7,
                    0,
                    0,
                    0,
                    4,
                    4,
                    2,
                    6,
                    4,
                    0,
                    3,
                    7
                  ],
                  "j": [
                    3,
                    4,
                    1,
                    2,
                    5,
                    6,
                    5,
                    5,
                    0,
                    1,
                    2,
                    2
                  ],
                  "k": [
                    0,
                    7,
                    2,
                    3,
                    6,
                    7,
                    1,
                    2,
                    5,
                    5,
                    7,
                    6
                  ],
                  "opacity": 1,
                  "type": "mesh3d",
                  "x": [
                    512,
                    512,
                    587,
                    587,
                    512,
                    512,
                    587,
                    587
                  ],
                  "y": [
                    0,
                    98,
                    98,
                    0,
                    0,
                    98,
                    98,
                    0
                  ],
                  "z": [
                    196,
                    196,
                    196,
                    196,
                    217,
                    217,
                    217,
                    217
                  ]
                },
                {
                  "color": "rgb(188.0283718967232,146.24262836462924,236.1959874400502)",
                  "i": [
                    7,
                    0,
                    0,
                    0,
                    4,
                    4,
                    2,
                    6,
                    4,
                    0,
                    3,
                    7
                  ],
                  "j": [
                    3,
                    4,
                    1,
                    2,
                    5,
                    6,
                    5,
                    5,
                    0,
                    1,
                    2,
                    2
                  ],
                  "k": [
                    0,
                    7,
                    2,
                    3,
                    6,
                    7,
                    1,
                    2,
                    5,
                    5,
                    7,
                    6
                  ],
                  "opacity": 1,
                  "type": "mesh3d",
                  "x": [
                    346,
                    346,
                    417,
                    417,
                    346,
                    346,
                    417,
                    417
                  ],
                  "y": [
                    123,
                    171,
                    171,
                    123,
                    123,
                    171,
                    171,
                    123
                  ],
                  "z": [
                    0,
                    0,
                    0,
                    0,
                    188,
                    188,
                    188,
                    188
                  ]
                },
                {
                  "color": "rgb(242.17161604939164,243.5191724267013,180.83115125471073)",
                  "i": [
                    7,
                    0,
                    0,
                    0,
                    4,
                    4,
                    2,
                    6,
                    4,
                    0,
                    3,
                    7
                  ],
                  "j": [
                    3,
                    4,
                    1,
                    2,
                    5,
                    6,
                    5,
                    5,
                    0,
                    1,
                    2,
                    2
                  ],
                  "k": [
                    0,
                    7,
                    2,
                    3,
                    6,
                    7,
                    1,
                    2,
                    5,
                    5,
                    7,
                    6
                  ],
                  "opacity": 1,
                  "type": "mesh3d",
                  "x": [
                    425,
                    425,
                    476,
                    476,
                    425,
                    425,
                    476,
                    476
                  ],
                  "y": [
                    127,
                    168,
                    168,
                    127,
                    127,
                    168,
                    168,
                    127
                  ],
                  "z": [
                    72,
                    72,
                    72,
                    72,
                    192,
                    192,
                    192,
                    192
                  ]
                },
                {
                  "color": "rgb(54.496378059640556,49.40388091620353,221.5958393098058)",
                  "i": [
                    7,
                    0,
                    0,
                    0,
                    4,
                    4,
                    2,
                    6,
                    4,
                    0,
                    3,
                    7
                  ],
                  "j": [
                    3,
                    4,
                    1,
                    2,
                    5,
                    6,
                    5,
                    5,
                    0,
                    1,
                    2,
                    2
                  ],
                  "k": [
                    0,
                    7,
                    2,
                    3,
                    6,
                    7,
                    1,
                    2,
                    5,
                    5,
                    7,
                    6
                  ],
                  "opacity": 1,
                  "type": "mesh3d",
                  "x": [
                    306,
                    306,
                    417,
                    417,
                    306,
                    306,
                    417,
                    417
                  ],
                  "y": [
                    86,
                    112,
                    112,
                    86,
                    86,
                    112,
                    112,
                    86
                  ],
                  "z": [
                    0,
                    0,
                    0,
                    0,
                    196,
                    196,
                    196,
                    196
                  ]
                },
                {
                  "color": "rgb(29.234056122054472,175.52982715459584,156.44872749088594)",
                  "i": [
                    7,
                    0,
                    0,
                    0,
                    4,
                    4,
                    2,
                    6,
                    4,
                    0,
                    3,
                    7
                  ],
                  "j": [
                    3,
                    4,
                    1,
                    2,
                    5,
                    6,
                    5,
                    5,
                    0,
                    1,
                    2,
                    2
                  ],
                  "k": [
                    0,
                    7,
                    2,
                    3,
                    6,
                    7,
                    1,
                    2,
                    5,
                    5,
                    7,
                    6
                  ],
                  "opacity": 1,
                  "type": "mesh3d",
                  "x": [
                    432,
                    432,
                    492,
                    492,
                    432,
                    432,
                    492,
                    492
                  ],
                  "y": [
                    0,
                    123,
                    123,
                    0,
                    0,
                    123,
                    123,
                    0
                  ],
                  "z": [
                    167,
                    167,
                    167,
                    167,
                    218,
                    218,
                    218,
                    218
                  ]
                },
                {
                  "color": "rgb(14.907714507190516,2.207976799687224,132.79634684920387)",
                  "i": [
                    7,
                    0,
                    0,
                    0,
                    4,
                    4,
                    2,
                    6,
                    4,
                    0,
                    3,
                    7
                  ],
                  "j": [
                    3,
                    4,
                    1,
                    2,
                    5,
                    6,
                    5,
                    5,
                    0,
                    1,
                    2,
                    2
                  ],
                  "k": [
                    0,
                    7,
                    2,
                    3,
                    6,
                    7,
                    1,
                    2,
                    5,
                    5,
                    7,
                    6
                  ],
                  "opacity": 1,
                  "type": "mesh3d",
                  "x": [
                    0,
                    0,
                    108,
                    108,
                    0,
                    0,
                    108,
                    108
                  ],
                  "y": [
                    84,
                    132,
                    132,
                    84,
                    84,
                    132,
                    132,
                    84
                  ],
                  "z": [
                    189,
                    189,
                    189,
                    189,
                    220,
                    220,
                    220,
                    220
                  ]
                },
                {
                  "color": "rgb(30.611639615808592,188.76279563414704,70.67837727876503)",
                  "i": [
                    7,
                    0,
                    0,
                    0,
                    4,
                    4,
                    2,
                    6,
                    4,
                    0,
                    3,
                    7
                  ],
                  "j": [
                    3,
                    4,
                    1,
                    2,
                    5,
                    6,
                    5,
                    5,
                    0,
                    1,
                    2,
                    2
                  ],
                  "k": [
                    0,
                    7,
                    2,
                    3,
                    6,
                    7,
                    1,
                    2,
                    5,
                    5,
                    7,
                    6
                  ],
                  "opacity": 1,
                  "type": "mesh3d",
                  "x": [
                    206,
                    206,
                    292,
                    292,
                    206,
                    206,
                    292,
                    292
                  ],
                  "y": [
                    157,
                    233,
                    233,
                    157,
                    157,
                    233,
                    233,
                    157
                  ],
                  "z": [
                    72,
                    72,
                    72,
                    72,
                    186,
                    186,
                    186,
                    186
                  ]
                },
                {
                  "color": "rgb(177.08649488164204,114.56012011297187,251.45606506952723)",
                  "i": [
                    7,
                    0,
                    0,
                    0,
                    4,
                    4,
                    2,
                    6,
                    4,
                    0,
                    3,
                    7
                  ],
                  "j": [
                    3,
                    4,
                    1,
                    2,
                    5,
                    6,
                    5,
                    5,
                    0,
                    1,
                    2,
                    2
                  ],
                  "k": [
                    0,
                    7,
                    2,
                    3,
                    6,
                    7,
                    1,
                    2,
                    5,
                    5,
                    7,
                    6
                  ],
                  "opacity": 1,
                  "type": "mesh3d",
                  "x": [
                    538,
                    538,
                    587,
                    587,
                    538,
                    538,
                    587,
                    587
                  ],
                  "y": [
                    115,
                    140,
                    140,
                    115,
                    115,
                    140,
                    140,
                    115
                  ],
                  "z": [
                    196,
                    196,
                    196,
                    196,
                    217,
                    217,
                    217,
                    217
                  ]
                },
                {
                  "color": "rgb(150.07680110734725,95.87356392578027,19.096286660672448)",
                  "i": [
                    7,
                    0,
                    0,
                    0,
                    4,
                    4,
                    2,
                    6,
                    4,
                    0,
                    3,
                    7
                  ],
                  "j": [
                    3,
                    4,
                    1,
                    2,
                    5,
                    6,
                    5,
                    5,
                    0,
                    1,
                    2,
                    2
                  ],
                  "k": [
                    0,
                    7,
                    2,
                    3,
                    6,
                    7,
                    1,
                    2,
                    5,
                    5,
                    7,
                    6
                  ],
                  "opacity": 1,
                  "type": "mesh3d",
                  "x": [
                    293,
                    293,
                    340,
                    340,
                    293,
                    293,
                    340,
                    340
                  ],
                  "y": [
                    162,
                    233,
                    233,
                    162,
                    162,
                    233,
                    233,
                    162
                  ],
                  "z": [
                    72,
                    72,
                    72,
                    72,
                    216,
                    216,
                    216,
                    216
                  ]
                },
                {
                  "color": "rgb(153.7787637473049,241.2290572811815,190.7306160411224)",
                  "i": [
                    7,
                    0,
                    0,
                    0,
                    4,
                    4,
                    2,
                    6,
                    4,
                    0,
                    3,
                    7
                  ],
                  "j": [
                    3,
                    4,
                    1,
                    2,
                    5,
                    6,
                    5,
                    5,
                    0,
                    1,
                    2,
                    2
                  ],
                  "k": [
                    0,
                    7,
                    2,
                    3,
                    6,
                    7,
                    1,
                    2,
                    5,
                    5,
                    7,
                    6
                  ],
                  "opacity": 1,
                  "type": "mesh3d",
                  "x": [
                    142,
                    142,
                    253,
                    253,
                    142,
                    142,
                    253,
                    253
                  ],
                  "y": [
                    84,
                    133,
                    133,
                    84,
                    84,
                    133,
                    133,
                    84
                  ],
                  "z": [
                    95,
                    95,
                    95,
                    95,
                    199,
                    199,
                    199,
                    199
                  ]
                },
                {
                  "color": "rgb(118.22168234544223,214.80917290418688,218.95923979968205)",
                  "i": [
                    7,
                    0,
                    0,
                    0,
                    4,
                    4,
                    2,
                    6,
                    4,
                    0,
                    3,
                    7
                  ],
                  "j": [
                    3,
                    4,
                    1,
                    2,
                    5,
                    6,
                    5,
                    5,
                    0,
                    1,
                    2,
                    2
                  ],
                  "k": [
                    0,
                    7,
                    2,
                    3,
                    6,
                    7,
                    1,
                    2,
                    5,
                    5,
                    7,
                    6
                  ],
                  "opacity": 1,
                  "type": "mesh3d",
                  "x": [
                    366,
                    366,
                    417,
                    417,
                    366,
                    366,
                    417,
                    417
                  ],
                  "y": [
                    0,
                    82,
                    82,
                    0,
                    0,
                    82,
                    82,
                    0
                  ],
                  "z": [
                    152,
                    152,
                    152,
                    152,
                    212,
                    212,
                    212,
                    212
                  ]
                },
                {
                  "color": "rgb(145.32735711234295,245.39021196498496,141.5542147821841)",
                  "i": [
                    7,
                    0,
                    0,
                    0,
                    4,
                    4,
                    2,
                    6,
                    4,
                    0,
                    3,
                    7
                  ],
                  "j": [
                    3,
                    4,
                    1,
                    2,
                    5,
                    6,
                    5,
                    5,
                    0,
                    1,
                    2,
                    2
                  ],
                  "k": [
                    0,
                    7,
                    2,
                    3,
                    6,
                    7,
                    1,
                    2,
                    5,
                    5,
                    7,
                    6
                  ],
                  "opacity": 1,
                  "type": "mesh3d",
                  "x": [
                    298,
                    298,
                    346,
                    346,
                    298,
                    298,
                    346,
                    346
                  ],
                  "y": [
                    113,
                    149,
                    149,
                    113,
                    113,
                    149,
                    149,
                    113
                  ],
                  "z": [
                    0,
                    0,
                    0,
                    0,
                    124,
                    124,
                    124,
                    124
                  ]
                },
                {
                  "color": "rgb(39.938314734673455,229.93208953894157,132.79564447945623)",
                  "i": [
                    7,
                    0,
                    0,
                    0,
                    4,
                    4,
                    2,
                    6,
                    4,
                    0,
                    3,
                    7
                  ],
                  "j": [
                    3,
                    4,
                    1,
                    2,
                    5,
                    6,
                    5,
                    5,
                    0,
                    1,
                    2,
                    2
                  ],
                  "k": [
                    0,
                    7,
                    2,
                    3,
                    6,
                    7,
                    1,
                    2,
                    5,
                    5,
                    7,
                    6
                  ],
                  "opacity": 1,
                  "type": "mesh3d",
                  "x": [
                    427,
                    427,
                    476,
                    476,
                    427,
                    427,
                    476,
                    476
                  ],
                  "y": [
                    143,
                    168,
                    168,
                    143,
                    143,
                    168,
                    168,
                    143
                  ],
                  "z": [
                    192,
                    192,
                    192,
                    192,
                    213,
                    213,
                    213,
                    213
                  ]
                },
                {
                  "color": "rgb(111.18172468627425,206.2541221539931,167.6606647374223)",
                  "i": [
                    7,
                    0,
                    0,
                    0,
                    4,
                    4,
                    2,
                    6,
                    4,
                    0,
                    3,
                    7
                  ],
                  "j": [
                    3,
                    4,
                    1,
                    2,
                    5,
                    6,
                    5,
                    5,
                    0,
                    1,
                    2,
                    2
                  ],
                  "k": [
                    0,
                    7,
                    2,
                    3,
                    6,
                    7,
                    1,
                    2,
                    5,
                    5,
                    7,
                    6
                  ],
                  "opacity": 1,
                  "type": "mesh3d",
                  "x": [
                    206,
                    206,
                    254,
                    254,
                    206,
                    206,
                    254,
                    254
                  ],
                  "y": [
                    161,
                    233,
                    233,
                    161,
                    161,
                    233,
                    233,
                    161
                  ],
                  "z": [
                    186,
                    186,
                    186,
                    186,
                    217,
                    217,
                    217,
                    217
                  ]
                },
                {
                  "color": "rgb(62.6811186598149,13.707356486716487,222.05914648807513)",
                  "i": [
                    7,
                    0,
                    0,
                    0,
                    4,
                    4,
                    2,
                    6,
                    4,
                    0,
                    3,
                    7
                  ],
                  "j": [
                    3,
                    4,
                    1,
                    2,
                    5,
                    6,
                    5,
                    5,
                    0,
                    1,
                    2,
                    2
                  ],
                  "k": [
                    0,
                    7,
                    2,
                    3,
                    6,
                    7,
                    1,
                    2,
                    5,
                    5,
                    7,
                    6
                  ],
                  "opacity": 1,
                  "type": "mesh3d",
                  "x": [
                    369,
                    369,
                    417,
                    417,
                    369,
                    369,
                    417,
                    417
                  ],
                  "y": [
                    135,
                    171,
                    171,
                    135,
                    135,
                    171,
                    171,
                    135
                  ],
                  "z": [
                    188,
                    188,
                    188,
                    188,
                    219,
                    219,
                    219,
                    219
                  ]
                },
                {
                  "color": "rgb(186.81014372492444,52.0055488473269,249.3854053133049)",
                  "i": [
                    7,
                    0,
                    0,
                    0,
                    4,
                    4,
                    2,
                    6,
                    4,
                    0,
                    3,
                    7
                  ],
                  "j": [
                    3,
                    4,
                    1,
                    2,
                    5,
                    6,
                    5,
                    5,
                    0,
                    1,
                    2,
                    2
                  ],
                  "k": [
                    0,
                    7,
                    2,
                    3,
                    6,
                    7,
                    1,
                    2,
                    5,
                    5,
                    7,
                    6
                  ],
                  "opacity": 1,
                  "type": "mesh3d",
                  "x": [
                    142,
                    142,
                    242,
                    242,
                    142,
                    142,
                    242,
                    242
                  ],
                  "y": [
                    84,
                    133,
                    133,
                    84,
                    84,
                    133,
                    133,
                    84
                  ],
                  "z": [
                    199,
                    199,
                    199,
                    199,
                    220,
                    220,
                    220,
                    220
                  ]
                },
                {
                  "color": "rgb(212.16084942257743,79.29618216548172,236.22168583073667)",
                  "i": [
                    7,
                    0,
                    0,
                    0,
                    4,
                    4,
                    2,
                    6,
                    4,
                    0,
                    3,
                    7
                  ],
                  "j": [
                    3,
                    4,
                    1,
                    2,
                    5,
                    6,
                    5,
                    5,
                    0,
                    1,
                    2,
                    2
                  ],
                  "k": [
                    0,
                    7,
                    2,
                    3,
                    6,
                    7,
                    1,
                    2,
                    5,
                    5,
                    7,
                    6
                  ],
                  "opacity": 1,
                  "type": "mesh3d",
                  "x": [
                    298,
                    298,
                    346,
                    346,
                    298,
                    298,
                    346,
                    346
                  ],
                  "y": [
                    113,
                    149,
                    149,
                    113,
                    113,
                    149,
                    149,
                    113
                  ],
                  "z": [
                    124,
                    124,
                    124,
                    124,
                    186,
                    186,
                    186,
                    186
                  ]
                },
                {
                  "color": "rgb(37.185081126119904,51.32917106709414,8.867100871398556)",
                  "i": [
                    7,
                    0,
                    0,
                    0,
                    4,
                    4,
                    2,
                    6,
                    4,
                    0,
                    3,
                    7
                  ],
                  "j": [
                    3,
                    4,
                    1,
                    2,
                    5,
                    6,
                    5,
                    5,
                    0,
                    1,
                    2,
                    2
                  ],
                  "k": [
                    0,
                    7,
                    2,
                    3,
                    6,
                    7,
                    1,
                    2,
                    5,
                    5,
                    7,
                    6
                  ],
                  "opacity": 1,
                  "type": "mesh3d",
                  "x": [
                    368,
                    368,
                    417,
                    417,
                    368,
                    368,
                    417,
                    417
                  ],
                  "y": [
                    86,
                    111,
                    111,
                    86,
                    86,
                    111,
                    111,
                    86
                  ],
                  "z": [
                    196,
                    196,
                    196,
                    196,
                    217,
                    217,
                    217,
                    217
                  ]
                }
              ],
              "layout": {
                "autosize": false,
                "margin": {
                  "b": 0,
                  "l": 0,
                  "r": 0,
                  "t": 0
                },
                "paper_bgcolor": "rgba(0,0,0,0)",
                "scene": {
                  "camera": {
                    "center": {
                      "x": 0,
                      "y": 0,
                      "z": 0
                    },
                    "eye": {
                      "x": -2,
                      "y": 2,
                      "z": 1.5
                    },
                    "up": {
                      "x": 0,
                      "y": 0,
                      "z": 1
                    }
                  },
                  "xaxis": {
                    "nticks": 10,
                    "range": [
                      0,
                      587
                    ],
                    "showspikes": false
                  },
                  "yaxis": {
                    "nticks": 5,
                    "range": [
                      0,
                      233
                    ],
                    "showspikes": false
                  },
                  "zaxis": {
                    "nticks": 5,
                    "range": [
                      0,
                      220
                    ],
                    "tickfont": {
                      "size": 15
                    }
                  }
                },
                "template": {
                  "data": {
                    "bar": [
                      {
                        "error_x": {
                          "color": "#2a3f5f"
                        },
                        "error_y": {
                          "color": "#2a3f5f"
                        },
                        "marker": {
                          "line": {
                            "color": "#E5ECF6",
                            "width": 0.5
                          },
                          "pattern": {
                            "fillmode": "overlay",
                            "size": 10,
                            "solidity": 0.2
                          }
                        },
                        "type": "bar"
                      }
                    ],
                    "barpolar": [
                      {
                        "marker": {
                          "line": {
                            "color": "#E5ECF6",
                            "width": 0.5
                          },
                          "pattern": {
                            "fillmode": "overlay",
                            "size": 10,
                            "solidity": 0.2
                          }
                        },
                        "type": "barpolar"
                      }
                    ],
                    "carpet": [
                      {
                        "aaxis": {
                          "endlinecolor": "#2a3f5f",
                          "gridcolor": "white",
                          "linecolor": "white",
                          "minorgridcolor": "white",
                          "startlinecolor": "#2a3f5f"
                        },
                        "baxis": {
                          "endlinecolor": "#2a3f5f",
                          "gridcolor": "white",
                          "linecolor": "white",
                          "minorgridcolor": "white",
                          "startlinecolor": "#2a3f5f"
                        },
                        "type": "carpet"
                      }
                    ],
                    "choropleth": [
                      {
                        "colorbar": {
                          "outlinewidth": 0,
                          "ticks": ""
                        },
                        "type": "choropleth"
                      }
                    ],
                    "contour": [
                      {
                        "colorbar": {
                          "outlinewidth": 0,
                          "ticks": ""
                        },
                        "colorscale": [
                          [
                            0,
                            "#0d0887"
                          ],
                          [
                            0.1111111111111111,
                            "#46039f"
                          ],
                          [
                            0.2222222222222222,
                            "#7201a8"
                          ],
                          [
                            0.3333333333333333,
                            "#9c179e"
                          ],
                          [
                            0.4444444444444444,
                            "#bd3786"
                          ],
                          [
                            0.5555555555555556,
                            "#d8576b"
                          ],
                          [
                            0.6666666666666666,
                            "#ed7953"
                          ],
                          [
                            0.7777777777777778,
                            "#fb9f3a"
                          ],
                          [
                            0.8888888888888888,
                            "#fdca26"
                          ],
                          [
                            1,
                            "#f0f921"
                          ]
                        ],
                        "type": "contour"
                      }
                    ],
                    "contourcarpet": [
                      {
                        "colorbar": {
                          "outlinewidth": 0,
                          "ticks": ""
                        },
                        "type": "contourcarpet"
                      }
                    ],
                    "heatmap": [
                      {
                        "colorbar": {
                          "outlinewidth": 0,
                          "ticks": ""
                        },
                        "colorscale": [
                          [
                            0,
                            "#0d0887"
                          ],
                          [
                            0.1111111111111111,
                            "#46039f"
                          ],
                          [
                            0.2222222222222222,
                            "#7201a8"
                          ],
                          [
                            0.3333333333333333,
                            "#9c179e"
                          ],
                          [
                            0.4444444444444444,
                            "#bd3786"
                          ],
                          [
                            0.5555555555555556,
                            "#d8576b"
                          ],
                          [
                            0.6666666666666666,
                            "#ed7953"
                          ],
                          [
                            0.7777777777777778,
                            "#fb9f3a"
                          ],
                          [
                            0.8888888888888888,
                            "#fdca26"
                          ],
                          [
                            1,
                            "#f0f921"
                          ]
                        ],
                        "type": "heatmap"
                      }
                    ],
                    "heatmapgl": [
                      {
                        "colorbar": {
                          "outlinewidth": 0,
                          "ticks": ""
                        },
                        "colorscale": [
                          [
                            0,
                            "#0d0887"
                          ],
                          [
                            0.1111111111111111,
                            "#46039f"
                          ],
                          [
                            0.2222222222222222,
                            "#7201a8"
                          ],
                          [
                            0.3333333333333333,
                            "#9c179e"
                          ],
                          [
                            0.4444444444444444,
                            "#bd3786"
                          ],
                          [
                            0.5555555555555556,
                            "#d8576b"
                          ],
                          [
                            0.6666666666666666,
                            "#ed7953"
                          ],
                          [
                            0.7777777777777778,
                            "#fb9f3a"
                          ],
                          [
                            0.8888888888888888,
                            "#fdca26"
                          ],
                          [
                            1,
                            "#f0f921"
                          ]
                        ],
                        "type": "heatmapgl"
                      }
                    ],
                    "histogram": [
                      {
                        "marker": {
                          "pattern": {
                            "fillmode": "overlay",
                            "size": 10,
                            "solidity": 0.2
                          }
                        },
                        "type": "histogram"
                      }
                    ],
                    "histogram2d": [
                      {
                        "colorbar": {
                          "outlinewidth": 0,
                          "ticks": ""
                        },
                        "colorscale": [
                          [
                            0,
                            "#0d0887"
                          ],
                          [
                            0.1111111111111111,
                            "#46039f"
                          ],
                          [
                            0.2222222222222222,
                            "#7201a8"
                          ],
                          [
                            0.3333333333333333,
                            "#9c179e"
                          ],
                          [
                            0.4444444444444444,
                            "#bd3786"
                          ],
                          [
                            0.5555555555555556,
                            "#d8576b"
                          ],
                          [
                            0.6666666666666666,
                            "#ed7953"
                          ],
                          [
                            0.7777777777777778,
                            "#fb9f3a"
                          ],
                          [
                            0.8888888888888888,
                            "#fdca26"
                          ],
                          [
                            1,
                            "#f0f921"
                          ]
                        ],
                        "type": "histogram2d"
                      }
                    ],
                    "histogram2dcontour": [
                      {
                        "colorbar": {
                          "outlinewidth": 0,
                          "ticks": ""
                        },
                        "colorscale": [
                          [
                            0,
                            "#0d0887"
                          ],
                          [
                            0.1111111111111111,
                            "#46039f"
                          ],
                          [
                            0.2222222222222222,
                            "#7201a8"
                          ],
                          [
                            0.3333333333333333,
                            "#9c179e"
                          ],
                          [
                            0.4444444444444444,
                            "#bd3786"
                          ],
                          [
                            0.5555555555555556,
                            "#d8576b"
                          ],
                          [
                            0.6666666666666666,
                            "#ed7953"
                          ],
                          [
                            0.7777777777777778,
                            "#fb9f3a"
                          ],
                          [
                            0.8888888888888888,
                            "#fdca26"
                          ],
                          [
                            1,
                            "#f0f921"
                          ]
                        ],
                        "type": "histogram2dcontour"
                      }
                    ],
                    "mesh3d": [
                      {
                        "colorbar": {
                          "outlinewidth": 0,
                          "ticks": ""
                        },
                        "type": "mesh3d"
                      }
                    ],
                    "parcoords": [
                      {
                        "line": {
                          "colorbar": {
                            "outlinewidth": 0,
                            "ticks": ""
                          }
                        },
                        "type": "parcoords"
                      }
                    ],
                    "pie": [
                      {
                        "automargin": true,
                        "type": "pie"
                      }
                    ],
                    "scatter": [
                      {
                        "fillpattern": {
                          "fillmode": "overlay",
                          "size": 10,
                          "solidity": 0.2
                        },
                        "type": "scatter"
                      }
                    ],
                    "scatter3d": [
                      {
                        "line": {
                          "colorbar": {
                            "outlinewidth": 0,
                            "ticks": ""
                          }
                        },
                        "marker": {
                          "colorbar": {
                            "outlinewidth": 0,
                            "ticks": ""
                          }
                        },
                        "type": "scatter3d"
                      }
                    ],
                    "scattercarpet": [
                      {
                        "marker": {
                          "colorbar": {
                            "outlinewidth": 0,
                            "ticks": ""
                          }
                        },
                        "type": "scattercarpet"
                      }
                    ],
                    "scattergeo": [
                      {
                        "marker": {
                          "colorbar": {
                            "outlinewidth": 0,
                            "ticks": ""
                          }
                        },
                        "type": "scattergeo"
                      }
                    ],
                    "scattergl": [
                      {
                        "marker": {
                          "colorbar": {
                            "outlinewidth": 0,
                            "ticks": ""
                          }
                        },
                        "type": "scattergl"
                      }
                    ],
                    "scattermapbox": [
                      {
                        "marker": {
                          "colorbar": {
                            "outlinewidth": 0,
                            "ticks": ""
                          }
                        },
                        "type": "scattermapbox"
                      }
                    ],
                    "scatterpolar": [
                      {
                        "marker": {
                          "colorbar": {
                            "outlinewidth": 0,
                            "ticks": ""
                          }
                        },
                        "type": "scatterpolar"
                      }
                    ],
                    "scatterpolargl": [
                      {
                        "marker": {
                          "colorbar": {
                            "outlinewidth": 0,
                            "ticks": ""
                          }
                        },
                        "type": "scatterpolargl"
                      }
                    ],
                    "scatterternary": [
                      {
                        "marker": {
                          "colorbar": {
                            "outlinewidth": 0,
                            "ticks": ""
                          }
                        },
                        "type": "scatterternary"
                      }
                    ],
                    "surface": [
                      {
                        "colorbar": {
                          "outlinewidth": 0,
                          "ticks": ""
                        },
                        "colorscale": [
                          [
                            0,
                            "#0d0887"
                          ],
                          [
                            0.1111111111111111,
                            "#46039f"
                          ],
                          [
                            0.2222222222222222,
                            "#7201a8"
                          ],
                          [
                            0.3333333333333333,
                            "#9c179e"
                          ],
                          [
                            0.4444444444444444,
                            "#bd3786"
                          ],
                          [
                            0.5555555555555556,
                            "#d8576b"
                          ],
                          [
                            0.6666666666666666,
                            "#ed7953"
                          ],
                          [
                            0.7777777777777778,
                            "#fb9f3a"
                          ],
                          [
                            0.8888888888888888,
                            "#fdca26"
                          ],
                          [
                            1,
                            "#f0f921"
                          ]
                        ],
                        "type": "surface"
                      }
                    ],
                    "table": [
                      {
                        "cells": {
                          "fill": {
                            "color": "#EBF0F8"
                          },
                          "line": {
                            "color": "white"
                          }
                        },
                        "header": {
                          "fill": {
                            "color": "#C8D4E3"
                          },
                          "line": {
                            "color": "white"
                          }
                        },
                        "type": "table"
                      }
                    ]
                  },
                  "layout": {
                    "annotationdefaults": {
                      "arrowcolor": "#2a3f5f",
                      "arrowhead": 0,
                      "arrowwidth": 1
                    },
                    "autotypenumbers": "strict",
                    "coloraxis": {
                      "colorbar": {
                        "outlinewidth": 0,
                        "ticks": ""
                      }
                    },
                    "colorscale": {
                      "diverging": [
                        [
                          0,
                          "#8e0152"
                        ],
                        [
                          0.1,
                          "#c51b7d"
                        ],
                        [
                          0.2,
                          "#de77ae"
                        ],
                        [
                          0.3,
                          "#f1b6da"
                        ],
                        [
                          0.4,
                          "#fde0ef"
                        ],
                        [
                          0.5,
                          "#f7f7f7"
                        ],
                        [
                          0.6,
                          "#e6f5d0"
                        ],
                        [
                          0.7,
                          "#b8e186"
                        ],
                        [
                          0.8,
                          "#7fbc41"
                        ],
                        [
                          0.9,
                          "#4d9221"
                        ],
                        [
                          1,
                          "#276419"
                        ]
                      ],
                      "sequential": [
                        [
                          0,
                          "#0d0887"
                        ],
                        [
                          0.1111111111111111,
                          "#46039f"
                        ],
                        [
                          0.2222222222222222,
                          "#7201a8"
                        ],
                        [
                          0.3333333333333333,
                          "#9c179e"
                        ],
                        [
                          0.4444444444444444,
                          "#bd3786"
                        ],
                        [
                          0.5555555555555556,
                          "#d8576b"
                        ],
                        [
                          0.6666666666666666,
                          "#ed7953"
                        ],
                        [
                          0.7777777777777778,
                          "#fb9f3a"
                        ],
                        [
                          0.8888888888888888,
                          "#fdca26"
                        ],
                        [
                          1,
                          "#f0f921"
                        ]
                      ],
                      "sequentialminus": [
                        [
                          0,
                          "#0d0887"
                        ],
                        [
                          0.1111111111111111,
                          "#46039f"
                        ],
                        [
                          0.2222222222222222,
                          "#7201a8"
                        ],
                        [
                          0.3333333333333333,
                          "#9c179e"
                        ],
                        [
                          0.4444444444444444,
                          "#bd3786"
                        ],
                        [
                          0.5555555555555556,
                          "#d8576b"
                        ],
                        [
                          0.6666666666666666,
                          "#ed7953"
                        ],
                        [
                          0.7777777777777778,
                          "#fb9f3a"
                        ],
                        [
                          0.8888888888888888,
                          "#fdca26"
                        ],
                        [
                          1,
                          "#f0f921"
                        ]
                      ]
                    },
                    "colorway": [
                      "#636efa",
                      "#EF553B",
                      "#00cc96",
                      "#ab63fa",
                      "#FFA15A",
                      "#19d3f3",
                      "#FF6692",
                      "#B6E880",
                      "#FF97FF",
                      "#FECB52"
                    ],
                    "font": {
                      "color": "#2a3f5f"
                    },
                    "geo": {
                      "bgcolor": "white",
                      "lakecolor": "white",
                      "landcolor": "#E5ECF6",
                      "showlakes": true,
                      "showland": true,
                      "subunitcolor": "white"
                    },
                    "hoverlabel": {
                      "align": "left"
                    },
                    "hovermode": "closest",
                    "mapbox": {
                      "style": "light"
                    },
                    "paper_bgcolor": "white",
                    "plot_bgcolor": "#E5ECF6",
                    "polar": {
                      "angularaxis": {
                        "gridcolor": "white",
                        "linecolor": "white",
                        "ticks": ""
                      },
                      "bgcolor": "#E5ECF6",
                      "radialaxis": {
                        "gridcolor": "white",
                        "linecolor": "white",
                        "ticks": ""
                      }
                    },
                    "scene": {
                      "xaxis": {
                        "backgroundcolor": "#E5ECF6",
                        "gridcolor": "white",
                        "gridwidth": 2,
                        "linecolor": "white",
                        "showbackground": true,
                        "ticks": "",
                        "zerolinecolor": "white"
                      },
                      "yaxis": {
                        "backgroundcolor": "#E5ECF6",
                        "gridcolor": "white",
                        "gridwidth": 2,
                        "linecolor": "white",
                        "showbackground": true,
                        "ticks": "",
                        "zerolinecolor": "white"
                      },
                      "zaxis": {
                        "backgroundcolor": "#E5ECF6",
                        "gridcolor": "white",
                        "gridwidth": 2,
                        "linecolor": "white",
                        "showbackground": true,
                        "ticks": "",
                        "zerolinecolor": "white"
                      }
                    },
                    "shapedefaults": {
                      "line": {
                        "color": "#2a3f5f"
                      }
                    },
                    "ternary": {
                      "aaxis": {
                        "gridcolor": "white",
                        "linecolor": "white",
                        "ticks": ""
                      },
                      "baxis": {
                        "gridcolor": "white",
                        "linecolor": "white",
                        "ticks": ""
                      },
                      "bgcolor": "#E5ECF6",
                      "caxis": {
                        "gridcolor": "white",
                        "linecolor": "white",
                        "ticks": ""
                      }
                    },
                    "title": {
                      "x": 0.05
                    },
                    "xaxis": {
                      "automargin": true,
                      "gridcolor": "white",
                      "linecolor": "white",
                      "ticks": "",
                      "title": {
                        "standoff": 15
                      },
                      "zerolinecolor": "white",
                      "zerolinewidth": 2
                    },
                    "yaxis": {
                      "automargin": true,
                      "gridcolor": "white",
                      "linecolor": "white",
                      "ticks": "",
                      "title": {
                        "standoff": 15
                      },
                      "zerolinecolor": "white",
                      "zerolinewidth": 2
                    }
                  }
                }
              }
            }
          },
          "metadata": {},
          "output_type": "display_data"
        },
        {
          "name": "stdout",
          "output_type": "stream",
          "text": [
            "distance center of gravity:  4.5389210760272505\n"
          ]
        }
      ],
      "source": [
        "from src.restrictions import center_of_gravity\n",
        "\n",
        "box_dims = []\n",
        "for aabb in cont.aabbs:\n",
        "  box_dims.append([aabb.xmin,aabb.ymin,aabb.zmin,aabb.xmax,aabb.ymax,aabb.zmax])\n",
        "\n",
        "bxplot.plot_container([L,W,H], box_dims)\n",
        "print(\"distance center of gravity: \",center_of_gravity(cont))\n",
        "\n"
      ]
    },
    {
      "cell_type": "code",
      "execution_count": null,
      "metadata": {},
      "outputs": [],
      "source": []
    }
  ],
  "metadata": {
    "colab": {
      "provenance": []
    },
    "kernelspec": {
      "display_name": "Python 3",
      "name": "python3"
    },
    "language_info": {
      "codemirror_mode": {
        "name": "ipython",
        "version": 3
      },
      "file_extension": ".py",
      "mimetype": "text/x-python",
      "name": "python",
      "nbconvert_exporter": "python",
      "pygments_lexer": "ipython3",
      "version": "3.10.11"
    }
  },
  "nbformat": 4,
  "nbformat_minor": 0
}
