{
  "cells": [
    {
      "cell_type": "code",
      "execution_count": 1,
      "metadata": {
        "colab": {
          "base_uri": "https://localhost:8080/"
        },
        "id": "I0nlZKgpCP3o",
        "outputId": "8f377390-ebd5-4f14-cd9b-bf486d8894f9"
      },
      "outputs": [
        {
          "name": "stdout",
          "output_type": "stream",
          "text": [
            "b1: Block: l: 4 w: 2 h: True weight: 1 stacking_weight_resistance: 1000 volume: 8 occupied_volume: 8 items: {<src.base.Boxtype object at 0x107e34370>: 1} ratio:1.0\n",
            "b2: Block: l: 2 w: 3 h: True weight: 1 stacking_weight_resistance: 1000 volume: 6 occupied_volume: 6 items: {<src.base.Boxtype object at 0x106fffee0>: 1} ratio:1.0\n",
            "b3: Block: l: True w: 2 h: 1 weight: 1 stacking_weight_resistance: 1000 volume: 2 occupied_volume: 2 items: {<src.base.Boxtype object at 0x106ffff40>: 1} ratio:1.0\n",
            "False b1+b2: Block: l: 4 w: 2 h: True weight: 1 stacking_weight_resistance: 1000 volume: 8 occupied_volume: 8 items: {<src.base.Boxtype object at 0x107e34370>: 1} ratio:1.0\n",
            "False b1+b3: Block: l: 4 w: 2 h: True weight: 1 stacking_weight_resistance: 1000 volume: 8 occupied_volume: 8 items: {<src.base.Boxtype object at 0x107e34370>: 1} ratio:1.0\n",
            "True b1+b1: Block: l: 8 w: 2 h: True weight: 2 stacking_weight_resistance: 1000 volume: 16 occupied_volume: 16 items: {<src.base.Boxtype object at 0x107e34370>: 2} ratio:1.0\n"
          ]
        }
      ],
      "source": [
        "from src.base import Block, Boxtype\n",
        "import src.vcs_function as eval\n",
        "import src.box_plotter as bxplot\n",
        "import time\n",
        "import pandas as pd\n",
        "\n",
        "#test Blocks\n",
        "b1 = Block(boxtype=Boxtype(1,2,4,True,True,True,1), rot='wlh')\n",
        "b2 = Block(boxtype=Boxtype(1,2,3,True,True,True,1), rot='lwh')\n",
        "b3 = Block(boxtype=Boxtype(1,1,2,True,True,True,1), rot='hwl')\n",
        "\n",
        "#test join\n",
        "print(\"b1:\",b1); print(\"b2:\",b2); print(\"b3:\",b3)\n",
        "t=b1.join(b2, 'y'); print(t,\"b1+b2:\",b1)\n",
        "t=b1.join(b3, 'z'); print(t,\"b1+b3:\",b1)\n",
        "t=b1.join(b1, 'x'); print(t,\"b1+b1:\",b1)"
      ]
    },
    {
      "attachments": {},
      "cell_type": "markdown",
      "metadata": {
        "id": "fkcg_ZG9ijg_"
      },
      "source": [
        "## Plot container"
      ]
    },
    {
      "cell_type": "code",
      "execution_count": 2,
      "metadata": {
        "id": "Y1ePisniGkvs"
      },
      "outputs": [],
      "source": [
        "def load_instance(filename = \"instancia.txt\", type=\"BF\", id_instance=5):\n",
        "    with open(filename, \"r\") as file:\n",
        "        #discard first line\n",
        "        file.readline()\n",
        "      \n",
        "        for j in range(100):\n",
        "            file.readline()\n",
        "            L, W, H, WEIGHT,SUPPORTED_WEIGHT = [int(x) for x in file.readline().split()]\n",
        "\n",
        "            #read second line\n",
        "            n = int(file.readline())\n",
        "            #read n lines\n",
        "            items = Itemdict()\n",
        "            for i in range(n):\n",
        "                id, l, rotx, w, roty, h, rotz, n, weight, supported_weight = [int(x) for x in file.readline().split()]    \n",
        "                item = Boxtype(id, l, w, h, rotx, roty, rotz, weight, supported_weight)\n",
        "                items[item]=n\n",
        "            \n",
        "            if j == id_instance: return  items, L, W, H, WEIGHT, SUPPORTED_WEIGHT"
      ]
    },
    {
      "cell_type": "code",
      "execution_count": 3,
      "metadata": {},
      "outputs": [],
      "source": [
        "def adyacent_blocks(blocks,container,p):\n",
        "    last = blocks[-1]\n",
        "    adyacent = list()\n",
        "    box_dims = []\n",
        "    \n",
        "    for block in blocks[:-1]:\n",
        "        \n",
        "        if abs(block.xmax - last.xmin) <= (block.xmax - block.xmin) * p and ((block.zmin < last.zmax and block.zmax > last.zmin ) and (block.ymin < last.ymax and block.ymax > last.ymin )):\n",
        "            z_diff_max = max([block.zmin,last.zmin])\n",
        "            z_diff_min = min([block.zmax,last.zmax])\n",
        "            y_diff_max = max([block.ymin,last.ymin])\n",
        "            y_diff_min = min([block.ymax,last.ymax])\n",
        "            adyacent.append(block)\n",
        "            block.covered_surface+= (z_diff_min-z_diff_max) * (y_diff_min-y_diff_max)\n",
        "            block.covered_surface_face['X1']+= (z_diff_min-z_diff_max) * (y_diff_min-y_diff_max)\n",
        "            last.covered_surface+= (z_diff_min-z_diff_max) * (y_diff_min-y_diff_max)\n",
        "            last.covered_surface_face['X2']+= (z_diff_min-z_diff_max) * (y_diff_min-y_diff_max)\n",
        "\n",
        "        elif abs(block.xmin - last.xmax) <= (block.xmax - block.xmin) * p and ((block.zmin < last.zmax and block.zmax > last.zmin ) and (block.ymin < last.ymax and block.ymax > last.ymin )):\n",
        "            z_diff_max = max([block.zmin,last.zmin])\n",
        "            z_diff_min = min([block.zmax,last.zmax])\n",
        "            y_diff_max = max([block.ymin,last.ymin])\n",
        "            y_diff_min = min([block.ymax,last.ymax])\n",
        "            adyacent.append(block)\n",
        "            block.covered_surface+= (z_diff_min-z_diff_max) * (y_diff_min-y_diff_max)\n",
        "            block.covered_surface_face['X2']+= (z_diff_min-z_diff_max) * (y_diff_min-y_diff_max)\n",
        "            last.covered_surface+= (z_diff_min-z_diff_max) * (y_diff_min-y_diff_max)\n",
        "            last.covered_surface_face['X1']+= (z_diff_min-z_diff_max) * (y_diff_min-y_diff_max)\n",
        "\n",
        "        elif abs(block.ymax - last.ymin) <= (block.ymax - block.ymin) * p and ((block.zmin < last.zmax and block.zmax > last.zmin ) and (block.xmin < last.xmax and block.xmax > last.xmin )):\n",
        "            z_diff_max = max([block.zmin,last.zmin])\n",
        "            z_diff_min = min([block.zmax,last.zmax])\n",
        "            x_diff_max = max([block.xmin,last.xmin])\n",
        "            x_diff_min = min([block.xmax,last.xmax])\n",
        "            adyacent.append(block)\n",
        "            block.covered_surface+= (z_diff_min-z_diff_max) * (x_diff_min-x_diff_max)\n",
        "            block.covered_surface_face['Y1']+= (z_diff_min-z_diff_max) * (x_diff_min-x_diff_max)\n",
        "            last.covered_surface+= (z_diff_min-z_diff_max) * (x_diff_min-x_diff_max)\n",
        "            last.covered_surface_face['Y2']+= (z_diff_min-z_diff_max) * (x_diff_min-x_diff_max)\n",
        "\n",
        "        elif abs(block.ymin - last.ymax) <= (block.ymax - block.ymin) * p and ((block.zmin < last.zmax and block.zmax > last.zmin ) and (block.xmin < last.xmax and block.xmax > last.xmin )):\n",
        "            z_diff_max = max([block.zmin,last.zmin])\n",
        "            z_diff_min = min([block.zmax,last.zmax])\n",
        "            x_diff_max = max([block.xmin,last.xmin])\n",
        "            x_diff_min = min([block.xmax,last.xmax])\n",
        "            adyacent.append(block)\n",
        "            block.covered_surface+= (z_diff_min-z_diff_max) * (x_diff_min-x_diff_max)\n",
        "            block.covered_surface_face['Y2']+= (z_diff_min-z_diff_max) * (x_diff_min-x_diff_max)\n",
        "            last.covered_surface+= (z_diff_min-z_diff_max) * (x_diff_min-x_diff_max)\n",
        "            last.covered_surface_face['Y1']+= (z_diff_min-z_diff_max) * (x_diff_min-x_diff_max)\n",
        "\n",
        "        if block.xmin <= (block.xmax - block.xmin) * p or abs(block.xmax - container.l) <= (block.xmax - block.xmin) * p:\n",
        "            block.covered_surface+= ((block.ymax-block.ymin) * (block.zmax-block.zmin))\n",
        "        if block.ymin <= (block.ymax - block.ymin) * p or abs(block.ymax - container.w) <= (block.ymax - block.ymin) * p:\n",
        "            block.covered_surface+= ((block.xmax-block.xmin) * (block.zmax-block.zmin))\n",
        "            \n",
        "    # if(len(adyacent)!=0):\n",
        "        # print(last.covered_surface_face)\n",
        "        # box_dims.append([last.xmin,last.ymin,last.zmin,last.xmax,last.ymax,last.zmax])\n",
        "        # for aabb in adyacent:\n",
        "        #     box_dims.append([aabb.xmin,aabb.ymin,aabb.zmin,aabb.xmax,aabb.ymax,aabb.zmax])\n",
        "        # bxplot.plot_container([L,W,H], box_dims)\n",
        "    pass"
      ]
    },
    {
      "attachments": {},
      "cell_type": "markdown",
      "metadata": {
        "id": "7uoXha4GlgGj"
      },
      "source": [
        "# The main code"
      ]
    },
    {
      "cell_type": "code",
      "execution_count": 23,
      "metadata": {
        "colab": {
          "base_uri": "https://localhost:8080/"
        },
        "id": "j43GfNpc5eiS",
        "outputId": "81cbc06a-4aca-4c48-f89b-cd27ac5f0753"
      },
      "outputs": [],
      "source": [
        "\n",
        "from src.base import Itemdict, BlockList, Aabb, Space\n",
        "from src.restrictions import center_of_gravity\n",
        "# alpha,beta,gamma,delta,p,epsilon\n",
        "params = [4,2,1,0.05,0.05,0.2,0.2]\n",
        "\n",
        "def MLCP_function(params,instance,filename = 'data/BR4.txt',weight_restriction=False, max_distance_cg=-1):\n",
        "\n",
        "  start_time = time.time()\n",
        "\n",
        "  Space.filling = \"bottom-up\" #\"bottom-up\" # spaces are filled from bottom to top\n",
        "  Space.vertical_stability = True#False # boxes must be completly supported\n",
        "\n",
        "  items, L, W, H, WEIGHT,SUPPORTED_WEIGHT = load_instance(filename = filename, type=\"BF\", id_instance=instance)\n",
        "\n",
        "  cont = Block(l=L,w=W,h=H,weight=WEIGHT,stacking_weight_resistance=SUPPORTED_WEIGHT)\n",
        "\n",
        "  # print(\"generating blocks...\")\n",
        "  blocks = BlockList(items, type=\"general_blocks\", cont=cont, min_fr=1.0, max_bl=1000) \n",
        "\n",
        "  # for x in blocks:\n",
        "  #    print(x.items.values())\n",
        "\n",
        "  import csv\n",
        "  TOTAL_VOLUME = []\n",
        "  history_CG = []\n",
        "\n",
        "  # greedy for single CLP\n",
        "  while True:\n",
        "      space = cont.free_space.closest_space() #cuboide mas cercano a un vertice inferior del contenedor\n",
        "\n",
        "      if space is not None:\n",
        "        # print(\"?????????????\")\n",
        "        # print(\"volumen space: \", space.volume)\n",
        "        csv_filename = \"HISTORIAL_SPACEEEEE.csv\"\n",
        "        with open(csv_filename, mode='a', newline='') as csv_file:\n",
        "            csv_writer = csv.writer(csv_file)\n",
        "            csv_writer.writerow([space.volume])\n",
        "\n",
        "        block = eval.eval_function(blocks,space,params=params,container=cont,items=items, weight_restriction=weight_restriction,  max_distance_cg=max_distance_cg)\n",
        "\n",
        "        if block is None: #si es none es porque no se cumple la restriccion CG o Stacking\n",
        "          # print(\"block is None !!!!!!!!\")\n",
        "          break\n",
        "\n",
        "        # print(\"adding block...\", block)\n",
        "        if block is not None:\n",
        "          cont.add_block(block, space) #Aabb\n",
        "          # p = params[4]\n",
        "          # adyacent_blocks(cont.aabbs,cont,p)\n",
        "          items -= block.items\n",
        "          blocks.remove_unconstructable(items)\n",
        "          cont.free_space.filter(items)\n",
        "          # total_volume = sum([x.volume for x in cont.aabbs])\n",
        "          TOTAL_VOLUME.append(block.occupied_volume)\n",
        "          history_CG.append(center_of_gravity(cont,None,None))\n",
        "      else:\n",
        "          break\n",
        "  gap = params[4]\n",
        "  DS = eval.dynamic_stability(blocks=None,space=None,gap=gap,container=cont,final=True)\n",
        "  end_time = time.time()\n",
        "\n",
        "  execution_time = end_time - start_time\n",
        "\n",
        "  total_volume = [x.volume for x in cont.aabbs]\n",
        "  # TOTAL_VOLUME = sum(TOTAL_VOLUME)\n",
        "\n",
        "  return cont,execution_time,total_volume,TOTAL_VOLUME,DS,history_CG\n",
        "\n",
        "  # print(f'tiempo: {execution_time} s ; volumen total: {cont.l * cont.w * cont.h} ; volumen ocupado: {total_volume} ; centro de gravedad: {center_of_gravity(cont)}')\n"
      ]
    },
    {
      "cell_type": "code",
      "execution_count": 24,
      "metadata": {},
      "outputs": [
        {
          "name": "stdout",
          "output_type": "stream",
          "text": [
            "cont despues de ejecutar MLCP\n"
          ]
        },
        {
          "data": {
            "application/vnd.plotly.v1+json": {
              "config": {
                "linkText": "Export to plot.ly",
                "plotlyServerURL": "https://plot.ly",
                "showLink": false
              },
              "data": [
                {
                  "color": "rgb(229.78436017169875,114.17520784000776,121.427816783074)",
                  "i": [
                    7,
                    0,
                    0,
                    0,
                    4,
                    4,
                    2,
                    6,
                    4,
                    0,
                    3,
                    7
                  ],
                  "j": [
                    3,
                    4,
                    1,
                    2,
                    5,
                    6,
                    5,
                    5,
                    0,
                    1,
                    2,
                    2
                  ],
                  "k": [
                    0,
                    7,
                    2,
                    3,
                    6,
                    7,
                    1,
                    2,
                    5,
                    5,
                    7,
                    6
                  ],
                  "opacity": 1,
                  "type": "mesh3d",
                  "x": [
                    0,
                    0,
                    412,
                    412,
                    0,
                    0,
                    412,
                    412
                  ],
                  "y": [
                    0,
                    76,
                    76,
                    0,
                    0,
                    76,
                    76,
                    0
                  ],
                  "z": [
                    0,
                    0,
                    0,
                    0,
                    64,
                    64,
                    64,
                    64
                  ]
                },
                {
                  "color": "rgb(229.81104484813815,118.9080248413575,42.008540674777386)",
                  "i": [
                    7,
                    0,
                    0,
                    0,
                    4,
                    4,
                    2,
                    6,
                    4,
                    0,
                    3,
                    7
                  ],
                  "j": [
                    3,
                    4,
                    1,
                    2,
                    5,
                    6,
                    5,
                    5,
                    0,
                    1,
                    2,
                    2
                  ],
                  "k": [
                    0,
                    7,
                    2,
                    3,
                    6,
                    7,
                    1,
                    2,
                    5,
                    5,
                    7,
                    6
                  ],
                  "opacity": 1,
                  "type": "mesh3d",
                  "x": [
                    0,
                    0,
                    49,
                    49,
                    0,
                    0,
                    49,
                    49
                  ],
                  "y": [
                    208,
                    233,
                    233,
                    208,
                    208,
                    233,
                    233,
                    208
                  ],
                  "z": [
                    0,
                    0,
                    0,
                    0,
                    21,
                    21,
                    21,
                    21
                  ]
                },
                {
                  "color": "rgb(6.314536753805744,96.08444387570637,88.03340424703596)",
                  "i": [
                    7,
                    0,
                    0,
                    0,
                    4,
                    4,
                    2,
                    6,
                    4,
                    0,
                    3,
                    7
                  ],
                  "j": [
                    3,
                    4,
                    1,
                    2,
                    5,
                    6,
                    5,
                    5,
                    0,
                    1,
                    2,
                    2
                  ],
                  "k": [
                    0,
                    7,
                    2,
                    3,
                    6,
                    7,
                    1,
                    2,
                    5,
                    5,
                    7,
                    6
                  ],
                  "opacity": 1,
                  "type": "mesh3d",
                  "x": [
                    484,
                    484,
                    587,
                    587,
                    484,
                    484,
                    587,
                    587
                  ],
                  "y": [
                    0,
                    228,
                    228,
                    0,
                    0,
                    228,
                    228,
                    0
                  ],
                  "z": [
                    0,
                    0,
                    0,
                    0,
                    64,
                    64,
                    64,
                    64
                  ]
                },
                {
                  "color": "rgb(56.426047392162495,58.54158126252213,23.435347444313983)",
                  "i": [
                    7,
                    0,
                    0,
                    0,
                    4,
                    4,
                    2,
                    6,
                    4,
                    0,
                    3,
                    7
                  ],
                  "j": [
                    3,
                    4,
                    1,
                    2,
                    5,
                    6,
                    5,
                    5,
                    0,
                    1,
                    2,
                    2
                  ],
                  "k": [
                    0,
                    7,
                    2,
                    3,
                    6,
                    7,
                    1,
                    2,
                    5,
                    5,
                    7,
                    6
                  ],
                  "opacity": 1,
                  "type": "mesh3d",
                  "x": [
                    0,
                    0,
                    336,
                    336,
                    0,
                    0,
                    336,
                    336
                  ],
                  "y": [
                    123,
                    208,
                    208,
                    123,
                    123,
                    208,
                    208,
                    123
                  ],
                  "z": [
                    0,
                    0,
                    0,
                    0,
                    72,
                    72,
                    72,
                    72
                  ]
                },
                {
                  "color": "rgb(129.6031842875045,55.76805167312714,14.01562292731423)",
                  "i": [
                    7,
                    0,
                    0,
                    0,
                    4,
                    4,
                    2,
                    6,
                    4,
                    0,
                    3,
                    7
                  ],
                  "j": [
                    3,
                    4,
                    1,
                    2,
                    5,
                    6,
                    5,
                    5,
                    0,
                    1,
                    2,
                    2
                  ],
                  "k": [
                    0,
                    7,
                    2,
                    3,
                    6,
                    7,
                    1,
                    2,
                    5,
                    5,
                    7,
                    6
                  ],
                  "opacity": 1,
                  "type": "mesh3d",
                  "x": [
                    49,
                    49,
                    441,
                    441,
                    49,
                    49,
                    441,
                    441
                  ],
                  "y": [
                    208,
                    233,
                    233,
                    208,
                    208,
                    233,
                    233,
                    208
                  ],
                  "z": [
                    0,
                    0,
                    0,
                    0,
                    21,
                    21,
                    21,
                    21
                  ]
                },
                {
                  "color": "rgb(232.89954582206127,249.5606253294208,61.52232996350917)",
                  "i": [
                    7,
                    0,
                    0,
                    0,
                    4,
                    4,
                    2,
                    6,
                    4,
                    0,
                    3,
                    7
                  ],
                  "j": [
                    3,
                    4,
                    1,
                    2,
                    5,
                    6,
                    5,
                    5,
                    0,
                    1,
                    2,
                    2
                  ],
                  "k": [
                    0,
                    7,
                    2,
                    3,
                    6,
                    7,
                    1,
                    2,
                    5,
                    5,
                    7,
                    6
                  ],
                  "opacity": 1,
                  "type": "mesh3d",
                  "x": [
                    0,
                    0,
                    284,
                    284,
                    0,
                    0,
                    284,
                    284
                  ],
                  "y": [
                    76,
                    123,
                    123,
                    76,
                    76,
                    123,
                    123,
                    76
                  ],
                  "z": [
                    0,
                    0,
                    0,
                    0,
                    48,
                    48,
                    48,
                    48
                  ]
                },
                {
                  "color": "rgb(179.07786618575,102.30248091987151,88.04216800733137)",
                  "i": [
                    7,
                    0,
                    0,
                    0,
                    4,
                    4,
                    2,
                    6,
                    4,
                    0,
                    3,
                    7
                  ],
                  "j": [
                    3,
                    4,
                    1,
                    2,
                    5,
                    6,
                    5,
                    5,
                    0,
                    1,
                    2,
                    2
                  ],
                  "k": [
                    0,
                    7,
                    2,
                    3,
                    6,
                    7,
                    1,
                    2,
                    5,
                    5,
                    7,
                    6
                  ],
                  "opacity": 1,
                  "type": "mesh3d",
                  "x": [
                    412,
                    412,
                    484,
                    484,
                    412,
                    412,
                    484,
                    484
                  ],
                  "y": [
                    0,
                    170,
                    170,
                    0,
                    0,
                    170,
                    170,
                    0
                  ],
                  "z": [
                    0,
                    0,
                    0,
                    0,
                    84,
                    84,
                    84,
                    84
                  ]
                },
                {
                  "color": "rgb(228.12714346204032,19.31181456370868,242.89050284513053)",
                  "i": [
                    7,
                    0,
                    0,
                    0,
                    4,
                    4,
                    2,
                    6,
                    4,
                    0,
                    3,
                    7
                  ],
                  "j": [
                    3,
                    4,
                    1,
                    2,
                    5,
                    6,
                    5,
                    5,
                    0,
                    1,
                    2,
                    2
                  ],
                  "k": [
                    0,
                    7,
                    2,
                    3,
                    6,
                    7,
                    1,
                    2,
                    5,
                    5,
                    7,
                    6
                  ],
                  "opacity": 1,
                  "type": "mesh3d",
                  "x": [
                    340,
                    340,
                    484,
                    484,
                    340,
                    340,
                    484,
                    484
                  ],
                  "y": [
                    172,
                    208,
                    208,
                    172,
                    172,
                    208,
                    208,
                    172
                  ],
                  "z": [
                    0,
                    0,
                    0,
                    0,
                    31,
                    31,
                    31,
                    31
                  ]
                },
                {
                  "color": "rgb(243.57709800177685,199.78647927104862,139.86597057973083)",
                  "i": [
                    7,
                    0,
                    0,
                    0,
                    4,
                    4,
                    2,
                    6,
                    4,
                    0,
                    3,
                    7
                  ],
                  "j": [
                    3,
                    4,
                    1,
                    2,
                    5,
                    6,
                    5,
                    5,
                    0,
                    1,
                    2,
                    2
                  ],
                  "k": [
                    0,
                    7,
                    2,
                    3,
                    6,
                    7,
                    1,
                    2,
                    5,
                    5,
                    7,
                    6
                  ],
                  "opacity": 1,
                  "type": "mesh3d",
                  "x": [
                    342,
                    342,
                    412,
                    412,
                    342,
                    342,
                    412,
                    412
                  ],
                  "y": [
                    77,
                    172,
                    172,
                    77,
                    77,
                    172,
                    172,
                    77
                  ],
                  "z": [
                    0,
                    0,
                    0,
                    0,
                    62,
                    62,
                    62,
                    62
                  ]
                },
                {
                  "color": "rgb(133.20291959847552,100.26517559749273,187.11575049367607)",
                  "i": [
                    7,
                    0,
                    0,
                    0,
                    4,
                    4,
                    2,
                    6,
                    4,
                    0,
                    3,
                    7
                  ],
                  "j": [
                    3,
                    4,
                    1,
                    2,
                    5,
                    6,
                    5,
                    5,
                    0,
                    1,
                    2,
                    2
                  ],
                  "k": [
                    0,
                    7,
                    2,
                    3,
                    6,
                    7,
                    1,
                    2,
                    5,
                    5,
                    7,
                    6
                  ],
                  "opacity": 1,
                  "type": "mesh3d",
                  "x": [
                    294,
                    294,
                    342,
                    342,
                    294,
                    294,
                    342,
                    342
                  ],
                  "y": [
                    76,
                    123,
                    123,
                    76,
                    76,
                    123,
                    123,
                    76
                  ],
                  "z": [
                    0,
                    0,
                    0,
                    0,
                    71,
                    71,
                    71,
                    71
                  ]
                },
                {
                  "color": "rgb(46.79692970048407,199.70635475179503,174.54826920210473)",
                  "i": [
                    7,
                    0,
                    0,
                    0,
                    4,
                    4,
                    2,
                    6,
                    4,
                    0,
                    3,
                    7
                  ],
                  "j": [
                    3,
                    4,
                    1,
                    2,
                    5,
                    6,
                    5,
                    5,
                    0,
                    1,
                    2,
                    2
                  ],
                  "k": [
                    0,
                    7,
                    2,
                    3,
                    6,
                    7,
                    1,
                    2,
                    5,
                    5,
                    7,
                    6
                  ],
                  "opacity": 1,
                  "type": "mesh3d",
                  "x": [
                    340,
                    340,
                    484,
                    484,
                    340,
                    340,
                    484,
                    484
                  ],
                  "y": [
                    172,
                    208,
                    208,
                    172,
                    172,
                    208,
                    208,
                    172
                  ],
                  "z": [
                    31,
                    31,
                    31,
                    31,
                    62,
                    62,
                    62,
                    62
                  ]
                },
                {
                  "color": "rgb(35.50589843284141,84.7851805199193,114.9430411906666)",
                  "i": [
                    7,
                    0,
                    0,
                    0,
                    4,
                    4,
                    2,
                    6,
                    4,
                    0,
                    3,
                    7
                  ],
                  "j": [
                    3,
                    4,
                    1,
                    2,
                    5,
                    6,
                    5,
                    5,
                    0,
                    1,
                    2,
                    2
                  ],
                  "k": [
                    0,
                    7,
                    2,
                    3,
                    6,
                    7,
                    1,
                    2,
                    5,
                    5,
                    7,
                    6
                  ],
                  "opacity": 1,
                  "type": "mesh3d",
                  "x": [
                    0,
                    0,
                    284,
                    284,
                    0,
                    0,
                    284,
                    284
                  ],
                  "y": [
                    76,
                    123,
                    123,
                    76,
                    76,
                    123,
                    123,
                    76
                  ],
                  "z": [
                    48,
                    48,
                    48,
                    48,
                    96,
                    96,
                    96,
                    96
                  ]
                },
                {
                  "color": "rgb(199.30220951768914,42.92879909736598,90.60890883117612)",
                  "i": [
                    7,
                    0,
                    0,
                    0,
                    4,
                    4,
                    2,
                    6,
                    4,
                    0,
                    3,
                    7
                  ],
                  "j": [
                    3,
                    4,
                    1,
                    2,
                    5,
                    6,
                    5,
                    5,
                    0,
                    1,
                    2,
                    2
                  ],
                  "k": [
                    0,
                    7,
                    2,
                    3,
                    6,
                    7,
                    1,
                    2,
                    5,
                    5,
                    7,
                    6
                  ],
                  "opacity": 1,
                  "type": "mesh3d",
                  "x": [
                    342,
                    342,
                    412,
                    412,
                    342,
                    342,
                    412,
                    412
                  ],
                  "y": [
                    77,
                    172,
                    172,
                    77,
                    77,
                    172,
                    172,
                    77
                  ],
                  "z": [
                    62,
                    62,
                    62,
                    62,
                    124,
                    124,
                    124,
                    124
                  ]
                },
                {
                  "color": "rgb(56.3234133180486,62.42163571937355,228.44676275368087)",
                  "i": [
                    7,
                    0,
                    0,
                    0,
                    4,
                    4,
                    2,
                    6,
                    4,
                    0,
                    3,
                    7
                  ],
                  "j": [
                    3,
                    4,
                    1,
                    2,
                    5,
                    6,
                    5,
                    5,
                    0,
                    1,
                    2,
                    2
                  ],
                  "k": [
                    0,
                    7,
                    2,
                    3,
                    6,
                    7,
                    1,
                    2,
                    5,
                    5,
                    7,
                    6
                  ],
                  "opacity": 1,
                  "type": "mesh3d",
                  "x": [
                    502,
                    502,
                    587,
                    587,
                    502,
                    502,
                    587,
                    587
                  ],
                  "y": [
                    0,
                    168,
                    168,
                    0,
                    0,
                    168,
                    168,
                    0
                  ],
                  "z": [
                    64,
                    64,
                    64,
                    64,
                    208,
                    208,
                    208,
                    208
                  ]
                },
                {
                  "color": "rgb(183.58274802721624,124.20766468692696,146.23559176458014)",
                  "i": [
                    7,
                    0,
                    0,
                    0,
                    4,
                    4,
                    2,
                    6,
                    4,
                    0,
                    3,
                    7
                  ],
                  "j": [
                    3,
                    4,
                    1,
                    2,
                    5,
                    6,
                    5,
                    5,
                    0,
                    1,
                    2,
                    2
                  ],
                  "k": [
                    0,
                    7,
                    2,
                    3,
                    6,
                    7,
                    1,
                    2,
                    5,
                    5,
                    7,
                    6
                  ],
                  "opacity": 1,
                  "type": "mesh3d",
                  "x": [
                    0,
                    0,
                    380,
                    380,
                    0,
                    0,
                    380,
                    380
                  ],
                  "y": [
                    0,
                    70,
                    70,
                    0,
                    0,
                    70,
                    70,
                    0
                  ],
                  "z": [
                    64,
                    64,
                    64,
                    64,
                    126,
                    126,
                    126,
                    126
                  ]
                },
                {
                  "color": "rgb(104.69649445156765,3.4591046687814058,38.81380808244287)",
                  "i": [
                    7,
                    0,
                    0,
                    0,
                    4,
                    4,
                    2,
                    6,
                    4,
                    0,
                    3,
                    7
                  ],
                  "j": [
                    3,
                    4,
                    1,
                    2,
                    5,
                    6,
                    5,
                    5,
                    0,
                    1,
                    2,
                    2
                  ],
                  "k": [
                    0,
                    7,
                    2,
                    3,
                    6,
                    7,
                    1,
                    2,
                    5,
                    5,
                    7,
                    6
                  ],
                  "opacity": 1,
                  "type": "mesh3d",
                  "x": [
                    485,
                    485,
                    587,
                    587,
                    485,
                    485,
                    587,
                    587
                  ],
                  "y": [
                    168,
                    228,
                    228,
                    168,
                    168,
                    228,
                    228,
                    168
                  ],
                  "z": [
                    64,
                    64,
                    64,
                    64,
                    146,
                    146,
                    146,
                    146
                  ]
                },
                {
                  "color": "rgb(183.08038967293157,93.16250587552388,118.03570091241858)",
                  "i": [
                    7,
                    0,
                    0,
                    0,
                    4,
                    4,
                    2,
                    6,
                    4,
                    0,
                    3,
                    7
                  ],
                  "j": [
                    3,
                    4,
                    1,
                    2,
                    5,
                    6,
                    5,
                    5,
                    0,
                    1,
                    2,
                    2
                  ],
                  "k": [
                    0,
                    7,
                    2,
                    3,
                    6,
                    7,
                    1,
                    2,
                    5,
                    5,
                    7,
                    6
                  ],
                  "opacity": 1,
                  "type": "mesh3d",
                  "x": [
                    0,
                    0,
                    258,
                    258,
                    0,
                    0,
                    258,
                    258
                  ],
                  "y": [
                    132,
                    208,
                    208,
                    132,
                    132,
                    208,
                    208,
                    132
                  ],
                  "z": [
                    72,
                    72,
                    72,
                    72,
                    110,
                    110,
                    110,
                    110
                  ]
                },
                {
                  "color": "rgb(232.9485237402498,216.39242239619483,243.87400886784948)",
                  "i": [
                    7,
                    0,
                    0,
                    0,
                    4,
                    4,
                    2,
                    6,
                    4,
                    0,
                    3,
                    7
                  ],
                  "j": [
                    3,
                    4,
                    1,
                    2,
                    5,
                    6,
                    5,
                    5,
                    0,
                    1,
                    2,
                    2
                  ],
                  "k": [
                    0,
                    7,
                    2,
                    3,
                    6,
                    7,
                    1,
                    2,
                    5,
                    5,
                    7,
                    6
                  ],
                  "opacity": 1,
                  "type": "mesh3d",
                  "x": [
                    266,
                    266,
                    336,
                    336,
                    266,
                    266,
                    336,
                    336
                  ],
                  "y": [
                    146,
                    208,
                    208,
                    146,
                    146,
                    208,
                    208,
                    146
                  ],
                  "z": [
                    72,
                    72,
                    72,
                    72,
                    167,
                    167,
                    167,
                    167
                  ]
                },
                {
                  "color": "rgb(166.60542751971872,207.08193238067386,10.454296454869237)",
                  "i": [
                    7,
                    0,
                    0,
                    0,
                    4,
                    4,
                    2,
                    6,
                    4,
                    0,
                    3,
                    7
                  ],
                  "j": [
                    3,
                    4,
                    1,
                    2,
                    5,
                    6,
                    5,
                    5,
                    0,
                    1,
                    2,
                    2
                  ],
                  "k": [
                    0,
                    7,
                    2,
                    3,
                    6,
                    7,
                    1,
                    2,
                    5,
                    5,
                    7,
                    6
                  ],
                  "opacity": 1,
                  "type": "mesh3d",
                  "x": [
                    418,
                    418,
                    484,
                    484,
                    418,
                    418,
                    484,
                    484
                  ],
                  "y": [
                    0,
                    90,
                    90,
                    0,
                    0,
                    90,
                    90,
                    0
                  ],
                  "z": [
                    84,
                    84,
                    84,
                    84,
                    170,
                    170,
                    170,
                    170
                  ]
                },
                {
                  "color": "rgb(87.79780344804287,246.59145702960697,185.95275408588478)",
                  "i": [
                    7,
                    0,
                    0,
                    0,
                    4,
                    4,
                    2,
                    6,
                    4,
                    0,
                    3,
                    7
                  ],
                  "j": [
                    3,
                    4,
                    1,
                    2,
                    5,
                    6,
                    5,
                    5,
                    0,
                    1,
                    2,
                    2
                  ],
                  "k": [
                    0,
                    7,
                    2,
                    3,
                    6,
                    7,
                    1,
                    2,
                    5,
                    5,
                    7,
                    6
                  ],
                  "opacity": 1,
                  "type": "mesh3d",
                  "x": [
                    424,
                    424,
                    484,
                    484,
                    424,
                    424,
                    484,
                    484
                  ],
                  "y": [
                    119,
                    170,
                    170,
                    119,
                    119,
                    170,
                    170,
                    119
                  ],
                  "z": [
                    84,
                    84,
                    84,
                    84,
                    125,
                    125,
                    125,
                    125
                  ]
                },
                {
                  "color": "rgb(80.06616580374474,192.63008491345678,150.15860152721925)",
                  "i": [
                    7,
                    0,
                    0,
                    0,
                    4,
                    4,
                    2,
                    6,
                    4,
                    0,
                    3,
                    7
                  ],
                  "j": [
                    3,
                    4,
                    1,
                    2,
                    5,
                    6,
                    5,
                    5,
                    0,
                    1,
                    2,
                    2
                  ],
                  "k": [
                    0,
                    7,
                    2,
                    3,
                    6,
                    7,
                    1,
                    2,
                    5,
                    5,
                    7,
                    6
                  ],
                  "opacity": 1,
                  "type": "mesh3d",
                  "x": [
                    0,
                    0,
                    258,
                    258,
                    0,
                    0,
                    258,
                    258
                  ],
                  "y": [
                    132,
                    208,
                    208,
                    132,
                    132,
                    208,
                    208,
                    132
                  ],
                  "z": [
                    110,
                    110,
                    110,
                    110,
                    148,
                    148,
                    148,
                    148
                  ]
                },
                {
                  "color": "rgb(210.84975371280095,96.65597524237263,153.54584926193067)",
                  "i": [
                    7,
                    0,
                    0,
                    0,
                    4,
                    4,
                    2,
                    6,
                    4,
                    0,
                    3,
                    7
                  ],
                  "j": [
                    3,
                    4,
                    1,
                    2,
                    5,
                    6,
                    5,
                    5,
                    0,
                    1,
                    2,
                    2
                  ],
                  "k": [
                    0,
                    7,
                    2,
                    3,
                    6,
                    7,
                    1,
                    2,
                    5,
                    5,
                    7,
                    6
                  ],
                  "opacity": 1,
                  "type": "mesh3d",
                  "x": [
                    0,
                    0,
                    333,
                    333,
                    0,
                    0,
                    333,
                    333
                  ],
                  "y": [
                    0,
                    49,
                    49,
                    0,
                    0,
                    49,
                    49,
                    0
                  ],
                  "z": [
                    126,
                    126,
                    126,
                    126,
                    152,
                    152,
                    152,
                    152
                  ]
                },
                {
                  "color": "rgb(117.4525789001101,72.51776177559154,69.23224425543432)",
                  "i": [
                    7,
                    0,
                    0,
                    0,
                    4,
                    4,
                    2,
                    6,
                    4,
                    0,
                    3,
                    7
                  ],
                  "j": [
                    3,
                    4,
                    1,
                    2,
                    5,
                    6,
                    5,
                    5,
                    0,
                    1,
                    2,
                    2
                  ],
                  "k": [
                    0,
                    7,
                    2,
                    3,
                    6,
                    7,
                    1,
                    2,
                    5,
                    5,
                    7,
                    6
                  ],
                  "opacity": 1,
                  "type": "mesh3d",
                  "x": [
                    0,
                    0,
                    222,
                    222,
                    0,
                    0,
                    222,
                    222
                  ],
                  "y": [
                    156,
                    208,
                    208,
                    156,
                    156,
                    208,
                    208,
                    156
                  ],
                  "z": [
                    148,
                    148,
                    148,
                    148,
                    197,
                    197,
                    197,
                    197
                  ]
                },
                {
                  "color": "rgb(160.88835635354454,144.48006724223347,191.6613010941078)",
                  "i": [
                    7,
                    0,
                    0,
                    0,
                    4,
                    4,
                    2,
                    6,
                    4,
                    0,
                    3,
                    7
                  ],
                  "j": [
                    3,
                    4,
                    1,
                    2,
                    5,
                    6,
                    5,
                    5,
                    0,
                    1,
                    2,
                    2
                  ],
                  "k": [
                    0,
                    7,
                    2,
                    3,
                    6,
                    7,
                    1,
                    2,
                    5,
                    5,
                    7,
                    6
                  ],
                  "opacity": 0,
                  "type": "mesh3d",
                  "x": [
                    0,
                    0,
                    587,
                    587,
                    0,
                    0,
                    587,
                    587
                  ],
                  "y": [
                    0,
                    233,
                    233,
                    0,
                    0,
                    233,
                    233,
                    0
                  ],
                  "z": [
                    0,
                    0,
                    0,
                    0,
                    220,
                    220,
                    220,
                    220
                  ]
                }
              ],
              "layout": {
                "autosize": false,
                "margin": {
                  "b": 0,
                  "l": 0,
                  "r": 0,
                  "t": 0
                },
                "paper_bgcolor": "rgba(0,0,0,0)",
                "scene": {
                  "camera": {
                    "center": {
                      "x": 0,
                      "y": 0,
                      "z": 0
                    },
                    "eye": {
                      "x": -2,
                      "y": 2,
                      "z": 1.5
                    },
                    "up": {
                      "x": 0,
                      "y": 0,
                      "z": 1
                    }
                  },
                  "xaxis": {
                    "nticks": 10,
                    "range": [
                      0,
                      587
                    ],
                    "showspikes": false
                  },
                  "yaxis": {
                    "nticks": 5,
                    "range": [
                      0,
                      233
                    ],
                    "showspikes": false
                  },
                  "zaxis": {
                    "nticks": 5,
                    "range": [
                      0,
                      220
                    ],
                    "tickfont": {
                      "size": 15
                    }
                  }
                },
                "template": {
                  "data": {
                    "bar": [
                      {
                        "error_x": {
                          "color": "#2a3f5f"
                        },
                        "error_y": {
                          "color": "#2a3f5f"
                        },
                        "marker": {
                          "line": {
                            "color": "#E5ECF6",
                            "width": 0.5
                          },
                          "pattern": {
                            "fillmode": "overlay",
                            "size": 10,
                            "solidity": 0.2
                          }
                        },
                        "type": "bar"
                      }
                    ],
                    "barpolar": [
                      {
                        "marker": {
                          "line": {
                            "color": "#E5ECF6",
                            "width": 0.5
                          },
                          "pattern": {
                            "fillmode": "overlay",
                            "size": 10,
                            "solidity": 0.2
                          }
                        },
                        "type": "barpolar"
                      }
                    ],
                    "carpet": [
                      {
                        "aaxis": {
                          "endlinecolor": "#2a3f5f",
                          "gridcolor": "white",
                          "linecolor": "white",
                          "minorgridcolor": "white",
                          "startlinecolor": "#2a3f5f"
                        },
                        "baxis": {
                          "endlinecolor": "#2a3f5f",
                          "gridcolor": "white",
                          "linecolor": "white",
                          "minorgridcolor": "white",
                          "startlinecolor": "#2a3f5f"
                        },
                        "type": "carpet"
                      }
                    ],
                    "choropleth": [
                      {
                        "colorbar": {
                          "outlinewidth": 0,
                          "ticks": ""
                        },
                        "type": "choropleth"
                      }
                    ],
                    "contour": [
                      {
                        "colorbar": {
                          "outlinewidth": 0,
                          "ticks": ""
                        },
                        "colorscale": [
                          [
                            0,
                            "#0d0887"
                          ],
                          [
                            0.1111111111111111,
                            "#46039f"
                          ],
                          [
                            0.2222222222222222,
                            "#7201a8"
                          ],
                          [
                            0.3333333333333333,
                            "#9c179e"
                          ],
                          [
                            0.4444444444444444,
                            "#bd3786"
                          ],
                          [
                            0.5555555555555556,
                            "#d8576b"
                          ],
                          [
                            0.6666666666666666,
                            "#ed7953"
                          ],
                          [
                            0.7777777777777778,
                            "#fb9f3a"
                          ],
                          [
                            0.8888888888888888,
                            "#fdca26"
                          ],
                          [
                            1,
                            "#f0f921"
                          ]
                        ],
                        "type": "contour"
                      }
                    ],
                    "contourcarpet": [
                      {
                        "colorbar": {
                          "outlinewidth": 0,
                          "ticks": ""
                        },
                        "type": "contourcarpet"
                      }
                    ],
                    "heatmap": [
                      {
                        "colorbar": {
                          "outlinewidth": 0,
                          "ticks": ""
                        },
                        "colorscale": [
                          [
                            0,
                            "#0d0887"
                          ],
                          [
                            0.1111111111111111,
                            "#46039f"
                          ],
                          [
                            0.2222222222222222,
                            "#7201a8"
                          ],
                          [
                            0.3333333333333333,
                            "#9c179e"
                          ],
                          [
                            0.4444444444444444,
                            "#bd3786"
                          ],
                          [
                            0.5555555555555556,
                            "#d8576b"
                          ],
                          [
                            0.6666666666666666,
                            "#ed7953"
                          ],
                          [
                            0.7777777777777778,
                            "#fb9f3a"
                          ],
                          [
                            0.8888888888888888,
                            "#fdca26"
                          ],
                          [
                            1,
                            "#f0f921"
                          ]
                        ],
                        "type": "heatmap"
                      }
                    ],
                    "heatmapgl": [
                      {
                        "colorbar": {
                          "outlinewidth": 0,
                          "ticks": ""
                        },
                        "colorscale": [
                          [
                            0,
                            "#0d0887"
                          ],
                          [
                            0.1111111111111111,
                            "#46039f"
                          ],
                          [
                            0.2222222222222222,
                            "#7201a8"
                          ],
                          [
                            0.3333333333333333,
                            "#9c179e"
                          ],
                          [
                            0.4444444444444444,
                            "#bd3786"
                          ],
                          [
                            0.5555555555555556,
                            "#d8576b"
                          ],
                          [
                            0.6666666666666666,
                            "#ed7953"
                          ],
                          [
                            0.7777777777777778,
                            "#fb9f3a"
                          ],
                          [
                            0.8888888888888888,
                            "#fdca26"
                          ],
                          [
                            1,
                            "#f0f921"
                          ]
                        ],
                        "type": "heatmapgl"
                      }
                    ],
                    "histogram": [
                      {
                        "marker": {
                          "pattern": {
                            "fillmode": "overlay",
                            "size": 10,
                            "solidity": 0.2
                          }
                        },
                        "type": "histogram"
                      }
                    ],
                    "histogram2d": [
                      {
                        "colorbar": {
                          "outlinewidth": 0,
                          "ticks": ""
                        },
                        "colorscale": [
                          [
                            0,
                            "#0d0887"
                          ],
                          [
                            0.1111111111111111,
                            "#46039f"
                          ],
                          [
                            0.2222222222222222,
                            "#7201a8"
                          ],
                          [
                            0.3333333333333333,
                            "#9c179e"
                          ],
                          [
                            0.4444444444444444,
                            "#bd3786"
                          ],
                          [
                            0.5555555555555556,
                            "#d8576b"
                          ],
                          [
                            0.6666666666666666,
                            "#ed7953"
                          ],
                          [
                            0.7777777777777778,
                            "#fb9f3a"
                          ],
                          [
                            0.8888888888888888,
                            "#fdca26"
                          ],
                          [
                            1,
                            "#f0f921"
                          ]
                        ],
                        "type": "histogram2d"
                      }
                    ],
                    "histogram2dcontour": [
                      {
                        "colorbar": {
                          "outlinewidth": 0,
                          "ticks": ""
                        },
                        "colorscale": [
                          [
                            0,
                            "#0d0887"
                          ],
                          [
                            0.1111111111111111,
                            "#46039f"
                          ],
                          [
                            0.2222222222222222,
                            "#7201a8"
                          ],
                          [
                            0.3333333333333333,
                            "#9c179e"
                          ],
                          [
                            0.4444444444444444,
                            "#bd3786"
                          ],
                          [
                            0.5555555555555556,
                            "#d8576b"
                          ],
                          [
                            0.6666666666666666,
                            "#ed7953"
                          ],
                          [
                            0.7777777777777778,
                            "#fb9f3a"
                          ],
                          [
                            0.8888888888888888,
                            "#fdca26"
                          ],
                          [
                            1,
                            "#f0f921"
                          ]
                        ],
                        "type": "histogram2dcontour"
                      }
                    ],
                    "mesh3d": [
                      {
                        "colorbar": {
                          "outlinewidth": 0,
                          "ticks": ""
                        },
                        "type": "mesh3d"
                      }
                    ],
                    "parcoords": [
                      {
                        "line": {
                          "colorbar": {
                            "outlinewidth": 0,
                            "ticks": ""
                          }
                        },
                        "type": "parcoords"
                      }
                    ],
                    "pie": [
                      {
                        "automargin": true,
                        "type": "pie"
                      }
                    ],
                    "scatter": [
                      {
                        "fillpattern": {
                          "fillmode": "overlay",
                          "size": 10,
                          "solidity": 0.2
                        },
                        "type": "scatter"
                      }
                    ],
                    "scatter3d": [
                      {
                        "line": {
                          "colorbar": {
                            "outlinewidth": 0,
                            "ticks": ""
                          }
                        },
                        "marker": {
                          "colorbar": {
                            "outlinewidth": 0,
                            "ticks": ""
                          }
                        },
                        "type": "scatter3d"
                      }
                    ],
                    "scattercarpet": [
                      {
                        "marker": {
                          "colorbar": {
                            "outlinewidth": 0,
                            "ticks": ""
                          }
                        },
                        "type": "scattercarpet"
                      }
                    ],
                    "scattergeo": [
                      {
                        "marker": {
                          "colorbar": {
                            "outlinewidth": 0,
                            "ticks": ""
                          }
                        },
                        "type": "scattergeo"
                      }
                    ],
                    "scattergl": [
                      {
                        "marker": {
                          "colorbar": {
                            "outlinewidth": 0,
                            "ticks": ""
                          }
                        },
                        "type": "scattergl"
                      }
                    ],
                    "scattermapbox": [
                      {
                        "marker": {
                          "colorbar": {
                            "outlinewidth": 0,
                            "ticks": ""
                          }
                        },
                        "type": "scattermapbox"
                      }
                    ],
                    "scatterpolar": [
                      {
                        "marker": {
                          "colorbar": {
                            "outlinewidth": 0,
                            "ticks": ""
                          }
                        },
                        "type": "scatterpolar"
                      }
                    ],
                    "scatterpolargl": [
                      {
                        "marker": {
                          "colorbar": {
                            "outlinewidth": 0,
                            "ticks": ""
                          }
                        },
                        "type": "scatterpolargl"
                      }
                    ],
                    "scatterternary": [
                      {
                        "marker": {
                          "colorbar": {
                            "outlinewidth": 0,
                            "ticks": ""
                          }
                        },
                        "type": "scatterternary"
                      }
                    ],
                    "surface": [
                      {
                        "colorbar": {
                          "outlinewidth": 0,
                          "ticks": ""
                        },
                        "colorscale": [
                          [
                            0,
                            "#0d0887"
                          ],
                          [
                            0.1111111111111111,
                            "#46039f"
                          ],
                          [
                            0.2222222222222222,
                            "#7201a8"
                          ],
                          [
                            0.3333333333333333,
                            "#9c179e"
                          ],
                          [
                            0.4444444444444444,
                            "#bd3786"
                          ],
                          [
                            0.5555555555555556,
                            "#d8576b"
                          ],
                          [
                            0.6666666666666666,
                            "#ed7953"
                          ],
                          [
                            0.7777777777777778,
                            "#fb9f3a"
                          ],
                          [
                            0.8888888888888888,
                            "#fdca26"
                          ],
                          [
                            1,
                            "#f0f921"
                          ]
                        ],
                        "type": "surface"
                      }
                    ],
                    "table": [
                      {
                        "cells": {
                          "fill": {
                            "color": "#EBF0F8"
                          },
                          "line": {
                            "color": "white"
                          }
                        },
                        "header": {
                          "fill": {
                            "color": "#C8D4E3"
                          },
                          "line": {
                            "color": "white"
                          }
                        },
                        "type": "table"
                      }
                    ]
                  },
                  "layout": {
                    "annotationdefaults": {
                      "arrowcolor": "#2a3f5f",
                      "arrowhead": 0,
                      "arrowwidth": 1
                    },
                    "autotypenumbers": "strict",
                    "coloraxis": {
                      "colorbar": {
                        "outlinewidth": 0,
                        "ticks": ""
                      }
                    },
                    "colorscale": {
                      "diverging": [
                        [
                          0,
                          "#8e0152"
                        ],
                        [
                          0.1,
                          "#c51b7d"
                        ],
                        [
                          0.2,
                          "#de77ae"
                        ],
                        [
                          0.3,
                          "#f1b6da"
                        ],
                        [
                          0.4,
                          "#fde0ef"
                        ],
                        [
                          0.5,
                          "#f7f7f7"
                        ],
                        [
                          0.6,
                          "#e6f5d0"
                        ],
                        [
                          0.7,
                          "#b8e186"
                        ],
                        [
                          0.8,
                          "#7fbc41"
                        ],
                        [
                          0.9,
                          "#4d9221"
                        ],
                        [
                          1,
                          "#276419"
                        ]
                      ],
                      "sequential": [
                        [
                          0,
                          "#0d0887"
                        ],
                        [
                          0.1111111111111111,
                          "#46039f"
                        ],
                        [
                          0.2222222222222222,
                          "#7201a8"
                        ],
                        [
                          0.3333333333333333,
                          "#9c179e"
                        ],
                        [
                          0.4444444444444444,
                          "#bd3786"
                        ],
                        [
                          0.5555555555555556,
                          "#d8576b"
                        ],
                        [
                          0.6666666666666666,
                          "#ed7953"
                        ],
                        [
                          0.7777777777777778,
                          "#fb9f3a"
                        ],
                        [
                          0.8888888888888888,
                          "#fdca26"
                        ],
                        [
                          1,
                          "#f0f921"
                        ]
                      ],
                      "sequentialminus": [
                        [
                          0,
                          "#0d0887"
                        ],
                        [
                          0.1111111111111111,
                          "#46039f"
                        ],
                        [
                          0.2222222222222222,
                          "#7201a8"
                        ],
                        [
                          0.3333333333333333,
                          "#9c179e"
                        ],
                        [
                          0.4444444444444444,
                          "#bd3786"
                        ],
                        [
                          0.5555555555555556,
                          "#d8576b"
                        ],
                        [
                          0.6666666666666666,
                          "#ed7953"
                        ],
                        [
                          0.7777777777777778,
                          "#fb9f3a"
                        ],
                        [
                          0.8888888888888888,
                          "#fdca26"
                        ],
                        [
                          1,
                          "#f0f921"
                        ]
                      ]
                    },
                    "colorway": [
                      "#636efa",
                      "#EF553B",
                      "#00cc96",
                      "#ab63fa",
                      "#FFA15A",
                      "#19d3f3",
                      "#FF6692",
                      "#B6E880",
                      "#FF97FF",
                      "#FECB52"
                    ],
                    "font": {
                      "color": "#2a3f5f"
                    },
                    "geo": {
                      "bgcolor": "white",
                      "lakecolor": "white",
                      "landcolor": "#E5ECF6",
                      "showlakes": true,
                      "showland": true,
                      "subunitcolor": "white"
                    },
                    "hoverlabel": {
                      "align": "left"
                    },
                    "hovermode": "closest",
                    "mapbox": {
                      "style": "light"
                    },
                    "paper_bgcolor": "white",
                    "plot_bgcolor": "#E5ECF6",
                    "polar": {
                      "angularaxis": {
                        "gridcolor": "white",
                        "linecolor": "white",
                        "ticks": ""
                      },
                      "bgcolor": "#E5ECF6",
                      "radialaxis": {
                        "gridcolor": "white",
                        "linecolor": "white",
                        "ticks": ""
                      }
                    },
                    "scene": {
                      "xaxis": {
                        "backgroundcolor": "#E5ECF6",
                        "gridcolor": "white",
                        "gridwidth": 2,
                        "linecolor": "white",
                        "showbackground": true,
                        "ticks": "",
                        "zerolinecolor": "white"
                      },
                      "yaxis": {
                        "backgroundcolor": "#E5ECF6",
                        "gridcolor": "white",
                        "gridwidth": 2,
                        "linecolor": "white",
                        "showbackground": true,
                        "ticks": "",
                        "zerolinecolor": "white"
                      },
                      "zaxis": {
                        "backgroundcolor": "#E5ECF6",
                        "gridcolor": "white",
                        "gridwidth": 2,
                        "linecolor": "white",
                        "showbackground": true,
                        "ticks": "",
                        "zerolinecolor": "white"
                      }
                    },
                    "shapedefaults": {
                      "line": {
                        "color": "#2a3f5f"
                      }
                    },
                    "ternary": {
                      "aaxis": {
                        "gridcolor": "white",
                        "linecolor": "white",
                        "ticks": ""
                      },
                      "baxis": {
                        "gridcolor": "white",
                        "linecolor": "white",
                        "ticks": ""
                      },
                      "bgcolor": "#E5ECF6",
                      "caxis": {
                        "gridcolor": "white",
                        "linecolor": "white",
                        "ticks": ""
                      }
                    },
                    "title": {
                      "x": 0.05
                    },
                    "xaxis": {
                      "automargin": true,
                      "gridcolor": "white",
                      "linecolor": "white",
                      "ticks": "",
                      "title": {
                        "standoff": 15
                      },
                      "zerolinecolor": "white",
                      "zerolinewidth": 2
                    },
                    "yaxis": {
                      "automargin": true,
                      "gridcolor": "white",
                      "linecolor": "white",
                      "ticks": "",
                      "title": {
                        "standoff": 15
                      },
                      "zerolinecolor": "white",
                      "zerolinewidth": 2
                    }
                  }
                }
              }
            }
          },
          "metadata": {},
          "output_type": "display_data"
        },
        {
          "name": "stdout",
          "output_type": "stream",
          "text": [
            "587 233 220\n",
            "L * W * H = 30089620\n",
            "total_volume = 17146607\n",
            "TOTAL_VOLUME = 23\n",
            "%DS = 0.7949002971841601\n",
            "% = 0.5698512310889935\n"
          ]
        },
        {
          "data": {
            "image/png": "[encoded data removed]",
            "text/plain": [
              "<Figure size 640x480 with 1 Axes>"
            ]
          },
          "metadata": {},
          "output_type": "display_data"
        }
      ],
      "source": [
        "#ALPHA_CS\n",
        "#BETA_LOSS\n",
        "#GAMMA_NB\n",
        "#DELTA_GC\n",
        "#EPSILON_\n",
        "#ZETA_RES\n",
        "params = [4,2,1,0.05,0.05,0.2,0.2]\n",
        "cont, execution_time,total_volume,TOTAL_VOLUME,DS,history_CG = MLCP_function(params=params,instance=1,weight_restriction=True, max_distance_cg=10000)\n",
        "print(\"cont despues de ejecutar MLCP\")\n",
        "L = cont.l;W = cont.w; H = cont.h\n",
        "\n",
        "box_dims = []\n",
        "for aabb in cont.aabbs:\n",
        "  box_dims.append([aabb.xmin,aabb.ymin,aabb.zmin,aabb.xmax,aabb.ymax,aabb.zmax])\n",
        "box_dims.append([0,0,0,L,W,H])\n",
        "bxplot.plot_container([L,W,H], box_dims) \n",
        "print(f'{L} {W} {H}')\n",
        "print(f'L * W * H = {L * W * H}')\n",
        "print(f'total_volume = {sum(total_volume)}')\n",
        "print(f'TOTAL_VOLUME = {len(TOTAL_VOLUME)}')\n",
        "print(f'%DS = {DS /sum(total_volume)}')\n",
        "print(f'% = {sum(total_volume)/(L * W * H)}')\n",
        "\n",
        "import matplotlib.pyplot as plt\n",
        "import numpy as np\n",
        "\n",
        "x = list(range(1, len(history_CG) + 1))\n",
        "plt.plot(x, history_CG)\n",
        "plt.title('centro de gravedad')\n",
        "\n",
        "plt.show()"
      ]
    },
    {
      "attachments": {},
      "cell_type": "markdown",
      "metadata": {
        "id": "jHxosWYplHgN"
      },
      "source": [
        "# Plot the solution"
      ]
    },
    {
      "cell_type": "code",
      "execution_count": 25,
      "metadata": {
        "colab": {
          "base_uri": "https://localhost:8080/",
          "height": 562
        },
        "id": "CkjIfgmeTSs6",
        "outputId": "71414d7e-c2d6-4d90-8422-d921419051ce"
      },
      "outputs": [
        {
          "name": "stdout",
          "output_type": "stream",
          "text": [
            "cont despues de ejecutar MLCP\n"
          ]
        },
        {
          "data": {
            "application/vnd.plotly.v1+json": {
              "config": {
                "linkText": "Export to plot.ly",
                "plotlyServerURL": "https://plot.ly",
                "showLink": false
              },
              "data": [
                {
                  "color": "rgb(230.267849354375,209.58434500079076,2.342717201591568)",
                  "i": [
                    7,
                    0,
                    0,
                    0,
                    4,
                    4,
                    2,
                    6,
                    4,
                    0,
                    3,
                    7
                  ],
                  "j": [
                    3,
                    4,
                    1,
                    2,
                    5,
                    6,
                    5,
                    5,
                    0,
                    1,
                    2,
                    2
                  ],
                  "k": [
                    0,
                    7,
                    2,
                    3,
                    6,
                    7,
                    1,
                    2,
                    5,
                    5,
                    7,
                    6
                  ],
                  "opacity": 1,
                  "type": "mesh3d",
                  "x": [
                    0,
                    0,
                    412,
                    412,
                    0,
                    0,
                    412,
                    412
                  ],
                  "y": [
                    0,
                    76,
                    76,
                    0,
                    0,
                    76,
                    76,
                    0
                  ],
                  "z": [
                    0,
                    0,
                    0,
                    0,
                    64,
                    64,
                    64,
                    64
                  ]
                },
                {
                  "color": "rgb(108.96176976802968,64.39257262338599,254.44959841434653)",
                  "i": [
                    7,
                    0,
                    0,
                    0,
                    4,
                    4,
                    2,
                    6,
                    4,
                    0,
                    3,
                    7
                  ],
                  "j": [
                    3,
                    4,
                    1,
                    2,
                    5,
                    6,
                    5,
                    5,
                    0,
                    1,
                    2,
                    2
                  ],
                  "k": [
                    0,
                    7,
                    2,
                    3,
                    6,
                    7,
                    1,
                    2,
                    5,
                    5,
                    7,
                    6
                  ],
                  "opacity": 1,
                  "type": "mesh3d",
                  "x": [
                    0,
                    0,
                    49,
                    49,
                    0,
                    0,
                    49,
                    49
                  ],
                  "y": [
                    208,
                    233,
                    233,
                    208,
                    208,
                    233,
                    233,
                    208
                  ],
                  "z": [
                    0,
                    0,
                    0,
                    0,
                    21,
                    21,
                    21,
                    21
                  ]
                },
                {
                  "color": "rgb(50.78522077338806,105.25266012972162,155.9564361768964)",
                  "i": [
                    7,
                    0,
                    0,
                    0,
                    4,
                    4,
                    2,
                    6,
                    4,
                    0,
                    3,
                    7
                  ],
                  "j": [
                    3,
                    4,
                    1,
                    2,
                    5,
                    6,
                    5,
                    5,
                    0,
                    1,
                    2,
                    2
                  ],
                  "k": [
                    0,
                    7,
                    2,
                    3,
                    6,
                    7,
                    1,
                    2,
                    5,
                    5,
                    7,
                    6
                  ],
                  "opacity": 1,
                  "type": "mesh3d",
                  "x": [
                    484,
                    484,
                    587,
                    587,
                    484,
                    484,
                    587,
                    587
                  ],
                  "y": [
                    0,
                    228,
                    228,
                    0,
                    0,
                    228,
                    228,
                    0
                  ],
                  "z": [
                    0,
                    0,
                    0,
                    0,
                    64,
                    64,
                    64,
                    64
                  ]
                },
                {
                  "color": "rgb(32.29560760541881,33.92302905969704,125.47129516636979)",
                  "i": [
                    7,
                    0,
                    0,
                    0,
                    4,
                    4,
                    2,
                    6,
                    4,
                    0,
                    3,
                    7
                  ],
                  "j": [
                    3,
                    4,
                    1,
                    2,
                    5,
                    6,
                    5,
                    5,
                    0,
                    1,
                    2,
                    2
                  ],
                  "k": [
                    0,
                    7,
                    2,
                    3,
                    6,
                    7,
                    1,
                    2,
                    5,
                    5,
                    7,
                    6
                  ],
                  "opacity": 1,
                  "type": "mesh3d",
                  "x": [
                    0,
                    0,
                    336,
                    336,
                    0,
                    0,
                    336,
                    336
                  ],
                  "y": [
                    123,
                    208,
                    208,
                    123,
                    123,
                    208,
                    208,
                    123
                  ],
                  "z": [
                    0,
                    0,
                    0,
                    0,
                    72,
                    72,
                    72,
                    72
                  ]
                },
                {
                  "color": "rgb(214.66220265460203,246.33813676239802,243.74086203154374)",
                  "i": [
                    7,
                    0,
                    0,
                    0,
                    4,
                    4,
                    2,
                    6,
                    4,
                    0,
                    3,
                    7
                  ],
                  "j": [
                    3,
                    4,
                    1,
                    2,
                    5,
                    6,
                    5,
                    5,
                    0,
                    1,
                    2,
                    2
                  ],
                  "k": [
                    0,
                    7,
                    2,
                    3,
                    6,
                    7,
                    1,
                    2,
                    5,
                    5,
                    7,
                    6
                  ],
                  "opacity": 1,
                  "type": "mesh3d",
                  "x": [
                    49,
                    49,
                    441,
                    441,
                    49,
                    49,
                    441,
                    441
                  ],
                  "y": [
                    208,
                    233,
                    233,
                    208,
                    208,
                    233,
                    233,
                    208
                  ],
                  "z": [
                    0,
                    0,
                    0,
                    0,
                    21,
                    21,
                    21,
                    21
                  ]
                },
                {
                  "color": "rgb(186.565007393518,23.107695408503847,234.63081927792626)",
                  "i": [
                    7,
                    0,
                    0,
                    0,
                    4,
                    4,
                    2,
                    6,
                    4,
                    0,
                    3,
                    7
                  ],
                  "j": [
                    3,
                    4,
                    1,
                    2,
                    5,
                    6,
                    5,
                    5,
                    0,
                    1,
                    2,
                    2
                  ],
                  "k": [
                    0,
                    7,
                    2,
                    3,
                    6,
                    7,
                    1,
                    2,
                    5,
                    5,
                    7,
                    6
                  ],
                  "opacity": 1,
                  "type": "mesh3d",
                  "x": [
                    0,
                    0,
                    284,
                    284,
                    0,
                    0,
                    284,
                    284
                  ],
                  "y": [
                    76,
                    123,
                    123,
                    76,
                    76,
                    123,
                    123,
                    76
                  ],
                  "z": [
                    0,
                    0,
                    0,
                    0,
                    48,
                    48,
                    48,
                    48
                  ]
                },
                {
                  "color": "rgb(127.13747672293863,24.048074834294724,123.0766837054103)",
                  "i": [
                    7,
                    0,
                    0,
                    0,
                    4,
                    4,
                    2,
                    6,
                    4,
                    0,
                    3,
                    7
                  ],
                  "j": [
                    3,
                    4,
                    1,
                    2,
                    5,
                    6,
                    5,
                    5,
                    0,
                    1,
                    2,
                    2
                  ],
                  "k": [
                    0,
                    7,
                    2,
                    3,
                    6,
                    7,
                    1,
                    2,
                    5,
                    5,
                    7,
                    6
                  ],
                  "opacity": 1,
                  "type": "mesh3d",
                  "x": [
                    412,
                    412,
                    484,
                    484,
                    412,
                    412,
                    484,
                    484
                  ],
                  "y": [
                    0,
                    170,
                    170,
                    0,
                    0,
                    170,
                    170,
                    0
                  ],
                  "z": [
                    0,
                    0,
                    0,
                    0,
                    84,
                    84,
                    84,
                    84
                  ]
                },
                {
                  "color": "rgb(228.82071992516398,1.9394491445181172,66.25321673437352)",
                  "i": [
                    7,
                    0,
                    0,
                    0,
                    4,
                    4,
                    2,
                    6,
                    4,
                    0,
                    3,
                    7
                  ],
                  "j": [
                    3,
                    4,
                    1,
                    2,
                    5,
                    6,
                    5,
                    5,
                    0,
                    1,
                    2,
                    2
                  ],
                  "k": [
                    0,
                    7,
                    2,
                    3,
                    6,
                    7,
                    1,
                    2,
                    5,
                    5,
                    7,
                    6
                  ],
                  "opacity": 1,
                  "type": "mesh3d",
                  "x": [
                    340,
                    340,
                    484,
                    484,
                    340,
                    340,
                    484,
                    484
                  ],
                  "y": [
                    172,
                    208,
                    208,
                    172,
                    172,
                    208,
                    208,
                    172
                  ],
                  "z": [
                    0,
                    0,
                    0,
                    0,
                    31,
                    31,
                    31,
                    31
                  ]
                },
                {
                  "color": "rgb(90.5955343787531,53.19438791773637,218.6102964353265)",
                  "i": [
                    7,
                    0,
                    0,
                    0,
                    4,
                    4,
                    2,
                    6,
                    4,
                    0,
                    3,
                    7
                  ],
                  "j": [
                    3,
                    4,
                    1,
                    2,
                    5,
                    6,
                    5,
                    5,
                    0,
                    1,
                    2,
                    2
                  ],
                  "k": [
                    0,
                    7,
                    2,
                    3,
                    6,
                    7,
                    1,
                    2,
                    5,
                    5,
                    7,
                    6
                  ],
                  "opacity": 1,
                  "type": "mesh3d",
                  "x": [
                    342,
                    342,
                    412,
                    412,
                    342,
                    342,
                    412,
                    412
                  ],
                  "y": [
                    77,
                    172,
                    172,
                    77,
                    77,
                    172,
                    172,
                    77
                  ],
                  "z": [
                    0,
                    0,
                    0,
                    0,
                    62,
                    62,
                    62,
                    62
                  ]
                },
                {
                  "color": "rgb(124.44125951312739,35.10129370280192,33.52260975713375)",
                  "i": [
                    7,
                    0,
                    0,
                    0,
                    4,
                    4,
                    2,
                    6,
                    4,
                    0,
                    3,
                    7
                  ],
                  "j": [
                    3,
                    4,
                    1,
                    2,
                    5,
                    6,
                    5,
                    5,
                    0,
                    1,
                    2,
                    2
                  ],
                  "k": [
                    0,
                    7,
                    2,
                    3,
                    6,
                    7,
                    1,
                    2,
                    5,
                    5,
                    7,
                    6
                  ],
                  "opacity": 1,
                  "type": "mesh3d",
                  "x": [
                    294,
                    294,
                    342,
                    342,
                    294,
                    294,
                    342,
                    342
                  ],
                  "y": [
                    76,
                    123,
                    123,
                    76,
                    76,
                    123,
                    123,
                    76
                  ],
                  "z": [
                    0,
                    0,
                    0,
                    0,
                    71,
                    71,
                    71,
                    71
                  ]
                },
                {
                  "color": "rgb(30.96827541433438,112.96717415873381,86.53897480610448)",
                  "i": [
                    7,
                    0,
                    0,
                    0,
                    4,
                    4,
                    2,
                    6,
                    4,
                    0,
                    3,
                    7
                  ],
                  "j": [
                    3,
                    4,
                    1,
                    2,
                    5,
                    6,
                    5,
                    5,
                    0,
                    1,
                    2,
                    2
                  ],
                  "k": [
                    0,
                    7,
                    2,
                    3,
                    6,
                    7,
                    1,
                    2,
                    5,
                    5,
                    7,
                    6
                  ],
                  "opacity": 1,
                  "type": "mesh3d",
                  "x": [
                    340,
                    340,
                    484,
                    484,
                    340,
                    340,
                    484,
                    484
                  ],
                  "y": [
                    172,
                    208,
                    208,
                    172,
                    172,
                    208,
                    208,
                    172
                  ],
                  "z": [
                    31,
                    31,
                    31,
                    31,
                    62,
                    62,
                    62,
                    62
                  ]
                },
                {
                  "color": "rgb(100.93899398221515,179.97954361860775,48.22701879763728)",
                  "i": [
                    7,
                    0,
                    0,
                    0,
                    4,
                    4,
                    2,
                    6,
                    4,
                    0,
                    3,
                    7
                  ],
                  "j": [
                    3,
                    4,
                    1,
                    2,
                    5,
                    6,
                    5,
                    5,
                    0,
                    1,
                    2,
                    2
                  ],
                  "k": [
                    0,
                    7,
                    2,
                    3,
                    6,
                    7,
                    1,
                    2,
                    5,
                    5,
                    7,
                    6
                  ],
                  "opacity": 1,
                  "type": "mesh3d",
                  "x": [
                    0,
                    0,
                    284,
                    284,
                    0,
                    0,
                    284,
                    284
                  ],
                  "y": [
                    76,
                    123,
                    123,
                    76,
                    76,
                    123,
                    123,
                    76
                  ],
                  "z": [
                    48,
                    48,
                    48,
                    48,
                    96,
                    96,
                    96,
                    96
                  ]
                },
                {
                  "color": "rgb(249.7335271509234,209.82538252684765,69.34648524585316)",
                  "i": [
                    7,
                    0,
                    0,
                    0,
                    4,
                    4,
                    2,
                    6,
                    4,
                    0,
                    3,
                    7
                  ],
                  "j": [
                    3,
                    4,
                    1,
                    2,
                    5,
                    6,
                    5,
                    5,
                    0,
                    1,
                    2,
                    2
                  ],
                  "k": [
                    0,
                    7,
                    2,
                    3,
                    6,
                    7,
                    1,
                    2,
                    5,
                    5,
                    7,
                    6
                  ],
                  "opacity": 1,
                  "type": "mesh3d",
                  "x": [
                    342,
                    342,
                    412,
                    412,
                    342,
                    342,
                    412,
                    412
                  ],
                  "y": [
                    77,
                    172,
                    172,
                    77,
                    77,
                    172,
                    172,
                    77
                  ],
                  "z": [
                    62,
                    62,
                    62,
                    62,
                    124,
                    124,
                    124,
                    124
                  ]
                },
                {
                  "color": "rgb(18.223014557806756,107.01393482065252,49.934698565884624)",
                  "i": [
                    7,
                    0,
                    0,
                    0,
                    4,
                    4,
                    2,
                    6,
                    4,
                    0,
                    3,
                    7
                  ],
                  "j": [
                    3,
                    4,
                    1,
                    2,
                    5,
                    6,
                    5,
                    5,
                    0,
                    1,
                    2,
                    2
                  ],
                  "k": [
                    0,
                    7,
                    2,
                    3,
                    6,
                    7,
                    1,
                    2,
                    5,
                    5,
                    7,
                    6
                  ],
                  "opacity": 1,
                  "type": "mesh3d",
                  "x": [
                    502,
                    502,
                    587,
                    587,
                    502,
                    502,
                    587,
                    587
                  ],
                  "y": [
                    0,
                    168,
                    168,
                    0,
                    0,
                    168,
                    168,
                    0
                  ],
                  "z": [
                    64,
                    64,
                    64,
                    64,
                    208,
                    208,
                    208,
                    208
                  ]
                },
                {
                  "color": "rgb(12.912758025850895,133.48990944010941,134.43340220690385)",
                  "i": [
                    7,
                    0,
                    0,
                    0,
                    4,
                    4,
                    2,
                    6,
                    4,
                    0,
                    3,
                    7
                  ],
                  "j": [
                    3,
                    4,
                    1,
                    2,
                    5,
                    6,
                    5,
                    5,
                    0,
                    1,
                    2,
                    2
                  ],
                  "k": [
                    0,
                    7,
                    2,
                    3,
                    6,
                    7,
                    1,
                    2,
                    5,
                    5,
                    7,
                    6
                  ],
                  "opacity": 1,
                  "type": "mesh3d",
                  "x": [
                    0,
                    0,
                    380,
                    380,
                    0,
                    0,
                    380,
                    380
                  ],
                  "y": [
                    0,
                    70,
                    70,
                    0,
                    0,
                    70,
                    70,
                    0
                  ],
                  "z": [
                    64,
                    64,
                    64,
                    64,
                    126,
                    126,
                    126,
                    126
                  ]
                },
                {
                  "color": "rgb(150.2810328443282,28.404013470467508,212.8310246463525)",
                  "i": [
                    7,
                    0,
                    0,
                    0,
                    4,
                    4,
                    2,
                    6,
                    4,
                    0,
                    3,
                    7
                  ],
                  "j": [
                    3,
                    4,
                    1,
                    2,
                    5,
                    6,
                    5,
                    5,
                    0,
                    1,
                    2,
                    2
                  ],
                  "k": [
                    0,
                    7,
                    2,
                    3,
                    6,
                    7,
                    1,
                    2,
                    5,
                    5,
                    7,
                    6
                  ],
                  "opacity": 1,
                  "type": "mesh3d",
                  "x": [
                    485,
                    485,
                    587,
                    587,
                    485,
                    485,
                    587,
                    587
                  ],
                  "y": [
                    168,
                    228,
                    228,
                    168,
                    168,
                    228,
                    228,
                    168
                  ],
                  "z": [
                    64,
                    64,
                    64,
                    64,
                    146,
                    146,
                    146,
                    146
                  ]
                },
                {
                  "color": "rgb(131.63143548571787,129.63555437844292,66.26046859221034)",
                  "i": [
                    7,
                    0,
                    0,
                    0,
                    4,
                    4,
                    2,
                    6,
                    4,
                    0,
                    3,
                    7
                  ],
                  "j": [
                    3,
                    4,
                    1,
                    2,
                    5,
                    6,
                    5,
                    5,
                    0,
                    1,
                    2,
                    2
                  ],
                  "k": [
                    0,
                    7,
                    2,
                    3,
                    6,
                    7,
                    1,
                    2,
                    5,
                    5,
                    7,
                    6
                  ],
                  "opacity": 1,
                  "type": "mesh3d",
                  "x": [
                    0,
                    0,
                    258,
                    258,
                    0,
                    0,
                    258,
                    258
                  ],
                  "y": [
                    132,
                    208,
                    208,
                    132,
                    132,
                    208,
                    208,
                    132
                  ],
                  "z": [
                    72,
                    72,
                    72,
                    72,
                    110,
                    110,
                    110,
                    110
                  ]
                },
                {
                  "color": "rgb(168.48615098580368,115.63209544370596,249.19492956489628)",
                  "i": [
                    7,
                    0,
                    0,
                    0,
                    4,
                    4,
                    2,
                    6,
                    4,
                    0,
                    3,
                    7
                  ],
                  "j": [
                    3,
                    4,
                    1,
                    2,
                    5,
                    6,
                    5,
                    5,
                    0,
                    1,
                    2,
                    2
                  ],
                  "k": [
                    0,
                    7,
                    2,
                    3,
                    6,
                    7,
                    1,
                    2,
                    5,
                    5,
                    7,
                    6
                  ],
                  "opacity": 1,
                  "type": "mesh3d",
                  "x": [
                    266,
                    266,
                    336,
                    336,
                    266,
                    266,
                    336,
                    336
                  ],
                  "y": [
                    146,
                    208,
                    208,
                    146,
                    146,
                    208,
                    208,
                    146
                  ],
                  "z": [
                    72,
                    72,
                    72,
                    72,
                    167,
                    167,
                    167,
                    167
                  ]
                },
                {
                  "color": "rgb(127.3137268155075,120.68859275522067,232.58680924108597)",
                  "i": [
                    7,
                    0,
                    0,
                    0,
                    4,
                    4,
                    2,
                    6,
                    4,
                    0,
                    3,
                    7
                  ],
                  "j": [
                    3,
                    4,
                    1,
                    2,
                    5,
                    6,
                    5,
                    5,
                    0,
                    1,
                    2,
                    2
                  ],
                  "k": [
                    0,
                    7,
                    2,
                    3,
                    6,
                    7,
                    1,
                    2,
                    5,
                    5,
                    7,
                    6
                  ],
                  "opacity": 1,
                  "type": "mesh3d",
                  "x": [
                    418,
                    418,
                    484,
                    484,
                    418,
                    418,
                    484,
                    484
                  ],
                  "y": [
                    0,
                    90,
                    90,
                    0,
                    0,
                    90,
                    90,
                    0
                  ],
                  "z": [
                    84,
                    84,
                    84,
                    84,
                    170,
                    170,
                    170,
                    170
                  ]
                },
                {
                  "color": "rgb(247.56266295815215,229.35804959155485,71.28507201124461)",
                  "i": [
                    7,
                    0,
                    0,
                    0,
                    4,
                    4,
                    2,
                    6,
                    4,
                    0,
                    3,
                    7
                  ],
                  "j": [
                    3,
                    4,
                    1,
                    2,
                    5,
                    6,
                    5,
                    5,
                    0,
                    1,
                    2,
                    2
                  ],
                  "k": [
                    0,
                    7,
                    2,
                    3,
                    6,
                    7,
                    1,
                    2,
                    5,
                    5,
                    7,
                    6
                  ],
                  "opacity": 1,
                  "type": "mesh3d",
                  "x": [
                    424,
                    424,
                    484,
                    484,
                    424,
                    424,
                    484,
                    484
                  ],
                  "y": [
                    119,
                    170,
                    170,
                    119,
                    119,
                    170,
                    170,
                    119
                  ],
                  "z": [
                    84,
                    84,
                    84,
                    84,
                    125,
                    125,
                    125,
                    125
                  ]
                },
                {
                  "color": "rgb(196.57832656298555,7.182212162467033,5.372038952648065)",
                  "i": [
                    7,
                    0,
                    0,
                    0,
                    4,
                    4,
                    2,
                    6,
                    4,
                    0,
                    3,
                    7
                  ],
                  "j": [
                    3,
                    4,
                    1,
                    2,
                    5,
                    6,
                    5,
                    5,
                    0,
                    1,
                    2,
                    2
                  ],
                  "k": [
                    0,
                    7,
                    2,
                    3,
                    6,
                    7,
                    1,
                    2,
                    5,
                    5,
                    7,
                    6
                  ],
                  "opacity": 1,
                  "type": "mesh3d",
                  "x": [
                    0,
                    0,
                    258,
                    258,
                    0,
                    0,
                    258,
                    258
                  ],
                  "y": [
                    132,
                    208,
                    208,
                    132,
                    132,
                    208,
                    208,
                    132
                  ],
                  "z": [
                    110,
                    110,
                    110,
                    110,
                    148,
                    148,
                    148,
                    148
                  ]
                },
                {
                  "color": "rgb(211.83764759775283,41.21819368964786,48.163868709898615)",
                  "i": [
                    7,
                    0,
                    0,
                    0,
                    4,
                    4,
                    2,
                    6,
                    4,
                    0,
                    3,
                    7
                  ],
                  "j": [
                    3,
                    4,
                    1,
                    2,
                    5,
                    6,
                    5,
                    5,
                    0,
                    1,
                    2,
                    2
                  ],
                  "k": [
                    0,
                    7,
                    2,
                    3,
                    6,
                    7,
                    1,
                    2,
                    5,
                    5,
                    7,
                    6
                  ],
                  "opacity": 1,
                  "type": "mesh3d",
                  "x": [
                    0,
                    0,
                    333,
                    333,
                    0,
                    0,
                    333,
                    333
                  ],
                  "y": [
                    0,
                    49,
                    49,
                    0,
                    0,
                    49,
                    49,
                    0
                  ],
                  "z": [
                    126,
                    126,
                    126,
                    126,
                    152,
                    152,
                    152,
                    152
                  ]
                },
                {
                  "color": "rgb(51.940831172918095,108.04265195711672,102.91612372208246)",
                  "i": [
                    7,
                    0,
                    0,
                    0,
                    4,
                    4,
                    2,
                    6,
                    4,
                    0,
                    3,
                    7
                  ],
                  "j": [
                    3,
                    4,
                    1,
                    2,
                    5,
                    6,
                    5,
                    5,
                    0,
                    1,
                    2,
                    2
                  ],
                  "k": [
                    0,
                    7,
                    2,
                    3,
                    6,
                    7,
                    1,
                    2,
                    5,
                    5,
                    7,
                    6
                  ],
                  "opacity": 1,
                  "type": "mesh3d",
                  "x": [
                    0,
                    0,
                    222,
                    222,
                    0,
                    0,
                    222,
                    222
                  ],
                  "y": [
                    156,
                    208,
                    208,
                    156,
                    156,
                    208,
                    208,
                    156
                  ],
                  "z": [
                    148,
                    148,
                    148,
                    148,
                    197,
                    197,
                    197,
                    197
                  ]
                },
                {
                  "color": "rgb(9.67728957105602,88.33833585608147,42.404989829322545)",
                  "i": [
                    7,
                    0,
                    0,
                    0,
                    4,
                    4,
                    2,
                    6,
                    4,
                    0,
                    3,
                    7
                  ],
                  "j": [
                    3,
                    4,
                    1,
                    2,
                    5,
                    6,
                    5,
                    5,
                    0,
                    1,
                    2,
                    2
                  ],
                  "k": [
                    0,
                    7,
                    2,
                    3,
                    6,
                    7,
                    1,
                    2,
                    5,
                    5,
                    7,
                    6
                  ],
                  "opacity": 0,
                  "type": "mesh3d",
                  "x": [
                    0,
                    0,
                    587,
                    587,
                    0,
                    0,
                    587,
                    587
                  ],
                  "y": [
                    0,
                    233,
                    233,
                    0,
                    0,
                    233,
                    233,
                    0
                  ],
                  "z": [
                    0,
                    0,
                    0,
                    0,
                    220,
                    220,
                    220,
                    220
                  ]
                }
              ],
              "layout": {
                "autosize": false,
                "margin": {
                  "b": 0,
                  "l": 0,
                  "r": 0,
                  "t": 0
                },
                "paper_bgcolor": "rgba(0,0,0,0)",
                "scene": {
                  "camera": {
                    "center": {
                      "x": 0,
                      "y": 0,
                      "z": 0
                    },
                    "eye": {
                      "x": -2,
                      "y": 2,
                      "z": 1.5
                    },
                    "up": {
                      "x": 0,
                      "y": 0,
                      "z": 1
                    }
                  },
                  "xaxis": {
                    "nticks": 10,
                    "range": [
                      0,
                      587
                    ],
                    "showspikes": false
                  },
                  "yaxis": {
                    "nticks": 5,
                    "range": [
                      0,
                      233
                    ],
                    "showspikes": false
                  },
                  "zaxis": {
                    "nticks": 5,
                    "range": [
                      0,
                      220
                    ],
                    "tickfont": {
                      "size": 15
                    }
                  }
                },
                "template": {
                  "data": {
                    "bar": [
                      {
                        "error_x": {
                          "color": "#2a3f5f"
                        },
                        "error_y": {
                          "color": "#2a3f5f"
                        },
                        "marker": {
                          "line": {
                            "color": "#E5ECF6",
                            "width": 0.5
                          },
                          "pattern": {
                            "fillmode": "overlay",
                            "size": 10,
                            "solidity": 0.2
                          }
                        },
                        "type": "bar"
                      }
                    ],
                    "barpolar": [
                      {
                        "marker": {
                          "line": {
                            "color": "#E5ECF6",
                            "width": 0.5
                          },
                          "pattern": {
                            "fillmode": "overlay",
                            "size": 10,
                            "solidity": 0.2
                          }
                        },
                        "type": "barpolar"
                      }
                    ],
                    "carpet": [
                      {
                        "aaxis": {
                          "endlinecolor": "#2a3f5f",
                          "gridcolor": "white",
                          "linecolor": "white",
                          "minorgridcolor": "white",
                          "startlinecolor": "#2a3f5f"
                        },
                        "baxis": {
                          "endlinecolor": "#2a3f5f",
                          "gridcolor": "white",
                          "linecolor": "white",
                          "minorgridcolor": "white",
                          "startlinecolor": "#2a3f5f"
                        },
                        "type": "carpet"
                      }
                    ],
                    "choropleth": [
                      {
                        "colorbar": {
                          "outlinewidth": 0,
                          "ticks": ""
                        },
                        "type": "choropleth"
                      }
                    ],
                    "contour": [
                      {
                        "colorbar": {
                          "outlinewidth": 0,
                          "ticks": ""
                        },
                        "colorscale": [
                          [
                            0,
                            "#0d0887"
                          ],
                          [
                            0.1111111111111111,
                            "#46039f"
                          ],
                          [
                            0.2222222222222222,
                            "#7201a8"
                          ],
                          [
                            0.3333333333333333,
                            "#9c179e"
                          ],
                          [
                            0.4444444444444444,
                            "#bd3786"
                          ],
                          [
                            0.5555555555555556,
                            "#d8576b"
                          ],
                          [
                            0.6666666666666666,
                            "#ed7953"
                          ],
                          [
                            0.7777777777777778,
                            "#fb9f3a"
                          ],
                          [
                            0.8888888888888888,
                            "#fdca26"
                          ],
                          [
                            1,
                            "#f0f921"
                          ]
                        ],
                        "type": "contour"
                      }
                    ],
                    "contourcarpet": [
                      {
                        "colorbar": {
                          "outlinewidth": 0,
                          "ticks": ""
                        },
                        "type": "contourcarpet"
                      }
                    ],
                    "heatmap": [
                      {
                        "colorbar": {
                          "outlinewidth": 0,
                          "ticks": ""
                        },
                        "colorscale": [
                          [
                            0,
                            "#0d0887"
                          ],
                          [
                            0.1111111111111111,
                            "#46039f"
                          ],
                          [
                            0.2222222222222222,
                            "#7201a8"
                          ],
                          [
                            0.3333333333333333,
                            "#9c179e"
                          ],
                          [
                            0.4444444444444444,
                            "#bd3786"
                          ],
                          [
                            0.5555555555555556,
                            "#d8576b"
                          ],
                          [
                            0.6666666666666666,
                            "#ed7953"
                          ],
                          [
                            0.7777777777777778,
                            "#fb9f3a"
                          ],
                          [
                            0.8888888888888888,
                            "#fdca26"
                          ],
                          [
                            1,
                            "#f0f921"
                          ]
                        ],
                        "type": "heatmap"
                      }
                    ],
                    "heatmapgl": [
                      {
                        "colorbar": {
                          "outlinewidth": 0,
                          "ticks": ""
                        },
                        "colorscale": [
                          [
                            0,
                            "#0d0887"
                          ],
                          [
                            0.1111111111111111,
                            "#46039f"
                          ],
                          [
                            0.2222222222222222,
                            "#7201a8"
                          ],
                          [
                            0.3333333333333333,
                            "#9c179e"
                          ],
                          [
                            0.4444444444444444,
                            "#bd3786"
                          ],
                          [
                            0.5555555555555556,
                            "#d8576b"
                          ],
                          [
                            0.6666666666666666,
                            "#ed7953"
                          ],
                          [
                            0.7777777777777778,
                            "#fb9f3a"
                          ],
                          [
                            0.8888888888888888,
                            "#fdca26"
                          ],
                          [
                            1,
                            "#f0f921"
                          ]
                        ],
                        "type": "heatmapgl"
                      }
                    ],
                    "histogram": [
                      {
                        "marker": {
                          "pattern": {
                            "fillmode": "overlay",
                            "size": 10,
                            "solidity": 0.2
                          }
                        },
                        "type": "histogram"
                      }
                    ],
                    "histogram2d": [
                      {
                        "colorbar": {
                          "outlinewidth": 0,
                          "ticks": ""
                        },
                        "colorscale": [
                          [
                            0,
                            "#0d0887"
                          ],
                          [
                            0.1111111111111111,
                            "#46039f"
                          ],
                          [
                            0.2222222222222222,
                            "#7201a8"
                          ],
                          [
                            0.3333333333333333,
                            "#9c179e"
                          ],
                          [
                            0.4444444444444444,
                            "#bd3786"
                          ],
                          [
                            0.5555555555555556,
                            "#d8576b"
                          ],
                          [
                            0.6666666666666666,
                            "#ed7953"
                          ],
                          [
                            0.7777777777777778,
                            "#fb9f3a"
                          ],
                          [
                            0.8888888888888888,
                            "#fdca26"
                          ],
                          [
                            1,
                            "#f0f921"
                          ]
                        ],
                        "type": "histogram2d"
                      }
                    ],
                    "histogram2dcontour": [
                      {
                        "colorbar": {
                          "outlinewidth": 0,
                          "ticks": ""
                        },
                        "colorscale": [
                          [
                            0,
                            "#0d0887"
                          ],
                          [
                            0.1111111111111111,
                            "#46039f"
                          ],
                          [
                            0.2222222222222222,
                            "#7201a8"
                          ],
                          [
                            0.3333333333333333,
                            "#9c179e"
                          ],
                          [
                            0.4444444444444444,
                            "#bd3786"
                          ],
                          [
                            0.5555555555555556,
                            "#d8576b"
                          ],
                          [
                            0.6666666666666666,
                            "#ed7953"
                          ],
                          [
                            0.7777777777777778,
                            "#fb9f3a"
                          ],
                          [
                            0.8888888888888888,
                            "#fdca26"
                          ],
                          [
                            1,
                            "#f0f921"
                          ]
                        ],
                        "type": "histogram2dcontour"
                      }
                    ],
                    "mesh3d": [
                      {
                        "colorbar": {
                          "outlinewidth": 0,
                          "ticks": ""
                        },
                        "type": "mesh3d"
                      }
                    ],
                    "parcoords": [
                      {
                        "line": {
                          "colorbar": {
                            "outlinewidth": 0,
                            "ticks": ""
                          }
                        },
                        "type": "parcoords"
                      }
                    ],
                    "pie": [
                      {
                        "automargin": true,
                        "type": "pie"
                      }
                    ],
                    "scatter": [
                      {
                        "fillpattern": {
                          "fillmode": "overlay",
                          "size": 10,
                          "solidity": 0.2
                        },
                        "type": "scatter"
                      }
                    ],
                    "scatter3d": [
                      {
                        "line": {
                          "colorbar": {
                            "outlinewidth": 0,
                            "ticks": ""
                          }
                        },
                        "marker": {
                          "colorbar": {
                            "outlinewidth": 0,
                            "ticks": ""
                          }
                        },
                        "type": "scatter3d"
                      }
                    ],
                    "scattercarpet": [
                      {
                        "marker": {
                          "colorbar": {
                            "outlinewidth": 0,
                            "ticks": ""
                          }
                        },
                        "type": "scattercarpet"
                      }
                    ],
                    "scattergeo": [
                      {
                        "marker": {
                          "colorbar": {
                            "outlinewidth": 0,
                            "ticks": ""
                          }
                        },
                        "type": "scattergeo"
                      }
                    ],
                    "scattergl": [
                      {
                        "marker": {
                          "colorbar": {
                            "outlinewidth": 0,
                            "ticks": ""
                          }
                        },
                        "type": "scattergl"
                      }
                    ],
                    "scattermapbox": [
                      {
                        "marker": {
                          "colorbar": {
                            "outlinewidth": 0,
                            "ticks": ""
                          }
                        },
                        "type": "scattermapbox"
                      }
                    ],
                    "scatterpolar": [
                      {
                        "marker": {
                          "colorbar": {
                            "outlinewidth": 0,
                            "ticks": ""
                          }
                        },
                        "type": "scatterpolar"
                      }
                    ],
                    "scatterpolargl": [
                      {
                        "marker": {
                          "colorbar": {
                            "outlinewidth": 0,
                            "ticks": ""
                          }
                        },
                        "type": "scatterpolargl"
                      }
                    ],
                    "scatterternary": [
                      {
                        "marker": {
                          "colorbar": {
                            "outlinewidth": 0,
                            "ticks": ""
                          }
                        },
                        "type": "scatterternary"
                      }
                    ],
                    "surface": [
                      {
                        "colorbar": {
                          "outlinewidth": 0,
                          "ticks": ""
                        },
                        "colorscale": [
                          [
                            0,
                            "#0d0887"
                          ],
                          [
                            0.1111111111111111,
                            "#46039f"
                          ],
                          [
                            0.2222222222222222,
                            "#7201a8"
                          ],
                          [
                            0.3333333333333333,
                            "#9c179e"
                          ],
                          [
                            0.4444444444444444,
                            "#bd3786"
                          ],
                          [
                            0.5555555555555556,
                            "#d8576b"
                          ],
                          [
                            0.6666666666666666,
                            "#ed7953"
                          ],
                          [
                            0.7777777777777778,
                            "#fb9f3a"
                          ],
                          [
                            0.8888888888888888,
                            "#fdca26"
                          ],
                          [
                            1,
                            "#f0f921"
                          ]
                        ],
                        "type": "surface"
                      }
                    ],
                    "table": [
                      {
                        "cells": {
                          "fill": {
                            "color": "#EBF0F8"
                          },
                          "line": {
                            "color": "white"
                          }
                        },
                        "header": {
                          "fill": {
                            "color": "#C8D4E3"
                          },
                          "line": {
                            "color": "white"
                          }
                        },
                        "type": "table"
                      }
                    ]
                  },
                  "layout": {
                    "annotationdefaults": {
                      "arrowcolor": "#2a3f5f",
                      "arrowhead": 0,
                      "arrowwidth": 1
                    },
                    "autotypenumbers": "strict",
                    "coloraxis": {
                      "colorbar": {
                        "outlinewidth": 0,
                        "ticks": ""
                      }
                    },
                    "colorscale": {
                      "diverging": [
                        [
                          0,
                          "#8e0152"
                        ],
                        [
                          0.1,
                          "#c51b7d"
                        ],
                        [
                          0.2,
                          "#de77ae"
                        ],
                        [
                          0.3,
                          "#f1b6da"
                        ],
                        [
                          0.4,
                          "#fde0ef"
                        ],
                        [
                          0.5,
                          "#f7f7f7"
                        ],
                        [
                          0.6,
                          "#e6f5d0"
                        ],
                        [
                          0.7,
                          "#b8e186"
                        ],
                        [
                          0.8,
                          "#7fbc41"
                        ],
                        [
                          0.9,
                          "#4d9221"
                        ],
                        [
                          1,
                          "#276419"
                        ]
                      ],
                      "sequential": [
                        [
                          0,
                          "#0d0887"
                        ],
                        [
                          0.1111111111111111,
                          "#46039f"
                        ],
                        [
                          0.2222222222222222,
                          "#7201a8"
                        ],
                        [
                          0.3333333333333333,
                          "#9c179e"
                        ],
                        [
                          0.4444444444444444,
                          "#bd3786"
                        ],
                        [
                          0.5555555555555556,
                          "#d8576b"
                        ],
                        [
                          0.6666666666666666,
                          "#ed7953"
                        ],
                        [
                          0.7777777777777778,
                          "#fb9f3a"
                        ],
                        [
                          0.8888888888888888,
                          "#fdca26"
                        ],
                        [
                          1,
                          "#f0f921"
                        ]
                      ],
                      "sequentialminus": [
                        [
                          0,
                          "#0d0887"
                        ],
                        [
                          0.1111111111111111,
                          "#46039f"
                        ],
                        [
                          0.2222222222222222,
                          "#7201a8"
                        ],
                        [
                          0.3333333333333333,
                          "#9c179e"
                        ],
                        [
                          0.4444444444444444,
                          "#bd3786"
                        ],
                        [
                          0.5555555555555556,
                          "#d8576b"
                        ],
                        [
                          0.6666666666666666,
                          "#ed7953"
                        ],
                        [
                          0.7777777777777778,
                          "#fb9f3a"
                        ],
                        [
                          0.8888888888888888,
                          "#fdca26"
                        ],
                        [
                          1,
                          "#f0f921"
                        ]
                      ]
                    },
                    "colorway": [
                      "#636efa",
                      "#EF553B",
                      "#00cc96",
                      "#ab63fa",
                      "#FFA15A",
                      "#19d3f3",
                      "#FF6692",
                      "#B6E880",
                      "#FF97FF",
                      "#FECB52"
                    ],
                    "font": {
                      "color": "#2a3f5f"
                    },
                    "geo": {
                      "bgcolor": "white",
                      "lakecolor": "white",
                      "landcolor": "#E5ECF6",
                      "showlakes": true,
                      "showland": true,
                      "subunitcolor": "white"
                    },
                    "hoverlabel": {
                      "align": "left"
                    },
                    "hovermode": "closest",
                    "mapbox": {
                      "style": "light"
                    },
                    "paper_bgcolor": "white",
                    "plot_bgcolor": "#E5ECF6",
                    "polar": {
                      "angularaxis": {
                        "gridcolor": "white",
                        "linecolor": "white",
                        "ticks": ""
                      },
                      "bgcolor": "#E5ECF6",
                      "radialaxis": {
                        "gridcolor": "white",
                        "linecolor": "white",
                        "ticks": ""
                      }
                    },
                    "scene": {
                      "xaxis": {
                        "backgroundcolor": "#E5ECF6",
                        "gridcolor": "white",
                        "gridwidth": 2,
                        "linecolor": "white",
                        "showbackground": true,
                        "ticks": "",
                        "zerolinecolor": "white"
                      },
                      "yaxis": {
                        "backgroundcolor": "#E5ECF6",
                        "gridcolor": "white",
                        "gridwidth": 2,
                        "linecolor": "white",
                        "showbackground": true,
                        "ticks": "",
                        "zerolinecolor": "white"
                      },
                      "zaxis": {
                        "backgroundcolor": "#E5ECF6",
                        "gridcolor": "white",
                        "gridwidth": 2,
                        "linecolor": "white",
                        "showbackground": true,
                        "ticks": "",
                        "zerolinecolor": "white"
                      }
                    },
                    "shapedefaults": {
                      "line": {
                        "color": "#2a3f5f"
                      }
                    },
                    "ternary": {
                      "aaxis": {
                        "gridcolor": "white",
                        "linecolor": "white",
                        "ticks": ""
                      },
                      "baxis": {
                        "gridcolor": "white",
                        "linecolor": "white",
                        "ticks": ""
                      },
                      "bgcolor": "#E5ECF6",
                      "caxis": {
                        "gridcolor": "white",
                        "linecolor": "white",
                        "ticks": ""
                      }
                    },
                    "title": {
                      "x": 0.05
                    },
                    "xaxis": {
                      "automargin": true,
                      "gridcolor": "white",
                      "linecolor": "white",
                      "ticks": "",
                      "title": {
                        "standoff": 15
                      },
                      "zerolinecolor": "white",
                      "zerolinewidth": 2
                    },
                    "yaxis": {
                      "automargin": true,
                      "gridcolor": "white",
                      "linecolor": "white",
                      "ticks": "",
                      "title": {
                        "standoff": 15
                      },
                      "zerolinecolor": "white",
                      "zerolinewidth": 2
                    }
                  }
                }
              }
            }
          },
          "metadata": {},
          "output_type": "display_data"
        },
        {
          "name": "stdout",
          "output_type": "stream",
          "text": [
            "587 233 220\n",
            "L * W * H = 30089620\n",
            "total_volume = 17146607\n",
            "TOTAL_VOLUME = 23\n",
            "%DS = 0.7949002971841601\n",
            "% = 0.5698512310889935\n",
            "13629843\n"
          ]
        },
        {
          "data": {
            "image/png": "[encoded data removed]",
            "text/plain": [
              "<Figure size 640x480 with 1 Axes>"
            ]
          },
          "metadata": {},
          "output_type": "display_data"
        }
      ],
      "source": [
        "\n",
        "cont, execution_time,total_volume,TOTAL_VOLUME,DS,history_CG = MLCP_function(params=params,instance=1,weight_restriction=True, max_distance_cg=10000)\n",
        "print(\"cont despues de ejecutar MLCP\")\n",
        "L = cont.l;W = cont.w; H = cont.h\n",
        "\n",
        "box_dims = []\n",
        "for aabb in cont.aabbs:\n",
        "  box_dims.append([aabb.xmin,aabb.ymin,aabb.zmin,aabb.xmax,aabb.ymax,aabb.zmax])\n",
        "box_dims.append([0,0,0,L,W,H])\n",
        "bxplot.plot_container([L,W,H], box_dims) \n",
        "print(f'{L} {W} {H}')\n",
        "print(f'L * W * H = {L * W * H}')\n",
        "print(f'total_volume = {sum(total_volume)}')\n",
        "print(f'TOTAL_VOLUME = {len(TOTAL_VOLUME)}')\n",
        "print(f'%DS = {DS /sum(total_volume)}')\n",
        "print(f'% = {sum(total_volume)/(L * W * H)}')\n",
        "\n",
        "import matplotlib.pyplot as plt\n",
        "import numpy as np\n",
        "\n",
        "acum_volume = np.cumsum(total_volume)\n",
        "x = list(range(1, len(total_volume) + 1))\n",
        "plt.plot(x, acum_volume)\n",
        "plt.title('volumen')\n",
        "\n",
        "\n",
        "plt.show()"
      ]
    },
    {
      "cell_type": "code",
      "execution_count": 6,
      "metadata": {},
      "outputs": [],
      "source": [
        "import os\n",
        "ALPHA = [4]\n",
        "BETA = [0,0.5,1,2,4]\n",
        "GAMMA = [0]\n",
        "DELTA = [0]\n",
        "EPSILON = [0]\n",
        "ZETA = [0]\n",
        "FILES_VOLUME = []\n",
        "DS_FILES = []\n",
        "# BETA = [0,0.6,0.8,1.0,1.2]\n",
        "# GAMMA = [0,0.2,0.4,0.6,0.8]\n",
        "# DELTA = [0.0,0.02,0.05,0.08,0.1]\n",
        "# params = [4.0, 1.0, 0.2, 0.5, 0, 0.05]\n",
        "for alpha in ALPHA:\n",
        "    for beta in BETA:\n",
        "        for gamma in GAMMA:\n",
        "            for delta in DELTA:\n",
        "                for epsilon in EPSILON:\n",
        "                    for zeta in ZETA:\n",
        "                        #ALPHA BETA GAMMA DELTA P\n",
        "                        params = [alpha, beta, gamma, delta, 0, epsilon, zeta]\n",
        "                        path = 'data/'\n",
        "                        \n",
        "                        FILES_DS = []\n",
        "                        for root,dirs,files in os.walk(path):\n",
        "                            for file in files:\n",
        "                                VOLUME = []\n",
        "                                DS = []\n",
        "                                for i in range(1,100):\n",
        "                                    cont, execution_time,total_volume,TOTAL_VOLUME,ds = MLCP_function(params,instance=i,weight_restriction=True,filename=f'{path}{file}', max_distance_cg=10000)\n",
        "                                    VOLUME.append(sum(total_volume)/(cont.l * cont.w * cont.h))\n",
        "                                    # DS.append()\n",
        "                                    DS.append(ds)\n",
        "                                FILES_VOLUME.append((alpha,sum(VOLUME)/100))\n",
        "\n",
        "                                # FILES_DS.append(sum(DS)/100)\n",
        "    \n",
        "        "
      ]
    },
    {
      "cell_type": "code",
      "execution_count": 12,
      "metadata": {},
      "outputs": [],
      "source": [
        "import pandas as pd\n",
        "files_df = pd.DataFrame(FILES_VOLUME)\n",
        "files_df.to_csv(\"resultados_100_15\")"
      ]
    },
    {
      "cell_type": "code",
      "execution_count": 7,
      "metadata": {},
      "outputs": [
        {
          "data": {
            "text/plain": [
              "[<matplotlib.lines.Line2D at 0x12ea73a00>]"
            ]
          },
          "execution_count": 7,
          "metadata": {},
          "output_type": "execute_result"
        },
        {
          "data": {
            "image/png": "[encoded data removed]",
            "text/plain": [
              "<Figure size 640x480 with 1 Axes>"
            ]
          },
          "metadata": {},
          "output_type": "display_data"
        }
      ],
      "source": [
        "import matplotlib.pyplot as plt\n",
        "fig,ax = plt.subplots()\n",
        "ax.plot(range(len(TOTAL_VOLUME)),TOTAL_VOLUME)"
      ]
    },
    {
      "cell_type": "code",
      "execution_count": 8,
      "metadata": {},
      "outputs": [],
      "source": [
        "ALPHA = [0.0,1.0,2.0,3.0]\n",
        "BETA = [0.0,1.0,2.0,3.0]\n",
        "GAMMA = [0.0,0.1,0.2,0.3]\n",
        "DELTA = [0.0,0.2,0.4,0.6]\n",
        "P = [0.00,0.01,0.02,0.03]\n",
        "INSTANCE = range(0,100)"
      ]
    },
    {
      "cell_type": "code",
      "execution_count": 9,
      "metadata": {},
      "outputs": [],
      "source": [
        "#data = []\n",
        "#for i in INSTANCE:\n",
        "#    cont, execution_time,total_volume = MLCP_function(alpha=1,beta=0,gamma=0,delta=1,p=0,instance=i)\n",
        " #   data.append([i,execution_time,total_volume,center_of_gravity(cont),1,0,0,1,0])\n"
      ]
    },
    {
      "cell_type": "code",
      "execution_count": 10,
      "metadata": {},
      "outputs": [
        {
          "ename": "NameError",
          "evalue": "name 'data' is not defined",
          "output_type": "error",
          "traceback": [
            "\u001b[0;31m---------------------------------------------------------------------------\u001b[0m",
            "\u001b[0;31mNameError\u001b[0m                                 Traceback (most recent call last)",
            "\u001b[1;32m/Users/eduardogutierrez/Documents/3D Bin Packing Tesis/MCLPframework/MCLP_framework.ipynb Cell 14\u001b[0m line \u001b[0;36m1\n\u001b[0;32m----> <a href='vscode-notebook-cell:/Users/eduardogutierrez/Documents/3D%20Bin%20Packing%20Tesis/MCLPframework/MCLP_framework.ipynb#X56sZmlsZQ%3D%3D?line=0'>1</a>\u001b[0m df \u001b[39m=\u001b[39m pd\u001b[39m.\u001b[39mDataFrame(data,columns\u001b[39m=\u001b[39m[\u001b[39m'\u001b[39m\u001b[39mInstancia\u001b[39m\u001b[39m'\u001b[39m,\u001b[39m'\u001b[39m\u001b[39mTiempo ejecucion\u001b[39m\u001b[39m'\u001b[39m,\u001b[39m'\u001b[39m\u001b[39mVolumen Ocupado\u001b[39m\u001b[39m'\u001b[39m,\u001b[39m'\u001b[39m\u001b[39mDiferencia centro\u001b[39m\u001b[39m'\u001b[39m,\u001b[39m'\u001b[39m\u001b[39malpha\u001b[39m\u001b[39m'\u001b[39m,\u001b[39m'\u001b[39m\u001b[39mbeta\u001b[39m\u001b[39m'\u001b[39m,\u001b[39m'\u001b[39m\u001b[39mgamma\u001b[39m\u001b[39m'\u001b[39m,\u001b[39m'\u001b[39m\u001b[39mdelta\u001b[39m\u001b[39m'\u001b[39m,\u001b[39m'\u001b[39m\u001b[39mp\u001b[39m\u001b[39m'\u001b[39m])\n",
            "\u001b[0;31mNameError\u001b[0m: name 'data' is not defined"
          ]
        }
      ],
      "source": [
        "df = pd.DataFrame(data,columns=['Instancia','Tiempo ejecucion','Volumen Ocupado','Diferencia centro','alpha','beta','gamma','delta','p'])"
      ]
    },
    {
      "cell_type": "code",
      "execution_count": null,
      "metadata": {},
      "outputs": [],
      "source": [
        "df"
      ]
    },
    {
      "cell_type": "code",
      "execution_count": null,
      "metadata": {},
      "outputs": [],
      "source": [
        "print(f'{df[\"Volumen Ocupado\"].mean()}  {df[\"Diferencia centro\"].mean()}')"
      ]
    },
    {
      "cell_type": "code",
      "execution_count": null,
      "metadata": {},
      "outputs": [],
      "source": [
        "import matplotlib.pyplot as plt\n",
        "\n",
        "fig,ax = plt.subplots()\n",
        "ax.plot(df['Instancia'],df['Volumen Ocupado'])\n",
        "plt.savefig('InstanciaVSVolumen.jpg')"
      ]
    },
    {
      "cell_type": "code",
      "execution_count": null,
      "metadata": {},
      "outputs": [],
      "source": [
        "fig,ax = plt.subplots()\n",
        "ax.plot(df['Instancia'],df['Diferencia centro'])\n",
        "plt.savefig('InstanciaVSCentro.jpg')"
      ]
    },
    {
      "cell_type": "code",
      "execution_count": null,
      "metadata": {},
      "outputs": [],
      "source": [
        "df.to_csv('resultados_parametros2.csv')"
      ]
    },
    {
      "cell_type": "code",
      "execution_count": null,
      "metadata": {},
      "outputs": [],
      "source": [
        "# cont, execution_time,total_volume = MLCP_function(alpha=1,beta=0.0,gamma=0,delta=0,p=0,instance=2)\n",
        "# cont, execution_time,total_volume = MLCP_function(alpha=1.0,beta=3.0,gamma=0.1,delta=0.2,p=0.02,instance=2)\n",
        "\n",
        "L = cont.l;W = cont.w; H = cont.h\n",
        "\n",
        "box_dims = []\n",
        "for aabb in cont.aabbs:\n",
        "  box_dims.append([aabb.xmin,aabb.ymin,aabb.zmin,aabb.xmax,aabb.ymax,aabb.zmax])\n",
        "\n",
        "bxplot.plot_container([L,W,H], box_dims)\n"
      ]
    },
    {
      "cell_type": "code",
      "execution_count": null,
      "metadata": {},
      "outputs": [],
      "source": [
        "#data = []\n",
        "#for i in INSTANCE:\n",
        "#    cont, execution_time,total_volume = MLCP_function(alpha=1.0,beta=3.0,gamma=0.1,delta=0.2,p=0.02,instance=i)\n",
        "#    data.append([i,execution_time,total_volume,center_of_gravity(cont),1,0,0,1,0])"
      ]
    },
    {
      "cell_type": "code",
      "execution_count": null,
      "metadata": {},
      "outputs": [],
      "source": [
        "df_2 = pd.DataFrame(data,columns=['Instancia','Tiempo ejecucion','Volumen Ocupado','Diferencia centro','alpha','beta','gamma','delta','p'])"
      ]
    },
    {
      "cell_type": "code",
      "execution_count": null,
      "metadata": {},
      "outputs": [],
      "source": [
        "print(f'{df_2[\"Volumen Ocupado\"].mean()}  {df_2[\"Diferencia centro\"].mean()}')"
      ]
    },
    {
      "cell_type": "code",
      "execution_count": null,
      "metadata": {},
      "outputs": [],
      "source": [
        "import matplotlib.pyplot as plt\n",
        "\n",
        "fig,ax = plt.subplots()\n",
        "ax.plot(df['Instancia'],df['Volumen Ocupado'],label='CS + R')\n",
        "ax.plot(df_2['Instancia'],df_2['Volumen Ocupado'],label='VCS + R')\n",
        "plt.title('Volumen ocupado por instancia')\n",
        "plt.xlabel('Instancias')\n",
        "plt.ylabel('Volumen ocupado')\n",
        "fig.legend()\n",
        "plt.savefig('InstanciaVSVolumen.jpg')"
      ]
    },
    {
      "cell_type": "code",
      "execution_count": null,
      "metadata": {},
      "outputs": [],
      "source": [
        "fig,ax = plt.subplots()\n",
        "ax.plot(df['Instancia'],df['Diferencia centro'],label='CS + R')\n",
        "ax.plot(df_2['Instancia'],df_2['Diferencia centro'],label = 'VCS + R')\n",
        "plt.xlabel('Instancias')\n",
        "plt.ylabel('Distancia centro')\n",
        "plt.title('Distancia centro por instancia')\n",
        "fig.legend()\n",
        "plt.savefig('InstanciaVSCentro.jpg')"
      ]
    },
    {
      "cell_type": "code",
      "execution_count": null,
      "metadata": {},
      "outputs": [],
      "source": [
        "fig,ax = plt.subplots()\n",
        "ax.plot(df['Instancia'],df['Tiempo ejecucion'],label='CS + R')\n",
        "ax.plot(df_2['Instancia'],df_2['Tiempo ejecucion'],label = 'VCS + R')\n",
        "\n",
        "plt.xlabel('Instancias')\n",
        "plt.ylabel('Tiempo ejecución')\n",
        "plt.title('Tiempo de ejecución por instancia')\n",
        "fig.legend()\n",
        "plt.savefig('InstanciaVSTiempo.jpg')"
      ]
    },
    {
      "cell_type": "code",
      "execution_count": null,
      "metadata": {},
      "outputs": [],
      "source": [
        "matriz = [[0,1,2],[3,4,5],[6,7,8]]\n",
        "print(matriz[-1])"
      ]
    },
    {
      "cell_type": "code",
      "execution_count": null,
      "metadata": {},
      "outputs": [],
      "source": [
        "import pandas as pd\n",
        "import numpy as np\n",
        "\n",
        "# Create a DataFrame with a datetime column\n",
        "df = pd.DataFrame({'date': ['2023-01-01', '2023-01-02', np.nan, '2023-01-04']})\n",
        "df['date'] = pd.to_datetime(df['date'], errors='coerce')\n",
        "\n",
        "# Check if each value in the 'date' column is NaT\n",
        "df['is_nat'] = df['date'].isna()\n",
        "\n",
        "# Print the DataFrame\n",
        "print(df)"
      ]
    },
    {
      "cell_type": "code",
      "execution_count": null,
      "metadata": {},
      "outputs": [
        {
          "data": {
            "text/plain": [
              "6"
            ]
          },
          "execution_count": 14,
          "metadata": {},
          "output_type": "execute_result"
        }
      ],
      "source": [
        "lista = [1,2,3]\n",
        "sum(lista)"
      ]
    }
  ],
  "metadata": {
    "colab": {
      "provenance": []
    },
    "kernelspec": {
      "display_name": "Python 3",
      "name": "python3"
    },
    "language_info": {
      "codemirror_mode": {
        "name": "ipython",
        "version": 3
      },
      "file_extension": ".py",
      "mimetype": "text/x-python",
      "name": "python",
      "nbconvert_exporter": "python",
      "pygments_lexer": "ipython3",
      "version": "3.9.6"
    }
  },
  "nbformat": 4,
  "nbformat_minor": 0
}
