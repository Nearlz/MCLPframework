{
  "cells": [
    {
      "cell_type": "code",
      "execution_count": 1,
      "metadata": {
        "colab": {
          "base_uri": "https://localhost:8080/"
        },
        "id": "I0nlZKgpCP3o",
        "outputId": "8f377390-ebd5-4f14-cd9b-bf486d8894f9"
      },
      "outputs": [
        {
          "name": "stdout",
          "output_type": "stream",
          "text": [
            "b1: Block: l: 4 w: 2 h: True weight: 1 volume: 8 occupied_volume: 8 items: {<src.base.Boxtype object at 0x0000027E83EE6A40>: 1} ratio:1.0\n",
            "b2: Block: l: 2 w: 3 h: True weight: 1 volume: 6 occupied_volume: 6 items: {<src.base.Boxtype object at 0x0000027E8386FC10>: 1} ratio:1.0\n",
            "b3: Block: l: True w: 2 h: 1 weight: 1 volume: 2 occupied_volume: 2 items: {<src.base.Boxtype object at 0x0000027E83F43070>: 1} ratio:1.0\n",
            "False b1+b2: Block: l: 4 w: 2 h: True weight: 1 volume: 8 occupied_volume: 8 items: {<src.base.Boxtype object at 0x0000027E83EE6A40>: 1} ratio:1.0\n",
            "False b1+b3: Block: l: 4 w: 2 h: True weight: 1 volume: 8 occupied_volume: 8 items: {<src.base.Boxtype object at 0x0000027E83EE6A40>: 1} ratio:1.0\n",
            "True b1+b1: Block: l: 8 w: 2 h: True weight: 2 volume: 16 occupied_volume: 16 items: {<src.base.Boxtype object at 0x0000027E83EE6A40>: 2} ratio:1.0\n"
          ]
        }
      ],
      "source": [
        "from src.base import Block, Boxtype\n",
        "import src.vcs_function as eval\n",
        "import src.box_plotter as bxplot\n",
        "import time\n",
        "import pandas as pd\n",
        "\n",
        "#test Blocks\n",
        "b1 = Block(boxtype=Boxtype(1,2,4,True,True,True,1), rot='wlh')\n",
        "b2 = Block(boxtype=Boxtype(1,2,3,True,True,True,1), rot='lwh')\n",
        "b3 = Block(boxtype=Boxtype(1,1,2,True,True,True,1), rot='hwl')\n",
        "\n",
        "#test join\n",
        "print(\"b1:\",b1); print(\"b2:\",b2); print(\"b3:\",b3)\n",
        "t=b1.join(b2, 'y'); print(t,\"b1+b2:\",b1)\n",
        "t=b1.join(b3, 'z'); print(t,\"b1+b3:\",b1)\n",
        "t=b1.join(b1, 'x'); print(t,\"b1+b1:\",b1)"
      ]
    },
    {
      "attachments": {},
      "cell_type": "markdown",
      "metadata": {
        "id": "fkcg_ZG9ijg_"
      },
      "source": [
        "## Plot container"
      ]
    },
    {
      "cell_type": "code",
      "execution_count": 2,
      "metadata": {
        "id": "Y1ePisniGkvs"
      },
      "outputs": [],
      "source": [
        "def load_instance(filename = \"instancia.txt\", type=\"BF\", id_instance=5):\n",
        "    with open(filename, \"r\") as file:\n",
        "        #discard first line\n",
        "        file.readline()\n",
        "      \n",
        "        for j in range(100):\n",
        "            file.readline()\n",
        "            L, W, H, WEIGHT,SUPPORTED_WEIGHT = [int(x) for x in file.readline().split()]\n",
        "\n",
        "            #read second line\n",
        "            n = int(file.readline())\n",
        "            #read n lines\n",
        "            items = Itemdict()\n",
        "            for i in range(n):\n",
        "                id, l, rotx, w, roty, h, rotz, n, weight, supported_weight = [int(x) for x in file.readline().split()]    \n",
        "                item = Boxtype(id, l, w, h, rotx, roty, rotz, weight, supported_weight)\n",
        "                items[item]=n\n",
        "            \n",
        "            if j == id_instance: return  items, L, W, H, WEIGHT, SUPPORTED_WEIGHT"
      ]
    },
    {
      "cell_type": "code",
      "execution_count": 3,
      "metadata": {},
      "outputs": [],
      "source": [
        "def adyacent_blocks(blocks,L,W,H):\n",
        "    last = blocks[-1]\n",
        "    adyacent = list()\n",
        "    box_dims = []\n",
        "    \n",
        "    for block in blocks[:-1]:\n",
        "        \n",
        "        if block.xmax == last.xmin and ((block.zmin < last.zmax and block.zmax > last.zmin ) and (block.ymin < last.ymax and block.ymax > last.ymin )):\n",
        "            z_diff_max = max([block.zmin,last.zmin])\n",
        "            z_diff_min = min([block.zmax,last.zmax])\n",
        "            y_diff_max = max([block.ymin,last.ymin])\n",
        "            y_diff_min = min([block.ymax,last.ymax])\n",
        "            adyacent.append(block)\n",
        "            block.covered_surface+= (z_diff_min-z_diff_max) * (y_diff_min-y_diff_max)\n",
        "            block.covered_surface_face['X1']+= (z_diff_min-z_diff_max) * (y_diff_min-y_diff_max)\n",
        "            last.covered_surface+= (z_diff_min-z_diff_max) * (y_diff_min-y_diff_max)\n",
        "            last.covered_surface_face['X2']+= (z_diff_min-z_diff_max) * (y_diff_min-y_diff_max)\n",
        "\n",
        "        elif block.xmin == last.xmax and ((block.zmin < last.zmax and block.zmax > last.zmin ) and (block.ymin < last.ymax and block.ymax > last.ymin )):\n",
        "            z_diff_max = max([block.zmin,last.zmin])\n",
        "            z_diff_min = min([block.zmax,last.zmax])\n",
        "            y_diff_max = max([block.ymin,last.ymin])\n",
        "            y_diff_min = min([block.ymax,last.ymax])\n",
        "            adyacent.append(block)\n",
        "            block.covered_surface+= (z_diff_min-z_diff_max) * (y_diff_min-y_diff_max)\n",
        "            block.covered_surface_face['X2']+= (z_diff_min-z_diff_max) * (y_diff_min-y_diff_max)\n",
        "            last.covered_surface+= (z_diff_min-z_diff_max) * (y_diff_min-y_diff_max)\n",
        "            last.covered_surface_face['X1']+= (z_diff_min-z_diff_max) * (y_diff_min-y_diff_max)\n",
        "\n",
        "        elif block.ymax == last.ymin and ((block.zmin < last.zmax and block.zmax > last.zmin ) and (block.xmin < last.xmax and block.xmax > last.xmin )):\n",
        "            z_diff_max = max([block.zmin,last.zmin])\n",
        "            z_diff_min = min([block.zmax,last.zmax])\n",
        "            x_diff_max = max([block.xmin,last.xmin])\n",
        "            x_diff_min = min([block.xmax,last.xmax])\n",
        "            adyacent.append(block)\n",
        "            block.covered_surface+= (z_diff_min-z_diff_max) * (x_diff_min-x_diff_max)\n",
        "            block.covered_surface_face['Y1']+= (z_diff_min-z_diff_max) * (x_diff_min-x_diff_max)\n",
        "            last.covered_surface+= (z_diff_min-z_diff_max) * (x_diff_min-x_diff_max)\n",
        "            last.covered_surface_face['Y2']+= (z_diff_min-z_diff_max) * (x_diff_min-x_diff_max)\n",
        "\n",
        "        elif block.ymin == last.ymax and ((block.zmin < last.zmax and block.zmax > last.zmin ) and (block.xmin < last.xmax and block.xmax > last.xmin )):\n",
        "            z_diff_max = max([block.zmin,last.zmin])\n",
        "            z_diff_min = min([block.zmax,last.zmax])\n",
        "            x_diff_max = max([block.xmin,last.xmin])\n",
        "            x_diff_min = min([block.xmax,last.xmax])\n",
        "            adyacent.append(block)\n",
        "            block.covered_surface+= (z_diff_min-z_diff_max) * (x_diff_min-x_diff_max)\n",
        "            block.covered_surface_face['Y2']+= (z_diff_min-z_diff_max) * (x_diff_min-x_diff_max)\n",
        "            last.covered_surface+= (z_diff_min-z_diff_max) * (x_diff_min-x_diff_max)\n",
        "            last.covered_surface_face['Y1']+= (z_diff_min-z_diff_max) * (x_diff_min-x_diff_max)\n",
        "\n",
        "        elif block.zmax == last.zmin and ((block.ymin < last.ymax and block.ymax > last.ymin ) and (block.xmin < last.xmax and block.xmax > last.xmin )):\n",
        "            y_diff_max = max([block.ymin,last.ymin])\n",
        "            y_diff_min = min([block.ymax,last.ymax])\n",
        "            x_diff_max = max([block.xmin,last.xmin])\n",
        "            x_diff_min = min([block.xmax,last.xmax])\n",
        "            adyacent.append(block)\n",
        "            block.covered_surface+= (y_diff_min-y_diff_max) * (x_diff_min-x_diff_max)\n",
        "            # block.covered_surface_face['Z1']+= (y_diff_min-y_diff_max) * (x_diff_min-x_diff_max)\n",
        "            last.covered_surface+= (y_diff_min-y_diff_max) * (x_diff_min-x_diff_max)\n",
        "            # last.covered_surface_face['Z2']+= (y_diff_min-y_diff_max) * (x_diff_min-x_diff_max)\n",
        "\n",
        "        elif block.zmin == last.zmax and ((block.ymin < last.ymax and block.ymax > last.ymin ) and (block.xmin < last.xmax and block.xmax > last.xmin )):\n",
        "            y_diff_max = max([block.ymin,last.ymin])\n",
        "            y_diff_min = min([block.ymax,last.ymax])\n",
        "            x_diff_max = max([block.xmin,last.xmin])\n",
        "            x_diff_min = min([block.xmax,last.xmax])\n",
        "            adyacent.append(block)\n",
        "            block.covered_surface+= (y_diff_min-y_diff_max) * (x_diff_min-x_diff_max)\n",
        "            # block.covered_surface_face['Z2']+= (y_diff_min-y_diff_max) * (x_diff_min-x_diff_max)\n",
        "            last.covered_surface+= (y_diff_min-y_diff_max) * (x_diff_min-x_diff_max)\n",
        "            # last.covered_surface_face['Z1']+= (y_diff_min-y_diff_max) * (x_diff_min-x_diff_max)\n",
        "            \n",
        "    # if(len(adyacent)!=0):\n",
        "        # print(last.covered_surface_face)\n",
        "        # box_dims.append([last.xmin,last.ymin,last.zmin,last.xmax,last.ymax,last.zmax])\n",
        "        # for aabb in adyacent:\n",
        "        #     box_dims.append([aabb.xmin,aabb.ymin,aabb.zmin,aabb.xmax,aabb.ymax,aabb.zmax])\n",
        "        # bxplot.plot_container([L,W,H], box_dims)\n",
        "    pass"
      ]
    },
    {
      "attachments": {},
      "cell_type": "markdown",
      "metadata": {
        "id": "7uoXha4GlgGj"
      },
      "source": [
        "# The main code"
      ]
    },
    {
      "cell_type": "code",
      "execution_count": 4,
      "metadata": {
        "colab": {
          "base_uri": "https://localhost:8080/"
        },
        "id": "j43GfNpc5eiS",
        "outputId": "81cbc06a-4aca-4c48-f89b-cd27ac5f0753"
      },
      "outputs": [],
      "source": [
        "\n",
        "from src.base import Itemdict, BlockList, Aabb, Space\n",
        "from src.restrictions import center_of_gravity\n",
        "\n",
        "def MLCP_function(alpha,beta,gamma,delta,p,instance):\n",
        "\n",
        "  start_time = time.time()\n",
        "\n",
        "  params = [alpha,beta,gamma,delta,p]\n",
        "\n",
        "  Space.filling = \"bottom-up\" # spaces are filled from bottom to top\n",
        "  Space.vertical_stability = True # boxes must be completly supported\n",
        "\n",
        "  items, L, W, H, WEIGHT,SUPPORTED_WEIGHT = load_instance(filename = \"src/BR4.txt\", type=\"BF\", id_instance=instance)\n",
        "\n",
        "  cont = Block(l=L,w=W,h=H,weight=WEIGHT,stacking_weight_resistance=SUPPORTED_WEIGHT)\n",
        "\n",
        "  # print(\"generating blocks...\")\n",
        "  blocks = BlockList(items, type=\"general_blocks\", cont=cont, min_fr=1.0, max_bl=1000) \n",
        "\n",
        "  # for x in blocks:\n",
        "  #    print(x.items.values())\n",
        "\n",
        "  # greedy for single CLP\n",
        "  while True:\n",
        "      space = cont.free_space.closest_space() #cuboide mas cercano a un vertice inferior del contenedor\n",
        "\n",
        "      if space is not None:\n",
        "        block = eval.eval_function(blocks,space,params=params,container=cont,items=items)\n",
        "        # print(\"adding block...\", block)\n",
        "        \n",
        "        cont.add_block(block, space)\n",
        "        adyacent_blocks(cont.aabbs,L,W,H)\n",
        "        items -= block.items\n",
        "        blocks.remove_unconstructable(items)\n",
        "        cont.free_space.filter(items)\n",
        "      else:\n",
        "          break\n",
        "\n",
        "  end_time = time.time()\n",
        "\n",
        "  execution_time = end_time - start_time\n",
        "\n",
        "  total_volume = sum([x.volume for x in cont.aabbs])\n",
        "\n",
        "  return cont,execution_time,total_volume\n",
        "\n",
        "  # print(f'tiempo: {execution_time} s ; volumen total: {cont.l * cont.w * cont.h} ; volumen ocupado: {total_volume} ; centro de gravedad: {center_of_gravity(cont)}')\n"
      ]
    },
    {
      "attachments": {},
      "cell_type": "markdown",
      "metadata": {
        "id": "jHxosWYplHgN"
      },
      "source": [
        "# Plot the solution"
      ]
    },
    {
      "cell_type": "code",
      "execution_count": 5,
      "metadata": {
        "colab": {
          "base_uri": "https://localhost:8080/",
          "height": 562
        },
        "id": "CkjIfgmeTSs6",
        "outputId": "71414d7e-c2d6-4d90-8422-d921419051ce"
      },
      "outputs": [
        {
          "data": {
            "application/vnd.plotly.v1+json": {
              "config": {
                "linkText": "Export to plot.ly",
                "plotlyServerURL": "https://plot.ly",
                "showLink": false
              },
              "data": [
                {
                  "color": "rgb(80.93416046449718,151.8507632867643,62.87497358330648)",
                  "i": [
                    7,
                    0,
                    0,
                    0,
                    4,
                    4,
                    2,
                    6,
                    4,
                    0,
                    3,
                    7
                  ],
                  "j": [
                    3,
                    4,
                    1,
                    2,
                    5,
                    6,
                    5,
                    5,
                    0,
                    1,
                    2,
                    2
                  ],
                  "k": [
                    0,
                    7,
                    2,
                    3,
                    6,
                    7,
                    1,
                    2,
                    5,
                    5,
                    7,
                    6
                  ],
                  "opacity": 1,
                  "type": "mesh3d",
                  "x": [
                    0,
                    0,
                    412,
                    412,
                    0,
                    0,
                    412,
                    412
                  ],
                  "y": [
                    0,
                    76,
                    76,
                    0,
                    0,
                    76,
                    76,
                    0
                  ],
                  "z": [
                    0,
                    0,
                    0,
                    0,
                    64,
                    64,
                    64,
                    64
                  ]
                },
                {
                  "color": "rgb(11.168083104258171,180.80217202537744,50.711243475002036)",
                  "i": [
                    7,
                    0,
                    0,
                    0,
                    4,
                    4,
                    2,
                    6,
                    4,
                    0,
                    3,
                    7
                  ],
                  "j": [
                    3,
                    4,
                    1,
                    2,
                    5,
                    6,
                    5,
                    5,
                    0,
                    1,
                    2,
                    2
                  ],
                  "k": [
                    0,
                    7,
                    2,
                    3,
                    6,
                    7,
                    1,
                    2,
                    5,
                    5,
                    7,
                    6
                  ],
                  "opacity": 1,
                  "type": "mesh3d",
                  "x": [
                    0,
                    0,
                    206,
                    206,
                    0,
                    0,
                    206,
                    206
                  ],
                  "y": [
                    81,
                    233,
                    233,
                    81,
                    81,
                    233,
                    233,
                    81
                  ],
                  "z": [
                    0,
                    0,
                    0,
                    0,
                    64,
                    64,
                    64,
                    64
                  ]
                },
                {
                  "color": "rgb(210.99818995540025,0.9938400732801583,67.58800853928287)",
                  "i": [
                    7,
                    0,
                    0,
                    0,
                    4,
                    4,
                    2,
                    6,
                    4,
                    0,
                    3,
                    7
                  ],
                  "j": [
                    3,
                    4,
                    1,
                    2,
                    5,
                    6,
                    5,
                    5,
                    0,
                    1,
                    2,
                    2
                  ],
                  "k": [
                    0,
                    7,
                    2,
                    3,
                    6,
                    7,
                    1,
                    2,
                    5,
                    5,
                    7,
                    6
                  ],
                  "opacity": 1,
                  "type": "mesh3d",
                  "x": [
                    417,
                    417,
                    587,
                    587,
                    417,
                    417,
                    587,
                    587
                  ],
                  "y": [
                    0,
                    168,
                    168,
                    0,
                    0,
                    168,
                    168,
                    0
                  ],
                  "z": [
                    0,
                    0,
                    0,
                    0,
                    72,
                    72,
                    72,
                    72
                  ]
                },
                {
                  "color": "rgb(138.68207128460747,0.6343997885983566,195.92203847587803)",
                  "i": [
                    7,
                    0,
                    0,
                    0,
                    4,
                    4,
                    2,
                    6,
                    4,
                    0,
                    3,
                    7
                  ],
                  "j": [
                    3,
                    4,
                    1,
                    2,
                    5,
                    6,
                    5,
                    5,
                    0,
                    1,
                    2,
                    2
                  ],
                  "k": [
                    0,
                    7,
                    2,
                    3,
                    6,
                    7,
                    1,
                    2,
                    5,
                    5,
                    7,
                    6
                  ],
                  "opacity": 1,
                  "type": "mesh3d",
                  "x": [
                    207,
                    207,
                    587,
                    587,
                    207,
                    207,
                    587,
                    587
                  ],
                  "y": [
                    171,
                    233,
                    233,
                    171,
                    171,
                    233,
                    233,
                    171
                  ],
                  "z": [
                    0,
                    0,
                    0,
                    0,
                    70,
                    70,
                    70,
                    70
                  ]
                },
                {
                  "color": "rgb(4.069305398154425,170.49129149643,219.36777531607373)",
                  "i": [
                    7,
                    0,
                    0,
                    0,
                    4,
                    4,
                    2,
                    6,
                    4,
                    0,
                    3,
                    7
                  ],
                  "j": [
                    3,
                    4,
                    1,
                    2,
                    5,
                    6,
                    5,
                    5,
                    0,
                    1,
                    2,
                    2
                  ],
                  "k": [
                    0,
                    7,
                    2,
                    3,
                    6,
                    7,
                    1,
                    2,
                    5,
                    5,
                    7,
                    6
                  ],
                  "opacity": 1,
                  "type": "mesh3d",
                  "x": [
                    0,
                    0,
                    344,
                    344,
                    0,
                    0,
                    344,
                    344
                  ],
                  "y": [
                    0,
                    76,
                    76,
                    0,
                    0,
                    76,
                    76,
                    0
                  ],
                  "z": [
                    64,
                    64,
                    64,
                    64,
                    102,
                    102,
                    102,
                    102
                  ]
                },
                {
                  "color": "rgb(192.6071309469042,91.66416877731233,73.997239506887)",
                  "i": [
                    7,
                    0,
                    0,
                    0,
                    4,
                    4,
                    2,
                    6,
                    4,
                    0,
                    3,
                    7
                  ],
                  "j": [
                    3,
                    4,
                    1,
                    2,
                    5,
                    6,
                    5,
                    5,
                    0,
                    1,
                    2,
                    2
                  ],
                  "k": [
                    0,
                    7,
                    2,
                    3,
                    6,
                    7,
                    1,
                    2,
                    5,
                    5,
                    7,
                    6
                  ],
                  "opacity": 1,
                  "type": "mesh3d",
                  "x": [
                    0,
                    0,
                    172,
                    172,
                    0,
                    0,
                    172,
                    172
                  ],
                  "y": [
                    81,
                    233,
                    233,
                    81,
                    81,
                    233,
                    233,
                    81
                  ],
                  "z": [
                    64,
                    64,
                    64,
                    64,
                    102,
                    102,
                    102,
                    102
                  ]
                },
                {
                  "color": "rgb(120.78623980127472,247.51194740420857,220.5248003058636)",
                  "i": [
                    7,
                    0,
                    0,
                    0,
                    4,
                    4,
                    2,
                    6,
                    4,
                    0,
                    3,
                    7
                  ],
                  "j": [
                    3,
                    4,
                    1,
                    2,
                    5,
                    6,
                    5,
                    5,
                    0,
                    1,
                    2,
                    2
                  ],
                  "k": [
                    0,
                    7,
                    2,
                    3,
                    6,
                    7,
                    1,
                    2,
                    5,
                    5,
                    7,
                    6
                  ],
                  "opacity": 1,
                  "type": "mesh3d",
                  "x": [
                    254,
                    254,
                    587,
                    587,
                    254,
                    254,
                    587,
                    587
                  ],
                  "y": [
                    184,
                    233,
                    233,
                    184,
                    184,
                    233,
                    233,
                    184
                  ],
                  "z": [
                    70,
                    70,
                    70,
                    70,
                    96,
                    96,
                    96,
                    96
                  ]
                },
                {
                  "color": "rgb(14.109959583195707,95.08714688437793,46.18904104356861)",
                  "i": [
                    7,
                    0,
                    0,
                    0,
                    4,
                    4,
                    2,
                    6,
                    4,
                    0,
                    3,
                    7
                  ],
                  "j": [
                    3,
                    4,
                    1,
                    2,
                    5,
                    6,
                    5,
                    5,
                    0,
                    1,
                    2,
                    2
                  ],
                  "k": [
                    0,
                    7,
                    2,
                    3,
                    6,
                    7,
                    1,
                    2,
                    5,
                    5,
                    7,
                    6
                  ],
                  "opacity": 1,
                  "type": "mesh3d",
                  "x": [
                    459,
                    459,
                    587,
                    587,
                    459,
                    459,
                    587,
                    587
                  ],
                  "y": [
                    0,
                    103,
                    103,
                    0,
                    0,
                    103,
                    103,
                    0
                  ],
                  "z": [
                    72,
                    72,
                    72,
                    72,
                    148,
                    148,
                    148,
                    148
                  ]
                },
                {
                  "color": "rgb(236.2021566296873,81.59590268911504,225.30766305461853)",
                  "i": [
                    7,
                    0,
                    0,
                    0,
                    4,
                    4,
                    2,
                    6,
                    4,
                    0,
                    3,
                    7
                  ],
                  "j": [
                    3,
                    4,
                    1,
                    2,
                    5,
                    6,
                    5,
                    5,
                    0,
                    1,
                    2,
                    2
                  ],
                  "k": [
                    0,
                    7,
                    2,
                    3,
                    6,
                    7,
                    1,
                    2,
                    5,
                    5,
                    7,
                    6
                  ],
                  "opacity": 1,
                  "type": "mesh3d",
                  "x": [
                    254,
                    254,
                    587,
                    587,
                    254,
                    254,
                    587,
                    587
                  ],
                  "y": [
                    184,
                    233,
                    233,
                    184,
                    184,
                    233,
                    233,
                    184
                  ],
                  "z": [
                    96,
                    96,
                    96,
                    96,
                    122,
                    122,
                    122,
                    122
                  ]
                },
                {
                  "color": "rgb(95.77310501376772,164.1679461876066,145.53664927254263)",
                  "i": [
                    7,
                    0,
                    0,
                    0,
                    4,
                    4,
                    2,
                    6,
                    4,
                    0,
                    3,
                    7
                  ],
                  "j": [
                    3,
                    4,
                    1,
                    2,
                    5,
                    6,
                    5,
                    5,
                    0,
                    1,
                    2,
                    2
                  ],
                  "k": [
                    0,
                    7,
                    2,
                    3,
                    6,
                    7,
                    1,
                    2,
                    5,
                    5,
                    7,
                    6
                  ],
                  "opacity": 1,
                  "type": "mesh3d",
                  "x": [
                    0,
                    0,
                    333,
                    333,
                    0,
                    0,
                    333,
                    333
                  ],
                  "y": [
                    0,
                    49,
                    49,
                    0,
                    0,
                    49,
                    49,
                    0
                  ],
                  "z": [
                    102,
                    102,
                    102,
                    102,
                    128,
                    128,
                    128,
                    128
                  ]
                },
                {
                  "color": "rgb(211.2453212779458,90.1146003991977,125.64053973203386)",
                  "i": [
                    7,
                    0,
                    0,
                    0,
                    4,
                    4,
                    2,
                    6,
                    4,
                    0,
                    3,
                    7
                  ],
                  "j": [
                    3,
                    4,
                    1,
                    2,
                    5,
                    6,
                    5,
                    5,
                    0,
                    1,
                    2,
                    2
                  ],
                  "k": [
                    0,
                    7,
                    2,
                    3,
                    6,
                    7,
                    1,
                    2,
                    5,
                    5,
                    7,
                    6
                  ],
                  "opacity": 1,
                  "type": "mesh3d",
                  "x": [
                    0,
                    0,
                    147,
                    147,
                    0,
                    0,
                    147,
                    147
                  ],
                  "y": [
                    122,
                    233,
                    233,
                    122,
                    122,
                    233,
                    233,
                    122
                  ],
                  "z": [
                    102,
                    102,
                    102,
                    102,
                    128,
                    128,
                    128,
                    128
                  ]
                },
                {
                  "color": "rgb(178.63138674213644,245.8439318191873,7.399500399926549)",
                  "i": [
                    7,
                    0,
                    0,
                    0,
                    4,
                    4,
                    2,
                    6,
                    4,
                    0,
                    3,
                    7
                  ],
                  "j": [
                    3,
                    4,
                    1,
                    2,
                    5,
                    6,
                    5,
                    5,
                    0,
                    1,
                    2,
                    2
                  ],
                  "k": [
                    0,
                    7,
                    2,
                    3,
                    6,
                    7,
                    1,
                    2,
                    5,
                    5,
                    7,
                    6
                  ],
                  "opacity": 1,
                  "type": "mesh3d",
                  "x": [
                    387,
                    387,
                    587,
                    587,
                    387,
                    387,
                    587,
                    587
                  ],
                  "y": [
                    184,
                    233,
                    233,
                    184,
                    184,
                    233,
                    233,
                    184
                  ],
                  "z": [
                    122,
                    122,
                    122,
                    122,
                    143,
                    143,
                    143,
                    143
                  ]
                },
                {
                  "color": "rgb(35.901051165915185,89.41022465429225,89.83390534708477)",
                  "i": [
                    7,
                    0,
                    0,
                    0,
                    4,
                    4,
                    2,
                    6,
                    4,
                    0,
                    3,
                    7
                  ],
                  "j": [
                    3,
                    4,
                    1,
                    2,
                    5,
                    6,
                    5,
                    5,
                    0,
                    1,
                    2,
                    2
                  ],
                  "k": [
                    0,
                    7,
                    2,
                    3,
                    6,
                    7,
                    1,
                    2,
                    5,
                    5,
                    7,
                    6
                  ],
                  "opacity": 1,
                  "type": "mesh3d",
                  "x": [
                    0,
                    0,
                    270,
                    270,
                    0,
                    0,
                    270,
                    270
                  ],
                  "y": [
                    0,
                    43,
                    43,
                    0,
                    0,
                    43,
                    43,
                    0
                  ],
                  "z": [
                    128,
                    128,
                    128,
                    128,
                    161,
                    161,
                    161,
                    161
                  ]
                },
                {
                  "color": "rgb(143.80421782707234,31.96918187648888,105.36700393214728)",
                  "i": [
                    7,
                    0,
                    0,
                    0,
                    4,
                    4,
                    2,
                    6,
                    4,
                    0,
                    3,
                    7
                  ],
                  "j": [
                    3,
                    4,
                    1,
                    2,
                    5,
                    6,
                    5,
                    5,
                    0,
                    1,
                    2,
                    2
                  ],
                  "k": [
                    0,
                    7,
                    2,
                    3,
                    6,
                    7,
                    1,
                    2,
                    5,
                    5,
                    7,
                    6
                  ],
                  "opacity": 1,
                  "type": "mesh3d",
                  "x": [
                    0,
                    0,
                    129,
                    129,
                    0,
                    0,
                    129,
                    129
                  ],
                  "y": [
                    143,
                    233,
                    233,
                    143,
                    143,
                    233,
                    233,
                    143
                  ],
                  "z": [
                    128,
                    128,
                    128,
                    128,
                    161,
                    161,
                    161,
                    161
                  ]
                },
                {
                  "color": "rgb(67.1791821296794,207.42115586655743,64.77147859964157)",
                  "i": [
                    7,
                    0,
                    0,
                    0,
                    4,
                    4,
                    2,
                    6,
                    4,
                    0,
                    3,
                    7
                  ],
                  "j": [
                    3,
                    4,
                    1,
                    2,
                    5,
                    6,
                    5,
                    5,
                    0,
                    1,
                    2,
                    2
                  ],
                  "k": [
                    0,
                    7,
                    2,
                    3,
                    6,
                    7,
                    1,
                    2,
                    5,
                    5,
                    7,
                    6
                  ],
                  "opacity": 1,
                  "type": "mesh3d",
                  "x": [
                    484,
                    484,
                    587,
                    587,
                    484,
                    484,
                    587,
                    587
                  ],
                  "y": [
                    104,
                    168,
                    168,
                    104,
                    104,
                    168,
                    168,
                    104
                  ],
                  "z": [
                    72,
                    72,
                    72,
                    72,
                    148,
                    148,
                    148,
                    148
                  ]
                },
                {
                  "color": "rgb(147.05319793336656,38.57223044532049,188.765875264423)",
                  "i": [
                    7,
                    0,
                    0,
                    0,
                    4,
                    4,
                    2,
                    6,
                    4,
                    0,
                    3,
                    7
                  ],
                  "j": [
                    3,
                    4,
                    1,
                    2,
                    5,
                    6,
                    5,
                    5,
                    0,
                    1,
                    2,
                    2
                  ],
                  "k": [
                    0,
                    7,
                    2,
                    3,
                    6,
                    7,
                    1,
                    2,
                    5,
                    5,
                    7,
                    6
                  ],
                  "opacity": 1,
                  "type": "mesh3d",
                  "x": [
                    462,
                    462,
                    587,
                    587,
                    462,
                    462,
                    587,
                    587
                  ],
                  "y": [
                    184,
                    233,
                    233,
                    184,
                    184,
                    233,
                    233,
                    184
                  ],
                  "z": [
                    143,
                    143,
                    143,
                    143,
                    164,
                    164,
                    164,
                    164
                  ]
                },
                {
                  "color": "rgb(31.492907832499817,98.21327739738642,206.30733296266197)",
                  "i": [
                    7,
                    0,
                    0,
                    0,
                    4,
                    4,
                    2,
                    6,
                    4,
                    0,
                    3,
                    7
                  ],
                  "j": [
                    3,
                    4,
                    1,
                    2,
                    5,
                    6,
                    5,
                    5,
                    0,
                    1,
                    2,
                    2
                  ],
                  "k": [
                    0,
                    7,
                    2,
                    3,
                    6,
                    7,
                    1,
                    2,
                    5,
                    5,
                    7,
                    6
                  ],
                  "opacity": 1,
                  "type": "mesh3d",
                  "x": [
                    479,
                    479,
                    587,
                    587,
                    479,
                    479,
                    587,
                    587
                  ],
                  "y": [
                    0,
                    48,
                    48,
                    0,
                    0,
                    48,
                    48,
                    0
                  ],
                  "z": [
                    148,
                    148,
                    148,
                    148,
                    179,
                    179,
                    179,
                    179
                  ]
                },
                {
                  "color": "rgb(154.47982395158888,66.21630513720896,36.044468325203866)",
                  "i": [
                    7,
                    0,
                    0,
                    0,
                    4,
                    4,
                    2,
                    6,
                    4,
                    0,
                    3,
                    7
                  ],
                  "j": [
                    3,
                    4,
                    1,
                    2,
                    5,
                    6,
                    5,
                    5,
                    0,
                    1,
                    2,
                    2
                  ],
                  "k": [
                    0,
                    7,
                    2,
                    3,
                    6,
                    7,
                    1,
                    2,
                    5,
                    5,
                    7,
                    6
                  ],
                  "opacity": 1,
                  "type": "mesh3d",
                  "x": [
                    0,
                    0,
                    192,
                    192,
                    0,
                    0,
                    192,
                    192
                  ],
                  "y": [
                    0,
                    36,
                    36,
                    0,
                    0,
                    36,
                    36,
                    0
                  ],
                  "z": [
                    161,
                    161,
                    161,
                    161,
                    192,
                    192,
                    192,
                    192
                  ]
                },
                {
                  "color": "rgb(167.56132241263506,184.90615160963046,221.26320163908932)",
                  "i": [
                    7,
                    0,
                    0,
                    0,
                    4,
                    4,
                    2,
                    6,
                    4,
                    0,
                    3,
                    7
                  ],
                  "j": [
                    3,
                    4,
                    1,
                    2,
                    5,
                    6,
                    5,
                    5,
                    0,
                    1,
                    2,
                    2
                  ],
                  "k": [
                    0,
                    7,
                    2,
                    3,
                    6,
                    7,
                    1,
                    2,
                    5,
                    5,
                    7,
                    6
                  ],
                  "opacity": 1,
                  "type": "mesh3d",
                  "x": [
                    0,
                    0,
                    111,
                    111,
                    0,
                    0,
                    111,
                    111
                  ],
                  "y": [
                    184,
                    233,
                    233,
                    184,
                    184,
                    233,
                    233,
                    184
                  ],
                  "z": [
                    161,
                    161,
                    161,
                    161,
                    187,
                    187,
                    187,
                    187
                  ]
                },
                {
                  "color": "rgb(108.74745867201324,81.38547895113079,7.316792445501369)",
                  "i": [
                    7,
                    0,
                    0,
                    0,
                    4,
                    4,
                    2,
                    6,
                    4,
                    0,
                    3,
                    7
                  ],
                  "j": [
                    3,
                    4,
                    1,
                    2,
                    5,
                    6,
                    5,
                    5,
                    0,
                    1,
                    2,
                    2
                  ],
                  "k": [
                    0,
                    7,
                    2,
                    3,
                    6,
                    7,
                    1,
                    2,
                    5,
                    5,
                    7,
                    6
                  ],
                  "opacity": 1,
                  "type": "mesh3d",
                  "x": [
                    479,
                    479,
                    587,
                    587,
                    479,
                    479,
                    587,
                    587
                  ],
                  "y": [
                    185,
                    233,
                    233,
                    185,
                    185,
                    233,
                    233,
                    185
                  ],
                  "z": [
                    164,
                    164,
                    164,
                    164,
                    195,
                    195,
                    195,
                    195
                  ]
                },
                {
                  "color": "rgb(93.03814035597276,244.8788413790451,177.21052491671188)",
                  "i": [
                    7,
                    0,
                    0,
                    0,
                    4,
                    4,
                    2,
                    6,
                    4,
                    0,
                    3,
                    7
                  ],
                  "j": [
                    3,
                    4,
                    1,
                    2,
                    5,
                    6,
                    5,
                    5,
                    0,
                    1,
                    2,
                    2
                  ],
                  "k": [
                    0,
                    7,
                    2,
                    3,
                    6,
                    7,
                    1,
                    2,
                    5,
                    5,
                    7,
                    6
                  ],
                  "opacity": 1,
                  "type": "mesh3d",
                  "x": [
                    497,
                    497,
                    587,
                    587,
                    497,
                    497,
                    587,
                    587
                  ],
                  "y": [
                    0,
                    43,
                    43,
                    0,
                    0,
                    43,
                    43,
                    0
                  ],
                  "z": [
                    179,
                    179,
                    179,
                    179,
                    212,
                    212,
                    212,
                    212
                  ]
                },
                {
                  "color": "rgb(201.49365693441212,144.10675802973287,251.44443812764916)",
                  "i": [
                    7,
                    0,
                    0,
                    0,
                    4,
                    4,
                    2,
                    6,
                    4,
                    0,
                    3,
                    7
                  ],
                  "j": [
                    3,
                    4,
                    1,
                    2,
                    5,
                    6,
                    5,
                    5,
                    0,
                    1,
                    2,
                    2
                  ],
                  "k": [
                    0,
                    7,
                    2,
                    3,
                    6,
                    7,
                    1,
                    2,
                    5,
                    5,
                    7,
                    6
                  ],
                  "opacity": 1,
                  "type": "mesh3d",
                  "x": [
                    0,
                    0,
                    120,
                    120,
                    0,
                    0,
                    120,
                    120
                  ],
                  "y": [
                    81,
                    122,
                    122,
                    81,
                    81,
                    122,
                    122,
                    81
                  ],
                  "z": [
                    102,
                    102,
                    102,
                    102,
                    153,
                    153,
                    153,
                    153
                  ]
                },
                {
                  "color": "rgb(140.4360721156723,90.99792318081597,125.67123932379612)",
                  "i": [
                    7,
                    0,
                    0,
                    0,
                    4,
                    4,
                    2,
                    6,
                    4,
                    0,
                    3,
                    7
                  ],
                  "j": [
                    3,
                    4,
                    1,
                    2,
                    5,
                    6,
                    5,
                    5,
                    0,
                    1,
                    2,
                    2
                  ],
                  "k": [
                    0,
                    7,
                    2,
                    3,
                    6,
                    7,
                    1,
                    2,
                    5,
                    5,
                    7,
                    6
                  ],
                  "opacity": 1,
                  "type": "mesh3d",
                  "x": [
                    0,
                    0,
                    72,
                    72,
                    0,
                    0,
                    72,
                    72
                  ],
                  "y": [
                    185,
                    233,
                    233,
                    185,
                    185,
                    233,
                    233,
                    185
                  ],
                  "z": [
                    187,
                    187,
                    187,
                    187,
                    218,
                    218,
                    218,
                    218
                  ]
                },
                {
                  "color": "rgb(67.9942405988111,183.58438877468205,183.50915296596008)",
                  "i": [
                    7,
                    0,
                    0,
                    0,
                    4,
                    4,
                    2,
                    6,
                    4,
                    0,
                    3,
                    7
                  ],
                  "j": [
                    3,
                    4,
                    1,
                    2,
                    5,
                    6,
                    5,
                    5,
                    0,
                    1,
                    2,
                    2
                  ],
                  "k": [
                    0,
                    7,
                    2,
                    3,
                    6,
                    7,
                    1,
                    2,
                    5,
                    5,
                    7,
                    6
                  ],
                  "opacity": 1,
                  "type": "mesh3d",
                  "x": [
                    497,
                    497,
                    587,
                    587,
                    497,
                    497,
                    587,
                    587
                  ],
                  "y": [
                    48,
                    91,
                    91,
                    48,
                    48,
                    91,
                    91,
                    48
                  ],
                  "z": [
                    148,
                    148,
                    148,
                    148,
                    181,
                    181,
                    181,
                    181
                  ]
                },
                {
                  "color": "rgb(233.45984547877913,225.5798506570768,96.01200786046887)",
                  "i": [
                    7,
                    0,
                    0,
                    0,
                    4,
                    4,
                    2,
                    6,
                    4,
                    0,
                    3,
                    7
                  ],
                  "j": [
                    3,
                    4,
                    1,
                    2,
                    5,
                    6,
                    5,
                    5,
                    0,
                    1,
                    2,
                    2
                  ],
                  "k": [
                    0,
                    7,
                    2,
                    3,
                    6,
                    7,
                    1,
                    2,
                    5,
                    5,
                    7,
                    6
                  ],
                  "opacity": 1,
                  "type": "mesh3d",
                  "x": [
                    485,
                    485,
                    587,
                    587,
                    485,
                    485,
                    587,
                    587
                  ],
                  "y": [
                    108,
                    168,
                    168,
                    108,
                    108,
                    168,
                    168,
                    108
                  ],
                  "z": [
                    148,
                    148,
                    148,
                    148,
                    189,
                    189,
                    189,
                    189
                  ]
                },
                {
                  "color": "rgb(14.00587423258897,141.27571867517494,87.78964163297827)",
                  "i": [
                    7,
                    0,
                    0,
                    0,
                    4,
                    4,
                    2,
                    6,
                    4,
                    0,
                    3,
                    7
                  ],
                  "j": [
                    3,
                    4,
                    1,
                    2,
                    5,
                    6,
                    5,
                    5,
                    0,
                    1,
                    2,
                    2
                  ],
                  "k": [
                    0,
                    7,
                    2,
                    3,
                    6,
                    7,
                    1,
                    2,
                    5,
                    5,
                    7,
                    6
                  ],
                  "opacity": 1,
                  "type": "mesh3d",
                  "x": [
                    207,
                    207,
                    417,
                    417,
                    207,
                    207,
                    417,
                    417
                  ],
                  "y": [
                    76,
                    171,
                    171,
                    76,
                    76,
                    171,
                    171,
                    76
                  ],
                  "z": [
                    0,
                    0,
                    0,
                    0,
                    62,
                    62,
                    62,
                    62
                  ]
                },
                {
                  "color": "rgb(199.0111861847684,153.32425994137452,38.161301086439586)",
                  "i": [
                    7,
                    0,
                    0,
                    0,
                    4,
                    4,
                    2,
                    6,
                    4,
                    0,
                    3,
                    7
                  ],
                  "j": [
                    3,
                    4,
                    1,
                    2,
                    5,
                    6,
                    5,
                    5,
                    0,
                    1,
                    2,
                    2
                  ],
                  "k": [
                    0,
                    7,
                    2,
                    3,
                    6,
                    7,
                    1,
                    2,
                    5,
                    5,
                    7,
                    6
                  ],
                  "opacity": 1,
                  "type": "mesh3d",
                  "x": [
                    350,
                    350,
                    412,
                    412,
                    350,
                    350,
                    412,
                    412
                  ],
                  "y": [
                    0,
                    70,
                    70,
                    0,
                    0,
                    70,
                    70,
                    0
                  ],
                  "z": [
                    64,
                    64,
                    64,
                    64,
                    159,
                    159,
                    159,
                    159
                  ]
                },
                {
                  "color": "rgb(57.057566560649036,8.336458540121496,61.04147223303405)",
                  "i": [
                    7,
                    0,
                    0,
                    0,
                    4,
                    4,
                    2,
                    6,
                    4,
                    0,
                    3,
                    7
                  ],
                  "j": [
                    3,
                    4,
                    1,
                    2,
                    5,
                    6,
                    5,
                    5,
                    0,
                    1,
                    2,
                    2
                  ],
                  "k": [
                    0,
                    7,
                    2,
                    3,
                    6,
                    7,
                    1,
                    2,
                    5,
                    5,
                    7,
                    6
                  ],
                  "opacity": 1,
                  "type": "mesh3d",
                  "x": [
                    433,
                    433,
                    484,
                    484,
                    433,
                    433,
                    484,
                    484
                  ],
                  "y": [
                    108,
                    168,
                    168,
                    108,
                    108,
                    168,
                    168,
                    108
                  ],
                  "z": [
                    72,
                    72,
                    72,
                    72,
                    113,
                    113,
                    113,
                    113
                  ]
                },
                {
                  "color": "rgb(92.04188762717592,113.26501764979571,94.73525123020465)",
                  "i": [
                    7,
                    0,
                    0,
                    0,
                    4,
                    4,
                    2,
                    6,
                    4,
                    0,
                    3,
                    7
                  ],
                  "j": [
                    3,
                    4,
                    1,
                    2,
                    5,
                    6,
                    5,
                    5,
                    0,
                    1,
                    2,
                    2
                  ],
                  "k": [
                    0,
                    7,
                    2,
                    3,
                    6,
                    7,
                    1,
                    2,
                    5,
                    5,
                    7,
                    6
                  ],
                  "opacity": 1,
                  "type": "mesh3d",
                  "x": [
                    391,
                    391,
                    462,
                    462,
                    391,
                    391,
                    462,
                    462
                  ],
                  "y": [
                    185,
                    233,
                    233,
                    185,
                    185,
                    233,
                    233,
                    185
                  ],
                  "z": [
                    143,
                    143,
                    143,
                    143,
                    190,
                    190,
                    190,
                    190
                  ]
                },
                {
                  "color": "rgb(121.069108296423,47.20977817388608,113.0344959864947)",
                  "i": [
                    7,
                    0,
                    0,
                    0,
                    4,
                    4,
                    2,
                    6,
                    4,
                    0,
                    3,
                    7
                  ],
                  "j": [
                    3,
                    4,
                    1,
                    2,
                    5,
                    6,
                    5,
                    5,
                    0,
                    1,
                    2,
                    2
                  ],
                  "k": [
                    0,
                    7,
                    2,
                    3,
                    6,
                    7,
                    1,
                    2,
                    5,
                    5,
                    7,
                    6
                  ],
                  "opacity": 1,
                  "type": "mesh3d",
                  "x": [
                    207,
                    207,
                    417,
                    417,
                    207,
                    207,
                    417,
                    417
                  ],
                  "y": [
                    76,
                    171,
                    171,
                    76,
                    76,
                    171,
                    171,
                    76
                  ],
                  "z": [
                    62,
                    62,
                    62,
                    62,
                    124,
                    124,
                    124,
                    124
                  ]
                },
                {
                  "color": "rgb(21.833732200140407,36.519533471058075,206.48168853011273)",
                  "i": [
                    7,
                    0,
                    0,
                    0,
                    4,
                    4,
                    2,
                    6,
                    4,
                    0,
                    3,
                    7
                  ],
                  "j": [
                    3,
                    4,
                    1,
                    2,
                    5,
                    6,
                    5,
                    5,
                    0,
                    1,
                    2,
                    2
                  ],
                  "k": [
                    0,
                    7,
                    2,
                    3,
                    6,
                    7,
                    1,
                    2,
                    5,
                    5,
                    7,
                    6
                  ],
                  "opacity": 1,
                  "type": "mesh3d",
                  "x": [
                    267,
                    267,
                    387,
                    387,
                    267,
                    267,
                    387,
                    387
                  ],
                  "y": [
                    192,
                    233,
                    233,
                    192,
                    192,
                    233,
                    233,
                    192
                  ],
                  "z": [
                    122,
                    122,
                    122,
                    122,
                    173,
                    173,
                    173,
                    173
                  ]
                },
                {
                  "color": "rgb(62.78225215176486,195.08582626685902,69.37642849934953)",
                  "i": [
                    7,
                    0,
                    0,
                    0,
                    4,
                    4,
                    2,
                    6,
                    4,
                    0,
                    3,
                    7
                  ],
                  "j": [
                    3,
                    4,
                    1,
                    2,
                    5,
                    6,
                    5,
                    5,
                    0,
                    1,
                    2,
                    2
                  ],
                  "k": [
                    0,
                    7,
                    2,
                    3,
                    6,
                    7,
                    1,
                    2,
                    5,
                    5,
                    7,
                    6
                  ],
                  "opacity": 1,
                  "type": "mesh3d",
                  "x": [
                    352,
                    352,
                    412,
                    412,
                    352,
                    352,
                    412,
                    412
                  ],
                  "y": [
                    0,
                    51,
                    51,
                    0,
                    0,
                    51,
                    51,
                    0
                  ],
                  "z": [
                    159,
                    159,
                    159,
                    159,
                    200,
                    200,
                    200,
                    200
                  ]
                },
                {
                  "color": "rgb(197.25531269748595,77.45200924238448,206.60639835166248)",
                  "i": [
                    7,
                    0,
                    0,
                    0,
                    4,
                    4,
                    2,
                    6,
                    4,
                    0,
                    3,
                    7
                  ],
                  "j": [
                    3,
                    4,
                    1,
                    2,
                    5,
                    6,
                    5,
                    5,
                    0,
                    1,
                    2,
                    2
                  ],
                  "k": [
                    0,
                    7,
                    2,
                    3,
                    6,
                    7,
                    1,
                    2,
                    5,
                    5,
                    7,
                    6
                  ],
                  "opacity": 1,
                  "type": "mesh3d",
                  "x": [
                    245,
                    245,
                    417,
                    417,
                    245,
                    245,
                    417,
                    417
                  ],
                  "y": [
                    95,
                    171,
                    171,
                    95,
                    95,
                    171,
                    171,
                    95
                  ],
                  "z": [
                    124,
                    124,
                    124,
                    124,
                    162,
                    162,
                    162,
                    162
                  ]
                },
                {
                  "color": "rgb(246.50392722540832,191.18153257293184,37.31209097862192)",
                  "i": [
                    7,
                    0,
                    0,
                    0,
                    4,
                    4,
                    2,
                    6,
                    4,
                    0,
                    3,
                    7
                  ],
                  "j": [
                    3,
                    4,
                    1,
                    2,
                    5,
                    6,
                    5,
                    5,
                    0,
                    1,
                    2,
                    2
                  ],
                  "k": [
                    0,
                    7,
                    2,
                    3,
                    6,
                    7,
                    1,
                    2,
                    5,
                    5,
                    7,
                    6
                  ],
                  "opacity": 1,
                  "type": "mesh3d",
                  "x": [
                    273,
                    273,
                    417,
                    417,
                    273,
                    273,
                    417,
                    417
                  ],
                  "y": [
                    100,
                    171,
                    171,
                    100,
                    100,
                    171,
                    171,
                    100
                  ],
                  "z": [
                    162,
                    162,
                    162,
                    162,
                    209,
                    209,
                    209,
                    209
                  ]
                }
              ],
              "layout": {
                "autosize": false,
                "margin": {
                  "b": 0,
                  "l": 0,
                  "r": 0,
                  "t": 0
                },
                "paper_bgcolor": "rgba(0,0,0,0)",
                "scene": {
                  "camera": {
                    "center": {
                      "x": 0,
                      "y": 0,
                      "z": 0
                    },
                    "eye": {
                      "x": -2,
                      "y": 2,
                      "z": 1.5
                    },
                    "up": {
                      "x": 0,
                      "y": 0,
                      "z": 1
                    }
                  },
                  "xaxis": {
                    "nticks": 10,
                    "range": [
                      0,
                      587
                    ],
                    "showspikes": false
                  },
                  "yaxis": {
                    "nticks": 5,
                    "range": [
                      0,
                      233
                    ],
                    "showspikes": false
                  },
                  "zaxis": {
                    "nticks": 5,
                    "range": [
                      0,
                      220
                    ],
                    "tickfont": {
                      "size": 15
                    }
                  }
                },
                "template": {
                  "data": {
                    "bar": [
                      {
                        "error_x": {
                          "color": "#2a3f5f"
                        },
                        "error_y": {
                          "color": "#2a3f5f"
                        },
                        "marker": {
                          "line": {
                            "color": "#E5ECF6",
                            "width": 0.5
                          },
                          "pattern": {
                            "fillmode": "overlay",
                            "size": 10,
                            "solidity": 0.2
                          }
                        },
                        "type": "bar"
                      }
                    ],
                    "barpolar": [
                      {
                        "marker": {
                          "line": {
                            "color": "#E5ECF6",
                            "width": 0.5
                          },
                          "pattern": {
                            "fillmode": "overlay",
                            "size": 10,
                            "solidity": 0.2
                          }
                        },
                        "type": "barpolar"
                      }
                    ],
                    "carpet": [
                      {
                        "aaxis": {
                          "endlinecolor": "#2a3f5f",
                          "gridcolor": "white",
                          "linecolor": "white",
                          "minorgridcolor": "white",
                          "startlinecolor": "#2a3f5f"
                        },
                        "baxis": {
                          "endlinecolor": "#2a3f5f",
                          "gridcolor": "white",
                          "linecolor": "white",
                          "minorgridcolor": "white",
                          "startlinecolor": "#2a3f5f"
                        },
                        "type": "carpet"
                      }
                    ],
                    "choropleth": [
                      {
                        "colorbar": {
                          "outlinewidth": 0,
                          "ticks": ""
                        },
                        "type": "choropleth"
                      }
                    ],
                    "contour": [
                      {
                        "colorbar": {
                          "outlinewidth": 0,
                          "ticks": ""
                        },
                        "colorscale": [
                          [
                            0,
                            "#0d0887"
                          ],
                          [
                            0.1111111111111111,
                            "#46039f"
                          ],
                          [
                            0.2222222222222222,
                            "#7201a8"
                          ],
                          [
                            0.3333333333333333,
                            "#9c179e"
                          ],
                          [
                            0.4444444444444444,
                            "#bd3786"
                          ],
                          [
                            0.5555555555555556,
                            "#d8576b"
                          ],
                          [
                            0.6666666666666666,
                            "#ed7953"
                          ],
                          [
                            0.7777777777777778,
                            "#fb9f3a"
                          ],
                          [
                            0.8888888888888888,
                            "#fdca26"
                          ],
                          [
                            1,
                            "#f0f921"
                          ]
                        ],
                        "type": "contour"
                      }
                    ],
                    "contourcarpet": [
                      {
                        "colorbar": {
                          "outlinewidth": 0,
                          "ticks": ""
                        },
                        "type": "contourcarpet"
                      }
                    ],
                    "heatmap": [
                      {
                        "colorbar": {
                          "outlinewidth": 0,
                          "ticks": ""
                        },
                        "colorscale": [
                          [
                            0,
                            "#0d0887"
                          ],
                          [
                            0.1111111111111111,
                            "#46039f"
                          ],
                          [
                            0.2222222222222222,
                            "#7201a8"
                          ],
                          [
                            0.3333333333333333,
                            "#9c179e"
                          ],
                          [
                            0.4444444444444444,
                            "#bd3786"
                          ],
                          [
                            0.5555555555555556,
                            "#d8576b"
                          ],
                          [
                            0.6666666666666666,
                            "#ed7953"
                          ],
                          [
                            0.7777777777777778,
                            "#fb9f3a"
                          ],
                          [
                            0.8888888888888888,
                            "#fdca26"
                          ],
                          [
                            1,
                            "#f0f921"
                          ]
                        ],
                        "type": "heatmap"
                      }
                    ],
                    "heatmapgl": [
                      {
                        "colorbar": {
                          "outlinewidth": 0,
                          "ticks": ""
                        },
                        "colorscale": [
                          [
                            0,
                            "#0d0887"
                          ],
                          [
                            0.1111111111111111,
                            "#46039f"
                          ],
                          [
                            0.2222222222222222,
                            "#7201a8"
                          ],
                          [
                            0.3333333333333333,
                            "#9c179e"
                          ],
                          [
                            0.4444444444444444,
                            "#bd3786"
                          ],
                          [
                            0.5555555555555556,
                            "#d8576b"
                          ],
                          [
                            0.6666666666666666,
                            "#ed7953"
                          ],
                          [
                            0.7777777777777778,
                            "#fb9f3a"
                          ],
                          [
                            0.8888888888888888,
                            "#fdca26"
                          ],
                          [
                            1,
                            "#f0f921"
                          ]
                        ],
                        "type": "heatmapgl"
                      }
                    ],
                    "histogram": [
                      {
                        "marker": {
                          "pattern": {
                            "fillmode": "overlay",
                            "size": 10,
                            "solidity": 0.2
                          }
                        },
                        "type": "histogram"
                      }
                    ],
                    "histogram2d": [
                      {
                        "colorbar": {
                          "outlinewidth": 0,
                          "ticks": ""
                        },
                        "colorscale": [
                          [
                            0,
                            "#0d0887"
                          ],
                          [
                            0.1111111111111111,
                            "#46039f"
                          ],
                          [
                            0.2222222222222222,
                            "#7201a8"
                          ],
                          [
                            0.3333333333333333,
                            "#9c179e"
                          ],
                          [
                            0.4444444444444444,
                            "#bd3786"
                          ],
                          [
                            0.5555555555555556,
                            "#d8576b"
                          ],
                          [
                            0.6666666666666666,
                            "#ed7953"
                          ],
                          [
                            0.7777777777777778,
                            "#fb9f3a"
                          ],
                          [
                            0.8888888888888888,
                            "#fdca26"
                          ],
                          [
                            1,
                            "#f0f921"
                          ]
                        ],
                        "type": "histogram2d"
                      }
                    ],
                    "histogram2dcontour": [
                      {
                        "colorbar": {
                          "outlinewidth": 0,
                          "ticks": ""
                        },
                        "colorscale": [
                          [
                            0,
                            "#0d0887"
                          ],
                          [
                            0.1111111111111111,
                            "#46039f"
                          ],
                          [
                            0.2222222222222222,
                            "#7201a8"
                          ],
                          [
                            0.3333333333333333,
                            "#9c179e"
                          ],
                          [
                            0.4444444444444444,
                            "#bd3786"
                          ],
                          [
                            0.5555555555555556,
                            "#d8576b"
                          ],
                          [
                            0.6666666666666666,
                            "#ed7953"
                          ],
                          [
                            0.7777777777777778,
                            "#fb9f3a"
                          ],
                          [
                            0.8888888888888888,
                            "#fdca26"
                          ],
                          [
                            1,
                            "#f0f921"
                          ]
                        ],
                        "type": "histogram2dcontour"
                      }
                    ],
                    "mesh3d": [
                      {
                        "colorbar": {
                          "outlinewidth": 0,
                          "ticks": ""
                        },
                        "type": "mesh3d"
                      }
                    ],
                    "parcoords": [
                      {
                        "line": {
                          "colorbar": {
                            "outlinewidth": 0,
                            "ticks": ""
                          }
                        },
                        "type": "parcoords"
                      }
                    ],
                    "pie": [
                      {
                        "automargin": true,
                        "type": "pie"
                      }
                    ],
                    "scatter": [
                      {
                        "fillpattern": {
                          "fillmode": "overlay",
                          "size": 10,
                          "solidity": 0.2
                        },
                        "type": "scatter"
                      }
                    ],
                    "scatter3d": [
                      {
                        "line": {
                          "colorbar": {
                            "outlinewidth": 0,
                            "ticks": ""
                          }
                        },
                        "marker": {
                          "colorbar": {
                            "outlinewidth": 0,
                            "ticks": ""
                          }
                        },
                        "type": "scatter3d"
                      }
                    ],
                    "scattercarpet": [
                      {
                        "marker": {
                          "colorbar": {
                            "outlinewidth": 0,
                            "ticks": ""
                          }
                        },
                        "type": "scattercarpet"
                      }
                    ],
                    "scattergeo": [
                      {
                        "marker": {
                          "colorbar": {
                            "outlinewidth": 0,
                            "ticks": ""
                          }
                        },
                        "type": "scattergeo"
                      }
                    ],
                    "scattergl": [
                      {
                        "marker": {
                          "colorbar": {
                            "outlinewidth": 0,
                            "ticks": ""
                          }
                        },
                        "type": "scattergl"
                      }
                    ],
                    "scattermapbox": [
                      {
                        "marker": {
                          "colorbar": {
                            "outlinewidth": 0,
                            "ticks": ""
                          }
                        },
                        "type": "scattermapbox"
                      }
                    ],
                    "scatterpolar": [
                      {
                        "marker": {
                          "colorbar": {
                            "outlinewidth": 0,
                            "ticks": ""
                          }
                        },
                        "type": "scatterpolar"
                      }
                    ],
                    "scatterpolargl": [
                      {
                        "marker": {
                          "colorbar": {
                            "outlinewidth": 0,
                            "ticks": ""
                          }
                        },
                        "type": "scatterpolargl"
                      }
                    ],
                    "scatterternary": [
                      {
                        "marker": {
                          "colorbar": {
                            "outlinewidth": 0,
                            "ticks": ""
                          }
                        },
                        "type": "scatterternary"
                      }
                    ],
                    "surface": [
                      {
                        "colorbar": {
                          "outlinewidth": 0,
                          "ticks": ""
                        },
                        "colorscale": [
                          [
                            0,
                            "#0d0887"
                          ],
                          [
                            0.1111111111111111,
                            "#46039f"
                          ],
                          [
                            0.2222222222222222,
                            "#7201a8"
                          ],
                          [
                            0.3333333333333333,
                            "#9c179e"
                          ],
                          [
                            0.4444444444444444,
                            "#bd3786"
                          ],
                          [
                            0.5555555555555556,
                            "#d8576b"
                          ],
                          [
                            0.6666666666666666,
                            "#ed7953"
                          ],
                          [
                            0.7777777777777778,
                            "#fb9f3a"
                          ],
                          [
                            0.8888888888888888,
                            "#fdca26"
                          ],
                          [
                            1,
                            "#f0f921"
                          ]
                        ],
                        "type": "surface"
                      }
                    ],
                    "table": [
                      {
                        "cells": {
                          "fill": {
                            "color": "#EBF0F8"
                          },
                          "line": {
                            "color": "white"
                          }
                        },
                        "header": {
                          "fill": {
                            "color": "#C8D4E3"
                          },
                          "line": {
                            "color": "white"
                          }
                        },
                        "type": "table"
                      }
                    ]
                  },
                  "layout": {
                    "annotationdefaults": {
                      "arrowcolor": "#2a3f5f",
                      "arrowhead": 0,
                      "arrowwidth": 1
                    },
                    "autotypenumbers": "strict",
                    "coloraxis": {
                      "colorbar": {
                        "outlinewidth": 0,
                        "ticks": ""
                      }
                    },
                    "colorscale": {
                      "diverging": [
                        [
                          0,
                          "#8e0152"
                        ],
                        [
                          0.1,
                          "#c51b7d"
                        ],
                        [
                          0.2,
                          "#de77ae"
                        ],
                        [
                          0.3,
                          "#f1b6da"
                        ],
                        [
                          0.4,
                          "#fde0ef"
                        ],
                        [
                          0.5,
                          "#f7f7f7"
                        ],
                        [
                          0.6,
                          "#e6f5d0"
                        ],
                        [
                          0.7,
                          "#b8e186"
                        ],
                        [
                          0.8,
                          "#7fbc41"
                        ],
                        [
                          0.9,
                          "#4d9221"
                        ],
                        [
                          1,
                          "#276419"
                        ]
                      ],
                      "sequential": [
                        [
                          0,
                          "#0d0887"
                        ],
                        [
                          0.1111111111111111,
                          "#46039f"
                        ],
                        [
                          0.2222222222222222,
                          "#7201a8"
                        ],
                        [
                          0.3333333333333333,
                          "#9c179e"
                        ],
                        [
                          0.4444444444444444,
                          "#bd3786"
                        ],
                        [
                          0.5555555555555556,
                          "#d8576b"
                        ],
                        [
                          0.6666666666666666,
                          "#ed7953"
                        ],
                        [
                          0.7777777777777778,
                          "#fb9f3a"
                        ],
                        [
                          0.8888888888888888,
                          "#fdca26"
                        ],
                        [
                          1,
                          "#f0f921"
                        ]
                      ],
                      "sequentialminus": [
                        [
                          0,
                          "#0d0887"
                        ],
                        [
                          0.1111111111111111,
                          "#46039f"
                        ],
                        [
                          0.2222222222222222,
                          "#7201a8"
                        ],
                        [
                          0.3333333333333333,
                          "#9c179e"
                        ],
                        [
                          0.4444444444444444,
                          "#bd3786"
                        ],
                        [
                          0.5555555555555556,
                          "#d8576b"
                        ],
                        [
                          0.6666666666666666,
                          "#ed7953"
                        ],
                        [
                          0.7777777777777778,
                          "#fb9f3a"
                        ],
                        [
                          0.8888888888888888,
                          "#fdca26"
                        ],
                        [
                          1,
                          "#f0f921"
                        ]
                      ]
                    },
                    "colorway": [
                      "#636efa",
                      "#EF553B",
                      "#00cc96",
                      "#ab63fa",
                      "#FFA15A",
                      "#19d3f3",
                      "#FF6692",
                      "#B6E880",
                      "#FF97FF",
                      "#FECB52"
                    ],
                    "font": {
                      "color": "#2a3f5f"
                    },
                    "geo": {
                      "bgcolor": "white",
                      "lakecolor": "white",
                      "landcolor": "#E5ECF6",
                      "showlakes": true,
                      "showland": true,
                      "subunitcolor": "white"
                    },
                    "hoverlabel": {
                      "align": "left"
                    },
                    "hovermode": "closest",
                    "mapbox": {
                      "style": "light"
                    },
                    "paper_bgcolor": "white",
                    "plot_bgcolor": "#E5ECF6",
                    "polar": {
                      "angularaxis": {
                        "gridcolor": "white",
                        "linecolor": "white",
                        "ticks": ""
                      },
                      "bgcolor": "#E5ECF6",
                      "radialaxis": {
                        "gridcolor": "white",
                        "linecolor": "white",
                        "ticks": ""
                      }
                    },
                    "scene": {
                      "xaxis": {
                        "backgroundcolor": "#E5ECF6",
                        "gridcolor": "white",
                        "gridwidth": 2,
                        "linecolor": "white",
                        "showbackground": true,
                        "ticks": "",
                        "zerolinecolor": "white"
                      },
                      "yaxis": {
                        "backgroundcolor": "#E5ECF6",
                        "gridcolor": "white",
                        "gridwidth": 2,
                        "linecolor": "white",
                        "showbackground": true,
                        "ticks": "",
                        "zerolinecolor": "white"
                      },
                      "zaxis": {
                        "backgroundcolor": "#E5ECF6",
                        "gridcolor": "white",
                        "gridwidth": 2,
                        "linecolor": "white",
                        "showbackground": true,
                        "ticks": "",
                        "zerolinecolor": "white"
                      }
                    },
                    "shapedefaults": {
                      "line": {
                        "color": "#2a3f5f"
                      }
                    },
                    "ternary": {
                      "aaxis": {
                        "gridcolor": "white",
                        "linecolor": "white",
                        "ticks": ""
                      },
                      "baxis": {
                        "gridcolor": "white",
                        "linecolor": "white",
                        "ticks": ""
                      },
                      "bgcolor": "#E5ECF6",
                      "caxis": {
                        "gridcolor": "white",
                        "linecolor": "white",
                        "ticks": ""
                      }
                    },
                    "title": {
                      "x": 0.05
                    },
                    "xaxis": {
                      "automargin": true,
                      "gridcolor": "white",
                      "linecolor": "white",
                      "ticks": "",
                      "title": {
                        "standoff": 15
                      },
                      "zerolinecolor": "white",
                      "zerolinewidth": 2
                    },
                    "yaxis": {
                      "automargin": true,
                      "gridcolor": "white",
                      "linecolor": "white",
                      "ticks": "",
                      "title": {
                        "standoff": 15
                      },
                      "zerolinecolor": "white",
                      "zerolinewidth": 2
                    }
                  }
                }
              }
            }
          },
          "metadata": {},
          "output_type": "display_data"
        }
      ],
      "source": [
        "cont, execution_time,total_volume = MLCP_function(alpha=4.0,beta=1.0,gamma=0.2,delta=0.5,p=0.05,instance=1)\n",
        "\n",
        "L = cont.l;W = cont.w; H = cont.h\n",
        "\n",
        "box_dims = []\n",
        "for aabb in cont.aabbs:\n",
        "  box_dims.append([aabb.xmin,aabb.ymin,aabb.zmin,aabb.xmax,aabb.ymax,aabb.zmax])\n",
        "\n",
        "bxplot.plot_container([L,W,H], box_dims)\n"
      ]
    },
    {
      "cell_type": "code",
      "execution_count": 6,
      "metadata": {},
      "outputs": [],
      "source": [
        "ALPHA = [0.0,1.0,2.0,3.0]\n",
        "BETA = [0.0,1.0,2.0,3.0]\n",
        "GAMMA = [0.0,0.1,0.2,0.3]\n",
        "DELTA = [0.0,0.2,0.4,0.6]\n",
        "P = [0.00,0.01,0.02,0.03]\n",
        "INSTANCE = [1,2,3]"
      ]
    },
    {
      "cell_type": "code",
      "execution_count": 7,
      "metadata": {},
      "outputs": [],
      "source": [
        "# data = []\n",
        "# for i in INSTANCE:\n",
        "#     for a in ALPHA:\n",
        "#         for b in BETA:\n",
        "#             for g in GAMMA:\n",
        "#                 for d in DELTA:\n",
        "#                     for p in P:\n",
        "#                         cont, execution_time,total_volume = MLCP_function(a,b,g,d,p,i)\n",
        "#                         data.append([i,execution_time,total_volume,center_of_gravity(cont),a,b,g,d,p])\n"
      ]
    },
    {
      "cell_type": "code",
      "execution_count": 8,
      "metadata": {},
      "outputs": [
        {
          "ename": "NameError",
          "evalue": "name 'data' is not defined",
          "output_type": "error",
          "traceback": [
            "\u001b[1;31m---------------------------------------------------------------------------\u001b[0m",
            "\u001b[1;31mNameError\u001b[0m                                 Traceback (most recent call last)",
            "Cell \u001b[1;32mIn[8], line 1\u001b[0m\n\u001b[1;32m----> 1\u001b[0m df \u001b[39m=\u001b[39m pd\u001b[39m.\u001b[39mDataFrame(data,columns\u001b[39m=\u001b[39m[\u001b[39m'\u001b[39m\u001b[39mInstancia\u001b[39m\u001b[39m'\u001b[39m,\u001b[39m'\u001b[39m\u001b[39mTiempo ejecucion\u001b[39m\u001b[39m'\u001b[39m,\u001b[39m'\u001b[39m\u001b[39mVolumen Ocupado\u001b[39m\u001b[39m'\u001b[39m,\u001b[39m'\u001b[39m\u001b[39mDiferencia centro\u001b[39m\u001b[39m'\u001b[39m,\u001b[39m'\u001b[39m\u001b[39malpha\u001b[39m\u001b[39m'\u001b[39m,\u001b[39m'\u001b[39m\u001b[39mbeta\u001b[39m\u001b[39m'\u001b[39m,\u001b[39m'\u001b[39m\u001b[39mgamma\u001b[39m\u001b[39m'\u001b[39m,\u001b[39m'\u001b[39m\u001b[39mdelta\u001b[39m\u001b[39m'\u001b[39m,\u001b[39m'\u001b[39m\u001b[39mp\u001b[39m\u001b[39m'\u001b[39m])\n",
            "\u001b[1;31mNameError\u001b[0m: name 'data' is not defined"
          ]
        }
      ],
      "source": [
        "df = pd.DataFrame(data,columns=['Instancia','Tiempo ejecucion','Volumen Ocupado','Diferencia centro','alpha','beta','gamma','delta','p'])"
      ]
    },
    {
      "cell_type": "code",
      "execution_count": null,
      "metadata": {},
      "outputs": [
        {
          "data": {
            "text/html": [
              "<div>\n",
              "<style scoped>\n",
              "    .dataframe tbody tr th:only-of-type {\n",
              "        vertical-align: middle;\n",
              "    }\n",
              "\n",
              "    .dataframe tbody tr th {\n",
              "        vertical-align: top;\n",
              "    }\n",
              "\n",
              "    .dataframe thead th {\n",
              "        text-align: right;\n",
              "    }\n",
              "</style>\n",
              "<table border=\"1\" class=\"dataframe\">\n",
              "  <thead>\n",
              "    <tr style=\"text-align: right;\">\n",
              "      <th></th>\n",
              "      <th>Instancia</th>\n",
              "      <th>Tiempo ejecucion</th>\n",
              "      <th>Volumen Ocupado</th>\n",
              "      <th>Diferencia centro</th>\n",
              "      <th>alpha</th>\n",
              "      <th>beta</th>\n",
              "      <th>gamma</th>\n",
              "      <th>delta</th>\n",
              "      <th>p</th>\n",
              "    </tr>\n",
              "  </thead>\n",
              "  <tbody>\n",
              "    <tr>\n",
              "      <th>0</th>\n",
              "      <td>1</td>\n",
              "      <td>0.312116</td>\n",
              "      <td>21574535</td>\n",
              "      <td>15.404030</td>\n",
              "      <td>0.0</td>\n",
              "      <td>0.0</td>\n",
              "      <td>0.0</td>\n",
              "      <td>0.0</td>\n",
              "      <td>0.00</td>\n",
              "    </tr>\n",
              "    <tr>\n",
              "      <th>1</th>\n",
              "      <td>1</td>\n",
              "      <td>0.309088</td>\n",
              "      <td>21574535</td>\n",
              "      <td>15.404030</td>\n",
              "      <td>0.0</td>\n",
              "      <td>0.0</td>\n",
              "      <td>0.0</td>\n",
              "      <td>0.0</td>\n",
              "      <td>0.01</td>\n",
              "    </tr>\n",
              "    <tr>\n",
              "      <th>2</th>\n",
              "      <td>1</td>\n",
              "      <td>0.304783</td>\n",
              "      <td>21574535</td>\n",
              "      <td>15.404030</td>\n",
              "      <td>0.0</td>\n",
              "      <td>0.0</td>\n",
              "      <td>0.0</td>\n",
              "      <td>0.0</td>\n",
              "      <td>0.02</td>\n",
              "    </tr>\n",
              "    <tr>\n",
              "      <th>3</th>\n",
              "      <td>1</td>\n",
              "      <td>0.320799</td>\n",
              "      <td>21574535</td>\n",
              "      <td>15.404030</td>\n",
              "      <td>0.0</td>\n",
              "      <td>0.0</td>\n",
              "      <td>0.0</td>\n",
              "      <td>0.0</td>\n",
              "      <td>0.03</td>\n",
              "    </tr>\n",
              "    <tr>\n",
              "      <th>4</th>\n",
              "      <td>1</td>\n",
              "      <td>0.341303</td>\n",
              "      <td>23911333</td>\n",
              "      <td>9.415666</td>\n",
              "      <td>0.0</td>\n",
              "      <td>0.0</td>\n",
              "      <td>0.0</td>\n",
              "      <td>0.2</td>\n",
              "      <td>0.00</td>\n",
              "    </tr>\n",
              "    <tr>\n",
              "      <th>...</th>\n",
              "      <td>...</td>\n",
              "      <td>...</td>\n",
              "      <td>...</td>\n",
              "      <td>...</td>\n",
              "      <td>...</td>\n",
              "      <td>...</td>\n",
              "      <td>...</td>\n",
              "      <td>...</td>\n",
              "      <td>...</td>\n",
              "    </tr>\n",
              "    <tr>\n",
              "      <th>3067</th>\n",
              "      <td>3</td>\n",
              "      <td>0.276325</td>\n",
              "      <td>14974841</td>\n",
              "      <td>22.736535</td>\n",
              "      <td>3.0</td>\n",
              "      <td>3.0</td>\n",
              "      <td>0.3</td>\n",
              "      <td>0.4</td>\n",
              "      <td>0.03</td>\n",
              "    </tr>\n",
              "    <tr>\n",
              "      <th>3068</th>\n",
              "      <td>3</td>\n",
              "      <td>0.277891</td>\n",
              "      <td>15525209</td>\n",
              "      <td>10.332596</td>\n",
              "      <td>3.0</td>\n",
              "      <td>3.0</td>\n",
              "      <td>0.3</td>\n",
              "      <td>0.6</td>\n",
              "      <td>0.00</td>\n",
              "    </tr>\n",
              "    <tr>\n",
              "      <th>3069</th>\n",
              "      <td>3</td>\n",
              "      <td>0.301094</td>\n",
              "      <td>15525209</td>\n",
              "      <td>10.332596</td>\n",
              "      <td>3.0</td>\n",
              "      <td>3.0</td>\n",
              "      <td>0.3</td>\n",
              "      <td>0.6</td>\n",
              "      <td>0.01</td>\n",
              "    </tr>\n",
              "    <tr>\n",
              "      <th>3070</th>\n",
              "      <td>3</td>\n",
              "      <td>0.278081</td>\n",
              "      <td>15525209</td>\n",
              "      <td>10.332596</td>\n",
              "      <td>3.0</td>\n",
              "      <td>3.0</td>\n",
              "      <td>0.3</td>\n",
              "      <td>0.6</td>\n",
              "      <td>0.02</td>\n",
              "    </tr>\n",
              "    <tr>\n",
              "      <th>3071</th>\n",
              "      <td>3</td>\n",
              "      <td>0.276711</td>\n",
              "      <td>15525209</td>\n",
              "      <td>9.650310</td>\n",
              "      <td>3.0</td>\n",
              "      <td>3.0</td>\n",
              "      <td>0.3</td>\n",
              "      <td>0.6</td>\n",
              "      <td>0.03</td>\n",
              "    </tr>\n",
              "  </tbody>\n",
              "</table>\n",
              "<p>3072 rows × 9 columns</p>\n",
              "</div>"
            ],
            "text/plain": [
              "      Instancia  Tiempo ejecucion  Volumen Ocupado  Diferencia centro  alpha  \\\n",
              "0             1          0.312116         21574535          15.404030    0.0   \n",
              "1             1          0.309088         21574535          15.404030    0.0   \n",
              "2             1          0.304783         21574535          15.404030    0.0   \n",
              "3             1          0.320799         21574535          15.404030    0.0   \n",
              "4             1          0.341303         23911333           9.415666    0.0   \n",
              "...         ...               ...              ...                ...    ...   \n",
              "3067          3          0.276325         14974841          22.736535    3.0   \n",
              "3068          3          0.277891         15525209          10.332596    3.0   \n",
              "3069          3          0.301094         15525209          10.332596    3.0   \n",
              "3070          3          0.278081         15525209          10.332596    3.0   \n",
              "3071          3          0.276711         15525209           9.650310    3.0   \n",
              "\n",
              "      beta  gamma  delta     p  \n",
              "0      0.0    0.0    0.0  0.00  \n",
              "1      0.0    0.0    0.0  0.01  \n",
              "2      0.0    0.0    0.0  0.02  \n",
              "3      0.0    0.0    0.0  0.03  \n",
              "4      0.0    0.0    0.2  0.00  \n",
              "...    ...    ...    ...   ...  \n",
              "3067   3.0    0.3    0.4  0.03  \n",
              "3068   3.0    0.3    0.6  0.00  \n",
              "3069   3.0    0.3    0.6  0.01  \n",
              "3070   3.0    0.3    0.6  0.02  \n",
              "3071   3.0    0.3    0.6  0.03  \n",
              "\n",
              "[3072 rows x 9 columns]"
            ]
          },
          "execution_count": 19,
          "metadata": {},
          "output_type": "execute_result"
        }
      ],
      "source": [
        "df"
      ]
    },
    {
      "cell_type": "code",
      "execution_count": null,
      "metadata": {},
      "outputs": [],
      "source": [
        "df.to_csv('resultados_parametros2.csv')"
      ]
    },
    {
      "cell_type": "code",
      "execution_count": null,
      "metadata": {},
      "outputs": [
        {
          "data": {
            "text/html": [
              "<div>\n",
              "<style scoped>\n",
              "    .dataframe tbody tr th:only-of-type {\n",
              "        vertical-align: middle;\n",
              "    }\n",
              "\n",
              "    .dataframe tbody tr th {\n",
              "        vertical-align: top;\n",
              "    }\n",
              "\n",
              "    .dataframe thead th {\n",
              "        text-align: right;\n",
              "    }\n",
              "</style>\n",
              "<table border=\"1\" class=\"dataframe\">\n",
              "  <thead>\n",
              "    <tr style=\"text-align: right;\">\n",
              "      <th></th>\n",
              "      <th>Instancia</th>\n",
              "      <th>Tiempo ejecucion</th>\n",
              "      <th>Volumen Ocupado</th>\n",
              "      <th>Diferencia centro</th>\n",
              "      <th>alpha</th>\n",
              "      <th>beta</th>\n",
              "      <th>gamma</th>\n",
              "      <th>delta</th>\n",
              "      <th>p</th>\n",
              "    </tr>\n",
              "  </thead>\n",
              "  <tbody>\n",
              "    <tr>\n",
              "      <th>0</th>\n",
              "      <td>1</td>\n",
              "      <td>0.312116</td>\n",
              "      <td>21574535</td>\n",
              "      <td>15.404030</td>\n",
              "      <td>0.0</td>\n",
              "      <td>0.0</td>\n",
              "      <td>0.0</td>\n",
              "      <td>0.0</td>\n",
              "      <td>0.00</td>\n",
              "    </tr>\n",
              "    <tr>\n",
              "      <th>1</th>\n",
              "      <td>1</td>\n",
              "      <td>0.309088</td>\n",
              "      <td>21574535</td>\n",
              "      <td>15.404030</td>\n",
              "      <td>0.0</td>\n",
              "      <td>0.0</td>\n",
              "      <td>0.0</td>\n",
              "      <td>0.0</td>\n",
              "      <td>0.01</td>\n",
              "    </tr>\n",
              "    <tr>\n",
              "      <th>2</th>\n",
              "      <td>1</td>\n",
              "      <td>0.304783</td>\n",
              "      <td>21574535</td>\n",
              "      <td>15.404030</td>\n",
              "      <td>0.0</td>\n",
              "      <td>0.0</td>\n",
              "      <td>0.0</td>\n",
              "      <td>0.0</td>\n",
              "      <td>0.02</td>\n",
              "    </tr>\n",
              "    <tr>\n",
              "      <th>3</th>\n",
              "      <td>1</td>\n",
              "      <td>0.320799</td>\n",
              "      <td>21574535</td>\n",
              "      <td>15.404030</td>\n",
              "      <td>0.0</td>\n",
              "      <td>0.0</td>\n",
              "      <td>0.0</td>\n",
              "      <td>0.0</td>\n",
              "      <td>0.03</td>\n",
              "    </tr>\n",
              "    <tr>\n",
              "      <th>4</th>\n",
              "      <td>1</td>\n",
              "      <td>0.341303</td>\n",
              "      <td>23911333</td>\n",
              "      <td>9.415666</td>\n",
              "      <td>0.0</td>\n",
              "      <td>0.0</td>\n",
              "      <td>0.0</td>\n",
              "      <td>0.2</td>\n",
              "      <td>0.00</td>\n",
              "    </tr>\n",
              "    <tr>\n",
              "      <th>...</th>\n",
              "      <td>...</td>\n",
              "      <td>...</td>\n",
              "      <td>...</td>\n",
              "      <td>...</td>\n",
              "      <td>...</td>\n",
              "      <td>...</td>\n",
              "      <td>...</td>\n",
              "      <td>...</td>\n",
              "      <td>...</td>\n",
              "    </tr>\n",
              "    <tr>\n",
              "      <th>1019</th>\n",
              "      <td>1</td>\n",
              "      <td>0.325201</td>\n",
              "      <td>15104111</td>\n",
              "      <td>25.876565</td>\n",
              "      <td>3.0</td>\n",
              "      <td>3.0</td>\n",
              "      <td>0.3</td>\n",
              "      <td>0.4</td>\n",
              "      <td>0.03</td>\n",
              "    </tr>\n",
              "    <tr>\n",
              "      <th>1020</th>\n",
              "      <td>1</td>\n",
              "      <td>0.354358</td>\n",
              "      <td>14415467</td>\n",
              "      <td>23.559681</td>\n",
              "      <td>3.0</td>\n",
              "      <td>3.0</td>\n",
              "      <td>0.3</td>\n",
              "      <td>0.6</td>\n",
              "      <td>0.00</td>\n",
              "    </tr>\n",
              "    <tr>\n",
              "      <th>1021</th>\n",
              "      <td>1</td>\n",
              "      <td>0.347532</td>\n",
              "      <td>14415467</td>\n",
              "      <td>23.559681</td>\n",
              "      <td>3.0</td>\n",
              "      <td>3.0</td>\n",
              "      <td>0.3</td>\n",
              "      <td>0.6</td>\n",
              "      <td>0.01</td>\n",
              "    </tr>\n",
              "    <tr>\n",
              "      <th>1022</th>\n",
              "      <td>1</td>\n",
              "      <td>0.351308</td>\n",
              "      <td>16419435</td>\n",
              "      <td>17.940611</td>\n",
              "      <td>3.0</td>\n",
              "      <td>3.0</td>\n",
              "      <td>0.3</td>\n",
              "      <td>0.6</td>\n",
              "      <td>0.02</td>\n",
              "    </tr>\n",
              "    <tr>\n",
              "      <th>1023</th>\n",
              "      <td>1</td>\n",
              "      <td>0.340413</td>\n",
              "      <td>13931683</td>\n",
              "      <td>31.626439</td>\n",
              "      <td>3.0</td>\n",
              "      <td>3.0</td>\n",
              "      <td>0.3</td>\n",
              "      <td>0.6</td>\n",
              "      <td>0.03</td>\n",
              "    </tr>\n",
              "  </tbody>\n",
              "</table>\n",
              "<p>1024 rows × 9 columns</p>\n",
              "</div>"
            ],
            "text/plain": [
              "      Instancia  Tiempo ejecucion  Volumen Ocupado  Diferencia centro  alpha  \\\n",
              "0             1          0.312116         21574535          15.404030    0.0   \n",
              "1             1          0.309088         21574535          15.404030    0.0   \n",
              "2             1          0.304783         21574535          15.404030    0.0   \n",
              "3             1          0.320799         21574535          15.404030    0.0   \n",
              "4             1          0.341303         23911333           9.415666    0.0   \n",
              "...         ...               ...              ...                ...    ...   \n",
              "1019          1          0.325201         15104111          25.876565    3.0   \n",
              "1020          1          0.354358         14415467          23.559681    3.0   \n",
              "1021          1          0.347532         14415467          23.559681    3.0   \n",
              "1022          1          0.351308         16419435          17.940611    3.0   \n",
              "1023          1          0.340413         13931683          31.626439    3.0   \n",
              "\n",
              "      beta  gamma  delta     p  \n",
              "0      0.0    0.0    0.0  0.00  \n",
              "1      0.0    0.0    0.0  0.01  \n",
              "2      0.0    0.0    0.0  0.02  \n",
              "3      0.0    0.0    0.0  0.03  \n",
              "4      0.0    0.0    0.2  0.00  \n",
              "...    ...    ...    ...   ...  \n",
              "1019   3.0    0.3    0.4  0.03  \n",
              "1020   3.0    0.3    0.6  0.00  \n",
              "1021   3.0    0.3    0.6  0.01  \n",
              "1022   3.0    0.3    0.6  0.02  \n",
              "1023   3.0    0.3    0.6  0.03  \n",
              "\n",
              "[1024 rows x 9 columns]"
            ]
          },
          "execution_count": 52,
          "metadata": {},
          "output_type": "execute_result"
        }
      ],
      "source": [
        "df.loc[df['Instancia']==1]"
      ]
    },
    {
      "cell_type": "code",
      "execution_count": null,
      "metadata": {},
      "outputs": [
        {
          "data": {
            "text/html": [
              "<div>\n",
              "<style scoped>\n",
              "    .dataframe tbody tr th:only-of-type {\n",
              "        vertical-align: middle;\n",
              "    }\n",
              "\n",
              "    .dataframe tbody tr th {\n",
              "        vertical-align: top;\n",
              "    }\n",
              "\n",
              "    .dataframe thead th {\n",
              "        text-align: right;\n",
              "    }\n",
              "</style>\n",
              "<table border=\"1\" class=\"dataframe\">\n",
              "  <thead>\n",
              "    <tr style=\"text-align: right;\">\n",
              "      <th></th>\n",
              "      <th>Instancia</th>\n",
              "      <th>Tiempo ejecucion</th>\n",
              "      <th>Volumen Ocupado</th>\n",
              "      <th>Diferencia centro</th>\n",
              "      <th>alpha</th>\n",
              "      <th>beta</th>\n",
              "      <th>gamma</th>\n",
              "      <th>delta</th>\n",
              "      <th>p</th>\n",
              "    </tr>\n",
              "  </thead>\n",
              "  <tbody>\n",
              "    <tr>\n",
              "      <th>465</th>\n",
              "      <td>1</td>\n",
              "      <td>0.317558</td>\n",
              "      <td>12123861</td>\n",
              "      <td>21.046960</td>\n",
              "      <td>1.0</td>\n",
              "      <td>3.0</td>\n",
              "      <td>0.1</td>\n",
              "      <td>0.0</td>\n",
              "      <td>0.01</td>\n",
              "    </tr>\n",
              "    <tr>\n",
              "      <th>464</th>\n",
              "      <td>1</td>\n",
              "      <td>0.318378</td>\n",
              "      <td>12123861</td>\n",
              "      <td>21.046960</td>\n",
              "      <td>1.0</td>\n",
              "      <td>3.0</td>\n",
              "      <td>0.1</td>\n",
              "      <td>0.0</td>\n",
              "      <td>0.00</td>\n",
              "    </tr>\n",
              "    <tr>\n",
              "      <th>642</th>\n",
              "      <td>1</td>\n",
              "      <td>0.301005</td>\n",
              "      <td>12265275</td>\n",
              "      <td>49.710424</td>\n",
              "      <td>2.0</td>\n",
              "      <td>2.0</td>\n",
              "      <td>0.0</td>\n",
              "      <td>0.0</td>\n",
              "      <td>0.02</td>\n",
              "    </tr>\n",
              "    <tr>\n",
              "      <th>725</th>\n",
              "      <td>1</td>\n",
              "      <td>0.302309</td>\n",
              "      <td>12265275</td>\n",
              "      <td>32.802873</td>\n",
              "      <td>2.0</td>\n",
              "      <td>3.0</td>\n",
              "      <td>0.1</td>\n",
              "      <td>0.2</td>\n",
              "      <td>0.01</td>\n",
              "    </tr>\n",
              "    <tr>\n",
              "      <th>726</th>\n",
              "      <td>1</td>\n",
              "      <td>0.310232</td>\n",
              "      <td>12265275</td>\n",
              "      <td>34.706605</td>\n",
              "      <td>2.0</td>\n",
              "      <td>3.0</td>\n",
              "      <td>0.1</td>\n",
              "      <td>0.2</td>\n",
              "      <td>0.02</td>\n",
              "    </tr>\n",
              "    <tr>\n",
              "      <th>...</th>\n",
              "      <td>...</td>\n",
              "      <td>...</td>\n",
              "      <td>...</td>\n",
              "      <td>...</td>\n",
              "      <td>...</td>\n",
              "      <td>...</td>\n",
              "      <td>...</td>\n",
              "      <td>...</td>\n",
              "      <td>...</td>\n",
              "    </tr>\n",
              "    <tr>\n",
              "      <th>45</th>\n",
              "      <td>1</td>\n",
              "      <td>0.351066</td>\n",
              "      <td>24927943</td>\n",
              "      <td>9.767508</td>\n",
              "      <td>0.0</td>\n",
              "      <td>0.0</td>\n",
              "      <td>0.2</td>\n",
              "      <td>0.6</td>\n",
              "      <td>0.01</td>\n",
              "    </tr>\n",
              "    <tr>\n",
              "      <th>30</th>\n",
              "      <td>1</td>\n",
              "      <td>0.366199</td>\n",
              "      <td>24927943</td>\n",
              "      <td>9.767508</td>\n",
              "      <td>0.0</td>\n",
              "      <td>0.0</td>\n",
              "      <td>0.1</td>\n",
              "      <td>0.6</td>\n",
              "      <td>0.02</td>\n",
              "    </tr>\n",
              "    <tr>\n",
              "      <th>31</th>\n",
              "      <td>1</td>\n",
              "      <td>0.363962</td>\n",
              "      <td>24927943</td>\n",
              "      <td>9.767508</td>\n",
              "      <td>0.0</td>\n",
              "      <td>0.0</td>\n",
              "      <td>0.1</td>\n",
              "      <td>0.6</td>\n",
              "      <td>0.03</td>\n",
              "    </tr>\n",
              "    <tr>\n",
              "      <th>60</th>\n",
              "      <td>1</td>\n",
              "      <td>0.352230</td>\n",
              "      <td>24927943</td>\n",
              "      <td>9.767508</td>\n",
              "      <td>0.0</td>\n",
              "      <td>0.0</td>\n",
              "      <td>0.3</td>\n",
              "      <td>0.6</td>\n",
              "      <td>0.00</td>\n",
              "    </tr>\n",
              "    <tr>\n",
              "      <th>40</th>\n",
              "      <td>1</td>\n",
              "      <td>0.347317</td>\n",
              "      <td>24927943</td>\n",
              "      <td>9.767508</td>\n",
              "      <td>0.0</td>\n",
              "      <td>0.0</td>\n",
              "      <td>0.2</td>\n",
              "      <td>0.4</td>\n",
              "      <td>0.00</td>\n",
              "    </tr>\n",
              "  </tbody>\n",
              "</table>\n",
              "<p>1024 rows × 9 columns</p>\n",
              "</div>"
            ],
            "text/plain": [
              "     Instancia  Tiempo ejecucion  Volumen Ocupado  Diferencia centro  alpha  \\\n",
              "465          1          0.317558         12123861          21.046960    1.0   \n",
              "464          1          0.318378         12123861          21.046960    1.0   \n",
              "642          1          0.301005         12265275          49.710424    2.0   \n",
              "725          1          0.302309         12265275          32.802873    2.0   \n",
              "726          1          0.310232         12265275          34.706605    2.0   \n",
              "..         ...               ...              ...                ...    ...   \n",
              "45           1          0.351066         24927943           9.767508    0.0   \n",
              "30           1          0.366199         24927943           9.767508    0.0   \n",
              "31           1          0.363962         24927943           9.767508    0.0   \n",
              "60           1          0.352230         24927943           9.767508    0.0   \n",
              "40           1          0.347317         24927943           9.767508    0.0   \n",
              "\n",
              "     beta  gamma  delta     p  \n",
              "465   3.0    0.1    0.0  0.01  \n",
              "464   3.0    0.1    0.0  0.00  \n",
              "642   2.0    0.0    0.0  0.02  \n",
              "725   3.0    0.1    0.2  0.01  \n",
              "726   3.0    0.1    0.2  0.02  \n",
              "..    ...    ...    ...   ...  \n",
              "45    0.0    0.2    0.6  0.01  \n",
              "30    0.0    0.1    0.6  0.02  \n",
              "31    0.0    0.1    0.6  0.03  \n",
              "60    0.0    0.3    0.6  0.00  \n",
              "40    0.0    0.2    0.4  0.00  \n",
              "\n",
              "[1024 rows x 9 columns]"
            ]
          },
          "execution_count": 18,
          "metadata": {},
          "output_type": "execute_result"
        }
      ],
      "source": [
        "\n",
        "df.loc[df['Instancia']==1].sort_values(by=['Volumen Ocupado'])"
      ]
    },
    {
      "cell_type": "code",
      "execution_count": null,
      "metadata": {},
      "outputs": [
        {
          "data": {
            "image/png": "[encoded data removed]",
            "text/plain": [
              "<Figure size 1800x500 with 3 Axes>"
            ]
          },
          "metadata": {},
          "output_type": "display_data"
        }
      ],
      "source": [
        "import matplotlib.pyplot as plt\n",
        "fig,ax = plt.subplots(1,3,figsize=(18,5),sharex=True,sharey=True)\n",
        "ax[0].scatter(df['Volumen Ocupado'].loc[df['Instancia']==1],df['Diferencia centro'].loc[df['Instancia']==1], c='#FF0000')\n",
        "ax[0].set_xlabel('Volumen Ocupado');ax[0].set_ylabel('Diferencia centro')\n",
        "ax[0].set_title('Instancia 1')\n",
        "ax[1].scatter(df['Volumen Ocupado'].loc[df['Instancia']==2],df['Diferencia centro'].loc[df['Instancia']==2], c='#FFA500')\n",
        "ax[1].set_xlabel('Volumen Ocupado');ax[0].set_ylabel('Diferencia centro')\n",
        "ax[1].set_title('Instancia 2')\n",
        "ax[2].scatter(df['Volumen Ocupado'].loc[df['Instancia']==3],df['Diferencia centro'].loc[df['Instancia']==3], c='#FFFF00')\n",
        "ax[2].set_xlabel('Volumen Ocupado');ax[0].set_ylabel('Diferencia centro')\n",
        "ax[2].set_title('Instancia 3')\n",
        "plt.suptitle('Contraste Volumen Ocupado vs Diferencia de centro')\n",
        "\n",
        "plt.savefig('volumen vs centro.jpg')"
      ]
    },
    {
      "cell_type": "code",
      "execution_count": null,
      "metadata": {},
      "outputs": [
        {
          "name": "stdout",
          "output_type": "stream",
          "text": [
            "16.950031214217052\n",
            "27.446707594565346\n",
            "15.45763361867423\n"
          ]
        }
      ],
      "source": [
        "print(df['Diferencia centro'][df['Instancia']==1].mean())\n",
        "print(df['Diferencia centro'][df['Instancia']==2].mean())\n",
        "print(df['Diferencia centro'][df['Instancia']==3].mean())"
      ]
    },
    {
      "cell_type": "code",
      "execution_count": null,
      "metadata": {},
      "outputs": [
        {
          "name": "stdout",
          "output_type": "stream",
          "text": [
            "17943131.474609375\n",
            "15769466.397460938\n",
            "21052055.7265625\n"
          ]
        }
      ],
      "source": [
        "print(df['Volumen Ocupado'][df['Instancia']==1].mean())\n",
        "print(df['Volumen Ocupado'][df['Instancia']==2].mean())\n",
        "print(df['Volumen Ocupado'][df['Instancia']==3].mean())"
      ]
    },
    {
      "cell_type": "code",
      "execution_count": null,
      "metadata": {},
      "outputs": [
        {
          "name": "stdout",
          "output_type": "stream",
          "text": [
            "0.3360172517132014\n",
            "0.2620725226588547\n",
            "0.3105088521260768\n"
          ]
        }
      ],
      "source": [
        "print(df['Tiempo ejecucion'][df['Instancia']==1].mean())\n",
        "print(df['Tiempo ejecucion'][df['Instancia']==2].mean())\n",
        "print(df['Tiempo ejecucion'][df['Instancia']==3].mean())"
      ]
    },
    {
      "cell_type": "code",
      "execution_count": null,
      "metadata": {},
      "outputs": [],
      "source": [
        "best_instances = df.groupby('Instancia')['Volumen Ocupado'].max().reset_index()\n",
        "merged_df = pd.merge(best_instances,df,on=['Instancia','Volumen Ocupado'])"
      ]
    },
    {
      "cell_type": "code",
      "execution_count": 14,
      "metadata": {},
      "outputs": [
        {
          "data": {
            "application/vnd.plotly.v1+json": {
              "config": {
                "linkText": "Export to plot.ly",
                "plotlyServerURL": "https://plot.ly",
                "showLink": false
              },
              "data": [
                {
                  "color": "rgb(15.849656461747625,40.50920388464932,77.92240220753962)",
                  "i": [
                    7,
                    0,
                    0,
                    0,
                    4,
                    4,
                    2,
                    6,
                    4,
                    0,
                    3,
                    7
                  ],
                  "j": [
                    3,
                    4,
                    1,
                    2,
                    5,
                    6,
                    5,
                    5,
                    0,
                    1,
                    2,
                    2
                  ],
                  "k": [
                    0,
                    7,
                    2,
                    3,
                    6,
                    7,
                    1,
                    2,
                    5,
                    5,
                    7,
                    6
                  ],
                  "opacity": 1,
                  "type": "mesh3d",
                  "x": [
                    0,
                    0,
                    567,
                    567,
                    0,
                    0,
                    567,
                    567
                  ],
                  "y": [
                    0,
                    97,
                    97,
                    0,
                    0,
                    97,
                    97,
                    0
                  ],
                  "z": [
                    0,
                    0,
                    0,
                    0,
                    27,
                    27,
                    27,
                    27
                  ]
                },
                {
                  "color": "rgb(90.31178085611711,133.60444878531285,251.37555087479797)",
                  "i": [
                    7,
                    0,
                    0,
                    0,
                    4,
                    4,
                    2,
                    6,
                    4,
                    0,
                    3,
                    7
                  ],
                  "j": [
                    3,
                    4,
                    1,
                    2,
                    5,
                    6,
                    5,
                    5,
                    0,
                    1,
                    2,
                    2
                  ],
                  "k": [
                    0,
                    7,
                    2,
                    3,
                    6,
                    7,
                    1,
                    2,
                    5,
                    5,
                    7,
                    6
                  ],
                  "opacity": 1,
                  "type": "mesh3d",
                  "x": [
                    0,
                    0,
                    546,
                    546,
                    0,
                    0,
                    546,
                    546
                  ],
                  "y": [
                    131,
                    233,
                    233,
                    131,
                    131,
                    233,
                    233,
                    131
                  ],
                  "z": [
                    0,
                    0,
                    0,
                    0,
                    39,
                    39,
                    39,
                    39
                  ]
                },
                {
                  "color": "rgb(14.986524602252333,65.72920644826232,27.011915468498106)",
                  "i": [
                    7,
                    0,
                    0,
                    0,
                    4,
                    4,
                    2,
                    6,
                    4,
                    0,
                    3,
                    7
                  ],
                  "j": [
                    3,
                    4,
                    1,
                    2,
                    5,
                    6,
                    5,
                    5,
                    0,
                    1,
                    2,
                    2
                  ],
                  "k": [
                    0,
                    7,
                    2,
                    3,
                    6,
                    7,
                    1,
                    2,
                    5,
                    5,
                    7,
                    6
                  ],
                  "opacity": 1,
                  "type": "mesh3d",
                  "x": [
                    0,
                    0,
                    510,
                    510,
                    0,
                    0,
                    510,
                    510
                  ],
                  "y": [
                    0,
                    78,
                    78,
                    0,
                    0,
                    78,
                    78,
                    0
                  ],
                  "z": [
                    27,
                    27,
                    27,
                    27,
                    66,
                    66,
                    66,
                    66
                  ]
                },
                {
                  "color": "rgb(131.94646428346257,133.05518350620062,194.43983745078398)",
                  "i": [
                    7,
                    0,
                    0,
                    0,
                    4,
                    4,
                    2,
                    6,
                    4,
                    0,
                    3,
                    7
                  ],
                  "j": [
                    3,
                    4,
                    1,
                    2,
                    5,
                    6,
                    5,
                    5,
                    0,
                    1,
                    2,
                    2
                  ],
                  "k": [
                    0,
                    7,
                    2,
                    3,
                    6,
                    7,
                    1,
                    2,
                    5,
                    5,
                    7,
                    6
                  ],
                  "opacity": 1,
                  "type": "mesh3d",
                  "x": [
                    0,
                    0,
                    452,
                    452,
                    0,
                    0,
                    452,
                    452
                  ],
                  "y": [
                    141,
                    233,
                    233,
                    141,
                    141,
                    233,
                    233,
                    141
                  ],
                  "z": [
                    39,
                    39,
                    39,
                    39,
                    75,
                    75,
                    75,
                    75
                  ]
                },
                {
                  "color": "rgb(12.877840011212633,170.61905869844304,210.8134820076926)",
                  "i": [
                    7,
                    0,
                    0,
                    0,
                    4,
                    4,
                    2,
                    6,
                    4,
                    0,
                    3,
                    7
                  ],
                  "j": [
                    3,
                    4,
                    1,
                    2,
                    5,
                    6,
                    5,
                    5,
                    0,
                    1,
                    2,
                    2
                  ],
                  "k": [
                    0,
                    7,
                    2,
                    3,
                    6,
                    7,
                    1,
                    2,
                    5,
                    5,
                    7,
                    6
                  ],
                  "opacity": 1,
                  "type": "mesh3d",
                  "x": [
                    0,
                    0,
                    408,
                    408,
                    0,
                    0,
                    408,
                    408
                  ],
                  "y": [
                    0,
                    78,
                    78,
                    0,
                    0,
                    78,
                    78,
                    0
                  ],
                  "z": [
                    66,
                    66,
                    66,
                    66,
                    105,
                    105,
                    105,
                    105
                  ]
                },
                {
                  "color": "rgb(186.28960444352148,232.34916764123966,150.1528926365548)",
                  "i": [
                    7,
                    0,
                    0,
                    0,
                    4,
                    4,
                    2,
                    6,
                    4,
                    0,
                    3,
                    7
                  ],
                  "j": [
                    3,
                    4,
                    1,
                    2,
                    5,
                    6,
                    5,
                    5,
                    0,
                    1,
                    2,
                    2
                  ],
                  "k": [
                    0,
                    7,
                    2,
                    3,
                    6,
                    7,
                    1,
                    2,
                    5,
                    5,
                    7,
                    6
                  ],
                  "opacity": 1,
                  "type": "mesh3d",
                  "x": [
                    0,
                    0,
                    424,
                    424,
                    0,
                    0,
                    424,
                    424
                  ],
                  "y": [
                    172,
                    233,
                    233,
                    172,
                    172,
                    233,
                    233,
                    172
                  ],
                  "z": [
                    75,
                    75,
                    75,
                    75,
                    131,
                    131,
                    131,
                    131
                  ]
                },
                {
                  "color": "rgb(12.297618088557957,172.75877883195795,232.49300289819544)",
                  "i": [
                    7,
                    0,
                    0,
                    0,
                    4,
                    4,
                    2,
                    6,
                    4,
                    0,
                    3,
                    7
                  ],
                  "j": [
                    3,
                    4,
                    1,
                    2,
                    5,
                    6,
                    5,
                    5,
                    0,
                    1,
                    2,
                    2
                  ],
                  "k": [
                    0,
                    7,
                    2,
                    3,
                    6,
                    7,
                    1,
                    2,
                    5,
                    5,
                    7,
                    6
                  ],
                  "opacity": 1,
                  "type": "mesh3d",
                  "x": [
                    456,
                    456,
                    546,
                    546,
                    456,
                    456,
                    546,
                    546
                  ],
                  "y": [
                    132,
                    233,
                    233,
                    132,
                    132,
                    233,
                    233,
                    132
                  ],
                  "z": [
                    39,
                    39,
                    39,
                    39,
                    65,
                    65,
                    65,
                    65
                  ]
                },
                {
                  "color": "rgb(106.65420251166535,171.44272359031447,116.88479190557149)",
                  "i": [
                    7,
                    0,
                    0,
                    0,
                    4,
                    4,
                    2,
                    6,
                    4,
                    0,
                    3,
                    7
                  ],
                  "j": [
                    3,
                    4,
                    1,
                    2,
                    5,
                    6,
                    5,
                    5,
                    0,
                    1,
                    2,
                    2
                  ],
                  "k": [
                    0,
                    7,
                    2,
                    3,
                    6,
                    7,
                    1,
                    2,
                    5,
                    5,
                    7,
                    6
                  ],
                  "opacity": 1,
                  "type": "mesh3d",
                  "x": [
                    0,
                    0,
                    404,
                    404,
                    0,
                    0,
                    404,
                    404
                  ],
                  "y": [
                    97,
                    127,
                    127,
                    97,
                    97,
                    127,
                    127,
                    97
                  ],
                  "z": [
                    0,
                    0,
                    0,
                    0,
                    26,
                    26,
                    26,
                    26
                  ]
                },
                {
                  "color": "rgb(241.72483499599994,207.52880974128203,213.25790172627043)",
                  "i": [
                    7,
                    0,
                    0,
                    0,
                    4,
                    4,
                    2,
                    6,
                    4,
                    0,
                    3,
                    7
                  ],
                  "j": [
                    3,
                    4,
                    1,
                    2,
                    5,
                    6,
                    5,
                    5,
                    0,
                    1,
                    2,
                    2
                  ],
                  "k": [
                    0,
                    7,
                    2,
                    3,
                    6,
                    7,
                    1,
                    2,
                    5,
                    5,
                    7,
                    6
                  ],
                  "opacity": 1,
                  "type": "mesh3d",
                  "x": [
                    486,
                    486,
                    587,
                    587,
                    486,
                    486,
                    587,
                    587
                  ],
                  "y": [
                    97,
                    127,
                    127,
                    97,
                    97,
                    127,
                    127,
                    97
                  ],
                  "z": [
                    0,
                    0,
                    0,
                    0,
                    26,
                    26,
                    26,
                    26
                  ]
                },
                {
                  "color": "rgb(98.52522860414581,23.52591832062202,200.91356287495265)",
                  "i": [
                    7,
                    0,
                    0,
                    0,
                    4,
                    4,
                    2,
                    6,
                    4,
                    0,
                    3,
                    7
                  ],
                  "j": [
                    3,
                    4,
                    1,
                    2,
                    5,
                    6,
                    5,
                    5,
                    0,
                    1,
                    2,
                    2
                  ],
                  "k": [
                    0,
                    7,
                    2,
                    3,
                    6,
                    7,
                    1,
                    2,
                    5,
                    5,
                    7,
                    6
                  ],
                  "opacity": 1,
                  "type": "mesh3d",
                  "x": [
                    0,
                    0,
                    400,
                    400,
                    0,
                    0,
                    400,
                    400
                  ],
                  "y": [
                    0,
                    56,
                    56,
                    0,
                    0,
                    56,
                    56,
                    0
                  ],
                  "z": [
                    105,
                    105,
                    105,
                    105,
                    140,
                    140,
                    140,
                    140
                  ]
                },
                {
                  "color": "rgb(250.6156091632272,176.80525786261092,165.83550499670199)",
                  "i": [
                    7,
                    0,
                    0,
                    0,
                    4,
                    4,
                    2,
                    6,
                    4,
                    0,
                    3,
                    7
                  ],
                  "j": [
                    3,
                    4,
                    1,
                    2,
                    5,
                    6,
                    5,
                    5,
                    0,
                    1,
                    2,
                    2
                  ],
                  "k": [
                    0,
                    7,
                    2,
                    3,
                    6,
                    7,
                    1,
                    2,
                    5,
                    5,
                    7,
                    6
                  ],
                  "opacity": 1,
                  "type": "mesh3d",
                  "x": [
                    456,
                    456,
                    546,
                    546,
                    456,
                    456,
                    546,
                    546
                  ],
                  "y": [
                    132,
                    233,
                    233,
                    132,
                    132,
                    233,
                    233,
                    132
                  ],
                  "z": [
                    65,
                    65,
                    65,
                    65,
                    91,
                    91,
                    91,
                    91
                  ]
                },
                {
                  "color": "rgb(77.63536740371123,214.70839873785923,125.5912083877279)",
                  "i": [
                    7,
                    0,
                    0,
                    0,
                    4,
                    4,
                    2,
                    6,
                    4,
                    0,
                    3,
                    7
                  ],
                  "j": [
                    3,
                    4,
                    1,
                    2,
                    5,
                    6,
                    5,
                    5,
                    0,
                    1,
                    2,
                    2
                  ],
                  "k": [
                    0,
                    7,
                    2,
                    3,
                    6,
                    7,
                    1,
                    2,
                    5,
                    5,
                    7,
                    6
                  ],
                  "opacity": 1,
                  "type": "mesh3d",
                  "x": [
                    0,
                    0,
                    404,
                    404,
                    0,
                    0,
                    404,
                    404
                  ],
                  "y": [
                    97,
                    127,
                    127,
                    97,
                    97,
                    127,
                    127,
                    97
                  ],
                  "z": [
                    26,
                    26,
                    26,
                    26,
                    52,
                    52,
                    52,
                    52
                  ]
                },
                {
                  "color": "rgb(154.87683844107656,146.39831520940953,55.71644986776117)",
                  "i": [
                    7,
                    0,
                    0,
                    0,
                    4,
                    4,
                    2,
                    6,
                    4,
                    0,
                    3,
                    7
                  ],
                  "j": [
                    3,
                    4,
                    1,
                    2,
                    5,
                    6,
                    5,
                    5,
                    0,
                    1,
                    2,
                    2
                  ],
                  "k": [
                    0,
                    7,
                    2,
                    3,
                    6,
                    7,
                    1,
                    2,
                    5,
                    5,
                    7,
                    6
                  ],
                  "opacity": 1,
                  "type": "mesh3d",
                  "x": [
                    486,
                    486,
                    587,
                    587,
                    486,
                    486,
                    587,
                    587
                  ],
                  "y": [
                    97,
                    127,
                    127,
                    97,
                    97,
                    127,
                    127,
                    97
                  ],
                  "z": [
                    26,
                    26,
                    26,
                    26,
                    52,
                    52,
                    52,
                    52
                  ]
                },
                {
                  "color": "rgb(228.62962934340933,89.335665169213,133.92797434652934)",
                  "i": [
                    7,
                    0,
                    0,
                    0,
                    4,
                    4,
                    2,
                    6,
                    4,
                    0,
                    3,
                    7
                  ],
                  "j": [
                    3,
                    4,
                    1,
                    2,
                    5,
                    6,
                    5,
                    5,
                    0,
                    1,
                    2,
                    2
                  ],
                  "k": [
                    0,
                    7,
                    2,
                    3,
                    6,
                    7,
                    1,
                    2,
                    5,
                    5,
                    7,
                    6
                  ],
                  "opacity": 1,
                  "type": "mesh3d",
                  "x": [
                    0,
                    0,
                    424,
                    424,
                    0,
                    0,
                    424,
                    424
                  ],
                  "y": [
                    172,
                    233,
                    233,
                    172,
                    172,
                    233,
                    233,
                    172
                  ],
                  "z": [
                    131,
                    131,
                    131,
                    131,
                    187,
                    187,
                    187,
                    187
                  ]
                },
                {
                  "color": "rgb(158.33660975565886,202.21949933749002,47.313214124455726)",
                  "i": [
                    7,
                    0,
                    0,
                    0,
                    4,
                    4,
                    2,
                    6,
                    4,
                    0,
                    3,
                    7
                  ],
                  "j": [
                    3,
                    4,
                    1,
                    2,
                    5,
                    6,
                    5,
                    5,
                    0,
                    1,
                    2,
                    2
                  ],
                  "k": [
                    0,
                    7,
                    2,
                    3,
                    6,
                    7,
                    1,
                    2,
                    5,
                    5,
                    7,
                    6
                  ],
                  "opacity": 1,
                  "type": "mesh3d",
                  "x": [
                    465,
                    465,
                    546,
                    546,
                    465,
                    465,
                    546,
                    546
                  ],
                  "y": [
                    136,
                    233,
                    233,
                    136,
                    136,
                    233,
                    233,
                    136
                  ],
                  "z": [
                    91,
                    91,
                    91,
                    91,
                    118,
                    118,
                    118,
                    118
                  ]
                },
                {
                  "color": "rgb(27.07539466222278,30.550080222717007,172.31857514479506)",
                  "i": [
                    7,
                    0,
                    0,
                    0,
                    4,
                    4,
                    2,
                    6,
                    4,
                    0,
                    3,
                    7
                  ],
                  "j": [
                    3,
                    4,
                    1,
                    2,
                    5,
                    6,
                    5,
                    5,
                    0,
                    1,
                    2,
                    2
                  ],
                  "k": [
                    0,
                    7,
                    2,
                    3,
                    6,
                    7,
                    1,
                    2,
                    5,
                    5,
                    7,
                    6
                  ],
                  "opacity": 1,
                  "type": "mesh3d",
                  "x": [
                    0,
                    0,
                    202,
                    202,
                    0,
                    0,
                    202,
                    202
                  ],
                  "y": [
                    142,
                    172,
                    172,
                    142,
                    142,
                    172,
                    172,
                    142
                  ],
                  "z": [
                    75,
                    75,
                    75,
                    75,
                    101,
                    101,
                    101,
                    101
                  ]
                },
                {
                  "color": "rgb(15.87118647939548,235.7539912358429,72.92374222815019)",
                  "i": [
                    7,
                    0,
                    0,
                    0,
                    4,
                    4,
                    2,
                    6,
                    4,
                    0,
                    3,
                    7
                  ],
                  "j": [
                    3,
                    4,
                    1,
                    2,
                    5,
                    6,
                    5,
                    5,
                    0,
                    1,
                    2,
                    2
                  ],
                  "k": [
                    0,
                    7,
                    2,
                    3,
                    6,
                    7,
                    1,
                    2,
                    5,
                    5,
                    7,
                    6
                  ],
                  "opacity": 1,
                  "type": "mesh3d",
                  "x": [
                    0,
                    0,
                    400,
                    400,
                    0,
                    0,
                    400,
                    400
                  ],
                  "y": [
                    0,
                    56,
                    56,
                    0,
                    0,
                    56,
                    56,
                    0
                  ],
                  "z": [
                    140,
                    140,
                    140,
                    140,
                    175,
                    175,
                    175,
                    175
                  ]
                },
                {
                  "color": "rgb(213.63401844606366,154.4279460492242,207.30443892933943)",
                  "i": [
                    7,
                    0,
                    0,
                    0,
                    4,
                    4,
                    2,
                    6,
                    4,
                    0,
                    3,
                    7
                  ],
                  "j": [
                    3,
                    4,
                    1,
                    2,
                    5,
                    6,
                    5,
                    5,
                    0,
                    1,
                    2,
                    2
                  ],
                  "k": [
                    0,
                    7,
                    2,
                    3,
                    6,
                    7,
                    1,
                    2,
                    5,
                    5,
                    7,
                    6
                  ],
                  "opacity": 1,
                  "type": "mesh3d",
                  "x": [
                    410,
                    410,
                    510,
                    510,
                    410,
                    410,
                    510,
                    510
                  ],
                  "y": [
                    0,
                    70,
                    70,
                    0,
                    0,
                    70,
                    70,
                    0
                  ],
                  "z": [
                    66,
                    66,
                    66,
                    66,
                    122,
                    122,
                    122,
                    122
                  ]
                },
                {
                  "color": "rgb(149.6209967478441,42.36863568715244,191.32265792182895)",
                  "i": [
                    7,
                    0,
                    0,
                    0,
                    4,
                    4,
                    2,
                    6,
                    4,
                    0,
                    3,
                    7
                  ],
                  "j": [
                    3,
                    4,
                    1,
                    2,
                    5,
                    6,
                    5,
                    5,
                    0,
                    1,
                    2,
                    2
                  ],
                  "k": [
                    0,
                    7,
                    2,
                    3,
                    6,
                    7,
                    1,
                    2,
                    5,
                    5,
                    7,
                    6
                  ],
                  "opacity": 1,
                  "type": "mesh3d",
                  "x": [
                    466,
                    466,
                    546,
                    546,
                    466,
                    466,
                    546,
                    546
                  ],
                  "y": [
                    142,
                    233,
                    233,
                    142,
                    142,
                    233,
                    233,
                    142
                  ],
                  "z": [
                    118,
                    118,
                    118,
                    118,
                    168,
                    168,
                    168,
                    168
                  ]
                },
                {
                  "color": "rgb(56.561863695952354,196.68921004649997,33.82189727607376)",
                  "i": [
                    7,
                    0,
                    0,
                    0,
                    4,
                    4,
                    2,
                    6,
                    4,
                    0,
                    3,
                    7
                  ],
                  "j": [
                    3,
                    4,
                    1,
                    2,
                    5,
                    6,
                    5,
                    5,
                    0,
                    1,
                    2,
                    2
                  ],
                  "k": [
                    0,
                    7,
                    2,
                    3,
                    6,
                    7,
                    1,
                    2,
                    5,
                    5,
                    7,
                    6
                  ],
                  "opacity": 1,
                  "type": "mesh3d",
                  "x": [
                    0,
                    0,
                    364,
                    364,
                    0,
                    0,
                    364,
                    364
                  ],
                  "y": [
                    0,
                    50,
                    50,
                    0,
                    0,
                    50,
                    50,
                    0
                  ],
                  "z": [
                    175,
                    175,
                    175,
                    175,
                    215,
                    215,
                    215,
                    215
                  ]
                },
                {
                  "color": "rgb(113.53611506369053,172.2991431890072,126.27171471098346)",
                  "i": [
                    7,
                    0,
                    0,
                    0,
                    4,
                    4,
                    2,
                    6,
                    4,
                    0,
                    3,
                    7
                  ],
                  "j": [
                    3,
                    4,
                    1,
                    2,
                    5,
                    6,
                    5,
                    5,
                    0,
                    1,
                    2,
                    2
                  ],
                  "k": [
                    0,
                    7,
                    2,
                    3,
                    6,
                    7,
                    1,
                    2,
                    5,
                    5,
                    7,
                    6
                  ],
                  "opacity": 1,
                  "type": "mesh3d",
                  "x": [
                    410,
                    410,
                    510,
                    510,
                    410,
                    410,
                    510,
                    510
                  ],
                  "y": [
                    0,
                    70,
                    70,
                    0,
                    0,
                    70,
                    70,
                    0
                  ],
                  "z": [
                    122,
                    122,
                    122,
                    122,
                    178,
                    178,
                    178,
                    178
                  ]
                },
                {
                  "color": "rgb(30.25773683323667,231.40582881282242,37.76952033401544)",
                  "i": [
                    7,
                    0,
                    0,
                    0,
                    4,
                    4,
                    2,
                    6,
                    4,
                    0,
                    3,
                    7
                  ],
                  "j": [
                    3,
                    4,
                    1,
                    2,
                    5,
                    6,
                    5,
                    5,
                    0,
                    1,
                    2,
                    2
                  ],
                  "k": [
                    0,
                    7,
                    2,
                    3,
                    6,
                    7,
                    1,
                    2,
                    5,
                    5,
                    7,
                    6
                  ],
                  "opacity": 1,
                  "type": "mesh3d",
                  "x": [
                    466,
                    466,
                    546,
                    546,
                    466,
                    466,
                    546,
                    546
                  ],
                  "y": [
                    142,
                    233,
                    233,
                    142,
                    142,
                    233,
                    233,
                    142
                  ],
                  "z": [
                    168,
                    168,
                    168,
                    168,
                    218,
                    218,
                    218,
                    218
                  ]
                },
                {
                  "color": "rgb(108.29491967776677,179.15400313177204,114.46898805044897)",
                  "i": [
                    7,
                    0,
                    0,
                    0,
                    4,
                    4,
                    2,
                    6,
                    4,
                    0,
                    3,
                    7
                  ],
                  "j": [
                    3,
                    4,
                    1,
                    2,
                    5,
                    6,
                    5,
                    5,
                    0,
                    1,
                    2,
                    2
                  ],
                  "k": [
                    0,
                    7,
                    2,
                    3,
                    6,
                    7,
                    1,
                    2,
                    5,
                    5,
                    7,
                    6
                  ],
                  "opacity": 1,
                  "type": "mesh3d",
                  "x": [
                    410,
                    410,
                    510,
                    510,
                    410,
                    410,
                    510,
                    510
                  ],
                  "y": [
                    0,
                    66,
                    66,
                    0,
                    0,
                    66,
                    66,
                    0
                  ],
                  "z": [
                    178,
                    178,
                    178,
                    178,
                    220,
                    220,
                    220,
                    220
                  ]
                }
              ],
              "layout": {
                "autosize": false,
                "margin": {
                  "b": 0,
                  "l": 0,
                  "r": 0,
                  "t": 0
                },
                "paper_bgcolor": "rgba(0,0,0,0)",
                "scene": {
                  "camera": {
                    "center": {
                      "x": 0,
                      "y": 0,
                      "z": 0
                    },
                    "eye": {
                      "x": -2,
                      "y": 2,
                      "z": 1.5
                    },
                    "up": {
                      "x": 0,
                      "y": 0,
                      "z": 1
                    }
                  },
                  "xaxis": {
                    "nticks": 10,
                    "range": [
                      0,
                      587
                    ],
                    "showspikes": false
                  },
                  "yaxis": {
                    "nticks": 5,
                    "range": [
                      0,
                      233
                    ],
                    "showspikes": false
                  },
                  "zaxis": {
                    "nticks": 5,
                    "range": [
                      0,
                      220
                    ],
                    "tickfont": {
                      "size": 15
                    }
                  }
                },
                "template": {
                  "data": {
                    "bar": [
                      {
                        "error_x": {
                          "color": "#2a3f5f"
                        },
                        "error_y": {
                          "color": "#2a3f5f"
                        },
                        "marker": {
                          "line": {
                            "color": "#E5ECF6",
                            "width": 0.5
                          },
                          "pattern": {
                            "fillmode": "overlay",
                            "size": 10,
                            "solidity": 0.2
                          }
                        },
                        "type": "bar"
                      }
                    ],
                    "barpolar": [
                      {
                        "marker": {
                          "line": {
                            "color": "#E5ECF6",
                            "width": 0.5
                          },
                          "pattern": {
                            "fillmode": "overlay",
                            "size": 10,
                            "solidity": 0.2
                          }
                        },
                        "type": "barpolar"
                      }
                    ],
                    "carpet": [
                      {
                        "aaxis": {
                          "endlinecolor": "#2a3f5f",
                          "gridcolor": "white",
                          "linecolor": "white",
                          "minorgridcolor": "white",
                          "startlinecolor": "#2a3f5f"
                        },
                        "baxis": {
                          "endlinecolor": "#2a3f5f",
                          "gridcolor": "white",
                          "linecolor": "white",
                          "minorgridcolor": "white",
                          "startlinecolor": "#2a3f5f"
                        },
                        "type": "carpet"
                      }
                    ],
                    "choropleth": [
                      {
                        "colorbar": {
                          "outlinewidth": 0,
                          "ticks": ""
                        },
                        "type": "choropleth"
                      }
                    ],
                    "contour": [
                      {
                        "colorbar": {
                          "outlinewidth": 0,
                          "ticks": ""
                        },
                        "colorscale": [
                          [
                            0,
                            "#0d0887"
                          ],
                          [
                            0.1111111111111111,
                            "#46039f"
                          ],
                          [
                            0.2222222222222222,
                            "#7201a8"
                          ],
                          [
                            0.3333333333333333,
                            "#9c179e"
                          ],
                          [
                            0.4444444444444444,
                            "#bd3786"
                          ],
                          [
                            0.5555555555555556,
                            "#d8576b"
                          ],
                          [
                            0.6666666666666666,
                            "#ed7953"
                          ],
                          [
                            0.7777777777777778,
                            "#fb9f3a"
                          ],
                          [
                            0.8888888888888888,
                            "#fdca26"
                          ],
                          [
                            1,
                            "#f0f921"
                          ]
                        ],
                        "type": "contour"
                      }
                    ],
                    "contourcarpet": [
                      {
                        "colorbar": {
                          "outlinewidth": 0,
                          "ticks": ""
                        },
                        "type": "contourcarpet"
                      }
                    ],
                    "heatmap": [
                      {
                        "colorbar": {
                          "outlinewidth": 0,
                          "ticks": ""
                        },
                        "colorscale": [
                          [
                            0,
                            "#0d0887"
                          ],
                          [
                            0.1111111111111111,
                            "#46039f"
                          ],
                          [
                            0.2222222222222222,
                            "#7201a8"
                          ],
                          [
                            0.3333333333333333,
                            "#9c179e"
                          ],
                          [
                            0.4444444444444444,
                            "#bd3786"
                          ],
                          [
                            0.5555555555555556,
                            "#d8576b"
                          ],
                          [
                            0.6666666666666666,
                            "#ed7953"
                          ],
                          [
                            0.7777777777777778,
                            "#fb9f3a"
                          ],
                          [
                            0.8888888888888888,
                            "#fdca26"
                          ],
                          [
                            1,
                            "#f0f921"
                          ]
                        ],
                        "type": "heatmap"
                      }
                    ],
                    "heatmapgl": [
                      {
                        "colorbar": {
                          "outlinewidth": 0,
                          "ticks": ""
                        },
                        "colorscale": [
                          [
                            0,
                            "#0d0887"
                          ],
                          [
                            0.1111111111111111,
                            "#46039f"
                          ],
                          [
                            0.2222222222222222,
                            "#7201a8"
                          ],
                          [
                            0.3333333333333333,
                            "#9c179e"
                          ],
                          [
                            0.4444444444444444,
                            "#bd3786"
                          ],
                          [
                            0.5555555555555556,
                            "#d8576b"
                          ],
                          [
                            0.6666666666666666,
                            "#ed7953"
                          ],
                          [
                            0.7777777777777778,
                            "#fb9f3a"
                          ],
                          [
                            0.8888888888888888,
                            "#fdca26"
                          ],
                          [
                            1,
                            "#f0f921"
                          ]
                        ],
                        "type": "heatmapgl"
                      }
                    ],
                    "histogram": [
                      {
                        "marker": {
                          "pattern": {
                            "fillmode": "overlay",
                            "size": 10,
                            "solidity": 0.2
                          }
                        },
                        "type": "histogram"
                      }
                    ],
                    "histogram2d": [
                      {
                        "colorbar": {
                          "outlinewidth": 0,
                          "ticks": ""
                        },
                        "colorscale": [
                          [
                            0,
                            "#0d0887"
                          ],
                          [
                            0.1111111111111111,
                            "#46039f"
                          ],
                          [
                            0.2222222222222222,
                            "#7201a8"
                          ],
                          [
                            0.3333333333333333,
                            "#9c179e"
                          ],
                          [
                            0.4444444444444444,
                            "#bd3786"
                          ],
                          [
                            0.5555555555555556,
                            "#d8576b"
                          ],
                          [
                            0.6666666666666666,
                            "#ed7953"
                          ],
                          [
                            0.7777777777777778,
                            "#fb9f3a"
                          ],
                          [
                            0.8888888888888888,
                            "#fdca26"
                          ],
                          [
                            1,
                            "#f0f921"
                          ]
                        ],
                        "type": "histogram2d"
                      }
                    ],
                    "histogram2dcontour": [
                      {
                        "colorbar": {
                          "outlinewidth": 0,
                          "ticks": ""
                        },
                        "colorscale": [
                          [
                            0,
                            "#0d0887"
                          ],
                          [
                            0.1111111111111111,
                            "#46039f"
                          ],
                          [
                            0.2222222222222222,
                            "#7201a8"
                          ],
                          [
                            0.3333333333333333,
                            "#9c179e"
                          ],
                          [
                            0.4444444444444444,
                            "#bd3786"
                          ],
                          [
                            0.5555555555555556,
                            "#d8576b"
                          ],
                          [
                            0.6666666666666666,
                            "#ed7953"
                          ],
                          [
                            0.7777777777777778,
                            "#fb9f3a"
                          ],
                          [
                            0.8888888888888888,
                            "#fdca26"
                          ],
                          [
                            1,
                            "#f0f921"
                          ]
                        ],
                        "type": "histogram2dcontour"
                      }
                    ],
                    "mesh3d": [
                      {
                        "colorbar": {
                          "outlinewidth": 0,
                          "ticks": ""
                        },
                        "type": "mesh3d"
                      }
                    ],
                    "parcoords": [
                      {
                        "line": {
                          "colorbar": {
                            "outlinewidth": 0,
                            "ticks": ""
                          }
                        },
                        "type": "parcoords"
                      }
                    ],
                    "pie": [
                      {
                        "automargin": true,
                        "type": "pie"
                      }
                    ],
                    "scatter": [
                      {
                        "fillpattern": {
                          "fillmode": "overlay",
                          "size": 10,
                          "solidity": 0.2
                        },
                        "type": "scatter"
                      }
                    ],
                    "scatter3d": [
                      {
                        "line": {
                          "colorbar": {
                            "outlinewidth": 0,
                            "ticks": ""
                          }
                        },
                        "marker": {
                          "colorbar": {
                            "outlinewidth": 0,
                            "ticks": ""
                          }
                        },
                        "type": "scatter3d"
                      }
                    ],
                    "scattercarpet": [
                      {
                        "marker": {
                          "colorbar": {
                            "outlinewidth": 0,
                            "ticks": ""
                          }
                        },
                        "type": "scattercarpet"
                      }
                    ],
                    "scattergeo": [
                      {
                        "marker": {
                          "colorbar": {
                            "outlinewidth": 0,
                            "ticks": ""
                          }
                        },
                        "type": "scattergeo"
                      }
                    ],
                    "scattergl": [
                      {
                        "marker": {
                          "colorbar": {
                            "outlinewidth": 0,
                            "ticks": ""
                          }
                        },
                        "type": "scattergl"
                      }
                    ],
                    "scattermapbox": [
                      {
                        "marker": {
                          "colorbar": {
                            "outlinewidth": 0,
                            "ticks": ""
                          }
                        },
                        "type": "scattermapbox"
                      }
                    ],
                    "scatterpolar": [
                      {
                        "marker": {
                          "colorbar": {
                            "outlinewidth": 0,
                            "ticks": ""
                          }
                        },
                        "type": "scatterpolar"
                      }
                    ],
                    "scatterpolargl": [
                      {
                        "marker": {
                          "colorbar": {
                            "outlinewidth": 0,
                            "ticks": ""
                          }
                        },
                        "type": "scatterpolargl"
                      }
                    ],
                    "scatterternary": [
                      {
                        "marker": {
                          "colorbar": {
                            "outlinewidth": 0,
                            "ticks": ""
                          }
                        },
                        "type": "scatterternary"
                      }
                    ],
                    "surface": [
                      {
                        "colorbar": {
                          "outlinewidth": 0,
                          "ticks": ""
                        },
                        "colorscale": [
                          [
                            0,
                            "#0d0887"
                          ],
                          [
                            0.1111111111111111,
                            "#46039f"
                          ],
                          [
                            0.2222222222222222,
                            "#7201a8"
                          ],
                          [
                            0.3333333333333333,
                            "#9c179e"
                          ],
                          [
                            0.4444444444444444,
                            "#bd3786"
                          ],
                          [
                            0.5555555555555556,
                            "#d8576b"
                          ],
                          [
                            0.6666666666666666,
                            "#ed7953"
                          ],
                          [
                            0.7777777777777778,
                            "#fb9f3a"
                          ],
                          [
                            0.8888888888888888,
                            "#fdca26"
                          ],
                          [
                            1,
                            "#f0f921"
                          ]
                        ],
                        "type": "surface"
                      }
                    ],
                    "table": [
                      {
                        "cells": {
                          "fill": {
                            "color": "#EBF0F8"
                          },
                          "line": {
                            "color": "white"
                          }
                        },
                        "header": {
                          "fill": {
                            "color": "#C8D4E3"
                          },
                          "line": {
                            "color": "white"
                          }
                        },
                        "type": "table"
                      }
                    ]
                  },
                  "layout": {
                    "annotationdefaults": {
                      "arrowcolor": "#2a3f5f",
                      "arrowhead": 0,
                      "arrowwidth": 1
                    },
                    "autotypenumbers": "strict",
                    "coloraxis": {
                      "colorbar": {
                        "outlinewidth": 0,
                        "ticks": ""
                      }
                    },
                    "colorscale": {
                      "diverging": [
                        [
                          0,
                          "#8e0152"
                        ],
                        [
                          0.1,
                          "#c51b7d"
                        ],
                        [
                          0.2,
                          "#de77ae"
                        ],
                        [
                          0.3,
                          "#f1b6da"
                        ],
                        [
                          0.4,
                          "#fde0ef"
                        ],
                        [
                          0.5,
                          "#f7f7f7"
                        ],
                        [
                          0.6,
                          "#e6f5d0"
                        ],
                        [
                          0.7,
                          "#b8e186"
                        ],
                        [
                          0.8,
                          "#7fbc41"
                        ],
                        [
                          0.9,
                          "#4d9221"
                        ],
                        [
                          1,
                          "#276419"
                        ]
                      ],
                      "sequential": [
                        [
                          0,
                          "#0d0887"
                        ],
                        [
                          0.1111111111111111,
                          "#46039f"
                        ],
                        [
                          0.2222222222222222,
                          "#7201a8"
                        ],
                        [
                          0.3333333333333333,
                          "#9c179e"
                        ],
                        [
                          0.4444444444444444,
                          "#bd3786"
                        ],
                        [
                          0.5555555555555556,
                          "#d8576b"
                        ],
                        [
                          0.6666666666666666,
                          "#ed7953"
                        ],
                        [
                          0.7777777777777778,
                          "#fb9f3a"
                        ],
                        [
                          0.8888888888888888,
                          "#fdca26"
                        ],
                        [
                          1,
                          "#f0f921"
                        ]
                      ],
                      "sequentialminus": [
                        [
                          0,
                          "#0d0887"
                        ],
                        [
                          0.1111111111111111,
                          "#46039f"
                        ],
                        [
                          0.2222222222222222,
                          "#7201a8"
                        ],
                        [
                          0.3333333333333333,
                          "#9c179e"
                        ],
                        [
                          0.4444444444444444,
                          "#bd3786"
                        ],
                        [
                          0.5555555555555556,
                          "#d8576b"
                        ],
                        [
                          0.6666666666666666,
                          "#ed7953"
                        ],
                        [
                          0.7777777777777778,
                          "#fb9f3a"
                        ],
                        [
                          0.8888888888888888,
                          "#fdca26"
                        ],
                        [
                          1,
                          "#f0f921"
                        ]
                      ]
                    },
                    "colorway": [
                      "#636efa",
                      "#EF553B",
                      "#00cc96",
                      "#ab63fa",
                      "#FFA15A",
                      "#19d3f3",
                      "#FF6692",
                      "#B6E880",
                      "#FF97FF",
                      "#FECB52"
                    ],
                    "font": {
                      "color": "#2a3f5f"
                    },
                    "geo": {
                      "bgcolor": "white",
                      "lakecolor": "white",
                      "landcolor": "#E5ECF6",
                      "showlakes": true,
                      "showland": true,
                      "subunitcolor": "white"
                    },
                    "hoverlabel": {
                      "align": "left"
                    },
                    "hovermode": "closest",
                    "mapbox": {
                      "style": "light"
                    },
                    "paper_bgcolor": "white",
                    "plot_bgcolor": "#E5ECF6",
                    "polar": {
                      "angularaxis": {
                        "gridcolor": "white",
                        "linecolor": "white",
                        "ticks": ""
                      },
                      "bgcolor": "#E5ECF6",
                      "radialaxis": {
                        "gridcolor": "white",
                        "linecolor": "white",
                        "ticks": ""
                      }
                    },
                    "scene": {
                      "xaxis": {
                        "backgroundcolor": "#E5ECF6",
                        "gridcolor": "white",
                        "gridwidth": 2,
                        "linecolor": "white",
                        "showbackground": true,
                        "ticks": "",
                        "zerolinecolor": "white"
                      },
                      "yaxis": {
                        "backgroundcolor": "#E5ECF6",
                        "gridcolor": "white",
                        "gridwidth": 2,
                        "linecolor": "white",
                        "showbackground": true,
                        "ticks": "",
                        "zerolinecolor": "white"
                      },
                      "zaxis": {
                        "backgroundcolor": "#E5ECF6",
                        "gridcolor": "white",
                        "gridwidth": 2,
                        "linecolor": "white",
                        "showbackground": true,
                        "ticks": "",
                        "zerolinecolor": "white"
                      }
                    },
                    "shapedefaults": {
                      "line": {
                        "color": "#2a3f5f"
                      }
                    },
                    "ternary": {
                      "aaxis": {
                        "gridcolor": "white",
                        "linecolor": "white",
                        "ticks": ""
                      },
                      "baxis": {
                        "gridcolor": "white",
                        "linecolor": "white",
                        "ticks": ""
                      },
                      "bgcolor": "#E5ECF6",
                      "caxis": {
                        "gridcolor": "white",
                        "linecolor": "white",
                        "ticks": ""
                      }
                    },
                    "title": {
                      "x": 0.05
                    },
                    "xaxis": {
                      "automargin": true,
                      "gridcolor": "white",
                      "linecolor": "white",
                      "ticks": "",
                      "title": {
                        "standoff": 15
                      },
                      "zerolinecolor": "white",
                      "zerolinewidth": 2
                    },
                    "yaxis": {
                      "automargin": true,
                      "gridcolor": "white",
                      "linecolor": "white",
                      "ticks": "",
                      "title": {
                        "standoff": 15
                      },
                      "zerolinecolor": "white",
                      "zerolinewidth": 2
                    }
                  }
                }
              }
            }
          },
          "metadata": {},
          "output_type": "display_data"
        }
      ],
      "source": [
        "# cont, execution_time,total_volume = MLCP_function(alpha=1.0,beta=0.0,gamma=0,delta=0,p=0,instance=2)\n",
        "cont, execution_time,total_volume = MLCP_function(alpha=1.0,beta=3.0,gamma=0.1,delta=0.2,p=0.02,instance=2)\n",
        "\n",
        "L = cont.l;W = cont.w; H = cont.h\n",
        "\n",
        "box_dims = []\n",
        "for aabb in cont.aabbs:\n",
        "  box_dims.append([aabb.xmin,aabb.ymin,aabb.zmin,aabb.xmax,aabb.ymax,aabb.zmax])\n",
        "\n",
        "bxplot.plot_container([L,W,H], box_dims)"
      ]
    },
    {
      "cell_type": "code",
      "execution_count": 15,
      "metadata": {},
      "outputs": [
        {
          "name": "stdout",
          "output_type": "stream",
          "text": [
            "centro: 22.283731016624227 tiempo:0.25870537757873535 volumen:16558688\n"
          ]
        }
      ],
      "source": [
        "print(f'centro: {center_of_gravity(cont)} tiempo:{execution_time} volumen:{total_volume}')"
      ]
    },
    {
      "cell_type": "code",
      "execution_count": 16,
      "metadata": {},
      "outputs": [
        {
          "name": "stdout",
          "output_type": "stream",
          "text": [
            "centro: 22.283731016624227 tiempo:0.25870537757873535 volumen:16558688\n"
          ]
        }
      ],
      "source": [
        "print(f'centro: {center_of_gravity(cont)} tiempo:{execution_time} volumen:{total_volume}')"
      ]
    }
  ],
  "metadata": {
    "colab": {
      "provenance": []
    },
    "kernelspec": {
      "display_name": "Python 3",
      "name": "python3"
    },
    "language_info": {
      "codemirror_mode": {
        "name": "ipython",
        "version": 3
      },
      "file_extension": ".py",
      "mimetype": "text/x-python",
      "name": "python",
      "nbconvert_exporter": "python",
      "pygments_lexer": "ipython3",
      "version": "3.10.11"
    }
  },
  "nbformat": 4,
  "nbformat_minor": 0
}
