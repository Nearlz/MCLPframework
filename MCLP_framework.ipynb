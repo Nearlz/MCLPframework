{
  "cells": [
    {
      "cell_type": "code",
      "execution_count": 1,
      "metadata": {
        "colab": {
          "base_uri": "https://localhost:8080/"
        },
        "id": "I0nlZKgpCP3o",
        "outputId": "8f377390-ebd5-4f14-cd9b-bf486d8894f9"
      },
      "outputs": [
        {
          "name": "stdout",
          "output_type": "stream",
          "text": [
            "b1: Block: l: 4 w: 2 h: True weight: 1 volume: 8 occupied_volume: 8 items: {<src.base.Boxtype object at 0x000001C43854FFA0>: 1} ratio:1.0\n",
            "b2: Block: l: 2 w: 3 h: True weight: 1 volume: 6 occupied_volume: 6 items: {<src.base.Boxtype object at 0x000001C438542590>: 1} ratio:1.0\n",
            "b3: Block: l: True w: 2 h: 1 weight: 1 volume: 2 occupied_volume: 2 items: {<src.base.Boxtype object at 0x000001C43854FA00>: 1} ratio:1.0\n",
            "False b1+b2: Block: l: 4 w: 2 h: True weight: 1 volume: 8 occupied_volume: 8 items: {<src.base.Boxtype object at 0x000001C43854FFA0>: 1} ratio:1.0\n",
            "False b1+b3: Block: l: 4 w: 2 h: True weight: 1 volume: 8 occupied_volume: 8 items: {<src.base.Boxtype object at 0x000001C43854FFA0>: 1} ratio:1.0\n",
            "True b1+b1: Block: l: 8 w: 2 h: True weight: 2 volume: 16 occupied_volume: 16 items: {<src.base.Boxtype object at 0x000001C43854FFA0>: 2} ratio:1.0\n"
          ]
        }
      ],
      "source": [
        "from src.base import Block, Boxtype\n",
        "import src.vcs_function as eval\n",
        "import src.box_plotter as bxplot\n",
        "import time\n",
        "import pandas as pd\n",
        "\n",
        "#test Blocks\n",
        "b1 = Block(boxtype=Boxtype(1,2,4,True,True,True,1), rot='wlh')\n",
        "b2 = Block(boxtype=Boxtype(1,2,3,True,True,True,1), rot='lwh')\n",
        "b3 = Block(boxtype=Boxtype(1,1,2,True,True,True,1), rot='hwl')\n",
        "\n",
        "#test join\n",
        "print(\"b1:\",b1); print(\"b2:\",b2); print(\"b3:\",b3)\n",
        "t=b1.join(b2, 'y'); print(t,\"b1+b2:\",b1)\n",
        "t=b1.join(b3, 'z'); print(t,\"b1+b3:\",b1)\n",
        "t=b1.join(b1, 'x'); print(t,\"b1+b1:\",b1)"
      ]
    },
    {
      "attachments": {},
      "cell_type": "markdown",
      "metadata": {
        "id": "fkcg_ZG9ijg_"
      },
      "source": [
        "## Plot container"
      ]
    },
    {
      "cell_type": "code",
      "execution_count": 2,
      "metadata": {
        "id": "Y1ePisniGkvs"
      },
      "outputs": [],
      "source": [
        "def load_instance(filename = \"instancia.txt\", type=\"BF\", id_instance=5):\n",
        "    with open(filename, \"r\") as file:\n",
        "        #discard first line\n",
        "        file.readline()\n",
        "      \n",
        "        for j in range(100):\n",
        "            file.readline()\n",
        "            L, W, H, WEIGHT,SUPPORTED_WEIGHT = [int(x) for x in file.readline().split()]\n",
        "\n",
        "            #read second line\n",
        "            n = int(file.readline())\n",
        "            #read n lines\n",
        "            items = Itemdict()\n",
        "            for i in range(n):\n",
        "                id, l, rotx, w, roty, h, rotz, n, weight, supported_weight = [int(x) for x in file.readline().split()]    \n",
        "                item = Boxtype(id, l, w, h, rotx, roty, rotz, weight, supported_weight)\n",
        "                items[item]=n\n",
        "            \n",
        "            if j == id_instance: return  items, L, W, H, WEIGHT, SUPPORTED_WEIGHT"
      ]
    },
    {
      "cell_type": "code",
      "execution_count": 3,
      "metadata": {},
      "outputs": [],
      "source": [
        "def adyacent_blocks(blocks,L,W,H):\n",
        "    last = blocks[-1]\n",
        "    adyacent = list()\n",
        "    box_dims = []\n",
        "    \n",
        "    for block in blocks[:-1]:\n",
        "        \n",
        "        if block.xmax == last.xmin and ((block.zmin < last.zmax and block.zmax > last.zmin ) and (block.ymin < last.ymax and block.ymax > last.ymin )):\n",
        "            z_diff_max = max([block.zmin,last.zmin])\n",
        "            z_diff_min = min([block.zmax,last.zmax])\n",
        "            y_diff_max = max([block.ymin,last.ymin])\n",
        "            y_diff_min = min([block.ymax,last.ymax])\n",
        "            adyacent.append(block)\n",
        "            block.covered_surface+= (z_diff_min-z_diff_max) * (y_diff_min-y_diff_max)\n",
        "            block.covered_surface_face['X1']+= (z_diff_min-z_diff_max) * (y_diff_min-y_diff_max)\n",
        "            last.covered_surface+= (z_diff_min-z_diff_max) * (y_diff_min-y_diff_max)\n",
        "            last.covered_surface_face['X2']+= (z_diff_min-z_diff_max) * (y_diff_min-y_diff_max)\n",
        "\n",
        "        elif block.xmin == last.xmax and ((block.zmin < last.zmax and block.zmax > last.zmin ) and (block.ymin < last.ymax and block.ymax > last.ymin )):\n",
        "            z_diff_max = max([block.zmin,last.zmin])\n",
        "            z_diff_min = min([block.zmax,last.zmax])\n",
        "            y_diff_max = max([block.ymin,last.ymin])\n",
        "            y_diff_min = min([block.ymax,last.ymax])\n",
        "            adyacent.append(block)\n",
        "            block.covered_surface+= (z_diff_min-z_diff_max) * (y_diff_min-y_diff_max)\n",
        "            block.covered_surface_face['X2']+= (z_diff_min-z_diff_max) * (y_diff_min-y_diff_max)\n",
        "            last.covered_surface+= (z_diff_min-z_diff_max) * (y_diff_min-y_diff_max)\n",
        "            last.covered_surface_face['X1']+= (z_diff_min-z_diff_max) * (y_diff_min-y_diff_max)\n",
        "\n",
        "        elif block.ymax == last.ymin and ((block.zmin < last.zmax and block.zmax > last.zmin ) and (block.xmin < last.xmax and block.xmax > last.xmin )):\n",
        "            z_diff_max = max([block.zmin,last.zmin])\n",
        "            z_diff_min = min([block.zmax,last.zmax])\n",
        "            x_diff_max = max([block.xmin,last.xmin])\n",
        "            x_diff_min = min([block.xmax,last.xmax])\n",
        "            adyacent.append(block)\n",
        "            block.covered_surface+= (z_diff_min-z_diff_max) * (x_diff_min-x_diff_max)\n",
        "            block.covered_surface_face['Y1']+= (z_diff_min-z_diff_max) * (x_diff_min-x_diff_max)\n",
        "            last.covered_surface+= (z_diff_min-z_diff_max) * (x_diff_min-x_diff_max)\n",
        "            last.covered_surface_face['Y2']+= (z_diff_min-z_diff_max) * (x_diff_min-x_diff_max)\n",
        "\n",
        "        elif block.ymin == last.ymax and ((block.zmin < last.zmax and block.zmax > last.zmin ) and (block.xmin < last.xmax and block.xmax > last.xmin )):\n",
        "            z_diff_max = max([block.zmin,last.zmin])\n",
        "            z_diff_min = min([block.zmax,last.zmax])\n",
        "            x_diff_max = max([block.xmin,last.xmin])\n",
        "            x_diff_min = min([block.xmax,last.xmax])\n",
        "            adyacent.append(block)\n",
        "            block.covered_surface+= (z_diff_min-z_diff_max) * (x_diff_min-x_diff_max)\n",
        "            block.covered_surface_face['Y2']+= (z_diff_min-z_diff_max) * (x_diff_min-x_diff_max)\n",
        "            last.covered_surface+= (z_diff_min-z_diff_max) * (x_diff_min-x_diff_max)\n",
        "            last.covered_surface_face['Y1']+= (z_diff_min-z_diff_max) * (x_diff_min-x_diff_max)\n",
        "\n",
        "        elif block.zmax == last.zmin and ((block.ymin < last.ymax and block.ymax > last.ymin ) and (block.xmin < last.xmax and block.xmax > last.xmin )):\n",
        "            y_diff_max = max([block.ymin,last.ymin])\n",
        "            y_diff_min = min([block.ymax,last.ymax])\n",
        "            x_diff_max = max([block.xmin,last.xmin])\n",
        "            x_diff_min = min([block.xmax,last.xmax])\n",
        "            adyacent.append(block)\n",
        "            block.covered_surface+= (y_diff_min-y_diff_max) * (x_diff_min-x_diff_max)\n",
        "            # block.covered_surface_face['Z1']+= (y_diff_min-y_diff_max) * (x_diff_min-x_diff_max)\n",
        "            last.covered_surface+= (y_diff_min-y_diff_max) * (x_diff_min-x_diff_max)\n",
        "            # last.covered_surface_face['Z2']+= (y_diff_min-y_diff_max) * (x_diff_min-x_diff_max)\n",
        "\n",
        "        elif block.zmin == last.zmax and ((block.ymin < last.ymax and block.ymax > last.ymin ) and (block.xmin < last.xmax and block.xmax > last.xmin )):\n",
        "            y_diff_max = max([block.ymin,last.ymin])\n",
        "            y_diff_min = min([block.ymax,last.ymax])\n",
        "            x_diff_max = max([block.xmin,last.xmin])\n",
        "            x_diff_min = min([block.xmax,last.xmax])\n",
        "            adyacent.append(block)\n",
        "            block.covered_surface+= (y_diff_min-y_diff_max) * (x_diff_min-x_diff_max)\n",
        "            # block.covered_surface_face['Z2']+= (y_diff_min-y_diff_max) * (x_diff_min-x_diff_max)\n",
        "            last.covered_surface+= (y_diff_min-y_diff_max) * (x_diff_min-x_diff_max)\n",
        "            # last.covered_surface_face['Z1']+= (y_diff_min-y_diff_max) * (x_diff_min-x_diff_max)\n",
        "            \n",
        "    # if(len(adyacent)!=0):\n",
        "        # print(last.covered_surface_face)\n",
        "        # box_dims.append([last.xmin,last.ymin,last.zmin,last.xmax,last.ymax,last.zmax])\n",
        "        # for aabb in adyacent:\n",
        "        #     box_dims.append([aabb.xmin,aabb.ymin,aabb.zmin,aabb.xmax,aabb.ymax,aabb.zmax])\n",
        "        # bxplot.plot_container([L,W,H], box_dims)\n",
        "    pass"
      ]
    },
    {
      "attachments": {},
      "cell_type": "markdown",
      "metadata": {
        "id": "7uoXha4GlgGj"
      },
      "source": [
        "# The main code"
      ]
    },
    {
      "cell_type": "code",
      "execution_count": 4,
      "metadata": {
        "colab": {
          "base_uri": "https://localhost:8080/"
        },
        "id": "j43GfNpc5eiS",
        "outputId": "81cbc06a-4aca-4c48-f89b-cd27ac5f0753"
      },
      "outputs": [],
      "source": [
        "\n",
        "from src.base import Itemdict, BlockList, Aabb, Space\n",
        "from src.restrictions import center_of_gravity\n",
        "\n",
        "def MLCP_function(alpha,beta,gamma,delta,p,instance):\n",
        "\n",
        "  start_time = time.time()\n",
        "\n",
        "  params = [alpha,beta,gamma,delta,p]\n",
        "\n",
        "  Space.filling = \"bottom-up\" # spaces are filled from bottom to top\n",
        "  Space.vertical_stability = True # boxes must be completly supported\n",
        "\n",
        "  items, L, W, H, WEIGHT,SUPPORTED_WEIGHT = load_instance(filename = \"src/BR4.txt\", type=\"BF\", id_instance=instance)\n",
        "\n",
        "  cont = Block(l=L,w=W,h=H,weight=WEIGHT,stacking_weight_resistance=SUPPORTED_WEIGHT)\n",
        "\n",
        "  # print(\"generating blocks...\")\n",
        "  blocks = BlockList(items, type=\"general_blocks\", cont=cont, min_fr=1.0, max_bl=1000) \n",
        "\n",
        "  # for x in blocks:\n",
        "  #    print(x.items.values())\n",
        "\n",
        "  # greedy for single CLP\n",
        "  while True:\n",
        "      space = cont.free_space.closest_space() #cuboide mas cercano a un vertice inferior del contenedor\n",
        "\n",
        "      if space is not None:\n",
        "        block = eval.eval_function(blocks,space,params=params,container=cont,items=items)\n",
        "        # print(\"adding block...\", block)\n",
        "        \n",
        "        cont.add_block(block, space)\n",
        "        adyacent_blocks(cont.aabbs,L,W,H)\n",
        "        items -= block.items\n",
        "        blocks.remove_unconstructable(items)\n",
        "        cont.free_space.filter(items)\n",
        "      else:\n",
        "          break\n",
        "\n",
        "  end_time = time.time()\n",
        "\n",
        "  execution_time = end_time - start_time\n",
        "\n",
        "  total_volume = sum([x.volume for x in cont.aabbs])\n",
        "\n",
        "  return cont,execution_time,total_volume\n",
        "\n",
        "  # print(f'tiempo: {execution_time} s ; volumen total: {cont.l * cont.w * cont.h} ; volumen ocupado: {total_volume} ; centro de gravedad: {center_of_gravity(cont)}')\n"
      ]
    },
    {
      "attachments": {},
      "cell_type": "markdown",
      "metadata": {
        "id": "jHxosWYplHgN"
      },
      "source": [
        "# Plot the solution"
      ]
    },
    {
      "cell_type": "code",
      "execution_count": 5,
      "metadata": {
        "colab": {
          "base_uri": "https://localhost:8080/",
          "height": 562
        },
        "id": "CkjIfgmeTSs6",
        "outputId": "71414d7e-c2d6-4d90-8422-d921419051ce"
      },
      "outputs": [
        {
          "data": {
            "application/vnd.plotly.v1+json": {
              "config": {
                "linkText": "Export to plot.ly",
                "plotlyServerURL": "https://plot.ly",
                "showLink": false
              },
              "data": [
                {
                  "color": "rgb(208.64462392227597,73.00306717013066,81.61108412531229)",
                  "i": [
                    7,
                    0,
                    0,
                    0,
                    4,
                    4,
                    2,
                    6,
                    4,
                    0,
                    3,
                    7
                  ],
                  "j": [
                    3,
                    4,
                    1,
                    2,
                    5,
                    6,
                    5,
                    5,
                    0,
                    1,
                    2,
                    2
                  ],
                  "k": [
                    0,
                    7,
                    2,
                    3,
                    6,
                    7,
                    1,
                    2,
                    5,
                    5,
                    7,
                    6
                  ],
                  "opacity": 1,
                  "type": "mesh3d",
                  "x": [
                    0,
                    0,
                    412,
                    412,
                    0,
                    0,
                    412,
                    412
                  ],
                  "y": [
                    0,
                    76,
                    76,
                    0,
                    0,
                    76,
                    76,
                    0
                  ],
                  "z": [
                    0,
                    0,
                    0,
                    0,
                    64,
                    64,
                    64,
                    64
                  ]
                },
                {
                  "color": "rgb(236.46778994917068,4.194621894700185,235.42320492821912)",
                  "i": [
                    7,
                    0,
                    0,
                    0,
                    4,
                    4,
                    2,
                    6,
                    4,
                    0,
                    3,
                    7
                  ],
                  "j": [
                    3,
                    4,
                    1,
                    2,
                    5,
                    6,
                    5,
                    5,
                    0,
                    1,
                    2,
                    2
                  ],
                  "k": [
                    0,
                    7,
                    2,
                    3,
                    6,
                    7,
                    1,
                    2,
                    5,
                    5,
                    7,
                    6
                  ],
                  "opacity": 1,
                  "type": "mesh3d",
                  "x": [
                    0,
                    0,
                    206,
                    206,
                    0,
                    0,
                    206,
                    206
                  ],
                  "y": [
                    81,
                    233,
                    233,
                    81,
                    81,
                    233,
                    233,
                    81
                  ],
                  "z": [
                    0,
                    0,
                    0,
                    0,
                    64,
                    64,
                    64,
                    64
                  ]
                },
                {
                  "color": "rgb(252.2493948146056,35.64301285579163,225.78763891051605)",
                  "i": [
                    7,
                    0,
                    0,
                    0,
                    4,
                    4,
                    2,
                    6,
                    4,
                    0,
                    3,
                    7
                  ],
                  "j": [
                    3,
                    4,
                    1,
                    2,
                    5,
                    6,
                    5,
                    5,
                    0,
                    1,
                    2,
                    2
                  ],
                  "k": [
                    0,
                    7,
                    2,
                    3,
                    6,
                    7,
                    1,
                    2,
                    5,
                    5,
                    7,
                    6
                  ],
                  "opacity": 1,
                  "type": "mesh3d",
                  "x": [
                    415,
                    415,
                    587,
                    587,
                    415,
                    415,
                    587,
                    587
                  ],
                  "y": [
                    0,
                    152,
                    152,
                    0,
                    0,
                    152,
                    152,
                    0
                  ],
                  "z": [
                    0,
                    0,
                    0,
                    0,
                    38,
                    38,
                    38,
                    38
                  ]
                },
                {
                  "color": "rgb(123.56718404300364,173.413637196482,83.56816379968959)",
                  "i": [
                    7,
                    0,
                    0,
                    0,
                    4,
                    4,
                    2,
                    6,
                    4,
                    0,
                    3,
                    7
                  ],
                  "j": [
                    3,
                    4,
                    1,
                    2,
                    5,
                    6,
                    5,
                    5,
                    0,
                    1,
                    2,
                    2
                  ],
                  "k": [
                    0,
                    7,
                    2,
                    3,
                    6,
                    7,
                    1,
                    2,
                    5,
                    5,
                    7,
                    6
                  ],
                  "opacity": 1,
                  "type": "mesh3d",
                  "x": [
                    243,
                    243,
                    587,
                    587,
                    243,
                    243,
                    587,
                    587
                  ],
                  "y": [
                    157,
                    233,
                    233,
                    157,
                    157,
                    233,
                    233,
                    157
                  ],
                  "z": [
                    0,
                    0,
                    0,
                    0,
                    38,
                    38,
                    38,
                    38
                  ]
                },
                {
                  "color": "rgb(118.67972252741009,196.65711540843193,46.42664778785825)",
                  "i": [
                    7,
                    0,
                    0,
                    0,
                    4,
                    4,
                    2,
                    6,
                    4,
                    0,
                    3,
                    7
                  ],
                  "j": [
                    3,
                    4,
                    1,
                    2,
                    5,
                    6,
                    5,
                    5,
                    0,
                    1,
                    2,
                    2
                  ],
                  "k": [
                    0,
                    7,
                    2,
                    3,
                    6,
                    7,
                    1,
                    2,
                    5,
                    5,
                    7,
                    6
                  ],
                  "opacity": 1,
                  "type": "mesh3d",
                  "x": [
                    417,
                    417,
                    587,
                    587,
                    417,
                    417,
                    587,
                    587
                  ],
                  "y": [
                    0,
                    84,
                    84,
                    0,
                    0,
                    84,
                    84,
                    0
                  ],
                  "z": [
                    38,
                    38,
                    38,
                    38,
                    182,
                    182,
                    182,
                    182
                  ]
                },
                {
                  "color": "rgb(205.81676543506126,32.663759764963466,199.60808692646214)",
                  "i": [
                    7,
                    0,
                    0,
                    0,
                    4,
                    4,
                    2,
                    6,
                    4,
                    0,
                    3,
                    7
                  ],
                  "j": [
                    3,
                    4,
                    1,
                    2,
                    5,
                    6,
                    5,
                    5,
                    0,
                    1,
                    2,
                    2
                  ],
                  "k": [
                    0,
                    7,
                    2,
                    3,
                    6,
                    7,
                    1,
                    2,
                    5,
                    5,
                    7,
                    6
                  ],
                  "opacity": 1,
                  "type": "mesh3d",
                  "x": [
                    254,
                    254,
                    587,
                    587,
                    254,
                    254,
                    587,
                    587
                  ],
                  "y": [
                    184,
                    233,
                    233,
                    184,
                    184,
                    233,
                    233,
                    184
                  ],
                  "z": [
                    38,
                    38,
                    38,
                    38,
                    64,
                    64,
                    64,
                    64
                  ]
                },
                {
                  "color": "rgb(115.2093233791073,213.74287917051097,200.1974871350258)",
                  "i": [
                    7,
                    0,
                    0,
                    0,
                    4,
                    4,
                    2,
                    6,
                    4,
                    0,
                    3,
                    7
                  ],
                  "j": [
                    3,
                    4,
                    1,
                    2,
                    5,
                    6,
                    5,
                    5,
                    0,
                    1,
                    2,
                    2
                  ],
                  "k": [
                    0,
                    7,
                    2,
                    3,
                    6,
                    7,
                    1,
                    2,
                    5,
                    5,
                    7,
                    6
                  ],
                  "opacity": 1,
                  "type": "mesh3d",
                  "x": [
                    0,
                    0,
                    280,
                    280,
                    0,
                    0,
                    280,
                    280
                  ],
                  "y": [
                    0,
                    62,
                    62,
                    0,
                    0,
                    62,
                    62,
                    0
                  ],
                  "z": [
                    64,
                    64,
                    64,
                    64,
                    159,
                    159,
                    159,
                    159
                  ]
                },
                {
                  "color": "rgb(61.837810138346505,61.18958499011055,98.6888054962975)",
                  "i": [
                    7,
                    0,
                    0,
                    0,
                    4,
                    4,
                    2,
                    6,
                    4,
                    0,
                    3,
                    7
                  ],
                  "j": [
                    3,
                    4,
                    1,
                    2,
                    5,
                    6,
                    5,
                    5,
                    0,
                    1,
                    2,
                    2
                  ],
                  "k": [
                    0,
                    7,
                    2,
                    3,
                    6,
                    7,
                    1,
                    2,
                    5,
                    5,
                    7,
                    6
                  ],
                  "opacity": 1,
                  "type": "mesh3d",
                  "x": [
                    0,
                    0,
                    124,
                    124,
                    0,
                    0,
                    124,
                    124
                  ],
                  "y": [
                    93,
                    233,
                    233,
                    93,
                    93,
                    233,
                    233,
                    93
                  ],
                  "z": [
                    64,
                    64,
                    64,
                    64,
                    159,
                    159,
                    159,
                    159
                  ]
                },
                {
                  "color": "rgb(78.0307145752869,96.43948272640759,0.24549118881922627)",
                  "i": [
                    7,
                    0,
                    0,
                    0,
                    4,
                    4,
                    2,
                    6,
                    4,
                    0,
                    3,
                    7
                  ],
                  "j": [
                    3,
                    4,
                    1,
                    2,
                    5,
                    6,
                    5,
                    5,
                    0,
                    1,
                    2,
                    2
                  ],
                  "k": [
                    0,
                    7,
                    2,
                    3,
                    6,
                    7,
                    1,
                    2,
                    5,
                    5,
                    7,
                    6
                  ],
                  "opacity": 1,
                  "type": "mesh3d",
                  "x": [
                    254,
                    254,
                    587,
                    587,
                    254,
                    254,
                    587,
                    587
                  ],
                  "y": [
                    184,
                    233,
                    233,
                    184,
                    184,
                    233,
                    233,
                    184
                  ],
                  "z": [
                    64,
                    64,
                    64,
                    64,
                    90,
                    90,
                    90,
                    90
                  ]
                },
                {
                  "color": "rgb(6.148723502842001,184.42199037510997,204.61443032959394)",
                  "i": [
                    7,
                    0,
                    0,
                    0,
                    4,
                    4,
                    2,
                    6,
                    4,
                    0,
                    3,
                    7
                  ],
                  "j": [
                    3,
                    4,
                    1,
                    2,
                    5,
                    6,
                    5,
                    5,
                    0,
                    1,
                    2,
                    2
                  ],
                  "k": [
                    0,
                    7,
                    2,
                    3,
                    6,
                    7,
                    1,
                    2,
                    5,
                    5,
                    7,
                    6
                  ],
                  "opacity": 1,
                  "type": "mesh3d",
                  "x": [
                    244,
                    244,
                    587,
                    587,
                    244,
                    244,
                    587,
                    587
                  ],
                  "y": [
                    159,
                    184,
                    184,
                    159,
                    159,
                    184,
                    184,
                    159
                  ],
                  "z": [
                    38,
                    38,
                    38,
                    38,
                    59,
                    59,
                    59,
                    59
                  ]
                },
                {
                  "color": "rgb(166.01884402496574,96.52822541138002,158.06707614154465)",
                  "i": [
                    7,
                    0,
                    0,
                    0,
                    4,
                    4,
                    2,
                    6,
                    4,
                    0,
                    3,
                    7
                  ],
                  "j": [
                    3,
                    4,
                    1,
                    2,
                    5,
                    6,
                    5,
                    5,
                    0,
                    1,
                    2,
                    2
                  ],
                  "k": [
                    0,
                    7,
                    2,
                    3,
                    6,
                    7,
                    1,
                    2,
                    5,
                    5,
                    7,
                    6
                  ],
                  "opacity": 1,
                  "type": "mesh3d",
                  "x": [
                    254,
                    254,
                    587,
                    587,
                    254,
                    254,
                    587,
                    587
                  ],
                  "y": [
                    184,
                    233,
                    233,
                    184,
                    184,
                    233,
                    233,
                    184
                  ],
                  "z": [
                    90,
                    90,
                    90,
                    90,
                    116,
                    116,
                    116,
                    116
                  ]
                },
                {
                  "color": "rgb(127.74223876858291,182.744569614974,238.2526488344023)",
                  "i": [
                    7,
                    0,
                    0,
                    0,
                    4,
                    4,
                    2,
                    6,
                    4,
                    0,
                    3,
                    7
                  ],
                  "j": [
                    3,
                    4,
                    1,
                    2,
                    5,
                    6,
                    5,
                    5,
                    0,
                    1,
                    2,
                    2
                  ],
                  "k": [
                    0,
                    7,
                    2,
                    3,
                    6,
                    7,
                    1,
                    2,
                    5,
                    5,
                    7,
                    6
                  ],
                  "opacity": 1,
                  "type": "mesh3d",
                  "x": [
                    293,
                    293,
                    587,
                    587,
                    293,
                    293,
                    587,
                    587
                  ],
                  "y": [
                    159,
                    184,
                    184,
                    159,
                    159,
                    184,
                    184,
                    159
                  ],
                  "z": [
                    59,
                    59,
                    59,
                    59,
                    80,
                    80,
                    80,
                    80
                  ]
                },
                {
                  "color": "rgb(23.41987452406218,83.79501586572047,191.8206513015902)",
                  "i": [
                    7,
                    0,
                    0,
                    0,
                    4,
                    4,
                    2,
                    6,
                    4,
                    0,
                    3,
                    7
                  ],
                  "j": [
                    3,
                    4,
                    1,
                    2,
                    5,
                    6,
                    5,
                    5,
                    0,
                    1,
                    2,
                    2
                  ],
                  "k": [
                    0,
                    7,
                    2,
                    3,
                    6,
                    7,
                    1,
                    2,
                    5,
                    5,
                    7,
                    6
                  ],
                  "opacity": 1,
                  "type": "mesh3d",
                  "x": [
                    254,
                    254,
                    587,
                    587,
                    254,
                    254,
                    587,
                    587
                  ],
                  "y": [
                    184,
                    233,
                    233,
                    184,
                    184,
                    233,
                    233,
                    184
                  ],
                  "z": [
                    116,
                    116,
                    116,
                    116,
                    142,
                    142,
                    142,
                    142
                  ]
                },
                {
                  "color": "rgb(241.52611476950972,58.755591466642954,44.63747452905414)",
                  "i": [
                    7,
                    0,
                    0,
                    0,
                    4,
                    4,
                    2,
                    6,
                    4,
                    0,
                    3,
                    7
                  ],
                  "j": [
                    3,
                    4,
                    1,
                    2,
                    5,
                    6,
                    5,
                    5,
                    0,
                    1,
                    2,
                    2
                  ],
                  "k": [
                    0,
                    7,
                    2,
                    3,
                    6,
                    7,
                    1,
                    2,
                    5,
                    5,
                    7,
                    6
                  ],
                  "opacity": 1,
                  "type": "mesh3d",
                  "x": [
                    497,
                    497,
                    587,
                    587,
                    497,
                    497,
                    587,
                    587
                  ],
                  "y": [
                    86,
                    152,
                    152,
                    86,
                    86,
                    152,
                    152,
                    86
                  ],
                  "z": [
                    38,
                    38,
                    38,
                    38,
                    81,
                    81,
                    81,
                    81
                  ]
                },
                {
                  "color": "rgb(226.97717705010422,190.44256210786656,33.18293947514182)",
                  "i": [
                    7,
                    0,
                    0,
                    0,
                    4,
                    4,
                    2,
                    6,
                    4,
                    0,
                    3,
                    7
                  ],
                  "j": [
                    3,
                    4,
                    1,
                    2,
                    5,
                    6,
                    5,
                    5,
                    0,
                    1,
                    2,
                    2
                  ],
                  "k": [
                    0,
                    7,
                    2,
                    3,
                    6,
                    7,
                    1,
                    2,
                    5,
                    5,
                    7,
                    6
                  ],
                  "opacity": 1,
                  "type": "mesh3d",
                  "x": [
                    317,
                    317,
                    587,
                    587,
                    317,
                    317,
                    587,
                    587
                  ],
                  "y": [
                    190,
                    233,
                    233,
                    190,
                    190,
                    233,
                    233,
                    190
                  ],
                  "z": [
                    142,
                    142,
                    142,
                    142,
                    175,
                    175,
                    175,
                    175
                  ]
                },
                {
                  "color": "rgb(201.6168342806146,18.76987009758154,161.057016269434)",
                  "i": [
                    7,
                    0,
                    0,
                    0,
                    4,
                    4,
                    2,
                    6,
                    4,
                    0,
                    3,
                    7
                  ],
                  "j": [
                    3,
                    4,
                    1,
                    2,
                    5,
                    6,
                    5,
                    5,
                    0,
                    1,
                    2,
                    2
                  ],
                  "k": [
                    0,
                    7,
                    2,
                    3,
                    6,
                    7,
                    1,
                    2,
                    5,
                    5,
                    7,
                    6
                  ],
                  "opacity": 1,
                  "type": "mesh3d",
                  "x": [
                    0,
                    0,
                    270,
                    270,
                    0,
                    0,
                    270,
                    270
                  ],
                  "y": [
                    0,
                    43,
                    43,
                    0,
                    0,
                    43,
                    43,
                    0
                  ],
                  "z": [
                    159,
                    159,
                    159,
                    159,
                    192,
                    192,
                    192,
                    192
                  ]
                },
                {
                  "color": "rgb(190.20940145744558,231.87639258944523,56.75317641283077)",
                  "i": [
                    7,
                    0,
                    0,
                    0,
                    4,
                    4,
                    2,
                    6,
                    4,
                    0,
                    3,
                    7
                  ],
                  "j": [
                    3,
                    4,
                    1,
                    2,
                    5,
                    6,
                    5,
                    5,
                    0,
                    1,
                    2,
                    2
                  ],
                  "k": [
                    0,
                    7,
                    2,
                    3,
                    6,
                    7,
                    1,
                    2,
                    5,
                    5,
                    7,
                    6
                  ],
                  "opacity": 1,
                  "type": "mesh3d",
                  "x": [
                    0,
                    0,
                    102,
                    102,
                    0,
                    0,
                    102,
                    102
                  ],
                  "y": [
                    113,
                    233,
                    233,
                    113,
                    113,
                    233,
                    233,
                    113
                  ],
                  "z": [
                    159,
                    159,
                    159,
                    159,
                    200,
                    200,
                    200,
                    200
                  ]
                },
                {
                  "color": "rgb(78.66116043732973,67.91874062829014,151.80303912435454)",
                  "i": [
                    7,
                    0,
                    0,
                    0,
                    4,
                    4,
                    2,
                    6,
                    4,
                    0,
                    3,
                    7
                  ],
                  "j": [
                    3,
                    4,
                    1,
                    2,
                    5,
                    6,
                    5,
                    5,
                    0,
                    1,
                    2,
                    2
                  ],
                  "k": [
                    0,
                    7,
                    2,
                    3,
                    6,
                    7,
                    1,
                    2,
                    5,
                    5,
                    7,
                    6
                  ],
                  "opacity": 1,
                  "type": "mesh3d",
                  "x": [
                    505,
                    505,
                    587,
                    587,
                    505,
                    505,
                    587,
                    587
                  ],
                  "y": [
                    101,
                    152,
                    152,
                    101,
                    101,
                    152,
                    152,
                    101
                  ],
                  "z": [
                    81,
                    81,
                    81,
                    81,
                    141,
                    141,
                    141,
                    141
                  ]
                },
                {
                  "color": "rgb(157.95340288817968,202.133049976315,239.42827991004626)",
                  "i": [
                    7,
                    0,
                    0,
                    0,
                    4,
                    4,
                    2,
                    6,
                    4,
                    0,
                    3,
                    7
                  ],
                  "j": [
                    3,
                    4,
                    1,
                    2,
                    5,
                    6,
                    5,
                    5,
                    0,
                    1,
                    2,
                    2
                  ],
                  "k": [
                    0,
                    7,
                    2,
                    3,
                    6,
                    7,
                    1,
                    2,
                    5,
                    5,
                    7,
                    6
                  ],
                  "opacity": 1,
                  "type": "mesh3d",
                  "x": [
                    395,
                    395,
                    587,
                    587,
                    395,
                    395,
                    587,
                    587
                  ],
                  "y": [
                    197,
                    233,
                    233,
                    197,
                    197,
                    233,
                    233,
                    197
                  ],
                  "z": [
                    175,
                    175,
                    175,
                    175,
                    206,
                    206,
                    206,
                    206
                  ]
                },
                {
                  "color": "rgb(238.62382671812836,11.396555085613636,26.445205605435834)",
                  "i": [
                    7,
                    0,
                    0,
                    0,
                    4,
                    4,
                    2,
                    6,
                    4,
                    0,
                    3,
                    7
                  ],
                  "j": [
                    3,
                    4,
                    1,
                    2,
                    5,
                    6,
                    5,
                    5,
                    0,
                    1,
                    2,
                    2
                  ],
                  "k": [
                    0,
                    7,
                    2,
                    3,
                    6,
                    7,
                    1,
                    2,
                    5,
                    5,
                    7,
                    6
                  ],
                  "opacity": 1,
                  "type": "mesh3d",
                  "x": [
                    443,
                    443,
                    587,
                    587,
                    443,
                    443,
                    587,
                    587
                  ],
                  "y": [
                    0,
                    48,
                    48,
                    0,
                    0,
                    48,
                    48,
                    0
                  ],
                  "z": [
                    182,
                    182,
                    182,
                    182,
                    213,
                    213,
                    213,
                    213
                  ]
                },
                {
                  "color": "rgb(46.10953022155742,106.4644389004353,100.38037857093819)",
                  "i": [
                    7,
                    0,
                    0,
                    0,
                    4,
                    4,
                    2,
                    6,
                    4,
                    0,
                    3,
                    7
                  ],
                  "j": [
                    3,
                    4,
                    1,
                    2,
                    5,
                    6,
                    5,
                    5,
                    0,
                    1,
                    2,
                    2
                  ],
                  "k": [
                    0,
                    7,
                    2,
                    3,
                    6,
                    7,
                    1,
                    2,
                    5,
                    5,
                    7,
                    6
                  ],
                  "opacity": 1,
                  "type": "mesh3d",
                  "x": [
                    124,
                    124,
                    194,
                    194,
                    124,
                    124,
                    194,
                    194
                  ],
                  "y": [
                    109,
                    233,
                    233,
                    109,
                    109,
                    233,
                    233,
                    109
                  ],
                  "z": [
                    64,
                    64,
                    64,
                    64,
                    159,
                    159,
                    159,
                    159
                  ]
                },
                {
                  "color": "rgb(26.272201999863768,106.00516319065822,118.70650567008978)",
                  "i": [
                    7,
                    0,
                    0,
                    0,
                    4,
                    4,
                    2,
                    6,
                    4,
                    0,
                    3,
                    7
                  ],
                  "j": [
                    3,
                    4,
                    1,
                    2,
                    5,
                    6,
                    5,
                    5,
                    0,
                    1,
                    2,
                    2
                  ],
                  "k": [
                    0,
                    7,
                    2,
                    3,
                    6,
                    7,
                    1,
                    2,
                    5,
                    5,
                    7,
                    6
                  ],
                  "opacity": 1,
                  "type": "mesh3d",
                  "x": [
                    425,
                    425,
                    497,
                    497,
                    425,
                    425,
                    497,
                    497
                  ],
                  "y": [
                    104,
                    152,
                    152,
                    104,
                    104,
                    152,
                    152,
                    104
                  ],
                  "z": [
                    38,
                    38,
                    38,
                    38,
                    69,
                    69,
                    69,
                    69
                  ]
                },
                {
                  "color": "rgb(165.66560919626903,10.915534493666843,77.94646863566966)",
                  "i": [
                    7,
                    0,
                    0,
                    0,
                    4,
                    4,
                    2,
                    6,
                    4,
                    0,
                    3,
                    7
                  ],
                  "j": [
                    3,
                    4,
                    1,
                    2,
                    5,
                    6,
                    5,
                    5,
                    0,
                    1,
                    2,
                    2
                  ],
                  "k": [
                    0,
                    7,
                    2,
                    3,
                    6,
                    7,
                    1,
                    2,
                    5,
                    5,
                    7,
                    6
                  ],
                  "opacity": 1,
                  "type": "mesh3d",
                  "x": [
                    515,
                    515,
                    587,
                    587,
                    515,
                    515,
                    587,
                    587
                  ],
                  "y": [
                    104,
                    152,
                    152,
                    104,
                    104,
                    152,
                    152,
                    104
                  ],
                  "z": [
                    141,
                    141,
                    141,
                    141,
                    172,
                    172,
                    172,
                    172
                  ]
                },
                {
                  "color": "rgb(231.63983260776007,236.84836567348162,164.22350948191868)",
                  "i": [
                    7,
                    0,
                    0,
                    0,
                    4,
                    4,
                    2,
                    6,
                    4,
                    0,
                    3,
                    7
                  ],
                  "j": [
                    3,
                    4,
                    1,
                    2,
                    5,
                    6,
                    5,
                    5,
                    0,
                    1,
                    2,
                    2
                  ],
                  "k": [
                    0,
                    7,
                    2,
                    3,
                    6,
                    7,
                    1,
                    2,
                    5,
                    5,
                    7,
                    6
                  ],
                  "opacity": 1,
                  "type": "mesh3d",
                  "x": [
                    288,
                    288,
                    412,
                    412,
                    288,
                    288,
                    412,
                    412
                  ],
                  "y": [
                    0,
                    70,
                    70,
                    0,
                    0,
                    70,
                    70,
                    0
                  ],
                  "z": [
                    64,
                    64,
                    64,
                    64,
                    159,
                    159,
                    159,
                    159
                  ]
                },
                {
                  "color": "rgb(70.22253636534191,175.78762661494306,226.68940603660806)",
                  "i": [
                    7,
                    0,
                    0,
                    0,
                    4,
                    4,
                    2,
                    6,
                    4,
                    0,
                    3,
                    7
                  ],
                  "j": [
                    3,
                    4,
                    1,
                    2,
                    5,
                    6,
                    5,
                    5,
                    0,
                    1,
                    2,
                    2
                  ],
                  "k": [
                    0,
                    7,
                    2,
                    3,
                    6,
                    7,
                    1,
                    2,
                    5,
                    5,
                    7,
                    6
                  ],
                  "opacity": 1,
                  "type": "mesh3d",
                  "x": [
                    426,
                    426,
                    497,
                    497,
                    426,
                    426,
                    497,
                    497
                  ],
                  "y": [
                    104,
                    152,
                    152,
                    104,
                    104,
                    152,
                    152,
                    104
                  ],
                  "z": [
                    69,
                    69,
                    69,
                    69,
                    116,
                    116,
                    116,
                    116
                  ]
                },
                {
                  "color": "rgb(110.43721622720315,201.12765785140078,129.644953204458)",
                  "i": [
                    7,
                    0,
                    0,
                    0,
                    4,
                    4,
                    2,
                    6,
                    4,
                    0,
                    3,
                    7
                  ],
                  "j": [
                    3,
                    4,
                    1,
                    2,
                    5,
                    6,
                    5,
                    5,
                    0,
                    1,
                    2,
                    2
                  ],
                  "k": [
                    0,
                    7,
                    2,
                    3,
                    6,
                    7,
                    1,
                    2,
                    5,
                    5,
                    7,
                    6
                  ],
                  "opacity": 1,
                  "type": "mesh3d",
                  "x": [
                    209,
                    209,
                    415,
                    415,
                    209,
                    209,
                    415,
                    415
                  ],
                  "y": [
                    76,
                    152,
                    152,
                    76,
                    76,
                    152,
                    152,
                    76
                  ],
                  "z": [
                    0,
                    0,
                    0,
                    0,
                    64,
                    64,
                    64,
                    64
                  ]
                },
                {
                  "color": "rgb(56.57921962399203,78.84101412401436,139.3065768132957)",
                  "i": [
                    7,
                    0,
                    0,
                    0,
                    4,
                    4,
                    2,
                    6,
                    4,
                    0,
                    3,
                    7
                  ],
                  "j": [
                    3,
                    4,
                    1,
                    2,
                    5,
                    6,
                    5,
                    5,
                    0,
                    1,
                    2,
                    2
                  ],
                  "k": [
                    0,
                    7,
                    2,
                    3,
                    6,
                    7,
                    1,
                    2,
                    5,
                    5,
                    7,
                    6
                  ],
                  "opacity": 1,
                  "type": "mesh3d",
                  "x": [
                    516,
                    516,
                    587,
                    587,
                    516,
                    516,
                    587,
                    587
                  ],
                  "y": [
                    104,
                    152,
                    152,
                    104,
                    104,
                    152,
                    152,
                    104
                  ],
                  "z": [
                    172,
                    172,
                    172,
                    172,
                    219,
                    219,
                    219,
                    219
                  ]
                },
                {
                  "color": "rgb(142.68459417818815,75.56015056215793,213.25560028409348)",
                  "i": [
                    7,
                    0,
                    0,
                    0,
                    4,
                    4,
                    2,
                    6,
                    4,
                    0,
                    3,
                    7
                  ],
                  "j": [
                    3,
                    4,
                    1,
                    2,
                    5,
                    6,
                    5,
                    5,
                    0,
                    1,
                    2,
                    2
                  ],
                  "k": [
                    0,
                    7,
                    2,
                    3,
                    6,
                    7,
                    1,
                    2,
                    5,
                    5,
                    7,
                    6
                  ],
                  "opacity": 1,
                  "type": "mesh3d",
                  "x": [
                    124,
                    124,
                    173,
                    173,
                    124,
                    124,
                    173,
                    173
                  ],
                  "y": [
                    122,
                    233,
                    233,
                    122,
                    122,
                    233,
                    233,
                    122
                  ],
                  "z": [
                    159,
                    159,
                    159,
                    159,
                    185,
                    185,
                    185,
                    185
                  ]
                },
                {
                  "color": "rgb(214.88129314795663,184.31422689583755,118.79547437829336)",
                  "i": [
                    7,
                    0,
                    0,
                    0,
                    4,
                    4,
                    2,
                    6,
                    4,
                    0,
                    3,
                    7
                  ],
                  "j": [
                    3,
                    4,
                    1,
                    2,
                    5,
                    6,
                    5,
                    5,
                    0,
                    1,
                    2,
                    2
                  ],
                  "k": [
                    0,
                    7,
                    2,
                    3,
                    6,
                    7,
                    1,
                    2,
                    5,
                    5,
                    7,
                    6
                  ],
                  "opacity": 1,
                  "type": "mesh3d",
                  "x": [
                    426,
                    426,
                    497,
                    497,
                    426,
                    426,
                    497,
                    497
                  ],
                  "y": [
                    104,
                    152,
                    152,
                    104,
                    104,
                    152,
                    152,
                    104
                  ],
                  "z": [
                    116,
                    116,
                    116,
                    116,
                    163,
                    163,
                    163,
                    163
                  ]
                },
                {
                  "color": "rgb(110.24813919543105,241.82146480056016,190.47133753725905)",
                  "i": [
                    7,
                    0,
                    0,
                    0,
                    4,
                    4,
                    2,
                    6,
                    4,
                    0,
                    3,
                    7
                  ],
                  "j": [
                    3,
                    4,
                    1,
                    2,
                    5,
                    6,
                    5,
                    5,
                    0,
                    1,
                    2,
                    2
                  ],
                  "k": [
                    0,
                    7,
                    2,
                    3,
                    6,
                    7,
                    1,
                    2,
                    5,
                    5,
                    7,
                    6
                  ],
                  "opacity": 1,
                  "type": "mesh3d",
                  "x": [
                    243,
                    243,
                    415,
                    415,
                    243,
                    243,
                    415,
                    415
                  ],
                  "y": [
                    76,
                    152,
                    152,
                    76,
                    76,
                    152,
                    152,
                    76
                  ],
                  "z": [
                    64,
                    64,
                    64,
                    64,
                    102,
                    102,
                    102,
                    102
                  ]
                },
                {
                  "color": "rgb(156.78779959856857,6.212775891501565,109.08542566841133)",
                  "i": [
                    7,
                    0,
                    0,
                    0,
                    4,
                    4,
                    2,
                    6,
                    4,
                    0,
                    3,
                    7
                  ],
                  "j": [
                    3,
                    4,
                    1,
                    2,
                    5,
                    6,
                    5,
                    5,
                    0,
                    1,
                    2,
                    2
                  ],
                  "k": [
                    0,
                    7,
                    2,
                    3,
                    6,
                    7,
                    1,
                    2,
                    5,
                    5,
                    7,
                    6
                  ],
                  "opacity": 1,
                  "type": "mesh3d",
                  "x": [
                    292,
                    292,
                    412,
                    412,
                    292,
                    292,
                    412,
                    412
                  ],
                  "y": [
                    0,
                    51,
                    51,
                    0,
                    0,
                    51,
                    51,
                    0
                  ],
                  "z": [
                    159,
                    159,
                    159,
                    159,
                    200,
                    200,
                    200,
                    200
                  ]
                },
                {
                  "color": "rgb(217.9485884948944,151.6118936791643,123.70699245463624)",
                  "i": [
                    7,
                    0,
                    0,
                    0,
                    4,
                    4,
                    2,
                    6,
                    4,
                    0,
                    3,
                    7
                  ],
                  "j": [
                    3,
                    4,
                    1,
                    2,
                    5,
                    6,
                    5,
                    5,
                    0,
                    1,
                    2,
                    2
                  ],
                  "k": [
                    0,
                    7,
                    2,
                    3,
                    6,
                    7,
                    1,
                    2,
                    5,
                    5,
                    7,
                    6
                  ],
                  "opacity": 1,
                  "type": "mesh3d",
                  "x": [
                    426,
                    426,
                    497,
                    497,
                    426,
                    426,
                    497,
                    497
                  ],
                  "y": [
                    104,
                    152,
                    152,
                    104,
                    104,
                    152,
                    152,
                    104
                  ],
                  "z": [
                    163,
                    163,
                    163,
                    163,
                    210,
                    210,
                    210,
                    210
                  ]
                },
                {
                  "color": "rgb(85.5798354130007,233.02317782196744,98.37145790643987)",
                  "i": [
                    7,
                    0,
                    0,
                    0,
                    4,
                    4,
                    2,
                    6,
                    4,
                    0,
                    3,
                    7
                  ],
                  "j": [
                    3,
                    4,
                    1,
                    2,
                    5,
                    6,
                    5,
                    5,
                    0,
                    1,
                    2,
                    2
                  ],
                  "k": [
                    0,
                    7,
                    2,
                    3,
                    6,
                    7,
                    1,
                    2,
                    5,
                    5,
                    7,
                    6
                  ],
                  "opacity": 1,
                  "type": "mesh3d",
                  "x": [
                    271,
                    271,
                    415,
                    415,
                    271,
                    271,
                    415,
                    415
                  ],
                  "y": [
                    76,
                    147,
                    147,
                    76,
                    76,
                    147,
                    147,
                    76
                  ],
                  "z": [
                    102,
                    102,
                    102,
                    102,
                    149,
                    149,
                    149,
                    149
                  ]
                },
                {
                  "color": "rgb(175.87156478247255,25.238948339867516,244.3364486885742)",
                  "i": [
                    7,
                    0,
                    0,
                    0,
                    4,
                    4,
                    2,
                    6,
                    4,
                    0,
                    3,
                    7
                  ],
                  "j": [
                    3,
                    4,
                    1,
                    2,
                    5,
                    6,
                    5,
                    5,
                    0,
                    1,
                    2,
                    2
                  ],
                  "k": [
                    0,
                    7,
                    2,
                    3,
                    6,
                    7,
                    1,
                    2,
                    5,
                    5,
                    7,
                    6
                  ],
                  "opacity": 1,
                  "type": "mesh3d",
                  "x": [
                    271,
                    271,
                    415,
                    415,
                    271,
                    271,
                    415,
                    415
                  ],
                  "y": [
                    76,
                    147,
                    147,
                    76,
                    76,
                    147,
                    147,
                    76
                  ],
                  "z": [
                    149,
                    149,
                    149,
                    149,
                    196,
                    196,
                    196,
                    196
                  ]
                }
              ],
              "layout": {
                "autosize": false,
                "margin": {
                  "b": 0,
                  "l": 0,
                  "r": 0,
                  "t": 0
                },
                "paper_bgcolor": "rgba(0,0,0,0)",
                "scene": {
                  "camera": {
                    "center": {
                      "x": 0,
                      "y": 0,
                      "z": 0
                    },
                    "eye": {
                      "x": -2,
                      "y": 2,
                      "z": 1.5
                    },
                    "up": {
                      "x": 0,
                      "y": 0,
                      "z": 1
                    }
                  },
                  "xaxis": {
                    "nticks": 10,
                    "range": [
                      0,
                      587
                    ],
                    "showspikes": false
                  },
                  "yaxis": {
                    "nticks": 5,
                    "range": [
                      0,
                      233
                    ],
                    "showspikes": false
                  },
                  "zaxis": {
                    "nticks": 5,
                    "range": [
                      0,
                      220
                    ],
                    "tickfont": {
                      "size": 15
                    }
                  }
                },
                "template": {
                  "data": {
                    "bar": [
                      {
                        "error_x": {
                          "color": "#2a3f5f"
                        },
                        "error_y": {
                          "color": "#2a3f5f"
                        },
                        "marker": {
                          "line": {
                            "color": "#E5ECF6",
                            "width": 0.5
                          },
                          "pattern": {
                            "fillmode": "overlay",
                            "size": 10,
                            "solidity": 0.2
                          }
                        },
                        "type": "bar"
                      }
                    ],
                    "barpolar": [
                      {
                        "marker": {
                          "line": {
                            "color": "#E5ECF6",
                            "width": 0.5
                          },
                          "pattern": {
                            "fillmode": "overlay",
                            "size": 10,
                            "solidity": 0.2
                          }
                        },
                        "type": "barpolar"
                      }
                    ],
                    "carpet": [
                      {
                        "aaxis": {
                          "endlinecolor": "#2a3f5f",
                          "gridcolor": "white",
                          "linecolor": "white",
                          "minorgridcolor": "white",
                          "startlinecolor": "#2a3f5f"
                        },
                        "baxis": {
                          "endlinecolor": "#2a3f5f",
                          "gridcolor": "white",
                          "linecolor": "white",
                          "minorgridcolor": "white",
                          "startlinecolor": "#2a3f5f"
                        },
                        "type": "carpet"
                      }
                    ],
                    "choropleth": [
                      {
                        "colorbar": {
                          "outlinewidth": 0,
                          "ticks": ""
                        },
                        "type": "choropleth"
                      }
                    ],
                    "contour": [
                      {
                        "colorbar": {
                          "outlinewidth": 0,
                          "ticks": ""
                        },
                        "colorscale": [
                          [
                            0,
                            "#0d0887"
                          ],
                          [
                            0.1111111111111111,
                            "#46039f"
                          ],
                          [
                            0.2222222222222222,
                            "#7201a8"
                          ],
                          [
                            0.3333333333333333,
                            "#9c179e"
                          ],
                          [
                            0.4444444444444444,
                            "#bd3786"
                          ],
                          [
                            0.5555555555555556,
                            "#d8576b"
                          ],
                          [
                            0.6666666666666666,
                            "#ed7953"
                          ],
                          [
                            0.7777777777777778,
                            "#fb9f3a"
                          ],
                          [
                            0.8888888888888888,
                            "#fdca26"
                          ],
                          [
                            1,
                            "#f0f921"
                          ]
                        ],
                        "type": "contour"
                      }
                    ],
                    "contourcarpet": [
                      {
                        "colorbar": {
                          "outlinewidth": 0,
                          "ticks": ""
                        },
                        "type": "contourcarpet"
                      }
                    ],
                    "heatmap": [
                      {
                        "colorbar": {
                          "outlinewidth": 0,
                          "ticks": ""
                        },
                        "colorscale": [
                          [
                            0,
                            "#0d0887"
                          ],
                          [
                            0.1111111111111111,
                            "#46039f"
                          ],
                          [
                            0.2222222222222222,
                            "#7201a8"
                          ],
                          [
                            0.3333333333333333,
                            "#9c179e"
                          ],
                          [
                            0.4444444444444444,
                            "#bd3786"
                          ],
                          [
                            0.5555555555555556,
                            "#d8576b"
                          ],
                          [
                            0.6666666666666666,
                            "#ed7953"
                          ],
                          [
                            0.7777777777777778,
                            "#fb9f3a"
                          ],
                          [
                            0.8888888888888888,
                            "#fdca26"
                          ],
                          [
                            1,
                            "#f0f921"
                          ]
                        ],
                        "type": "heatmap"
                      }
                    ],
                    "heatmapgl": [
                      {
                        "colorbar": {
                          "outlinewidth": 0,
                          "ticks": ""
                        },
                        "colorscale": [
                          [
                            0,
                            "#0d0887"
                          ],
                          [
                            0.1111111111111111,
                            "#46039f"
                          ],
                          [
                            0.2222222222222222,
                            "#7201a8"
                          ],
                          [
                            0.3333333333333333,
                            "#9c179e"
                          ],
                          [
                            0.4444444444444444,
                            "#bd3786"
                          ],
                          [
                            0.5555555555555556,
                            "#d8576b"
                          ],
                          [
                            0.6666666666666666,
                            "#ed7953"
                          ],
                          [
                            0.7777777777777778,
                            "#fb9f3a"
                          ],
                          [
                            0.8888888888888888,
                            "#fdca26"
                          ],
                          [
                            1,
                            "#f0f921"
                          ]
                        ],
                        "type": "heatmapgl"
                      }
                    ],
                    "histogram": [
                      {
                        "marker": {
                          "pattern": {
                            "fillmode": "overlay",
                            "size": 10,
                            "solidity": 0.2
                          }
                        },
                        "type": "histogram"
                      }
                    ],
                    "histogram2d": [
                      {
                        "colorbar": {
                          "outlinewidth": 0,
                          "ticks": ""
                        },
                        "colorscale": [
                          [
                            0,
                            "#0d0887"
                          ],
                          [
                            0.1111111111111111,
                            "#46039f"
                          ],
                          [
                            0.2222222222222222,
                            "#7201a8"
                          ],
                          [
                            0.3333333333333333,
                            "#9c179e"
                          ],
                          [
                            0.4444444444444444,
                            "#bd3786"
                          ],
                          [
                            0.5555555555555556,
                            "#d8576b"
                          ],
                          [
                            0.6666666666666666,
                            "#ed7953"
                          ],
                          [
                            0.7777777777777778,
                            "#fb9f3a"
                          ],
                          [
                            0.8888888888888888,
                            "#fdca26"
                          ],
                          [
                            1,
                            "#f0f921"
                          ]
                        ],
                        "type": "histogram2d"
                      }
                    ],
                    "histogram2dcontour": [
                      {
                        "colorbar": {
                          "outlinewidth": 0,
                          "ticks": ""
                        },
                        "colorscale": [
                          [
                            0,
                            "#0d0887"
                          ],
                          [
                            0.1111111111111111,
                            "#46039f"
                          ],
                          [
                            0.2222222222222222,
                            "#7201a8"
                          ],
                          [
                            0.3333333333333333,
                            "#9c179e"
                          ],
                          [
                            0.4444444444444444,
                            "#bd3786"
                          ],
                          [
                            0.5555555555555556,
                            "#d8576b"
                          ],
                          [
                            0.6666666666666666,
                            "#ed7953"
                          ],
                          [
                            0.7777777777777778,
                            "#fb9f3a"
                          ],
                          [
                            0.8888888888888888,
                            "#fdca26"
                          ],
                          [
                            1,
                            "#f0f921"
                          ]
                        ],
                        "type": "histogram2dcontour"
                      }
                    ],
                    "mesh3d": [
                      {
                        "colorbar": {
                          "outlinewidth": 0,
                          "ticks": ""
                        },
                        "type": "mesh3d"
                      }
                    ],
                    "parcoords": [
                      {
                        "line": {
                          "colorbar": {
                            "outlinewidth": 0,
                            "ticks": ""
                          }
                        },
                        "type": "parcoords"
                      }
                    ],
                    "pie": [
                      {
                        "automargin": true,
                        "type": "pie"
                      }
                    ],
                    "scatter": [
                      {
                        "fillpattern": {
                          "fillmode": "overlay",
                          "size": 10,
                          "solidity": 0.2
                        },
                        "type": "scatter"
                      }
                    ],
                    "scatter3d": [
                      {
                        "line": {
                          "colorbar": {
                            "outlinewidth": 0,
                            "ticks": ""
                          }
                        },
                        "marker": {
                          "colorbar": {
                            "outlinewidth": 0,
                            "ticks": ""
                          }
                        },
                        "type": "scatter3d"
                      }
                    ],
                    "scattercarpet": [
                      {
                        "marker": {
                          "colorbar": {
                            "outlinewidth": 0,
                            "ticks": ""
                          }
                        },
                        "type": "scattercarpet"
                      }
                    ],
                    "scattergeo": [
                      {
                        "marker": {
                          "colorbar": {
                            "outlinewidth": 0,
                            "ticks": ""
                          }
                        },
                        "type": "scattergeo"
                      }
                    ],
                    "scattergl": [
                      {
                        "marker": {
                          "colorbar": {
                            "outlinewidth": 0,
                            "ticks": ""
                          }
                        },
                        "type": "scattergl"
                      }
                    ],
                    "scattermapbox": [
                      {
                        "marker": {
                          "colorbar": {
                            "outlinewidth": 0,
                            "ticks": ""
                          }
                        },
                        "type": "scattermapbox"
                      }
                    ],
                    "scatterpolar": [
                      {
                        "marker": {
                          "colorbar": {
                            "outlinewidth": 0,
                            "ticks": ""
                          }
                        },
                        "type": "scatterpolar"
                      }
                    ],
                    "scatterpolargl": [
                      {
                        "marker": {
                          "colorbar": {
                            "outlinewidth": 0,
                            "ticks": ""
                          }
                        },
                        "type": "scatterpolargl"
                      }
                    ],
                    "scatterternary": [
                      {
                        "marker": {
                          "colorbar": {
                            "outlinewidth": 0,
                            "ticks": ""
                          }
                        },
                        "type": "scatterternary"
                      }
                    ],
                    "surface": [
                      {
                        "colorbar": {
                          "outlinewidth": 0,
                          "ticks": ""
                        },
                        "colorscale": [
                          [
                            0,
                            "#0d0887"
                          ],
                          [
                            0.1111111111111111,
                            "#46039f"
                          ],
                          [
                            0.2222222222222222,
                            "#7201a8"
                          ],
                          [
                            0.3333333333333333,
                            "#9c179e"
                          ],
                          [
                            0.4444444444444444,
                            "#bd3786"
                          ],
                          [
                            0.5555555555555556,
                            "#d8576b"
                          ],
                          [
                            0.6666666666666666,
                            "#ed7953"
                          ],
                          [
                            0.7777777777777778,
                            "#fb9f3a"
                          ],
                          [
                            0.8888888888888888,
                            "#fdca26"
                          ],
                          [
                            1,
                            "#f0f921"
                          ]
                        ],
                        "type": "surface"
                      }
                    ],
                    "table": [
                      {
                        "cells": {
                          "fill": {
                            "color": "#EBF0F8"
                          },
                          "line": {
                            "color": "white"
                          }
                        },
                        "header": {
                          "fill": {
                            "color": "#C8D4E3"
                          },
                          "line": {
                            "color": "white"
                          }
                        },
                        "type": "table"
                      }
                    ]
                  },
                  "layout": {
                    "annotationdefaults": {
                      "arrowcolor": "#2a3f5f",
                      "arrowhead": 0,
                      "arrowwidth": 1
                    },
                    "autotypenumbers": "strict",
                    "coloraxis": {
                      "colorbar": {
                        "outlinewidth": 0,
                        "ticks": ""
                      }
                    },
                    "colorscale": {
                      "diverging": [
                        [
                          0,
                          "#8e0152"
                        ],
                        [
                          0.1,
                          "#c51b7d"
                        ],
                        [
                          0.2,
                          "#de77ae"
                        ],
                        [
                          0.3,
                          "#f1b6da"
                        ],
                        [
                          0.4,
                          "#fde0ef"
                        ],
                        [
                          0.5,
                          "#f7f7f7"
                        ],
                        [
                          0.6,
                          "#e6f5d0"
                        ],
                        [
                          0.7,
                          "#b8e186"
                        ],
                        [
                          0.8,
                          "#7fbc41"
                        ],
                        [
                          0.9,
                          "#4d9221"
                        ],
                        [
                          1,
                          "#276419"
                        ]
                      ],
                      "sequential": [
                        [
                          0,
                          "#0d0887"
                        ],
                        [
                          0.1111111111111111,
                          "#46039f"
                        ],
                        [
                          0.2222222222222222,
                          "#7201a8"
                        ],
                        [
                          0.3333333333333333,
                          "#9c179e"
                        ],
                        [
                          0.4444444444444444,
                          "#bd3786"
                        ],
                        [
                          0.5555555555555556,
                          "#d8576b"
                        ],
                        [
                          0.6666666666666666,
                          "#ed7953"
                        ],
                        [
                          0.7777777777777778,
                          "#fb9f3a"
                        ],
                        [
                          0.8888888888888888,
                          "#fdca26"
                        ],
                        [
                          1,
                          "#f0f921"
                        ]
                      ],
                      "sequentialminus": [
                        [
                          0,
                          "#0d0887"
                        ],
                        [
                          0.1111111111111111,
                          "#46039f"
                        ],
                        [
                          0.2222222222222222,
                          "#7201a8"
                        ],
                        [
                          0.3333333333333333,
                          "#9c179e"
                        ],
                        [
                          0.4444444444444444,
                          "#bd3786"
                        ],
                        [
                          0.5555555555555556,
                          "#d8576b"
                        ],
                        [
                          0.6666666666666666,
                          "#ed7953"
                        ],
                        [
                          0.7777777777777778,
                          "#fb9f3a"
                        ],
                        [
                          0.8888888888888888,
                          "#fdca26"
                        ],
                        [
                          1,
                          "#f0f921"
                        ]
                      ]
                    },
                    "colorway": [
                      "#636efa",
                      "#EF553B",
                      "#00cc96",
                      "#ab63fa",
                      "#FFA15A",
                      "#19d3f3",
                      "#FF6692",
                      "#B6E880",
                      "#FF97FF",
                      "#FECB52"
                    ],
                    "font": {
                      "color": "#2a3f5f"
                    },
                    "geo": {
                      "bgcolor": "white",
                      "lakecolor": "white",
                      "landcolor": "#E5ECF6",
                      "showlakes": true,
                      "showland": true,
                      "subunitcolor": "white"
                    },
                    "hoverlabel": {
                      "align": "left"
                    },
                    "hovermode": "closest",
                    "mapbox": {
                      "style": "light"
                    },
                    "paper_bgcolor": "white",
                    "plot_bgcolor": "#E5ECF6",
                    "polar": {
                      "angularaxis": {
                        "gridcolor": "white",
                        "linecolor": "white",
                        "ticks": ""
                      },
                      "bgcolor": "#E5ECF6",
                      "radialaxis": {
                        "gridcolor": "white",
                        "linecolor": "white",
                        "ticks": ""
                      }
                    },
                    "scene": {
                      "xaxis": {
                        "backgroundcolor": "#E5ECF6",
                        "gridcolor": "white",
                        "gridwidth": 2,
                        "linecolor": "white",
                        "showbackground": true,
                        "ticks": "",
                        "zerolinecolor": "white"
                      },
                      "yaxis": {
                        "backgroundcolor": "#E5ECF6",
                        "gridcolor": "white",
                        "gridwidth": 2,
                        "linecolor": "white",
                        "showbackground": true,
                        "ticks": "",
                        "zerolinecolor": "white"
                      },
                      "zaxis": {
                        "backgroundcolor": "#E5ECF6",
                        "gridcolor": "white",
                        "gridwidth": 2,
                        "linecolor": "white",
                        "showbackground": true,
                        "ticks": "",
                        "zerolinecolor": "white"
                      }
                    },
                    "shapedefaults": {
                      "line": {
                        "color": "#2a3f5f"
                      }
                    },
                    "ternary": {
                      "aaxis": {
                        "gridcolor": "white",
                        "linecolor": "white",
                        "ticks": ""
                      },
                      "baxis": {
                        "gridcolor": "white",
                        "linecolor": "white",
                        "ticks": ""
                      },
                      "bgcolor": "#E5ECF6",
                      "caxis": {
                        "gridcolor": "white",
                        "linecolor": "white",
                        "ticks": ""
                      }
                    },
                    "title": {
                      "x": 0.05
                    },
                    "xaxis": {
                      "automargin": true,
                      "gridcolor": "white",
                      "linecolor": "white",
                      "ticks": "",
                      "title": {
                        "standoff": 15
                      },
                      "zerolinecolor": "white",
                      "zerolinewidth": 2
                    },
                    "yaxis": {
                      "automargin": true,
                      "gridcolor": "white",
                      "linecolor": "white",
                      "ticks": "",
                      "title": {
                        "standoff": 15
                      },
                      "zerolinecolor": "white",
                      "zerolinewidth": 2
                    }
                  }
                }
              }
            }
          },
          "metadata": {},
          "output_type": "display_data"
        }
      ],
      "source": [
        "cont, execution_time,total_volume = MLCP_function(alpha=4.0,beta=1.0,gamma=0.2,delta=0.5,p=0.05,instance=1)\n",
        "\n",
        "L = cont.l;W = cont.w; H = cont.h\n",
        "\n",
        "box_dims = []\n",
        "for aabb in cont.aabbs:\n",
        "  box_dims.append([aabb.xmin,aabb.ymin,aabb.zmin,aabb.xmax,aabb.ymax,aabb.zmax])\n",
        "\n",
        "bxplot.plot_container([L,W,H], box_dims)\n"
      ]
    },
    {
      "cell_type": "code",
      "execution_count": 6,
      "metadata": {},
      "outputs": [],
      "source": [
        "ALPHA = [0.0,1.0,2.0,3.0]\n",
        "BETA = [0.0,1.0,2.0,3.0]\n",
        "GAMMA = [0.0,0.1,0.2,0.3]\n",
        "DELTA = [0.0,0.2,0.4,0.6]\n",
        "P = [0.00,0.01,0.02,0.03]\n",
        "INSTANCE = range(0,100)"
      ]
    },
    {
      "cell_type": "code",
      "execution_count": 7,
      "metadata": {},
      "outputs": [],
      "source": [
        "data = []\n",
        "for i in INSTANCE:\n",
        "    cont, execution_time,total_volume = MLCP_function(alpha=1,beta=0,gamma=0,delta=1,p=0,instance=i)\n",
        "    data.append([i,execution_time,total_volume,center_of_gravity(cont),1,0,0,1,0])\n"
      ]
    },
    {
      "cell_type": "code",
      "execution_count": 8,
      "metadata": {},
      "outputs": [],
      "source": [
        "df = pd.DataFrame(data,columns=['Instancia','Tiempo ejecucion','Volumen Ocupado','Diferencia centro','alpha','beta','gamma','delta','p'])"
      ]
    },
    {
      "cell_type": "code",
      "execution_count": 9,
      "metadata": {},
      "outputs": [
        {
          "data": {
            "text/html": [
              "<div>\n",
              "<style scoped>\n",
              "    .dataframe tbody tr th:only-of-type {\n",
              "        vertical-align: middle;\n",
              "    }\n",
              "\n",
              "    .dataframe tbody tr th {\n",
              "        vertical-align: top;\n",
              "    }\n",
              "\n",
              "    .dataframe thead th {\n",
              "        text-align: right;\n",
              "    }\n",
              "</style>\n",
              "<table border=\"1\" class=\"dataframe\">\n",
              "  <thead>\n",
              "    <tr style=\"text-align: right;\">\n",
              "      <th></th>\n",
              "      <th>Instancia</th>\n",
              "      <th>Tiempo ejecucion</th>\n",
              "      <th>Volumen Ocupado</th>\n",
              "      <th>Diferencia centro</th>\n",
              "      <th>alpha</th>\n",
              "      <th>beta</th>\n",
              "      <th>gamma</th>\n",
              "      <th>delta</th>\n",
              "      <th>p</th>\n",
              "    </tr>\n",
              "  </thead>\n",
              "  <tbody>\n",
              "    <tr>\n",
              "      <th>0</th>\n",
              "      <td>0</td>\n",
              "      <td>0.282001</td>\n",
              "      <td>18912032</td>\n",
              "      <td>47.518903</td>\n",
              "      <td>1</td>\n",
              "      <td>0</td>\n",
              "      <td>0</td>\n",
              "      <td>1</td>\n",
              "      <td>0</td>\n",
              "    </tr>\n",
              "    <tr>\n",
              "      <th>1</th>\n",
              "      <td>1</td>\n",
              "      <td>0.329236</td>\n",
              "      <td>21096513</td>\n",
              "      <td>6.969554</td>\n",
              "      <td>1</td>\n",
              "      <td>0</td>\n",
              "      <td>0</td>\n",
              "      <td>1</td>\n",
              "      <td>0</td>\n",
              "    </tr>\n",
              "    <tr>\n",
              "      <th>2</th>\n",
              "      <td>2</td>\n",
              "      <td>0.291765</td>\n",
              "      <td>16558688</td>\n",
              "      <td>22.283731</td>\n",
              "      <td>1</td>\n",
              "      <td>0</td>\n",
              "      <td>0</td>\n",
              "      <td>1</td>\n",
              "      <td>0</td>\n",
              "    </tr>\n",
              "    <tr>\n",
              "      <th>3</th>\n",
              "      <td>3</td>\n",
              "      <td>0.322071</td>\n",
              "      <td>23117028</td>\n",
              "      <td>12.654180</td>\n",
              "      <td>1</td>\n",
              "      <td>0</td>\n",
              "      <td>0</td>\n",
              "      <td>1</td>\n",
              "      <td>0</td>\n",
              "    </tr>\n",
              "    <tr>\n",
              "      <th>4</th>\n",
              "      <td>4</td>\n",
              "      <td>0.326292</td>\n",
              "      <td>23200512</td>\n",
              "      <td>6.913936</td>\n",
              "      <td>1</td>\n",
              "      <td>0</td>\n",
              "      <td>0</td>\n",
              "      <td>1</td>\n",
              "      <td>0</td>\n",
              "    </tr>\n",
              "    <tr>\n",
              "      <th>...</th>\n",
              "      <td>...</td>\n",
              "      <td>...</td>\n",
              "      <td>...</td>\n",
              "      <td>...</td>\n",
              "      <td>...</td>\n",
              "      <td>...</td>\n",
              "      <td>...</td>\n",
              "      <td>...</td>\n",
              "      <td>...</td>\n",
              "    </tr>\n",
              "    <tr>\n",
              "      <th>95</th>\n",
              "      <td>95</td>\n",
              "      <td>0.310655</td>\n",
              "      <td>25447570</td>\n",
              "      <td>4.089583</td>\n",
              "      <td>1</td>\n",
              "      <td>0</td>\n",
              "      <td>0</td>\n",
              "      <td>1</td>\n",
              "      <td>0</td>\n",
              "    </tr>\n",
              "    <tr>\n",
              "      <th>96</th>\n",
              "      <td>96</td>\n",
              "      <td>0.352191</td>\n",
              "      <td>22229978</td>\n",
              "      <td>9.952073</td>\n",
              "      <td>1</td>\n",
              "      <td>0</td>\n",
              "      <td>0</td>\n",
              "      <td>1</td>\n",
              "      <td>0</td>\n",
              "    </tr>\n",
              "    <tr>\n",
              "      <th>97</th>\n",
              "      <td>97</td>\n",
              "      <td>0.340167</td>\n",
              "      <td>22187372</td>\n",
              "      <td>17.169222</td>\n",
              "      <td>1</td>\n",
              "      <td>0</td>\n",
              "      <td>0</td>\n",
              "      <td>1</td>\n",
              "      <td>0</td>\n",
              "    </tr>\n",
              "    <tr>\n",
              "      <th>98</th>\n",
              "      <td>98</td>\n",
              "      <td>0.365224</td>\n",
              "      <td>22241230</td>\n",
              "      <td>7.104368</td>\n",
              "      <td>1</td>\n",
              "      <td>0</td>\n",
              "      <td>0</td>\n",
              "      <td>1</td>\n",
              "      <td>0</td>\n",
              "    </tr>\n",
              "    <tr>\n",
              "      <th>99</th>\n",
              "      <td>99</td>\n",
              "      <td>0.318501</td>\n",
              "      <td>23781970</td>\n",
              "      <td>14.617952</td>\n",
              "      <td>1</td>\n",
              "      <td>0</td>\n",
              "      <td>0</td>\n",
              "      <td>1</td>\n",
              "      <td>0</td>\n",
              "    </tr>\n",
              "  </tbody>\n",
              "</table>\n",
              "<p>100 rows × 9 columns</p>\n",
              "</div>"
            ],
            "text/plain": [
              "    Instancia  Tiempo ejecucion  Volumen Ocupado  Diferencia centro  alpha  \\\n",
              "0           0          0.282001         18912032          47.518903      1   \n",
              "1           1          0.329236         21096513           6.969554      1   \n",
              "2           2          0.291765         16558688          22.283731      1   \n",
              "3           3          0.322071         23117028          12.654180      1   \n",
              "4           4          0.326292         23200512           6.913936      1   \n",
              "..        ...               ...              ...                ...    ...   \n",
              "95         95          0.310655         25447570           4.089583      1   \n",
              "96         96          0.352191         22229978           9.952073      1   \n",
              "97         97          0.340167         22187372          17.169222      1   \n",
              "98         98          0.365224         22241230           7.104368      1   \n",
              "99         99          0.318501         23781970          14.617952      1   \n",
              "\n",
              "    beta  gamma  delta  p  \n",
              "0      0      0      1  0  \n",
              "1      0      0      1  0  \n",
              "2      0      0      1  0  \n",
              "3      0      0      1  0  \n",
              "4      0      0      1  0  \n",
              "..   ...    ...    ... ..  \n",
              "95     0      0      1  0  \n",
              "96     0      0      1  0  \n",
              "97     0      0      1  0  \n",
              "98     0      0      1  0  \n",
              "99     0      0      1  0  \n",
              "\n",
              "[100 rows x 9 columns]"
            ]
          },
          "execution_count": 9,
          "metadata": {},
          "output_type": "execute_result"
        }
      ],
      "source": [
        "df"
      ]
    },
    {
      "cell_type": "code",
      "execution_count": 10,
      "metadata": {},
      "outputs": [
        {
          "name": "stdout",
          "output_type": "stream",
          "text": [
            "20970470.4  13.90663979210317\n"
          ]
        }
      ],
      "source": [
        "print(f'{df[\"Volumen Ocupado\"].mean()}  {df[\"Diferencia centro\"].mean()}')"
      ]
    },
    {
      "cell_type": "code",
      "execution_count": 11,
      "metadata": {},
      "outputs": [
        {
          "data": {
            "image/png": "[encoded data removed]",
            "text/plain": [
              "<Figure size 640x480 with 1 Axes>"
            ]
          },
          "metadata": {},
          "output_type": "display_data"
        }
      ],
      "source": [
        "import matplotlib.pyplot as plt\n",
        "\n",
        "fig,ax = plt.subplots()\n",
        "ax.plot(df['Instancia'],df['Volumen Ocupado'])\n",
        "plt.savefig('InstanciaVSVolumen.jpg')"
      ]
    },
    {
      "cell_type": "code",
      "execution_count": 12,
      "metadata": {},
      "outputs": [
        {
          "data": {
            "image/png": "[encoded data removed]",
            "text/plain": [
              "<Figure size 640x480 with 1 Axes>"
            ]
          },
          "metadata": {},
          "output_type": "display_data"
        }
      ],
      "source": [
        "fig,ax = plt.subplots()\n",
        "ax.plot(df['Instancia'],df['Diferencia centro'])\n",
        "plt.savefig('InstanciaVSCentro.jpg')"
      ]
    },
    {
      "cell_type": "code",
      "execution_count": 13,
      "metadata": {},
      "outputs": [],
      "source": [
        "df.to_csv('resultados_parametros2.csv')"
      ]
    },
    {
      "cell_type": "code",
      "execution_count": 14,
      "metadata": {},
      "outputs": [
        {
          "data": {
            "application/vnd.plotly.v1+json": {
              "config": {
                "linkText": "Export to plot.ly",
                "plotlyServerURL": "https://plot.ly",
                "showLink": false
              },
              "data": [
                {
                  "color": "rgb(251.39363729689472,93.73331717920898,205.1056462350682)",
                  "i": [
                    7,
                    0,
                    0,
                    0,
                    4,
                    4,
                    2,
                    6,
                    4,
                    0,
                    3,
                    7
                  ],
                  "j": [
                    3,
                    4,
                    1,
                    2,
                    5,
                    6,
                    5,
                    5,
                    0,
                    1,
                    2,
                    2
                  ],
                  "k": [
                    0,
                    7,
                    2,
                    3,
                    6,
                    7,
                    1,
                    2,
                    5,
                    5,
                    7,
                    6
                  ],
                  "opacity": 1,
                  "type": "mesh3d",
                  "x": [
                    0,
                    0,
                    432,
                    432,
                    0,
                    0,
                    432,
                    432
                  ],
                  "y": [
                    0,
                    82,
                    82,
                    0,
                    0,
                    82,
                    82,
                    0
                  ],
                  "z": [
                    0,
                    0,
                    0,
                    0,
                    56,
                    56,
                    56,
                    56
                  ]
                },
                {
                  "color": "rgb(131.35662239484225,27.256934702133456,113.63199606285158)",
                  "i": [
                    7,
                    0,
                    0,
                    0,
                    4,
                    4,
                    2,
                    6,
                    4,
                    0,
                    3,
                    7
                  ],
                  "j": [
                    3,
                    4,
                    1,
                    2,
                    5,
                    6,
                    5,
                    5,
                    0,
                    1,
                    2,
                    2
                  ],
                  "k": [
                    0,
                    7,
                    2,
                    3,
                    6,
                    7,
                    1,
                    2,
                    5,
                    5,
                    7,
                    6
                  ],
                  "opacity": 1,
                  "type": "mesh3d",
                  "x": [
                    0,
                    0,
                    400,
                    400,
                    0,
                    0,
                    400,
                    400
                  ],
                  "y": [
                    144,
                    233,
                    233,
                    144,
                    144,
                    233,
                    233,
                    144
                  ],
                  "z": [
                    0,
                    0,
                    0,
                    0,
                    31,
                    31,
                    31,
                    31
                  ]
                },
                {
                  "color": "rgb(39.641488109600594,146.30800822430746,53.34558017788127)",
                  "i": [
                    7,
                    0,
                    0,
                    0,
                    4,
                    4,
                    2,
                    6,
                    4,
                    0,
                    3,
                    7
                  ],
                  "j": [
                    3,
                    4,
                    1,
                    2,
                    5,
                    6,
                    5,
                    5,
                    0,
                    1,
                    2,
                    2
                  ],
                  "k": [
                    0,
                    7,
                    2,
                    3,
                    6,
                    7,
                    1,
                    2,
                    5,
                    5,
                    7,
                    6
                  ],
                  "opacity": 1,
                  "type": "mesh3d",
                  "x": [
                    435,
                    435,
                    587,
                    587,
                    435,
                    435,
                    587,
                    587
                  ],
                  "y": [
                    0,
                    216,
                    216,
                    0,
                    0,
                    216,
                    216,
                    0
                  ],
                  "z": [
                    0,
                    0,
                    0,
                    0,
                    47,
                    47,
                    47,
                    47
                  ]
                },
                {
                  "color": "rgb(160.85081988768812,240.45578533704247,216.2240371813334)",
                  "i": [
                    7,
                    0,
                    0,
                    0,
                    4,
                    4,
                    2,
                    6,
                    4,
                    0,
                    3,
                    7
                  ],
                  "j": [
                    3,
                    4,
                    1,
                    2,
                    5,
                    6,
                    5,
                    5,
                    0,
                    1,
                    2,
                    2
                  ],
                  "k": [
                    0,
                    7,
                    2,
                    3,
                    6,
                    7,
                    1,
                    2,
                    5,
                    5,
                    7,
                    6
                  ],
                  "opacity": 1,
                  "type": "mesh3d",
                  "x": [
                    0,
                    0,
                    400,
                    400,
                    0,
                    0,
                    400,
                    400
                  ],
                  "y": [
                    144,
                    233,
                    233,
                    144,
                    144,
                    233,
                    233,
                    144
                  ],
                  "z": [
                    31,
                    31,
                    31,
                    31,
                    62,
                    62,
                    62,
                    62
                  ]
                },
                {
                  "color": "rgb(142.30633896687254,91.03160162415672,43.483146129543925)",
                  "i": [
                    7,
                    0,
                    0,
                    0,
                    4,
                    4,
                    2,
                    6,
                    4,
                    0,
                    3,
                    7
                  ],
                  "j": [
                    3,
                    4,
                    1,
                    2,
                    5,
                    6,
                    5,
                    5,
                    0,
                    1,
                    2,
                    2
                  ],
                  "k": [
                    0,
                    7,
                    2,
                    3,
                    6,
                    7,
                    1,
                    2,
                    5,
                    5,
                    7,
                    6
                  ],
                  "opacity": 1,
                  "type": "mesh3d",
                  "x": [
                    435,
                    435,
                    587,
                    587,
                    435,
                    435,
                    587,
                    587
                  ],
                  "y": [
                    0,
                    216,
                    216,
                    0,
                    0,
                    216,
                    216,
                    0
                  ],
                  "z": [
                    47,
                    47,
                    47,
                    47,
                    94,
                    94,
                    94,
                    94
                  ]
                },
                {
                  "color": "rgb(67.058053413524,241.37873417021913,200.3866391598443)",
                  "i": [
                    7,
                    0,
                    0,
                    0,
                    4,
                    4,
                    2,
                    6,
                    4,
                    0,
                    3,
                    7
                  ],
                  "j": [
                    3,
                    4,
                    1,
                    2,
                    5,
                    6,
                    5,
                    5,
                    0,
                    1,
                    2,
                    2
                  ],
                  "k": [
                    0,
                    7,
                    2,
                    3,
                    6,
                    7,
                    1,
                    2,
                    5,
                    5,
                    7,
                    6
                  ],
                  "opacity": 1,
                  "type": "mesh3d",
                  "x": [
                    0,
                    0,
                    432,
                    432,
                    0,
                    0,
                    432,
                    432
                  ],
                  "y": [
                    0,
                    82,
                    82,
                    0,
                    0,
                    82,
                    82,
                    0
                  ],
                  "z": [
                    56,
                    56,
                    56,
                    56,
                    112,
                    112,
                    112,
                    112
                  ]
                },
                {
                  "color": "rgb(2.3160537235248118,11.163717342548154,122.99529872641608)",
                  "i": [
                    7,
                    0,
                    0,
                    0,
                    4,
                    4,
                    2,
                    6,
                    4,
                    0,
                    3,
                    7
                  ],
                  "j": [
                    3,
                    4,
                    1,
                    2,
                    5,
                    6,
                    5,
                    5,
                    0,
                    1,
                    2,
                    2
                  ],
                  "k": [
                    0,
                    7,
                    2,
                    3,
                    6,
                    7,
                    1,
                    2,
                    5,
                    5,
                    7,
                    6
                  ],
                  "opacity": 1,
                  "type": "mesh3d",
                  "x": [
                    0,
                    0,
                    376,
                    376,
                    0,
                    0,
                    376,
                    376
                  ],
                  "y": [
                    155,
                    233,
                    233,
                    155,
                    155,
                    233,
                    233,
                    155
                  ],
                  "z": [
                    62,
                    62,
                    62,
                    62,
                    111,
                    111,
                    111,
                    111
                  ]
                },
                {
                  "color": "rgb(154.36307694434086,91.71433742711659,108.77831608077885)",
                  "i": [
                    7,
                    0,
                    0,
                    0,
                    4,
                    4,
                    2,
                    6,
                    4,
                    0,
                    3,
                    7
                  ],
                  "j": [
                    3,
                    4,
                    1,
                    2,
                    5,
                    6,
                    5,
                    5,
                    0,
                    1,
                    2,
                    2
                  ],
                  "k": [
                    0,
                    7,
                    2,
                    3,
                    6,
                    7,
                    1,
                    2,
                    5,
                    5,
                    7,
                    6
                  ],
                  "opacity": 1,
                  "type": "mesh3d",
                  "x": [
                    0,
                    0,
                    432,
                    432,
                    0,
                    0,
                    432,
                    432
                  ],
                  "y": [
                    82,
                    138,
                    138,
                    82,
                    82,
                    138,
                    138,
                    82
                  ],
                  "z": [
                    0,
                    0,
                    0,
                    0,
                    82,
                    82,
                    82,
                    82
                  ]
                },
                {
                  "color": "rgb(30.931012318390955,165.14941267456504,116.80243149606687)",
                  "i": [
                    7,
                    0,
                    0,
                    0,
                    4,
                    4,
                    2,
                    6,
                    4,
                    0,
                    3,
                    7
                  ],
                  "j": [
                    3,
                    4,
                    1,
                    2,
                    5,
                    6,
                    5,
                    5,
                    0,
                    1,
                    2,
                    2
                  ],
                  "k": [
                    0,
                    7,
                    2,
                    3,
                    6,
                    7,
                    1,
                    2,
                    5,
                    5,
                    7,
                    6
                  ],
                  "opacity": 1,
                  "type": "mesh3d",
                  "x": [
                    435,
                    435,
                    587,
                    587,
                    435,
                    435,
                    587,
                    587
                  ],
                  "y": [
                    0,
                    216,
                    216,
                    0,
                    0,
                    216,
                    216,
                    0
                  ],
                  "z": [
                    94,
                    94,
                    94,
                    94,
                    141,
                    141,
                    141,
                    141
                  ]
                },
                {
                  "color": "rgb(216.26038482911963,229.22436582196178,196.07622105675767)",
                  "i": [
                    7,
                    0,
                    0,
                    0,
                    4,
                    4,
                    2,
                    6,
                    4,
                    0,
                    3,
                    7
                  ],
                  "j": [
                    3,
                    4,
                    1,
                    2,
                    5,
                    6,
                    5,
                    5,
                    0,
                    1,
                    2,
                    2
                  ],
                  "k": [
                    0,
                    7,
                    2,
                    3,
                    6,
                    7,
                    1,
                    2,
                    5,
                    5,
                    7,
                    6
                  ],
                  "opacity": 1,
                  "type": "mesh3d",
                  "x": [
                    0,
                    0,
                    324,
                    324,
                    0,
                    0,
                    324,
                    324
                  ],
                  "y": [
                    157,
                    233,
                    233,
                    157,
                    157,
                    233,
                    233,
                    157
                  ],
                  "z": [
                    111,
                    111,
                    111,
                    111,
                    158,
                    158,
                    158,
                    158
                  ]
                },
                {
                  "color": "rgb(63.297388114837744,13.772956961915288,153.78185777133467)",
                  "i": [
                    7,
                    0,
                    0,
                    0,
                    4,
                    4,
                    2,
                    6,
                    4,
                    0,
                    3,
                    7
                  ],
                  "j": [
                    3,
                    4,
                    1,
                    2,
                    5,
                    6,
                    5,
                    5,
                    0,
                    1,
                    2,
                    2
                  ],
                  "k": [
                    0,
                    7,
                    2,
                    3,
                    6,
                    7,
                    1,
                    2,
                    5,
                    5,
                    7,
                    6
                  ],
                  "opacity": 1,
                  "type": "mesh3d",
                  "x": [
                    0,
                    0,
                    432,
                    432,
                    0,
                    0,
                    432,
                    432
                  ],
                  "y": [
                    0,
                    82,
                    82,
                    0,
                    0,
                    82,
                    82,
                    0
                  ],
                  "z": [
                    112,
                    112,
                    112,
                    112,
                    168,
                    168,
                    168,
                    168
                  ]
                },
                {
                  "color": "rgb(43.158642922745514,102.90647583323086,231.45459777509956)",
                  "i": [
                    7,
                    0,
                    0,
                    0,
                    4,
                    4,
                    2,
                    6,
                    4,
                    0,
                    3,
                    7
                  ],
                  "j": [
                    3,
                    4,
                    1,
                    2,
                    5,
                    6,
                    5,
                    5,
                    0,
                    1,
                    2,
                    2
                  ],
                  "k": [
                    0,
                    7,
                    2,
                    3,
                    6,
                    7,
                    1,
                    2,
                    5,
                    5,
                    7,
                    6
                  ],
                  "opacity": 1,
                  "type": "mesh3d",
                  "x": [
                    439,
                    439,
                    587,
                    587,
                    439,
                    439,
                    587,
                    587
                  ],
                  "y": [
                    0,
                    124,
                    124,
                    0,
                    0,
                    124,
                    124,
                    0
                  ],
                  "z": [
                    141,
                    141,
                    141,
                    141,
                    187,
                    187,
                    187,
                    187
                  ]
                },
                {
                  "color": "rgb(216.3995839351943,240.82127865682997,147.82481803875615)",
                  "i": [
                    7,
                    0,
                    0,
                    0,
                    4,
                    4,
                    2,
                    6,
                    4,
                    0,
                    3,
                    7
                  ],
                  "j": [
                    3,
                    4,
                    1,
                    2,
                    5,
                    6,
                    5,
                    5,
                    0,
                    1,
                    2,
                    2
                  ],
                  "k": [
                    0,
                    7,
                    2,
                    3,
                    6,
                    7,
                    1,
                    2,
                    5,
                    5,
                    7,
                    6
                  ],
                  "opacity": 1,
                  "type": "mesh3d",
                  "x": [
                    0,
                    0,
                    296,
                    296,
                    0,
                    0,
                    296,
                    296
                  ],
                  "y": [
                    171,
                    233,
                    233,
                    171,
                    171,
                    233,
                    233,
                    171
                  ],
                  "z": [
                    158,
                    158,
                    158,
                    158,
                    204,
                    204,
                    204,
                    204
                  ]
                },
                {
                  "color": "rgb(78.47506602774531,214.56634167434865,66.53177872248831)",
                  "i": [
                    7,
                    0,
                    0,
                    0,
                    4,
                    4,
                    2,
                    6,
                    4,
                    0,
                    3,
                    7
                  ],
                  "j": [
                    3,
                    4,
                    1,
                    2,
                    5,
                    6,
                    5,
                    5,
                    0,
                    1,
                    2,
                    2
                  ],
                  "k": [
                    0,
                    7,
                    2,
                    3,
                    6,
                    7,
                    1,
                    2,
                    5,
                    5,
                    7,
                    6
                  ],
                  "opacity": 1,
                  "type": "mesh3d",
                  "x": [
                    439,
                    439,
                    587,
                    587,
                    439,
                    439,
                    587,
                    587
                  ],
                  "y": [
                    124,
                    216,
                    216,
                    124,
                    124,
                    216,
                    216,
                    124
                  ],
                  "z": [
                    141,
                    141,
                    141,
                    141,
                    203,
                    203,
                    203,
                    203
                  ]
                },
                {
                  "color": "rgb(36.345426153488944,192.37746176333138,77.11584281073341)",
                  "i": [
                    7,
                    0,
                    0,
                    0,
                    4,
                    4,
                    2,
                    6,
                    4,
                    0,
                    3,
                    7
                  ],
                  "j": [
                    3,
                    4,
                    1,
                    2,
                    5,
                    6,
                    5,
                    5,
                    0,
                    1,
                    2,
                    2
                  ],
                  "k": [
                    0,
                    7,
                    2,
                    3,
                    6,
                    7,
                    1,
                    2,
                    5,
                    5,
                    7,
                    6
                  ],
                  "opacity": 1,
                  "type": "mesh3d",
                  "x": [
                    0,
                    0,
                    412,
                    412,
                    0,
                    0,
                    412,
                    412
                  ],
                  "y": [
                    82,
                    130,
                    130,
                    82,
                    82,
                    130,
                    130,
                    82
                  ],
                  "z": [
                    82,
                    82,
                    82,
                    82,
                    120,
                    120,
                    120,
                    120
                  ]
                },
                {
                  "color": "rgb(27.462252943718788,112.3069462434904,82.76441021424067)",
                  "i": [
                    7,
                    0,
                    0,
                    0,
                    4,
                    4,
                    2,
                    6,
                    4,
                    0,
                    3,
                    7
                  ],
                  "j": [
                    3,
                    4,
                    1,
                    2,
                    5,
                    6,
                    5,
                    5,
                    0,
                    1,
                    2,
                    2
                  ],
                  "k": [
                    0,
                    7,
                    2,
                    3,
                    6,
                    7,
                    1,
                    2,
                    5,
                    5,
                    7,
                    6
                  ],
                  "opacity": 1,
                  "type": "mesh3d",
                  "x": [
                    0,
                    0,
                    412,
                    412,
                    0,
                    0,
                    412,
                    412
                  ],
                  "y": [
                    0,
                    48,
                    48,
                    0,
                    0,
                    48,
                    48,
                    0
                  ],
                  "z": [
                    168,
                    168,
                    168,
                    168,
                    206,
                    206,
                    206,
                    206
                  ]
                },
                {
                  "color": "rgb(207.82240842331208,51.218318329454966,46.20066617536516)",
                  "i": [
                    7,
                    0,
                    0,
                    0,
                    4,
                    4,
                    2,
                    6,
                    4,
                    0,
                    3,
                    7
                  ],
                  "j": [
                    3,
                    4,
                    1,
                    2,
                    5,
                    6,
                    5,
                    5,
                    0,
                    1,
                    2,
                    2
                  ],
                  "k": [
                    0,
                    7,
                    2,
                    3,
                    6,
                    7,
                    1,
                    2,
                    5,
                    5,
                    7,
                    6
                  ],
                  "opacity": 1,
                  "type": "mesh3d",
                  "x": [
                    443,
                    443,
                    587,
                    587,
                    443,
                    443,
                    587,
                    587
                  ],
                  "y": [
                    0,
                    75,
                    75,
                    0,
                    0,
                    75,
                    75,
                    0
                  ],
                  "z": [
                    187,
                    187,
                    187,
                    187,
                    215,
                    215,
                    215,
                    215
                  ]
                },
                {
                  "color": "rgb(210.00229998697623,109.77788824596938,235.38137614874685)",
                  "i": [
                    7,
                    0,
                    0,
                    0,
                    4,
                    4,
                    2,
                    6,
                    4,
                    0,
                    3,
                    7
                  ],
                  "j": [
                    3,
                    4,
                    1,
                    2,
                    5,
                    6,
                    5,
                    5,
                    0,
                    1,
                    2,
                    2
                  ],
                  "k": [
                    0,
                    7,
                    2,
                    3,
                    6,
                    7,
                    1,
                    2,
                    5,
                    5,
                    7,
                    6
                  ],
                  "opacity": 1,
                  "type": "mesh3d",
                  "x": [
                    0,
                    0,
                    392,
                    392,
                    0,
                    0,
                    392,
                    392
                  ],
                  "y": [
                    82,
                    126,
                    126,
                    82,
                    82,
                    126,
                    126,
                    82
                  ],
                  "z": [
                    120,
                    120,
                    120,
                    120,
                    156,
                    156,
                    156,
                    156
                  ]
                },
                {
                  "color": "rgb(45.22028973233839,193.2380729617583,247.25401207046943)",
                  "i": [
                    7,
                    0,
                    0,
                    0,
                    4,
                    4,
                    2,
                    6,
                    4,
                    0,
                    3,
                    7
                  ],
                  "j": [
                    3,
                    4,
                    1,
                    2,
                    5,
                    6,
                    5,
                    5,
                    0,
                    1,
                    2,
                    2
                  ],
                  "k": [
                    0,
                    7,
                    2,
                    3,
                    6,
                    7,
                    1,
                    2,
                    5,
                    5,
                    7,
                    6
                  ],
                  "opacity": 1,
                  "type": "mesh3d",
                  "x": [
                    0,
                    0,
                    392,
                    392,
                    0,
                    0,
                    392,
                    392
                  ],
                  "y": [
                    82,
                    126,
                    126,
                    82,
                    82,
                    126,
                    126,
                    82
                  ],
                  "z": [
                    156,
                    156,
                    156,
                    156,
                    192,
                    192,
                    192,
                    192
                  ]
                },
                {
                  "color": "rgb(212.59903460394972,76.52492198471201,236.00536617686814)",
                  "i": [
                    7,
                    0,
                    0,
                    0,
                    4,
                    4,
                    2,
                    6,
                    4,
                    0,
                    3,
                    7
                  ],
                  "j": [
                    3,
                    4,
                    1,
                    2,
                    5,
                    6,
                    5,
                    5,
                    0,
                    1,
                    2,
                    2
                  ],
                  "k": [
                    0,
                    7,
                    2,
                    3,
                    6,
                    7,
                    1,
                    2,
                    5,
                    5,
                    7,
                    6
                  ],
                  "opacity": 1,
                  "type": "mesh3d",
                  "x": [
                    452,
                    452,
                    587,
                    587,
                    452,
                    452,
                    587,
                    587
                  ],
                  "y": [
                    75,
                    116,
                    116,
                    75,
                    75,
                    116,
                    116,
                    75
                  ],
                  "z": [
                    187,
                    187,
                    187,
                    187,
                    211,
                    211,
                    211,
                    211
                  ]
                },
                {
                  "color": "rgb(51.97626751696395,100.87730649481661,192.7538055853845)",
                  "i": [
                    7,
                    0,
                    0,
                    0,
                    4,
                    4,
                    2,
                    6,
                    4,
                    0,
                    3,
                    7
                  ],
                  "j": [
                    3,
                    4,
                    1,
                    2,
                    5,
                    6,
                    5,
                    5,
                    0,
                    1,
                    2,
                    2
                  ],
                  "k": [
                    0,
                    7,
                    2,
                    3,
                    6,
                    7,
                    1,
                    2,
                    5,
                    5,
                    7,
                    6
                  ],
                  "opacity": 1,
                  "type": "mesh3d",
                  "x": [
                    0,
                    0,
                    300,
                    300,
                    0,
                    0,
                    300,
                    300
                  ],
                  "y": [
                    82,
                    118,
                    118,
                    82,
                    82,
                    118,
                    118,
                    82
                  ],
                  "z": [
                    192,
                    192,
                    192,
                    192,
                    220,
                    220,
                    220,
                    220
                  ]
                },
                {
                  "color": "rgb(224.93123341180012,1.110208326946533,160.84616139852056)",
                  "i": [
                    7,
                    0,
                    0,
                    0,
                    4,
                    4,
                    2,
                    6,
                    4,
                    0,
                    3,
                    7
                  ],
                  "j": [
                    3,
                    4,
                    1,
                    2,
                    5,
                    6,
                    5,
                    5,
                    0,
                    1,
                    2,
                    2
                  ],
                  "k": [
                    0,
                    7,
                    2,
                    3,
                    6,
                    7,
                    1,
                    2,
                    5,
                    5,
                    7,
                    6
                  ],
                  "opacity": 1,
                  "type": "mesh3d",
                  "x": [
                    327,
                    327,
                    376,
                    376,
                    327,
                    327,
                    376,
                    376
                  ],
                  "y": [
                    155,
                    233,
                    233,
                    155,
                    155,
                    233,
                    233,
                    155
                  ],
                  "z": [
                    111,
                    111,
                    111,
                    111,
                    158,
                    158,
                    158,
                    158
                  ]
                },
                {
                  "color": "rgb(28.02733554253543,190.84815103345258,97.81236465255974)",
                  "i": [
                    7,
                    0,
                    0,
                    0,
                    4,
                    4,
                    2,
                    6,
                    4,
                    0,
                    3,
                    7
                  ],
                  "j": [
                    3,
                    4,
                    1,
                    2,
                    5,
                    6,
                    5,
                    5,
                    0,
                    1,
                    2,
                    2
                  ],
                  "k": [
                    0,
                    7,
                    2,
                    3,
                    6,
                    7,
                    1,
                    2,
                    5,
                    5,
                    7,
                    6
                  ],
                  "opacity": 1,
                  "type": "mesh3d",
                  "x": [
                    331,
                    331,
                    376,
                    376,
                    331,
                    331,
                    376,
                    376
                  ],
                  "y": [
                    161,
                    233,
                    233,
                    161,
                    161,
                    233,
                    233,
                    161
                  ],
                  "z": [
                    158,
                    158,
                    158,
                    158,
                    199,
                    199,
                    199,
                    199
                  ]
                },
                {
                  "color": "rgb(0.3530112577196526,219.60308016368955,136.88584448096046)",
                  "i": [
                    7,
                    0,
                    0,
                    0,
                    4,
                    4,
                    2,
                    6,
                    4,
                    0,
                    3,
                    7
                  ],
                  "j": [
                    3,
                    4,
                    1,
                    2,
                    5,
                    6,
                    5,
                    5,
                    0,
                    1,
                    2,
                    2
                  ],
                  "k": [
                    0,
                    7,
                    2,
                    3,
                    6,
                    7,
                    1,
                    2,
                    5,
                    5,
                    7,
                    6
                  ],
                  "opacity": 1,
                  "type": "mesh3d",
                  "x": [
                    302,
                    302,
                    392,
                    392,
                    302,
                    302,
                    392,
                    392
                  ],
                  "y": [
                    82,
                    123,
                    123,
                    82,
                    82,
                    123,
                    123,
                    82
                  ],
                  "z": [
                    192,
                    192,
                    192,
                    192,
                    216,
                    216,
                    216,
                    216
                  ]
                }
              ],
              "layout": {
                "autosize": false,
                "margin": {
                  "b": 0,
                  "l": 0,
                  "r": 0,
                  "t": 0
                },
                "paper_bgcolor": "rgba(0,0,0,0)",
                "scene": {
                  "camera": {
                    "center": {
                      "x": 0,
                      "y": 0,
                      "z": 0
                    },
                    "eye": {
                      "x": -2,
                      "y": 2,
                      "z": 1.5
                    },
                    "up": {
                      "x": 0,
                      "y": 0,
                      "z": 1
                    }
                  },
                  "xaxis": {
                    "nticks": 10,
                    "range": [
                      0,
                      587
                    ],
                    "showspikes": false
                  },
                  "yaxis": {
                    "nticks": 5,
                    "range": [
                      0,
                      233
                    ],
                    "showspikes": false
                  },
                  "zaxis": {
                    "nticks": 5,
                    "range": [
                      0,
                      220
                    ],
                    "tickfont": {
                      "size": 15
                    }
                  }
                },
                "template": {
                  "data": {
                    "bar": [
                      {
                        "error_x": {
                          "color": "#2a3f5f"
                        },
                        "error_y": {
                          "color": "#2a3f5f"
                        },
                        "marker": {
                          "line": {
                            "color": "#E5ECF6",
                            "width": 0.5
                          },
                          "pattern": {
                            "fillmode": "overlay",
                            "size": 10,
                            "solidity": 0.2
                          }
                        },
                        "type": "bar"
                      }
                    ],
                    "barpolar": [
                      {
                        "marker": {
                          "line": {
                            "color": "#E5ECF6",
                            "width": 0.5
                          },
                          "pattern": {
                            "fillmode": "overlay",
                            "size": 10,
                            "solidity": 0.2
                          }
                        },
                        "type": "barpolar"
                      }
                    ],
                    "carpet": [
                      {
                        "aaxis": {
                          "endlinecolor": "#2a3f5f",
                          "gridcolor": "white",
                          "linecolor": "white",
                          "minorgridcolor": "white",
                          "startlinecolor": "#2a3f5f"
                        },
                        "baxis": {
                          "endlinecolor": "#2a3f5f",
                          "gridcolor": "white",
                          "linecolor": "white",
                          "minorgridcolor": "white",
                          "startlinecolor": "#2a3f5f"
                        },
                        "type": "carpet"
                      }
                    ],
                    "choropleth": [
                      {
                        "colorbar": {
                          "outlinewidth": 0,
                          "ticks": ""
                        },
                        "type": "choropleth"
                      }
                    ],
                    "contour": [
                      {
                        "colorbar": {
                          "outlinewidth": 0,
                          "ticks": ""
                        },
                        "colorscale": [
                          [
                            0,
                            "#0d0887"
                          ],
                          [
                            0.1111111111111111,
                            "#46039f"
                          ],
                          [
                            0.2222222222222222,
                            "#7201a8"
                          ],
                          [
                            0.3333333333333333,
                            "#9c179e"
                          ],
                          [
                            0.4444444444444444,
                            "#bd3786"
                          ],
                          [
                            0.5555555555555556,
                            "#d8576b"
                          ],
                          [
                            0.6666666666666666,
                            "#ed7953"
                          ],
                          [
                            0.7777777777777778,
                            "#fb9f3a"
                          ],
                          [
                            0.8888888888888888,
                            "#fdca26"
                          ],
                          [
                            1,
                            "#f0f921"
                          ]
                        ],
                        "type": "contour"
                      }
                    ],
                    "contourcarpet": [
                      {
                        "colorbar": {
                          "outlinewidth": 0,
                          "ticks": ""
                        },
                        "type": "contourcarpet"
                      }
                    ],
                    "heatmap": [
                      {
                        "colorbar": {
                          "outlinewidth": 0,
                          "ticks": ""
                        },
                        "colorscale": [
                          [
                            0,
                            "#0d0887"
                          ],
                          [
                            0.1111111111111111,
                            "#46039f"
                          ],
                          [
                            0.2222222222222222,
                            "#7201a8"
                          ],
                          [
                            0.3333333333333333,
                            "#9c179e"
                          ],
                          [
                            0.4444444444444444,
                            "#bd3786"
                          ],
                          [
                            0.5555555555555556,
                            "#d8576b"
                          ],
                          [
                            0.6666666666666666,
                            "#ed7953"
                          ],
                          [
                            0.7777777777777778,
                            "#fb9f3a"
                          ],
                          [
                            0.8888888888888888,
                            "#fdca26"
                          ],
                          [
                            1,
                            "#f0f921"
                          ]
                        ],
                        "type": "heatmap"
                      }
                    ],
                    "heatmapgl": [
                      {
                        "colorbar": {
                          "outlinewidth": 0,
                          "ticks": ""
                        },
                        "colorscale": [
                          [
                            0,
                            "#0d0887"
                          ],
                          [
                            0.1111111111111111,
                            "#46039f"
                          ],
                          [
                            0.2222222222222222,
                            "#7201a8"
                          ],
                          [
                            0.3333333333333333,
                            "#9c179e"
                          ],
                          [
                            0.4444444444444444,
                            "#bd3786"
                          ],
                          [
                            0.5555555555555556,
                            "#d8576b"
                          ],
                          [
                            0.6666666666666666,
                            "#ed7953"
                          ],
                          [
                            0.7777777777777778,
                            "#fb9f3a"
                          ],
                          [
                            0.8888888888888888,
                            "#fdca26"
                          ],
                          [
                            1,
                            "#f0f921"
                          ]
                        ],
                        "type": "heatmapgl"
                      }
                    ],
                    "histogram": [
                      {
                        "marker": {
                          "pattern": {
                            "fillmode": "overlay",
                            "size": 10,
                            "solidity": 0.2
                          }
                        },
                        "type": "histogram"
                      }
                    ],
                    "histogram2d": [
                      {
                        "colorbar": {
                          "outlinewidth": 0,
                          "ticks": ""
                        },
                        "colorscale": [
                          [
                            0,
                            "#0d0887"
                          ],
                          [
                            0.1111111111111111,
                            "#46039f"
                          ],
                          [
                            0.2222222222222222,
                            "#7201a8"
                          ],
                          [
                            0.3333333333333333,
                            "#9c179e"
                          ],
                          [
                            0.4444444444444444,
                            "#bd3786"
                          ],
                          [
                            0.5555555555555556,
                            "#d8576b"
                          ],
                          [
                            0.6666666666666666,
                            "#ed7953"
                          ],
                          [
                            0.7777777777777778,
                            "#fb9f3a"
                          ],
                          [
                            0.8888888888888888,
                            "#fdca26"
                          ],
                          [
                            1,
                            "#f0f921"
                          ]
                        ],
                        "type": "histogram2d"
                      }
                    ],
                    "histogram2dcontour": [
                      {
                        "colorbar": {
                          "outlinewidth": 0,
                          "ticks": ""
                        },
                        "colorscale": [
                          [
                            0,
                            "#0d0887"
                          ],
                          [
                            0.1111111111111111,
                            "#46039f"
                          ],
                          [
                            0.2222222222222222,
                            "#7201a8"
                          ],
                          [
                            0.3333333333333333,
                            "#9c179e"
                          ],
                          [
                            0.4444444444444444,
                            "#bd3786"
                          ],
                          [
                            0.5555555555555556,
                            "#d8576b"
                          ],
                          [
                            0.6666666666666666,
                            "#ed7953"
                          ],
                          [
                            0.7777777777777778,
                            "#fb9f3a"
                          ],
                          [
                            0.8888888888888888,
                            "#fdca26"
                          ],
                          [
                            1,
                            "#f0f921"
                          ]
                        ],
                        "type": "histogram2dcontour"
                      }
                    ],
                    "mesh3d": [
                      {
                        "colorbar": {
                          "outlinewidth": 0,
                          "ticks": ""
                        },
                        "type": "mesh3d"
                      }
                    ],
                    "parcoords": [
                      {
                        "line": {
                          "colorbar": {
                            "outlinewidth": 0,
                            "ticks": ""
                          }
                        },
                        "type": "parcoords"
                      }
                    ],
                    "pie": [
                      {
                        "automargin": true,
                        "type": "pie"
                      }
                    ],
                    "scatter": [
                      {
                        "fillpattern": {
                          "fillmode": "overlay",
                          "size": 10,
                          "solidity": 0.2
                        },
                        "type": "scatter"
                      }
                    ],
                    "scatter3d": [
                      {
                        "line": {
                          "colorbar": {
                            "outlinewidth": 0,
                            "ticks": ""
                          }
                        },
                        "marker": {
                          "colorbar": {
                            "outlinewidth": 0,
                            "ticks": ""
                          }
                        },
                        "type": "scatter3d"
                      }
                    ],
                    "scattercarpet": [
                      {
                        "marker": {
                          "colorbar": {
                            "outlinewidth": 0,
                            "ticks": ""
                          }
                        },
                        "type": "scattercarpet"
                      }
                    ],
                    "scattergeo": [
                      {
                        "marker": {
                          "colorbar": {
                            "outlinewidth": 0,
                            "ticks": ""
                          }
                        },
                        "type": "scattergeo"
                      }
                    ],
                    "scattergl": [
                      {
                        "marker": {
                          "colorbar": {
                            "outlinewidth": 0,
                            "ticks": ""
                          }
                        },
                        "type": "scattergl"
                      }
                    ],
                    "scattermapbox": [
                      {
                        "marker": {
                          "colorbar": {
                            "outlinewidth": 0,
                            "ticks": ""
                          }
                        },
                        "type": "scattermapbox"
                      }
                    ],
                    "scatterpolar": [
                      {
                        "marker": {
                          "colorbar": {
                            "outlinewidth": 0,
                            "ticks": ""
                          }
                        },
                        "type": "scatterpolar"
                      }
                    ],
                    "scatterpolargl": [
                      {
                        "marker": {
                          "colorbar": {
                            "outlinewidth": 0,
                            "ticks": ""
                          }
                        },
                        "type": "scatterpolargl"
                      }
                    ],
                    "scatterternary": [
                      {
                        "marker": {
                          "colorbar": {
                            "outlinewidth": 0,
                            "ticks": ""
                          }
                        },
                        "type": "scatterternary"
                      }
                    ],
                    "surface": [
                      {
                        "colorbar": {
                          "outlinewidth": 0,
                          "ticks": ""
                        },
                        "colorscale": [
                          [
                            0,
                            "#0d0887"
                          ],
                          [
                            0.1111111111111111,
                            "#46039f"
                          ],
                          [
                            0.2222222222222222,
                            "#7201a8"
                          ],
                          [
                            0.3333333333333333,
                            "#9c179e"
                          ],
                          [
                            0.4444444444444444,
                            "#bd3786"
                          ],
                          [
                            0.5555555555555556,
                            "#d8576b"
                          ],
                          [
                            0.6666666666666666,
                            "#ed7953"
                          ],
                          [
                            0.7777777777777778,
                            "#fb9f3a"
                          ],
                          [
                            0.8888888888888888,
                            "#fdca26"
                          ],
                          [
                            1,
                            "#f0f921"
                          ]
                        ],
                        "type": "surface"
                      }
                    ],
                    "table": [
                      {
                        "cells": {
                          "fill": {
                            "color": "#EBF0F8"
                          },
                          "line": {
                            "color": "white"
                          }
                        },
                        "header": {
                          "fill": {
                            "color": "#C8D4E3"
                          },
                          "line": {
                            "color": "white"
                          }
                        },
                        "type": "table"
                      }
                    ]
                  },
                  "layout": {
                    "annotationdefaults": {
                      "arrowcolor": "#2a3f5f",
                      "arrowhead": 0,
                      "arrowwidth": 1
                    },
                    "autotypenumbers": "strict",
                    "coloraxis": {
                      "colorbar": {
                        "outlinewidth": 0,
                        "ticks": ""
                      }
                    },
                    "colorscale": {
                      "diverging": [
                        [
                          0,
                          "#8e0152"
                        ],
                        [
                          0.1,
                          "#c51b7d"
                        ],
                        [
                          0.2,
                          "#de77ae"
                        ],
                        [
                          0.3,
                          "#f1b6da"
                        ],
                        [
                          0.4,
                          "#fde0ef"
                        ],
                        [
                          0.5,
                          "#f7f7f7"
                        ],
                        [
                          0.6,
                          "#e6f5d0"
                        ],
                        [
                          0.7,
                          "#b8e186"
                        ],
                        [
                          0.8,
                          "#7fbc41"
                        ],
                        [
                          0.9,
                          "#4d9221"
                        ],
                        [
                          1,
                          "#276419"
                        ]
                      ],
                      "sequential": [
                        [
                          0,
                          "#0d0887"
                        ],
                        [
                          0.1111111111111111,
                          "#46039f"
                        ],
                        [
                          0.2222222222222222,
                          "#7201a8"
                        ],
                        [
                          0.3333333333333333,
                          "#9c179e"
                        ],
                        [
                          0.4444444444444444,
                          "#bd3786"
                        ],
                        [
                          0.5555555555555556,
                          "#d8576b"
                        ],
                        [
                          0.6666666666666666,
                          "#ed7953"
                        ],
                        [
                          0.7777777777777778,
                          "#fb9f3a"
                        ],
                        [
                          0.8888888888888888,
                          "#fdca26"
                        ],
                        [
                          1,
                          "#f0f921"
                        ]
                      ],
                      "sequentialminus": [
                        [
                          0,
                          "#0d0887"
                        ],
                        [
                          0.1111111111111111,
                          "#46039f"
                        ],
                        [
                          0.2222222222222222,
                          "#7201a8"
                        ],
                        [
                          0.3333333333333333,
                          "#9c179e"
                        ],
                        [
                          0.4444444444444444,
                          "#bd3786"
                        ],
                        [
                          0.5555555555555556,
                          "#d8576b"
                        ],
                        [
                          0.6666666666666666,
                          "#ed7953"
                        ],
                        [
                          0.7777777777777778,
                          "#fb9f3a"
                        ],
                        [
                          0.8888888888888888,
                          "#fdca26"
                        ],
                        [
                          1,
                          "#f0f921"
                        ]
                      ]
                    },
                    "colorway": [
                      "#636efa",
                      "#EF553B",
                      "#00cc96",
                      "#ab63fa",
                      "#FFA15A",
                      "#19d3f3",
                      "#FF6692",
                      "#B6E880",
                      "#FF97FF",
                      "#FECB52"
                    ],
                    "font": {
                      "color": "#2a3f5f"
                    },
                    "geo": {
                      "bgcolor": "white",
                      "lakecolor": "white",
                      "landcolor": "#E5ECF6",
                      "showlakes": true,
                      "showland": true,
                      "subunitcolor": "white"
                    },
                    "hoverlabel": {
                      "align": "left"
                    },
                    "hovermode": "closest",
                    "mapbox": {
                      "style": "light"
                    },
                    "paper_bgcolor": "white",
                    "plot_bgcolor": "#E5ECF6",
                    "polar": {
                      "angularaxis": {
                        "gridcolor": "white",
                        "linecolor": "white",
                        "ticks": ""
                      },
                      "bgcolor": "#E5ECF6",
                      "radialaxis": {
                        "gridcolor": "white",
                        "linecolor": "white",
                        "ticks": ""
                      }
                    },
                    "scene": {
                      "xaxis": {
                        "backgroundcolor": "#E5ECF6",
                        "gridcolor": "white",
                        "gridwidth": 2,
                        "linecolor": "white",
                        "showbackground": true,
                        "ticks": "",
                        "zerolinecolor": "white"
                      },
                      "yaxis": {
                        "backgroundcolor": "#E5ECF6",
                        "gridcolor": "white",
                        "gridwidth": 2,
                        "linecolor": "white",
                        "showbackground": true,
                        "ticks": "",
                        "zerolinecolor": "white"
                      },
                      "zaxis": {
                        "backgroundcolor": "#E5ECF6",
                        "gridcolor": "white",
                        "gridwidth": 2,
                        "linecolor": "white",
                        "showbackground": true,
                        "ticks": "",
                        "zerolinecolor": "white"
                      }
                    },
                    "shapedefaults": {
                      "line": {
                        "color": "#2a3f5f"
                      }
                    },
                    "ternary": {
                      "aaxis": {
                        "gridcolor": "white",
                        "linecolor": "white",
                        "ticks": ""
                      },
                      "baxis": {
                        "gridcolor": "white",
                        "linecolor": "white",
                        "ticks": ""
                      },
                      "bgcolor": "#E5ECF6",
                      "caxis": {
                        "gridcolor": "white",
                        "linecolor": "white",
                        "ticks": ""
                      }
                    },
                    "title": {
                      "x": 0.05
                    },
                    "xaxis": {
                      "automargin": true,
                      "gridcolor": "white",
                      "linecolor": "white",
                      "ticks": "",
                      "title": {
                        "standoff": 15
                      },
                      "zerolinecolor": "white",
                      "zerolinewidth": 2
                    },
                    "yaxis": {
                      "automargin": true,
                      "gridcolor": "white",
                      "linecolor": "white",
                      "ticks": "",
                      "title": {
                        "standoff": 15
                      },
                      "zerolinecolor": "white",
                      "zerolinewidth": 2
                    }
                  }
                }
              }
            }
          },
          "metadata": {},
          "output_type": "display_data"
        }
      ],
      "source": [
        "# cont, execution_time,total_volume = MLCP_function(alpha=1,beta=0.0,gamma=0,delta=0,p=0,instance=2)\n",
        "# cont, execution_time,total_volume = MLCP_function(alpha=1.0,beta=3.0,gamma=0.1,delta=0.2,p=0.02,instance=2)\n",
        "\n",
        "L = cont.l;W = cont.w; H = cont.h\n",
        "\n",
        "box_dims = []\n",
        "for aabb in cont.aabbs:\n",
        "  box_dims.append([aabb.xmin,aabb.ymin,aabb.zmin,aabb.xmax,aabb.ymax,aabb.zmax])\n",
        "\n",
        "bxplot.plot_container([L,W,H], box_dims)\n"
      ]
    },
    {
      "cell_type": "code",
      "execution_count": 15,
      "metadata": {},
      "outputs": [],
      "source": [
        "data = []\n",
        "for i in INSTANCE:\n",
        "    cont, execution_time,total_volume = MLCP_function(alpha=1.0,beta=3.0,gamma=0.1,delta=0.2,p=0.02,instance=i)\n",
        "    data.append([i,execution_time,total_volume,center_of_gravity(cont),1,0,0,1,0])"
      ]
    },
    {
      "cell_type": "code",
      "execution_count": 16,
      "metadata": {},
      "outputs": [],
      "source": [
        "df_2 = pd.DataFrame(data,columns=['Instancia','Tiempo ejecucion','Volumen Ocupado','Diferencia centro','alpha','beta','gamma','delta','p'])"
      ]
    },
    {
      "cell_type": "code",
      "execution_count": 17,
      "metadata": {},
      "outputs": [
        {
          "name": "stdout",
          "output_type": "stream",
          "text": [
            "15563339.0  18.855727778656206\n"
          ]
        }
      ],
      "source": [
        "print(f'{df_2[\"Volumen Ocupado\"].mean()}  {df_2[\"Diferencia centro\"].mean()}')"
      ]
    },
    {
      "cell_type": "code",
      "execution_count": 18,
      "metadata": {},
      "outputs": [
        {
          "data": {
            "image/png": "[encoded data removed]",
            "text/plain": [
              "<Figure size 640x480 with 1 Axes>"
            ]
          },
          "metadata": {},
          "output_type": "display_data"
        }
      ],
      "source": [
        "import matplotlib.pyplot as plt\n",
        "\n",
        "fig,ax = plt.subplots()\n",
        "ax.plot(df['Instancia'],df['Volumen Ocupado'],label='CS + R')\n",
        "ax.plot(df_2['Instancia'],df_2['Volumen Ocupado'],label='VCS + R')\n",
        "plt.title('Volumen ocupado por instancia')\n",
        "plt.xlabel('Instancias')\n",
        "plt.ylabel('Volumen ocupado')\n",
        "fig.legend()\n",
        "plt.savefig('InstanciaVSVolumen.jpg')"
      ]
    },
    {
      "cell_type": "code",
      "execution_count": 19,
      "metadata": {},
      "outputs": [
        {
          "data": {
            "image/png": "[encoded data removed]",
            "text/plain": [
              "<Figure size 640x480 with 1 Axes>"
            ]
          },
          "metadata": {},
          "output_type": "display_data"
        }
      ],
      "source": [
        "fig,ax = plt.subplots()\n",
        "ax.plot(df['Instancia'],df['Diferencia centro'],label='CS + R')\n",
        "ax.plot(df_2['Instancia'],df_2['Diferencia centro'],label = 'VCS + R')\n",
        "plt.xlabel('Instancias')\n",
        "plt.ylabel('Distancia centro')\n",
        "plt.title('Distancia centro por instancia')\n",
        "fig.legend()\n",
        "plt.savefig('InstanciaVSCentro.jpg')"
      ]
    },
    {
      "cell_type": "code",
      "execution_count": 20,
      "metadata": {},
      "outputs": [
        {
          "data": {
            "image/png": "[encoded data removed]",
            "text/plain": [
              "<Figure size 640x480 with 1 Axes>"
            ]
          },
          "metadata": {},
          "output_type": "display_data"
        }
      ],
      "source": [
        "fig,ax = plt.subplots()\n",
        "ax.plot(df['Instancia'],df['Tiempo ejecucion'],label='CS + R')\n",
        "ax.plot(df_2['Instancia'],df_2['Tiempo ejecucion'],label = 'VCS + R')\n",
        "\n",
        "plt.xlabel('Instancias')\n",
        "plt.ylabel('Tiempo ejecución')\n",
        "plt.title('Tiempo de ejecución por instancia')\n",
        "fig.legend()\n",
        "plt.savefig('InstanciaVSTiempo.jpg')"
      ]
    }
  ],
  "metadata": {
    "colab": {
      "provenance": []
    },
    "kernelspec": {
      "display_name": "Python 3",
      "name": "python3"
    },
    "language_info": {
      "codemirror_mode": {
        "name": "ipython",
        "version": 3
      },
      "file_extension": ".py",
      "mimetype": "text/x-python",
      "name": "python",
      "nbconvert_exporter": "python",
      "pygments_lexer": "ipython3",
      "version": "3.10.11"
    }
  },
  "nbformat": 4,
  "nbformat_minor": 0
}
