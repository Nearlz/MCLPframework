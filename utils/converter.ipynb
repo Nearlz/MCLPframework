{
 "cells": [
  {
   "cell_type": "code",
   "execution_count": 4,
   "metadata": {},
   "outputs": [],
   "source": [
    "import numpy as np\n",
    "import pandas as pd\n",
    "import random\n",
    "import os"
   ]
  },
  {
   "cell_type": "code",
   "execution_count": 5,
   "metadata": {},
   "outputs": [
    {
     "name": "stdout",
     "output_type": "stream",
     "text": [
      "['BR0.txt', 'BR1.txt', 'BR10.txt', 'BR11.txt', 'BR12.txt', 'BR13.txt', 'BR14.txt', 'BR15.txt', 'BR4.txt']\n"
     ]
    }
   ],
   "source": [
    "path = './data/'\n",
    "new_path = './new_data/'\n",
    "for root,dirs,files in os.walk(path):\n",
    "    print(files)"
   ]
  },
  {
   "cell_type": "code",
   "execution_count": 6,
   "metadata": {},
   "outputs": [],
   "source": [
    "for item in files:\n",
    "    with open(path+item, \"r\") as file:\n",
    "        with open(new_path+item,'w') as new:\n",
    "                    #discard first line\n",
    "            new.write(file.readline())\n",
    "        \n",
    "            for j in range(100):\n",
    "                new.write(file.readline())\n",
    "                L, W, H = [int(x) for x in file.readline().split()]\n",
    "                WEIGHT = int(L * W * H * random.uniform(0.6,0.9))\n",
    "                \n",
    "                # new.write(L+' '+W+' '+H)\n",
    "                new.write(f' {L} {W} {H} {WEIGHT}\\n')\n",
    "\n",
    "                #read second line\n",
    "                n = int(file.readline())\n",
    "                new.write(f' {n}\\n')\n",
    "                #read n lines\n",
    "\n",
    "                for i in range(n):\n",
    "                    id, l, rotx, w, roty, h, rotz, n = [int(x) for x in file.readline().split()]\n",
    "                    weight = int(l * w * h * random.uniform(0.6,0.9))\n",
    "                    weight_s = int(weight*2)\n",
    "                    new.write(f' {id} {l} {rotx} {w} {roty} {h} {rotz} {n} {weight} {weight_s}\\n')"
   ]
  }
 ],
 "metadata": {
  "kernelspec": {
   "display_name": "Python 3",
   "language": "python",
   "name": "python3"
  },
  "language_info": {
   "codemirror_mode": {
    "name": "ipython",
    "version": 3
   },
   "file_extension": ".py",
   "mimetype": "text/x-python",
   "name": "python",
   "nbconvert_exporter": "python",
   "pygments_lexer": "ipython3",
   "version": "3.10.11"
  },
  "orig_nbformat": 4
 },
 "nbformat": 4,
 "nbformat_minor": 2
}
