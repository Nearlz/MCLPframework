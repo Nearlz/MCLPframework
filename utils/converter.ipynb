{
 "cells": [
  {
   "cell_type": "code",
   "execution_count": 1,
   "metadata": {},
   "outputs": [],
   "source": [
    "import numpy as np\n",
    "import pandas as pd\n",
    "import random\n",
    "import os"
   ]
  },
  {
   "cell_type": "code",
   "execution_count": 2,
   "metadata": {},
   "outputs": [
    {
     "name": "stdout",
     "output_type": "stream",
     "text": [
      "['BR4.txt']\n"
     ]
    }
   ],
   "source": [
    "path = './data/'\n",
    "new_path = './new_data/'\n",
    "for root,dirs,files in os.walk(path):\n",
    "    print(files)"
   ]
  },
  {
   "cell_type": "code",
   "execution_count": 3,
   "metadata": {},
   "outputs": [],
   "source": [
    "for item in files:\n",
    "    with open(path+item, \"r\") as file:\n",
    "        with open(new_path+item,'w') as new:\n",
    "                    #discard first line\n",
    "            new.write(file.readline())\n",
    "            for j in range(100):\n",
    "                new.write(file.readline())\n",
    "                L, W, H = [int(x) for x in file.readline().split()]\n",
    "                WEIGHT = int(L * W * H * random.uniform(0.4,0.6))\n",
    "                SUPPORTED_WEIGHT = int(WEIGHT * random.uniform(6, 10))\n",
    "                \n",
    "                # new.write(L+' '+W+' '+H)\n",
    "                new.write(f' {L} {W} {H} {WEIGHT} {SUPPORTED_WEIGHT}\\n')\n",
    "\n",
    "                #read second line\n",
    "                n = int(file.readline())\n",
    "                new.write(f' {n}\\n')\n",
    "                #read n lines\n",
    "\n",
    "                for i in range(n):\n",
    "                    id, l, rotx, w, roty, h, rotz, n = [int(x) for x in file.readline().split()]\n",
    "                    weight = int(l * w * h * random.uniform(0.4,0.6))\n",
    "                    weight_s = int(weight * random.uniform(6, 10))\n",
    "                    new.write(f' {id} {l} {rotx} {w} {roty} {h} {rotz} {n} {weight} {weight_s}\\n')"
   ]
  },
  {
   "cell_type": "code",
   "execution_count": 4,
   "metadata": {},
   "outputs": [
    {
     "ename": "ValueError",
     "evalue": "too many values to unpack (expected 4)",
     "output_type": "error",
     "traceback": [
      "\u001b[1;31m---------------------------------------------------------------------------\u001b[0m",
      "\u001b[1;31mValueError\u001b[0m                                Traceback (most recent call last)",
      "\u001b[1;32mc:\\Users\\patri\\OneDrive\\Desktop\\Mi Carpeta\\Programming\\MCLPframework\\utils\\converter.ipynb Cell 4\u001b[0m line \u001b[0;36m3\n\u001b[0;32m     <a href='vscode-notebook-cell:/c%3A/Users/patri/OneDrive/Desktop/Mi%20Carpeta/Programming/MCLPframework/utils/converter.ipynb#W3sZmlsZQ%3D%3D?line=25'>26</a>\u001b[0m                             stacking_weight_resistance \u001b[39m=\u001b[39m \u001b[39mint\u001b[39m(weight_s \u001b[39m*\u001b[39m random\u001b[39m.\u001b[39muniform(\u001b[39m0.6\u001b[39m, \u001b[39m4\u001b[39m))\n\u001b[0;32m     <a href='vscode-notebook-cell:/c%3A/Users/patri/OneDrive/Desktop/Mi%20Carpeta/Programming/MCLPframework/utils/converter.ipynb#W3sZmlsZQ%3D%3D?line=27'>28</a>\u001b[0m                             new\u001b[39m.\u001b[39mwrite(\u001b[39mf\u001b[39m\u001b[39m'\u001b[39m\u001b[39m \u001b[39m\u001b[39m{\u001b[39;00m\u001b[39mid\u001b[39m\u001b[39m}\u001b[39;00m\u001b[39m \u001b[39m\u001b[39m{\u001b[39;00ml\u001b[39m}\u001b[39;00m\u001b[39m \u001b[39m\u001b[39m{\u001b[39;00mrotx\u001b[39m}\u001b[39;00m\u001b[39m \u001b[39m\u001b[39m{\u001b[39;00mw\u001b[39m}\u001b[39;00m\u001b[39m \u001b[39m\u001b[39m{\u001b[39;00mroty\u001b[39m}\u001b[39;00m\u001b[39m \u001b[39m\u001b[39m{\u001b[39;00mh\u001b[39m}\u001b[39;00m\u001b[39m \u001b[39m\u001b[39m{\u001b[39;00mrotz\u001b[39m}\u001b[39;00m\u001b[39m \u001b[39m\u001b[39m{\u001b[39;00mn\u001b[39m}\u001b[39;00m\u001b[39m \u001b[39m\u001b[39m{\u001b[39;00mweight\u001b[39m}\u001b[39;00m\u001b[39m \u001b[39m\u001b[39m{\u001b[39;00mweight_s\u001b[39m}\u001b[39;00m\u001b[39m \u001b[39m\u001b[39m{\u001b[39;00mstacking_weight_resistance\u001b[39m}\u001b[39;00m\u001b[39m\\n\u001b[39;00m\u001b[39m'\u001b[39m)\n\u001b[1;32m---> <a href='vscode-notebook-cell:/c%3A/Users/patri/OneDrive/Desktop/Mi%20Carpeta/Programming/MCLPframework/utils/converter.ipynb#W3sZmlsZQ%3D%3D?line=29'>30</a>\u001b[0m add_stacking_weight_resistance()\n",
      "\u001b[1;32mc:\\Users\\patri\\OneDrive\\Desktop\\Mi Carpeta\\Programming\\MCLPframework\\utils\\converter.ipynb Cell 4\u001b[0m line \u001b[0;36m1\n\u001b[0;32m     <a href='vscode-notebook-cell:/c%3A/Users/patri/OneDrive/Desktop/Mi%20Carpeta/Programming/MCLPframework/utils/converter.ipynb#W3sZmlsZQ%3D%3D?line=13'>14</a>\u001b[0m \u001b[39mfor\u001b[39;00m j \u001b[39min\u001b[39;00m \u001b[39mrange\u001b[39m(\u001b[39m100\u001b[39m):\n\u001b[0;32m     <a href='vscode-notebook-cell:/c%3A/Users/patri/OneDrive/Desktop/Mi%20Carpeta/Programming/MCLPframework/utils/converter.ipynb#W3sZmlsZQ%3D%3D?line=14'>15</a>\u001b[0m     new\u001b[39m.\u001b[39mwrite(file\u001b[39m.\u001b[39mreadline())\n\u001b[1;32m---> <a href='vscode-notebook-cell:/c%3A/Users/patri/OneDrive/Desktop/Mi%20Carpeta/Programming/MCLPframework/utils/converter.ipynb#W3sZmlsZQ%3D%3D?line=15'>16</a>\u001b[0m     L, W, H, weight \u001b[39m=\u001b[39m [\u001b[39mint\u001b[39m(x) \u001b[39mfor\u001b[39;00m x \u001b[39min\u001b[39;00m file\u001b[39m.\u001b[39mreadline()\u001b[39m.\u001b[39msplit()]\n\u001b[0;32m     <a href='vscode-notebook-cell:/c%3A/Users/patri/OneDrive/Desktop/Mi%20Carpeta/Programming/MCLPframework/utils/converter.ipynb#W3sZmlsZQ%3D%3D?line=16'>17</a>\u001b[0m     stacking_weight_resistance \u001b[39m=\u001b[39m \u001b[39mint\u001b[39m(weight \u001b[39m*\u001b[39m random\u001b[39m.\u001b[39muniform(\u001b[39m0.8\u001b[39m, \u001b[39m4\u001b[39m)) \u001b[39m#ver si se cambia el criterio de resistencia\u001b[39;00m\n\u001b[0;32m     <a href='vscode-notebook-cell:/c%3A/Users/patri/OneDrive/Desktop/Mi%20Carpeta/Programming/MCLPframework/utils/converter.ipynb#W3sZmlsZQ%3D%3D?line=18'>19</a>\u001b[0m     new\u001b[39m.\u001b[39mwrite(\u001b[39mf\u001b[39m\u001b[39m'\u001b[39m\u001b[39m \u001b[39m\u001b[39m{\u001b[39;00mL\u001b[39m}\u001b[39;00m\u001b[39m \u001b[39m\u001b[39m{\u001b[39;00mW\u001b[39m}\u001b[39;00m\u001b[39m \u001b[39m\u001b[39m{\u001b[39;00mH\u001b[39m}\u001b[39;00m\u001b[39m \u001b[39m\u001b[39m{\u001b[39;00mweight\u001b[39m}\u001b[39;00m\u001b[39m \u001b[39m\u001b[39m{\u001b[39;00mstacking_weight_resistance\u001b[39m}\u001b[39;00m\u001b[39m\\n\u001b[39;00m\u001b[39m'\u001b[39m)\n",
      "\u001b[1;31mValueError\u001b[0m: too many values to unpack (expected 4)"
     ]
    }
   ],
   "source": [
    "def add_stacking_weight_resistance():\n",
    "    path = './new_data/'\n",
    "    new_path = './new_data_stacking/'\n",
    "    \n",
    "    if not os.path.exists(new_path):\n",
    "        os.makedirs(new_path)\n",
    "    \n",
    "    for root, dirs, files in os.walk(path):\n",
    "        for item in files:\n",
    "            with open(path + item, \"r\") as file:\n",
    "                with open(new_path + item, 'w') as new:\n",
    "                    new.write(file.readline())\n",
    "                    \n",
    "                    for j in range(100):\n",
    "                        new.write(file.readline())\n",
    "                        L, W, H, weight = [int(x) for x in file.readline().split()]\n",
    "                        stacking_weight_resistance = int(weight * random.uniform(0.8, 4)) #ver si se cambia el criterio de resistencia\n",
    "                        \n",
    "                        new.write(f' {L} {W} {H} {weight} {stacking_weight_resistance}\\n')\n",
    "\n",
    "                        n = int(file.readline())\n",
    "                        new.write(f' {n}\\n')\n",
    "                        \n",
    "                        for i in range(n):\n",
    "                            id, l, rotx, w, roty, h, rotz, n, weight, weight_s = [int(x) for x in file.readline().split()]\n",
    "                            stacking_weight_resistance = int(weight_s * random.uniform(0.6, 4))\n",
    "                            \n",
    "                            new.write(f' {id} {l} {rotx} {w} {roty} {h} {rotz} {n} {weight} {weight_s} {stacking_weight_resistance}\\n')\n",
    "\n",
    "add_stacking_weight_resistance()\n"
   ]
  }
 ],
 "metadata": {
  "kernelspec": {
   "display_name": "Python 3",
   "language": "python",
   "name": "python3"
  },
  "language_info": {
   "codemirror_mode": {
    "name": "ipython",
    "version": 3
   },
   "file_extension": ".py",
   "mimetype": "text/x-python",
   "name": "python",
   "nbconvert_exporter": "python",
   "pygments_lexer": "ipython3",
   "version": "3.11.6"
  },
  "orig_nbformat": 4
 },
 "nbformat": 4,
 "nbformat_minor": 2
}
