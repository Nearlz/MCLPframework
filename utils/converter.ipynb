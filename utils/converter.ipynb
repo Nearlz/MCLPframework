{
 "cells": [
  {
   "cell_type": "code",
   "execution_count": 1,
   "metadata": {},
   "outputs": [],
   "source": [
    "import numpy as np\n",
    "import pandas as pd\n",
    "import random\n",
    "import os"
   ]
  },
  {
   "cell_type": "code",
   "execution_count": 2,
   "metadata": {},
   "outputs": [
    {
     "name": "stdout",
     "output_type": "stream",
     "text": [
      "['BR0.txt', 'BR1.txt', 'BR10.txt', 'BR11.txt', 'BR12.txt', 'BR13.txt', 'BR14.txt', 'BR15.txt', 'BR4.txt']\n"
     ]
    }
   ],
   "source": [
    "path = './data/'\n",
    "new_path = './new_data/'\n",
    "for root,dirs,files in os.walk(path):\n",
    "    print(files)"
   ]
  },
  {
   "cell_type": "code",
   "execution_count": 3,
   "metadata": {},
   "outputs": [],
   "source": [
    "for item in files:\n",
    "    with open(path+item, \"r\") as file:\n",
    "        with open(new_path+item,'w') as new:\n",
    "                    #discard first line\n",
    "            new.write(file.readline())\n",
    "            for j in range(100):\n",
    "                new.write(file.readline())\n",
    "                L, W, H = [int(x) for x in file.readline().split()]\n",
    "                WEIGHT = int(L * W * H * random.uniform(0.6,0.9))\n",
    "                SUPPORTED_WEIGHT = int(WEIGHT * random.uniform(2.5, 8))\n",
    "                \n",
    "                # new.write(L+' '+W+' '+H)\n",
    "                new.write(f' {L} {W} {H} {WEIGHT} {SUPPORTED_WEIGHT}\\n')\n",
    "\n",
    "                #read second line\n",
    "                n = int(file.readline())\n",
    "                new.write(f' {n}\\n')\n",
    "                #read n lines\n",
    "\n",
    "                for i in range(n):\n",
    "                    id, l, rotx, w, roty, h, rotz, n = [int(x) for x in file.readline().split()]\n",
    "                    weight = int(l * w * h * random.uniform(0.6,0.9))\n",
    "                    weight_s = int(weight*2)\n",
    "                    new.write(f' {id} {l} {rotx} {w} {roty} {h} {rotz} {n} {weight} {weight_s}\\n')"
   ]
  },
  {
   "cell_type": "code",
   "execution_count": 4,
   "metadata": {},
   "outputs": [
    {
     "ename": "ValueError",
     "evalue": "too many values to unpack (expected 4)",
     "output_type": "error",
     "traceback": [
      "\u001b[1;31m---------------------------------------------------------------------------\u001b[0m",
      "\u001b[1;31mValueError\u001b[0m                                Traceback (most recent call last)",
      "Cell \u001b[1;32mIn[4], line 30\u001b[0m\n\u001b[0;32m     26\u001b[0m                             stacking_weight_resistance \u001b[39m=\u001b[39m \u001b[39mint\u001b[39m(weight_s \u001b[39m*\u001b[39m random\u001b[39m.\u001b[39muniform(\u001b[39m0.6\u001b[39m, \u001b[39m4\u001b[39m))\n\u001b[0;32m     28\u001b[0m                             new\u001b[39m.\u001b[39mwrite(\u001b[39mf\u001b[39m\u001b[39m'\u001b[39m\u001b[39m \u001b[39m\u001b[39m{\u001b[39;00m\u001b[39mid\u001b[39m\u001b[39m}\u001b[39;00m\u001b[39m \u001b[39m\u001b[39m{\u001b[39;00ml\u001b[39m}\u001b[39;00m\u001b[39m \u001b[39m\u001b[39m{\u001b[39;00mrotx\u001b[39m}\u001b[39;00m\u001b[39m \u001b[39m\u001b[39m{\u001b[39;00mw\u001b[39m}\u001b[39;00m\u001b[39m \u001b[39m\u001b[39m{\u001b[39;00mroty\u001b[39m}\u001b[39;00m\u001b[39m \u001b[39m\u001b[39m{\u001b[39;00mh\u001b[39m}\u001b[39;00m\u001b[39m \u001b[39m\u001b[39m{\u001b[39;00mrotz\u001b[39m}\u001b[39;00m\u001b[39m \u001b[39m\u001b[39m{\u001b[39;00mn\u001b[39m}\u001b[39;00m\u001b[39m \u001b[39m\u001b[39m{\u001b[39;00mweight\u001b[39m}\u001b[39;00m\u001b[39m \u001b[39m\u001b[39m{\u001b[39;00mweight_s\u001b[39m}\u001b[39;00m\u001b[39m \u001b[39m\u001b[39m{\u001b[39;00mstacking_weight_resistance\u001b[39m}\u001b[39;00m\u001b[39m\\n\u001b[39;00m\u001b[39m'\u001b[39m)\n\u001b[1;32m---> 30\u001b[0m add_stacking_weight_resistance()\n",
      "Cell \u001b[1;32mIn[4], line 16\u001b[0m, in \u001b[0;36madd_stacking_weight_resistance\u001b[1;34m()\u001b[0m\n\u001b[0;32m     14\u001b[0m \u001b[39mfor\u001b[39;00m j \u001b[39min\u001b[39;00m \u001b[39mrange\u001b[39m(\u001b[39m100\u001b[39m):\n\u001b[0;32m     15\u001b[0m     new\u001b[39m.\u001b[39mwrite(file\u001b[39m.\u001b[39mreadline())\n\u001b[1;32m---> 16\u001b[0m     L, W, H, weight \u001b[39m=\u001b[39m [\u001b[39mint\u001b[39m(x) \u001b[39mfor\u001b[39;00m x \u001b[39min\u001b[39;00m file\u001b[39m.\u001b[39mreadline()\u001b[39m.\u001b[39msplit()]\n\u001b[0;32m     17\u001b[0m     stacking_weight_resistance \u001b[39m=\u001b[39m \u001b[39mint\u001b[39m(weight \u001b[39m*\u001b[39m random\u001b[39m.\u001b[39muniform(\u001b[39m0.8\u001b[39m, \u001b[39m4\u001b[39m)) \u001b[39m#ver si se cambia el criterio de resistencia\u001b[39;00m\n\u001b[0;32m     19\u001b[0m     new\u001b[39m.\u001b[39mwrite(\u001b[39mf\u001b[39m\u001b[39m'\u001b[39m\u001b[39m \u001b[39m\u001b[39m{\u001b[39;00mL\u001b[39m}\u001b[39;00m\u001b[39m \u001b[39m\u001b[39m{\u001b[39;00mW\u001b[39m}\u001b[39;00m\u001b[39m \u001b[39m\u001b[39m{\u001b[39;00mH\u001b[39m}\u001b[39;00m\u001b[39m \u001b[39m\u001b[39m{\u001b[39;00mweight\u001b[39m}\u001b[39;00m\u001b[39m \u001b[39m\u001b[39m{\u001b[39;00mstacking_weight_resistance\u001b[39m}\u001b[39;00m\u001b[39m\\n\u001b[39;00m\u001b[39m'\u001b[39m)\n",
      "\u001b[1;31mValueError\u001b[0m: too many values to unpack (expected 4)"
     ]
    }
   ],
   "source": [
    "def add_stacking_weight_resistance():\n",
    "    path = './new_data/'\n",
    "    new_path = './new_data_stacking/'\n",
    "    \n",
    "    if not os.path.exists(new_path):\n",
    "        os.makedirs(new_path)\n",
    "    \n",
    "    for root, dirs, files in os.walk(path):\n",
    "        for item in files:\n",
    "            with open(path + item, \"r\") as file:\n",
    "                with open(new_path + item, 'w') as new:\n",
    "                    new.write(file.readline())\n",
    "                    \n",
    "                    for j in range(100):\n",
    "                        new.write(file.readline())\n",
    "                        L, W, H, weight = [int(x) for x in file.readline().split()]\n",
    "                        stacking_weight_resistance = int(weight * random.uniform(0.8, 4)) #ver si se cambia el criterio de resistencia\n",
    "                        \n",
    "                        new.write(f' {L} {W} {H} {weight} {stacking_weight_resistance}\\n')\n",
    "\n",
    "                        n = int(file.readline())\n",
    "                        new.write(f' {n}\\n')\n",
    "                        \n",
    "                        for i in range(n):\n",
    "                            id, l, rotx, w, roty, h, rotz, n, weight, weight_s = [int(x) for x in file.readline().split()]\n",
    "                            stacking_weight_resistance = int(weight_s * random.uniform(0.6, 4))\n",
    "                            \n",
    "                            new.write(f' {id} {l} {rotx} {w} {roty} {h} {rotz} {n} {weight} {weight_s} {stacking_weight_resistance}\\n')\n",
    "\n",
    "add_stacking_weight_resistance()\n"
   ]
  }
 ],
 "metadata": {
  "kernelspec": {
   "display_name": "Python 3",
   "language": "python",
   "name": "python3"
  },
  "language_info": {
   "codemirror_mode": {
    "name": "ipython",
    "version": 3
   },
   "file_extension": ".py",
   "mimetype": "text/x-python",
   "name": "python",
   "nbconvert_exporter": "python",
   "pygments_lexer": "ipython3",
   "version": "3.10.11"
  },
  "orig_nbformat": 4
 },
 "nbformat": 4,
 "nbformat_minor": 2
}
